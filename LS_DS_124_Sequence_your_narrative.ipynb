{
  "nbformat": 4,
  "nbformat_minor": 0,
  "metadata": {
    "colab": {
      "name": "LS_DS_124_Sequence_your_narrative.ipynb",
      "version": "0.3.2",
      "provenance": [],
      "collapsed_sections": [],
      "include_colab_link": true
    },
    "kernelspec": {
      "display_name": "Python 3",
      "language": "python",
      "name": "python3"
    }
  },
  "cells": [
    {
      "cell_type": "markdown",
      "metadata": {
        "id": "view-in-github",
        "colab_type": "text"
      },
      "source": [
        "<a href=\"https://colab.research.google.com/github/Rawab/DS-Sprint-02-Storytelling-With-Data/blob/master/LS_DS_124_Sequence_your_narrative.ipynb\" target=\"_parent\"><img src=\"https://colab.research.google.com/assets/colab-badge.svg\" alt=\"Open In Colab\"/></a>"
      ]
    },
    {
      "metadata": {
        "id": "11NsOyxtCQC2",
        "colab_type": "text"
      },
      "cell_type": "markdown",
      "source": [
        "_Lambda School Data Science_\n",
        "\n",
        "# Sequence your narrative\n",
        "\n",
        "Create a sequence of visualizations inspired by [Hans Rosling's 200 Countries, 200 Years, 4 Minutes](https://www.youtube.com/watch?v=jbkSRLYSojo).\n",
        "\n",
        "Using this [data from Gapminder](https://github.com/open-numbers/ddf--gapminder--systema_globalis/):\n",
        "- https://raw.githubusercontent.com/open-numbers/ddf--gapminder--systema_globalis/master/ddf--datapoints--income_per_person_gdppercapita_ppp_inflation_adjusted--by--geo--time.csv\n",
        "- https://raw.githubusercontent.com/open-numbers/ddf--gapminder--systema_globalis/master/ddf--datapoints--life_expectancy_years--by--geo--time.csv\n",
        "- https://raw.githubusercontent.com/open-numbers/ddf--gapminder--systema_globalis/master/ddf--entities--geo--country.csv\n",
        "- https://raw.githubusercontent.com/open-numbers/ddf--gapminder--systema_globalis/master/ddf--concepts.csv\n",
        "\n",
        "### Stretch goals\n",
        "- [ipywidgets](https://github.com/jupyter-widgets/ipywidgets)\n",
        "- [Matplotlib animation](https://matplotlib.org/examples/animation/index.html)\n",
        "- [Connected scatter plots](http://www.thefunctionalart.com/2012/09/in-praise-of-connected-scatter-plots.html)\n",
        "- [Idyll markup language](https://idyll-lang.org/) for \"scrollytelling\""
      ]
    },
    {
      "metadata": {
        "id": "Eyg7R5_nCQDC",
        "colab_type": "code",
        "colab": {}
      },
      "cell_type": "code",
      "source": [
        "!pip install --upgrade seaborn"
      ],
      "execution_count": 0,
      "outputs": []
    },
    {
      "metadata": {
        "id": "Coj9dzlJHXb6",
        "colab_type": "code",
        "colab": {
          "base_uri": "https://localhost:8080/",
          "height": 35
        },
        "outputId": "63b64c7a-c98a-4d3e-a73f-463dc516e000"
      },
      "cell_type": "code",
      "source": [
        "import seaborn as sns\n",
        "sns.__version__"
      ],
      "execution_count": 15,
      "outputs": [
        {
          "output_type": "execute_result",
          "data": {
            "text/plain": [
              "'0.9.0'"
            ]
          },
          "metadata": {
            "tags": []
          },
          "execution_count": 15
        }
      ]
    },
    {
      "metadata": {
        "id": "chyFZXwzHcdN",
        "colab_type": "code",
        "colab": {}
      },
      "cell_type": "code",
      "source": [
        "%matplotlib inline\n",
        "import matplotlib.pyplot as plt\n",
        "import numpy as np\n",
        "import pandas as pd"
      ],
      "execution_count": 0,
      "outputs": []
    },
    {
      "metadata": {
        "id": "dG5n7OsVHsA3",
        "colab_type": "code",
        "colab": {}
      },
      "cell_type": "code",
      "source": [
        "employment = pd.read_csv('https://raw.githubusercontent.com/open-numbers/ddf--gapminder--systema_globalis/master/ddf--datapoints--aged_15plus_employment_rate_percent--by--geo--time.csv')\n",
        "# x-axis\n",
        "work_week =pd.read_csv('https://raw.githubusercontent.com/open-numbers/ddf--gapminder--systema_globalis/master/ddf--datapoints--working_hours_per_week--by--geo--time.csv')\n",
        "# y-axis\n",
        "income = pd.read_csv('https://raw.githubusercontent.com/open-numbers/ddf--gapminder--systema_globalis/master/ddf--datapoints--income_per_person_gdppercapita_ppp_inflation_adjusted--by--geo--time.csv')\n",
        "# size\n",
        "#lifespan = pd.read_csv('https://raw.githubusercontent.com/open-numbers/ddf--gapminder--systema_globalis/master/ddf--datapoints--life_expectancy_years--by--geo--time.csv')\n",
        "\n",
        "#population = pd.read_csv('https://raw.githubusercontent.com/open-numbers/ddf--gapminder--systema_globalis/master/ddf--datapoints--population_total--by--geo--time.csv')\n",
        "\n",
        "entities = pd.read_csv('https://raw.githubusercontent.com/open-numbers/ddf--gapminder--systema_globalis/master/ddf--entities--geo--country.csv')\n",
        "# color for region\n",
        "concepts = pd.read_csv('https://raw.githubusercontent.com/open-numbers/ddf--gapminder--systema_globalis/master/ddf--concepts.csv')"
      ],
      "execution_count": 0,
      "outputs": []
    },
    {
      "metadata": {
        "id": "-A5dSehTjSbk",
        "colab_type": "text"
      },
      "cell_type": "markdown",
      "source": [
        "Expectations: \n",
        "\n",
        "\n",
        "> Increase in employment => Increased income, Decreased work week\n",
        "\n",
        "> Increase in time => Increased employment, increased income, decreased work week\n",
        "\n"
      ]
    },
    {
      "metadata": {
        "id": "zt69FwfmITtP",
        "colab_type": "code",
        "colab": {
          "base_uri": "https://localhost:8080/",
          "height": 35
        },
        "outputId": "14e91de4-b5a0-4c4b-89c9-10d17e02722e"
      },
      "cell_type": "code",
      "source": [
        "employment.shape, work_week.shape, income.shape, entities.shape, concepts.shape"
      ],
      "execution_count": 20,
      "outputs": [
        {
          "output_type": "execute_result",
          "data": {
            "text/plain": [
              "((6048, 3), (1625, 3), (44268, 3), (44370, 3), (273, 33), (590, 16))"
            ]
          },
          "metadata": {
            "tags": []
          },
          "execution_count": 20
        }
      ]
    },
    {
      "metadata": {
        "id": "hwAJU3IyIY1d",
        "colab_type": "code",
        "colab": {
          "base_uri": "https://localhost:8080/",
          "height": 206
        },
        "outputId": "c20ddba8-e0db-427c-830c-c926bf3432b8"
      },
      "cell_type": "code",
      "source": [
        "employment.head()"
      ],
      "execution_count": 14,
      "outputs": [
        {
          "output_type": "execute_result",
          "data": {
            "text/html": [
              "<div>\n",
              "<style scoped>\n",
              "    .dataframe tbody tr th:only-of-type {\n",
              "        vertical-align: middle;\n",
              "    }\n",
              "\n",
              "    .dataframe tbody tr th {\n",
              "        vertical-align: top;\n",
              "    }\n",
              "\n",
              "    .dataframe thead th {\n",
              "        text-align: right;\n",
              "    }\n",
              "</style>\n",
              "<table border=\"1\" class=\"dataframe\">\n",
              "  <thead>\n",
              "    <tr style=\"text-align: right;\">\n",
              "      <th></th>\n",
              "      <th>geo</th>\n",
              "      <th>time</th>\n",
              "      <th>aged_15plus_employment_rate_percent</th>\n",
              "    </tr>\n",
              "  </thead>\n",
              "  <tbody>\n",
              "    <tr>\n",
              "      <th>0</th>\n",
              "      <td>afg</td>\n",
              "      <td>1991</td>\n",
              "      <td>45.331</td>\n",
              "    </tr>\n",
              "    <tr>\n",
              "      <th>1</th>\n",
              "      <td>afg</td>\n",
              "      <td>1992</td>\n",
              "      <td>46.178</td>\n",
              "    </tr>\n",
              "    <tr>\n",
              "      <th>2</th>\n",
              "      <td>afg</td>\n",
              "      <td>1993</td>\n",
              "      <td>45.381</td>\n",
              "    </tr>\n",
              "    <tr>\n",
              "      <th>3</th>\n",
              "      <td>afg</td>\n",
              "      <td>1994</td>\n",
              "      <td>45.467</td>\n",
              "    </tr>\n",
              "    <tr>\n",
              "      <th>4</th>\n",
              "      <td>afg</td>\n",
              "      <td>1995</td>\n",
              "      <td>47.369</td>\n",
              "    </tr>\n",
              "  </tbody>\n",
              "</table>\n",
              "</div>"
            ],
            "text/plain": [
              "   geo  time  aged_15plus_employment_rate_percent\n",
              "0  afg  1991                               45.331\n",
              "1  afg  1992                               46.178\n",
              "2  afg  1993                               45.381\n",
              "3  afg  1994                               45.467\n",
              "4  afg  1995                               47.369"
            ]
          },
          "metadata": {
            "tags": []
          },
          "execution_count": 14
        }
      ]
    },
    {
      "metadata": {
        "id": "CE7Xh7Dyk9kw",
        "colab_type": "code",
        "colab": {
          "base_uri": "https://localhost:8080/",
          "height": 147
        },
        "outputId": "5528fe2f-b9c6-4fc9-db48-6884bb6a900d"
      },
      "cell_type": "code",
      "source": [
        "entities[entities.country=='afg']"
      ],
      "execution_count": 23,
      "outputs": [
        {
          "output_type": "execute_result",
          "data": {
            "text/html": [
              "<div>\n",
              "<style scoped>\n",
              "    .dataframe tbody tr th:only-of-type {\n",
              "        vertical-align: middle;\n",
              "    }\n",
              "\n",
              "    .dataframe tbody tr th {\n",
              "        vertical-align: top;\n",
              "    }\n",
              "\n",
              "    .dataframe thead th {\n",
              "        text-align: right;\n",
              "    }\n",
              "</style>\n",
              "<table border=\"1\" class=\"dataframe\">\n",
              "  <thead>\n",
              "    <tr style=\"text-align: right;\">\n",
              "      <th></th>\n",
              "      <th>country</th>\n",
              "      <th>alt_5</th>\n",
              "      <th>alternative_1</th>\n",
              "      <th>alternative_2</th>\n",
              "      <th>alternative_3</th>\n",
              "      <th>alternative_4_cdiac</th>\n",
              "      <th>arb1</th>\n",
              "      <th>arb2</th>\n",
              "      <th>arb3</th>\n",
              "      <th>arb4</th>\n",
              "      <th>...</th>\n",
              "      <th>latitude</th>\n",
              "      <th>longitude</th>\n",
              "      <th>main_religion_2008</th>\n",
              "      <th>name</th>\n",
              "      <th>pandg</th>\n",
              "      <th>un_state</th>\n",
              "      <th>unicode_region_subtag</th>\n",
              "      <th>upper_case_name</th>\n",
              "      <th>world_4region</th>\n",
              "      <th>world_6region</th>\n",
              "    </tr>\n",
              "  </thead>\n",
              "  <tbody>\n",
              "    <tr>\n",
              "      <th>2</th>\n",
              "      <td>afg</td>\n",
              "      <td>NaN</td>\n",
              "      <td>Islamic Republic of Afghanistan</td>\n",
              "      <td>NaN</td>\n",
              "      <td>NaN</td>\n",
              "      <td>Afghanistan</td>\n",
              "      <td>NaN</td>\n",
              "      <td>NaN</td>\n",
              "      <td>NaN</td>\n",
              "      <td>NaN</td>\n",
              "      <td>...</td>\n",
              "      <td>33.0</td>\n",
              "      <td>66.0</td>\n",
              "      <td>muslim</td>\n",
              "      <td>Afghanistan</td>\n",
              "      <td>AFGHANISTAN</td>\n",
              "      <td>True</td>\n",
              "      <td>AF</td>\n",
              "      <td>AFGHANISTAN</td>\n",
              "      <td>asia</td>\n",
              "      <td>south_asia</td>\n",
              "    </tr>\n",
              "  </tbody>\n",
              "</table>\n",
              "<p>1 rows × 33 columns</p>\n",
              "</div>"
            ],
            "text/plain": [
              "  country alt_5                    alternative_1 alternative_2 alternative_3  \\\n",
              "2     afg   NaN  Islamic Republic of Afghanistan           NaN           NaN   \n",
              "\n",
              "  alternative_4_cdiac arb1 arb2 arb3 arb4      ...      latitude longitude  \\\n",
              "2         Afghanistan  NaN  NaN  NaN  NaN      ...          33.0      66.0   \n",
              "\n",
              "  main_religion_2008         name        pandg un_state unicode_region_subtag  \\\n",
              "2             muslim  Afghanistan  AFGHANISTAN     True                    AF   \n",
              "\n",
              "   upper_case_name world_4region world_6region  \n",
              "2      AFGHANISTAN          asia    south_asia  \n",
              "\n",
              "[1 rows x 33 columns]"
            ]
          },
          "metadata": {
            "tags": []
          },
          "execution_count": 23
        }
      ]
    },
    {
      "metadata": {
        "id": "Q5twt9QwlD6X",
        "colab_type": "code",
        "colab": {}
      },
      "cell_type": "code",
      "source": [
        "variables = ['country', 'name', 'world_6region']"
      ],
      "execution_count": 0,
      "outputs": []
    },
    {
      "metadata": {
        "id": "TOzZQo9XlVJP",
        "colab_type": "code",
        "colab": {
          "base_uri": "https://localhost:8080/",
          "height": 206
        },
        "outputId": "7c8b3991-fb28-48cf-ec15-c66191c41eee"
      },
      "cell_type": "code",
      "source": [
        "df = pd.merge(employment, work_week)\n",
        "df = pd.merge(df, income)\n",
        "df.head()"
      ],
      "execution_count": 58,
      "outputs": [
        {
          "output_type": "execute_result",
          "data": {
            "text/html": [
              "<div>\n",
              "<style scoped>\n",
              "    .dataframe tbody tr th:only-of-type {\n",
              "        vertical-align: middle;\n",
              "    }\n",
              "\n",
              "    .dataframe tbody tr th {\n",
              "        vertical-align: top;\n",
              "    }\n",
              "\n",
              "    .dataframe thead th {\n",
              "        text-align: right;\n",
              "    }\n",
              "</style>\n",
              "<table border=\"1\" class=\"dataframe\">\n",
              "  <thead>\n",
              "    <tr style=\"text-align: right;\">\n",
              "      <th></th>\n",
              "      <th>geo</th>\n",
              "      <th>time</th>\n",
              "      <th>aged_15plus_employment_rate_percent</th>\n",
              "      <th>working_hours_per_week</th>\n",
              "      <th>income_per_person_gdppercapita_ppp_inflation_adjusted</th>\n",
              "    </tr>\n",
              "  </thead>\n",
              "  <tbody>\n",
              "    <tr>\n",
              "      <th>0</th>\n",
              "      <td>alb</td>\n",
              "      <td>1998</td>\n",
              "      <td>48.795</td>\n",
              "      <td>39.0000</td>\n",
              "      <td>4461</td>\n",
              "    </tr>\n",
              "    <tr>\n",
              "      <th>1</th>\n",
              "      <td>alb</td>\n",
              "      <td>2007</td>\n",
              "      <td>48.373</td>\n",
              "      <td>44.9111</td>\n",
              "      <td>8448</td>\n",
              "    </tr>\n",
              "    <tr>\n",
              "      <th>2</th>\n",
              "      <td>alb</td>\n",
              "      <td>2008</td>\n",
              "      <td>47.871</td>\n",
              "      <td>42.2220</td>\n",
              "      <td>9154</td>\n",
              "    </tr>\n",
              "    <tr>\n",
              "      <th>3</th>\n",
              "      <td>alb</td>\n",
              "      <td>2009</td>\n",
              "      <td>47.030</td>\n",
              "      <td>42.1400</td>\n",
              "      <td>9525</td>\n",
              "    </tr>\n",
              "    <tr>\n",
              "      <th>4</th>\n",
              "      <td>alb</td>\n",
              "      <td>2010</td>\n",
              "      <td>46.564</td>\n",
              "      <td>41.1420</td>\n",
              "      <td>9927</td>\n",
              "    </tr>\n",
              "  </tbody>\n",
              "</table>\n",
              "</div>"
            ],
            "text/plain": [
              "   geo  time  aged_15plus_employment_rate_percent  working_hours_per_week  \\\n",
              "0  alb  1998                               48.795                 39.0000   \n",
              "1  alb  2007                               48.373                 44.9111   \n",
              "2  alb  2008                               47.871                 42.2220   \n",
              "3  alb  2009                               47.030                 42.1400   \n",
              "4  alb  2010                               46.564                 41.1420   \n",
              "\n",
              "   income_per_person_gdppercapita_ppp_inflation_adjusted  \n",
              "0                                               4461      \n",
              "1                                               8448      \n",
              "2                                               9154      \n",
              "3                                               9525      \n",
              "4                                               9927      "
            ]
          },
          "metadata": {
            "tags": []
          },
          "execution_count": 58
        }
      ]
    },
    {
      "metadata": {
        "id": "LBAEPWiil5Wc",
        "colab_type": "code",
        "colab": {}
      },
      "cell_type": "code",
      "source": [
        "df = pd.merge(df, entities[variables], how='inner',\n",
        "              left_on='geo', right_on='country')"
      ],
      "execution_count": 0,
      "outputs": []
    },
    {
      "metadata": {
        "id": "9cSiuUyEmvEN",
        "colab_type": "code",
        "colab": {
          "base_uri": "https://localhost:8080/",
          "height": 225
        },
        "outputId": "c64a06f9-dde9-4f07-e896-281f454c02cd"
      },
      "cell_type": "code",
      "source": [
        "df.drop(columns=['geo', 'country'], inplace=True)\n",
        "\n",
        "df.rename(columns={'time': 'year',\n",
        "                  'aged_15plus_employment_rate_percent': 'employmentrate',\n",
        "                  'working_hours_per_week': 'workweek',\n",
        "                  'income_per_person_gdppercapita_ppp_inflation_adjusted': 'income',\n",
        "                   'name': 'country',\n",
        "                  'world_6region': 'region'},\n",
        "         inplace=True)\n",
        "\n",
        "print(df.shape) # Drop in observations due to inner joining\n",
        "df.head()"
      ],
      "execution_count": 60,
      "outputs": [
        {
          "output_type": "stream",
          "text": [
            "(1530, 6)\n"
          ],
          "name": "stdout"
        },
        {
          "output_type": "execute_result",
          "data": {
            "text/html": [
              "<div>\n",
              "<style scoped>\n",
              "    .dataframe tbody tr th:only-of-type {\n",
              "        vertical-align: middle;\n",
              "    }\n",
              "\n",
              "    .dataframe tbody tr th {\n",
              "        vertical-align: top;\n",
              "    }\n",
              "\n",
              "    .dataframe thead th {\n",
              "        text-align: right;\n",
              "    }\n",
              "</style>\n",
              "<table border=\"1\" class=\"dataframe\">\n",
              "  <thead>\n",
              "    <tr style=\"text-align: right;\">\n",
              "      <th></th>\n",
              "      <th>year</th>\n",
              "      <th>employmentrate</th>\n",
              "      <th>workweek</th>\n",
              "      <th>income</th>\n",
              "      <th>country</th>\n",
              "      <th>region</th>\n",
              "    </tr>\n",
              "  </thead>\n",
              "  <tbody>\n",
              "    <tr>\n",
              "      <th>0</th>\n",
              "      <td>1998</td>\n",
              "      <td>48.795</td>\n",
              "      <td>39.0000</td>\n",
              "      <td>4461</td>\n",
              "      <td>Albania</td>\n",
              "      <td>europe_central_asia</td>\n",
              "    </tr>\n",
              "    <tr>\n",
              "      <th>1</th>\n",
              "      <td>2007</td>\n",
              "      <td>48.373</td>\n",
              "      <td>44.9111</td>\n",
              "      <td>8448</td>\n",
              "      <td>Albania</td>\n",
              "      <td>europe_central_asia</td>\n",
              "    </tr>\n",
              "    <tr>\n",
              "      <th>2</th>\n",
              "      <td>2008</td>\n",
              "      <td>47.871</td>\n",
              "      <td>42.2220</td>\n",
              "      <td>9154</td>\n",
              "      <td>Albania</td>\n",
              "      <td>europe_central_asia</td>\n",
              "    </tr>\n",
              "    <tr>\n",
              "      <th>3</th>\n",
              "      <td>2009</td>\n",
              "      <td>47.030</td>\n",
              "      <td>42.1400</td>\n",
              "      <td>9525</td>\n",
              "      <td>Albania</td>\n",
              "      <td>europe_central_asia</td>\n",
              "    </tr>\n",
              "    <tr>\n",
              "      <th>4</th>\n",
              "      <td>2010</td>\n",
              "      <td>46.564</td>\n",
              "      <td>41.1420</td>\n",
              "      <td>9927</td>\n",
              "      <td>Albania</td>\n",
              "      <td>europe_central_asia</td>\n",
              "    </tr>\n",
              "  </tbody>\n",
              "</table>\n",
              "</div>"
            ],
            "text/plain": [
              "   year  employmentrate  workweek  income  country               region\n",
              "0  1998          48.795   39.0000    4461  Albania  europe_central_asia\n",
              "1  2007          48.373   44.9111    8448  Albania  europe_central_asia\n",
              "2  2008          47.871   42.2220    9154  Albania  europe_central_asia\n",
              "3  2009          47.030   42.1400    9525  Albania  europe_central_asia\n",
              "4  2010          46.564   41.1420    9927  Albania  europe_central_asia"
            ]
          },
          "metadata": {
            "tags": []
          },
          "execution_count": 60
        }
      ]
    },
    {
      "metadata": {
        "id": "n8F3Ycq5nyjG",
        "colab_type": "code",
        "colab": {
          "base_uri": "https://localhost:8080/",
          "height": 495
        },
        "outputId": "23909bdb-d2ac-40bb-814f-8f1e965af580"
      },
      "cell_type": "code",
      "source": [
        "df.country.unique()"
      ],
      "execution_count": 61,
      "outputs": [
        {
          "output_type": "execute_result",
          "data": {
            "text/plain": [
              "array(['Albania', 'United Arab Emirates', 'Argentina', 'Armenia',\n",
              "       'Australia', 'Austria', 'Azerbaijan', 'Belgium', 'Benin',\n",
              "       'Burkina Faso', 'Bangladesh', 'Bulgaria', 'Bosnia and Herzegovina',\n",
              "       'Belarus', 'Belize', 'Bolivia', 'Brazil', 'Brunei', 'Botswana',\n",
              "       'Canada', 'Switzerland', 'Chile', 'China', \"Cote d'Ivoire\",\n",
              "       'Congo, Dem. Rep.', 'Colombia', 'Costa Rica', 'Cuba', 'Cyprus',\n",
              "       'Czech Republic', 'Germany', 'Denmark', 'Dominican Republic',\n",
              "       'Algeria', 'Ecuador', 'Egypt', 'Spain', 'Estonia', 'Ethiopia',\n",
              "       'Finland', 'France', 'United Kingdom', 'Ghana', 'Gambia', 'Greece',\n",
              "       'Guatemala', 'Hong Kong, China', 'Honduras', 'Croatia', 'Hungary',\n",
              "       'Indonesia', 'Ireland', 'Iran', 'Iceland', 'Israel', 'Italy',\n",
              "       'Jamaica', 'Japan', 'Kazakhstan', 'Kenya', 'Kyrgyz Republic',\n",
              "       'Cambodia', 'South Korea', 'Lao', 'Liberia', 'Sri Lanka',\n",
              "       'Lithuania', 'Luxembourg', 'Latvia', 'Macao, China', 'Morocco',\n",
              "       'Moldova', 'Madagascar', 'Maldives', 'Mexico', 'Macedonia, FYR',\n",
              "       'Mali', 'Malta', 'Myanmar', 'Montenegro', 'Mongolia', 'Mozambique',\n",
              "       'Mauritius', 'Malaysia', 'Namibia', 'Nigeria', 'Nicaragua',\n",
              "       'Netherlands', 'Norway', 'Nepal', 'New Zealand', 'Pakistan',\n",
              "       'Panama', 'Peru', 'Philippines', 'Poland', 'Portugal', 'Paraguay',\n",
              "       'Palestine', 'Qatar', 'Romania', 'Russia', 'Rwanda',\n",
              "       'Saudi Arabia', 'Senegal', 'Singapore', 'Sierra Leone',\n",
              "       'El Salvador', 'Serbia', 'Slovak Republic', 'Slovenia', 'Sweden',\n",
              "       'Thailand', 'Tajikistan', 'Timor-Leste', 'Turkey', 'Tanzania',\n",
              "       'Uganda', 'Ukraine', 'Uruguay', 'United States', 'Venezuela',\n",
              "       'Vietnam', 'Samoa', 'Yemen', 'South Africa', 'Zimbabwe'],\n",
              "      dtype=object)"
            ]
          },
          "metadata": {
            "tags": []
          },
          "execution_count": 61
        }
      ]
    },
    {
      "metadata": {
        "id": "OJAiLunPozWM",
        "colab_type": "code",
        "colab": {
          "base_uri": "https://localhost:8080/",
          "height": 206
        },
        "outputId": "2e010564-3b7a-4317-f536-95ed3917ceda"
      },
      "cell_type": "code",
      "source": [
        "big = df[df.country.isin(['United States','China','Russia','India'])]\n",
        "big[big.year.isin([1985, 1995, 2005, 2015])] # 1985 is missing"
      ],
      "execution_count": 103,
      "outputs": [
        {
          "output_type": "execute_result",
          "data": {
            "text/html": [
              "<div>\n",
              "<style scoped>\n",
              "    .dataframe tbody tr th:only-of-type {\n",
              "        vertical-align: middle;\n",
              "    }\n",
              "\n",
              "    .dataframe tbody tr th {\n",
              "        vertical-align: top;\n",
              "    }\n",
              "\n",
              "    .dataframe thead th {\n",
              "        text-align: right;\n",
              "    }\n",
              "</style>\n",
              "<table border=\"1\" class=\"dataframe\">\n",
              "  <thead>\n",
              "    <tr style=\"text-align: right;\">\n",
              "      <th></th>\n",
              "      <th>year</th>\n",
              "      <th>employmentrate</th>\n",
              "      <th>workweek</th>\n",
              "      <th>income</th>\n",
              "      <th>country</th>\n",
              "      <th>region</th>\n",
              "    </tr>\n",
              "  </thead>\n",
              "  <tbody>\n",
              "    <tr>\n",
              "      <th>254</th>\n",
              "      <td>2005</td>\n",
              "      <td>70.341</td>\n",
              "      <td>47.8000</td>\n",
              "      <td>5719</td>\n",
              "      <td>China</td>\n",
              "      <td>east_asia_pacific</td>\n",
              "    </tr>\n",
              "    <tr>\n",
              "      <th>1311</th>\n",
              "      <td>2015</td>\n",
              "      <td>60.112</td>\n",
              "      <td>39.2855</td>\n",
              "      <td>24124</td>\n",
              "      <td>Russia</td>\n",
              "      <td>europe_central_asia</td>\n",
              "    </tr>\n",
              "    <tr>\n",
              "      <th>1472</th>\n",
              "      <td>1995</td>\n",
              "      <td>62.060</td>\n",
              "      <td>39.3000</td>\n",
              "      <td>39476</td>\n",
              "      <td>United States</td>\n",
              "      <td>america</td>\n",
              "    </tr>\n",
              "    <tr>\n",
              "      <th>1482</th>\n",
              "      <td>2005</td>\n",
              "      <td>61.755</td>\n",
              "      <td>36.8802</td>\n",
              "      <td>49762</td>\n",
              "      <td>United States</td>\n",
              "      <td>america</td>\n",
              "    </tr>\n",
              "    <tr>\n",
              "      <th>1492</th>\n",
              "      <td>2015</td>\n",
              "      <td>58.740</td>\n",
              "      <td>36.5766</td>\n",
              "      <td>52790</td>\n",
              "      <td>United States</td>\n",
              "      <td>america</td>\n",
              "    </tr>\n",
              "  </tbody>\n",
              "</table>\n",
              "</div>"
            ],
            "text/plain": [
              "      year  employmentrate  workweek  income        country  \\\n",
              "254   2005          70.341   47.8000    5719          China   \n",
              "1311  2015          60.112   39.2855   24124         Russia   \n",
              "1472  1995          62.060   39.3000   39476  United States   \n",
              "1482  2005          61.755   36.8802   49762  United States   \n",
              "1492  2015          58.740   36.5766   52790  United States   \n",
              "\n",
              "                   region  \n",
              "254     east_asia_pacific  \n",
              "1311  europe_central_asia  \n",
              "1472              america  \n",
              "1482              america  \n",
              "1492              america  "
            ]
          },
          "metadata": {
            "tags": []
          },
          "execution_count": 103
        }
      ]
    },
    {
      "metadata": {
        "id": "lnZIbPvMqx55",
        "colab_type": "code",
        "colab": {
          "base_uri": "https://localhost:8080/",
          "height": 206
        },
        "outputId": "996d6425-f7b5-400f-84de-95e3a43de724"
      },
      "cell_type": "code",
      "source": [
        "year2015 = df[df.year==2015]\n",
        "year2015.sample(5)"
      ],
      "execution_count": 68,
      "outputs": [
        {
          "output_type": "execute_result",
          "data": {
            "text/html": [
              "<div>\n",
              "<style scoped>\n",
              "    .dataframe tbody tr th:only-of-type {\n",
              "        vertical-align: middle;\n",
              "    }\n",
              "\n",
              "    .dataframe tbody tr th {\n",
              "        vertical-align: top;\n",
              "    }\n",
              "\n",
              "    .dataframe thead th {\n",
              "        text-align: right;\n",
              "    }\n",
              "</style>\n",
              "<table border=\"1\" class=\"dataframe\">\n",
              "  <thead>\n",
              "    <tr style=\"text-align: right;\">\n",
              "      <th></th>\n",
              "      <th>year</th>\n",
              "      <th>employmentrate</th>\n",
              "      <th>workweek</th>\n",
              "      <th>income</th>\n",
              "      <th>country</th>\n",
              "      <th>region</th>\n",
              "    </tr>\n",
              "  </thead>\n",
              "  <tbody>\n",
              "    <tr>\n",
              "      <th>437</th>\n",
              "      <td>2015</td>\n",
              "      <td>41.709</td>\n",
              "      <td>46.1678</td>\n",
              "      <td>10096</td>\n",
              "      <td>Egypt</td>\n",
              "      <td>middle_east_north_africa</td>\n",
              "    </tr>\n",
              "    <tr>\n",
              "      <th>1135</th>\n",
              "      <td>2015</td>\n",
              "      <td>51.265</td>\n",
              "      <td>47.0445</td>\n",
              "      <td>4695</td>\n",
              "      <td>Pakistan</td>\n",
              "      <td>south_asia</td>\n",
              "    </tr>\n",
              "    <tr>\n",
              "      <th>1279</th>\n",
              "      <td>2015</td>\n",
              "      <td>87.420</td>\n",
              "      <td>50.0000</td>\n",
              "      <td>119749</td>\n",
              "      <td>Qatar</td>\n",
              "      <td>middle_east_north_africa</td>\n",
              "    </tr>\n",
              "    <tr>\n",
              "      <th>1343</th>\n",
              "      <td>2015</td>\n",
              "      <td>42.689</td>\n",
              "      <td>41.8897</td>\n",
              "      <td>13278</td>\n",
              "      <td>Serbia</td>\n",
              "      <td>europe_central_asia</td>\n",
              "    </tr>\n",
              "    <tr>\n",
              "      <th>1104</th>\n",
              "      <td>2015</td>\n",
              "      <td>62.100</td>\n",
              "      <td>34.3340</td>\n",
              "      <td>63670</td>\n",
              "      <td>Norway</td>\n",
              "      <td>europe_central_asia</td>\n",
              "    </tr>\n",
              "  </tbody>\n",
              "</table>\n",
              "</div>"
            ],
            "text/plain": [
              "      year  employmentrate  workweek  income   country  \\\n",
              "437   2015          41.709   46.1678   10096     Egypt   \n",
              "1135  2015          51.265   47.0445    4695  Pakistan   \n",
              "1279  2015          87.420   50.0000  119749     Qatar   \n",
              "1343  2015          42.689   41.8897   13278    Serbia   \n",
              "1104  2015          62.100   34.3340   63670    Norway   \n",
              "\n",
              "                        region  \n",
              "437   middle_east_north_africa  \n",
              "1135                south_asia  \n",
              "1279  middle_east_north_africa  \n",
              "1343       europe_central_asia  \n",
              "1104       europe_central_asia  "
            ]
          },
          "metadata": {
            "tags": []
          },
          "execution_count": 68
        }
      ]
    },
    {
      "metadata": {
        "id": "a-c_tM35rOZO",
        "colab_type": "code",
        "colab": {
          "base_uri": "https://localhost:8080/",
          "height": 369
        },
        "outputId": "2f1885c0-1756-46eb-89e7-cce659327cea"
      },
      "cell_type": "code",
      "source": [
        "sns.relplot(x='employmentrate', y='workweek',\n",
        "            hue='region', size='income', data=year2015);"
      ],
      "execution_count": 71,
      "outputs": [
        {
          "output_type": "display_data",
          "data": {
            "image/png": "[encoded data removed]",
            "text/plain": [
              "<matplotlib.figure.Figure at 0x7fd9c9905ba8>"
            ]
          },
          "metadata": {
            "tags": []
          }
        }
      ]
    },
    {
      "metadata": {
        "id": "vylKNAa0sn5r",
        "colab_type": "code",
        "colab": {
          "base_uri": "https://localhost:8080/",
          "height": 269
        },
        "outputId": "36f26c62-5490-424a-df4a-150e5ef7d4af"
      },
      "cell_type": "code",
      "source": [
        "year2015[year2015.employmentrate > 70]\n",
        "# Suprised by Ghana, Nepal, and Vietnam\n",
        "# Very low income"
      ],
      "execution_count": 72,
      "outputs": [
        {
          "output_type": "execute_result",
          "data": {
            "text/html": [
              "<div>\n",
              "<style scoped>\n",
              "    .dataframe tbody tr th:only-of-type {\n",
              "        vertical-align: middle;\n",
              "    }\n",
              "\n",
              "    .dataframe tbody tr th {\n",
              "        vertical-align: top;\n",
              "    }\n",
              "\n",
              "    .dataframe thead th {\n",
              "        text-align: right;\n",
              "    }\n",
              "</style>\n",
              "<table border=\"1\" class=\"dataframe\">\n",
              "  <thead>\n",
              "    <tr style=\"text-align: right;\">\n",
              "      <th></th>\n",
              "      <th>year</th>\n",
              "      <th>employmentrate</th>\n",
              "      <th>workweek</th>\n",
              "      <th>income</th>\n",
              "      <th>country</th>\n",
              "      <th>region</th>\n",
              "    </tr>\n",
              "  </thead>\n",
              "  <tbody>\n",
              "    <tr>\n",
              "      <th>565</th>\n",
              "      <td>2015</td>\n",
              "      <td>75.064</td>\n",
              "      <td>35.0635</td>\n",
              "      <td>3930</td>\n",
              "      <td>Ghana</td>\n",
              "      <td>sub_saharan_africa</td>\n",
              "    </tr>\n",
              "    <tr>\n",
              "      <th>737</th>\n",
              "      <td>2015</td>\n",
              "      <td>73.953</td>\n",
              "      <td>40.0029</td>\n",
              "      <td>42674</td>\n",
              "      <td>Iceland</td>\n",
              "      <td>europe_central_asia</td>\n",
              "    </tr>\n",
              "    <tr>\n",
              "      <th>938</th>\n",
              "      <td>2015</td>\n",
              "      <td>70.310</td>\n",
              "      <td>46.0000</td>\n",
              "      <td>100518</td>\n",
              "      <td>Macao, China</td>\n",
              "      <td>east_asia_pacific</td>\n",
              "    </tr>\n",
              "    <tr>\n",
              "      <th>1108</th>\n",
              "      <td>2015</td>\n",
              "      <td>81.520</td>\n",
              "      <td>53.6000</td>\n",
              "      <td>2301</td>\n",
              "      <td>Nepal</td>\n",
              "      <td>south_asia</td>\n",
              "    </tr>\n",
              "    <tr>\n",
              "      <th>1167</th>\n",
              "      <td>2015</td>\n",
              "      <td>73.787</td>\n",
              "      <td>39.0245</td>\n",
              "      <td>11768</td>\n",
              "      <td>Peru</td>\n",
              "      <td>america</td>\n",
              "    </tr>\n",
              "    <tr>\n",
              "      <th>1279</th>\n",
              "      <td>2015</td>\n",
              "      <td>87.420</td>\n",
              "      <td>50.0000</td>\n",
              "      <td>119749</td>\n",
              "      <td>Qatar</td>\n",
              "      <td>middle_east_north_africa</td>\n",
              "    </tr>\n",
              "    <tr>\n",
              "      <th>1512</th>\n",
              "      <td>2015</td>\n",
              "      <td>76.834</td>\n",
              "      <td>40.8557</td>\n",
              "      <td>5667</td>\n",
              "      <td>Vietnam</td>\n",
              "      <td>east_asia_pacific</td>\n",
              "    </tr>\n",
              "  </tbody>\n",
              "</table>\n",
              "</div>"
            ],
            "text/plain": [
              "      year  employmentrate  workweek  income       country  \\\n",
              "565   2015          75.064   35.0635    3930         Ghana   \n",
              "737   2015          73.953   40.0029   42674       Iceland   \n",
              "938   2015          70.310   46.0000  100518  Macao, China   \n",
              "1108  2015          81.520   53.6000    2301         Nepal   \n",
              "1167  2015          73.787   39.0245   11768          Peru   \n",
              "1279  2015          87.420   50.0000  119749         Qatar   \n",
              "1512  2015          76.834   40.8557    5667       Vietnam   \n",
              "\n",
              "                        region  \n",
              "565         sub_saharan_africa  \n",
              "737        europe_central_asia  \n",
              "938          east_asia_pacific  \n",
              "1108                south_asia  \n",
              "1167                   america  \n",
              "1279  middle_east_north_africa  \n",
              "1512         east_asia_pacific  "
            ]
          },
          "metadata": {
            "tags": []
          },
          "execution_count": 72
        }
      ]
    },
    {
      "metadata": {
        "id": "-Wye9VGht33s",
        "colab_type": "code",
        "colab": {
          "base_uri": "https://localhost:8080/",
          "height": 81
        },
        "outputId": "1295ca11-d253-48fd-d63a-3683436b8a7d"
      },
      "cell_type": "code",
      "source": [
        "year2015[year2015.country=='United States']"
      ],
      "execution_count": 80,
      "outputs": [
        {
          "output_type": "execute_result",
          "data": {
            "text/html": [
              "<div>\n",
              "<style scoped>\n",
              "    .dataframe tbody tr th:only-of-type {\n",
              "        vertical-align: middle;\n",
              "    }\n",
              "\n",
              "    .dataframe tbody tr th {\n",
              "        vertical-align: top;\n",
              "    }\n",
              "\n",
              "    .dataframe thead th {\n",
              "        text-align: right;\n",
              "    }\n",
              "</style>\n",
              "<table border=\"1\" class=\"dataframe\">\n",
              "  <thead>\n",
              "    <tr style=\"text-align: right;\">\n",
              "      <th></th>\n",
              "      <th>year</th>\n",
              "      <th>employmentrate</th>\n",
              "      <th>workweek</th>\n",
              "      <th>income</th>\n",
              "      <th>country</th>\n",
              "      <th>region</th>\n",
              "    </tr>\n",
              "  </thead>\n",
              "  <tbody>\n",
              "    <tr>\n",
              "      <th>1492</th>\n",
              "      <td>2015</td>\n",
              "      <td>58.74</td>\n",
              "      <td>36.5766</td>\n",
              "      <td>52790</td>\n",
              "      <td>United States</td>\n",
              "      <td>america</td>\n",
              "    </tr>\n",
              "  </tbody>\n",
              "</table>\n",
              "</div>"
            ],
            "text/plain": [
              "      year  employmentrate  workweek  income        country   region\n",
              "1492  2015           58.74   36.5766   52790  United States  america"
            ]
          },
          "metadata": {
            "tags": []
          },
          "execution_count": 80
        }
      ]
    },
    {
      "metadata": {
        "id": "lcrLBNfHxH1C",
        "colab_type": "code",
        "colab": {}
      },
      "cell_type": "code",
      "source": [
        "qatar = year2015[year2015.country == 'Qatar']\n",
        "nepal = year2015[year2015.country == 'Nepal']"
      ],
      "execution_count": 0,
      "outputs": []
    },
    {
      "metadata": {
        "id": "HBQsroRIt3mM",
        "colab_type": "code",
        "colab": {
          "base_uri": "https://localhost:8080/",
          "height": 382
        },
        "outputId": "a3cc7691-abb0-470c-81fe-c474763a3f64"
      },
      "cell_type": "code",
      "source": [
        "sns.relplot(x='employmentrate', y='workweek',\n",
        "            hue='region', size='income', data=year2015);\n",
        "\n",
        "plt.text(x=qatar.employmentrate.values[0]-.02, \n",
        "         y=qatar.workweek.values[0]+1,\n",
        "        s='Qatar')\n",
        "\n",
        "plt.text(x=nepal.employmentrate.values[0]-.02, \n",
        "         y=nepal.workweek.values[0]+1,\n",
        "        s='Nepal')\n",
        "\n",
        "plt.title('Qatar is Rich! Nepal is Poor?');"
      ],
      "execution_count": 87,
      "outputs": [
        {
          "output_type": "display_data",
          "data": {
            "image/png": "[encoded data removed]",
            "text/plain": [
              "<matplotlib.figure.Figure at 0x7fd9cc6066a0>"
            ]
          },
          "metadata": {
            "tags": []
          }
        }
      ]
    },
    {
      "metadata": {
        "id": "wXw0LABjweai",
        "colab_type": "code",
        "colab": {
          "base_uri": "https://localhost:8080/",
          "height": 206
        },
        "outputId": "3272a010-67e9-4494-b320-60a1559b2648"
      },
      "cell_type": "code",
      "source": [
        "years = [2010, 2011, 2012, 2013, 2014, 2015]\n",
        "decade = df[df.year.isin(years)]\n",
        "decade.sample(5)"
      ],
      "execution_count": 95,
      "outputs": [
        {
          "output_type": "execute_result",
          "data": {
            "text/html": [
              "<div>\n",
              "<style scoped>\n",
              "    .dataframe tbody tr th:only-of-type {\n",
              "        vertical-align: middle;\n",
              "    }\n",
              "\n",
              "    .dataframe tbody tr th {\n",
              "        vertical-align: top;\n",
              "    }\n",
              "\n",
              "    .dataframe thead th {\n",
              "        text-align: right;\n",
              "    }\n",
              "</style>\n",
              "<table border=\"1\" class=\"dataframe\">\n",
              "  <thead>\n",
              "    <tr style=\"text-align: right;\">\n",
              "      <th></th>\n",
              "      <th>year</th>\n",
              "      <th>employmentrate</th>\n",
              "      <th>workweek</th>\n",
              "      <th>income</th>\n",
              "      <th>country</th>\n",
              "      <th>region</th>\n",
              "    </tr>\n",
              "  </thead>\n",
              "  <tbody>\n",
              "    <tr>\n",
              "      <th>166</th>\n",
              "      <td>2015</td>\n",
              "      <td>63.942</td>\n",
              "      <td>36.46154</td>\n",
              "      <td>17230</td>\n",
              "      <td>Belarus</td>\n",
              "      <td>europe_central_asia</td>\n",
              "    </tr>\n",
              "    <tr>\n",
              "      <th>1488</th>\n",
              "      <td>2011</td>\n",
              "      <td>57.376</td>\n",
              "      <td>36.23920</td>\n",
              "      <td>49791</td>\n",
              "      <td>United States</td>\n",
              "      <td>america</td>\n",
              "    </tr>\n",
              "    <tr>\n",
              "      <th>1323</th>\n",
              "      <td>2011</td>\n",
              "      <td>65.066</td>\n",
              "      <td>45.90000</td>\n",
              "      <td>75013</td>\n",
              "      <td>Singapore</td>\n",
              "      <td>east_asia_pacific</td>\n",
              "    </tr>\n",
              "    <tr>\n",
              "      <th>953</th>\n",
              "      <td>2014</td>\n",
              "      <td>63.540</td>\n",
              "      <td>41.00000</td>\n",
              "      <td>11899</td>\n",
              "      <td>Maldives</td>\n",
              "      <td>south_asia</td>\n",
              "    </tr>\n",
              "    <tr>\n",
              "      <th>130</th>\n",
              "      <td>2011</td>\n",
              "      <td>68.986</td>\n",
              "      <td>41.55420</td>\n",
              "      <td>1821</td>\n",
              "      <td>Benin</td>\n",
              "      <td>sub_saharan_africa</td>\n",
              "    </tr>\n",
              "  </tbody>\n",
              "</table>\n",
              "</div>"
            ],
            "text/plain": [
              "      year  employmentrate  workweek  income        country  \\\n",
              "166   2015          63.942  36.46154   17230        Belarus   \n",
              "1488  2011          57.376  36.23920   49791  United States   \n",
              "1323  2011          65.066  45.90000   75013      Singapore   \n",
              "953   2014          63.540  41.00000   11899       Maldives   \n",
              "130   2011          68.986  41.55420    1821          Benin   \n",
              "\n",
              "                   region  \n",
              "166   europe_central_asia  \n",
              "1488              america  \n",
              "1323    east_asia_pacific  \n",
              "953            south_asia  \n",
              "130    sub_saharan_africa  "
            ]
          },
          "metadata": {
            "tags": []
          },
          "execution_count": 95
        }
      ]
    },
    {
      "metadata": {
        "id": "kH_jZkxyymij",
        "colab_type": "code",
        "colab": {}
      },
      "cell_type": "code",
      "source": [
        "for year in years:\n",
        "  sns.relplot(x='employmentrate', y='workweek', hue='region',\n",
        "             size='income', data=df[df.year==year]);"
      ],
      "execution_count": 0,
      "outputs": []
    },
    {
      "metadata": {
        "id": "wtXGffJA0VXV",
        "colab_type": "code",
        "colab": {}
      },
      "cell_type": "code",
      "source": [
        "year = 2000 #@param {type: \"slider\", min:1985, max: 2015, step:1}\n",
        "\n",
        "sns.relplot(x='employmentrate', y='workweek', hue='region',\n",
        "            size='income', data=df[df.year==year]);"
      ],
      "execution_count": 0,
      "outputs": []
    },
    {
      "metadata": {
        "id": "JaN14CPz0vP1",
        "colab_type": "code",
        "colab": {
          "base_uri": "https://localhost:8080/",
          "height": 2135
        },
        "outputId": "6ad7d082-5b3a-48aa-f712-48a9743db647"
      },
      "cell_type": "code",
      "source": [
        "from google.colab import widgets\n",
        "tb = widgets.TabBar([str(year) for year in years])\n",
        "for tab, year in zip(tb, years):\n",
        "  sns.relplot(x='employmentrate', y='workweek', hue='region',\n",
        "              size='income', data=df[df.year==year]);\n",
        "  plt.xlim(20, 90)\n",
        "  plt.ylim(30, 60)"
      ],
      "execution_count": 101,
      "outputs": [
        {
          "output_type": "display_data",
          "data": {
            "text/html": [
              "<link rel=stylesheet type=text/css href='/nbextensions/google.colab/tabbar.css'></link>"
            ],
            "text/plain": [
              "<IPython.core.display.HTML object>"
            ]
          },
          "metadata": {
            "tags": [
              "outputarea_id2"
            ]
          }
        },
        {
          "output_type": "display_data",
          "data": {
            "text/html": [
              "<script src='/nbextensions/google.colab/tabbar_main.min.js'></script>"
            ],
            "text/plain": [
              "<IPython.core.display.HTML object>"
            ]
          },
          "metadata": {
            "tags": [
              "outputarea_id2"
            ]
          }
        },
        {
          "output_type": "display_data",
          "data": {
            "text/html": [
              "<div id=\"id2\"></div>"
            ],
            "text/plain": [
              "<IPython.core.display.HTML object>"
            ]
          },
          "metadata": {
            "tags": [
              "outputarea_id2"
            ]
          }
        },
        {
          "output_type": "display_data",
          "data": {
            "application/javascript": [
              "window[\"45be4ed8-e933-11e8-84a2-0242ac1c0002\"] = colab_lib.createTabBar({\"location\": \"top\", \"elementId\": \"id2\", \"tabNames\": [\"2010\", \"2011\", \"2012\", \"2013\", \"2014\", \"2015\"], \"initialSelection\": 0, \"contentBorder\": [\"0px\"], \"contentHeight\": [\"initial\"], \"borderColor\": [\"#a7a7a7\"]});\n",
              "//# sourceURL=js_7b908353ff"
            ],
            "text/plain": [
              "<IPython.core.display.Javascript object>"
            ]
          },
          "metadata": {
            "tags": [
              "outputarea_id2"
            ]
          }
        },
        {
          "output_type": "display_data",
          "data": {
            "application/javascript": [
              "window[\"45bef93c-e933-11e8-84a2-0242ac1c0002\"] = window[\"id2\"].setSelectedTabIndex(0);\n",
              "//# sourceURL=js_a68275755a"
            ],
            "text/plain": [
              "<IPython.core.display.Javascript object>"
            ]
          },
          "metadata": {
            "tags": [
              "outputarea_id2"
            ]
          }
        },
        {
          "output_type": "display_data",
          "data": {
            "application/javascript": [
              "window[\"45c0fcf0-e933-11e8-84a2-0242ac1c0002\"] = google.colab.output.getActiveOutputArea();\n",
              "//# sourceURL=js_a49d62e01a"
            ],
            "text/plain": [
              "<IPython.core.display.Javascript object>"
            ]
          },
          "metadata": {
            "tags": [
              "id2_content_0",
              "outputarea_id2"
            ]
          }
        },
        {
          "output_type": "display_data",
          "data": {
            "application/javascript": [
              "window[\"45c13332-e933-11e8-84a2-0242ac1c0002\"] = document.querySelector(\"#id2_content_0\");\n",
              "//# sourceURL=js_6ce926b8a8"
            ],
            "text/plain": [
              "<IPython.core.display.Javascript object>"
            ]
          },
          "metadata": {
            "tags": [
              "id2_content_0",
              "outputarea_id2"
            ]
          }
        },
        {
          "output_type": "display_data",
          "data": {
            "application/javascript": [
              "window[\"45c1a132-e933-11e8-84a2-0242ac1c0002\"] = google.colab.output.setActiveOutputArea(window[\"45c13332-e933-11e8-84a2-0242ac1c0002\"]);\n",
              "//# sourceURL=js_3d4ddebdeb"
            ],
            "text/plain": [
              "<IPython.core.display.Javascript object>"
            ]
          },
          "metadata": {
            "tags": [
              "id2_content_0",
              "outputarea_id2"
            ]
          }
        },
        {
          "output_type": "display_data",
          "data": {
            "application/javascript": [
              "window[\"45c1fde4-e933-11e8-84a2-0242ac1c0002\"] = window[\"id2\"].setSelectedTabIndex(0);\n",
              "//# sourceURL=js_6f5212cd0a"
            ],
            "text/plain": [
              "<IPython.core.display.Javascript object>"
            ]
          },
          "metadata": {
            "tags": [
              "id2_content_0",
              "outputarea_id2"
            ]
          }
        },
        {
          "output_type": "display_data",
          "data": {
            "image/png": "[encoded data removed]",
            "text/plain": [
              "<matplotlib.figure.Figure at 0x7fd9c91fdc88>"
            ]
          },
          "metadata": {
            "tags": [
              "id2_content_0",
              "outputarea_id2",
              "user_output"
            ]
          }
        },
        {
          "output_type": "display_data",
          "data": {
            "application/javascript": [
              "window[\"46008c44-e933-11e8-84a2-0242ac1c0002\"] = google.colab.output.setActiveOutputArea(window[\"45c0fcf0-e933-11e8-84a2-0242ac1c0002\"]);\n",
              "//# sourceURL=js_28b3ef0184"
            ],
            "text/plain": [
              "<IPython.core.display.Javascript object>"
            ]
          },
          "metadata": {
            "tags": [
              "id2_content_0",
              "outputarea_id2"
            ]
          }
        },
        {
          "output_type": "display_data",
          "data": {
            "application/javascript": [
              "window[\"46039696-e933-11e8-84a2-0242ac1c0002\"] = google.colab.output.getActiveOutputArea();\n",
              "//# sourceURL=js_2b68973511"
            ],
            "text/plain": [
              "<IPython.core.display.Javascript object>"
            ]
          },
          "metadata": {
            "tags": [
              "id2_content_1",
              "outputarea_id2"
            ]
          }
        },
        {
          "output_type": "display_data",
          "data": {
            "application/javascript": [
              "window[\"46040e8c-e933-11e8-84a2-0242ac1c0002\"] = document.querySelector(\"#id2_content_1\");\n",
              "//# sourceURL=js_1a98223c70"
            ],
            "text/plain": [
              "<IPython.core.display.Javascript object>"
            ]
          },
          "metadata": {
            "tags": [
              "id2_content_1",
              "outputarea_id2"
            ]
          }
        },
        {
          "output_type": "display_data",
          "data": {
            "application/javascript": [
              "window[\"46046f4e-e933-11e8-84a2-0242ac1c0002\"] = google.colab.output.setActiveOutputArea(window[\"46040e8c-e933-11e8-84a2-0242ac1c0002\"]);\n",
              "//# sourceURL=js_9cdbf5090b"
            ],
            "text/plain": [
              "<IPython.core.display.Javascript object>"
            ]
          },
          "metadata": {
            "tags": [
              "id2_content_1",
              "outputarea_id2"
            ]
          }
        },
        {
          "output_type": "display_data",
          "data": {
            "application/javascript": [
              "window[\"4604b9ea-e933-11e8-84a2-0242ac1c0002\"] = window[\"id2\"].setSelectedTabIndex(1);\n",
              "//# sourceURL=js_91afc91c76"
            ],
            "text/plain": [
              "<IPython.core.display.Javascript object>"
            ]
          },
          "metadata": {
            "tags": [
              "id2_content_1",
              "outputarea_id2"
            ]
          }
        },
        {
          "output_type": "display_data",
          "data": {
            "image/png": "[encoded data removed]",
            "text/plain": [
              "<matplotlib.figure.Figure at 0x7fd9c91216a0>"
            ]
          },
          "metadata": {
            "tags": [
              "id2_content_1",
              "outputarea_id2",
              "user_output"
            ]
          }
        },
        {
          "output_type": "display_data",
          "data": {
            "application/javascript": [
              "window[\"463ede04-e933-11e8-84a2-0242ac1c0002\"] = google.colab.output.setActiveOutputArea(window[\"46039696-e933-11e8-84a2-0242ac1c0002\"]);\n",
              "//# sourceURL=js_294a5d6a45"
            ],
            "text/plain": [
              "<IPython.core.display.Javascript object>"
            ]
          },
          "metadata": {
            "tags": [
              "id2_content_1",
              "outputarea_id2"
            ]
          }
        },
        {
          "output_type": "display_data",
          "data": {
            "application/javascript": [
              "window[\"46417010-e933-11e8-84a2-0242ac1c0002\"] = google.colab.output.getActiveOutputArea();\n",
              "//# sourceURL=js_87d1d0bd38"
            ],
            "text/plain": [
              "<IPython.core.display.Javascript object>"
            ]
          },
          "metadata": {
            "tags": [
              "id2_content_2",
              "outputarea_id2"
            ]
          }
        },
        {
          "output_type": "display_data",
          "data": {
            "application/javascript": [
              "window[\"4641ecac-e933-11e8-84a2-0242ac1c0002\"] = document.querySelector(\"#id2_content_2\");\n",
              "//# sourceURL=js_7d8094cea6"
            ],
            "text/plain": [
              "<IPython.core.display.Javascript object>"
            ]
          },
          "metadata": {
            "tags": [
              "id2_content_2",
              "outputarea_id2"
            ]
          }
        },
        {
          "output_type": "display_data",
          "data": {
            "application/javascript": [
              "window[\"46422e56-e933-11e8-84a2-0242ac1c0002\"] = google.colab.output.setActiveOutputArea(window[\"4641ecac-e933-11e8-84a2-0242ac1c0002\"]);\n",
              "//# sourceURL=js_a27f0b450e"
            ],
            "text/plain": [
              "<IPython.core.display.Javascript object>"
            ]
          },
          "metadata": {
            "tags": [
              "id2_content_2",
              "outputarea_id2"
            ]
          }
        },
        {
          "output_type": "display_data",
          "data": {
            "application/javascript": [
              "window[\"46427776-e933-11e8-84a2-0242ac1c0002\"] = window[\"id2\"].setSelectedTabIndex(2);\n",
              "//# sourceURL=js_ac475a32e9"
            ],
            "text/plain": [
              "<IPython.core.display.Javascript object>"
            ]
          },
          "metadata": {
            "tags": [
              "id2_content_2",
              "outputarea_id2"
            ]
          }
        },
        {
          "output_type": "display_data",
          "data": {
            "image/png": "[encoded data removed]",
            "text/plain": [
              "<matplotlib.figure.Figure at 0x7fd9c9625780>"
            ]
          },
          "metadata": {
            "tags": [
              "id2_content_2",
              "outputarea_id2",
              "user_output"
            ]
          }
        },
        {
          "output_type": "display_data",
          "data": {
            "application/javascript": [
              "window[\"468729b6-e933-11e8-84a2-0242ac1c0002\"] = google.colab.output.setActiveOutputArea(window[\"46417010-e933-11e8-84a2-0242ac1c0002\"]);\n",
              "//# sourceURL=js_3aaf06b867"
            ],
            "text/plain": [
              "<IPython.core.display.Javascript object>"
            ]
          },
          "metadata": {
            "tags": [
              "id2_content_2",
              "outputarea_id2"
            ]
          }
        },
        {
          "output_type": "display_data",
          "data": {
            "application/javascript": [
              "window[\"4689ef34-e933-11e8-84a2-0242ac1c0002\"] = google.colab.output.getActiveOutputArea();\n",
              "//# sourceURL=js_79f6910953"
            ],
            "text/plain": [
              "<IPython.core.display.Javascript object>"
            ]
          },
          "metadata": {
            "tags": [
              "id2_content_3",
              "outputarea_id2"
            ]
          }
        },
        {
          "output_type": "display_data",
          "data": {
            "application/javascript": [
              "window[\"468a457e-e933-11e8-84a2-0242ac1c0002\"] = document.querySelector(\"#id2_content_3\");\n",
              "//# sourceURL=js_976c44518e"
            ],
            "text/plain": [
              "<IPython.core.display.Javascript object>"
            ]
          },
          "metadata": {
            "tags": [
              "id2_content_3",
              "outputarea_id2"
            ]
          }
        },
        {
          "output_type": "display_data",
          "data": {
            "application/javascript": [
              "window[\"468a8584-e933-11e8-84a2-0242ac1c0002\"] = google.colab.output.setActiveOutputArea(window[\"468a457e-e933-11e8-84a2-0242ac1c0002\"]);\n",
              "//# sourceURL=js_c5bd356cb2"
            ],
            "text/plain": [
              "<IPython.core.display.Javascript object>"
            ]
          },
          "metadata": {
            "tags": [
              "id2_content_3",
              "outputarea_id2"
            ]
          }
        },
        {
          "output_type": "display_data",
          "data": {
            "application/javascript": [
              "window[\"468ada20-e933-11e8-84a2-0242ac1c0002\"] = window[\"id2\"].setSelectedTabIndex(3);\n",
              "//# sourceURL=js_72a5e2ad59"
            ],
            "text/plain": [
              "<IPython.core.display.Javascript object>"
            ]
          },
          "metadata": {
            "tags": [
              "id2_content_3",
              "outputarea_id2"
            ]
          }
        },
        {
          "output_type": "display_data",
          "data": {
            "image/png": "[encoded data removed]",
            "text/plain": [
              "<matplotlib.figure.Figure at 0x7fd9c98cbfd0>"
            ]
          },
          "metadata": {
            "tags": [
              "id2_content_3",
              "outputarea_id2",
              "user_output"
            ]
          }
        },
        {
          "output_type": "display_data",
          "data": {
            "application/javascript": [
              "window[\"46d099f2-e933-11e8-84a2-0242ac1c0002\"] = google.colab.output.setActiveOutputArea(window[\"4689ef34-e933-11e8-84a2-0242ac1c0002\"]);\n",
              "//# sourceURL=js_fff7aea7ae"
            ],
            "text/plain": [
              "<IPython.core.display.Javascript object>"
            ]
          },
          "metadata": {
            "tags": [
              "id2_content_3",
              "outputarea_id2"
            ]
          }
        },
        {
          "output_type": "display_data",
          "data": {
            "application/javascript": [
              "window[\"46d2b00c-e933-11e8-84a2-0242ac1c0002\"] = google.colab.output.getActiveOutputArea();\n",
              "//# sourceURL=js_01b6788c10"
            ],
            "text/plain": [
              "<IPython.core.display.Javascript object>"
            ]
          },
          "metadata": {
            "tags": [
              "id2_content_4",
              "outputarea_id2"
            ]
          }
        },
        {
          "output_type": "display_data",
          "data": {
            "application/javascript": [
              "window[\"46d2e4a0-e933-11e8-84a2-0242ac1c0002\"] = document.querySelector(\"#id2_content_4\");\n",
              "//# sourceURL=js_26abffbb3e"
            ],
            "text/plain": [
              "<IPython.core.display.Javascript object>"
            ]
          },
          "metadata": {
            "tags": [
              "id2_content_4",
              "outputarea_id2"
            ]
          }
        },
        {
          "output_type": "display_data",
          "data": {
            "application/javascript": [
              "window[\"46d337e8-e933-11e8-84a2-0242ac1c0002\"] = google.colab.output.setActiveOutputArea(window[\"46d2e4a0-e933-11e8-84a2-0242ac1c0002\"]);\n",
              "//# sourceURL=js_037fdfa0b9"
            ],
            "text/plain": [
              "<IPython.core.display.Javascript object>"
            ]
          },
          "metadata": {
            "tags": [
              "id2_content_4",
              "outputarea_id2"
            ]
          }
        },
        {
          "output_type": "display_data",
          "data": {
            "application/javascript": [
              "window[\"46d36542-e933-11e8-84a2-0242ac1c0002\"] = window[\"id2\"].setSelectedTabIndex(4);\n",
              "//# sourceURL=js_62e4bd31e6"
            ],
            "text/plain": [
              "<IPython.core.display.Javascript object>"
            ]
          },
          "metadata": {
            "tags": [
              "id2_content_4",
              "outputarea_id2"
            ]
          }
        },
        {
          "output_type": "display_data",
          "data": {
            "image/png": "[encoded data removed]",
            "text/plain": [
              "<matplotlib.figure.Figure at 0x7fd9c98eb198>"
            ]
          },
          "metadata": {
            "tags": [
              "id2_content_4",
              "outputarea_id2",
              "user_output"
            ]
          }
        },
        {
          "output_type": "display_data",
          "data": {
            "application/javascript": [
              "window[\"471c2034-e933-11e8-84a2-0242ac1c0002\"] = google.colab.output.setActiveOutputArea(window[\"46d2b00c-e933-11e8-84a2-0242ac1c0002\"]);\n",
              "//# sourceURL=js_87645298f0"
            ],
            "text/plain": [
              "<IPython.core.display.Javascript object>"
            ]
          },
          "metadata": {
            "tags": [
              "id2_content_4",
              "outputarea_id2"
            ]
          }
        },
        {
          "output_type": "display_data",
          "data": {
            "application/javascript": [
              "window[\"471ef570-e933-11e8-84a2-0242ac1c0002\"] = google.colab.output.getActiveOutputArea();\n",
              "//# sourceURL=js_61603f4658"
            ],
            "text/plain": [
              "<IPython.core.display.Javascript object>"
            ]
          },
          "metadata": {
            "tags": [
              "id2_content_5",
              "outputarea_id2"
            ]
          }
        },
        {
          "output_type": "display_data",
          "data": {
            "application/javascript": [
              "window[\"471f5b50-e933-11e8-84a2-0242ac1c0002\"] = document.querySelector(\"#id2_content_5\");\n",
              "//# sourceURL=js_b545a52aad"
            ],
            "text/plain": [
              "<IPython.core.display.Javascript object>"
            ]
          },
          "metadata": {
            "tags": [
              "id2_content_5",
              "outputarea_id2"
            ]
          }
        },
        {
          "output_type": "display_data",
          "data": {
            "application/javascript": [
              "window[\"471fb53c-e933-11e8-84a2-0242ac1c0002\"] = google.colab.output.setActiveOutputArea(window[\"471f5b50-e933-11e8-84a2-0242ac1c0002\"]);\n",
              "//# sourceURL=js_0f5df6de89"
            ],
            "text/plain": [
              "<IPython.core.display.Javascript object>"
            ]
          },
          "metadata": {
            "tags": [
              "id2_content_5",
              "outputarea_id2"
            ]
          }
        },
        {
          "output_type": "display_data",
          "data": {
            "application/javascript": [
              "window[\"471ff5c4-e933-11e8-84a2-0242ac1c0002\"] = window[\"id2\"].setSelectedTabIndex(5);\n",
              "//# sourceURL=js_d0e436544c"
            ],
            "text/plain": [
              "<IPython.core.display.Javascript object>"
            ]
          },
          "metadata": {
            "tags": [
              "id2_content_5",
              "outputarea_id2"
            ]
          }
        },
        {
          "output_type": "display_data",
          "data": {
            "image/png": "[encoded data removed]",
            "text/plain": [
              "<matplotlib.figure.Figure at 0x7fd9c924d2e8>"
            ]
          },
          "metadata": {
            "tags": [
              "id2_content_5",
              "outputarea_id2",
              "user_output"
            ]
          }
        },
        {
          "output_type": "display_data",
          "data": {
            "application/javascript": [
              "window[\"4768cc72-e933-11e8-84a2-0242ac1c0002\"] = google.colab.output.setActiveOutputArea(window[\"471ef570-e933-11e8-84a2-0242ac1c0002\"]);\n",
              "//# sourceURL=js_c46a6caa2d"
            ],
            "text/plain": [
              "<IPython.core.display.Javascript object>"
            ]
          },
          "metadata": {
            "tags": [
              "id2_content_5",
              "outputarea_id2"
            ]
          }
        }
      ]
    }
  ]
}