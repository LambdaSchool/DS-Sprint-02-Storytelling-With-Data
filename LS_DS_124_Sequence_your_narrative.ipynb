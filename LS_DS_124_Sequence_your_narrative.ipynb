{
  "nbformat": 4,
  "nbformat_minor": 0,
  "metadata": {
    "colab": {
      "name": "LS_DS_124_Sequence_your_narrative.ipynb",
      "version": "0.3.2",
      "provenance": [],
      "collapsed_sections": [],
      "include_colab_link": true
    },
    "kernelspec": {
      "display_name": "Python 3",
      "language": "python",
      "name": "python3"
    }
  },
  "cells": [
    {
      "cell_type": "markdown",
      "metadata": {
        "id": "view-in-github",
        "colab_type": "text"
      },
      "source": [
        "<a href=\"https://colab.research.google.com/github/Captmoonshot/DS-Sprint-02-Storytelling-With-Data/blob/master/LS_DS_124_Sequence_your_narrative.ipynb\" target=\"_parent\"><img src=\"https://colab.research.google.com/assets/colab-badge.svg\" alt=\"Open In Colab\"/></a>"
      ]
    },
    {
      "metadata": {
        "id": "ztpxhHMW07DC",
        "colab_type": "text"
      },
      "cell_type": "markdown",
      "source": [
        "_Lambda School Data Science_\n",
        "\n",
        "# Sequence your narrative\n",
        "\n",
        "Create a sequence of visualizations inspired by [Hans Rosling's 200 Countries, 200 Years, 4 Minutes](https://www.youtube.com/watch?v=jbkSRLYSojo).\n",
        "\n",
        "Using this [data from Gapminder](https://github.com/open-numbers/ddf--gapminder--systema_globalis/):\n",
        "- https://raw.githubusercontent.com/open-numbers/ddf--gapminder--systema_globalis/master/ddf--datapoints--income_per_person_gdppercapita_ppp_inflation_adjusted--by--geo--time.csv\n",
        "- https://raw.githubusercontent.com/open-numbers/ddf--gapminder--systema_globalis/master/ddf--datapoints--life_expectancy_years--by--geo--time.csv\n",
        "- https://raw.githubusercontent.com/open-numbers/ddf--gapminder--systema_globalis/master/ddf--entities--geo--country.csv\n",
        "- https://raw.githubusercontent.com/open-numbers/ddf--gapminder--systema_globalis/master/ddf--concepts.csv\n",
        "\n",
        "### Stretch goals\n",
        "- [ipywidgets](https://github.com/jupyter-widgets/ipywidgets)\n",
        "- [Matplotlib animation](https://matplotlib.org/examples/animation/index.html)\n",
        "- [Connected scatter plots](http://www.thefunctionalart.com/2012/09/in-praise-of-connected-scatter-plots.html)\n",
        "- [Idyll markup language](https://idyll-lang.org/) for \"scrollytelling\""
      ]
    },
    {
      "metadata": {
        "id": "79iyZ1LIXEDQ",
        "colab_type": "text"
      },
      "cell_type": "markdown",
      "source": [
        "Variables --> Visual Encodings\n",
        "- Income --> X\n",
        "- Lifespan --> y\n",
        "- Population -->Size\n",
        "- Region --> Color\n",
        "- Year --> time / animation frame (alternative: small multiples)\n",
        "- Country --> annotation\n",
        "\n",
        "Qualitative --> Verbal\n",
        "- Editorial / Contextual explanation --> audio narration (alternative: text)\n",
        "\n",
        "columns   = [ Year, Country, Region, Income, Lifespan, Population]"
      ]
    },
    {
      "metadata": {
        "id": "KNujfwv307DI",
        "colab_type": "code",
        "colab": {
          "base_uri": "https://localhost:8080/",
          "height": 207
        },
        "outputId": "61b13a11-4683-40bc-d2d4-ca2ccb7298bb"
      },
      "cell_type": "code",
      "source": [
        "!pip install --upgrade seaborn"
      ],
      "execution_count": 42,
      "outputs": [
        {
          "output_type": "stream",
          "text": [
            "Requirement already up-to-date: seaborn in /usr/local/lib/python3.6/dist-packages (0.9.0)\n",
            "Requirement already satisfied, skipping upgrade: numpy>=1.9.3 in /usr/local/lib/python3.6/dist-packages (from seaborn) (1.14.6)\n",
            "Requirement already satisfied, skipping upgrade: pandas>=0.15.2 in /usr/local/lib/python3.6/dist-packages (from seaborn) (0.22.0)\n",
            "Requirement already satisfied, skipping upgrade: matplotlib>=1.4.3 in /usr/local/lib/python3.6/dist-packages (from seaborn) (2.1.2)\n",
            "Requirement already satisfied, skipping upgrade: scipy>=0.14.0 in /usr/local/lib/python3.6/dist-packages (from seaborn) (1.1.0)\n",
            "Requirement already satisfied, skipping upgrade: pytz>=2011k in /usr/local/lib/python3.6/dist-packages (from pandas>=0.15.2->seaborn) (2018.7)\n",
            "Requirement already satisfied, skipping upgrade: python-dateutil>=2 in /usr/local/lib/python3.6/dist-packages (from pandas>=0.15.2->seaborn) (2.5.3)\n",
            "Requirement already satisfied, skipping upgrade: six>=1.10 in /usr/local/lib/python3.6/dist-packages (from matplotlib>=1.4.3->seaborn) (1.11.0)\n",
            "Requirement already satisfied, skipping upgrade: cycler>=0.10 in /usr/local/lib/python3.6/dist-packages (from matplotlib>=1.4.3->seaborn) (0.10.0)\n",
            "Requirement already satisfied, skipping upgrade: pyparsing!=2.0.4,!=2.1.2,!=2.1.6,>=2.0.1 in /usr/local/lib/python3.6/dist-packages (from matplotlib>=1.4.3->seaborn) (2.3.0)\n"
          ],
          "name": "stdout"
        }
      ]
    },
    {
      "metadata": {
        "id": "X0TXmLOnW3-k",
        "colab_type": "code",
        "colab": {
          "base_uri": "https://localhost:8080/",
          "height": 34
        },
        "outputId": "3a3188cc-d058-4b4b-934d-9ce2e29f2b08"
      },
      "cell_type": "code",
      "source": [
        "# Restart runtime\n",
        "\n",
        "import seaborn as sns\n",
        "sns.__version__"
      ],
      "execution_count": 2,
      "outputs": [
        {
          "output_type": "execute_result",
          "data": {
            "text/plain": [
              "'0.9.0'"
            ]
          },
          "metadata": {
            "tags": []
          },
          "execution_count": 2
        }
      ]
    },
    {
      "metadata": {
        "id": "b9imb0FUYjpD",
        "colab_type": "code",
        "colab": {}
      },
      "cell_type": "code",
      "source": [
        "import pandas as pd\n",
        "import numpy as np\n",
        "import matplotlib.pyplot as plt\n",
        "%matplotlib inline"
      ],
      "execution_count": 0,
      "outputs": []
    },
    {
      "metadata": {
        "id": "8pnICGbPYsUU",
        "colab_type": "code",
        "colab": {}
      },
      "cell_type": "code",
      "source": [
        "income = pd.read_csv('https://raw.githubusercontent.com/open-numbers/ddf--gapminder--systema_globalis/master/ddf--datapoints--income_per_person_gdppercapita_ppp_inflation_adjusted--by--geo--time.csv')\n",
        "\n"
      ],
      "execution_count": 0,
      "outputs": []
    },
    {
      "metadata": {
        "id": "4krxffITY9a4",
        "colab_type": "code",
        "colab": {}
      },
      "cell_type": "code",
      "source": [
        "life_span = pd.read_csv('https://raw.githubusercontent.com/open-numbers/ddf--gapminder--systema_globalis/master/ddf--datapoints--life_expectancy_years--by--geo--time.csv')"
      ],
      "execution_count": 0,
      "outputs": []
    },
    {
      "metadata": {
        "id": "bGwXH1HLZHKf",
        "colab_type": "code",
        "colab": {}
      },
      "cell_type": "code",
      "source": [
        "population = pd.read_csv('https://raw.githubusercontent.com/open-numbers/ddf--gapminder--systema_globalis/master/ddf--datapoints--population_total--by--geo--time.csv')"
      ],
      "execution_count": 0,
      "outputs": []
    },
    {
      "metadata": {
        "id": "3N_NQyglZ7dN",
        "colab_type": "code",
        "colab": {}
      },
      "cell_type": "code",
      "source": [
        "entities = pd.read_csv('https://raw.githubusercontent.com/open-numbers/ddf--gapminder--systema_globalis/master/ddf--entities--geo--country.csv')"
      ],
      "execution_count": 0,
      "outputs": []
    },
    {
      "metadata": {
        "id": "CsBDNu-baEEj",
        "colab_type": "code",
        "colab": {}
      },
      "cell_type": "code",
      "source": [
        "concepts = pd.read_csv('https://raw.githubusercontent.com/open-numbers/ddf--gapminder--systema_globalis/master/ddf--concepts.csv')"
      ],
      "execution_count": 0,
      "outputs": []
    },
    {
      "metadata": {
        "id": "SqZvPNkcaOB0",
        "colab_type": "code",
        "colab": {
          "base_uri": "https://localhost:8080/",
          "height": 34
        },
        "outputId": "b718c8bd-de93-4ff1-8191-2647ad5ac213"
      },
      "cell_type": "code",
      "source": [
        "income.shape, life_span.shape, population.shape, entities.shape, concepts.shape"
      ],
      "execution_count": 9,
      "outputs": [
        {
          "output_type": "execute_result",
          "data": {
            "text/plain": [
              "((44268, 3), (44370, 3), (51939, 3), (273, 33), (590, 16))"
            ]
          },
          "metadata": {
            "tags": []
          },
          "execution_count": 9
        }
      ]
    },
    {
      "metadata": {
        "id": "hiX8y74kaIvE",
        "colab_type": "code",
        "colab": {
          "base_uri": "https://localhost:8080/",
          "height": 204
        },
        "outputId": "3edc4c64-bdfe-40b4-f8c4-8f66f0b4aeed"
      },
      "cell_type": "code",
      "source": [
        "income.head()"
      ],
      "execution_count": 10,
      "outputs": [
        {
          "output_type": "execute_result",
          "data": {
            "text/html": [
              "<div>\n",
              "<style scoped>\n",
              "    .dataframe tbody tr th:only-of-type {\n",
              "        vertical-align: middle;\n",
              "    }\n",
              "\n",
              "    .dataframe tbody tr th {\n",
              "        vertical-align: top;\n",
              "    }\n",
              "\n",
              "    .dataframe thead th {\n",
              "        text-align: right;\n",
              "    }\n",
              "</style>\n",
              "<table border=\"1\" class=\"dataframe\">\n",
              "  <thead>\n",
              "    <tr style=\"text-align: right;\">\n",
              "      <th></th>\n",
              "      <th>geo</th>\n",
              "      <th>time</th>\n",
              "      <th>income_per_person_gdppercapita_ppp_inflation_adjusted</th>\n",
              "    </tr>\n",
              "  </thead>\n",
              "  <tbody>\n",
              "    <tr>\n",
              "      <th>0</th>\n",
              "      <td>abw</td>\n",
              "      <td>1800</td>\n",
              "      <td>833</td>\n",
              "    </tr>\n",
              "    <tr>\n",
              "      <th>1</th>\n",
              "      <td>abw</td>\n",
              "      <td>1801</td>\n",
              "      <td>833</td>\n",
              "    </tr>\n",
              "    <tr>\n",
              "      <th>2</th>\n",
              "      <td>abw</td>\n",
              "      <td>1802</td>\n",
              "      <td>833</td>\n",
              "    </tr>\n",
              "    <tr>\n",
              "      <th>3</th>\n",
              "      <td>abw</td>\n",
              "      <td>1803</td>\n",
              "      <td>833</td>\n",
              "    </tr>\n",
              "    <tr>\n",
              "      <th>4</th>\n",
              "      <td>abw</td>\n",
              "      <td>1804</td>\n",
              "      <td>833</td>\n",
              "    </tr>\n",
              "  </tbody>\n",
              "</table>\n",
              "</div>"
            ],
            "text/plain": [
              "   geo  time  income_per_person_gdppercapita_ppp_inflation_adjusted\n",
              "0  abw  1800                                                833    \n",
              "1  abw  1801                                                833    \n",
              "2  abw  1802                                                833    \n",
              "3  abw  1803                                                833    \n",
              "4  abw  1804                                                833    "
            ]
          },
          "metadata": {
            "tags": []
          },
          "execution_count": 10
        }
      ]
    },
    {
      "metadata": {
        "id": "8rtH_MLbaMF8",
        "colab_type": "code",
        "colab": {
          "base_uri": "https://localhost:8080/",
          "height": 204
        },
        "outputId": "601ac31b-1be0-4c5d-e206-4e0f72d70ce1"
      },
      "cell_type": "code",
      "source": [
        "life_span.head()"
      ],
      "execution_count": 11,
      "outputs": [
        {
          "output_type": "execute_result",
          "data": {
            "text/html": [
              "<div>\n",
              "<style scoped>\n",
              "    .dataframe tbody tr th:only-of-type {\n",
              "        vertical-align: middle;\n",
              "    }\n",
              "\n",
              "    .dataframe tbody tr th {\n",
              "        vertical-align: top;\n",
              "    }\n",
              "\n",
              "    .dataframe thead th {\n",
              "        text-align: right;\n",
              "    }\n",
              "</style>\n",
              "<table border=\"1\" class=\"dataframe\">\n",
              "  <thead>\n",
              "    <tr style=\"text-align: right;\">\n",
              "      <th></th>\n",
              "      <th>geo</th>\n",
              "      <th>time</th>\n",
              "      <th>life_expectancy_years</th>\n",
              "    </tr>\n",
              "  </thead>\n",
              "  <tbody>\n",
              "    <tr>\n",
              "      <th>0</th>\n",
              "      <td>abw</td>\n",
              "      <td>1800</td>\n",
              "      <td>34.42</td>\n",
              "    </tr>\n",
              "    <tr>\n",
              "      <th>1</th>\n",
              "      <td>abw</td>\n",
              "      <td>1801</td>\n",
              "      <td>34.42</td>\n",
              "    </tr>\n",
              "    <tr>\n",
              "      <th>2</th>\n",
              "      <td>abw</td>\n",
              "      <td>1802</td>\n",
              "      <td>34.42</td>\n",
              "    </tr>\n",
              "    <tr>\n",
              "      <th>3</th>\n",
              "      <td>abw</td>\n",
              "      <td>1803</td>\n",
              "      <td>34.42</td>\n",
              "    </tr>\n",
              "    <tr>\n",
              "      <th>4</th>\n",
              "      <td>abw</td>\n",
              "      <td>1804</td>\n",
              "      <td>34.42</td>\n",
              "    </tr>\n",
              "  </tbody>\n",
              "</table>\n",
              "</div>"
            ],
            "text/plain": [
              "   geo  time  life_expectancy_years\n",
              "0  abw  1800                  34.42\n",
              "1  abw  1801                  34.42\n",
              "2  abw  1802                  34.42\n",
              "3  abw  1803                  34.42\n",
              "4  abw  1804                  34.42"
            ]
          },
          "metadata": {
            "tags": []
          },
          "execution_count": 11
        }
      ]
    },
    {
      "metadata": {
        "id": "cPRzrUiEabGU",
        "colab_type": "code",
        "colab": {
          "base_uri": "https://localhost:8080/",
          "height": 204
        },
        "outputId": "e4b8a3b0-536d-4805-fb07-6e27e5944452"
      },
      "cell_type": "code",
      "source": [
        "population.head()"
      ],
      "execution_count": 12,
      "outputs": [
        {
          "output_type": "execute_result",
          "data": {
            "text/html": [
              "<div>\n",
              "<style scoped>\n",
              "    .dataframe tbody tr th:only-of-type {\n",
              "        vertical-align: middle;\n",
              "    }\n",
              "\n",
              "    .dataframe tbody tr th {\n",
              "        vertical-align: top;\n",
              "    }\n",
              "\n",
              "    .dataframe thead th {\n",
              "        text-align: right;\n",
              "    }\n",
              "</style>\n",
              "<table border=\"1\" class=\"dataframe\">\n",
              "  <thead>\n",
              "    <tr style=\"text-align: right;\">\n",
              "      <th></th>\n",
              "      <th>geo</th>\n",
              "      <th>time</th>\n",
              "      <th>population_total</th>\n",
              "    </tr>\n",
              "  </thead>\n",
              "  <tbody>\n",
              "    <tr>\n",
              "      <th>0</th>\n",
              "      <td>abw</td>\n",
              "      <td>1800</td>\n",
              "      <td>19286</td>\n",
              "    </tr>\n",
              "    <tr>\n",
              "      <th>1</th>\n",
              "      <td>abw</td>\n",
              "      <td>1801</td>\n",
              "      <td>19286</td>\n",
              "    </tr>\n",
              "    <tr>\n",
              "      <th>2</th>\n",
              "      <td>abw</td>\n",
              "      <td>1802</td>\n",
              "      <td>19286</td>\n",
              "    </tr>\n",
              "    <tr>\n",
              "      <th>3</th>\n",
              "      <td>abw</td>\n",
              "      <td>1803</td>\n",
              "      <td>19286</td>\n",
              "    </tr>\n",
              "    <tr>\n",
              "      <th>4</th>\n",
              "      <td>abw</td>\n",
              "      <td>1804</td>\n",
              "      <td>19286</td>\n",
              "    </tr>\n",
              "  </tbody>\n",
              "</table>\n",
              "</div>"
            ],
            "text/plain": [
              "   geo  time  population_total\n",
              "0  abw  1800             19286\n",
              "1  abw  1801             19286\n",
              "2  abw  1802             19286\n",
              "3  abw  1803             19286\n",
              "4  abw  1804             19286"
            ]
          },
          "metadata": {
            "tags": []
          },
          "execution_count": 12
        }
      ]
    },
    {
      "metadata": {
        "id": "fnSYHcCbad0n",
        "colab_type": "code",
        "colab": {
          "base_uri": "https://localhost:8080/",
          "height": 270
        },
        "outputId": "40792b50-3dab-4eca-bbf4-306cb35d3273"
      },
      "cell_type": "code",
      "source": [
        "entities.head()"
      ],
      "execution_count": 13,
      "outputs": [
        {
          "output_type": "execute_result",
          "data": {
            "text/html": [
              "<div>\n",
              "<style scoped>\n",
              "    .dataframe tbody tr th:only-of-type {\n",
              "        vertical-align: middle;\n",
              "    }\n",
              "\n",
              "    .dataframe tbody tr th {\n",
              "        vertical-align: top;\n",
              "    }\n",
              "\n",
              "    .dataframe thead th {\n",
              "        text-align: right;\n",
              "    }\n",
              "</style>\n",
              "<table border=\"1\" class=\"dataframe\">\n",
              "  <thead>\n",
              "    <tr style=\"text-align: right;\">\n",
              "      <th></th>\n",
              "      <th>country</th>\n",
              "      <th>alt_5</th>\n",
              "      <th>alternative_1</th>\n",
              "      <th>alternative_2</th>\n",
              "      <th>alternative_3</th>\n",
              "      <th>alternative_4_cdiac</th>\n",
              "      <th>arb1</th>\n",
              "      <th>arb2</th>\n",
              "      <th>arb3</th>\n",
              "      <th>arb4</th>\n",
              "      <th>...</th>\n",
              "      <th>latitude</th>\n",
              "      <th>longitude</th>\n",
              "      <th>main_religion_2008</th>\n",
              "      <th>name</th>\n",
              "      <th>pandg</th>\n",
              "      <th>un_state</th>\n",
              "      <th>unicode_region_subtag</th>\n",
              "      <th>upper_case_name</th>\n",
              "      <th>world_4region</th>\n",
              "      <th>world_6region</th>\n",
              "    </tr>\n",
              "  </thead>\n",
              "  <tbody>\n",
              "    <tr>\n",
              "      <th>0</th>\n",
              "      <td>abkh</td>\n",
              "      <td>NaN</td>\n",
              "      <td>NaN</td>\n",
              "      <td>NaN</td>\n",
              "      <td>NaN</td>\n",
              "      <td>NaN</td>\n",
              "      <td>NaN</td>\n",
              "      <td>NaN</td>\n",
              "      <td>NaN</td>\n",
              "      <td>NaN</td>\n",
              "      <td>...</td>\n",
              "      <td>NaN</td>\n",
              "      <td>NaN</td>\n",
              "      <td>NaN</td>\n",
              "      <td>Abkhazia</td>\n",
              "      <td>NaN</td>\n",
              "      <td>False</td>\n",
              "      <td>NaN</td>\n",
              "      <td>NaN</td>\n",
              "      <td>europe</td>\n",
              "      <td>europe_central_asia</td>\n",
              "    </tr>\n",
              "    <tr>\n",
              "      <th>1</th>\n",
              "      <td>abw</td>\n",
              "      <td>NaN</td>\n",
              "      <td>NaN</td>\n",
              "      <td>NaN</td>\n",
              "      <td>NaN</td>\n",
              "      <td>Aruba</td>\n",
              "      <td>NaN</td>\n",
              "      <td>NaN</td>\n",
              "      <td>NaN</td>\n",
              "      <td>NaN</td>\n",
              "      <td>...</td>\n",
              "      <td>12.50000</td>\n",
              "      <td>-69.96667</td>\n",
              "      <td>christian</td>\n",
              "      <td>Aruba</td>\n",
              "      <td>NaN</td>\n",
              "      <td>False</td>\n",
              "      <td>AW</td>\n",
              "      <td>ARUBA</td>\n",
              "      <td>americas</td>\n",
              "      <td>america</td>\n",
              "    </tr>\n",
              "    <tr>\n",
              "      <th>2</th>\n",
              "      <td>afg</td>\n",
              "      <td>NaN</td>\n",
              "      <td>Islamic Republic of Afghanistan</td>\n",
              "      <td>NaN</td>\n",
              "      <td>NaN</td>\n",
              "      <td>Afghanistan</td>\n",
              "      <td>NaN</td>\n",
              "      <td>NaN</td>\n",
              "      <td>NaN</td>\n",
              "      <td>NaN</td>\n",
              "      <td>...</td>\n",
              "      <td>33.00000</td>\n",
              "      <td>66.00000</td>\n",
              "      <td>muslim</td>\n",
              "      <td>Afghanistan</td>\n",
              "      <td>AFGHANISTAN</td>\n",
              "      <td>True</td>\n",
              "      <td>AF</td>\n",
              "      <td>AFGHANISTAN</td>\n",
              "      <td>asia</td>\n",
              "      <td>south_asia</td>\n",
              "    </tr>\n",
              "    <tr>\n",
              "      <th>3</th>\n",
              "      <td>ago</td>\n",
              "      <td>NaN</td>\n",
              "      <td>NaN</td>\n",
              "      <td>NaN</td>\n",
              "      <td>NaN</td>\n",
              "      <td>Angola</td>\n",
              "      <td>NaN</td>\n",
              "      <td>NaN</td>\n",
              "      <td>NaN</td>\n",
              "      <td>NaN</td>\n",
              "      <td>...</td>\n",
              "      <td>-12.50000</td>\n",
              "      <td>18.50000</td>\n",
              "      <td>christian</td>\n",
              "      <td>Angola</td>\n",
              "      <td>ANGOLA</td>\n",
              "      <td>True</td>\n",
              "      <td>AO</td>\n",
              "      <td>ANGOLA</td>\n",
              "      <td>africa</td>\n",
              "      <td>sub_saharan_africa</td>\n",
              "    </tr>\n",
              "    <tr>\n",
              "      <th>4</th>\n",
              "      <td>aia</td>\n",
              "      <td>NaN</td>\n",
              "      <td>NaN</td>\n",
              "      <td>NaN</td>\n",
              "      <td>NaN</td>\n",
              "      <td>NaN</td>\n",
              "      <td>NaN</td>\n",
              "      <td>NaN</td>\n",
              "      <td>NaN</td>\n",
              "      <td>NaN</td>\n",
              "      <td>...</td>\n",
              "      <td>18.21667</td>\n",
              "      <td>-63.05000</td>\n",
              "      <td>christian</td>\n",
              "      <td>Anguilla</td>\n",
              "      <td>NaN</td>\n",
              "      <td>False</td>\n",
              "      <td>AI</td>\n",
              "      <td>ANGUILLA</td>\n",
              "      <td>americas</td>\n",
              "      <td>america</td>\n",
              "    </tr>\n",
              "  </tbody>\n",
              "</table>\n",
              "<p>5 rows × 33 columns</p>\n",
              "</div>"
            ],
            "text/plain": [
              "  country alt_5                    alternative_1 alternative_2 alternative_3  \\\n",
              "0    abkh   NaN                              NaN           NaN           NaN   \n",
              "1     abw   NaN                              NaN           NaN           NaN   \n",
              "2     afg   NaN  Islamic Republic of Afghanistan           NaN           NaN   \n",
              "3     ago   NaN                              NaN           NaN           NaN   \n",
              "4     aia   NaN                              NaN           NaN           NaN   \n",
              "\n",
              "  alternative_4_cdiac arb1 arb2 arb3 arb4         ...           latitude  \\\n",
              "0                 NaN  NaN  NaN  NaN  NaN         ...                NaN   \n",
              "1               Aruba  NaN  NaN  NaN  NaN         ...           12.50000   \n",
              "2         Afghanistan  NaN  NaN  NaN  NaN         ...           33.00000   \n",
              "3              Angola  NaN  NaN  NaN  NaN         ...          -12.50000   \n",
              "4                 NaN  NaN  NaN  NaN  NaN         ...           18.21667   \n",
              "\n",
              "  longitude main_religion_2008         name        pandg un_state  \\\n",
              "0       NaN                NaN     Abkhazia          NaN    False   \n",
              "1 -69.96667          christian        Aruba          NaN    False   \n",
              "2  66.00000             muslim  Afghanistan  AFGHANISTAN     True   \n",
              "3  18.50000          christian       Angola       ANGOLA     True   \n",
              "4 -63.05000          christian     Anguilla          NaN    False   \n",
              "\n",
              "  unicode_region_subtag  upper_case_name world_4region        world_6region  \n",
              "0                   NaN              NaN        europe  europe_central_asia  \n",
              "1                    AW            ARUBA      americas              america  \n",
              "2                    AF      AFGHANISTAN          asia           south_asia  \n",
              "3                    AO           ANGOLA        africa   sub_saharan_africa  \n",
              "4                    AI         ANGUILLA      americas              america  \n",
              "\n",
              "[5 rows x 33 columns]"
            ]
          },
          "metadata": {
            "tags": []
          },
          "execution_count": 13
        }
      ]
    },
    {
      "metadata": {
        "id": "ZX3RsE_MaikS",
        "colab_type": "code",
        "colab": {
          "base_uri": "https://localhost:8080/",
          "height": 513
        },
        "outputId": "3f6c9246-28fa-4e22-84df-6771d8c91c87"
      },
      "cell_type": "code",
      "source": [
        "# Data Dictionary\n",
        "\n",
        "concepts.head()"
      ],
      "execution_count": 14,
      "outputs": [
        {
          "output_type": "execute_result",
          "data": {
            "text/html": [
              "<div>\n",
              "<style scoped>\n",
              "    .dataframe tbody tr th:only-of-type {\n",
              "        vertical-align: middle;\n",
              "    }\n",
              "\n",
              "    .dataframe tbody tr th {\n",
              "        vertical-align: top;\n",
              "    }\n",
              "\n",
              "    .dataframe thead th {\n",
              "        text-align: right;\n",
              "    }\n",
              "</style>\n",
              "<table border=\"1\" class=\"dataframe\">\n",
              "  <thead>\n",
              "    <tr style=\"text-align: right;\">\n",
              "      <th></th>\n",
              "      <th>concept</th>\n",
              "      <th>color</th>\n",
              "      <th>concept_type</th>\n",
              "      <th>description</th>\n",
              "      <th>description_long</th>\n",
              "      <th>domain</th>\n",
              "      <th>drill_up</th>\n",
              "      <th>indicator_url</th>\n",
              "      <th>name</th>\n",
              "      <th>name_catalog</th>\n",
              "      <th>name_short</th>\n",
              "      <th>scales</th>\n",
              "      <th>source</th>\n",
              "      <th>source_long</th>\n",
              "      <th>source_url</th>\n",
              "      <th>tags</th>\n",
              "    </tr>\n",
              "  </thead>\n",
              "  <tbody>\n",
              "    <tr>\n",
              "      <th>0</th>\n",
              "      <td>adults_with_hiv_percent_age_15_49</td>\n",
              "      <td>NaN</td>\n",
              "      <td>measure</td>\n",
              "      <td>The estimated percentage of adults aged 15 to ...</td>\n",
              "      <td>NaN</td>\n",
              "      <td>NaN</td>\n",
              "      <td>NaN</td>\n",
              "      <td>NaN</td>\n",
              "      <td>Adults with HIV (%, age 15-49)</td>\n",
              "      <td>Adults with HIV (%, age 15-49)</td>\n",
              "      <td>Adults with HIV</td>\n",
              "      <td>[\"log\", \"linear\"]</td>\n",
              "      <td>NaN</td>\n",
              "      <td>NaN</td>\n",
              "      <td>http://www.gapminder.org/gapminder-world/docum...</td>\n",
              "      <td>hiv</td>\n",
              "    </tr>\n",
              "    <tr>\n",
              "      <th>1</th>\n",
              "      <td>age_at_1st_marriage_women</td>\n",
              "      <td>NaN</td>\n",
              "      <td>measure</td>\n",
              "      <td>The mean age, in years, of first marriage for ...</td>\n",
              "      <td>NaN</td>\n",
              "      <td>NaN</td>\n",
              "      <td>NaN</td>\n",
              "      <td>NaN</td>\n",
              "      <td>Age at 1st marriage (women)</td>\n",
              "      <td>Age at 1st marriage (women)</td>\n",
              "      <td>Age at 1st marriage</td>\n",
              "      <td>[\"linear\", \"log\"]</td>\n",
              "      <td>NaN</td>\n",
              "      <td>NaN</td>\n",
              "      <td>http://spreadsheets.google.com/pub?key=t4eF8H_...</td>\n",
              "      <td>population</td>\n",
              "    </tr>\n",
              "    <tr>\n",
              "      <th>2</th>\n",
              "      <td>aged_15_24_employment_rate_percent</td>\n",
              "      <td>NaN</td>\n",
              "      <td>measure</td>\n",
              "      <td>Percentage of total population, age group 15-2...</td>\n",
              "      <td>NaN</td>\n",
              "      <td>NaN</td>\n",
              "      <td>NaN</td>\n",
              "      <td>NaN</td>\n",
              "      <td>Aged 15-24 employment rate (%)</td>\n",
              "      <td>Aged 15-24</td>\n",
              "      <td>Employment rate (%)</td>\n",
              "      <td>[\"linear\", \"log\"]</td>\n",
              "      <td>NaN</td>\n",
              "      <td>NaN</td>\n",
              "      <td>http://ilo.org/legacy/english/global-reports/k...</td>\n",
              "      <td>employment_rate</td>\n",
              "    </tr>\n",
              "    <tr>\n",
              "      <th>3</th>\n",
              "      <td>aged_15_24_unemployment_rate_percent</td>\n",
              "      <td>NaN</td>\n",
              "      <td>measure</td>\n",
              "      <td>Percentage of total population, age group 15-2...</td>\n",
              "      <td>NaN</td>\n",
              "      <td>NaN</td>\n",
              "      <td>NaN</td>\n",
              "      <td>NaN</td>\n",
              "      <td>Aged 15-24 unemployment rate (%)</td>\n",
              "      <td>Aged 15-24</td>\n",
              "      <td>Unemployment rate (%)</td>\n",
              "      <td>[\"linear\", \"log\"]</td>\n",
              "      <td>NaN</td>\n",
              "      <td>NaN</td>\n",
              "      <td>http://ilo.org/legacy/english/global-reports/k...</td>\n",
              "      <td>unemployment</td>\n",
              "    </tr>\n",
              "    <tr>\n",
              "      <th>4</th>\n",
              "      <td>aged_15_64_labour_force_participation_rate_per...</td>\n",
              "      <td>NaN</td>\n",
              "      <td>measure</td>\n",
              "      <td>For age group 15-64, percentage of all labour ...</td>\n",
              "      <td>NaN</td>\n",
              "      <td>NaN</td>\n",
              "      <td>NaN</td>\n",
              "      <td>NaN</td>\n",
              "      <td>Aged 15-64 labour force participation rate (%)</td>\n",
              "      <td>Aged 15-64</td>\n",
              "      <td>Labour force participation rate (%)</td>\n",
              "      <td>[\"linear\", \"log\"]</td>\n",
              "      <td>NaN</td>\n",
              "      <td>NaN</td>\n",
              "      <td>http://ilo.org/legacy/english/global-reports/k...</td>\n",
              "      <td>labour_force_participation</td>\n",
              "    </tr>\n",
              "  </tbody>\n",
              "</table>\n",
              "</div>"
            ],
            "text/plain": [
              "                                             concept color concept_type  \\\n",
              "0                  adults_with_hiv_percent_age_15_49   NaN      measure   \n",
              "1                          age_at_1st_marriage_women   NaN      measure   \n",
              "2                 aged_15_24_employment_rate_percent   NaN      measure   \n",
              "3               aged_15_24_unemployment_rate_percent   NaN      measure   \n",
              "4  aged_15_64_labour_force_participation_rate_per...   NaN      measure   \n",
              "\n",
              "                                         description description_long domain  \\\n",
              "0  The estimated percentage of adults aged 15 to ...              NaN    NaN   \n",
              "1  The mean age, in years, of first marriage for ...              NaN    NaN   \n",
              "2  Percentage of total population, age group 15-2...              NaN    NaN   \n",
              "3  Percentage of total population, age group 15-2...              NaN    NaN   \n",
              "4  For age group 15-64, percentage of all labour ...              NaN    NaN   \n",
              "\n",
              "  drill_up indicator_url                                            name  \\\n",
              "0      NaN           NaN                  Adults with HIV (%, age 15-49)   \n",
              "1      NaN           NaN                     Age at 1st marriage (women)   \n",
              "2      NaN           NaN                  Aged 15-24 employment rate (%)   \n",
              "3      NaN           NaN                Aged 15-24 unemployment rate (%)   \n",
              "4      NaN           NaN  Aged 15-64 labour force participation rate (%)   \n",
              "\n",
              "                     name_catalog                           name_short  \\\n",
              "0  Adults with HIV (%, age 15-49)                      Adults with HIV   \n",
              "1     Age at 1st marriage (women)                  Age at 1st marriage   \n",
              "2                      Aged 15-24                  Employment rate (%)   \n",
              "3                      Aged 15-24                Unemployment rate (%)   \n",
              "4                      Aged 15-64  Labour force participation rate (%)   \n",
              "\n",
              "              scales source source_long  \\\n",
              "0  [\"log\", \"linear\"]    NaN         NaN   \n",
              "1  [\"linear\", \"log\"]    NaN         NaN   \n",
              "2  [\"linear\", \"log\"]    NaN         NaN   \n",
              "3  [\"linear\", \"log\"]    NaN         NaN   \n",
              "4  [\"linear\", \"log\"]    NaN         NaN   \n",
              "\n",
              "                                          source_url  \\\n",
              "0  http://www.gapminder.org/gapminder-world/docum...   \n",
              "1  http://spreadsheets.google.com/pub?key=t4eF8H_...   \n",
              "2  http://ilo.org/legacy/english/global-reports/k...   \n",
              "3  http://ilo.org/legacy/english/global-reports/k...   \n",
              "4  http://ilo.org/legacy/english/global-reports/k...   \n",
              "\n",
              "                         tags  \n",
              "0                         hiv  \n",
              "1                  population  \n",
              "2             employment_rate  \n",
              "3                unemployment  \n",
              "4  labour_force_participation  "
            ]
          },
          "metadata": {
            "tags": []
          },
          "execution_count": 14
        }
      ]
    },
    {
      "metadata": {
        "id": "jbLZL-Hwalml",
        "colab_type": "code",
        "colab": {
          "base_uri": "https://localhost:8080/",
          "height": 34
        },
        "outputId": "77ffdea6-51a6-4841-8693-f996035e3a49"
      },
      "cell_type": "code",
      "source": [
        "income.shape, life_span.shape, population.shape, entities.shape, concepts.shape"
      ],
      "execution_count": 15,
      "outputs": [
        {
          "output_type": "execute_result",
          "data": {
            "text/plain": [
              "((44268, 3), (44370, 3), (51939, 3), (273, 33), (590, 16))"
            ]
          },
          "metadata": {
            "tags": []
          },
          "execution_count": 15
        }
      ]
    },
    {
      "metadata": {
        "id": "0TzGDGrbbPIv",
        "colab_type": "text"
      },
      "cell_type": "markdown",
      "source": [
        "**Merge DATA**"
      ]
    },
    {
      "metadata": {
        "id": "Y5ZQe3WoaueO",
        "colab_type": "code",
        "colab": {
          "base_uri": "https://localhost:8080/",
          "height": 1805
        },
        "outputId": "92ceb833-17af-4447-b5bd-95d748eda623"
      },
      "cell_type": "code",
      "source": [
        "# Merge the Data\n",
        "\n",
        "help(pd.merge)"
      ],
      "execution_count": 16,
      "outputs": [
        {
          "output_type": "stream",
          "text": [
            "Help on function merge in module pandas.core.reshape.merge:\n",
            "\n",
            "merge(left, right, how='inner', on=None, left_on=None, right_on=None, left_index=False, right_index=False, sort=False, suffixes=('_x', '_y'), copy=True, indicator=False, validate=None)\n",
            "    Merge DataFrame objects by performing a database-style join operation by\n",
            "    columns or indexes.\n",
            "    \n",
            "    If joining columns on columns, the DataFrame indexes *will be\n",
            "    ignored*. Otherwise if joining indexes on indexes or indexes on a column or\n",
            "    columns, the index will be passed on.\n",
            "    \n",
            "    Parameters\n",
            "    ----------\n",
            "    left : DataFrame\n",
            "    right : DataFrame\n",
            "    how : {'left', 'right', 'outer', 'inner'}, default 'inner'\n",
            "        * left: use only keys from left frame, similar to a SQL left outer join;\n",
            "          preserve key order\n",
            "        * right: use only keys from right frame, similar to a SQL right outer join;\n",
            "          preserve key order\n",
            "        * outer: use union of keys from both frames, similar to a SQL full outer\n",
            "          join; sort keys lexicographically\n",
            "        * inner: use intersection of keys from both frames, similar to a SQL inner\n",
            "          join; preserve the order of the left keys\n",
            "    on : label or list\n",
            "        Field names to join on. Must be found in both DataFrames. If on is\n",
            "        None and not merging on indexes, then it merges on the intersection of\n",
            "        the columns by default.\n",
            "    left_on : label or list, or array-like\n",
            "        Field names to join on in left DataFrame. Can be a vector or list of\n",
            "        vectors of the length of the DataFrame to use a particular vector as\n",
            "        the join key instead of columns\n",
            "    right_on : label or list, or array-like\n",
            "        Field names to join on in right DataFrame or vector/list of vectors per\n",
            "        left_on docs\n",
            "    left_index : boolean, default False\n",
            "        Use the index from the left DataFrame as the join key(s). If it is a\n",
            "        MultiIndex, the number of keys in the other DataFrame (either the index\n",
            "        or a number of columns) must match the number of levels\n",
            "    right_index : boolean, default False\n",
            "        Use the index from the right DataFrame as the join key. Same caveats as\n",
            "        left_index\n",
            "    sort : boolean, default False\n",
            "        Sort the join keys lexicographically in the result DataFrame. If False,\n",
            "        the order of the join keys depends on the join type (how keyword)\n",
            "    suffixes : 2-length sequence (tuple, list, ...)\n",
            "        Suffix to apply to overlapping column names in the left and right\n",
            "        side, respectively\n",
            "    copy : boolean, default True\n",
            "        If False, do not copy data unnecessarily\n",
            "    indicator : boolean or string, default False\n",
            "        If True, adds a column to output DataFrame called \"_merge\" with\n",
            "        information on the source of each row.\n",
            "        If string, column with information on source of each row will be added to\n",
            "        output DataFrame, and column will be named value of string.\n",
            "        Information column is Categorical-type and takes on a value of \"left_only\"\n",
            "        for observations whose merge key only appears in 'left' DataFrame,\n",
            "        \"right_only\" for observations whose merge key only appears in 'right'\n",
            "        DataFrame, and \"both\" if the observation's merge key is found in both.\n",
            "    \n",
            "        .. versionadded:: 0.17.0\n",
            "    \n",
            "    validate : string, default None\n",
            "        If specified, checks if merge is of specified type.\n",
            "    \n",
            "        * \"one_to_one\" or \"1:1\": check if merge keys are unique in both\n",
            "          left and right datasets.\n",
            "        * \"one_to_many\" or \"1:m\": check if merge keys are unique in left\n",
            "          dataset.\n",
            "        * \"many_to_one\" or \"m:1\": check if merge keys are unique in right\n",
            "          dataset.\n",
            "        * \"many_to_many\" or \"m:m\": allowed, but does not result in checks.\n",
            "    \n",
            "        .. versionadded:: 0.21.0\n",
            "    \n",
            "    Examples\n",
            "    --------\n",
            "    \n",
            "    >>> A              >>> B\n",
            "        lkey value         rkey value\n",
            "    0   foo  1         0   foo  5\n",
            "    1   bar  2         1   bar  6\n",
            "    2   baz  3         2   qux  7\n",
            "    3   foo  4         3   bar  8\n",
            "    \n",
            "    >>> A.merge(B, left_on='lkey', right_on='rkey', how='outer')\n",
            "       lkey  value_x  rkey  value_y\n",
            "    0  foo   1        foo   5\n",
            "    1  foo   4        foo   5\n",
            "    2  bar   2        bar   6\n",
            "    3  bar   2        bar   8\n",
            "    4  baz   3        NaN   NaN\n",
            "    5  NaN   NaN      qux   7\n",
            "    \n",
            "    Returns\n",
            "    -------\n",
            "    merged : DataFrame\n",
            "        The output type will the be same as 'left', if it is a subclass\n",
            "        of DataFrame.\n",
            "    \n",
            "    See also\n",
            "    --------\n",
            "    merge_ordered\n",
            "    merge_asof\n",
            "\n"
          ],
          "name": "stdout"
        }
      ]
    },
    {
      "metadata": {
        "id": "auDdWrjUbJiB",
        "colab_type": "code",
        "colab": {}
      },
      "cell_type": "code",
      "source": [
        "df = pd.merge(income, life_span)"
      ],
      "execution_count": 0,
      "outputs": []
    },
    {
      "metadata": {
        "id": "zdiZWzXabhUQ",
        "colab_type": "code",
        "colab": {
          "base_uri": "https://localhost:8080/",
          "height": 34
        },
        "outputId": "ccda4823-7ca1-4042-a874-2d4fca25ba8c"
      },
      "cell_type": "code",
      "source": [
        "income.shape, life_span.shape, df.shape"
      ],
      "execution_count": 18,
      "outputs": [
        {
          "output_type": "execute_result",
          "data": {
            "text/plain": [
              "((44268, 3), (44370, 3), (41790, 4))"
            ]
          },
          "metadata": {
            "tags": []
          },
          "execution_count": 18
        }
      ]
    },
    {
      "metadata": {
        "id": "PU3xi_sFbvjb",
        "colab_type": "code",
        "colab": {
          "base_uri": "https://localhost:8080/",
          "height": 204
        },
        "outputId": "209a74c5-daed-41f9-949d-a94aab0e9b8a"
      },
      "cell_type": "code",
      "source": [
        "df.head()\n",
        "\n",
        "# InnerJoin: Only keeping rows with same keys, hence different number of rows"
      ],
      "execution_count": 19,
      "outputs": [
        {
          "output_type": "execute_result",
          "data": {
            "text/html": [
              "<div>\n",
              "<style scoped>\n",
              "    .dataframe tbody tr th:only-of-type {\n",
              "        vertical-align: middle;\n",
              "    }\n",
              "\n",
              "    .dataframe tbody tr th {\n",
              "        vertical-align: top;\n",
              "    }\n",
              "\n",
              "    .dataframe thead th {\n",
              "        text-align: right;\n",
              "    }\n",
              "</style>\n",
              "<table border=\"1\" class=\"dataframe\">\n",
              "  <thead>\n",
              "    <tr style=\"text-align: right;\">\n",
              "      <th></th>\n",
              "      <th>geo</th>\n",
              "      <th>time</th>\n",
              "      <th>income_per_person_gdppercapita_ppp_inflation_adjusted</th>\n",
              "      <th>life_expectancy_years</th>\n",
              "    </tr>\n",
              "  </thead>\n",
              "  <tbody>\n",
              "    <tr>\n",
              "      <th>0</th>\n",
              "      <td>abw</td>\n",
              "      <td>1800</td>\n",
              "      <td>833</td>\n",
              "      <td>34.42</td>\n",
              "    </tr>\n",
              "    <tr>\n",
              "      <th>1</th>\n",
              "      <td>abw</td>\n",
              "      <td>1801</td>\n",
              "      <td>833</td>\n",
              "      <td>34.42</td>\n",
              "    </tr>\n",
              "    <tr>\n",
              "      <th>2</th>\n",
              "      <td>abw</td>\n",
              "      <td>1802</td>\n",
              "      <td>833</td>\n",
              "      <td>34.42</td>\n",
              "    </tr>\n",
              "    <tr>\n",
              "      <th>3</th>\n",
              "      <td>abw</td>\n",
              "      <td>1803</td>\n",
              "      <td>833</td>\n",
              "      <td>34.42</td>\n",
              "    </tr>\n",
              "    <tr>\n",
              "      <th>4</th>\n",
              "      <td>abw</td>\n",
              "      <td>1804</td>\n",
              "      <td>833</td>\n",
              "      <td>34.42</td>\n",
              "    </tr>\n",
              "  </tbody>\n",
              "</table>\n",
              "</div>"
            ],
            "text/plain": [
              "   geo  time  income_per_person_gdppercapita_ppp_inflation_adjusted  \\\n",
              "0  abw  1800                                                833       \n",
              "1  abw  1801                                                833       \n",
              "2  abw  1802                                                833       \n",
              "3  abw  1803                                                833       \n",
              "4  abw  1804                                                833       \n",
              "\n",
              "   life_expectancy_years  \n",
              "0                  34.42  \n",
              "1                  34.42  \n",
              "2                  34.42  \n",
              "3                  34.42  \n",
              "4                  34.42  "
            ]
          },
          "metadata": {
            "tags": []
          },
          "execution_count": 19
        }
      ]
    },
    {
      "metadata": {
        "id": "MjsJQf30bxwk",
        "colab_type": "code",
        "colab": {
          "base_uri": "https://localhost:8080/",
          "height": 270
        },
        "outputId": "63465754-c4e7-4f6f-cc27-0502c05048cb"
      },
      "cell_type": "code",
      "source": [
        "entities.head()"
      ],
      "execution_count": 20,
      "outputs": [
        {
          "output_type": "execute_result",
          "data": {
            "text/html": [
              "<div>\n",
              "<style scoped>\n",
              "    .dataframe tbody tr th:only-of-type {\n",
              "        vertical-align: middle;\n",
              "    }\n",
              "\n",
              "    .dataframe tbody tr th {\n",
              "        vertical-align: top;\n",
              "    }\n",
              "\n",
              "    .dataframe thead th {\n",
              "        text-align: right;\n",
              "    }\n",
              "</style>\n",
              "<table border=\"1\" class=\"dataframe\">\n",
              "  <thead>\n",
              "    <tr style=\"text-align: right;\">\n",
              "      <th></th>\n",
              "      <th>country</th>\n",
              "      <th>alt_5</th>\n",
              "      <th>alternative_1</th>\n",
              "      <th>alternative_2</th>\n",
              "      <th>alternative_3</th>\n",
              "      <th>alternative_4_cdiac</th>\n",
              "      <th>arb1</th>\n",
              "      <th>arb2</th>\n",
              "      <th>arb3</th>\n",
              "      <th>arb4</th>\n",
              "      <th>...</th>\n",
              "      <th>latitude</th>\n",
              "      <th>longitude</th>\n",
              "      <th>main_religion_2008</th>\n",
              "      <th>name</th>\n",
              "      <th>pandg</th>\n",
              "      <th>un_state</th>\n",
              "      <th>unicode_region_subtag</th>\n",
              "      <th>upper_case_name</th>\n",
              "      <th>world_4region</th>\n",
              "      <th>world_6region</th>\n",
              "    </tr>\n",
              "  </thead>\n",
              "  <tbody>\n",
              "    <tr>\n",
              "      <th>0</th>\n",
              "      <td>abkh</td>\n",
              "      <td>NaN</td>\n",
              "      <td>NaN</td>\n",
              "      <td>NaN</td>\n",
              "      <td>NaN</td>\n",
              "      <td>NaN</td>\n",
              "      <td>NaN</td>\n",
              "      <td>NaN</td>\n",
              "      <td>NaN</td>\n",
              "      <td>NaN</td>\n",
              "      <td>...</td>\n",
              "      <td>NaN</td>\n",
              "      <td>NaN</td>\n",
              "      <td>NaN</td>\n",
              "      <td>Abkhazia</td>\n",
              "      <td>NaN</td>\n",
              "      <td>False</td>\n",
              "      <td>NaN</td>\n",
              "      <td>NaN</td>\n",
              "      <td>europe</td>\n",
              "      <td>europe_central_asia</td>\n",
              "    </tr>\n",
              "    <tr>\n",
              "      <th>1</th>\n",
              "      <td>abw</td>\n",
              "      <td>NaN</td>\n",
              "      <td>NaN</td>\n",
              "      <td>NaN</td>\n",
              "      <td>NaN</td>\n",
              "      <td>Aruba</td>\n",
              "      <td>NaN</td>\n",
              "      <td>NaN</td>\n",
              "      <td>NaN</td>\n",
              "      <td>NaN</td>\n",
              "      <td>...</td>\n",
              "      <td>12.50000</td>\n",
              "      <td>-69.96667</td>\n",
              "      <td>christian</td>\n",
              "      <td>Aruba</td>\n",
              "      <td>NaN</td>\n",
              "      <td>False</td>\n",
              "      <td>AW</td>\n",
              "      <td>ARUBA</td>\n",
              "      <td>americas</td>\n",
              "      <td>america</td>\n",
              "    </tr>\n",
              "    <tr>\n",
              "      <th>2</th>\n",
              "      <td>afg</td>\n",
              "      <td>NaN</td>\n",
              "      <td>Islamic Republic of Afghanistan</td>\n",
              "      <td>NaN</td>\n",
              "      <td>NaN</td>\n",
              "      <td>Afghanistan</td>\n",
              "      <td>NaN</td>\n",
              "      <td>NaN</td>\n",
              "      <td>NaN</td>\n",
              "      <td>NaN</td>\n",
              "      <td>...</td>\n",
              "      <td>33.00000</td>\n",
              "      <td>66.00000</td>\n",
              "      <td>muslim</td>\n",
              "      <td>Afghanistan</td>\n",
              "      <td>AFGHANISTAN</td>\n",
              "      <td>True</td>\n",
              "      <td>AF</td>\n",
              "      <td>AFGHANISTAN</td>\n",
              "      <td>asia</td>\n",
              "      <td>south_asia</td>\n",
              "    </tr>\n",
              "    <tr>\n",
              "      <th>3</th>\n",
              "      <td>ago</td>\n",
              "      <td>NaN</td>\n",
              "      <td>NaN</td>\n",
              "      <td>NaN</td>\n",
              "      <td>NaN</td>\n",
              "      <td>Angola</td>\n",
              "      <td>NaN</td>\n",
              "      <td>NaN</td>\n",
              "      <td>NaN</td>\n",
              "      <td>NaN</td>\n",
              "      <td>...</td>\n",
              "      <td>-12.50000</td>\n",
              "      <td>18.50000</td>\n",
              "      <td>christian</td>\n",
              "      <td>Angola</td>\n",
              "      <td>ANGOLA</td>\n",
              "      <td>True</td>\n",
              "      <td>AO</td>\n",
              "      <td>ANGOLA</td>\n",
              "      <td>africa</td>\n",
              "      <td>sub_saharan_africa</td>\n",
              "    </tr>\n",
              "    <tr>\n",
              "      <th>4</th>\n",
              "      <td>aia</td>\n",
              "      <td>NaN</td>\n",
              "      <td>NaN</td>\n",
              "      <td>NaN</td>\n",
              "      <td>NaN</td>\n",
              "      <td>NaN</td>\n",
              "      <td>NaN</td>\n",
              "      <td>NaN</td>\n",
              "      <td>NaN</td>\n",
              "      <td>NaN</td>\n",
              "      <td>...</td>\n",
              "      <td>18.21667</td>\n",
              "      <td>-63.05000</td>\n",
              "      <td>christian</td>\n",
              "      <td>Anguilla</td>\n",
              "      <td>NaN</td>\n",
              "      <td>False</td>\n",
              "      <td>AI</td>\n",
              "      <td>ANGUILLA</td>\n",
              "      <td>americas</td>\n",
              "      <td>america</td>\n",
              "    </tr>\n",
              "  </tbody>\n",
              "</table>\n",
              "<p>5 rows × 33 columns</p>\n",
              "</div>"
            ],
            "text/plain": [
              "  country alt_5                    alternative_1 alternative_2 alternative_3  \\\n",
              "0    abkh   NaN                              NaN           NaN           NaN   \n",
              "1     abw   NaN                              NaN           NaN           NaN   \n",
              "2     afg   NaN  Islamic Republic of Afghanistan           NaN           NaN   \n",
              "3     ago   NaN                              NaN           NaN           NaN   \n",
              "4     aia   NaN                              NaN           NaN           NaN   \n",
              "\n",
              "  alternative_4_cdiac arb1 arb2 arb3 arb4         ...           latitude  \\\n",
              "0                 NaN  NaN  NaN  NaN  NaN         ...                NaN   \n",
              "1               Aruba  NaN  NaN  NaN  NaN         ...           12.50000   \n",
              "2         Afghanistan  NaN  NaN  NaN  NaN         ...           33.00000   \n",
              "3              Angola  NaN  NaN  NaN  NaN         ...          -12.50000   \n",
              "4                 NaN  NaN  NaN  NaN  NaN         ...           18.21667   \n",
              "\n",
              "  longitude main_religion_2008         name        pandg un_state  \\\n",
              "0       NaN                NaN     Abkhazia          NaN    False   \n",
              "1 -69.96667          christian        Aruba          NaN    False   \n",
              "2  66.00000             muslim  Afghanistan  AFGHANISTAN     True   \n",
              "3  18.50000          christian       Angola       ANGOLA     True   \n",
              "4 -63.05000          christian     Anguilla          NaN    False   \n",
              "\n",
              "  unicode_region_subtag  upper_case_name world_4region        world_6region  \n",
              "0                   NaN              NaN        europe  europe_central_asia  \n",
              "1                    AW            ARUBA      americas              america  \n",
              "2                    AF      AFGHANISTAN          asia           south_asia  \n",
              "3                    AO           ANGOLA        africa   sub_saharan_africa  \n",
              "4                    AI         ANGUILLA      americas              america  \n",
              "\n",
              "[5 rows x 33 columns]"
            ]
          },
          "metadata": {
            "tags": []
          },
          "execution_count": 20
        }
      ]
    },
    {
      "metadata": {
        "id": "WWBeDY20cVSd",
        "colab_type": "code",
        "colab": {
          "base_uri": "https://localhost:8080/",
          "height": 1072
        },
        "outputId": "52e357a7-9703-4096-dd12-7bf3ec52f2b4"
      },
      "cell_type": "code",
      "source": [
        "entities[entities.country=='abw'].T"
      ],
      "execution_count": 21,
      "outputs": [
        {
          "output_type": "execute_result",
          "data": {
            "text/html": [
              "<div>\n",
              "<style scoped>\n",
              "    .dataframe tbody tr th:only-of-type {\n",
              "        vertical-align: middle;\n",
              "    }\n",
              "\n",
              "    .dataframe tbody tr th {\n",
              "        vertical-align: top;\n",
              "    }\n",
              "\n",
              "    .dataframe thead th {\n",
              "        text-align: right;\n",
              "    }\n",
              "</style>\n",
              "<table border=\"1\" class=\"dataframe\">\n",
              "  <thead>\n",
              "    <tr style=\"text-align: right;\">\n",
              "      <th></th>\n",
              "      <th>1</th>\n",
              "    </tr>\n",
              "  </thead>\n",
              "  <tbody>\n",
              "    <tr>\n",
              "      <th>country</th>\n",
              "      <td>abw</td>\n",
              "    </tr>\n",
              "    <tr>\n",
              "      <th>alt_5</th>\n",
              "      <td>NaN</td>\n",
              "    </tr>\n",
              "    <tr>\n",
              "      <th>alternative_1</th>\n",
              "      <td>NaN</td>\n",
              "    </tr>\n",
              "    <tr>\n",
              "      <th>alternative_2</th>\n",
              "      <td>NaN</td>\n",
              "    </tr>\n",
              "    <tr>\n",
              "      <th>alternative_3</th>\n",
              "      <td>NaN</td>\n",
              "    </tr>\n",
              "    <tr>\n",
              "      <th>alternative_4_cdiac</th>\n",
              "      <td>Aruba</td>\n",
              "    </tr>\n",
              "    <tr>\n",
              "      <th>arb1</th>\n",
              "      <td>NaN</td>\n",
              "    </tr>\n",
              "    <tr>\n",
              "      <th>arb2</th>\n",
              "      <td>NaN</td>\n",
              "    </tr>\n",
              "    <tr>\n",
              "      <th>arb3</th>\n",
              "      <td>NaN</td>\n",
              "    </tr>\n",
              "    <tr>\n",
              "      <th>arb4</th>\n",
              "      <td>NaN</td>\n",
              "    </tr>\n",
              "    <tr>\n",
              "      <th>arb5</th>\n",
              "      <td>NaN</td>\n",
              "    </tr>\n",
              "    <tr>\n",
              "      <th>arb6</th>\n",
              "      <td>NaN</td>\n",
              "    </tr>\n",
              "    <tr>\n",
              "      <th>g77_and_oecd_countries</th>\n",
              "      <td>others</td>\n",
              "    </tr>\n",
              "    <tr>\n",
              "      <th>gapminder_list</th>\n",
              "      <td>Aruba</td>\n",
              "    </tr>\n",
              "    <tr>\n",
              "      <th>god_id</th>\n",
              "      <td>AW</td>\n",
              "    </tr>\n",
              "    <tr>\n",
              "      <th>gwid</th>\n",
              "      <td>i12</td>\n",
              "    </tr>\n",
              "    <tr>\n",
              "      <th>income_groups</th>\n",
              "      <td>high_income</td>\n",
              "    </tr>\n",
              "    <tr>\n",
              "      <th>is--country</th>\n",
              "      <td>True</td>\n",
              "    </tr>\n",
              "    <tr>\n",
              "      <th>iso3166_1_alpha2</th>\n",
              "      <td>AW</td>\n",
              "    </tr>\n",
              "    <tr>\n",
              "      <th>iso3166_1_alpha3</th>\n",
              "      <td>ABW</td>\n",
              "    </tr>\n",
              "    <tr>\n",
              "      <th>iso3166_1_numeric</th>\n",
              "      <td>533</td>\n",
              "    </tr>\n",
              "    <tr>\n",
              "      <th>iso3166_2</th>\n",
              "      <td>NaN</td>\n",
              "    </tr>\n",
              "    <tr>\n",
              "      <th>landlocked</th>\n",
              "      <td>coastline</td>\n",
              "    </tr>\n",
              "    <tr>\n",
              "      <th>latitude</th>\n",
              "      <td>12.5</td>\n",
              "    </tr>\n",
              "    <tr>\n",
              "      <th>longitude</th>\n",
              "      <td>-69.9667</td>\n",
              "    </tr>\n",
              "    <tr>\n",
              "      <th>main_religion_2008</th>\n",
              "      <td>christian</td>\n",
              "    </tr>\n",
              "    <tr>\n",
              "      <th>name</th>\n",
              "      <td>Aruba</td>\n",
              "    </tr>\n",
              "    <tr>\n",
              "      <th>pandg</th>\n",
              "      <td>NaN</td>\n",
              "    </tr>\n",
              "    <tr>\n",
              "      <th>un_state</th>\n",
              "      <td>False</td>\n",
              "    </tr>\n",
              "    <tr>\n",
              "      <th>unicode_region_subtag</th>\n",
              "      <td>AW</td>\n",
              "    </tr>\n",
              "    <tr>\n",
              "      <th>upper_case_name</th>\n",
              "      <td>ARUBA</td>\n",
              "    </tr>\n",
              "    <tr>\n",
              "      <th>world_4region</th>\n",
              "      <td>americas</td>\n",
              "    </tr>\n",
              "    <tr>\n",
              "      <th>world_6region</th>\n",
              "      <td>america</td>\n",
              "    </tr>\n",
              "  </tbody>\n",
              "</table>\n",
              "</div>"
            ],
            "text/plain": [
              "                                  1\n",
              "country                         abw\n",
              "alt_5                           NaN\n",
              "alternative_1                   NaN\n",
              "alternative_2                   NaN\n",
              "alternative_3                   NaN\n",
              "alternative_4_cdiac           Aruba\n",
              "arb1                            NaN\n",
              "arb2                            NaN\n",
              "arb3                            NaN\n",
              "arb4                            NaN\n",
              "arb5                            NaN\n",
              "arb6                            NaN\n",
              "g77_and_oecd_countries       others\n",
              "gapminder_list                Aruba\n",
              "god_id                           AW\n",
              "gwid                            i12\n",
              "income_groups           high_income\n",
              "is--country                    True\n",
              "iso3166_1_alpha2                 AW\n",
              "iso3166_1_alpha3                ABW\n",
              "iso3166_1_numeric               533\n",
              "iso3166_2                       NaN\n",
              "landlocked                coastline\n",
              "latitude                       12.5\n",
              "longitude                  -69.9667\n",
              "main_religion_2008        christian\n",
              "name                          Aruba\n",
              "pandg                           NaN\n",
              "un_state                      False\n",
              "unicode_region_subtag            AW\n",
              "upper_case_name               ARUBA\n",
              "world_4region              americas\n",
              "world_6region               america"
            ]
          },
          "metadata": {
            "tags": []
          },
          "execution_count": 21
        }
      ]
    },
    {
      "metadata": {
        "id": "TTp84vNecfw6",
        "colab_type": "code",
        "colab": {
          "base_uri": "https://localhost:8080/",
          "height": 102
        },
        "outputId": "1cf21786-20fc-46ab-a05a-c4f51badb2a5"
      },
      "cell_type": "code",
      "source": [
        "entities.world_4region.value_counts()"
      ],
      "execution_count": 22,
      "outputs": [
        {
          "output_type": "execute_result",
          "data": {
            "text/plain": [
              "asia        80\n",
              "europe      73\n",
              "africa      61\n",
              "americas    57\n",
              "Name: world_4region, dtype: int64"
            ]
          },
          "metadata": {
            "tags": []
          },
          "execution_count": 22
        }
      ]
    },
    {
      "metadata": {
        "id": "ttoXoo_7cr8d",
        "colab_type": "code",
        "colab": {
          "base_uri": "https://localhost:8080/",
          "height": 136
        },
        "outputId": "62c488ec-9925-4dae-fc48-c729a5eb3740"
      },
      "cell_type": "code",
      "source": [
        "entities.world_6region.value_counts()"
      ],
      "execution_count": 23,
      "outputs": [
        {
          "output_type": "execute_result",
          "data": {
            "text/plain": [
              "europe_central_asia         77\n",
              "america                     53\n",
              "sub_saharan_africa          53\n",
              "east_asia_pacific           46\n",
              "middle_east_north_africa    23\n",
              "south_asia                   8\n",
              "Name: world_6region, dtype: int64"
            ]
          },
          "metadata": {
            "tags": []
          },
          "execution_count": 23
        }
      ]
    },
    {
      "metadata": {
        "id": "oPld5mNrcusu",
        "colab_type": "code",
        "colab": {
          "base_uri": "https://localhost:8080/",
          "height": 204
        },
        "outputId": "8c1d2b62-0da6-475d-f263-893ffe5ff764"
      },
      "cell_type": "code",
      "source": [
        "variables = ['country', 'name', 'world_6region']\n",
        "\n",
        "entities[variables].head()"
      ],
      "execution_count": 24,
      "outputs": [
        {
          "output_type": "execute_result",
          "data": {
            "text/html": [
              "<div>\n",
              "<style scoped>\n",
              "    .dataframe tbody tr th:only-of-type {\n",
              "        vertical-align: middle;\n",
              "    }\n",
              "\n",
              "    .dataframe tbody tr th {\n",
              "        vertical-align: top;\n",
              "    }\n",
              "\n",
              "    .dataframe thead th {\n",
              "        text-align: right;\n",
              "    }\n",
              "</style>\n",
              "<table border=\"1\" class=\"dataframe\">\n",
              "  <thead>\n",
              "    <tr style=\"text-align: right;\">\n",
              "      <th></th>\n",
              "      <th>country</th>\n",
              "      <th>name</th>\n",
              "      <th>world_6region</th>\n",
              "    </tr>\n",
              "  </thead>\n",
              "  <tbody>\n",
              "    <tr>\n",
              "      <th>0</th>\n",
              "      <td>abkh</td>\n",
              "      <td>Abkhazia</td>\n",
              "      <td>europe_central_asia</td>\n",
              "    </tr>\n",
              "    <tr>\n",
              "      <th>1</th>\n",
              "      <td>abw</td>\n",
              "      <td>Aruba</td>\n",
              "      <td>america</td>\n",
              "    </tr>\n",
              "    <tr>\n",
              "      <th>2</th>\n",
              "      <td>afg</td>\n",
              "      <td>Afghanistan</td>\n",
              "      <td>south_asia</td>\n",
              "    </tr>\n",
              "    <tr>\n",
              "      <th>3</th>\n",
              "      <td>ago</td>\n",
              "      <td>Angola</td>\n",
              "      <td>sub_saharan_africa</td>\n",
              "    </tr>\n",
              "    <tr>\n",
              "      <th>4</th>\n",
              "      <td>aia</td>\n",
              "      <td>Anguilla</td>\n",
              "      <td>america</td>\n",
              "    </tr>\n",
              "  </tbody>\n",
              "</table>\n",
              "</div>"
            ],
            "text/plain": [
              "  country         name        world_6region\n",
              "0    abkh     Abkhazia  europe_central_asia\n",
              "1     abw        Aruba              america\n",
              "2     afg  Afghanistan           south_asia\n",
              "3     ago       Angola   sub_saharan_africa\n",
              "4     aia     Anguilla              america"
            ]
          },
          "metadata": {
            "tags": []
          },
          "execution_count": 24
        }
      ]
    },
    {
      "metadata": {
        "id": "7gevmAhIdCQL",
        "colab_type": "code",
        "colab": {
          "base_uri": "https://localhost:8080/",
          "height": 204
        },
        "outputId": "eb1bfacc-990b-433e-bc0e-ba3aa18cb239"
      },
      "cell_type": "code",
      "source": [
        "df.head()"
      ],
      "execution_count": 25,
      "outputs": [
        {
          "output_type": "execute_result",
          "data": {
            "text/html": [
              "<div>\n",
              "<style scoped>\n",
              "    .dataframe tbody tr th:only-of-type {\n",
              "        vertical-align: middle;\n",
              "    }\n",
              "\n",
              "    .dataframe tbody tr th {\n",
              "        vertical-align: top;\n",
              "    }\n",
              "\n",
              "    .dataframe thead th {\n",
              "        text-align: right;\n",
              "    }\n",
              "</style>\n",
              "<table border=\"1\" class=\"dataframe\">\n",
              "  <thead>\n",
              "    <tr style=\"text-align: right;\">\n",
              "      <th></th>\n",
              "      <th>geo</th>\n",
              "      <th>time</th>\n",
              "      <th>income_per_person_gdppercapita_ppp_inflation_adjusted</th>\n",
              "      <th>life_expectancy_years</th>\n",
              "    </tr>\n",
              "  </thead>\n",
              "  <tbody>\n",
              "    <tr>\n",
              "      <th>0</th>\n",
              "      <td>abw</td>\n",
              "      <td>1800</td>\n",
              "      <td>833</td>\n",
              "      <td>34.42</td>\n",
              "    </tr>\n",
              "    <tr>\n",
              "      <th>1</th>\n",
              "      <td>abw</td>\n",
              "      <td>1801</td>\n",
              "      <td>833</td>\n",
              "      <td>34.42</td>\n",
              "    </tr>\n",
              "    <tr>\n",
              "      <th>2</th>\n",
              "      <td>abw</td>\n",
              "      <td>1802</td>\n",
              "      <td>833</td>\n",
              "      <td>34.42</td>\n",
              "    </tr>\n",
              "    <tr>\n",
              "      <th>3</th>\n",
              "      <td>abw</td>\n",
              "      <td>1803</td>\n",
              "      <td>833</td>\n",
              "      <td>34.42</td>\n",
              "    </tr>\n",
              "    <tr>\n",
              "      <th>4</th>\n",
              "      <td>abw</td>\n",
              "      <td>1804</td>\n",
              "      <td>833</td>\n",
              "      <td>34.42</td>\n",
              "    </tr>\n",
              "  </tbody>\n",
              "</table>\n",
              "</div>"
            ],
            "text/plain": [
              "   geo  time  income_per_person_gdppercapita_ppp_inflation_adjusted  \\\n",
              "0  abw  1800                                                833       \n",
              "1  abw  1801                                                833       \n",
              "2  abw  1802                                                833       \n",
              "3  abw  1803                                                833       \n",
              "4  abw  1804                                                833       \n",
              "\n",
              "   life_expectancy_years  \n",
              "0                  34.42  \n",
              "1                  34.42  \n",
              "2                  34.42  \n",
              "3                  34.42  \n",
              "4                  34.42  "
            ]
          },
          "metadata": {
            "tags": []
          },
          "execution_count": 25
        }
      ]
    },
    {
      "metadata": {
        "id": "2A2IOIvadJ2i",
        "colab_type": "code",
        "colab": {
          "base_uri": "https://localhost:8080/",
          "height": 204
        },
        "outputId": "0897190f-678d-4ff9-f63e-1c7e4b46d2a2"
      },
      "cell_type": "code",
      "source": [
        "# Preview\n",
        "\n",
        "pd.merge(df, entities[variables],\n",
        "        how='inner', left_on='geo', right_on='country').head()"
      ],
      "execution_count": 26,
      "outputs": [
        {
          "output_type": "execute_result",
          "data": {
            "text/html": [
              "<div>\n",
              "<style scoped>\n",
              "    .dataframe tbody tr th:only-of-type {\n",
              "        vertical-align: middle;\n",
              "    }\n",
              "\n",
              "    .dataframe tbody tr th {\n",
              "        vertical-align: top;\n",
              "    }\n",
              "\n",
              "    .dataframe thead th {\n",
              "        text-align: right;\n",
              "    }\n",
              "</style>\n",
              "<table border=\"1\" class=\"dataframe\">\n",
              "  <thead>\n",
              "    <tr style=\"text-align: right;\">\n",
              "      <th></th>\n",
              "      <th>geo</th>\n",
              "      <th>time</th>\n",
              "      <th>income_per_person_gdppercapita_ppp_inflation_adjusted</th>\n",
              "      <th>life_expectancy_years</th>\n",
              "      <th>country</th>\n",
              "      <th>name</th>\n",
              "      <th>world_6region</th>\n",
              "    </tr>\n",
              "  </thead>\n",
              "  <tbody>\n",
              "    <tr>\n",
              "      <th>0</th>\n",
              "      <td>abw</td>\n",
              "      <td>1800</td>\n",
              "      <td>833</td>\n",
              "      <td>34.42</td>\n",
              "      <td>abw</td>\n",
              "      <td>Aruba</td>\n",
              "      <td>america</td>\n",
              "    </tr>\n",
              "    <tr>\n",
              "      <th>1</th>\n",
              "      <td>abw</td>\n",
              "      <td>1801</td>\n",
              "      <td>833</td>\n",
              "      <td>34.42</td>\n",
              "      <td>abw</td>\n",
              "      <td>Aruba</td>\n",
              "      <td>america</td>\n",
              "    </tr>\n",
              "    <tr>\n",
              "      <th>2</th>\n",
              "      <td>abw</td>\n",
              "      <td>1802</td>\n",
              "      <td>833</td>\n",
              "      <td>34.42</td>\n",
              "      <td>abw</td>\n",
              "      <td>Aruba</td>\n",
              "      <td>america</td>\n",
              "    </tr>\n",
              "    <tr>\n",
              "      <th>3</th>\n",
              "      <td>abw</td>\n",
              "      <td>1803</td>\n",
              "      <td>833</td>\n",
              "      <td>34.42</td>\n",
              "      <td>abw</td>\n",
              "      <td>Aruba</td>\n",
              "      <td>america</td>\n",
              "    </tr>\n",
              "    <tr>\n",
              "      <th>4</th>\n",
              "      <td>abw</td>\n",
              "      <td>1804</td>\n",
              "      <td>833</td>\n",
              "      <td>34.42</td>\n",
              "      <td>abw</td>\n",
              "      <td>Aruba</td>\n",
              "      <td>america</td>\n",
              "    </tr>\n",
              "  </tbody>\n",
              "</table>\n",
              "</div>"
            ],
            "text/plain": [
              "   geo  time  income_per_person_gdppercapita_ppp_inflation_adjusted  \\\n",
              "0  abw  1800                                                833       \n",
              "1  abw  1801                                                833       \n",
              "2  abw  1802                                                833       \n",
              "3  abw  1803                                                833       \n",
              "4  abw  1804                                                833       \n",
              "\n",
              "   life_expectancy_years country   name world_6region  \n",
              "0                  34.42     abw  Aruba       america  \n",
              "1                  34.42     abw  Aruba       america  \n",
              "2                  34.42     abw  Aruba       america  \n",
              "3                  34.42     abw  Aruba       america  \n",
              "4                  34.42     abw  Aruba       america  "
            ]
          },
          "metadata": {
            "tags": []
          },
          "execution_count": 26
        }
      ]
    },
    {
      "metadata": {
        "id": "Wl-7vmUkeRKS",
        "colab_type": "code",
        "colab": {}
      },
      "cell_type": "code",
      "source": [
        "# Forgot to merge df and population earlier so\n",
        "\n",
        "df = pd.merge(df, population)"
      ],
      "execution_count": 0,
      "outputs": []
    },
    {
      "metadata": {
        "id": "CT37XmQL4nad",
        "colab_type": "code",
        "colab": {
          "base_uri": "https://localhost:8080/",
          "height": 204
        },
        "outputId": "13246519-493f-4ac6-b533-910ca37b2ade"
      },
      "cell_type": "code",
      "source": [
        "df.head()"
      ],
      "execution_count": 28,
      "outputs": [
        {
          "output_type": "execute_result",
          "data": {
            "text/html": [
              "<div>\n",
              "<style scoped>\n",
              "    .dataframe tbody tr th:only-of-type {\n",
              "        vertical-align: middle;\n",
              "    }\n",
              "\n",
              "    .dataframe tbody tr th {\n",
              "        vertical-align: top;\n",
              "    }\n",
              "\n",
              "    .dataframe thead th {\n",
              "        text-align: right;\n",
              "    }\n",
              "</style>\n",
              "<table border=\"1\" class=\"dataframe\">\n",
              "  <thead>\n",
              "    <tr style=\"text-align: right;\">\n",
              "      <th></th>\n",
              "      <th>geo</th>\n",
              "      <th>time</th>\n",
              "      <th>income_per_person_gdppercapita_ppp_inflation_adjusted</th>\n",
              "      <th>life_expectancy_years</th>\n",
              "      <th>population_total</th>\n",
              "    </tr>\n",
              "  </thead>\n",
              "  <tbody>\n",
              "    <tr>\n",
              "      <th>0</th>\n",
              "      <td>abw</td>\n",
              "      <td>1800</td>\n",
              "      <td>833</td>\n",
              "      <td>34.42</td>\n",
              "      <td>19286</td>\n",
              "    </tr>\n",
              "    <tr>\n",
              "      <th>1</th>\n",
              "      <td>abw</td>\n",
              "      <td>1801</td>\n",
              "      <td>833</td>\n",
              "      <td>34.42</td>\n",
              "      <td>19286</td>\n",
              "    </tr>\n",
              "    <tr>\n",
              "      <th>2</th>\n",
              "      <td>abw</td>\n",
              "      <td>1802</td>\n",
              "      <td>833</td>\n",
              "      <td>34.42</td>\n",
              "      <td>19286</td>\n",
              "    </tr>\n",
              "    <tr>\n",
              "      <th>3</th>\n",
              "      <td>abw</td>\n",
              "      <td>1803</td>\n",
              "      <td>833</td>\n",
              "      <td>34.42</td>\n",
              "      <td>19286</td>\n",
              "    </tr>\n",
              "    <tr>\n",
              "      <th>4</th>\n",
              "      <td>abw</td>\n",
              "      <td>1804</td>\n",
              "      <td>833</td>\n",
              "      <td>34.42</td>\n",
              "      <td>19286</td>\n",
              "    </tr>\n",
              "  </tbody>\n",
              "</table>\n",
              "</div>"
            ],
            "text/plain": [
              "   geo  time  income_per_person_gdppercapita_ppp_inflation_adjusted  \\\n",
              "0  abw  1800                                                833       \n",
              "1  abw  1801                                                833       \n",
              "2  abw  1802                                                833       \n",
              "3  abw  1803                                                833       \n",
              "4  abw  1804                                                833       \n",
              "\n",
              "   life_expectancy_years  population_total  \n",
              "0                  34.42             19286  \n",
              "1                  34.42             19286  \n",
              "2                  34.42             19286  \n",
              "3                  34.42             19286  \n",
              "4                  34.42             19286  "
            ]
          },
          "metadata": {
            "tags": []
          },
          "execution_count": 28
        }
      ]
    },
    {
      "metadata": {
        "id": "YmNZUVXVdjYI",
        "colab_type": "code",
        "colab": {
          "base_uri": "https://localhost:8080/",
          "height": 34
        },
        "outputId": "39810331-5803-486b-8bd7-9d659c2bb8a6"
      },
      "cell_type": "code",
      "source": [
        "df = pd.merge(df, entities[variables],\n",
        "             how='inner', left_on='geo', right_on='country')\n",
        "\n",
        "df.drop(columns=['geo', 'country'], inplace=True)\n",
        "\n",
        "# pandas rename function\n",
        "df.rename(columns={\n",
        "    'time': 'year',\n",
        "    'income_per_person_gdppercapita_ppp_inflation_adjusted': 'income',\n",
        "    'life_expectancy_years': 'lifespan',\n",
        "    'populaton_total': 'population',\n",
        "    'name': 'country',\n",
        "    'world_6region': 'region'\n",
        "}, inplace=True)\n",
        "\n",
        "df.shape"
      ],
      "execution_count": 29,
      "outputs": [
        {
          "output_type": "execute_result",
          "data": {
            "text/plain": [
              "(41790, 6)"
            ]
          },
          "metadata": {
            "tags": []
          },
          "execution_count": 29
        }
      ]
    },
    {
      "metadata": {
        "id": "T7nE0-T8eoMv",
        "colab_type": "code",
        "colab": {
          "base_uri": "https://localhost:8080/",
          "height": 204
        },
        "outputId": "63194275-dd69-419f-8964-aa3316274472"
      },
      "cell_type": "code",
      "source": [
        "df.head()"
      ],
      "execution_count": 30,
      "outputs": [
        {
          "output_type": "execute_result",
          "data": {
            "text/html": [
              "<div>\n",
              "<style scoped>\n",
              "    .dataframe tbody tr th:only-of-type {\n",
              "        vertical-align: middle;\n",
              "    }\n",
              "\n",
              "    .dataframe tbody tr th {\n",
              "        vertical-align: top;\n",
              "    }\n",
              "\n",
              "    .dataframe thead th {\n",
              "        text-align: right;\n",
              "    }\n",
              "</style>\n",
              "<table border=\"1\" class=\"dataframe\">\n",
              "  <thead>\n",
              "    <tr style=\"text-align: right;\">\n",
              "      <th></th>\n",
              "      <th>year</th>\n",
              "      <th>income</th>\n",
              "      <th>lifespan</th>\n",
              "      <th>population_total</th>\n",
              "      <th>country</th>\n",
              "      <th>region</th>\n",
              "    </tr>\n",
              "  </thead>\n",
              "  <tbody>\n",
              "    <tr>\n",
              "      <th>0</th>\n",
              "      <td>1800</td>\n",
              "      <td>833</td>\n",
              "      <td>34.42</td>\n",
              "      <td>19286</td>\n",
              "      <td>Aruba</td>\n",
              "      <td>america</td>\n",
              "    </tr>\n",
              "    <tr>\n",
              "      <th>1</th>\n",
              "      <td>1801</td>\n",
              "      <td>833</td>\n",
              "      <td>34.42</td>\n",
              "      <td>19286</td>\n",
              "      <td>Aruba</td>\n",
              "      <td>america</td>\n",
              "    </tr>\n",
              "    <tr>\n",
              "      <th>2</th>\n",
              "      <td>1802</td>\n",
              "      <td>833</td>\n",
              "      <td>34.42</td>\n",
              "      <td>19286</td>\n",
              "      <td>Aruba</td>\n",
              "      <td>america</td>\n",
              "    </tr>\n",
              "    <tr>\n",
              "      <th>3</th>\n",
              "      <td>1803</td>\n",
              "      <td>833</td>\n",
              "      <td>34.42</td>\n",
              "      <td>19286</td>\n",
              "      <td>Aruba</td>\n",
              "      <td>america</td>\n",
              "    </tr>\n",
              "    <tr>\n",
              "      <th>4</th>\n",
              "      <td>1804</td>\n",
              "      <td>833</td>\n",
              "      <td>34.42</td>\n",
              "      <td>19286</td>\n",
              "      <td>Aruba</td>\n",
              "      <td>america</td>\n",
              "    </tr>\n",
              "  </tbody>\n",
              "</table>\n",
              "</div>"
            ],
            "text/plain": [
              "   year  income  lifespan  population_total country   region\n",
              "0  1800     833     34.42             19286   Aruba  america\n",
              "1  1801     833     34.42             19286   Aruba  america\n",
              "2  1802     833     34.42             19286   Aruba  america\n",
              "3  1803     833     34.42             19286   Aruba  america\n",
              "4  1804     833     34.42             19286   Aruba  america"
            ]
          },
          "metadata": {
            "tags": []
          },
          "execution_count": 30
        }
      ]
    },
    {
      "metadata": {
        "id": "faRpduCnfISG",
        "colab_type": "text"
      },
      "cell_type": "markdown",
      "source": [
        "**Explore Data\n",
        "**"
      ]
    },
    {
      "metadata": {
        "id": "eSCdDhgQepn1",
        "colab_type": "code",
        "colab": {
          "base_uri": "https://localhost:8080/",
          "height": 297
        },
        "outputId": "7858029f-28c7-4848-9f14-5161454f1ce8"
      },
      "cell_type": "code",
      "source": [
        "df.describe()"
      ],
      "execution_count": 31,
      "outputs": [
        {
          "output_type": "execute_result",
          "data": {
            "text/html": [
              "<div>\n",
              "<style scoped>\n",
              "    .dataframe tbody tr th:only-of-type {\n",
              "        vertical-align: middle;\n",
              "    }\n",
              "\n",
              "    .dataframe tbody tr th {\n",
              "        vertical-align: top;\n",
              "    }\n",
              "\n",
              "    .dataframe thead th {\n",
              "        text-align: right;\n",
              "    }\n",
              "</style>\n",
              "<table border=\"1\" class=\"dataframe\">\n",
              "  <thead>\n",
              "    <tr style=\"text-align: right;\">\n",
              "      <th></th>\n",
              "      <th>year</th>\n",
              "      <th>income</th>\n",
              "      <th>lifespan</th>\n",
              "      <th>population_total</th>\n",
              "    </tr>\n",
              "  </thead>\n",
              "  <tbody>\n",
              "    <tr>\n",
              "      <th>count</th>\n",
              "      <td>41790.000000</td>\n",
              "      <td>41790.000000</td>\n",
              "      <td>41790.000000</td>\n",
              "      <td>4.179000e+04</td>\n",
              "    </tr>\n",
              "    <tr>\n",
              "      <th>mean</th>\n",
              "      <td>1909.357406</td>\n",
              "      <td>4778.593683</td>\n",
              "      <td>43.267181</td>\n",
              "      <td>1.332550e+07</td>\n",
              "    </tr>\n",
              "    <tr>\n",
              "      <th>std</th>\n",
              "      <td>63.322969</td>\n",
              "      <td>10502.602580</td>\n",
              "      <td>16.394240</td>\n",
              "      <td>6.502349e+07</td>\n",
              "    </tr>\n",
              "    <tr>\n",
              "      <th>min</th>\n",
              "      <td>1800.000000</td>\n",
              "      <td>247.000000</td>\n",
              "      <td>1.000000</td>\n",
              "      <td>2.128000e+03</td>\n",
              "    </tr>\n",
              "    <tr>\n",
              "      <th>25%</th>\n",
              "      <td>1854.000000</td>\n",
              "      <td>884.000000</td>\n",
              "      <td>31.200000</td>\n",
              "      <td>3.760282e+05</td>\n",
              "    </tr>\n",
              "    <tr>\n",
              "      <th>50%</th>\n",
              "      <td>1909.000000</td>\n",
              "      <td>1449.000000</td>\n",
              "      <td>35.500000</td>\n",
              "      <td>1.915244e+06</td>\n",
              "    </tr>\n",
              "    <tr>\n",
              "      <th>75%</th>\n",
              "      <td>1964.000000</td>\n",
              "      <td>3536.750000</td>\n",
              "      <td>56.340000</td>\n",
              "      <td>6.260147e+06</td>\n",
              "    </tr>\n",
              "    <tr>\n",
              "      <th>max</th>\n",
              "      <td>2018.000000</td>\n",
              "      <td>177522.000000</td>\n",
              "      <td>84.170000</td>\n",
              "      <td>1.415046e+09</td>\n",
              "    </tr>\n",
              "  </tbody>\n",
              "</table>\n",
              "</div>"
            ],
            "text/plain": [
              "               year         income      lifespan  population_total\n",
              "count  41790.000000   41790.000000  41790.000000      4.179000e+04\n",
              "mean    1909.357406    4778.593683     43.267181      1.332550e+07\n",
              "std       63.322969   10502.602580     16.394240      6.502349e+07\n",
              "min     1800.000000     247.000000      1.000000      2.128000e+03\n",
              "25%     1854.000000     884.000000     31.200000      3.760282e+05\n",
              "50%     1909.000000    1449.000000     35.500000      1.915244e+06\n",
              "75%     1964.000000    3536.750000     56.340000      6.260147e+06\n",
              "max     2018.000000  177522.000000     84.170000      1.415046e+09"
            ]
          },
          "metadata": {
            "tags": []
          },
          "execution_count": 31
        }
      ]
    },
    {
      "metadata": {
        "id": "z5v_UJWBfL4c",
        "colab_type": "code",
        "colab": {
          "base_uri": "https://localhost:8080/",
          "height": 173
        },
        "outputId": "37651345-fb27-44dd-8bf3-0b3f8144e2d6"
      },
      "cell_type": "code",
      "source": [
        "df.describe(exclude=[np.number])"
      ],
      "execution_count": 32,
      "outputs": [
        {
          "output_type": "execute_result",
          "data": {
            "text/html": [
              "<div>\n",
              "<style scoped>\n",
              "    .dataframe tbody tr th:only-of-type {\n",
              "        vertical-align: middle;\n",
              "    }\n",
              "\n",
              "    .dataframe tbody tr th {\n",
              "        vertical-align: top;\n",
              "    }\n",
              "\n",
              "    .dataframe thead th {\n",
              "        text-align: right;\n",
              "    }\n",
              "</style>\n",
              "<table border=\"1\" class=\"dataframe\">\n",
              "  <thead>\n",
              "    <tr style=\"text-align: right;\">\n",
              "      <th></th>\n",
              "      <th>country</th>\n",
              "      <th>region</th>\n",
              "    </tr>\n",
              "  </thead>\n",
              "  <tbody>\n",
              "    <tr>\n",
              "      <th>count</th>\n",
              "      <td>41790</td>\n",
              "      <td>41790</td>\n",
              "    </tr>\n",
              "    <tr>\n",
              "      <th>unique</th>\n",
              "      <td>194</td>\n",
              "      <td>6</td>\n",
              "    </tr>\n",
              "    <tr>\n",
              "      <th>top</th>\n",
              "      <td>United Arab Emirates</td>\n",
              "      <td>europe_central_asia</td>\n",
              "    </tr>\n",
              "    <tr>\n",
              "      <th>freq</th>\n",
              "      <td>219</td>\n",
              "      <td>10991</td>\n",
              "    </tr>\n",
              "  </tbody>\n",
              "</table>\n",
              "</div>"
            ],
            "text/plain": [
              "                     country               region\n",
              "count                  41790                41790\n",
              "unique                   194                    6\n",
              "top     United Arab Emirates  europe_central_asia\n",
              "freq                     219                10991"
            ]
          },
          "metadata": {
            "tags": []
          },
          "execution_count": 32
        }
      ]
    },
    {
      "metadata": {
        "id": "TupbGAdyfUg8",
        "colab_type": "code",
        "colab": {
          "base_uri": "https://localhost:8080/",
          "height": 697
        },
        "outputId": "9d74213f-7df1-492c-887a-e9ca7e250a4c"
      },
      "cell_type": "code",
      "source": [
        "df.country.unique()"
      ],
      "execution_count": 33,
      "outputs": [
        {
          "output_type": "execute_result",
          "data": {
            "text/plain": [
              "array(['Aruba', 'Afghanistan', 'Angola', 'Albania', 'Andorra',\n",
              "       'United Arab Emirates', 'Argentina', 'Armenia',\n",
              "       'Antigua and Barbuda', 'Australia', 'Austria', 'Azerbaijan',\n",
              "       'Burundi', 'Belgium', 'Benin', 'Burkina Faso', 'Bangladesh',\n",
              "       'Bulgaria', 'Bahrain', 'Bahamas', 'Bosnia and Herzegovina',\n",
              "       'Belarus', 'Belize', 'Bermuda', 'Bolivia', 'Brazil', 'Barbados',\n",
              "       'Brunei', 'Bhutan', 'Botswana', 'Central African Republic',\n",
              "       'Canada', 'Switzerland', 'Chile', 'China', \"Cote d'Ivoire\",\n",
              "       'Cameroon', 'Congo, Dem. Rep.', 'Congo, Rep.', 'Colombia',\n",
              "       'Comoros', 'Cape Verde', 'Costa Rica', 'Cuba', 'Cyprus',\n",
              "       'Czech Republic', 'Germany', 'Djibouti', 'Dominica', 'Denmark',\n",
              "       'Dominican Republic', 'Algeria', 'Ecuador', 'Egypt', 'Eritrea',\n",
              "       'Spain', 'Estonia', 'Ethiopia', 'Finland', 'Fiji', 'France',\n",
              "       'Micronesia, Fed. Sts.', 'Gabon', 'United Kingdom', 'Georgia',\n",
              "       'Ghana', 'Guinea', 'Gambia', 'Guinea-Bissau', 'Equatorial Guinea',\n",
              "       'Greece', 'Grenada', 'Greenland', 'Guatemala', 'Guyana',\n",
              "       'Hong Kong, China', 'Honduras', 'Croatia', 'Haiti', 'Hungary',\n",
              "       'Indonesia', 'India', 'Ireland', 'Iran', 'Iraq', 'Iceland',\n",
              "       'Israel', 'Italy', 'Jamaica', 'Jordan', 'Japan', 'Kazakhstan',\n",
              "       'Kenya', 'Kyrgyz Republic', 'Cambodia', 'Kiribati', 'South Korea',\n",
              "       'Kuwait', 'Lao', 'Lebanon', 'Liberia', 'Libya', 'St. Lucia',\n",
              "       'Sri Lanka', 'Lesotho', 'Lithuania', 'Luxembourg', 'Latvia',\n",
              "       'Macao, China', 'Morocco', 'Moldova', 'Madagascar', 'Maldives',\n",
              "       'Mexico', 'Marshall Islands', 'Macedonia, FYR', 'Mali', 'Malta',\n",
              "       'Myanmar', 'Montenegro', 'Mongolia', 'Mozambique', 'Mauritania',\n",
              "       'Mauritius', 'Malawi', 'Malaysia', 'Namibia', 'Niger', 'Nigeria',\n",
              "       'Nicaragua', 'Netherlands', 'Norway', 'Nepal', 'New Zealand',\n",
              "       'Oman', 'Pakistan', 'Panama', 'Peru', 'Philippines',\n",
              "       'Papua New Guinea', 'Poland', 'Puerto Rico', 'North Korea',\n",
              "       'Portugal', 'Paraguay', 'Palestine', 'Qatar', 'Romania', 'Russia',\n",
              "       'Rwanda', 'Saudi Arabia', 'Sudan', 'Senegal', 'Singapore',\n",
              "       'Solomon Islands', 'Sierra Leone', 'El Salvador', 'Somalia',\n",
              "       'Serbia', 'South Sudan', 'Sao Tome and Principe', 'Suriname',\n",
              "       'Slovak Republic', 'Slovenia', 'Sweden', 'Swaziland', 'Seychelles',\n",
              "       'Syria', 'Chad', 'Togo', 'Thailand', 'Tajikistan', 'Turkmenistan',\n",
              "       'Timor-Leste', 'Tonga', 'Trinidad and Tobago', 'Tunisia', 'Turkey',\n",
              "       'Taiwan', 'Tanzania', 'Uganda', 'Ukraine', 'Uruguay',\n",
              "       'United States', 'Uzbekistan', 'St. Vincent and the Grenadines',\n",
              "       'Venezuela', 'Vietnam', 'Vanuatu', 'Samoa', 'Yemen',\n",
              "       'South Africa', 'Zambia', 'Zimbabwe'], dtype=object)"
            ]
          },
          "metadata": {
            "tags": []
          },
          "execution_count": 33
        }
      ]
    },
    {
      "metadata": {
        "id": "wt9ZgNxlfWUC",
        "colab_type": "code",
        "colab": {}
      },
      "cell_type": "code",
      "source": [
        "usa = df[df.country=='United States']"
      ],
      "execution_count": 0,
      "outputs": []
    },
    {
      "metadata": {
        "id": "cQkZ2Lvdfi_Y",
        "colab_type": "code",
        "colab": {
          "base_uri": "https://localhost:8080/",
          "height": 142
        },
        "outputId": "1461f394-2fbc-4fe3-ad60-d9f255d43808"
      },
      "cell_type": "code",
      "source": [
        "usa[usa.year.isin([1818, 1918, 2018])]"
      ],
      "execution_count": 35,
      "outputs": [
        {
          "output_type": "execute_result",
          "data": {
            "text/html": [
              "<div>\n",
              "<style scoped>\n",
              "    .dataframe tbody tr th:only-of-type {\n",
              "        vertical-align: middle;\n",
              "    }\n",
              "\n",
              "    .dataframe tbody tr th {\n",
              "        vertical-align: top;\n",
              "    }\n",
              "\n",
              "    .dataframe thead th {\n",
              "        text-align: right;\n",
              "    }\n",
              "</style>\n",
              "<table border=\"1\" class=\"dataframe\">\n",
              "  <thead>\n",
              "    <tr style=\"text-align: right;\">\n",
              "      <th></th>\n",
              "      <th>year</th>\n",
              "      <th>income</th>\n",
              "      <th>lifespan</th>\n",
              "      <th>population_total</th>\n",
              "      <th>country</th>\n",
              "      <th>region</th>\n",
              "    </tr>\n",
              "  </thead>\n",
              "  <tbody>\n",
              "    <tr>\n",
              "      <th>39399</th>\n",
              "      <td>1818</td>\n",
              "      <td>2258</td>\n",
              "      <td>39.41</td>\n",
              "      <td>9879049</td>\n",
              "      <td>United States</td>\n",
              "      <td>america</td>\n",
              "    </tr>\n",
              "    <tr>\n",
              "      <th>39499</th>\n",
              "      <td>1918</td>\n",
              "      <td>9371</td>\n",
              "      <td>47.18</td>\n",
              "      <td>106721812</td>\n",
              "      <td>United States</td>\n",
              "      <td>america</td>\n",
              "    </tr>\n",
              "    <tr>\n",
              "      <th>39599</th>\n",
              "      <td>2018</td>\n",
              "      <td>54898</td>\n",
              "      <td>79.14</td>\n",
              "      <td>326766748</td>\n",
              "      <td>United States</td>\n",
              "      <td>america</td>\n",
              "    </tr>\n",
              "  </tbody>\n",
              "</table>\n",
              "</div>"
            ],
            "text/plain": [
              "       year  income  lifespan  population_total        country   region\n",
              "39399  1818    2258     39.41           9879049  United States  america\n",
              "39499  1918    9371     47.18         106721812  United States  america\n",
              "39599  2018   54898     79.14         326766748  United States  america"
            ]
          },
          "metadata": {
            "tags": []
          },
          "execution_count": 35
        }
      ]
    },
    {
      "metadata": {
        "id": "ILlFQ4y3f8Bj",
        "colab_type": "code",
        "colab": {}
      },
      "cell_type": "code",
      "source": [
        "china = df[df.country=='China']"
      ],
      "execution_count": 0,
      "outputs": []
    },
    {
      "metadata": {
        "id": "6D6EopMvgAbw",
        "colab_type": "code",
        "colab": {
          "base_uri": "https://localhost:8080/",
          "height": 142
        },
        "outputId": "5d592c9e-4445-465e-d1a3-79a3d38f9412"
      },
      "cell_type": "code",
      "source": [
        "china[china.year.isin([1818, 1918, 2018])]"
      ],
      "execution_count": 37,
      "outputs": [
        {
          "output_type": "execute_result",
          "data": {
            "text/html": [
              "<div>\n",
              "<style scoped>\n",
              "    .dataframe tbody tr th:only-of-type {\n",
              "        vertical-align: middle;\n",
              "    }\n",
              "\n",
              "    .dataframe tbody tr th {\n",
              "        vertical-align: top;\n",
              "    }\n",
              "\n",
              "    .dataframe thead th {\n",
              "        text-align: right;\n",
              "    }\n",
              "</style>\n",
              "<table border=\"1\" class=\"dataframe\">\n",
              "  <thead>\n",
              "    <tr style=\"text-align: right;\">\n",
              "      <th></th>\n",
              "      <th>year</th>\n",
              "      <th>income</th>\n",
              "      <th>lifespan</th>\n",
              "      <th>population_total</th>\n",
              "      <th>country</th>\n",
              "      <th>region</th>\n",
              "    </tr>\n",
              "  </thead>\n",
              "  <tbody>\n",
              "    <tr>\n",
              "      <th>7120</th>\n",
              "      <td>1818</td>\n",
              "      <td>985</td>\n",
              "      <td>32.00</td>\n",
              "      <td>374161494</td>\n",
              "      <td>China</td>\n",
              "      <td>east_asia_pacific</td>\n",
              "    </tr>\n",
              "    <tr>\n",
              "      <th>7220</th>\n",
              "      <td>1918</td>\n",
              "      <td>989</td>\n",
              "      <td>22.13</td>\n",
              "      <td>462444535</td>\n",
              "      <td>China</td>\n",
              "      <td>east_asia_pacific</td>\n",
              "    </tr>\n",
              "    <tr>\n",
              "      <th>7320</th>\n",
              "      <td>2018</td>\n",
              "      <td>16018</td>\n",
              "      <td>76.92</td>\n",
              "      <td>1415045928</td>\n",
              "      <td>China</td>\n",
              "      <td>east_asia_pacific</td>\n",
              "    </tr>\n",
              "  </tbody>\n",
              "</table>\n",
              "</div>"
            ],
            "text/plain": [
              "      year  income  lifespan  population_total country             region\n",
              "7120  1818     985     32.00         374161494   China  east_asia_pacific\n",
              "7220  1918     989     22.13         462444535   China  east_asia_pacific\n",
              "7320  2018   16018     76.92        1415045928   China  east_asia_pacific"
            ]
          },
          "metadata": {
            "tags": []
          },
          "execution_count": 37
        }
      ]
    },
    {
      "metadata": {
        "id": "JBo7UIkqgFiu",
        "colab_type": "code",
        "colab": {}
      },
      "cell_type": "code",
      "source": [
        ""
      ],
      "execution_count": 0,
      "outputs": []
    },
    {
      "metadata": {
        "id": "UHPiyHXegGyL",
        "colab_type": "text"
      },
      "cell_type": "markdown",
      "source": [
        "**Plot Visualization**"
      ]
    },
    {
      "metadata": {
        "id": "U3v6gZ5wgJp5",
        "colab_type": "code",
        "colab": {}
      },
      "cell_type": "code",
      "source": [
        "now = df[df.year==2018]"
      ],
      "execution_count": 0,
      "outputs": []
    },
    {
      "metadata": {
        "id": "34aQK-RugS29",
        "colab_type": "code",
        "colab": {
          "base_uri": "https://localhost:8080/",
          "height": 204
        },
        "outputId": "a7b2cbac-677d-496d-fc7b-7eab88ca8b41"
      },
      "cell_type": "code",
      "source": [
        "now.head()"
      ],
      "execution_count": 39,
      "outputs": [
        {
          "output_type": "execute_result",
          "data": {
            "text/html": [
              "<div>\n",
              "<style scoped>\n",
              "    .dataframe tbody tr th:only-of-type {\n",
              "        vertical-align: middle;\n",
              "    }\n",
              "\n",
              "    .dataframe tbody tr th {\n",
              "        vertical-align: top;\n",
              "    }\n",
              "\n",
              "    .dataframe thead th {\n",
              "        text-align: right;\n",
              "    }\n",
              "</style>\n",
              "<table border=\"1\" class=\"dataframe\">\n",
              "  <thead>\n",
              "    <tr style=\"text-align: right;\">\n",
              "      <th></th>\n",
              "      <th>year</th>\n",
              "      <th>income</th>\n",
              "      <th>lifespan</th>\n",
              "      <th>population_total</th>\n",
              "      <th>country</th>\n",
              "      <th>region</th>\n",
              "    </tr>\n",
              "  </thead>\n",
              "  <tbody>\n",
              "    <tr>\n",
              "      <th>218</th>\n",
              "      <td>2018</td>\n",
              "      <td>39219</td>\n",
              "      <td>76.14</td>\n",
              "      <td>105670</td>\n",
              "      <td>Aruba</td>\n",
              "      <td>america</td>\n",
              "    </tr>\n",
              "    <tr>\n",
              "      <th>437</th>\n",
              "      <td>2018</td>\n",
              "      <td>1867</td>\n",
              "      <td>58.69</td>\n",
              "      <td>36373176</td>\n",
              "      <td>Afghanistan</td>\n",
              "      <td>south_asia</td>\n",
              "    </tr>\n",
              "    <tr>\n",
              "      <th>656</th>\n",
              "      <td>2018</td>\n",
              "      <td>5846</td>\n",
              "      <td>65.19</td>\n",
              "      <td>30774205</td>\n",
              "      <td>Angola</td>\n",
              "      <td>sub_saharan_africa</td>\n",
              "    </tr>\n",
              "    <tr>\n",
              "      <th>875</th>\n",
              "      <td>2018</td>\n",
              "      <td>12424</td>\n",
              "      <td>78.01</td>\n",
              "      <td>2934363</td>\n",
              "      <td>Albania</td>\n",
              "      <td>europe_central_asia</td>\n",
              "    </tr>\n",
              "    <tr>\n",
              "      <th>1141</th>\n",
              "      <td>2018</td>\n",
              "      <td>68231</td>\n",
              "      <td>76.89</td>\n",
              "      <td>9541615</td>\n",
              "      <td>United Arab Emirates</td>\n",
              "      <td>middle_east_north_africa</td>\n",
              "    </tr>\n",
              "  </tbody>\n",
              "</table>\n",
              "</div>"
            ],
            "text/plain": [
              "      year  income  lifespan  population_total               country  \\\n",
              "218   2018   39219     76.14            105670                 Aruba   \n",
              "437   2018    1867     58.69          36373176           Afghanistan   \n",
              "656   2018    5846     65.19          30774205                Angola   \n",
              "875   2018   12424     78.01           2934363               Albania   \n",
              "1141  2018   68231     76.89           9541615  United Arab Emirates   \n",
              "\n",
              "                        region  \n",
              "218                    america  \n",
              "437                 south_asia  \n",
              "656         sub_saharan_africa  \n",
              "875        europe_central_asia  \n",
              "1141  middle_east_north_africa  "
            ]
          },
          "metadata": {
            "tags": []
          },
          "execution_count": 39
        }
      ]
    },
    {
      "metadata": {
        "id": "OPkWyu3Yga1o",
        "colab_type": "code",
        "colab": {
          "base_uri": "https://localhost:8080/",
          "height": 34
        },
        "outputId": "d2054821-9b68-4cd0-cfbf-80614b4d122b"
      },
      "cell_type": "code",
      "source": [
        "now.shape"
      ],
      "execution_count": 40,
      "outputs": [
        {
          "output_type": "execute_result",
          "data": {
            "text/plain": [
              "(188, 6)"
            ]
          },
          "metadata": {
            "tags": []
          },
          "execution_count": 40
        }
      ]
    },
    {
      "metadata": {
        "id": "wJ5zCyqXgbzj",
        "colab_type": "code",
        "colab": {
          "base_uri": "https://localhost:8080/",
          "height": 369
        },
        "outputId": "f61b5b07-9f84-463c-8a65-c2cee4edf80c"
      },
      "cell_type": "code",
      "source": [
        "sns.relplot(x='income', y='lifespan', hue='region', size='population_total', data=now);"
      ],
      "execution_count": 41,
      "outputs": [
        {
          "output_type": "display_data",
          "data": {
            "image/png": "[encoded data removed]",
            "text/plain": [
              "<matplotlib.figure.Figure at 0x7ff2084df3c8>"
            ]
          },
          "metadata": {
            "tags": []
          }
        }
      ]
    },
    {
      "metadata": {
        "id": "7Fna-Eynhu0l",
        "colab_type": "text"
      },
      "cell_type": "markdown",
      "source": [
        "** Analyze Outliers **"
      ]
    },
    {
      "metadata": {
        "id": "BRnpx4orh61h",
        "colab_type": "code",
        "colab": {}
      },
      "cell_type": "code",
      "source": [
        "# sns.relplot(x='income', y='lifespan', hue='region', sizes='population_total', data=now);"
      ],
      "execution_count": 0,
      "outputs": []
    },
    {
      "metadata": {
        "id": "FPkRr-BrleCr",
        "colab_type": "code",
        "colab": {
          "base_uri": "https://localhost:8080/",
          "height": 173
        },
        "outputId": "32f205cb-62e5-4da4-909a-a461739e5b06"
      },
      "cell_type": "code",
      "source": [
        "now[now['income'] > 80000]"
      ],
      "execution_count": 57,
      "outputs": [
        {
          "output_type": "execute_result",
          "data": {
            "text/html": [
              "<div>\n",
              "<style scoped>\n",
              "    .dataframe tbody tr th:only-of-type {\n",
              "        vertical-align: middle;\n",
              "    }\n",
              "\n",
              "    .dataframe tbody tr th {\n",
              "        vertical-align: top;\n",
              "    }\n",
              "\n",
              "    .dataframe thead th {\n",
              "        text-align: right;\n",
              "    }\n",
              "</style>\n",
              "<table border=\"1\" class=\"dataframe\">\n",
              "  <thead>\n",
              "    <tr style=\"text-align: right;\">\n",
              "      <th></th>\n",
              "      <th>year</th>\n",
              "      <th>income</th>\n",
              "      <th>lifespan</th>\n",
              "      <th>population_total</th>\n",
              "      <th>country</th>\n",
              "      <th>region</th>\n",
              "    </tr>\n",
              "  </thead>\n",
              "  <tbody>\n",
              "    <tr>\n",
              "      <th>22910</th>\n",
              "      <td>2018</td>\n",
              "      <td>99034</td>\n",
              "      <td>82.39</td>\n",
              "      <td>590321</td>\n",
              "      <td>Luxembourg</td>\n",
              "      <td>europe_central_asia</td>\n",
              "    </tr>\n",
              "    <tr>\n",
              "      <th>23348</th>\n",
              "      <td>2018</td>\n",
              "      <td>97057</td>\n",
              "      <td>83.24</td>\n",
              "      <td>632418</td>\n",
              "      <td>Macao, China</td>\n",
              "      <td>east_asia_pacific</td>\n",
              "    </tr>\n",
              "    <tr>\n",
              "      <th>31498</th>\n",
              "      <td>2018</td>\n",
              "      <td>121033</td>\n",
              "      <td>80.71</td>\n",
              "      <td>2694849</td>\n",
              "      <td>Qatar</td>\n",
              "      <td>middle_east_north_africa</td>\n",
              "    </tr>\n",
              "    <tr>\n",
              "      <th>33031</th>\n",
              "      <td>2018</td>\n",
              "      <td>83888</td>\n",
              "      <td>84.03</td>\n",
              "      <td>5791901</td>\n",
              "      <td>Singapore</td>\n",
              "      <td>east_asia_pacific</td>\n",
              "    </tr>\n",
              "  </tbody>\n",
              "</table>\n",
              "</div>"
            ],
            "text/plain": [
              "       year  income  lifespan  population_total       country  \\\n",
              "22910  2018   99034     82.39            590321    Luxembourg   \n",
              "23348  2018   97057     83.24            632418  Macao, China   \n",
              "31498  2018  121033     80.71           2694849         Qatar   \n",
              "33031  2018   83888     84.03           5791901     Singapore   \n",
              "\n",
              "                         region  \n",
              "22910       europe_central_asia  \n",
              "23348         east_asia_pacific  \n",
              "31498  middle_east_north_africa  \n",
              "33031         east_asia_pacific  "
            ]
          },
          "metadata": {
            "tags": []
          },
          "execution_count": 57
        }
      ]
    },
    {
      "metadata": {
        "id": "u5iwUip3nE1v",
        "colab_type": "code",
        "colab": {
          "base_uri": "https://localhost:8080/",
          "height": 1072
        },
        "outputId": "00cdaba1-2a49-4975-da2d-010bedd9f3b9"
      },
      "cell_type": "code",
      "source": [
        "# Macao is considered a country\n",
        "\n",
        "entities[entities.name=='Macao, China'].T"
      ],
      "execution_count": 59,
      "outputs": [
        {
          "output_type": "execute_result",
          "data": {
            "text/html": [
              "<div>\n",
              "<style scoped>\n",
              "    .dataframe tbody tr th:only-of-type {\n",
              "        vertical-align: middle;\n",
              "    }\n",
              "\n",
              "    .dataframe tbody tr th {\n",
              "        vertical-align: top;\n",
              "    }\n",
              "\n",
              "    .dataframe thead th {\n",
              "        text-align: right;\n",
              "    }\n",
              "</style>\n",
              "<table border=\"1\" class=\"dataframe\">\n",
              "  <thead>\n",
              "    <tr style=\"text-align: right;\">\n",
              "      <th></th>\n",
              "      <th>145</th>\n",
              "    </tr>\n",
              "  </thead>\n",
              "  <tbody>\n",
              "    <tr>\n",
              "      <th>country</th>\n",
              "      <td>mac</td>\n",
              "    </tr>\n",
              "    <tr>\n",
              "      <th>alt_5</th>\n",
              "      <td>MACAU SPECIAL ADMINISTRATIVE REGION OF CHINA</td>\n",
              "    </tr>\n",
              "    <tr>\n",
              "      <th>alternative_1</th>\n",
              "      <td>Macau</td>\n",
              "    </tr>\n",
              "    <tr>\n",
              "      <th>alternative_2</th>\n",
              "      <td>Macao</td>\n",
              "    </tr>\n",
              "    <tr>\n",
              "      <th>alternative_3</th>\n",
              "      <td>China, Macao SAR</td>\n",
              "    </tr>\n",
              "    <tr>\n",
              "      <th>alternative_4_cdiac</th>\n",
              "      <td>Macau</td>\n",
              "    </tr>\n",
              "    <tr>\n",
              "      <th>arb1</th>\n",
              "      <td>Macao SAR, China</td>\n",
              "    </tr>\n",
              "    <tr>\n",
              "      <th>arb2</th>\n",
              "      <td>NaN</td>\n",
              "    </tr>\n",
              "    <tr>\n",
              "      <th>arb3</th>\n",
              "      <td>NaN</td>\n",
              "    </tr>\n",
              "    <tr>\n",
              "      <th>arb4</th>\n",
              "      <td>NaN</td>\n",
              "    </tr>\n",
              "    <tr>\n",
              "      <th>arb5</th>\n",
              "      <td>NaN</td>\n",
              "    </tr>\n",
              "    <tr>\n",
              "      <th>arb6</th>\n",
              "      <td>NaN</td>\n",
              "    </tr>\n",
              "    <tr>\n",
              "      <th>g77_and_oecd_countries</th>\n",
              "      <td>others</td>\n",
              "    </tr>\n",
              "    <tr>\n",
              "      <th>gapminder_list</th>\n",
              "      <td>Macao, China</td>\n",
              "    </tr>\n",
              "    <tr>\n",
              "      <th>god_id</th>\n",
              "      <td>MO</td>\n",
              "    </tr>\n",
              "    <tr>\n",
              "      <th>gwid</th>\n",
              "      <td>i130</td>\n",
              "    </tr>\n",
              "    <tr>\n",
              "      <th>income_groups</th>\n",
              "      <td>high_income</td>\n",
              "    </tr>\n",
              "    <tr>\n",
              "      <th>is--country</th>\n",
              "      <td>True</td>\n",
              "    </tr>\n",
              "    <tr>\n",
              "      <th>iso3166_1_alpha2</th>\n",
              "      <td>MO</td>\n",
              "    </tr>\n",
              "    <tr>\n",
              "      <th>iso3166_1_alpha3</th>\n",
              "      <td>MAC</td>\n",
              "    </tr>\n",
              "    <tr>\n",
              "      <th>iso3166_1_numeric</th>\n",
              "      <td>446</td>\n",
              "    </tr>\n",
              "    <tr>\n",
              "      <th>iso3166_2</th>\n",
              "      <td>NaN</td>\n",
              "    </tr>\n",
              "    <tr>\n",
              "      <th>landlocked</th>\n",
              "      <td>coastline</td>\n",
              "    </tr>\n",
              "    <tr>\n",
              "      <th>latitude</th>\n",
              "      <td>22.2006</td>\n",
              "    </tr>\n",
              "    <tr>\n",
              "      <th>longitude</th>\n",
              "      <td>113.546</td>\n",
              "    </tr>\n",
              "    <tr>\n",
              "      <th>main_religion_2008</th>\n",
              "      <td>eastern_religions</td>\n",
              "    </tr>\n",
              "    <tr>\n",
              "      <th>name</th>\n",
              "      <td>Macao, China</td>\n",
              "    </tr>\n",
              "    <tr>\n",
              "      <th>pandg</th>\n",
              "      <td>NaN</td>\n",
              "    </tr>\n",
              "    <tr>\n",
              "      <th>un_state</th>\n",
              "      <td>False</td>\n",
              "    </tr>\n",
              "    <tr>\n",
              "      <th>unicode_region_subtag</th>\n",
              "      <td>MO</td>\n",
              "    </tr>\n",
              "    <tr>\n",
              "      <th>upper_case_name</th>\n",
              "      <td>MACAU</td>\n",
              "    </tr>\n",
              "    <tr>\n",
              "      <th>world_4region</th>\n",
              "      <td>asia</td>\n",
              "    </tr>\n",
              "    <tr>\n",
              "      <th>world_6region</th>\n",
              "      <td>east_asia_pacific</td>\n",
              "    </tr>\n",
              "  </tbody>\n",
              "</table>\n",
              "</div>"
            ],
            "text/plain": [
              "                                                                 145\n",
              "country                                                          mac\n",
              "alt_5                   MACAU SPECIAL ADMINISTRATIVE REGION OF CHINA\n",
              "alternative_1                                                  Macau\n",
              "alternative_2                                                  Macao\n",
              "alternative_3                                       China, Macao SAR\n",
              "alternative_4_cdiac                                            Macau\n",
              "arb1                                                Macao SAR, China\n",
              "arb2                                                             NaN\n",
              "arb3                                                             NaN\n",
              "arb4                                                             NaN\n",
              "arb5                                                             NaN\n",
              "arb6                                                             NaN\n",
              "g77_and_oecd_countries                                        others\n",
              "gapminder_list                                          Macao, China\n",
              "god_id                                                            MO\n",
              "gwid                                                            i130\n",
              "income_groups                                            high_income\n",
              "is--country                                                     True\n",
              "iso3166_1_alpha2                                                  MO\n",
              "iso3166_1_alpha3                                                 MAC\n",
              "iso3166_1_numeric                                                446\n",
              "iso3166_2                                                        NaN\n",
              "landlocked                                                 coastline\n",
              "latitude                                                     22.2006\n",
              "longitude                                                    113.546\n",
              "main_religion_2008                                 eastern_religions\n",
              "name                                                    Macao, China\n",
              "pandg                                                            NaN\n",
              "un_state                                                       False\n",
              "unicode_region_subtag                                             MO\n",
              "upper_case_name                                                MACAU\n",
              "world_4region                                                   asia\n",
              "world_6region                                      east_asia_pacific"
            ]
          },
          "metadata": {
            "tags": []
          },
          "execution_count": 59
        }
      ]
    },
    {
      "metadata": {
        "id": "AEVEtTa9nKxS",
        "colab_type": "code",
        "colab": {
          "base_uri": "https://localhost:8080/",
          "height": 51
        },
        "outputId": "12a9bd6c-e7d3-4ba4-fc0e-ed4c60fd7403"
      },
      "cell_type": "code",
      "source": [
        "qatar = now[now['country']=='Qatar']\n",
        "qatar.income"
      ],
      "execution_count": 60,
      "outputs": [
        {
          "output_type": "execute_result",
          "data": {
            "text/plain": [
              "31498    121033\n",
              "Name: income, dtype: int64"
            ]
          },
          "metadata": {
            "tags": []
          },
          "execution_count": 60
        }
      ]
    },
    {
      "metadata": {
        "id": "rvy9W0hDn47v",
        "colab_type": "code",
        "colab": {
          "base_uri": "https://localhost:8080/",
          "height": 34
        },
        "outputId": "635fbae4-82c7-4c83-cdb4-ebe73ed24d45"
      },
      "cell_type": "code",
      "source": [
        "qatar.income.values"
      ],
      "execution_count": 61,
      "outputs": [
        {
          "output_type": "execute_result",
          "data": {
            "text/plain": [
              "array([121033])"
            ]
          },
          "metadata": {
            "tags": []
          },
          "execution_count": 61
        }
      ]
    },
    {
      "metadata": {
        "id": "3oGHpVoGn9tI",
        "colab_type": "code",
        "colab": {
          "base_uri": "https://localhost:8080/",
          "height": 34
        },
        "outputId": "3ca97df1-1e4a-44ea-ebf5-c502b0dc6478"
      },
      "cell_type": "code",
      "source": [
        "qatar.income.values[0]"
      ],
      "execution_count": 62,
      "outputs": [
        {
          "output_type": "execute_result",
          "data": {
            "text/plain": [
              "121033"
            ]
          },
          "metadata": {
            "tags": []
          },
          "execution_count": 62
        }
      ]
    },
    {
      "metadata": {
        "id": "Qnt-ikfIoEwI",
        "colab_type": "code",
        "colab": {}
      },
      "cell_type": "code",
      "source": [
        "qatar_income = qatar.income.values[0]\n",
        "qatar_lifespan = qatar.lifespan.values[0]"
      ],
      "execution_count": 0,
      "outputs": []
    },
    {
      "metadata": {
        "id": "Dlq--hyPoPu0",
        "colab_type": "code",
        "colab": {
          "base_uri": "https://localhost:8080/",
          "height": 382
        },
        "outputId": "76c9f84b-63e9-4998-f9c8-c1eb8ff2661c"
      },
      "cell_type": "code",
      "source": [
        "sns.relplot(x=\"income\", y=\"lifespan\", hue='region', size='population_total', data=now)\n",
        "\n",
        "plt.text(x=qatar_income, y=qatar_lifespan, s='Qatar')\n",
        "plt.title('Qatar has the highest incomes in 2018');"
      ],
      "execution_count": 66,
      "outputs": [
        {
          "output_type": "display_data",
          "data": {
            "image/png": "[encoded data removed]",
            "text/plain": [
              "<matplotlib.figure.Figure at 0x7fce9da45f60>"
            ]
          },
          "metadata": {
            "tags": []
          }
        }
      ]
    },
    {
      "metadata": {
        "id": "939njU00hqKC",
        "colab_type": "text"
      },
      "cell_type": "markdown",
      "source": [
        "**Plot Multiple Years**"
      ]
    },
    {
      "metadata": {
        "id": "oAOR05BRpUBj",
        "colab_type": "code",
        "colab": {
          "base_uri": "https://localhost:8080/",
          "height": 204
        },
        "outputId": "7c6191ca-b918-42a7-eab4-489c349532fa"
      },
      "cell_type": "code",
      "source": [
        "years = [1818, 1918, 2018]\n",
        "\n",
        "centuries = df[df.year.isin(years)]\n",
        "\n",
        "centuries.sample(5)"
      ],
      "execution_count": 69,
      "outputs": [
        {
          "output_type": "execute_result",
          "data": {
            "text/html": [
              "<div>\n",
              "<style scoped>\n",
              "    .dataframe tbody tr th:only-of-type {\n",
              "        vertical-align: middle;\n",
              "    }\n",
              "\n",
              "    .dataframe tbody tr th {\n",
              "        vertical-align: top;\n",
              "    }\n",
              "\n",
              "    .dataframe thead th {\n",
              "        text-align: right;\n",
              "    }\n",
              "</style>\n",
              "<table border=\"1\" class=\"dataframe\">\n",
              "  <thead>\n",
              "    <tr style=\"text-align: right;\">\n",
              "      <th></th>\n",
              "      <th>year</th>\n",
              "      <th>income</th>\n",
              "      <th>lifespan</th>\n",
              "      <th>population_total</th>\n",
              "      <th>country</th>\n",
              "      <th>region</th>\n",
              "    </tr>\n",
              "  </thead>\n",
              "  <tbody>\n",
              "    <tr>\n",
              "      <th>26480</th>\n",
              "      <td>1818</td>\n",
              "      <td>351</td>\n",
              "      <td>30.30</td>\n",
              "      <td>737000</td>\n",
              "      <td>Malawi</td>\n",
              "      <td>sub_saharan_africa</td>\n",
              "    </tr>\n",
              "    <tr>\n",
              "      <th>11966</th>\n",
              "      <td>2018</td>\n",
              "      <td>29457</td>\n",
              "      <td>77.66</td>\n",
              "      <td>1306788</td>\n",
              "      <td>Estonia</td>\n",
              "      <td>europe_central_asia</td>\n",
              "    </tr>\n",
              "    <tr>\n",
              "      <th>25147</th>\n",
              "      <td>2018</td>\n",
              "      <td>37938</td>\n",
              "      <td>81.75</td>\n",
              "      <td>432089</td>\n",
              "      <td>Malta</td>\n",
              "      <td>europe_central_asia</td>\n",
              "    </tr>\n",
              "    <tr>\n",
              "      <th>31517</th>\n",
              "      <td>1818</td>\n",
              "      <td>817</td>\n",
              "      <td>35.70</td>\n",
              "      <td>6293216</td>\n",
              "      <td>Romania</td>\n",
              "      <td>europe_central_asia</td>\n",
              "    </tr>\n",
              "    <tr>\n",
              "      <th>38306</th>\n",
              "      <td>1818</td>\n",
              "      <td>998</td>\n",
              "      <td>28.30</td>\n",
              "      <td>2010991</td>\n",
              "      <td>Taiwan</td>\n",
              "      <td>east_asia_pacific</td>\n",
              "    </tr>\n",
              "  </tbody>\n",
              "</table>\n",
              "</div>"
            ],
            "text/plain": [
              "       year  income  lifespan  population_total  country               region\n",
              "26480  1818     351     30.30            737000   Malawi   sub_saharan_africa\n",
              "11966  2018   29457     77.66           1306788  Estonia  europe_central_asia\n",
              "25147  2018   37938     81.75            432089    Malta  europe_central_asia\n",
              "31517  1818     817     35.70           6293216  Romania  europe_central_asia\n",
              "38306  1818     998     28.30           2010991   Taiwan    east_asia_pacific"
            ]
          },
          "metadata": {
            "tags": []
          },
          "execution_count": 69
        }
      ]
    },
    {
      "metadata": {
        "id": "HAVTSzB4pnCj",
        "colab_type": "code",
        "colab": {
          "base_uri": "https://localhost:8080/",
          "height": 373
        },
        "outputId": "9d4e6245-d944-47c7-aaf0-8af94d6dc77e"
      },
      "cell_type": "code",
      "source": [
        "sns.relplot(x=\"income\", y=\"lifespan\", hue='region', size='population_total',\n",
        "            col='year', data=centuries)\n",
        "\n",
        "plt.xscale('log');"
      ],
      "execution_count": 71,
      "outputs": [
        {
          "output_type": "display_data",
          "data": {
            "image/png": "[encoded data removed]",
            "text/plain": [
              "<matplotlib.figure.Figure at 0x7fce9d7c6748>"
            ]
          },
          "metadata": {
            "tags": []
          }
        }
      ]
    },
    {
      "metadata": {
        "id": "W73yvTLerXbF",
        "colab_type": "code",
        "colab": {
          "base_uri": "https://localhost:8080/",
          "height": 102
        },
        "outputId": "978120a4-eec6-4620-9a40-b848d99eb503"
      },
      "cell_type": "code",
      "source": [
        "# Consistent number of countries per year?\n",
        "\n",
        "centuries.groupby('year').country.count()"
      ],
      "execution_count": 72,
      "outputs": [
        {
          "output_type": "execute_result",
          "data": {
            "text/plain": [
              "year\n",
              "1818    190\n",
              "1918    190\n",
              "2018    188\n",
              "Name: country, dtype: int64"
            ]
          },
          "metadata": {
            "tags": []
          },
          "execution_count": 72
        }
      ]
    },
    {
      "metadata": {
        "id": "u_OoJwRUrnK4",
        "colab_type": "code",
        "colab": {
          "base_uri": "https://localhost:8080/",
          "height": 85
        },
        "outputId": "94e2348a-6ce7-4ef2-a56b-13f872a9e449"
      },
      "cell_type": "code",
      "source": [
        "years_per_country = centuries.groupby('country').year.count()\n",
        "years_per_country[years_per_country < 3]"
      ],
      "execution_count": 73,
      "outputs": [
        {
          "output_type": "execute_result",
          "data": {
            "text/plain": [
              "country\n",
              "Greenland    2\n",
              "Taiwan       2\n",
              "Name: year, dtype: int64"
            ]
          },
          "metadata": {
            "tags": []
          },
          "execution_count": 73
        }
      ]
    },
    {
      "metadata": {
        "id": "YfhrtknQh3bp",
        "colab_type": "text"
      },
      "cell_type": "markdown",
      "source": [
        "**Point Out Story**"
      ]
    },
    {
      "metadata": {
        "id": "mJIBB2U9sIg-",
        "colab_type": "code",
        "colab": {
          "base_uri": "https://localhost:8080/",
          "height": 2173
        },
        "outputId": "8f57b2cb-5c23-453b-85b3-9cd67550b404"
      },
      "cell_type": "code",
      "source": [
        "years = [1918, 1938, 1958, 1978, 1988, 2018]\n",
        "\n",
        "subset = df[df.year.isin(years)]\n",
        "\n",
        "sns.relplot(x='income', y='lifespan', hue='region', size='population_total',\n",
        "           row='year', data=subset)\n",
        "\n",
        "plt.xscale('log')\n",
        "plt.xlim((150, 150000));"
      ],
      "execution_count": 75,
      "outputs": [
        {
          "output_type": "display_data",
          "data": {
            "image/png": "[encoded data removed]",
            "text/plain": [
              "<matplotlib.figure.Figure at 0x7fce9bbb4f60>"
            ]
          },
          "metadata": {
            "tags": []
          }
        }
      ]
    },
    {
      "metadata": {
        "id": "l4jH8zWmtEi1",
        "colab_type": "code",
        "colab": {
          "base_uri": "https://localhost:8080/",
          "height": 34
        },
        "outputId": "7bcf9c03-eaad-4b3a-bc44-ef72f52d93ce"
      },
      "cell_type": "code",
      "source": [
        "years"
      ],
      "execution_count": 76,
      "outputs": [
        {
          "output_type": "execute_result",
          "data": {
            "text/plain": [
              "[1918, 1938, 1958, 1978, 1988, 2018]"
            ]
          },
          "metadata": {
            "tags": []
          },
          "execution_count": 76
        }
      ]
    },
    {
      "metadata": {
        "id": "ScmaCq5hh2Nq",
        "colab_type": "code",
        "colab": {
          "base_uri": "https://localhost:8080/",
          "height": 2231
        },
        "outputId": "4a1a6b2c-2741-43e6-acad-d317425d6cf9"
      },
      "cell_type": "code",
      "source": [
        "for year in years:\n",
        "  \n",
        "\n",
        "  sns.relplot(x='income', y='lifespan', hue='region', size='population_total',\n",
        "            data=df[df.year==year])\n",
        "\n",
        "  plt.xscale('log')\n",
        "  plt.xlim((150, 150000));\n",
        "  plt.ylim((20, 90))\n",
        "  plt.title(year)\n",
        "  plt.axhline(y=50, color='grey');"
      ],
      "execution_count": 77,
      "outputs": [
        {
          "output_type": "display_data",
          "data": {
            "image/png": "[encoded data removed]",
            "text/plain": [
              "<matplotlib.figure.Figure at 0x7fce9d66b550>"
            ]
          },
          "metadata": {
            "tags": []
          }
        },
        {
          "output_type": "display_data",
          "data": {
            "image/png": "[encoded data removed]",
            "text/plain": [
              "<matplotlib.figure.Figure at 0x7fce9d651a58>"
            ]
          },
          "metadata": {
            "tags": []
          }
        },
        {
          "output_type": "display_data",
          "data": {
            "image/png": "[encoded data removed]",
            "text/plain": [
              "<matplotlib.figure.Figure at 0x7fce9bd08588>"
            ]
          },
          "metadata": {
            "tags": []
          }
        },
        {
          "output_type": "display_data",
          "data": {
            "image/png": "[encoded data removed]",
            "text/plain": [
              "<matplotlib.figure.Figure at 0x7fce9bd66eb8>"
            ]
          },
          "metadata": {
            "tags": []
          }
        },
        {
          "output_type": "display_data",
          "data": {
            "image/png": "[encoded data removed]",
            "text/plain": [
              "<matplotlib.figure.Figure at 0x7fce9b9744a8>"
            ]
          },
          "metadata": {
            "tags": []
          }
        },
        {
          "output_type": "display_data",
          "data": {
            "image/png": "[encoded data removed]",
            "text/plain": [
              "<matplotlib.figure.Figure at 0x7fce9b8ebc88>"
            ]
          },
          "metadata": {
            "tags": []
          }
        }
      ]
    },
    {
      "metadata": {
        "id": "m1tRaL9gtUS6",
        "colab_type": "code",
        "colab": {
          "base_uri": "https://localhost:8080/",
          "height": 173
        },
        "outputId": "7d2f1e5a-42fa-4316-dd0c-489313d33e38"
      },
      "cell_type": "code",
      "source": [
        "df[(df.year==1918) & (df.lifespan >= 50)]"
      ],
      "execution_count": 78,
      "outputs": [
        {
          "output_type": "execute_result",
          "data": {
            "text/html": [
              "<div>\n",
              "<style scoped>\n",
              "    .dataframe tbody tr th:only-of-type {\n",
              "        vertical-align: middle;\n",
              "    }\n",
              "\n",
              "    .dataframe tbody tr th {\n",
              "        vertical-align: top;\n",
              "    }\n",
              "\n",
              "    .dataframe thead th {\n",
              "        text-align: right;\n",
              "    }\n",
              "</style>\n",
              "<table border=\"1\" class=\"dataframe\">\n",
              "  <thead>\n",
              "    <tr style=\"text-align: right;\">\n",
              "      <th></th>\n",
              "      <th>year</th>\n",
              "      <th>income</th>\n",
              "      <th>lifespan</th>\n",
              "      <th>population_total</th>\n",
              "      <th>country</th>\n",
              "      <th>region</th>\n",
              "    </tr>\n",
              "  </thead>\n",
              "  <tbody>\n",
              "    <tr>\n",
              "      <th>1917</th>\n",
              "      <td>1918</td>\n",
              "      <td>7610</td>\n",
              "      <td>54.95</td>\n",
              "      <td>5066003</td>\n",
              "      <td>Australia</td>\n",
              "      <td>east_asia_pacific</td>\n",
              "    </tr>\n",
              "    <tr>\n",
              "      <th>10333</th>\n",
              "      <td>1918</td>\n",
              "      <td>6393</td>\n",
              "      <td>56.24</td>\n",
              "      <td>3165276</td>\n",
              "      <td>Denmark</td>\n",
              "      <td>europe_central_asia</td>\n",
              "    </tr>\n",
              "    <tr>\n",
              "      <th>18211</th>\n",
              "      <td>1918</td>\n",
              "      <td>2576</td>\n",
              "      <td>51.11</td>\n",
              "      <td>115504</td>\n",
              "      <td>Iceland</td>\n",
              "      <td>europe_central_asia</td>\n",
              "    </tr>\n",
              "    <tr>\n",
              "      <th>28113</th>\n",
              "      <td>1918</td>\n",
              "      <td>4479</td>\n",
              "      <td>50.28</td>\n",
              "      <td>2576646</td>\n",
              "      <td>Norway</td>\n",
              "      <td>europe_central_asia</td>\n",
              "    </tr>\n",
              "  </tbody>\n",
              "</table>\n",
              "</div>"
            ],
            "text/plain": [
              "       year  income  lifespan  population_total    country  \\\n",
              "1917   1918    7610     54.95           5066003  Australia   \n",
              "10333  1918    6393     56.24           3165276    Denmark   \n",
              "18211  1918    2576     51.11            115504    Iceland   \n",
              "28113  1918    4479     50.28           2576646     Norway   \n",
              "\n",
              "                    region  \n",
              "1917     east_asia_pacific  \n",
              "10333  europe_central_asia  \n",
              "18211  europe_central_asia  \n",
              "28113  europe_central_asia  "
            ]
          },
          "metadata": {
            "tags": []
          },
          "execution_count": 78
        }
      ]
    },
    {
      "metadata": {
        "id": "fphorKrhuCo2",
        "colab_type": "code",
        "colab": {
          "base_uri": "https://localhost:8080/",
          "height": 49
        },
        "outputId": "d879ddda-81b2-4bfd-e564-301d056fb1be"
      },
      "cell_type": "code",
      "source": [
        "df[(df.year==2018) & (df.lifespan <= 50)]"
      ],
      "execution_count": 79,
      "outputs": [
        {
          "output_type": "execute_result",
          "data": {
            "text/html": [
              "<div>\n",
              "<style scoped>\n",
              "    .dataframe tbody tr th:only-of-type {\n",
              "        vertical-align: middle;\n",
              "    }\n",
              "\n",
              "    .dataframe tbody tr th {\n",
              "        vertical-align: top;\n",
              "    }\n",
              "\n",
              "    .dataframe thead th {\n",
              "        text-align: right;\n",
              "    }\n",
              "</style>\n",
              "<table border=\"1\" class=\"dataframe\">\n",
              "  <thead>\n",
              "    <tr style=\"text-align: right;\">\n",
              "      <th></th>\n",
              "      <th>year</th>\n",
              "      <th>income</th>\n",
              "      <th>lifespan</th>\n",
              "      <th>population_total</th>\n",
              "      <th>country</th>\n",
              "      <th>region</th>\n",
              "    </tr>\n",
              "  </thead>\n",
              "  <tbody>\n",
              "  </tbody>\n",
              "</table>\n",
              "</div>"
            ],
            "text/plain": [
              "Empty DataFrame\n",
              "Columns: [year, income, lifespan, population_total, country, region]\n",
              "Index: []"
            ]
          },
          "metadata": {
            "tags": []
          },
          "execution_count": 79
        }
      ]
    },
    {
      "metadata": {
        "id": "cHE3QBDMtsmj",
        "colab_type": "text"
      },
      "cell_type": "markdown",
      "source": [
        "**Today no countries with lifespans below 50 years**"
      ]
    },
    {
      "metadata": {
        "id": "JlhqaFmFujOE",
        "colab_type": "text"
      },
      "cell_type": "markdown",
      "source": [
        "**Interactivity**"
      ]
    },
    {
      "metadata": {
        "id": "UXpiVhBduOlm",
        "colab_type": "code",
        "colab": {}
      },
      "cell_type": "code",
      "source": [
        ""
      ],
      "execution_count": 0,
      "outputs": []
    },
    {
      "metadata": {
        "id": "Sj1nWNZZFuqq",
        "colab_type": "text"
      },
      "cell_type": "markdown",
      "source": [
        "# Assignment Exploring Gapminder\n"
      ]
    },
    {
      "metadata": {
        "id": "dZqyIk1daA7b",
        "colab_type": "text"
      },
      "cell_type": "markdown",
      "source": [
        "**Please skip to the bottom for the plots and rationale for my plots.**"
      ]
    },
    {
      "metadata": {
        "id": "0TNLBT1QH8Pq",
        "colab_type": "code",
        "colab": {
          "base_uri": "https://localhost:8080/",
          "height": 204
        },
        "outputId": "5b8914b3-b9be-498c-d7c2-98dfb41117ff"
      },
      "cell_type": "code",
      "source": [
        "df.head()"
      ],
      "execution_count": 42,
      "outputs": [
        {
          "output_type": "execute_result",
          "data": {
            "text/html": [
              "<div>\n",
              "<style scoped>\n",
              "    .dataframe tbody tr th:only-of-type {\n",
              "        vertical-align: middle;\n",
              "    }\n",
              "\n",
              "    .dataframe tbody tr th {\n",
              "        vertical-align: top;\n",
              "    }\n",
              "\n",
              "    .dataframe thead th {\n",
              "        text-align: right;\n",
              "    }\n",
              "</style>\n",
              "<table border=\"1\" class=\"dataframe\">\n",
              "  <thead>\n",
              "    <tr style=\"text-align: right;\">\n",
              "      <th></th>\n",
              "      <th>year</th>\n",
              "      <th>income</th>\n",
              "      <th>lifespan</th>\n",
              "      <th>population_total</th>\n",
              "      <th>country</th>\n",
              "      <th>region</th>\n",
              "    </tr>\n",
              "  </thead>\n",
              "  <tbody>\n",
              "    <tr>\n",
              "      <th>0</th>\n",
              "      <td>1800</td>\n",
              "      <td>833</td>\n",
              "      <td>34.42</td>\n",
              "      <td>19286</td>\n",
              "      <td>Aruba</td>\n",
              "      <td>america</td>\n",
              "    </tr>\n",
              "    <tr>\n",
              "      <th>1</th>\n",
              "      <td>1801</td>\n",
              "      <td>833</td>\n",
              "      <td>34.42</td>\n",
              "      <td>19286</td>\n",
              "      <td>Aruba</td>\n",
              "      <td>america</td>\n",
              "    </tr>\n",
              "    <tr>\n",
              "      <th>2</th>\n",
              "      <td>1802</td>\n",
              "      <td>833</td>\n",
              "      <td>34.42</td>\n",
              "      <td>19286</td>\n",
              "      <td>Aruba</td>\n",
              "      <td>america</td>\n",
              "    </tr>\n",
              "    <tr>\n",
              "      <th>3</th>\n",
              "      <td>1803</td>\n",
              "      <td>833</td>\n",
              "      <td>34.42</td>\n",
              "      <td>19286</td>\n",
              "      <td>Aruba</td>\n",
              "      <td>america</td>\n",
              "    </tr>\n",
              "    <tr>\n",
              "      <th>4</th>\n",
              "      <td>1804</td>\n",
              "      <td>833</td>\n",
              "      <td>34.42</td>\n",
              "      <td>19286</td>\n",
              "      <td>Aruba</td>\n",
              "      <td>america</td>\n",
              "    </tr>\n",
              "  </tbody>\n",
              "</table>\n",
              "</div>"
            ],
            "text/plain": [
              "   year  income  lifespan  population_total country   region\n",
              "0  1800     833     34.42             19286   Aruba  america\n",
              "1  1801     833     34.42             19286   Aruba  america\n",
              "2  1802     833     34.42             19286   Aruba  america\n",
              "3  1803     833     34.42             19286   Aruba  america\n",
              "4  1804     833     34.42             19286   Aruba  america"
            ]
          },
          "metadata": {
            "tags": []
          },
          "execution_count": 42
        }
      ]
    },
    {
      "metadata": {
        "id": "uvU0jA_TH-e7",
        "colab_type": "code",
        "colab": {
          "base_uri": "https://localhost:8080/",
          "height": 34
        },
        "outputId": "d137fd4b-c9b8-4356-bc19-a6013206fab2"
      },
      "cell_type": "code",
      "source": [
        "df.shape"
      ],
      "execution_count": 43,
      "outputs": [
        {
          "output_type": "execute_result",
          "data": {
            "text/plain": [
              "(41790, 6)"
            ]
          },
          "metadata": {
            "tags": []
          },
          "execution_count": 43
        }
      ]
    },
    {
      "metadata": {
        "id": "u4cn44CeIJ11",
        "colab_type": "code",
        "colab": {
          "base_uri": "https://localhost:8080/",
          "height": 204
        },
        "outputId": "b7eda20f-baac-4d2c-9c3d-b410574aa8a8"
      },
      "cell_type": "code",
      "source": [
        "years = [1818, 1918, 2018]\n",
        "\n",
        "centuries_1 = df[df['year'].isin(years)]\n",
        "\n",
        "centuries_1.head()"
      ],
      "execution_count": 44,
      "outputs": [
        {
          "output_type": "execute_result",
          "data": {
            "text/html": [
              "<div>\n",
              "<style scoped>\n",
              "    .dataframe tbody tr th:only-of-type {\n",
              "        vertical-align: middle;\n",
              "    }\n",
              "\n",
              "    .dataframe tbody tr th {\n",
              "        vertical-align: top;\n",
              "    }\n",
              "\n",
              "    .dataframe thead th {\n",
              "        text-align: right;\n",
              "    }\n",
              "</style>\n",
              "<table border=\"1\" class=\"dataframe\">\n",
              "  <thead>\n",
              "    <tr style=\"text-align: right;\">\n",
              "      <th></th>\n",
              "      <th>year</th>\n",
              "      <th>income</th>\n",
              "      <th>lifespan</th>\n",
              "      <th>population_total</th>\n",
              "      <th>country</th>\n",
              "      <th>region</th>\n",
              "    </tr>\n",
              "  </thead>\n",
              "  <tbody>\n",
              "    <tr>\n",
              "      <th>18</th>\n",
              "      <td>1818</td>\n",
              "      <td>835</td>\n",
              "      <td>34.42</td>\n",
              "      <td>19462</td>\n",
              "      <td>Aruba</td>\n",
              "      <td>america</td>\n",
              "    </tr>\n",
              "    <tr>\n",
              "      <th>118</th>\n",
              "      <td>1918</td>\n",
              "      <td>1765</td>\n",
              "      <td>22.32</td>\n",
              "      <td>32202</td>\n",
              "      <td>Aruba</td>\n",
              "      <td>america</td>\n",
              "    </tr>\n",
              "    <tr>\n",
              "      <th>218</th>\n",
              "      <td>2018</td>\n",
              "      <td>39219</td>\n",
              "      <td>76.14</td>\n",
              "      <td>105670</td>\n",
              "      <td>Aruba</td>\n",
              "      <td>america</td>\n",
              "    </tr>\n",
              "    <tr>\n",
              "      <th>237</th>\n",
              "      <td>1818</td>\n",
              "      <td>604</td>\n",
              "      <td>28.03</td>\n",
              "      <td>3308390</td>\n",
              "      <td>Afghanistan</td>\n",
              "      <td>south_asia</td>\n",
              "    </tr>\n",
              "    <tr>\n",
              "      <th>337</th>\n",
              "      <td>1918</td>\n",
              "      <td>849</td>\n",
              "      <td>7.89</td>\n",
              "      <td>5704092</td>\n",
              "      <td>Afghanistan</td>\n",
              "      <td>south_asia</td>\n",
              "    </tr>\n",
              "  </tbody>\n",
              "</table>\n",
              "</div>"
            ],
            "text/plain": [
              "     year  income  lifespan  population_total      country      region\n",
              "18   1818     835     34.42             19462        Aruba     america\n",
              "118  1918    1765     22.32             32202        Aruba     america\n",
              "218  2018   39219     76.14            105670        Aruba     america\n",
              "237  1818     604     28.03           3308390  Afghanistan  south_asia\n",
              "337  1918     849      7.89           5704092  Afghanistan  south_asia"
            ]
          },
          "metadata": {
            "tags": []
          },
          "execution_count": 44
        }
      ]
    },
    {
      "metadata": {
        "id": "ng28duZHJcNZ",
        "colab_type": "code",
        "colab": {
          "base_uri": "https://localhost:8080/",
          "height": 34
        },
        "outputId": "856594b3-2df5-4630-8e65-ea403a0512c7"
      },
      "cell_type": "code",
      "source": [
        "print(\"Number of unique countries:\", len(centuries_1['country'].unique()))"
      ],
      "execution_count": 56,
      "outputs": [
        {
          "output_type": "stream",
          "text": [
            "Number of unique countries: 190\n"
          ],
          "name": "stdout"
        }
      ]
    },
    {
      "metadata": {
        "id": "2XHaE89MJV8c",
        "colab_type": "code",
        "colab": {
          "base_uri": "https://localhost:8080/",
          "height": 34
        },
        "outputId": "c8a20469-200e-4a07-ccd6-6ed1e09e054d"
      },
      "cell_type": "code",
      "source": [
        "centuries_1.shape"
      ],
      "execution_count": 50,
      "outputs": [
        {
          "output_type": "execute_result",
          "data": {
            "text/plain": [
              "(568, 6)"
            ]
          },
          "metadata": {
            "tags": []
          },
          "execution_count": 50
        }
      ]
    },
    {
      "metadata": {
        "id": "IQEyC35hJN_w",
        "colab_type": "code",
        "colab": {}
      },
      "cell_type": "code",
      "source": [
        "pd.options.display.float_format = '{:.2f}'.format"
      ],
      "execution_count": 0,
      "outputs": []
    },
    {
      "metadata": {
        "id": "DVEevNSAIiG2",
        "colab_type": "code",
        "colab": {
          "base_uri": "https://localhost:8080/",
          "height": 170
        },
        "outputId": "db5c7790-f2d7-4902-ef4b-0d1dcf1bf506"
      },
      "cell_type": "code",
      "source": [
        "centuries_1['population_total'].describe()"
      ],
      "execution_count": 58,
      "outputs": [
        {
          "output_type": "execute_result",
          "data": {
            "text/plain": [
              "count          568.00\n",
              "mean      18456229.98\n",
              "std       90761207.36\n",
              "min           2207.00\n",
              "25%         431849.25\n",
              "50%        2125373.00\n",
              "75%        8835956.00\n",
              "max     1415045928.00\n",
              "Name: population_total, dtype: float64"
            ]
          },
          "metadata": {
            "tags": []
          },
          "execution_count": 58
        }
      ]
    },
    {
      "metadata": {
        "id": "hTqPONxNLSc3",
        "colab_type": "code",
        "colab": {
          "base_uri": "https://localhost:8080/",
          "height": 170
        },
        "outputId": "e2c78397-ee50-4bd6-81f9-3d5ac934df44"
      },
      "cell_type": "code",
      "source": [
        "df['population_total'].describe()"
      ],
      "execution_count": 61,
      "outputs": [
        {
          "output_type": "execute_result",
          "data": {
            "text/plain": [
              "count        41790.00\n",
              "mean      13325504.93\n",
              "std       65023488.34\n",
              "min           2128.00\n",
              "25%         376028.25\n",
              "50%        1915244.00\n",
              "75%        6260146.75\n",
              "max     1415045928.00\n",
              "Name: population_total, dtype: float64"
            ]
          },
          "metadata": {
            "tags": []
          },
          "execution_count": 61
        }
      ]
    },
    {
      "metadata": {
        "id": "MUdYeelQOBGe",
        "colab_type": "code",
        "colab": {
          "base_uri": "https://localhost:8080/",
          "height": 297
        },
        "outputId": "73b6af2f-30c5-4cfd-fe0b-0c489b4ca310"
      },
      "cell_type": "code",
      "source": [
        "# The mean population totals for the year 1918 = 9709630.25\n",
        "\n",
        "df[df['year']==1818].describe()"
      ],
      "execution_count": 81,
      "outputs": [
        {
          "output_type": "execute_result",
          "data": {
            "text/html": [
              "<div>\n",
              "<style scoped>\n",
              "    .dataframe tbody tr th:only-of-type {\n",
              "        vertical-align: middle;\n",
              "    }\n",
              "\n",
              "    .dataframe tbody tr th {\n",
              "        vertical-align: top;\n",
              "    }\n",
              "\n",
              "    .dataframe thead th {\n",
              "        text-align: right;\n",
              "    }\n",
              "</style>\n",
              "<table border=\"1\" class=\"dataframe\">\n",
              "  <thead>\n",
              "    <tr style=\"text-align: right;\">\n",
              "      <th></th>\n",
              "      <th>year</th>\n",
              "      <th>income</th>\n",
              "      <th>lifespan</th>\n",
              "      <th>population_total</th>\n",
              "    </tr>\n",
              "  </thead>\n",
              "  <tbody>\n",
              "    <tr>\n",
              "      <th>count</th>\n",
              "      <td>190.00</td>\n",
              "      <td>190.00</td>\n",
              "      <td>190.00</td>\n",
              "      <td>190.00</td>\n",
              "    </tr>\n",
              "    <tr>\n",
              "      <th>mean</th>\n",
              "      <td>1818.00</td>\n",
              "      <td>958.64</td>\n",
              "      <td>31.64</td>\n",
              "      <td>5443461.50</td>\n",
              "    </tr>\n",
              "    <tr>\n",
              "      <th>std</th>\n",
              "      <td>0.00</td>\n",
              "      <td>501.87</td>\n",
              "      <td>4.60</td>\n",
              "      <td>30133081.50</td>\n",
              "    </tr>\n",
              "    <tr>\n",
              "      <th>min</th>\n",
              "      <td>1818.00</td>\n",
              "      <td>351.00</td>\n",
              "      <td>5.50</td>\n",
              "      <td>2207.00</td>\n",
              "    </tr>\n",
              "    <tr>\n",
              "      <th>25%</th>\n",
              "      <td>1818.00</td>\n",
              "      <td>616.25</td>\n",
              "      <td>29.12</td>\n",
              "      <td>140473.00</td>\n",
              "    </tr>\n",
              "    <tr>\n",
              "      <th>50%</th>\n",
              "      <td>1818.00</td>\n",
              "      <td>857.50</td>\n",
              "      <td>31.80</td>\n",
              "      <td>755085.00</td>\n",
              "    </tr>\n",
              "    <tr>\n",
              "      <th>75%</th>\n",
              "      <td>1818.00</td>\n",
              "      <td>1107.50</td>\n",
              "      <td>34.05</td>\n",
              "      <td>2176978.25</td>\n",
              "    </tr>\n",
              "    <tr>\n",
              "      <th>max</th>\n",
              "      <td>1818.00</td>\n",
              "      <td>3829.00</td>\n",
              "      <td>46.75</td>\n",
              "      <td>374161494.00</td>\n",
              "    </tr>\n",
              "  </tbody>\n",
              "</table>\n",
              "</div>"
            ],
            "text/plain": [
              "         year  income  lifespan  population_total\n",
              "count  190.00  190.00    190.00            190.00\n",
              "mean  1818.00  958.64     31.64        5443461.50\n",
              "std      0.00  501.87      4.60       30133081.50\n",
              "min   1818.00  351.00      5.50           2207.00\n",
              "25%   1818.00  616.25     29.12         140473.00\n",
              "50%   1818.00  857.50     31.80         755085.00\n",
              "75%   1818.00 1107.50     34.05        2176978.25\n",
              "max   1818.00 3829.00     46.75      374161494.00"
            ]
          },
          "metadata": {
            "tags": []
          },
          "execution_count": 81
        }
      ]
    },
    {
      "metadata": {
        "id": "xkFAblVmKgCS",
        "colab_type": "code",
        "colab": {}
      },
      "cell_type": "code",
      "source": [
        "# df[(df.year==1918) & (df.lifespan >= 50)]"
      ],
      "execution_count": 0,
      "outputs": []
    },
    {
      "metadata": {
        "id": "z5qoDfgfLej8",
        "colab_type": "code",
        "colab": {
          "base_uri": "https://localhost:8080/",
          "height": 204
        },
        "outputId": "8a6ec9be-285e-49fc-94da-64fb0174df78"
      },
      "cell_type": "code",
      "source": [
        "pop_above_mean_1818 = df[(df['year']==1818) & (df['population_total'] > 755085.00)]\n",
        "pop_above_mean_1818.head()"
      ],
      "execution_count": 102,
      "outputs": [
        {
          "output_type": "execute_result",
          "data": {
            "text/html": [
              "<div>\n",
              "<style scoped>\n",
              "    .dataframe tbody tr th:only-of-type {\n",
              "        vertical-align: middle;\n",
              "    }\n",
              "\n",
              "    .dataframe tbody tr th {\n",
              "        vertical-align: top;\n",
              "    }\n",
              "\n",
              "    .dataframe thead th {\n",
              "        text-align: right;\n",
              "    }\n",
              "</style>\n",
              "<table border=\"1\" class=\"dataframe\">\n",
              "  <thead>\n",
              "    <tr style=\"text-align: right;\">\n",
              "      <th></th>\n",
              "      <th>year</th>\n",
              "      <th>income</th>\n",
              "      <th>lifespan</th>\n",
              "      <th>population_total</th>\n",
              "      <th>country</th>\n",
              "      <th>region</th>\n",
              "    </tr>\n",
              "  </thead>\n",
              "  <tbody>\n",
              "    <tr>\n",
              "      <th>237</th>\n",
              "      <td>1818</td>\n",
              "      <td>604</td>\n",
              "      <td>28.03</td>\n",
              "      <td>3308390</td>\n",
              "      <td>Afghanistan</td>\n",
              "      <td>south_asia</td>\n",
              "    </tr>\n",
              "    <tr>\n",
              "      <th>456</th>\n",
              "      <td>1818</td>\n",
              "      <td>668</td>\n",
              "      <td>26.98</td>\n",
              "      <td>1586896</td>\n",
              "      <td>Angola</td>\n",
              "      <td>sub_saharan_africa</td>\n",
              "    </tr>\n",
              "    <tr>\n",
              "      <th>2036</th>\n",
              "      <td>1818</td>\n",
              "      <td>1986</td>\n",
              "      <td>34.40</td>\n",
              "      <td>3366878</td>\n",
              "      <td>Austria</td>\n",
              "      <td>europe_central_asia</td>\n",
              "    </tr>\n",
              "    <tr>\n",
              "      <th>2255</th>\n",
              "      <td>1818</td>\n",
              "      <td>778</td>\n",
              "      <td>29.17</td>\n",
              "      <td>894149</td>\n",
              "      <td>Azerbaijan</td>\n",
              "      <td>europe_central_asia</td>\n",
              "    </tr>\n",
              "    <tr>\n",
              "      <th>2474</th>\n",
              "      <td>1818</td>\n",
              "      <td>425</td>\n",
              "      <td>31.50</td>\n",
              "      <td>911278</td>\n",
              "      <td>Burundi</td>\n",
              "      <td>sub_saharan_africa</td>\n",
              "    </tr>\n",
              "  </tbody>\n",
              "</table>\n",
              "</div>"
            ],
            "text/plain": [
              "      year  income  lifespan  population_total      country  \\\n",
              "237   1818     604     28.03           3308390  Afghanistan   \n",
              "456   1818     668     26.98           1586896       Angola   \n",
              "2036  1818    1986     34.40           3366878      Austria   \n",
              "2255  1818     778     29.17            894149   Azerbaijan   \n",
              "2474  1818     425     31.50            911278      Burundi   \n",
              "\n",
              "                   region  \n",
              "237            south_asia  \n",
              "456    sub_saharan_africa  \n",
              "2036  europe_central_asia  \n",
              "2255  europe_central_asia  \n",
              "2474   sub_saharan_africa  "
            ]
          },
          "metadata": {
            "tags": []
          },
          "execution_count": 102
        }
      ]
    },
    {
      "metadata": {
        "id": "etIyfOewMy1R",
        "colab_type": "code",
        "colab": {
          "base_uri": "https://localhost:8080/",
          "height": 297
        },
        "outputId": "0a070b1e-004d-4c66-c60e-93c255116af8"
      },
      "cell_type": "code",
      "source": [
        "pop_above_mean_1818.describe()"
      ],
      "execution_count": 100,
      "outputs": [
        {
          "output_type": "execute_result",
          "data": {
            "text/html": [
              "<div>\n",
              "<style scoped>\n",
              "    .dataframe tbody tr th:only-of-type {\n",
              "        vertical-align: middle;\n",
              "    }\n",
              "\n",
              "    .dataframe tbody tr th {\n",
              "        vertical-align: top;\n",
              "    }\n",
              "\n",
              "    .dataframe thead th {\n",
              "        text-align: right;\n",
              "    }\n",
              "</style>\n",
              "<table border=\"1\" class=\"dataframe\">\n",
              "  <thead>\n",
              "    <tr style=\"text-align: right;\">\n",
              "      <th></th>\n",
              "      <th>year</th>\n",
              "      <th>income</th>\n",
              "      <th>lifespan</th>\n",
              "      <th>population_total</th>\n",
              "    </tr>\n",
              "  </thead>\n",
              "  <tbody>\n",
              "    <tr>\n",
              "      <th>count</th>\n",
              "      <td>95.00</td>\n",
              "      <td>95.00</td>\n",
              "      <td>95.00</td>\n",
              "      <td>95.00</td>\n",
              "    </tr>\n",
              "    <tr>\n",
              "      <th>mean</th>\n",
              "      <td>1818.00</td>\n",
              "      <td>1072.63</td>\n",
              "      <td>31.90</td>\n",
              "      <td>10657742.86</td>\n",
              "    </tr>\n",
              "    <tr>\n",
              "      <th>std</th>\n",
              "      <td>0.00</td>\n",
              "      <td>618.69</td>\n",
              "      <td>5.41</td>\n",
              "      <td>42079231.20</td>\n",
              "    </tr>\n",
              "    <tr>\n",
              "      <th>min</th>\n",
              "      <td>1818.00</td>\n",
              "      <td>395.00</td>\n",
              "      <td>5.50</td>\n",
              "      <td>763170.00</td>\n",
              "    </tr>\n",
              "    <tr>\n",
              "      <th>25%</th>\n",
              "      <td>1818.00</td>\n",
              "      <td>642.00</td>\n",
              "      <td>29.04</td>\n",
              "      <td>1251541.50</td>\n",
              "    </tr>\n",
              "    <tr>\n",
              "      <th>50%</th>\n",
              "      <td>1818.00</td>\n",
              "      <td>906.00</td>\n",
              "      <td>31.60</td>\n",
              "      <td>2180375.00</td>\n",
              "    </tr>\n",
              "    <tr>\n",
              "      <th>75%</th>\n",
              "      <td>1818.00</td>\n",
              "      <td>1306.50</td>\n",
              "      <td>35.65</td>\n",
              "      <td>5086240.00</td>\n",
              "    </tr>\n",
              "    <tr>\n",
              "      <th>max</th>\n",
              "      <td>1818.00</td>\n",
              "      <td>3829.00</td>\n",
              "      <td>46.75</td>\n",
              "      <td>374161494.00</td>\n",
              "    </tr>\n",
              "  </tbody>\n",
              "</table>\n",
              "</div>"
            ],
            "text/plain": [
              "         year  income  lifespan  population_total\n",
              "count   95.00   95.00     95.00             95.00\n",
              "mean  1818.00 1072.63     31.90       10657742.86\n",
              "std      0.00  618.69      5.41       42079231.20\n",
              "min   1818.00  395.00      5.50         763170.00\n",
              "25%   1818.00  642.00     29.04        1251541.50\n",
              "50%   1818.00  906.00     31.60        2180375.00\n",
              "75%   1818.00 1306.50     35.65        5086240.00\n",
              "max   1818.00 3829.00     46.75      374161494.00"
            ]
          },
          "metadata": {
            "tags": []
          },
          "execution_count": 100
        }
      ]
    },
    {
      "metadata": {
        "id": "e6qjc9KvM5sM",
        "colab_type": "code",
        "colab": {
          "base_uri": "https://localhost:8080/",
          "height": 204
        },
        "outputId": "733332e8-5725-4bac-d0b4-e8bf563eb45a"
      },
      "cell_type": "code",
      "source": [
        "pop_below_mean_1818 = df[(df['year']==1818) & (df['population_total'] < 755085.00)]\n",
        "pop_below_mean_1818.head()"
      ],
      "execution_count": 101,
      "outputs": [
        {
          "output_type": "execute_result",
          "data": {
            "text/html": [
              "<div>\n",
              "<style scoped>\n",
              "    .dataframe tbody tr th:only-of-type {\n",
              "        vertical-align: middle;\n",
              "    }\n",
              "\n",
              "    .dataframe tbody tr th {\n",
              "        vertical-align: top;\n",
              "    }\n",
              "\n",
              "    .dataframe thead th {\n",
              "        text-align: right;\n",
              "    }\n",
              "</style>\n",
              "<table border=\"1\" class=\"dataframe\">\n",
              "  <thead>\n",
              "    <tr style=\"text-align: right;\">\n",
              "      <th></th>\n",
              "      <th>year</th>\n",
              "      <th>income</th>\n",
              "      <th>lifespan</th>\n",
              "      <th>population_total</th>\n",
              "      <th>country</th>\n",
              "      <th>region</th>\n",
              "    </tr>\n",
              "  </thead>\n",
              "  <tbody>\n",
              "    <tr>\n",
              "      <th>18</th>\n",
              "      <td>1818</td>\n",
              "      <td>835</td>\n",
              "      <td>34.42</td>\n",
              "      <td>19462</td>\n",
              "      <td>Aruba</td>\n",
              "      <td>america</td>\n",
              "    </tr>\n",
              "    <tr>\n",
              "      <th>675</th>\n",
              "      <td>1818</td>\n",
              "      <td>669</td>\n",
              "      <td>35.40</td>\n",
              "      <td>435384</td>\n",
              "      <td>Albania</td>\n",
              "      <td>europe_central_asia</td>\n",
              "    </tr>\n",
              "    <tr>\n",
              "      <th>941</th>\n",
              "      <td>1818</td>\n",
              "      <td>1067</td>\n",
              "      <td>30.70</td>\n",
              "      <td>40153</td>\n",
              "      <td>United Arab Emirates</td>\n",
              "      <td>middle_east_north_africa</td>\n",
              "    </tr>\n",
              "    <tr>\n",
              "      <th>1160</th>\n",
              "      <td>1818</td>\n",
              "      <td>1511</td>\n",
              "      <td>33.20</td>\n",
              "      <td>557637</td>\n",
              "      <td>Argentina</td>\n",
              "      <td>america</td>\n",
              "    </tr>\n",
              "    <tr>\n",
              "      <th>1379</th>\n",
              "      <td>1818</td>\n",
              "      <td>515</td>\n",
              "      <td>34.00</td>\n",
              "      <td>419962</td>\n",
              "      <td>Armenia</td>\n",
              "      <td>europe_central_asia</td>\n",
              "    </tr>\n",
              "  </tbody>\n",
              "</table>\n",
              "</div>"
            ],
            "text/plain": [
              "      year  income  lifespan  population_total               country  \\\n",
              "18    1818     835     34.42             19462                 Aruba   \n",
              "675   1818     669     35.40            435384               Albania   \n",
              "941   1818    1067     30.70             40153  United Arab Emirates   \n",
              "1160  1818    1511     33.20            557637             Argentina   \n",
              "1379  1818     515     34.00            419962               Armenia   \n",
              "\n",
              "                        region  \n",
              "18                     america  \n",
              "675        europe_central_asia  \n",
              "941   middle_east_north_africa  \n",
              "1160                   america  \n",
              "1379       europe_central_asia  "
            ]
          },
          "metadata": {
            "tags": []
          },
          "execution_count": 101
        }
      ]
    },
    {
      "metadata": {
        "id": "rUO1f2HuNXK_",
        "colab_type": "code",
        "colab": {
          "base_uri": "https://localhost:8080/",
          "height": 297
        },
        "outputId": "26dabbbc-30cc-4e4f-b71a-1da96755494e"
      },
      "cell_type": "code",
      "source": [
        "pop_below_mean_1818.describe()"
      ],
      "execution_count": 103,
      "outputs": [
        {
          "output_type": "execute_result",
          "data": {
            "text/html": [
              "<div>\n",
              "<style scoped>\n",
              "    .dataframe tbody tr th:only-of-type {\n",
              "        vertical-align: middle;\n",
              "    }\n",
              "\n",
              "    .dataframe tbody tr th {\n",
              "        vertical-align: top;\n",
              "    }\n",
              "\n",
              "    .dataframe thead th {\n",
              "        text-align: right;\n",
              "    }\n",
              "</style>\n",
              "<table border=\"1\" class=\"dataframe\">\n",
              "  <thead>\n",
              "    <tr style=\"text-align: right;\">\n",
              "      <th></th>\n",
              "      <th>year</th>\n",
              "      <th>income</th>\n",
              "      <th>lifespan</th>\n",
              "      <th>population_total</th>\n",
              "    </tr>\n",
              "  </thead>\n",
              "  <tbody>\n",
              "    <tr>\n",
              "      <th>count</th>\n",
              "      <td>95.00</td>\n",
              "      <td>95.00</td>\n",
              "      <td>95.00</td>\n",
              "      <td>95.00</td>\n",
              "    </tr>\n",
              "    <tr>\n",
              "      <th>mean</th>\n",
              "      <td>1818.00</td>\n",
              "      <td>844.64</td>\n",
              "      <td>31.37</td>\n",
              "      <td>229180.14</td>\n",
              "    </tr>\n",
              "    <tr>\n",
              "      <th>std</th>\n",
              "      <td>0.00</td>\n",
              "      <td>312.06</td>\n",
              "      <td>3.62</td>\n",
              "      <td>217164.42</td>\n",
              "    </tr>\n",
              "    <tr>\n",
              "      <th>min</th>\n",
              "      <td>1818.00</td>\n",
              "      <td>351.00</td>\n",
              "      <td>23.94</td>\n",
              "      <td>2207.00</td>\n",
              "    </tr>\n",
              "    <tr>\n",
              "      <th>25%</th>\n",
              "      <td>1818.00</td>\n",
              "      <td>601.50</td>\n",
              "      <td>29.15</td>\n",
              "      <td>56856.50</td>\n",
              "    </tr>\n",
              "    <tr>\n",
              "      <th>50%</th>\n",
              "      <td>1818.00</td>\n",
              "      <td>835.00</td>\n",
              "      <td>31.90</td>\n",
              "      <td>139941.00</td>\n",
              "    </tr>\n",
              "    <tr>\n",
              "      <th>75%</th>\n",
              "      <td>1818.00</td>\n",
              "      <td>997.00</td>\n",
              "      <td>33.37</td>\n",
              "      <td>379301.50</td>\n",
              "    </tr>\n",
              "    <tr>\n",
              "      <th>max</th>\n",
              "      <td>1818.00</td>\n",
              "      <td>1762.00</td>\n",
              "      <td>43.48</td>\n",
              "      <td>747000.00</td>\n",
              "    </tr>\n",
              "  </tbody>\n",
              "</table>\n",
              "</div>"
            ],
            "text/plain": [
              "         year  income  lifespan  population_total\n",
              "count   95.00   95.00     95.00             95.00\n",
              "mean  1818.00  844.64     31.37         229180.14\n",
              "std      0.00  312.06      3.62         217164.42\n",
              "min   1818.00  351.00     23.94           2207.00\n",
              "25%   1818.00  601.50     29.15          56856.50\n",
              "50%   1818.00  835.00     31.90         139941.00\n",
              "75%   1818.00  997.00     33.37         379301.50\n",
              "max   1818.00 1762.00     43.48         747000.00"
            ]
          },
          "metadata": {
            "tags": []
          },
          "execution_count": 103
        }
      ]
    },
    {
      "metadata": {
        "id": "lY_9lbriQLS9",
        "colab_type": "code",
        "colab": {
          "base_uri": "https://localhost:8080/",
          "height": 297
        },
        "outputId": "2d4c8dd2-c084-4efb-a1ca-3333a32843ba"
      },
      "cell_type": "code",
      "source": [
        "df[df['year']==1918].describe()"
      ],
      "execution_count": 90,
      "outputs": [
        {
          "output_type": "execute_result",
          "data": {
            "text/html": [
              "<div>\n",
              "<style scoped>\n",
              "    .dataframe tbody tr th:only-of-type {\n",
              "        vertical-align: middle;\n",
              "    }\n",
              "\n",
              "    .dataframe tbody tr th {\n",
              "        vertical-align: top;\n",
              "    }\n",
              "\n",
              "    .dataframe thead th {\n",
              "        text-align: right;\n",
              "    }\n",
              "</style>\n",
              "<table border=\"1\" class=\"dataframe\">\n",
              "  <thead>\n",
              "    <tr style=\"text-align: right;\">\n",
              "      <th></th>\n",
              "      <th>year</th>\n",
              "      <th>income</th>\n",
              "      <th>lifespan</th>\n",
              "      <th>population_total</th>\n",
              "    </tr>\n",
              "  </thead>\n",
              "  <tbody>\n",
              "    <tr>\n",
              "      <th>count</th>\n",
              "      <td>190.00</td>\n",
              "      <td>190.00</td>\n",
              "      <td>190.00</td>\n",
              "      <td>190.00</td>\n",
              "    </tr>\n",
              "    <tr>\n",
              "      <th>mean</th>\n",
              "      <td>1918.00</td>\n",
              "      <td>2033.64</td>\n",
              "      <td>23.00</td>\n",
              "      <td>9709630.25</td>\n",
              "    </tr>\n",
              "    <tr>\n",
              "      <th>std</th>\n",
              "      <td>0.00</td>\n",
              "      <td>1767.78</td>\n",
              "      <td>10.84</td>\n",
              "      <td>40183168.69</td>\n",
              "    </tr>\n",
              "    <tr>\n",
              "      <th>min</th>\n",
              "      <td>1918.00</td>\n",
              "      <td>356.00</td>\n",
              "      <td>1.09</td>\n",
              "      <td>18185.00</td>\n",
              "    </tr>\n",
              "    <tr>\n",
              "      <th>25%</th>\n",
              "      <td>1918.00</td>\n",
              "      <td>893.50</td>\n",
              "      <td>13.21</td>\n",
              "      <td>403682.00</td>\n",
              "    </tr>\n",
              "    <tr>\n",
              "      <th>50%</th>\n",
              "      <td>1918.00</td>\n",
              "      <td>1433.00</td>\n",
              "      <td>22.18</td>\n",
              "      <td>1880693.50</td>\n",
              "    </tr>\n",
              "    <tr>\n",
              "      <th>75%</th>\n",
              "      <td>1918.00</td>\n",
              "      <td>2408.00</td>\n",
              "      <td>28.98</td>\n",
              "      <td>5076364.25</td>\n",
              "    </tr>\n",
              "    <tr>\n",
              "      <th>max</th>\n",
              "      <td>1918.00</td>\n",
              "      <td>9434.00</td>\n",
              "      <td>56.24</td>\n",
              "      <td>462444535.00</td>\n",
              "    </tr>\n",
              "  </tbody>\n",
              "</table>\n",
              "</div>"
            ],
            "text/plain": [
              "         year  income  lifespan  population_total\n",
              "count  190.00  190.00    190.00            190.00\n",
              "mean  1918.00 2033.64     23.00        9709630.25\n",
              "std      0.00 1767.78     10.84       40183168.69\n",
              "min   1918.00  356.00      1.09          18185.00\n",
              "25%   1918.00  893.50     13.21         403682.00\n",
              "50%   1918.00 1433.00     22.18        1880693.50\n",
              "75%   1918.00 2408.00     28.98        5076364.25\n",
              "max   1918.00 9434.00     56.24      462444535.00"
            ]
          },
          "metadata": {
            "tags": []
          },
          "execution_count": 90
        }
      ]
    },
    {
      "metadata": {
        "id": "ZzX8r3wlQUnk",
        "colab_type": "code",
        "colab": {
          "base_uri": "https://localhost:8080/",
          "height": 204
        },
        "outputId": "c0adec5b-8e4e-46c1-d931-7b0874e7aaf1"
      },
      "cell_type": "code",
      "source": [
        "pop_above_mean_1918 = df[(df['year']==1918) & (df['population_total'] > 1880693.50)]\n",
        "pop_above_mean_1918.head()"
      ],
      "execution_count": 93,
      "outputs": [
        {
          "output_type": "execute_result",
          "data": {
            "text/html": [
              "<div>\n",
              "<style scoped>\n",
              "    .dataframe tbody tr th:only-of-type {\n",
              "        vertical-align: middle;\n",
              "    }\n",
              "\n",
              "    .dataframe tbody tr th {\n",
              "        vertical-align: top;\n",
              "    }\n",
              "\n",
              "    .dataframe thead th {\n",
              "        text-align: right;\n",
              "    }\n",
              "</style>\n",
              "<table border=\"1\" class=\"dataframe\">\n",
              "  <thead>\n",
              "    <tr style=\"text-align: right;\">\n",
              "      <th></th>\n",
              "      <th>year</th>\n",
              "      <th>income</th>\n",
              "      <th>lifespan</th>\n",
              "      <th>population_total</th>\n",
              "      <th>country</th>\n",
              "      <th>region</th>\n",
              "    </tr>\n",
              "  </thead>\n",
              "  <tbody>\n",
              "    <tr>\n",
              "      <th>337</th>\n",
              "      <td>1918</td>\n",
              "      <td>849</td>\n",
              "      <td>7.89</td>\n",
              "      <td>5704092</td>\n",
              "      <td>Afghanistan</td>\n",
              "      <td>south_asia</td>\n",
              "    </tr>\n",
              "    <tr>\n",
              "      <th>556</th>\n",
              "      <td>1918</td>\n",
              "      <td>1174</td>\n",
              "      <td>12.01</td>\n",
              "      <td>3487015</td>\n",
              "      <td>Angola</td>\n",
              "      <td>sub_saharan_africa</td>\n",
              "    </tr>\n",
              "    <tr>\n",
              "      <th>1260</th>\n",
              "      <td>1918</td>\n",
              "      <td>6595</td>\n",
              "      <td>41.43</td>\n",
              "      <td>8530833</td>\n",
              "      <td>Argentina</td>\n",
              "      <td>america</td>\n",
              "    </tr>\n",
              "    <tr>\n",
              "      <th>1917</th>\n",
              "      <td>1918</td>\n",
              "      <td>7610</td>\n",
              "      <td>54.95</td>\n",
              "      <td>5066003</td>\n",
              "      <td>Australia</td>\n",
              "      <td>east_asia_pacific</td>\n",
              "    </tr>\n",
              "    <tr>\n",
              "      <th>2136</th>\n",
              "      <td>1918</td>\n",
              "      <td>5103</td>\n",
              "      <td>32.41</td>\n",
              "      <td>6643721</td>\n",
              "      <td>Austria</td>\n",
              "      <td>europe_central_asia</td>\n",
              "    </tr>\n",
              "  </tbody>\n",
              "</table>\n",
              "</div>"
            ],
            "text/plain": [
              "      year  income  lifespan  population_total      country  \\\n",
              "337   1918     849      7.89           5704092  Afghanistan   \n",
              "556   1918    1174     12.01           3487015       Angola   \n",
              "1260  1918    6595     41.43           8530833    Argentina   \n",
              "1917  1918    7610     54.95           5066003    Australia   \n",
              "2136  1918    5103     32.41           6643721      Austria   \n",
              "\n",
              "                   region  \n",
              "337            south_asia  \n",
              "556    sub_saharan_africa  \n",
              "1260              america  \n",
              "1917    east_asia_pacific  \n",
              "2136  europe_central_asia  "
            ]
          },
          "metadata": {
            "tags": []
          },
          "execution_count": 93
        }
      ]
    },
    {
      "metadata": {
        "id": "yYsHPOLQQuUE",
        "colab_type": "code",
        "colab": {
          "base_uri": "https://localhost:8080/",
          "height": 297
        },
        "outputId": "8af129de-897d-40f1-b00e-bef6af084912"
      },
      "cell_type": "code",
      "source": [
        "pop_above_mean_1918.describe()"
      ],
      "execution_count": 94,
      "outputs": [
        {
          "output_type": "execute_result",
          "data": {
            "text/html": [
              "<div>\n",
              "<style scoped>\n",
              "    .dataframe tbody tr th:only-of-type {\n",
              "        vertical-align: middle;\n",
              "    }\n",
              "\n",
              "    .dataframe tbody tr th {\n",
              "        vertical-align: top;\n",
              "    }\n",
              "\n",
              "    .dataframe thead th {\n",
              "        text-align: right;\n",
              "    }\n",
              "</style>\n",
              "<table border=\"1\" class=\"dataframe\">\n",
              "  <thead>\n",
              "    <tr style=\"text-align: right;\">\n",
              "      <th></th>\n",
              "      <th>year</th>\n",
              "      <th>income</th>\n",
              "      <th>lifespan</th>\n",
              "      <th>population_total</th>\n",
              "    </tr>\n",
              "  </thead>\n",
              "  <tbody>\n",
              "    <tr>\n",
              "      <th>count</th>\n",
              "      <td>95.00</td>\n",
              "      <td>95.00</td>\n",
              "      <td>95.00</td>\n",
              "      <td>95.00</td>\n",
              "    </tr>\n",
              "    <tr>\n",
              "      <th>mean</th>\n",
              "      <td>1918.00</td>\n",
              "      <td>2428.23</td>\n",
              "      <td>24.35</td>\n",
              "      <td>18831279.03</td>\n",
              "    </tr>\n",
              "    <tr>\n",
              "      <th>std</th>\n",
              "      <td>0.00</td>\n",
              "      <td>2102.24</td>\n",
              "      <td>11.81</td>\n",
              "      <td>55480371.30</td>\n",
              "    </tr>\n",
              "    <tr>\n",
              "      <th>min</th>\n",
              "      <td>1918.00</td>\n",
              "      <td>418.00</td>\n",
              "      <td>5.99</td>\n",
              "      <td>1919380.00</td>\n",
              "    </tr>\n",
              "    <tr>\n",
              "      <th>25%</th>\n",
              "      <td>1918.00</td>\n",
              "      <td>997.50</td>\n",
              "      <td>13.75</td>\n",
              "      <td>3039878.50</td>\n",
              "    </tr>\n",
              "    <tr>\n",
              "      <th>50%</th>\n",
              "      <td>1918.00</td>\n",
              "      <td>1556.00</td>\n",
              "      <td>23.21</td>\n",
              "      <td>5078655.00</td>\n",
              "    </tr>\n",
              "    <tr>\n",
              "      <th>75%</th>\n",
              "      <td>1918.00</td>\n",
              "      <td>3259.50</td>\n",
              "      <td>30.37</td>\n",
              "      <td>11498267.50</td>\n",
              "    </tr>\n",
              "    <tr>\n",
              "      <th>max</th>\n",
              "      <td>1918.00</td>\n",
              "      <td>9434.00</td>\n",
              "      <td>56.24</td>\n",
              "      <td>462444535.00</td>\n",
              "    </tr>\n",
              "  </tbody>\n",
              "</table>\n",
              "</div>"
            ],
            "text/plain": [
              "         year  income  lifespan  population_total\n",
              "count   95.00   95.00     95.00             95.00\n",
              "mean  1918.00 2428.23     24.35       18831279.03\n",
              "std      0.00 2102.24     11.81       55480371.30\n",
              "min   1918.00  418.00      5.99        1919380.00\n",
              "25%   1918.00  997.50     13.75        3039878.50\n",
              "50%   1918.00 1556.00     23.21        5078655.00\n",
              "75%   1918.00 3259.50     30.37       11498267.50\n",
              "max   1918.00 9434.00     56.24      462444535.00"
            ]
          },
          "metadata": {
            "tags": []
          },
          "execution_count": 94
        }
      ]
    },
    {
      "metadata": {
        "id": "RxC-IXupQ8n_",
        "colab_type": "code",
        "colab": {
          "base_uri": "https://localhost:8080/",
          "height": 204
        },
        "outputId": "8b4cfef2-34c5-4fbe-e00a-57545013239f"
      },
      "cell_type": "code",
      "source": [
        "pop_below_mean_1918 = df[(df['year']==1918) & (df['population_total'] < 1880693.50)]\n",
        "pop_below_mean_1918.head()"
      ],
      "execution_count": 95,
      "outputs": [
        {
          "output_type": "execute_result",
          "data": {
            "text/html": [
              "<div>\n",
              "<style scoped>\n",
              "    .dataframe tbody tr th:only-of-type {\n",
              "        vertical-align: middle;\n",
              "    }\n",
              "\n",
              "    .dataframe tbody tr th {\n",
              "        vertical-align: top;\n",
              "    }\n",
              "\n",
              "    .dataframe thead th {\n",
              "        text-align: right;\n",
              "    }\n",
              "</style>\n",
              "<table border=\"1\" class=\"dataframe\">\n",
              "  <thead>\n",
              "    <tr style=\"text-align: right;\">\n",
              "      <th></th>\n",
              "      <th>year</th>\n",
              "      <th>income</th>\n",
              "      <th>lifespan</th>\n",
              "      <th>population_total</th>\n",
              "      <th>country</th>\n",
              "      <th>region</th>\n",
              "    </tr>\n",
              "  </thead>\n",
              "  <tbody>\n",
              "    <tr>\n",
              "      <th>118</th>\n",
              "      <td>1918</td>\n",
              "      <td>1765</td>\n",
              "      <td>22.32</td>\n",
              "      <td>32202</td>\n",
              "      <td>Aruba</td>\n",
              "      <td>america</td>\n",
              "    </tr>\n",
              "    <tr>\n",
              "      <th>775</th>\n",
              "      <td>1918</td>\n",
              "      <td>1478</td>\n",
              "      <td>19.49</td>\n",
              "      <td>953764</td>\n",
              "      <td>Albania</td>\n",
              "      <td>europe_central_asia</td>\n",
              "    </tr>\n",
              "    <tr>\n",
              "      <th>1041</th>\n",
              "      <td>1918</td>\n",
              "      <td>1885</td>\n",
              "      <td>26.17</td>\n",
              "      <td>53790</td>\n",
              "      <td>United Arab Emirates</td>\n",
              "      <td>middle_east_north_africa</td>\n",
              "    </tr>\n",
              "    <tr>\n",
              "      <th>1479</th>\n",
              "      <td>1918</td>\n",
              "      <td>671</td>\n",
              "      <td>26.14</td>\n",
              "      <td>1006536</td>\n",
              "      <td>Armenia</td>\n",
              "      <td>europe_central_asia</td>\n",
              "    </tr>\n",
              "    <tr>\n",
              "      <th>1698</th>\n",
              "      <td>1918</td>\n",
              "      <td>1604</td>\n",
              "      <td>21.90</td>\n",
              "      <td>30391</td>\n",
              "      <td>Antigua and Barbuda</td>\n",
              "      <td>america</td>\n",
              "    </tr>\n",
              "  </tbody>\n",
              "</table>\n",
              "</div>"
            ],
            "text/plain": [
              "      year  income  lifespan  population_total               country  \\\n",
              "118   1918    1765     22.32             32202                 Aruba   \n",
              "775   1918    1478     19.49            953764               Albania   \n",
              "1041  1918    1885     26.17             53790  United Arab Emirates   \n",
              "1479  1918     671     26.14           1006536               Armenia   \n",
              "1698  1918    1604     21.90             30391   Antigua and Barbuda   \n",
              "\n",
              "                        region  \n",
              "118                    america  \n",
              "775        europe_central_asia  \n",
              "1041  middle_east_north_africa  \n",
              "1479       europe_central_asia  \n",
              "1698                   america  "
            ]
          },
          "metadata": {
            "tags": []
          },
          "execution_count": 95
        }
      ]
    },
    {
      "metadata": {
        "id": "ZpdEF5kpREmd",
        "colab_type": "code",
        "colab": {
          "base_uri": "https://localhost:8080/",
          "height": 297
        },
        "outputId": "53fb1757-9e4a-4b2d-93d9-54cbce2e7877"
      },
      "cell_type": "code",
      "source": [
        "pop_below_mean_1918.describe()"
      ],
      "execution_count": 97,
      "outputs": [
        {
          "output_type": "execute_result",
          "data": {
            "text/html": [
              "<div>\n",
              "<style scoped>\n",
              "    .dataframe tbody tr th:only-of-type {\n",
              "        vertical-align: middle;\n",
              "    }\n",
              "\n",
              "    .dataframe tbody tr th {\n",
              "        vertical-align: top;\n",
              "    }\n",
              "\n",
              "    .dataframe thead th {\n",
              "        text-align: right;\n",
              "    }\n",
              "</style>\n",
              "<table border=\"1\" class=\"dataframe\">\n",
              "  <thead>\n",
              "    <tr style=\"text-align: right;\">\n",
              "      <th></th>\n",
              "      <th>year</th>\n",
              "      <th>income</th>\n",
              "      <th>lifespan</th>\n",
              "      <th>population_total</th>\n",
              "    </tr>\n",
              "  </thead>\n",
              "  <tbody>\n",
              "    <tr>\n",
              "      <th>count</th>\n",
              "      <td>95.00</td>\n",
              "      <td>95.00</td>\n",
              "      <td>95.00</td>\n",
              "      <td>95.00</td>\n",
              "    </tr>\n",
              "    <tr>\n",
              "      <th>mean</th>\n",
              "      <td>1918.00</td>\n",
              "      <td>1639.04</td>\n",
              "      <td>21.65</td>\n",
              "      <td>587981.47</td>\n",
              "    </tr>\n",
              "    <tr>\n",
              "      <th>std</th>\n",
              "      <td>0.00</td>\n",
              "      <td>1244.66</td>\n",
              "      <td>9.66</td>\n",
              "      <td>548408.80</td>\n",
              "    </tr>\n",
              "    <tr>\n",
              "      <th>min</th>\n",
              "      <td>1918.00</td>\n",
              "      <td>356.00</td>\n",
              "      <td>1.09</td>\n",
              "      <td>18185.00</td>\n",
              "    </tr>\n",
              "    <tr>\n",
              "      <th>25%</th>\n",
              "      <td>1918.00</td>\n",
              "      <td>832.50</td>\n",
              "      <td>13.09</td>\n",
              "      <td>109398.50</td>\n",
              "    </tr>\n",
              "    <tr>\n",
              "      <th>50%</th>\n",
              "      <td>1918.00</td>\n",
              "      <td>1222.00</td>\n",
              "      <td>21.88</td>\n",
              "      <td>402582.00</td>\n",
              "    </tr>\n",
              "    <tr>\n",
              "      <th>75%</th>\n",
              "      <td>1918.00</td>\n",
              "      <td>2218.00</td>\n",
              "      <td>26.79</td>\n",
              "      <td>946874.50</td>\n",
              "    </tr>\n",
              "    <tr>\n",
              "      <th>max</th>\n",
              "      <td>1918.00</td>\n",
              "      <td>8223.00</td>\n",
              "      <td>51.11</td>\n",
              "      <td>1842007.00</td>\n",
              "    </tr>\n",
              "  </tbody>\n",
              "</table>\n",
              "</div>"
            ],
            "text/plain": [
              "         year  income  lifespan  population_total\n",
              "count   95.00   95.00     95.00             95.00\n",
              "mean  1918.00 1639.04     21.65         587981.47\n",
              "std      0.00 1244.66      9.66         548408.80\n",
              "min   1918.00  356.00      1.09          18185.00\n",
              "25%   1918.00  832.50     13.09         109398.50\n",
              "50%   1918.00 1222.00     21.88         402582.00\n",
              "75%   1918.00 2218.00     26.79         946874.50\n",
              "max   1918.00 8223.00     51.11        1842007.00"
            ]
          },
          "metadata": {
            "tags": []
          },
          "execution_count": 97
        }
      ]
    },
    {
      "metadata": {
        "id": "oeItYe5OVnf-",
        "colab_type": "text"
      },
      "cell_type": "markdown",
      "source": [
        "# **The following plots show an interesting anomaly  where  it seems larger populations tend to cluster lifespans for many regions. **\n",
        "\n",
        "The first two plots are for the year 1818, where the first plot represents regions with populations below the 1818 median, and the second plot represents regions with populations above the 1818 median.  \n",
        "\n",
        "The third and fourth plots are for the year 1918, where the first plot again represents populatoiins below the 1918 median, and the second plot represents populations above the 1919 median.\n",
        "\n",
        "### Taken together, these plots lend support to the idea that larger populations require greater resources for sustainability and that might in turn affect life spans.  Hence, we see greater variability for those countries under the median for 1818.\n",
        "\n",
        "### Population seems to matter less in 1919, where it seems there's little difference between high-population countries and low population countries perhaps due to the effects of Influenza Epidemic, and WWI.\n"
      ]
    },
    {
      "metadata": {
        "id": "0INck-H8NpEW",
        "colab_type": "code",
        "colab": {
          "base_uri": "https://localhost:8080/",
          "height": 369
        },
        "outputId": "d4e3c7f9-3a9c-4e23-ef8a-23105e10d42e"
      },
      "cell_type": "code",
      "source": [
        "# population below mean for 1818\n",
        "\n",
        "sns.relplot(x='income', y='lifespan', hue='region', data=pop_below_mean_1818)\n",
        "\n",
        "plt.axhline(y=35, color='grey');"
      ],
      "execution_count": 116,
      "outputs": [
        {
          "output_type": "display_data",
          "data": {
            "image/png": "[encoded data removed]",
            "text/plain": [
              "<matplotlib.figure.Figure at 0x7ff20547c4e0>"
            ]
          },
          "metadata": {
            "tags": []
          }
        }
      ]
    },
    {
      "metadata": {
        "id": "hq3QSdzlTtMT",
        "colab_type": "code",
        "colab": {
          "base_uri": "https://localhost:8080/",
          "height": 369
        },
        "outputId": "24431128-1b7e-43e5-84c4-2ba1a1a638e9"
      },
      "cell_type": "code",
      "source": [
        "# population above mean for 1818\n",
        "\n",
        "sns.relplot(x='income', y='lifespan', hue='region', data=pop_above_mean_1818);\n",
        "\n",
        "plt.axhline(y=35, color='grey');"
      ],
      "execution_count": 117,
      "outputs": [
        {
          "output_type": "display_data",
          "data": {
            "image/png": "[encoded data removed]",
            "text/plain": [
              "<matplotlib.figure.Figure at 0x7ff20532fa58>"
            ]
          },
          "metadata": {
            "tags": []
          }
        }
      ]
    },
    {
      "metadata": {
        "id": "nknSunWgSkqh",
        "colab_type": "code",
        "colab": {
          "base_uri": "https://localhost:8080/",
          "height": 369
        },
        "outputId": "279085fa-26a7-4603-ecd6-438820f69a8f"
      },
      "cell_type": "code",
      "source": [
        "# population below the mean in 1918\n",
        "\n",
        "sns.relplot(x='income', y='lifespan', hue='region', data=pop_below_mean_1918);\n",
        "\n",
        "plt.axhline(y=35, color='grey');"
      ],
      "execution_count": 118,
      "outputs": [
        {
          "output_type": "display_data",
          "data": {
            "image/png": "[encoded data removed]",
            "text/plain": [
              "<matplotlib.figure.Figure at 0x7ff2052db780>"
            ]
          },
          "metadata": {
            "tags": []
          }
        }
      ]
    },
    {
      "metadata": {
        "id": "t9ydtgWaUvRj",
        "colab_type": "code",
        "colab": {
          "base_uri": "https://localhost:8080/",
          "height": 369
        },
        "outputId": "dbbdaf23-4235-4f6a-8fd8-44451930ab03"
      },
      "cell_type": "code",
      "source": [
        "# population above the mean in 1918\n",
        "\n",
        "sns.relplot(x='income', y='lifespan', hue='region', data=pop_above_mean_1918);\n",
        "\n",
        "plt.axhline(y=35, color='grey');"
      ],
      "execution_count": 119,
      "outputs": [
        {
          "output_type": "display_data",
          "data": {
            "image/png": "[encoded data removed]",
            "text/plain": [
              "<matplotlib.figure.Figure at 0x7ff2054f1b70>"
            ]
          },
          "metadata": {
            "tags": []
          }
        }
      ]
    },
    {
      "metadata": {
        "id": "DlYJKsPvF0o6",
        "colab_type": "code",
        "colab": {}
      },
      "cell_type": "code",
      "source": [
        "\"\"\"\n",
        "sns.relplot(x='income', y='lifespan', hue='region', size='population_total', data=now);\n",
        "\n",
        "years = [1818, 1918, 2018]\n",
        "\n",
        "centuries = df[df.year.isin(years)]\n",
        "\n",
        "centuries.sample(5)\n",
        "\"\"\""
      ],
      "execution_count": 0,
      "outputs": []
    }
  ]
}