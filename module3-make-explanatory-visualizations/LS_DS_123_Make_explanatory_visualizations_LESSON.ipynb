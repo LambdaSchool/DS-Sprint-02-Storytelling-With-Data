{
  "nbformat": 4,
  "nbformat_minor": 0,
  "metadata": {
    "colab": {
      "name": "LS_DS_123_Make_explanatory_visualizations_LESSON.ipynb",
      "version": "0.3.2",
      "provenance": [],
      "collapsed_sections": [],
      "include_colab_link": true
    },
    "kernelspec": {
      "display_name": "Python 3",
      "language": "python",
      "name": "python3"
    }
  },
  "cells": [
    {
      "cell_type": "markdown",
      "metadata": {
        "id": "view-in-github",
        "colab_type": "text"
      },
      "source": [
        "<a href=\"https://colab.research.google.com/github/DanielMartinAlarcon/DS-Sprint-02-Storytelling-With-Data/blob/master/module3-make-explanatory-visualizations/LS_DS_123_Make_explanatory_visualizations_LESSON.ipynb\" target=\"_parent\"><img src=\"https://colab.research.google.com/assets/colab-badge.svg\" alt=\"Open In Colab\"/></a>"
      ]
    },
    {
      "metadata": {
        "id": "-8-trVo__vRE",
        "colab_type": "text"
      },
      "cell_type": "markdown",
      "source": [
        "_Lambda School Data Science_\n",
        "\n",
        "# Choose appropriate visualizations\n",
        "\n",
        "\n",
        "Recreate this [example by FiveThirtyEight:](https://fivethirtyeight.com/features/al-gores-new-movie-exposes-the-big-flaw-in-online-movie-ratings/)"
      ]
    },
    {
      "metadata": {
        "id": "WSHgM3C6fzpg",
        "colab_type": "text"
      },
      "cell_type": "markdown",
      "source": [
        "## In-class example"
      ]
    },
    {
      "metadata": {
        "id": "ya_w5WORGs-n",
        "colab_type": "code",
        "outputId": "24ba880f-51b6-4f3c-c4ac-df4ed53e5823",
        "colab": {
          "base_uri": "https://localhost:8080/",
          "height": 355
        }
      },
      "cell_type": "code",
      "source": [
        "from IPython.display import display, Image\n",
        "\n",
        "url = 'https://fivethirtyeight.com/wp-content/uploads/2017/09/mehtahickey-inconvenient-0830-1.png'\n",
        "example = Image(url=url, width=400)\n",
        "\n",
        "display(example)"
      ],
      "execution_count": 4,
      "outputs": [
        {
          "output_type": "display_data",
          "data": {
            "text/html": [
              "<img src=\"https://fivethirtyeight.com/wp-content/uploads/2017/09/mehtahickey-inconvenient-0830-1.png\" width=\"400\"/>"
            ],
            "text/plain": [
              "<IPython.core.display.Image object>"
            ]
          },
          "metadata": {
            "tags": []
          }
        }
      ]
    },
    {
      "metadata": {
        "id": "HioPkYtUG03B",
        "colab_type": "text"
      },
      "cell_type": "markdown",
      "source": [
        "Using this data:\n",
        "\n",
        "https://github.com/fivethirtyeight/data/tree/master/inconvenient-sequel\n",
        "\n",
        "### Stretch goals\n",
        "\n",
        "Recreate more examples from [FiveThityEight's shared data repository](https://data.fivethirtyeight.com/).\n",
        "\n",
        "For example:\n",
        "- [thanksgiving-2015](https://fivethirtyeight.com/features/heres-what-your-part-of-america-eats-on-thanksgiving/) ([`altair`](https://altair-viz.github.io/gallery/index.html#maps))\n",
        "- [candy-power-ranking](https://fivethirtyeight.com/features/the-ultimate-halloween-candy-power-ranking/) ([`statsmodels`](https://www.statsmodels.org/stable/index.html))"
      ]
    },
    {
      "metadata": {
        "id": "c03JCR85frjC",
        "colab_type": "text"
      },
      "cell_type": "markdown",
      "source": [
        "### Make the figure look right"
      ]
    },
    {
      "metadata": {
        "id": "N89pO3kX_-7p",
        "colab_type": "code",
        "colab": {
          "base_uri": "https://localhost:8080/",
          "height": 207
        },
        "outputId": "b1f8eaab-34f6-4bf1-a53d-0b1531b84c1d"
      },
      "cell_type": "code",
      "source": [
        "%matplotlib inline\n",
        "import pandas as pd\n",
        "import matplotlib.pyplot as plt\n",
        "import numpy as np\n",
        "\n",
        "!pip install --upgrade seaborn\n",
        "import seaborn as sns\n",
        "\n",
        "fake = pd.Series([38,3,1,2,1,4,6,5,5,33], index=range(1,11))"
      ],
      "execution_count": 7,
      "outputs": [
        {
          "output_type": "stream",
          "text": [
            "Requirement already up-to-date: seaborn in /usr/local/lib/python3.6/dist-packages (0.9.0)\n",
            "Requirement already satisfied, skipping upgrade: scipy>=0.14.0 in /usr/local/lib/python3.6/dist-packages (from seaborn) (1.1.0)\n",
            "Requirement already satisfied, skipping upgrade: pandas>=0.15.2 in /usr/local/lib/python3.6/dist-packages (from seaborn) (0.22.0)\n",
            "Requirement already satisfied, skipping upgrade: numpy>=1.9.3 in /usr/local/lib/python3.6/dist-packages (from seaborn) (1.14.6)\n",
            "Requirement already satisfied, skipping upgrade: matplotlib>=1.4.3 in /usr/local/lib/python3.6/dist-packages (from seaborn) (2.1.2)\n",
            "Requirement already satisfied, skipping upgrade: python-dateutil>=2 in /usr/local/lib/python3.6/dist-packages (from pandas>=0.15.2->seaborn) (2.5.3)\n",
            "Requirement already satisfied, skipping upgrade: pytz>=2011k in /usr/local/lib/python3.6/dist-packages (from pandas>=0.15.2->seaborn) (2018.7)\n",
            "Requirement already satisfied, skipping upgrade: cycler>=0.10 in /usr/local/lib/python3.6/dist-packages (from matplotlib>=1.4.3->seaborn) (0.10.0)\n",
            "Requirement already satisfied, skipping upgrade: pyparsing!=2.0.4,!=2.1.2,!=2.1.6,>=2.0.1 in /usr/local/lib/python3.6/dist-packages (from matplotlib>=1.4.3->seaborn) (2.3.0)\n",
            "Requirement already satisfied, skipping upgrade: six>=1.10 in /usr/local/lib/python3.6/dist-packages (from matplotlib>=1.4.3->seaborn) (1.11.0)\n"
          ],
          "name": "stdout"
        }
      ]
    },
    {
      "metadata": {
        "id": "lqqPHAyaPDC-",
        "colab_type": "code",
        "colab": {
          "base_uri": "https://localhost:8080/",
          "height": 391
        },
        "outputId": "63fcf7cb-438a-4d47-c9d5-5d01037a2675"
      },
      "cell_type": "code",
      "source": [
        "plt.style.use('fivethirtyeight');\n",
        "ax = sns.barplot(x=fake.index, y=fake.values, color='#EC713B');\n",
        "\n",
        "ax.set(xlabel='Rating',\n",
        "      ylabel='Percent of total votes',\n",
        "      yticks=range(0,50,10));\n",
        "\n",
        "ax.tick_params(labelrotation=0);\n",
        "\n",
        "ax.text(x=-2, y=50, s=\"'An Inconvenient Sequel: Truth to Power' is divisive'\", \n",
        "        fontsize=16, fontweight='bold');\n",
        "\n",
        "ax.text(x=-2, y=46, s='IMDB ratings for the film as of Aug. 29')"
      ],
      "execution_count": 8,
      "outputs": [
        {
          "output_type": "execute_result",
          "data": {
            "text/plain": [
              "Text(-2,46,'IMDB ratings for the film as of Aug. 29')"
            ]
          },
          "metadata": {
            "tags": []
          },
          "execution_count": 8
        },
        {
          "output_type": "display_data",
          "data": {
            "image/png": "[encoded data removed]",
            "text/plain": [
              "<matplotlib.figure.Figure at 0x7fe52be687f0>"
            ]
          },
          "metadata": {
            "tags": []
          }
        }
      ]
    },
    {
      "metadata": {
        "id": "Re84N5aIf_ML",
        "colab_type": "text"
      },
      "cell_type": "markdown",
      "source": [
        "### Populate figure with the real data"
      ]
    },
    {
      "metadata": {
        "id": "lhdOLcMcPMCp",
        "colab_type": "code",
        "colab": {}
      },
      "cell_type": "code",
      "source": [
        "pd.options.display.max_columns = 50\n",
        "df = pd.read_csv('https://raw.githubusercontent.com/fivethirtyeight/data/master/inconvenient-sequel/ratings.csv')"
      ],
      "execution_count": 0,
      "outputs": []
    },
    {
      "metadata": {
        "id": "tqJFHj0FPZ5Q",
        "colab_type": "code",
        "colab": {}
      },
      "cell_type": "code",
      "source": [
        "# Turn the timestamps from strings to actual time stamps\n",
        "df.timestamp = pd.to_datetime(df.timestamp)"
      ],
      "execution_count": 0,
      "outputs": []
    },
    {
      "metadata": {
        "id": "0AoZ5WX9Pm7x",
        "colab_type": "code",
        "colab": {}
      },
      "cell_type": "code",
      "source": [
        "# set the timestamp to be the index.\n",
        "df.set_index('timestamp', inplace=True)\n"
      ],
      "execution_count": 0,
      "outputs": []
    },
    {
      "metadata": {
        "id": "7iNgbtAyimH2",
        "colab_type": "code",
        "colab": {}
      },
      "cell_type": "code",
      "source": [
        ""
      ],
      "execution_count": 0,
      "outputs": []
    },
    {
      "metadata": {
        "id": "D3FB624cex9H",
        "colab_type": "code",
        "colab": {
          "base_uri": "https://localhost:8080/",
          "height": 111
        },
        "outputId": "413b6294-1446-4702-e82e-6ce616a84d85"
      },
      "cell_type": "code",
      "source": [
        "columns = ['1_pct','2_pct','3_pct','4_pct','5_pct','6_pct','7_pct','8_pct','9_pct','10_pct']\n",
        "final = df[columns].tail(1)\n",
        "final.columns = range(1,11)\n",
        "final "
      ],
      "execution_count": 12,
      "outputs": [
        {
          "output_type": "execute_result",
          "data": {
            "text/html": [
              "<div>\n",
              "<style scoped>\n",
              "    .dataframe tbody tr th:only-of-type {\n",
              "        vertical-align: middle;\n",
              "    }\n",
              "\n",
              "    .dataframe tbody tr th {\n",
              "        vertical-align: top;\n",
              "    }\n",
              "\n",
              "    .dataframe thead th {\n",
              "        text-align: right;\n",
              "    }\n",
              "</style>\n",
              "<table border=\"1\" class=\"dataframe\">\n",
              "  <thead>\n",
              "    <tr style=\"text-align: right;\">\n",
              "      <th></th>\n",
              "      <th>1</th>\n",
              "      <th>2</th>\n",
              "      <th>3</th>\n",
              "      <th>4</th>\n",
              "      <th>5</th>\n",
              "      <th>6</th>\n",
              "      <th>7</th>\n",
              "      <th>8</th>\n",
              "      <th>9</th>\n",
              "      <th>10</th>\n",
              "    </tr>\n",
              "    <tr>\n",
              "      <th>timestamp</th>\n",
              "      <th></th>\n",
              "      <th></th>\n",
              "      <th></th>\n",
              "      <th></th>\n",
              "      <th></th>\n",
              "      <th></th>\n",
              "      <th></th>\n",
              "      <th></th>\n",
              "      <th></th>\n",
              "      <th></th>\n",
              "    </tr>\n",
              "  </thead>\n",
              "  <tbody>\n",
              "    <tr>\n",
              "      <th>2017-08-29 23:10:06.218251</th>\n",
              "      <td>38.4</td>\n",
              "      <td>2.6</td>\n",
              "      <td>1.4</td>\n",
              "      <td>0.9</td>\n",
              "      <td>2.1</td>\n",
              "      <td>4.1</td>\n",
              "      <td>5.8</td>\n",
              "      <td>5.5</td>\n",
              "      <td>5.5</td>\n",
              "      <td>33.7</td>\n",
              "    </tr>\n",
              "  </tbody>\n",
              "</table>\n",
              "</div>"
            ],
            "text/plain": [
              "                              1    2    3    4    5    6    7    8    9     10\n",
              "timestamp                                                                     \n",
              "2017-08-29 23:10:06.218251  38.4  2.6  1.4  0.9  2.1  4.1  5.8  5.5  5.5  33.7"
            ]
          },
          "metadata": {
            "tags": []
          },
          "execution_count": 12
        }
      ]
    },
    {
      "metadata": {
        "id": "MnioWS0Qj9gX",
        "colab_type": "code",
        "colab": {}
      },
      "cell_type": "code",
      "source": [
        "colors = ['#333333']*10\n",
        "colors[0] = '#EC713B'\n",
        "colors[-1] = '#EC713B'"
      ],
      "execution_count": 0,
      "outputs": []
    },
    {
      "metadata": {
        "id": "4lgMFBEIgWfw",
        "colab_type": "code",
        "colab": {
          "base_uri": "https://localhost:8080/",
          "height": 372
        },
        "outputId": "f45f1815-3968-46e0-b489-c71445085d04"
      },
      "cell_type": "code",
      "source": [
        "plt.style.use('fivethirtyeight');\n",
        "ax = sns.barplot(x=final.columns, y=final.values[0], color='#EC713B');\n",
        "\n",
        "ax.set(xlabel='Rating',\n",
        "      ylabel='Percent of total votes',\n",
        "      yticks=range(0,50,10));\n",
        "\n",
        "ax.tick_params(labelrotation=0);\n",
        "\n",
        "ax.text(x=-2, y=50, s=\"'An Inconvenient Sequel: Truth to Power' is divisive'\", \n",
        "        fontsize=16, fontweight='bold');\n",
        "\n",
        "ax.text(x=-2, y=46, s='IMDB ratings for the film as of Aug. 29');"
      ],
      "execution_count": 14,
      "outputs": [
        {
          "output_type": "display_data",
          "data": {
            "image/png": "[encoded data removed]",
            "text/plain": [
              "<matplotlib.figure.Figure at 0x7fe52c59d0f0>"
            ]
          },
          "metadata": {
            "tags": []
          }
        }
      ]
    },
    {
      "metadata": {
        "id": "AV2mO2XZmmzH",
        "colab_type": "text"
      },
      "cell_type": "markdown",
      "source": [
        "## Next visualization"
      ]
    },
    {
      "metadata": {
        "id": "AQTD9GGXhy_f",
        "colab_type": "code",
        "colab": {
          "base_uri": "https://localhost:8080/",
          "height": 517
        },
        "outputId": "23f79f8d-5964-4ccc-a099-4c95c43971aa"
      },
      "cell_type": "code",
      "source": [
        "# First, let's look at the graph itself\n",
        "\n",
        "url = 'https://fivethirtyeight.com/wp-content/uploads/2017/09/methahickey-inconvenient-0830-6.png'\n",
        "example = Image(url=url, width=600)\n",
        "\n",
        "display(example)"
      ],
      "execution_count": 15,
      "outputs": [
        {
          "output_type": "display_data",
          "data": {
            "text/html": [
              "<img src=\"https://fivethirtyeight.com/wp-content/uploads/2017/09/methahickey-inconvenient-0830-6.png\" width=\"600\"/>"
            ],
            "text/plain": [
              "<IPython.core.display.Image object>"
            ]
          },
          "metadata": {
            "tags": []
          }
        }
      ]
    },
    {
      "metadata": {
        "id": "hs2C2ZEmINHb",
        "colab_type": "text"
      },
      "cell_type": "markdown",
      "source": [
        "I don't want to have to generate fake data that fits this pattern, so I'll work instead on extracting the real data first."
      ]
    },
    {
      "metadata": {
        "id": "irMf12IqDGll",
        "colab_type": "code",
        "colab": {
          "base_uri": "https://localhost:8080/",
          "height": 235
        },
        "outputId": "719980ef-3a5a-44fa-edbb-5fcf2590d652"
      },
      "cell_type": "code",
      "source": [
        "# I create new dataframe columns for the number of respondents in several rating ranges\n",
        "df['1/10'] = df['respondents']*df['1_pct']*0.01\n",
        "df['10/10'] = df['respondents']*df['10_pct']*0.01\n",
        "df['2-9/10'] = df['respondents']-df['1/10']-df['10/10']\n",
        "\n",
        "# I separate out the rows for Men and Women, and all users.\n",
        "\n",
        "males = df[df.category == 'Males']\n",
        "females = df[df.category == 'Females']\n",
        "users = df[df.category == 'IMDb users']\n",
        "\n",
        "# And combine men, women, and individual scores into a new dataframe\n",
        "ratings = pd.DataFrame({'males':males.respondents, \n",
        "                        'females':females.respondents,\n",
        "                        '1 out of 10 ratings':users['1/10'],\n",
        "                        '10 out of 10 ratings':users['10/10'],\n",
        "                        '2-9 out of 10 ratings':users['2-9/10']\n",
        "                       })\n",
        "                        \n",
        "ratings.head(5) "
      ],
      "execution_count": 118,
      "outputs": [
        {
          "output_type": "execute_result",
          "data": {
            "text/html": [
              "<div>\n",
              "<style scoped>\n",
              "    .dataframe tbody tr th:only-of-type {\n",
              "        vertical-align: middle;\n",
              "    }\n",
              "\n",
              "    .dataframe tbody tr th {\n",
              "        vertical-align: top;\n",
              "    }\n",
              "\n",
              "    .dataframe thead th {\n",
              "        text-align: right;\n",
              "    }\n",
              "</style>\n",
              "<table border=\"1\" class=\"dataframe\">\n",
              "  <thead>\n",
              "    <tr style=\"text-align: right;\">\n",
              "      <th></th>\n",
              "      <th>1 out of 10 ratings</th>\n",
              "      <th>10 out of 10 ratings</th>\n",
              "      <th>2-9 out of 10 ratings</th>\n",
              "      <th>females</th>\n",
              "      <th>males</th>\n",
              "    </tr>\n",
              "    <tr>\n",
              "      <th>timestamp</th>\n",
              "      <th></th>\n",
              "      <th></th>\n",
              "      <th></th>\n",
              "      <th></th>\n",
              "      <th></th>\n",
              "    </tr>\n",
              "  </thead>\n",
              "  <tbody>\n",
              "    <tr>\n",
              "      <th>2017-07-17 12:28:32.785639</th>\n",
              "      <td>NaN</td>\n",
              "      <td>NaN</td>\n",
              "      <td>NaN</td>\n",
              "      <td>NaN</td>\n",
              "      <td>402.0</td>\n",
              "    </tr>\n",
              "    <tr>\n",
              "      <th>2017-07-17 12:28:33.025600</th>\n",
              "      <td>NaN</td>\n",
              "      <td>NaN</td>\n",
              "      <td>NaN</td>\n",
              "      <td>78.0</td>\n",
              "      <td>NaN</td>\n",
              "    </tr>\n",
              "    <tr>\n",
              "      <th>2017-07-17 12:28:36.697246</th>\n",
              "      <td>303.744</td>\n",
              "      <td>256.284</td>\n",
              "      <td>117.972</td>\n",
              "      <td>NaN</td>\n",
              "      <td>NaN</td>\n",
              "    </tr>\n",
              "    <tr>\n",
              "      <th>2017-07-17 12:34:17.770310</th>\n",
              "      <td>NaN</td>\n",
              "      <td>NaN</td>\n",
              "      <td>NaN</td>\n",
              "      <td>NaN</td>\n",
              "      <td>402.0</td>\n",
              "    </tr>\n",
              "    <tr>\n",
              "      <th>2017-07-17 12:34:17.963319</th>\n",
              "      <td>NaN</td>\n",
              "      <td>NaN</td>\n",
              "      <td>NaN</td>\n",
              "      <td>78.0</td>\n",
              "      <td>NaN</td>\n",
              "    </tr>\n",
              "  </tbody>\n",
              "</table>\n",
              "</div>"
            ],
            "text/plain": [
              "                            1 out of 10 ratings  10 out of 10 ratings  \\\n",
              "timestamp                                                               \n",
              "2017-07-17 12:28:32.785639                  NaN                   NaN   \n",
              "2017-07-17 12:28:33.025600                  NaN                   NaN   \n",
              "2017-07-17 12:28:36.697246              303.744               256.284   \n",
              "2017-07-17 12:34:17.770310                  NaN                   NaN   \n",
              "2017-07-17 12:34:17.963319                  NaN                   NaN   \n",
              "\n",
              "                            2-9 out of 10 ratings  females  males  \n",
              "timestamp                                                          \n",
              "2017-07-17 12:28:32.785639                    NaN      NaN  402.0  \n",
              "2017-07-17 12:28:33.025600                    NaN     78.0    NaN  \n",
              "2017-07-17 12:28:36.697246                117.972      NaN    NaN  \n",
              "2017-07-17 12:34:17.770310                    NaN      NaN  402.0  \n",
              "2017-07-17 12:34:17.963319                    NaN     78.0    NaN  "
            ]
          },
          "metadata": {
            "tags": []
          },
          "execution_count": 118
        }
      ]
    },
    {
      "metadata": {
        "id": "djmuFOWeFLii",
        "colab_type": "code",
        "colab": {
          "base_uri": "https://localhost:8080/",
          "height": 235
        },
        "outputId": "a79e3583-5531-4d2c-af02-ed27d4c8964d"
      },
      "cell_type": "code",
      "source": [
        "# Because each entry has a different timestamp, there's a NaN in every single row.\n",
        "# I interpolate to fill the NaNs, and drop the first and last few rows because \n",
        "# interpolate doesn't fix them\n",
        "\n",
        "ratings.interpolate(method='nearest', inplace=True)\n",
        "ratings.dropna(inplace=True)\n",
        "ratings.head()"
      ],
      "execution_count": 119,
      "outputs": [
        {
          "output_type": "execute_result",
          "data": {
            "text/html": [
              "<div>\n",
              "<style scoped>\n",
              "    .dataframe tbody tr th:only-of-type {\n",
              "        vertical-align: middle;\n",
              "    }\n",
              "\n",
              "    .dataframe tbody tr th {\n",
              "        vertical-align: top;\n",
              "    }\n",
              "\n",
              "    .dataframe thead th {\n",
              "        text-align: right;\n",
              "    }\n",
              "</style>\n",
              "<table border=\"1\" class=\"dataframe\">\n",
              "  <thead>\n",
              "    <tr style=\"text-align: right;\">\n",
              "      <th></th>\n",
              "      <th>1 out of 10 ratings</th>\n",
              "      <th>10 out of 10 ratings</th>\n",
              "      <th>2-9 out of 10 ratings</th>\n",
              "      <th>females</th>\n",
              "      <th>males</th>\n",
              "    </tr>\n",
              "    <tr>\n",
              "      <th>timestamp</th>\n",
              "      <th></th>\n",
              "      <th></th>\n",
              "      <th></th>\n",
              "      <th></th>\n",
              "      <th></th>\n",
              "    </tr>\n",
              "  </thead>\n",
              "  <tbody>\n",
              "    <tr>\n",
              "      <th>2017-07-17 12:28:36.697246</th>\n",
              "      <td>303.744</td>\n",
              "      <td>256.284</td>\n",
              "      <td>117.972</td>\n",
              "      <td>78.0</td>\n",
              "      <td>402.0</td>\n",
              "    </tr>\n",
              "    <tr>\n",
              "      <th>2017-07-17 12:34:17.770310</th>\n",
              "      <td>303.744</td>\n",
              "      <td>256.284</td>\n",
              "      <td>117.972</td>\n",
              "      <td>78.0</td>\n",
              "      <td>402.0</td>\n",
              "    </tr>\n",
              "    <tr>\n",
              "      <th>2017-07-17 12:34:17.963319</th>\n",
              "      <td>303.744</td>\n",
              "      <td>256.284</td>\n",
              "      <td>117.972</td>\n",
              "      <td>78.0</td>\n",
              "      <td>402.0</td>\n",
              "    </tr>\n",
              "    <tr>\n",
              "      <th>2017-07-17 12:34:21.250099</th>\n",
              "      <td>303.744</td>\n",
              "      <td>256.284</td>\n",
              "      <td>117.972</td>\n",
              "      <td>78.0</td>\n",
              "      <td>402.0</td>\n",
              "    </tr>\n",
              "    <tr>\n",
              "      <th>2017-07-17 13:00:02.497484</th>\n",
              "      <td>303.744</td>\n",
              "      <td>256.284</td>\n",
              "      <td>117.972</td>\n",
              "      <td>78.0</td>\n",
              "      <td>402.0</td>\n",
              "    </tr>\n",
              "  </tbody>\n",
              "</table>\n",
              "</div>"
            ],
            "text/plain": [
              "                            1 out of 10 ratings  10 out of 10 ratings  \\\n",
              "timestamp                                                               \n",
              "2017-07-17 12:28:36.697246              303.744               256.284   \n",
              "2017-07-17 12:34:17.770310              303.744               256.284   \n",
              "2017-07-17 12:34:17.963319              303.744               256.284   \n",
              "2017-07-17 12:34:21.250099              303.744               256.284   \n",
              "2017-07-17 13:00:02.497484              303.744               256.284   \n",
              "\n",
              "                            2-9 out of 10 ratings  females  males  \n",
              "timestamp                                                          \n",
              "2017-07-17 12:28:36.697246                117.972     78.0  402.0  \n",
              "2017-07-17 12:34:17.770310                117.972     78.0  402.0  \n",
              "2017-07-17 12:34:17.963319                117.972     78.0  402.0  \n",
              "2017-07-17 12:34:21.250099                117.972     78.0  402.0  \n",
              "2017-07-17 13:00:02.497484                117.972     78.0  402.0  "
            ]
          },
          "metadata": {
            "tags": []
          },
          "execution_count": 119
        }
      ]
    },
    {
      "metadata": {
        "id": "H1uijBv9hL6a",
        "colab_type": "code",
        "colab": {}
      },
      "cell_type": "code",
      "source": [
        ""
      ],
      "execution_count": 0,
      "outputs": []
    },
    {
      "metadata": {
        "id": "VQbS2rC3J8D6",
        "colab_type": "code",
        "colab": {
          "base_uri": "https://localhost:8080/",
          "height": 310
        },
        "outputId": "da009877-11e0-438c-d565-9ff5f09ccc4a"
      },
      "cell_type": "code",
      "source": [
        "# And now I plot.\n",
        "\n",
        "sns.set()\n",
        "sns.set_style(\"whitegrid\")\n",
        "sns.set_context(\"notebook\", font_scale=1.1, rc={\"lines.linewidth\": 2.5})\n",
        "\n",
        "ax = sns.lineplot(data=ratings);\n",
        "ax.set(yticks=range(0,1500,500));\n"
      ],
      "execution_count": 135,
      "outputs": [
        {
          "output_type": "display_data",
          "data": {
            "image/png": "[encoded data removed]",
            "text/plain": [
              "<matplotlib.figure.Figure at 0x7fe528bba780>"
            ]
          },
          "metadata": {
            "tags": []
          }
        }
      ]
    },
    {
      "metadata": {
        "id": "IxAWnIK0Yd7Z",
        "colab_type": "code",
        "colab": {}
      },
      "cell_type": "code",
      "source": [
        "'''\n",
        "And those are the only parts that actually worked.  I notice that the way\n",
        "I calculate the lines for ratings is wrong, clearly because 'IMDB users' is a \n",
        "category that contains more than just males and females (otherwise those lines\n",
        "would be squished down further).  I ran out of time to fix that.\n",
        "\n",
        "Most of my problems were with @#$%^& Seaborn itself, though, as most of the time \n",
        "trying to change some of the aesthetic parameters totally backfired for some \n",
        "reason.  I managed to change the line widths, but not the type of line or their \n",
        "color, and I didn't even try to change the timestamp labels on the axes.\n",
        "\n",
        "'''"
      ],
      "execution_count": 0,
      "outputs": []
    }
  ]
}