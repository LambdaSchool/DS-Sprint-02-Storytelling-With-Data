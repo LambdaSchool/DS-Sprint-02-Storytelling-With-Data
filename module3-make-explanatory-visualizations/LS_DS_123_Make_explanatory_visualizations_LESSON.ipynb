{
  "nbformat": 4,
  "nbformat_minor": 0,
  "metadata": {
    "colab": {
      "name": "LS_DS_123_Make_explanatory_visualizations_LESSON.ipynb",
      "version": "0.3.2",
      "provenance": [],
      "collapsed_sections": [
        "-8-trVo__vRE"
      ],
      "include_colab_link": true
    },
    "kernelspec": {
      "display_name": "Python 3",
      "language": "python",
      "name": "python3"
    }
  },
  "cells": [
    {
      "cell_type": "markdown",
      "metadata": {
        "id": "view-in-github",
        "colab_type": "text"
      },
      "source": [
        "<a href=\"https://colab.research.google.com/github/zangell44/DS-Sprint-02-Storytelling-With-Data/blob/master/module3-make-explanatory-visualizations/LS_DS_123_Make_explanatory_visualizations_LESSON.ipynb\" target=\"_parent\"><img src=\"https://colab.research.google.com/assets/colab-badge.svg\" alt=\"Open In Colab\"/></a>"
      ]
    },
    {
      "metadata": {
        "id": "-8-trVo__vRE",
        "colab_type": "text"
      },
      "cell_type": "markdown",
      "source": [
        "_Lambda School Data Science_\n",
        "\n",
        "# Choose appropriate visualizations\n",
        "\n",
        "\n",
        "Recreate this [example by FiveThirtyEight:](https://fivethirtyeight.com/features/al-gores-new-movie-exposes-the-big-flaw-in-online-movie-ratings/)"
      ]
    },
    {
      "metadata": {
        "id": "ya_w5WORGs-n",
        "colab_type": "code",
        "outputId": "f658e06c-aead-45ba-b68b-765d8e220b81",
        "colab": {
          "base_uri": "https://localhost:8080/",
          "height": 354
        }
      },
      "cell_type": "code",
      "source": [
        "from IPython.display import display, Image\n",
        "\n",
        "url = 'https://fivethirtyeight.com/wp-content/uploads/2017/09/mehtahickey-inconvenient-0830-1.png'\n",
        "example = Image(url=url, width=400)\n",
        "\n",
        "display(example)"
      ],
      "execution_count": 2,
      "outputs": [
        {
          "output_type": "display_data",
          "data": {
            "text/html": [
              "<img src=\"https://fivethirtyeight.com/wp-content/uploads/2017/09/mehtahickey-inconvenient-0830-1.png\" width=\"400\"/>"
            ],
            "text/plain": [
              "<IPython.core.display.Image object>"
            ]
          },
          "metadata": {
            "tags": []
          }
        }
      ]
    },
    {
      "metadata": {
        "id": "HioPkYtUG03B",
        "colab_type": "text"
      },
      "cell_type": "markdown",
      "source": [
        "Using this data:\n",
        "\n",
        "https://github.com/fivethirtyeight/data/tree/master/inconvenient-sequel\n",
        "\n",
        "### Stretch goals\n",
        "\n",
        "Recreate more examples from [FiveThityEight's shared data repository](https://data.fivethirtyeight.com/).\n",
        "\n",
        "For example:\n",
        "- [thanksgiving-2015](https://fivethirtyeight.com/features/heres-what-your-part-of-america-eats-on-thanksgiving/) ([`altair`](https://altair-viz.github.io/gallery/index.html#maps))\n",
        "- [candy-power-ranking](https://fivethirtyeight.com/features/the-ultimate-halloween-candy-power-ranking/) ([`statsmodels`](https://www.statsmodels.org/stable/index.html))"
      ]
    },
    {
      "metadata": {
        "id": "JYqK0ST3PEpg",
        "colab_type": "code",
        "colab": {}
      },
      "cell_type": "code",
      "source": [
        "% matplotlib inline\n",
        "import pandas as pd\n",
        "import numpy as np\n",
        "import matplotlib.pyplot as plt\n",
        "import seaborn as sns\n",
        "\n",
        "plt.style.use('fivethirtyeight') # plt.stype.use.available to see more"
      ],
      "execution_count": 0,
      "outputs": []
    },
    {
      "metadata": {
        "id": "U9L4cdv8OEKG",
        "colab_type": "code",
        "colab": {}
      },
      "cell_type": "code",
      "source": [
        "# recreating plot with fake data\n",
        "fake_data = pd.Series([38, 3, 2, 1, 2, 4, 7, 7, 7, 35],\n",
        "                      index=range(1,11))\n"
      ],
      "execution_count": 0,
      "outputs": []
    },
    {
      "metadata": {
        "id": "gzt3_483Pp-P",
        "colab_type": "code",
        "colab": {
          "base_uri": "https://localhost:8080/",
          "height": 351
        },
        "outputId": "40457a4b-d640-489e-98e2-52e69e703a35"
      },
      "cell_type": "code",
      "source": [
        "# plotting\n",
        "\n",
        "colors = ['#EC713B'] * 10\n",
        "colors[0] = 'C0'\n",
        "colors[-1] = 'C1'\n",
        "\n",
        "ax_fake = fake_data.plot.bar(color=colors,\n",
        "                   width=0.9)\n",
        "\n",
        "ax_fake.tick_params(labelrotation=0)\n",
        "# ax_fake.set_xlabel('Rating')\n",
        "# ax_fake.set_ylabel('Percent of Total Votes')\n",
        "# ax_fake.set_title(\"'An Inconvenient Sequel: Truth To Power' is divisive\")\n",
        "\n",
        "ax_fake.set(xlabel='Rating',\n",
        "            ylabel='Percent of Total Votes',\n",
        "            yticks=range(0,50,10))\n",
        "\n",
        "ax_fake.text(x=-2, y=50, \n",
        "             s=\"'An Inconvenient Sequel: Truth To Power' is divisive\",\n",
        "             fontsize=16,\n",
        "             fontweight='bold')\n",
        "\n",
        "ax_fake.text(x=-2, y=46, s='IMDb ratings for the film as of Aug. 29')\n",
        " \n",
        "plt.tight_layout()"
      ],
      "execution_count": 107,
      "outputs": [
        {
          "output_type": "display_data",
          "data": {
            "image/png": "[encoded data removed]",
            "text/plain": [
              "<matplotlib.figure.Figure at 0x7f6cf361c438>"
            ]
          },
          "metadata": {
            "tags": []
          }
        }
      ]
    },
    {
      "metadata": {
        "id": "7Le-jixUNV0E",
        "colab_type": "code",
        "colab": {}
      },
      "cell_type": "code",
      "source": [
        "inconvenient_data_url = 'https://github.com/fivethirtyeight/data/tree/master/inconvenient-sequel'\n",
        "!curl $inconvenient_data_url"
      ],
      "execution_count": 0,
      "outputs": []
    },
    {
      "metadata": {
        "id": "N89pO3kX_-7p",
        "colab_type": "code",
        "colab": {}
      },
      "cell_type": "code",
      "source": [
        "# wrangling the real data\n",
        "inconvenient_data_url_csv = 'https://raw.githubusercontent.com/fivethirtyeight/data/master/inconvenient-sequel/ratings.csv'\n",
        "\n",
        "df_ratings = pd.read_csv(inconvenient_data_url_csv)"
      ],
      "execution_count": 0,
      "outputs": []
    },
    {
      "metadata": {
        "id": "7xuxvMQ9N6U-",
        "colab_type": "code",
        "colab": {
          "base_uri": "https://localhost:8080/",
          "height": 338
        },
        "outputId": "1501c455-d436-4436-f8cc-01a49f24c590"
      },
      "cell_type": "code",
      "source": [
        "df_ratings.tail()"
      ],
      "execution_count": 57,
      "outputs": [
        {
          "output_type": "execute_result",
          "data": {
            "text/html": [
              "<div>\n",
              "<style scoped>\n",
              "    .dataframe tbody tr th:only-of-type {\n",
              "        vertical-align: middle;\n",
              "    }\n",
              "\n",
              "    .dataframe tbody tr th {\n",
              "        vertical-align: top;\n",
              "    }\n",
              "\n",
              "    .dataframe thead th {\n",
              "        text-align: right;\n",
              "    }\n",
              "</style>\n",
              "<table border=\"1\" class=\"dataframe\">\n",
              "  <thead>\n",
              "    <tr style=\"text-align: right;\">\n",
              "      <th></th>\n",
              "      <th>timestamp</th>\n",
              "      <th>respondents</th>\n",
              "      <th>category</th>\n",
              "      <th>link</th>\n",
              "      <th>average</th>\n",
              "      <th>mean</th>\n",
              "      <th>median</th>\n",
              "      <th>1_votes</th>\n",
              "      <th>2_votes</th>\n",
              "      <th>3_votes</th>\n",
              "      <th>...</th>\n",
              "      <th>1_pct</th>\n",
              "      <th>2_pct</th>\n",
              "      <th>3_pct</th>\n",
              "      <th>4_pct</th>\n",
              "      <th>5_pct</th>\n",
              "      <th>6_pct</th>\n",
              "      <th>7_pct</th>\n",
              "      <th>8_pct</th>\n",
              "      <th>9_pct</th>\n",
              "      <th>10_pct</th>\n",
              "    </tr>\n",
              "  </thead>\n",
              "  <tbody>\n",
              "    <tr>\n",
              "      <th>80048</th>\n",
              "      <td>2017-08-29 23:10:05.369510</td>\n",
              "      <td>8</td>\n",
              "      <td>IMDb staff</td>\n",
              "      <td>http://www.imdb.com/title/tt6322922/ratings-im...</td>\n",
              "      <td>8.4</td>\n",
              "      <td>7.2</td>\n",
              "      <td>8</td>\n",
              "      <td>1</td>\n",
              "      <td>0</td>\n",
              "      <td>0</td>\n",
              "      <td>...</td>\n",
              "      <td>12.5</td>\n",
              "      <td>0.0</td>\n",
              "      <td>0.0</td>\n",
              "      <td>0.0</td>\n",
              "      <td>0.0</td>\n",
              "      <td>12.5</td>\n",
              "      <td>12.5</td>\n",
              "      <td>25.0</td>\n",
              "      <td>25.0</td>\n",
              "      <td>12.5</td>\n",
              "    </tr>\n",
              "    <tr>\n",
              "      <th>80049</th>\n",
              "      <td>2017-08-29 23:10:05.598331</td>\n",
              "      <td>41</td>\n",
              "      <td>Top 1000 voters</td>\n",
              "      <td>http://www.imdb.com/title/tt6322922/ratings-to...</td>\n",
              "      <td>4.6</td>\n",
              "      <td>4.7</td>\n",
              "      <td>5</td>\n",
              "      <td>11</td>\n",
              "      <td>4</td>\n",
              "      <td>2</td>\n",
              "      <td>...</td>\n",
              "      <td>26.8</td>\n",
              "      <td>9.8</td>\n",
              "      <td>4.9</td>\n",
              "      <td>4.9</td>\n",
              "      <td>12.2</td>\n",
              "      <td>9.8</td>\n",
              "      <td>12.2</td>\n",
              "      <td>2.4</td>\n",
              "      <td>2.4</td>\n",
              "      <td>14.6</td>\n",
              "    </tr>\n",
              "    <tr>\n",
              "      <th>80050</th>\n",
              "      <td>2017-08-29 23:10:05.794141</td>\n",
              "      <td>925</td>\n",
              "      <td>US users</td>\n",
              "      <td>http://www.imdb.com/title/tt6322922/ratings-usa</td>\n",
              "      <td>4.8</td>\n",
              "      <td>5.0</td>\n",
              "      <td>4</td>\n",
              "      <td>405</td>\n",
              "      <td>34</td>\n",
              "      <td>20</td>\n",
              "      <td>...</td>\n",
              "      <td>43.8</td>\n",
              "      <td>3.7</td>\n",
              "      <td>2.2</td>\n",
              "      <td>0.9</td>\n",
              "      <td>1.0</td>\n",
              "      <td>3.2</td>\n",
              "      <td>5.8</td>\n",
              "      <td>5.0</td>\n",
              "      <td>6.5</td>\n",
              "      <td>28.0</td>\n",
              "    </tr>\n",
              "    <tr>\n",
              "      <th>80051</th>\n",
              "      <td>2017-08-29 23:10:06.022268</td>\n",
              "      <td>565</td>\n",
              "      <td>Non-US users</td>\n",
              "      <td>http://www.imdb.com/title/tt6322922/ratings-in...</td>\n",
              "      <td>6.4</td>\n",
              "      <td>6.5</td>\n",
              "      <td>7</td>\n",
              "      <td>129</td>\n",
              "      <td>11</td>\n",
              "      <td>10</td>\n",
              "      <td>...</td>\n",
              "      <td>22.8</td>\n",
              "      <td>1.9</td>\n",
              "      <td>1.8</td>\n",
              "      <td>1.4</td>\n",
              "      <td>5.7</td>\n",
              "      <td>8.3</td>\n",
              "      <td>9.2</td>\n",
              "      <td>6.5</td>\n",
              "      <td>6.2</td>\n",
              "      <td>36.1</td>\n",
              "    </tr>\n",
              "    <tr>\n",
              "      <th>80052</th>\n",
              "      <td>2017-08-29 23:10:06.218251</td>\n",
              "      <td>2662</td>\n",
              "      <td>IMDb users</td>\n",
              "      <td>http://www.imdb.com/title/tt6322922/ratings</td>\n",
              "      <td>5.4</td>\n",
              "      <td>5.6</td>\n",
              "      <td>7</td>\n",
              "      <td>1021</td>\n",
              "      <td>69</td>\n",
              "      <td>38</td>\n",
              "      <td>...</td>\n",
              "      <td>38.4</td>\n",
              "      <td>2.6</td>\n",
              "      <td>1.4</td>\n",
              "      <td>0.9</td>\n",
              "      <td>2.1</td>\n",
              "      <td>4.1</td>\n",
              "      <td>5.8</td>\n",
              "      <td>5.5</td>\n",
              "      <td>5.5</td>\n",
              "      <td>33.7</td>\n",
              "    </tr>\n",
              "  </tbody>\n",
              "</table>\n",
              "<p>5 rows × 27 columns</p>\n",
              "</div>"
            ],
            "text/plain": [
              "                        timestamp  respondents         category  \\\n",
              "80048  2017-08-29 23:10:05.369510            8       IMDb staff   \n",
              "80049  2017-08-29 23:10:05.598331           41  Top 1000 voters   \n",
              "80050  2017-08-29 23:10:05.794141          925         US users   \n",
              "80051  2017-08-29 23:10:06.022268          565     Non-US users   \n",
              "80052  2017-08-29 23:10:06.218251         2662       IMDb users   \n",
              "\n",
              "                                                    link  average  mean  \\\n",
              "80048  http://www.imdb.com/title/tt6322922/ratings-im...      8.4   7.2   \n",
              "80049  http://www.imdb.com/title/tt6322922/ratings-to...      4.6   4.7   \n",
              "80050    http://www.imdb.com/title/tt6322922/ratings-usa      4.8   5.0   \n",
              "80051  http://www.imdb.com/title/tt6322922/ratings-in...      6.4   6.5   \n",
              "80052        http://www.imdb.com/title/tt6322922/ratings      5.4   5.6   \n",
              "\n",
              "       median  1_votes  2_votes  3_votes   ...    1_pct  2_pct  3_pct  4_pct  \\\n",
              "80048       8        1        0        0   ...     12.5    0.0    0.0    0.0   \n",
              "80049       5       11        4        2   ...     26.8    9.8    4.9    4.9   \n",
              "80050       4      405       34       20   ...     43.8    3.7    2.2    0.9   \n",
              "80051       7      129       11       10   ...     22.8    1.9    1.8    1.4   \n",
              "80052       7     1021       69       38   ...     38.4    2.6    1.4    0.9   \n",
              "\n",
              "       5_pct  6_pct  7_pct  8_pct  9_pct  10_pct  \n",
              "80048    0.0   12.5   12.5   25.0   25.0    12.5  \n",
              "80049   12.2    9.8   12.2    2.4    2.4    14.6  \n",
              "80050    1.0    3.2    5.8    5.0    6.5    28.0  \n",
              "80051    5.7    8.3    9.2    6.5    6.2    36.1  \n",
              "80052    2.1    4.1    5.8    5.5    5.5    33.7  \n",
              "\n",
              "[5 rows x 27 columns]"
            ]
          },
          "metadata": {
            "tags": []
          },
          "execution_count": 57
        }
      ]
    },
    {
      "metadata": {
        "id": "TZ3zF_Hgbv5n",
        "colab_type": "code",
        "colab": {}
      },
      "cell_type": "code",
      "source": [
        "# show max dataframe\n",
        "pd.set_option('display.height', 1000)\n",
        "pd.set_option('display.max_rows', 500)\n",
        "pd.set_option('display.max_columns', 500)\n",
        "pd.set_option('display.width', 1000)"
      ],
      "execution_count": 0,
      "outputs": []
    },
    {
      "metadata": {
        "id": "90qFcwT5aA4i",
        "colab_type": "code",
        "colab": {
          "base_uri": "https://localhost:8080/",
          "height": 119
        },
        "outputId": "2865b88a-0a21-4d2c-90e7-0ae93fc444e0"
      },
      "cell_type": "code",
      "source": [
        "df_ratings['category'].unique()"
      ],
      "execution_count": 56,
      "outputs": [
        {
          "output_type": "execute_result",
          "data": {
            "text/plain": [
              "array(['Males', 'Females', 'Aged under 18', 'Males under 18',\n",
              "       'Aged 18-29', 'Males Aged 18-29', 'Females Aged 18-29',\n",
              "       'Aged 30-44', 'Males Aged 30-44', 'Females Aged 30-44', 'Aged 45+',\n",
              "       'Males Aged 45+', 'Females Aged 45+', 'IMDb staff',\n",
              "       'Top 1000 voters', 'US users', 'Non-US users', 'IMDb users',\n",
              "       'Females under 18'], dtype=object)"
            ]
          },
          "metadata": {
            "tags": []
          },
          "execution_count": 56
        }
      ]
    },
    {
      "metadata": {
        "id": "9B_7vi2kaqWZ",
        "colab_type": "code",
        "colab": {}
      },
      "cell_type": "code",
      "source": [
        "df_users = df_ratings[df_ratings['category'] == 'IMDb users']"
      ],
      "execution_count": 0,
      "outputs": []
    },
    {
      "metadata": {
        "id": "lCNhPNmVbHXl",
        "colab_type": "code",
        "colab": {
          "base_uri": "https://localhost:8080/",
          "height": 309
        },
        "outputId": "bb380f1a-0580-4137-b225-3a77d0733677"
      },
      "cell_type": "code",
      "source": [
        "df_users.tail()"
      ],
      "execution_count": 75,
      "outputs": [
        {
          "output_type": "execute_result",
          "data": {
            "text/html": [
              "<div>\n",
              "<style scoped>\n",
              "    .dataframe tbody tr th:only-of-type {\n",
              "        vertical-align: middle;\n",
              "    }\n",
              "\n",
              "    .dataframe tbody tr th {\n",
              "        vertical-align: top;\n",
              "    }\n",
              "\n",
              "    .dataframe thead th {\n",
              "        text-align: right;\n",
              "    }\n",
              "</style>\n",
              "<table border=\"1\" class=\"dataframe\">\n",
              "  <thead>\n",
              "    <tr style=\"text-align: right;\">\n",
              "      <th></th>\n",
              "      <th>timestamp</th>\n",
              "      <th>respondents</th>\n",
              "      <th>category</th>\n",
              "      <th>link</th>\n",
              "      <th>average</th>\n",
              "      <th>mean</th>\n",
              "      <th>median</th>\n",
              "      <th>1_votes</th>\n",
              "      <th>2_votes</th>\n",
              "      <th>3_votes</th>\n",
              "      <th>4_votes</th>\n",
              "      <th>5_votes</th>\n",
              "      <th>6_votes</th>\n",
              "      <th>7_votes</th>\n",
              "      <th>8_votes</th>\n",
              "      <th>9_votes</th>\n",
              "      <th>10_votes</th>\n",
              "      <th>1_pct</th>\n",
              "      <th>2_pct</th>\n",
              "      <th>3_pct</th>\n",
              "      <th>4_pct</th>\n",
              "      <th>5_pct</th>\n",
              "      <th>6_pct</th>\n",
              "      <th>7_pct</th>\n",
              "      <th>8_pct</th>\n",
              "      <th>9_pct</th>\n",
              "      <th>10_pct</th>\n",
              "    </tr>\n",
              "  </thead>\n",
              "  <tbody>\n",
              "    <tr>\n",
              "      <th>79976</th>\n",
              "      <td>2017-08-29 22:30:06.423181</td>\n",
              "      <td>2662</td>\n",
              "      <td>IMDb users</td>\n",
              "      <td>http://www.imdb.com/title/tt6322922/ratings</td>\n",
              "      <td>5.4</td>\n",
              "      <td>5.6</td>\n",
              "      <td>7</td>\n",
              "      <td>1021</td>\n",
              "      <td>69</td>\n",
              "      <td>38</td>\n",
              "      <td>25</td>\n",
              "      <td>55</td>\n",
              "      <td>110</td>\n",
              "      <td>154</td>\n",
              "      <td>147</td>\n",
              "      <td>146</td>\n",
              "      <td>897</td>\n",
              "      <td>38.4</td>\n",
              "      <td>2.6</td>\n",
              "      <td>1.4</td>\n",
              "      <td>0.9</td>\n",
              "      <td>2.1</td>\n",
              "      <td>4.1</td>\n",
              "      <td>5.8</td>\n",
              "      <td>5.5</td>\n",
              "      <td>5.5</td>\n",
              "      <td>33.7</td>\n",
              "    </tr>\n",
              "    <tr>\n",
              "      <th>79995</th>\n",
              "      <td>2017-08-29 22:40:06.233659</td>\n",
              "      <td>2662</td>\n",
              "      <td>IMDb users</td>\n",
              "      <td>http://www.imdb.com/title/tt6322922/ratings</td>\n",
              "      <td>5.4</td>\n",
              "      <td>5.6</td>\n",
              "      <td>7</td>\n",
              "      <td>1021</td>\n",
              "      <td>69</td>\n",
              "      <td>38</td>\n",
              "      <td>25</td>\n",
              "      <td>55</td>\n",
              "      <td>110</td>\n",
              "      <td>154</td>\n",
              "      <td>147</td>\n",
              "      <td>146</td>\n",
              "      <td>897</td>\n",
              "      <td>38.4</td>\n",
              "      <td>2.6</td>\n",
              "      <td>1.4</td>\n",
              "      <td>0.9</td>\n",
              "      <td>2.1</td>\n",
              "      <td>4.1</td>\n",
              "      <td>5.8</td>\n",
              "      <td>5.5</td>\n",
              "      <td>5.5</td>\n",
              "      <td>33.7</td>\n",
              "    </tr>\n",
              "    <tr>\n",
              "      <th>80014</th>\n",
              "      <td>2017-08-29 22:50:06.592571</td>\n",
              "      <td>2662</td>\n",
              "      <td>IMDb users</td>\n",
              "      <td>http://www.imdb.com/title/tt6322922/ratings</td>\n",
              "      <td>5.4</td>\n",
              "      <td>5.6</td>\n",
              "      <td>7</td>\n",
              "      <td>1021</td>\n",
              "      <td>69</td>\n",
              "      <td>38</td>\n",
              "      <td>25</td>\n",
              "      <td>55</td>\n",
              "      <td>110</td>\n",
              "      <td>154</td>\n",
              "      <td>147</td>\n",
              "      <td>146</td>\n",
              "      <td>897</td>\n",
              "      <td>38.4</td>\n",
              "      <td>2.6</td>\n",
              "      <td>1.4</td>\n",
              "      <td>0.9</td>\n",
              "      <td>2.1</td>\n",
              "      <td>4.1</td>\n",
              "      <td>5.8</td>\n",
              "      <td>5.5</td>\n",
              "      <td>5.5</td>\n",
              "      <td>33.7</td>\n",
              "    </tr>\n",
              "    <tr>\n",
              "      <th>80033</th>\n",
              "      <td>2017-08-29 23:00:05.829558</td>\n",
              "      <td>2662</td>\n",
              "      <td>IMDb users</td>\n",
              "      <td>http://www.imdb.com/title/tt6322922/ratings</td>\n",
              "      <td>5.4</td>\n",
              "      <td>5.6</td>\n",
              "      <td>7</td>\n",
              "      <td>1021</td>\n",
              "      <td>69</td>\n",
              "      <td>38</td>\n",
              "      <td>25</td>\n",
              "      <td>55</td>\n",
              "      <td>110</td>\n",
              "      <td>154</td>\n",
              "      <td>147</td>\n",
              "      <td>146</td>\n",
              "      <td>897</td>\n",
              "      <td>38.4</td>\n",
              "      <td>2.6</td>\n",
              "      <td>1.4</td>\n",
              "      <td>0.9</td>\n",
              "      <td>2.1</td>\n",
              "      <td>4.1</td>\n",
              "      <td>5.8</td>\n",
              "      <td>5.5</td>\n",
              "      <td>5.5</td>\n",
              "      <td>33.7</td>\n",
              "    </tr>\n",
              "    <tr>\n",
              "      <th>80052</th>\n",
              "      <td>2017-08-29 23:10:06.218251</td>\n",
              "      <td>2662</td>\n",
              "      <td>IMDb users</td>\n",
              "      <td>http://www.imdb.com/title/tt6322922/ratings</td>\n",
              "      <td>5.4</td>\n",
              "      <td>5.6</td>\n",
              "      <td>7</td>\n",
              "      <td>1021</td>\n",
              "      <td>69</td>\n",
              "      <td>38</td>\n",
              "      <td>25</td>\n",
              "      <td>55</td>\n",
              "      <td>110</td>\n",
              "      <td>154</td>\n",
              "      <td>147</td>\n",
              "      <td>146</td>\n",
              "      <td>897</td>\n",
              "      <td>38.4</td>\n",
              "      <td>2.6</td>\n",
              "      <td>1.4</td>\n",
              "      <td>0.9</td>\n",
              "      <td>2.1</td>\n",
              "      <td>4.1</td>\n",
              "      <td>5.8</td>\n",
              "      <td>5.5</td>\n",
              "      <td>5.5</td>\n",
              "      <td>33.7</td>\n",
              "    </tr>\n",
              "  </tbody>\n",
              "</table>\n",
              "</div>"
            ],
            "text/plain": [
              "                        timestamp  respondents    category                                         link  average  mean  median  1_votes  2_votes  3_votes  4_votes  5_votes  6_votes  7_votes  8_votes  9_votes  10_votes  1_pct  2_pct  3_pct  4_pct  5_pct  6_pct  7_pct  8_pct  9_pct  10_pct\n",
              "79976  2017-08-29 22:30:06.423181         2662  IMDb users  http://www.imdb.com/title/tt6322922/ratings      5.4   5.6       7     1021       69       38       25       55      110      154      147      146       897   38.4    2.6    1.4    0.9    2.1    4.1    5.8    5.5    5.5    33.7\n",
              "79995  2017-08-29 22:40:06.233659         2662  IMDb users  http://www.imdb.com/title/tt6322922/ratings      5.4   5.6       7     1021       69       38       25       55      110      154      147      146       897   38.4    2.6    1.4    0.9    2.1    4.1    5.8    5.5    5.5    33.7\n",
              "80014  2017-08-29 22:50:06.592571         2662  IMDb users  http://www.imdb.com/title/tt6322922/ratings      5.4   5.6       7     1021       69       38       25       55      110      154      147      146       897   38.4    2.6    1.4    0.9    2.1    4.1    5.8    5.5    5.5    33.7\n",
              "80033  2017-08-29 23:00:05.829558         2662  IMDb users  http://www.imdb.com/title/tt6322922/ratings      5.4   5.6       7     1021       69       38       25       55      110      154      147      146       897   38.4    2.6    1.4    0.9    2.1    4.1    5.8    5.5    5.5    33.7\n",
              "80052  2017-08-29 23:10:06.218251         2662  IMDb users  http://www.imdb.com/title/tt6322922/ratings      5.4   5.6       7     1021       69       38       25       55      110      154      147      146       897   38.4    2.6    1.4    0.9    2.1    4.1    5.8    5.5    5.5    33.7"
            ]
          },
          "metadata": {
            "tags": []
          },
          "execution_count": 75
        }
      ]
    },
    {
      "metadata": {
        "id": "9zArw0DZcY-I",
        "colab_type": "code",
        "colab": {
          "base_uri": "https://localhost:8080/",
          "height": 493
        },
        "outputId": "ca5530ec-0764-470a-a044-f8bb0f2fdac4"
      },
      "cell_type": "code",
      "source": [
        "df_users.dtypes"
      ],
      "execution_count": 76,
      "outputs": [
        {
          "output_type": "execute_result",
          "data": {
            "text/plain": [
              "timestamp       object\n",
              "respondents      int64\n",
              "category        object\n",
              "link            object\n",
              "average        float64\n",
              "mean           float64\n",
              "median           int64\n",
              "1_votes          int64\n",
              "2_votes          int64\n",
              "3_votes          int64\n",
              "4_votes          int64\n",
              "5_votes          int64\n",
              "6_votes          int64\n",
              "7_votes          int64\n",
              "8_votes          int64\n",
              "9_votes          int64\n",
              "10_votes         int64\n",
              "1_pct          float64\n",
              "2_pct          float64\n",
              "3_pct          float64\n",
              "4_pct          float64\n",
              "5_pct          float64\n",
              "6_pct          float64\n",
              "7_pct          float64\n",
              "8_pct          float64\n",
              "9_pct          float64\n",
              "10_pct         float64\n",
              "dtype: object"
            ]
          },
          "metadata": {
            "tags": []
          },
          "execution_count": 76
        }
      ]
    },
    {
      "metadata": {
        "id": "BtesKbnibIqX",
        "colab_type": "code",
        "colab": {}
      },
      "cell_type": "code",
      "source": [
        "# pd.to_datetime(df_users['timestamp'])\n",
        "# df_last_count = df_users.loc[df_users['timestamp'].idxmax()]"
      ],
      "execution_count": 0,
      "outputs": []
    },
    {
      "metadata": {
        "id": "L5Kc8EBacXke",
        "colab_type": "code",
        "colab": {
          "base_uri": "https://localhost:8080/",
          "height": 340
        },
        "outputId": "003641df-41ed-4e4c-ce7e-e169e042c41d"
      },
      "cell_type": "code",
      "source": [
        "df_users.set_index('timestamp', inplace=True)\n",
        "df_users.head()"
      ],
      "execution_count": 82,
      "outputs": [
        {
          "output_type": "execute_result",
          "data": {
            "text/html": [
              "<div>\n",
              "<style scoped>\n",
              "    .dataframe tbody tr th:only-of-type {\n",
              "        vertical-align: middle;\n",
              "    }\n",
              "\n",
              "    .dataframe tbody tr th {\n",
              "        vertical-align: top;\n",
              "    }\n",
              "\n",
              "    .dataframe thead th {\n",
              "        text-align: right;\n",
              "    }\n",
              "</style>\n",
              "<table border=\"1\" class=\"dataframe\">\n",
              "  <thead>\n",
              "    <tr style=\"text-align: right;\">\n",
              "      <th></th>\n",
              "      <th>respondents</th>\n",
              "      <th>category</th>\n",
              "      <th>link</th>\n",
              "      <th>average</th>\n",
              "      <th>mean</th>\n",
              "      <th>median</th>\n",
              "      <th>1_votes</th>\n",
              "      <th>2_votes</th>\n",
              "      <th>3_votes</th>\n",
              "      <th>4_votes</th>\n",
              "      <th>5_votes</th>\n",
              "      <th>6_votes</th>\n",
              "      <th>7_votes</th>\n",
              "      <th>8_votes</th>\n",
              "      <th>9_votes</th>\n",
              "      <th>10_votes</th>\n",
              "      <th>1_pct</th>\n",
              "      <th>2_pct</th>\n",
              "      <th>3_pct</th>\n",
              "      <th>4_pct</th>\n",
              "      <th>5_pct</th>\n",
              "      <th>6_pct</th>\n",
              "      <th>7_pct</th>\n",
              "      <th>8_pct</th>\n",
              "      <th>9_pct</th>\n",
              "      <th>10_pct</th>\n",
              "    </tr>\n",
              "    <tr>\n",
              "      <th>timestamp</th>\n",
              "      <th></th>\n",
              "      <th></th>\n",
              "      <th></th>\n",
              "      <th></th>\n",
              "      <th></th>\n",
              "      <th></th>\n",
              "      <th></th>\n",
              "      <th></th>\n",
              "      <th></th>\n",
              "      <th></th>\n",
              "      <th></th>\n",
              "      <th></th>\n",
              "      <th></th>\n",
              "      <th></th>\n",
              "      <th></th>\n",
              "      <th></th>\n",
              "      <th></th>\n",
              "      <th></th>\n",
              "      <th></th>\n",
              "      <th></th>\n",
              "      <th></th>\n",
              "      <th></th>\n",
              "      <th></th>\n",
              "      <th></th>\n",
              "      <th></th>\n",
              "      <th></th>\n",
              "    </tr>\n",
              "  </thead>\n",
              "  <tbody>\n",
              "    <tr>\n",
              "      <th>2017-07-17 12:28:36.697246</th>\n",
              "      <td>678</td>\n",
              "      <td>IMDb users</td>\n",
              "      <td>http://www.imdb.com/title/tt6322922/ratings</td>\n",
              "      <td>4.9</td>\n",
              "      <td>5.4</td>\n",
              "      <td>5</td>\n",
              "      <td>304</td>\n",
              "      <td>14</td>\n",
              "      <td>8</td>\n",
              "      <td>5</td>\n",
              "      <td>9</td>\n",
              "      <td>10</td>\n",
              "      <td>18</td>\n",
              "      <td>24</td>\n",
              "      <td>30</td>\n",
              "      <td>256</td>\n",
              "      <td>44.8</td>\n",
              "      <td>2.1</td>\n",
              "      <td>1.2</td>\n",
              "      <td>0.7</td>\n",
              "      <td>1.3</td>\n",
              "      <td>1.5</td>\n",
              "      <td>2.7</td>\n",
              "      <td>3.5</td>\n",
              "      <td>4.4</td>\n",
              "      <td>37.8</td>\n",
              "    </tr>\n",
              "    <tr>\n",
              "      <th>2017-07-17 12:34:21.250099</th>\n",
              "      <td>678</td>\n",
              "      <td>IMDb users</td>\n",
              "      <td>http://www.imdb.com/title/tt6322922/ratings</td>\n",
              "      <td>4.9</td>\n",
              "      <td>5.4</td>\n",
              "      <td>5</td>\n",
              "      <td>304</td>\n",
              "      <td>14</td>\n",
              "      <td>8</td>\n",
              "      <td>5</td>\n",
              "      <td>9</td>\n",
              "      <td>10</td>\n",
              "      <td>18</td>\n",
              "      <td>24</td>\n",
              "      <td>30</td>\n",
              "      <td>256</td>\n",
              "      <td>44.8</td>\n",
              "      <td>2.1</td>\n",
              "      <td>1.2</td>\n",
              "      <td>0.7</td>\n",
              "      <td>1.3</td>\n",
              "      <td>1.5</td>\n",
              "      <td>2.7</td>\n",
              "      <td>3.5</td>\n",
              "      <td>4.4</td>\n",
              "      <td>37.8</td>\n",
              "    </tr>\n",
              "    <tr>\n",
              "      <th>2017-07-17 13:00:06.506688</th>\n",
              "      <td>678</td>\n",
              "      <td>IMDb users</td>\n",
              "      <td>http://www.imdb.com/title/tt6322922/ratings</td>\n",
              "      <td>4.9</td>\n",
              "      <td>5.4</td>\n",
              "      <td>5</td>\n",
              "      <td>304</td>\n",
              "      <td>14</td>\n",
              "      <td>8</td>\n",
              "      <td>5</td>\n",
              "      <td>9</td>\n",
              "      <td>10</td>\n",
              "      <td>18</td>\n",
              "      <td>24</td>\n",
              "      <td>30</td>\n",
              "      <td>256</td>\n",
              "      <td>44.8</td>\n",
              "      <td>2.1</td>\n",
              "      <td>1.2</td>\n",
              "      <td>0.7</td>\n",
              "      <td>1.3</td>\n",
              "      <td>1.5</td>\n",
              "      <td>2.7</td>\n",
              "      <td>3.5</td>\n",
              "      <td>4.4</td>\n",
              "      <td>37.8</td>\n",
              "    </tr>\n",
              "    <tr>\n",
              "      <th>2017-07-17 14:00:06.727742</th>\n",
              "      <td>679</td>\n",
              "      <td>IMDb users</td>\n",
              "      <td>http://www.imdb.com/title/tt6322922/ratings</td>\n",
              "      <td>4.9</td>\n",
              "      <td>5.3</td>\n",
              "      <td>5</td>\n",
              "      <td>305</td>\n",
              "      <td>14</td>\n",
              "      <td>8</td>\n",
              "      <td>5</td>\n",
              "      <td>9</td>\n",
              "      <td>10</td>\n",
              "      <td>18</td>\n",
              "      <td>24</td>\n",
              "      <td>30</td>\n",
              "      <td>256</td>\n",
              "      <td>44.9</td>\n",
              "      <td>2.1</td>\n",
              "      <td>1.2</td>\n",
              "      <td>0.7</td>\n",
              "      <td>1.3</td>\n",
              "      <td>1.5</td>\n",
              "      <td>2.7</td>\n",
              "      <td>3.5</td>\n",
              "      <td>4.4</td>\n",
              "      <td>37.7</td>\n",
              "    </tr>\n",
              "    <tr>\n",
              "      <th>2017-07-17 15:00:06.055125</th>\n",
              "      <td>679</td>\n",
              "      <td>IMDb users</td>\n",
              "      <td>http://www.imdb.com/title/tt6322922/ratings</td>\n",
              "      <td>4.9</td>\n",
              "      <td>5.3</td>\n",
              "      <td>5</td>\n",
              "      <td>305</td>\n",
              "      <td>14</td>\n",
              "      <td>8</td>\n",
              "      <td>5</td>\n",
              "      <td>9</td>\n",
              "      <td>10</td>\n",
              "      <td>18</td>\n",
              "      <td>24</td>\n",
              "      <td>30</td>\n",
              "      <td>256</td>\n",
              "      <td>44.9</td>\n",
              "      <td>2.1</td>\n",
              "      <td>1.2</td>\n",
              "      <td>0.7</td>\n",
              "      <td>1.3</td>\n",
              "      <td>1.5</td>\n",
              "      <td>2.7</td>\n",
              "      <td>3.5</td>\n",
              "      <td>4.4</td>\n",
              "      <td>37.7</td>\n",
              "    </tr>\n",
              "  </tbody>\n",
              "</table>\n",
              "</div>"
            ],
            "text/plain": [
              "                            respondents    category                                         link  average  mean  median  1_votes  2_votes  3_votes  4_votes  5_votes  6_votes  7_votes  8_votes  9_votes  10_votes  1_pct  2_pct  3_pct  4_pct  5_pct  6_pct  7_pct  8_pct  9_pct  10_pct\n",
              "timestamp                                                                                                                                                                                                                                                                                \n",
              "2017-07-17 12:28:36.697246          678  IMDb users  http://www.imdb.com/title/tt6322922/ratings      4.9   5.4       5      304       14        8        5        9       10       18       24       30       256   44.8    2.1    1.2    0.7    1.3    1.5    2.7    3.5    4.4    37.8\n",
              "2017-07-17 12:34:21.250099          678  IMDb users  http://www.imdb.com/title/tt6322922/ratings      4.9   5.4       5      304       14        8        5        9       10       18       24       30       256   44.8    2.1    1.2    0.7    1.3    1.5    2.7    3.5    4.4    37.8\n",
              "2017-07-17 13:00:06.506688          678  IMDb users  http://www.imdb.com/title/tt6322922/ratings      4.9   5.4       5      304       14        8        5        9       10       18       24       30       256   44.8    2.1    1.2    0.7    1.3    1.5    2.7    3.5    4.4    37.8\n",
              "2017-07-17 14:00:06.727742          679  IMDb users  http://www.imdb.com/title/tt6322922/ratings      4.9   5.3       5      305       14        8        5        9       10       18       24       30       256   44.9    2.1    1.2    0.7    1.3    1.5    2.7    3.5    4.4    37.7\n",
              "2017-07-17 15:00:06.055125          679  IMDb users  http://www.imdb.com/title/tt6322922/ratings      4.9   5.3       5      305       14        8        5        9       10       18       24       30       256   44.9    2.1    1.2    0.7    1.3    1.5    2.7    3.5    4.4    37.7"
            ]
          },
          "metadata": {
            "tags": []
          },
          "execution_count": 82
        }
      ]
    },
    {
      "metadata": {
        "id": "57DNDCzYdN8z",
        "colab_type": "code",
        "colab": {
          "base_uri": "https://localhost:8080/",
          "height": 476
        },
        "outputId": "066c1e7f-f7eb-4123-b1d8-f6dfab117b8f"
      },
      "cell_type": "code",
      "source": [
        "df_users.dtypes"
      ],
      "execution_count": 84,
      "outputs": [
        {
          "output_type": "execute_result",
          "data": {
            "text/plain": [
              "respondents      int64\n",
              "category        object\n",
              "link            object\n",
              "average        float64\n",
              "mean           float64\n",
              "median           int64\n",
              "1_votes          int64\n",
              "2_votes          int64\n",
              "3_votes          int64\n",
              "4_votes          int64\n",
              "5_votes          int64\n",
              "6_votes          int64\n",
              "7_votes          int64\n",
              "8_votes          int64\n",
              "9_votes          int64\n",
              "10_votes         int64\n",
              "1_pct          float64\n",
              "2_pct          float64\n",
              "3_pct          float64\n",
              "4_pct          float64\n",
              "5_pct          float64\n",
              "6_pct          float64\n",
              "7_pct          float64\n",
              "8_pct          float64\n",
              "9_pct          float64\n",
              "10_pct         float64\n",
              "dtype: object"
            ]
          },
          "metadata": {
            "tags": []
          },
          "execution_count": 84
        }
      ]
    },
    {
      "metadata": {
        "id": "xba0FNs0dYjB",
        "colab_type": "code",
        "colab": {}
      },
      "cell_type": "code",
      "source": [
        "lastday = df_users.tail(1)"
      ],
      "execution_count": 0,
      "outputs": []
    },
    {
      "metadata": {
        "id": "yB1hFvO5gOp_",
        "colab_type": "code",
        "colab": {}
      },
      "cell_type": "code",
      "source": [
        "columns = ['1_pct', '2_pct', '3_pct', '4_pct', '5_pct',\n",
        "           '6_pct', '7_pct', '8_pct', '9_pct', '10_pct']\n",
        "final=lastday[columns]\n",
        "\n",
        "data = final.T\n",
        "data.index = range(1,11)"
      ],
      "execution_count": 0,
      "outputs": []
    },
    {
      "metadata": {
        "id": "virnHfFlf00G",
        "colab_type": "code",
        "colab": {
          "base_uri": "https://localhost:8080/",
          "height": 352
        },
        "outputId": "8be22553-c220-4041-d97e-a1675f3f595e"
      },
      "cell_type": "code",
      "source": [
        "# plotting\n",
        "\n",
        "# array of colors instead\n",
        "\n",
        "colors = ['#EC713B'] * 10\n",
        "colors[0] = 'C0'\n",
        "colors[-1] = 'C1'\n",
        "\n",
        "ax_real = data['2017-08-29 23:10:06.218251'].plot.bar(color=colors,\n",
        "                   width=0.9)\n",
        "\n",
        "ax_real.tick_params(labelrotation=0)\n",
        "ax_real.set_xlabel('Rating', fontsize=10, fontweight='bold')\n",
        "ax_real.set_ylabel('Percent of Total Votes', fontsize=10, fontweight='bold')\n",
        "\n",
        "ax_real.set(yticks=range(0,50,10))\n",
        "\n",
        "ax_real.text(x=-2, y=50, \n",
        "             s=\"'An Inconvenient Sequel: Truth To Power' is divisive\",\n",
        "             fontsize=16,\n",
        "             fontweight='bold')\n",
        "\n",
        "ax_real.text(x=-2, y=46, s='IMDb ratings for the film as of Aug. 29')\n",
        "\n",
        "#ax_real.get_legend().remove()\n",
        " \n",
        "plt.tight_layout()"
      ],
      "execution_count": 132,
      "outputs": [
        {
          "output_type": "display_data",
          "data": {
            "image/png": "[encoded data removed]",
            "text/plain": [
              "<matplotlib.figure.Figure at 0x7f6cf33e1390>"
            ]
          },
          "metadata": {
            "tags": []
          }
        }
      ]
    },
    {
      "metadata": {
        "id": "ZaVwOAM2_kx2",
        "colab_type": "text"
      },
      "cell_type": "markdown",
      "source": [
        "# Recreating Other Data Visualizations"
      ]
    },
    {
      "metadata": {
        "id": "Ruq95LbQ_jfY",
        "colab_type": "code",
        "colab": {
          "base_uri": "https://localhost:8080/",
          "height": 143
        },
        "outputId": "8e74e837-da94-40c9-84de-e15674396da9"
      },
      "cell_type": "code",
      "source": [
        "# having some fun with visualization of russian troll tweets\n",
        "# https://github.com/fivethirtyeight/russian-troll-tweets\n",
        "\n",
        "import glob\n",
        "\n",
        "troll_url_1 = 'https://raw.githubusercontent.com/fivethirtyeight/russian-troll-tweets/master/IRAhandle_tweets_1.csv'\n",
        "troll_url_2 = 'https://raw.githubusercontent.com/fivethirtyeight/russian-troll-tweets/master/IRAhandle_tweets_2.csv'\n",
        "troll_url_3 = 'https://raw.githubusercontent.com/fivethirtyeight/russian-troll-tweets/master/IRAhandle_tweets_3.csv'\n",
        "troll_url_4 = 'https://raw.githubusercontent.com/fivethirtyeight/russian-troll-tweets/master/IRAhandle_tweets_4.csv'\n",
        "troll_url_5 = 'https://raw.githubusercontent.com/fivethirtyeight/russian-troll-tweets/master/IRAhandle_tweets_5.csv'\n",
        "troll_url_6 = 'https://raw.githubusercontent.com/fivethirtyeight/russian-troll-tweets/master/IRAhandle_tweets_6.csv'\n",
        "troll_url_7 = 'https://raw.githubusercontent.com/fivethirtyeight/russian-troll-tweets/master/IRAhandle_tweets_7.csv'\n",
        "troll_url_8 = 'https://raw.githubusercontent.com/fivethirtyeight/russian-troll-tweets/master/IRAhandle_tweets_8.csv'\n",
        "troll_url_9 = 'https://raw.githubusercontent.com/fivethirtyeight/russian-troll-tweets/master/IRAhandle_tweets_9.csv'\n",
        "troll_url_10 = 'https://raw.githubusercontent.com/fivethirtyeight/russian-troll-tweets/master/IRAhandle_tweets_10.csv'\n",
        "troll_url_11 = 'https://raw.githubusercontent.com/fivethirtyeight/russian-troll-tweets/master/IRAhandle_tweets_11.csv'\n",
        "troll_url_12 = 'https://raw.githubusercontent.com/fivethirtyeight/russian-troll-tweets/master/IRAhandle_tweets_12.csv'\n",
        "troll_url_13 = 'https://raw.githubusercontent.com/fivethirtyeight/russian-troll-tweets/master/IRAhandle_tweets_13.csv'\n",
        "\n",
        "troll_urls = [troll_url_1, troll_url_2, troll_url_3, troll_url_4, troll_url_5,\n",
        "              troll_url_6, troll_url_7, troll_url_8, troll_url_9, troll_url_10,\n",
        "              troll_url_11, troll_url_12, troll_url_13]\n",
        "\n",
        "df_troll = pd.concat([pd.read_csv(f) for f in troll_urls], ignore_index = True)"
      ],
      "execution_count": 300,
      "outputs": [
        {
          "output_type": "stream",
          "text": [
            "/usr/local/lib/python3.6/dist-packages/IPython/core/interactiveshell.py:2822: DtypeWarning: Columns (0,15,20) have mixed types. Specify dtype option on import or set low_memory=False.\n",
            "  if self.run_code(code, result):\n",
            "/usr/local/lib/python3.6/dist-packages/IPython/core/interactiveshell.py:2822: DtypeWarning: Columns (20) have mixed types. Specify dtype option on import or set low_memory=False.\n",
            "  if self.run_code(code, result):\n",
            "/usr/local/lib/python3.6/dist-packages/IPython/core/interactiveshell.py:2822: DtypeWarning: Columns (10,20) have mixed types. Specify dtype option on import or set low_memory=False.\n",
            "  if self.run_code(code, result):\n"
          ],
          "name": "stderr"
        }
      ]
    },
    {
      "metadata": {
        "id": "To4-s2LVBRJJ",
        "colab_type": "code",
        "colab": {
          "base_uri": "https://localhost:8080/",
          "height": 34
        },
        "outputId": "d5d51aa3-91e4-4453-fcd6-b44a28ebdfa4"
      },
      "cell_type": "code",
      "source": [
        "df_troll.shape"
      ],
      "execution_count": 301,
      "outputs": [
        {
          "output_type": "execute_result",
          "data": {
            "text/plain": [
              "(2946207, 21)"
            ]
          },
          "metadata": {
            "tags": []
          },
          "execution_count": 301
        }
      ]
    },
    {
      "metadata": {
        "id": "116ZtKrjBXID",
        "colab_type": "code",
        "colab": {
          "base_uri": "https://localhost:8080/",
          "height": 1030
        },
        "outputId": "28727750-b85a-4c09-e3af-6e29638df364"
      },
      "cell_type": "code",
      "source": [
        "# tweets by language\n",
        "df_troll['language'].value_counts()"
      ],
      "execution_count": 302,
      "outputs": [
        {
          "output_type": "execute_result",
          "data": {
            "text/plain": [
              "English                2116867\n",
              "Russian                 610943\n",
              "German                   86983\n",
              "Ukrainian                38669\n",
              "Italian                  18063\n",
              "Serbian                   9480\n",
              "Uzbek                     9334\n",
              "Bulgarian                 9236\n",
              "LANGUAGE UNDEFINED        8320\n",
              "Arabic                    7588\n",
              "Macedonian                5178\n",
              "French                    4562\n",
              "Spanish                   3011\n",
              "Norwegian                 2237\n",
              "Farsi (Persian)           1684\n",
              "Romanian                  1629\n",
              "Dutch                     1165\n",
              "Swedish                   1014\n",
              "Vietnamese                 982\n",
              "Estonian                   770\n",
              "Japanese                   764\n",
              "Catalan                    589\n",
              "Finnish                    579\n",
              "Albanian                   572\n",
              "Croatian                   544\n",
              "Icelandic                  498\n",
              "Pushto                     487\n",
              "Portuguese                 463\n",
              "Turkish                    445\n",
              "Lithuanian                 416\n",
              "Polish                     386\n",
              "Somali                     276\n",
              "Slovak                     260\n",
              "Tagalog (Filipino)         238\n",
              "Malay                      236\n",
              "Kurdish                    235\n",
              "Latvian                    219\n",
              "Hungarian                  191\n",
              "Greek                      186\n",
              "Czech                      182\n",
              "Indonesian                 168\n",
              "Korean                     106\n",
              "Danish                      91\n",
              "Hindi                       87\n",
              "Hebrew                      65\n",
              "Slovenian                   60\n",
              "Urdu                        58\n",
              "Thai                        38\n",
              "Simplified Chinese          21\n",
              "Traditional Chinese         11\n",
              "Tamil                        9\n",
              "Gujarati                     6\n",
              "Telugu                       2\n",
              "Bengali                      2\n",
              "Kannada                      1\n",
              "Malayalam                    1\n",
              "Name: language, dtype: int64"
            ]
          },
          "metadata": {
            "tags": []
          },
          "execution_count": 302
        }
      ]
    },
    {
      "metadata": {
        "id": "_YGCP8aBDB10",
        "colab_type": "code",
        "colab": {
          "base_uri": "https://localhost:8080/",
          "height": 674
        },
        "outputId": "2bee316c-236f-4e72-c551-627c422ca875"
      },
      "cell_type": "code",
      "source": [
        "# tweets by country \n",
        "df_troll['region'].value_counts()"
      ],
      "execution_count": 303,
      "outputs": [
        {
          "output_type": "execute_result",
          "data": {
            "text/plain": [
              "United States                2046709\n",
              "Unknown                       561994\n",
              "Azerbaijan                     96333\n",
              "United Arab Emirates           74675\n",
              "Russian Federation             37589\n",
              "Belarus                        27802\n",
              "Germany                        27178\n",
              "United Kingdom                 18048\n",
              "Italy                          13474\n",
              "Iraq                           11117\n",
              "Ukraine                         5765\n",
              "Malaysia                        4932\n",
              "Afghanistan                     4888\n",
              "Israel                          3604\n",
              "France                           942\n",
              "Canada                           608\n",
              "Iran, Islamic Republic of        541\n",
              "Spain                            515\n",
              "Egypt                            232\n",
              "Japan                            108\n",
              "Greece                            81\n",
              "Saudi Arabia                      55\n",
              "Sweden                            52\n",
              "Mexico                            41\n",
              "Samoa                             32\n",
              "India                             22\n",
              "Finland                           20\n",
              "Turkey                             9\n",
              "Latvia                             7\n",
              "Czech Republic                     7\n",
              "Hong Kong                          3\n",
              "Serbia                             2\n",
              "Estonia                            1\n",
              "Denmark                            1\n",
              "Switzerland                        1\n",
              "Austria                            1\n",
              "Name: region, dtype: int64"
            ]
          },
          "metadata": {
            "tags": []
          },
          "execution_count": 303
        }
      ]
    },
    {
      "metadata": {
        "id": "vrRFd-K0DRUL",
        "colab_type": "code",
        "colab": {
          "base_uri": "https://localhost:8080/",
          "height": 583
        },
        "outputId": "c93c0b7b-1d6d-440d-ccda-0d6addd8ad0f"
      },
      "cell_type": "code",
      "source": [
        "# visualizing tweets by country\n",
        "plt.style.use('fivethirtyeight')\n",
        "\n",
        "fig_region, ax_region = plt.subplots(figsize=(12,7))\n",
        "\n",
        "ax_region = df_troll['region'].value_counts(ascending=True).plot.barh(color='#1dcaff')\n",
        "\n",
        "ax_region.tick_params(labelrotation=0)\n",
        "ax_region.set_xlabel('Tweet Count', fontsize=10, fontweight='bold')\n",
        "ax_region.set_ylabel('Country', fontsize=10, fontweight='bold')\n",
        "\n",
        "\n",
        "ax_region.text(x=0, y=41, \n",
        "             s='From Russia With Love',\n",
        "             fontsize=16,\n",
        "             fontweight='bold')\n",
        "\n",
        "ax_region.text(x=0, y=38, s='A Regional Breakdown of Russian Twitter Troll Activity')\n",
        "\n",
        " \n",
        "plt.tight_layout()\n",
        "plt.show();"
      ],
      "execution_count": 308,
      "outputs": [
        {
          "output_type": "display_data",
          "data": {
            "image/png": "[encoded data removed]",
            "text/plain": [
              "<matplotlib.figure.Figure at 0x7f6ce16607f0>"
            ]
          },
          "metadata": {
            "tags": []
          }
        }
      ]
    },
    {
      "metadata": {
        "id": "suoeWOWyKD24",
        "colab_type": "code",
        "colab": {
          "base_uri": "https://localhost:8080/",
          "height": 621
        },
        "outputId": "59353597-c628-4695-9ab4-b7c81ec382b7"
      },
      "cell_type": "code",
      "source": [
        "# breakdown of tweets by language in the US\n",
        "fig_us_lang, ax_us_lang = plt.subplots(figsize=(10,8))\n",
        "\n",
        "ax_us_lang = df_troll[df_troll['region']=='United States']['language'].value_counts(ascending=True).plot.barh(color='#1dcaff')\n",
        "\n",
        "ax_us_lang.tick_params(labelrotation=0)\n",
        "ax_us_lang.set_xlabel('Tweet Count', fontsize=10, fontweight='bold')\n",
        "ax_us_lang.set_ylabel('Language', fontsize=10, fontweight='bold')\n",
        "\n",
        "ax_us_lang.text(x=0, y=59, \n",
        "             s='The Americans',\n",
        "             fontsize=16,\n",
        "             fontweight='bold')\n",
        "\n",
        "ax_us_lang.text(x=0, y=57, s='Overwhelming Majority of US Tweets in English')\n",
        "\n",
        " \n",
        "plt.tight_layout()\n",
        "plt.show();"
      ],
      "execution_count": 314,
      "outputs": [
        {
          "output_type": "display_data",
          "data": {
            "image/png": "[encoded data removed]",
            "text/plain": [
              "<matplotlib.figure.Figure at 0x7f6ce1421e48>"
            ]
          },
          "metadata": {
            "tags": []
          }
        }
      ]
    },
    {
      "metadata": {
        "id": "Rcsv4escMTNt",
        "colab_type": "code",
        "colab": {
          "base_uri": "https://localhost:8080/",
          "height": 550
        },
        "outputId": "37c6e05b-c0bb-4446-e691-8bd34c17488b"
      },
      "cell_type": "code",
      "source": [
        "# where were things tweeted in English?\n",
        "df_troll[df_troll['language']=='English']['region'].value_counts()"
      ],
      "execution_count": 315,
      "outputs": [
        {
          "output_type": "execute_result",
          "data": {
            "text/plain": [
              "United States                1844451\n",
              "Unknown                       240953\n",
              "United Kingdom                 16663\n",
              "Azerbaijan                      6911\n",
              "Germany                         1285\n",
              "Russian Federation              1145\n",
              "Italy                           1125\n",
              "Canada                           600\n",
              "Afghanistan                      461\n",
              "Belarus                          449\n",
              "Iraq                             427\n",
              "Israel                           409\n",
              "United Arab Emirates             370\n",
              "Ukraine                          146\n",
              "Spain                             72\n",
              "France                            67\n",
              "Egypt                             59\n",
              "Sweden                            43\n",
              "Mexico                            41\n",
              "Iran, Islamic Republic of         20\n",
              "Greece                            12\n",
              "Finland                            8\n",
              "Malaysia                           4\n",
              "Latvia                             3\n",
              "Czech Republic                     2\n",
              "Serbia                             2\n",
              "Hong Kong                          1\n",
              "Switzerland                        1\n",
              "Denmark                            1\n",
              "Name: region, dtype: int64"
            ]
          },
          "metadata": {
            "tags": []
          },
          "execution_count": 315
        }
      ]
    },
    {
      "metadata": {
        "id": "aznqRcKWMgd-",
        "colab_type": "text"
      },
      "cell_type": "markdown",
      "source": [
        "English tweets originated overwhelmingly in the US, let's analyze those further."
      ]
    },
    {
      "metadata": {
        "id": "mDaF-A7JGK8y",
        "colab_type": "code",
        "colab": {}
      },
      "cell_type": "code",
      "source": [
        "# analyzing US tweets in English\n",
        "tweets_english = df_troll[(df_troll['language']=='English') & (df_troll['region']=='United States')]"
      ],
      "execution_count": 0,
      "outputs": []
    },
    {
      "metadata": {
        "id": "gf3cMPP1OirE",
        "colab_type": "code",
        "colab": {
          "base_uri": "https://localhost:8080/",
          "height": 123
        },
        "outputId": "f02fd074-8318-4616-c919-609ed00c1230"
      },
      "cell_type": "code",
      "source": [
        "# when did US trolls tweet the most?\n",
        "\n",
        "### TAKES A FEW MINUTES RIGHT NOW, SHOULD BE ABLE TO DO FASTER ###\n",
        "\n",
        "# create new column in the form of day + month + year, drop the hours and minutes\n",
        "tweets_english['publish_day'] = pd.to_datetime(tweets_english['publish_date']).dt.date\n"
      ],
      "execution_count": 317,
      "outputs": [
        {
          "output_type": "stream",
          "text": [
            "/usr/local/lib/python3.6/dist-packages/ipykernel_launcher.py:1: SettingWithCopyWarning: \n",
            "A value is trying to be set on a copy of a slice from a DataFrame.\n",
            "Try using .loc[row_indexer,col_indexer] = value instead\n",
            "\n",
            "See the caveats in the documentation: http://pandas.pydata.org/pandas-docs/stable/indexing.html#indexing-view-versus-copy\n",
            "  \"\"\"Entry point for launching an IPython kernel.\n"
          ],
          "name": "stderr"
        }
      ]
    },
    {
      "metadata": {
        "id": "kkiOLoKdcCc0",
        "colab_type": "code",
        "colab": {
          "base_uri": "https://localhost:8080/",
          "height": 141
        },
        "outputId": "d5c249b0-e367-43fd-d106-7d846f0a2f50"
      },
      "cell_type": "code",
      "source": [
        "# what were the top days that trolls tweeted?\n",
        "tweets_english['publish_day'].value_counts()[0:6]"
      ],
      "execution_count": 318,
      "outputs": [
        {
          "output_type": "execute_result",
          "data": {
            "text/plain": [
              "2016-10-06    17984\n",
              "2016-10-07     9620\n",
              "2016-09-19     8367\n",
              "2015-07-22     7848\n",
              "2016-09-17     7201\n",
              "2016-12-19     6769\n",
              "Name: publish_day, dtype: int64"
            ]
          },
          "metadata": {
            "tags": []
          },
          "execution_count": 318
        }
      ]
    },
    {
      "metadata": {
        "id": "YJZgBUcXXi6m",
        "colab_type": "code",
        "colab": {
          "base_uri": "https://localhost:8080/",
          "height": 466
        },
        "outputId": "16e37a60-61ec-4af3-d19b-ee85e547f687"
      },
      "cell_type": "code",
      "source": [
        "# daily count of tweets from the trolls\n",
        "\n",
        "import datetime\n",
        "tweets_by_day = tweets_english[tweets_english['publish_day']>=datetime.date(2014, 11, 1)]['publish_day'].value_counts(sort=False)\n",
        "\n",
        "\n",
        "fig_daily_count, ax_daily_count = plt.subplots(figsize=(16,6))\n",
        "\n",
        "ax_daily_count = tweets_by_day.plot.line(linewidth=0.5,\n",
        "                                         color='#1dcaff')\n",
        "\n",
        "ax_daily_count.tick_params(labelrotation=0)\n",
        "ax_daily_count.set_xlabel('Day', fontsize=11, fontweight='bold')\n",
        "ax_daily_count.set_ylabel('Tweet Count', fontsize=11, fontweight='bold')\n",
        "\n",
        "# axes.text objects have to be in the units used on the underlying axes\n",
        "\n",
        "# title\n",
        "ax_daily_count.text(x=datetime.date(2014, 11, 1), y=20100, s=\"We Didn't Start the Fire\",\n",
        "                    fontsize=16,\n",
        "                    fontweight='bold')\n",
        "\n",
        "# sub-title\n",
        "ax_daily_count.text(x=datetime.date(2014, 11, 1), y=19500, \n",
        "                    s=\"Russian Twitter Trolls Fanned the Flames Created Geopolitical Events in the US and Abroad\",\n",
        "                    fontsize=12)\n",
        "\n",
        "# annotations\n",
        "\n",
        "\n",
        "# ax_daily_count.annotate('2018 Presidential Election',\n",
        "#             xy=(datetime.date(2016,11,8), 140), xycoords='data',\n",
        "#             xytext=(datetime.date(2016,11,8), 116), #textcoords='axes fraction',\n",
        "#             size=10,\n",
        "#             bbox=dict(boxstyle=\"round4,pad=.5\", fc=\"0.8\"),\n",
        "#             arrowprops=dict(arrowstyle=\"->\",\n",
        "#                             connectionstyle=\"angle,angleA=0,angleB=90,rad=10\"))\n",
        "\n",
        "# # text box formatting\n",
        "# bbox_args = dict(boxstyle=\"round\", fc=\"#c0deed\", ec='black')\n",
        "\n",
        "# # election day\n",
        "# ax_daily_count.annotate('2016 Presidential Election', xy=(datetime.date(2016,11,8), 116), # xy coordinates of arrow head\n",
        "#                         xytext=(datetime.date(2016,11,15), 140), # xy coordinates of text box\n",
        "#                         fontsize=11,\n",
        "#                         bbox=bbox_args,\n",
        "#                         arrowprops=dict(facecolor='black', \n",
        "#                                         shrink=0.05,\n",
        "#                                         width=2),\n",
        "#                         )\n",
        "\n",
        "# # NY/NJ bombings\n",
        "# ax_daily_count.annotate('Rahimi \\nbombings \\nin NY/NJ', xy=(datetime.date(2016,9,19), 98), \n",
        "#                         xytext=(datetime.date(2016,6,19), 120),\n",
        "#                         fontsize=11,\n",
        "#                         bbox=bbox_args,\n",
        "#                         arrowprops=dict(facecolor='black', \n",
        "#                                         shrink=0.05,\n",
        "#                                         width=2),\n",
        "#                         )\n",
        "\n",
        "# # Trump ditches Fox News primary debate\n",
        "# ax_daily_count.annotate('Trump refuses\\n to show\\n for Fox\\n primary\\n debate', \n",
        "#                         xy=(datetime.date(2016,1,29), 141), \n",
        "#                         xytext=(datetime.date(2016,3,19), 120),\n",
        "#                         fontsize=11,\n",
        "#                         bbox=bbox_args,\n",
        "#                         arrowprops=dict(facecolor='black', \n",
        "#                                         shrink=0.05,\n",
        "#                                         width=2),\n",
        "#                         )\n",
        "\n",
        "# # Paris attacks occur on Friday night November 13th\n",
        "# ax_daily_count.annotate('Aftermath of \\nParis concert \\nterrorist attack', \n",
        "#                         xy=(datetime.date(2015,11,15), 117), \n",
        "#                         xytext=(datetime.date(2015,7,19), 110),\n",
        "#                         fontsize=11,\n",
        "#                         bbox=bbox_args,\n",
        "#                         arrowprops=dict(facecolor='black', \n",
        "#                                         shrink=0.05,\n",
        "#                                         width=2),\n",
        "#                         )\n",
        "\n",
        "\n",
        "# background color\n",
        "ax_daily_count.set_facecolor('white')\n",
        "  \n",
        "plt.tight_layout()\n",
        "plt.show();"
      ],
      "execution_count": 322,
      "outputs": [
        {
          "output_type": "display_data",
          "data": {
            "image/png": "[encoded data removed]",
            "text/plain": [
              "<matplotlib.figure.Figure at 0x7f6ce8ef6b70>"
            ]
          },
          "metadata": {
            "tags": []
          }
        }
      ]
    },
    {
      "metadata": {
        "id": "CGrbGT2iV-BH",
        "colab_type": "code",
        "colab": {}
      },
      "cell_type": "code",
      "source": [
        "# when did US trolls reach the most followers?\n",
        "\n",
        "# what time did most trolls tweet? include other regions too?\n",
        "\n",
        "# what kind of content were different accounts tweeting?\n"
      ],
      "execution_count": 0,
      "outputs": []
    },
    {
      "metadata": {
        "id": "tr2zG7euGHca",
        "colab_type": "code",
        "colab": {
          "base_uri": "https://localhost:8080/",
          "height": 52
        },
        "outputId": "b69c8ef2-466f-432f-ba55-6ca365f571a2"
      },
      "cell_type": "code",
      "source": [
        "# language processing imports - time to go off the deep end\n",
        "!pip install -U nltk\n",
        "import nltk"
      ],
      "execution_count": 185,
      "outputs": [
        {
          "output_type": "stream",
          "text": [
            "Requirement already up-to-date: nltk in /usr/local/lib/python3.6/dist-packages (3.3)\n",
            "Requirement already satisfied, skipping upgrade: six in /usr/local/lib/python3.6/dist-packages (from nltk) (1.11.0)\n"
          ],
          "name": "stdout"
        }
      ]
    },
    {
      "metadata": {
        "id": "JNZfjMFnNWYh",
        "colab_type": "code",
        "colab": {}
      },
      "cell_type": "code",
      "source": [
        ""
      ],
      "execution_count": 0,
      "outputs": []
    },
    {
      "metadata": {
        "id": "A2H-2yLrp4To",
        "colab_type": "code",
        "colab": {}
      },
      "cell_type": "code",
      "source": [
        ""
      ],
      "execution_count": 0,
      "outputs": []
    }
  ]
}