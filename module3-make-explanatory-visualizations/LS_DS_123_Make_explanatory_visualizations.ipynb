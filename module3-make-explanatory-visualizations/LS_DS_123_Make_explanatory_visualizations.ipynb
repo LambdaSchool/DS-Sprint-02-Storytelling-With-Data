{
  "nbformat": 4,
  "nbformat_minor": 0,
  "metadata": {
    "colab": {
      "name": "LS_DS_123_Make_explanatory_visualizations.ipynb",
      "version": "0.3.2",
      "provenance": []
    },
    "kernelspec": {
      "display_name": "Python 3",
      "language": "python",
      "name": "python3"
    }
  },
  "cells": [
    {
      "metadata": {
        "id": "nptHDjRKFfqG",
        "colab_type": "text"
      },
      "cell_type": "markdown",
      "source": [
        "_Lambda School Data Science_\n",
        "\n",
        "# Choose appropriate visualizations\n",
        "\n",
        "\n",
        "Recreate this [example by FiveThirtyEight:](https://fivethirtyeight.com/features/al-gores-new-movie-exposes-the-big-flaw-in-online-movie-ratings/)\n",
        "\n",
        "![](https://fivethirtyeight.com/wp-content/uploads/2017/09/mehtahickey-inconvenient-0830-1.png?w=575)\n",
        "\n",
        "Using this data:\n",
        "\n",
        "https://github.com/fivethirtyeight/data/tree/master/inconvenient-sequel\n",
        "\n",
        "### Stretch goals\n",
        "\n",
        "Recreate more examples from [FiveThityEight's shared data repository](https://data.fivethirtyeight.com/).\n",
        "\n",
        "For example:\n",
        "- [thanksgiving-2015](https://fivethirtyeight.com/features/heres-what-your-part-of-america-eats-on-thanksgiving/) ([`altair`](https://altair-viz.github.io/gallery/index.html#maps))\n",
        "- [candy-power-ranking](https://fivethirtyeight.com/features/the-ultimate-halloween-candy-power-ranking/) ([`statsmodels`](https://www.statsmodels.org/stable/index.html))"
      ]
    },
    {
      "metadata": {
        "id": "Ll2pDRKeFfqI",
        "colab_type": "code",
        "colab": {}
      },
      "cell_type": "code",
      "source": [
        "import pandas as pd\n",
        "import matplotlib.pyplot as plt\n",
        "import numpy\n",
        "\n",
        "chess_df = pd.read_csv('https://raw.githubusercontent.com/fivethirtyeight/data/master/chess-transfers/transfers.csv')"
      ],
      "execution_count": 0,
      "outputs": []
    },
    {
      "metadata": {
        "id": "FaJ73V1DFmyC",
        "colab_type": "code",
        "colab": {
          "base_uri": "https://localhost:8080/",
          "height": 195
        },
        "outputId": "ae16a0e0-c31d-408d-f820-02bb856570d5"
      },
      "cell_type": "code",
      "source": [
        "chess_df.head()"
      ],
      "execution_count": 101,
      "outputs": [
        {
          "output_type": "execute_result",
          "data": {
            "text/html": [
              "<div>\n",
              "<style scoped>\n",
              "    .dataframe tbody tr th:only-of-type {\n",
              "        vertical-align: middle;\n",
              "    }\n",
              "\n",
              "    .dataframe tbody tr th {\n",
              "        vertical-align: top;\n",
              "    }\n",
              "\n",
              "    .dataframe thead th {\n",
              "        text-align: right;\n",
              "    }\n",
              "</style>\n",
              "<table border=\"1\" class=\"dataframe\">\n",
              "  <thead>\n",
              "    <tr style=\"text-align: right;\">\n",
              "      <th></th>\n",
              "      <th>url</th>\n",
              "      <th>ID</th>\n",
              "      <th>Federation</th>\n",
              "      <th>Form.Fed</th>\n",
              "      <th>Transfer Date</th>\n",
              "    </tr>\n",
              "  </thead>\n",
              "  <tbody>\n",
              "    <tr>\n",
              "      <th>0</th>\n",
              "      <td>https://ratings.fide.com/fedchange.phtml?year=...</td>\n",
              "      <td>2019221</td>\n",
              "      <td>USA</td>\n",
              "      <td>PHI</td>\n",
              "      <td>12/15/00</td>\n",
              "    </tr>\n",
              "    <tr>\n",
              "      <th>1</th>\n",
              "      <td>https://ratings.fide.com/fedchange.phtml?year=...</td>\n",
              "      <td>14401754</td>\n",
              "      <td>BIH</td>\n",
              "      <td>CRO</td>\n",
              "      <td>1/31/00</td>\n",
              "    </tr>\n",
              "    <tr>\n",
              "      <th>2</th>\n",
              "      <td>https://ratings.fide.com/fedchange.phtml?year=...</td>\n",
              "      <td>14401762</td>\n",
              "      <td>BIH</td>\n",
              "      <td>YUG</td>\n",
              "      <td>1/31/00</td>\n",
              "    </tr>\n",
              "    <tr>\n",
              "      <th>3</th>\n",
              "      <td>https://ratings.fide.com/fedchange.phtml?year=...</td>\n",
              "      <td>2019221</td>\n",
              "      <td>USA</td>\n",
              "      <td>PHI</td>\n",
              "      <td>12/15/00</td>\n",
              "    </tr>\n",
              "    <tr>\n",
              "      <th>4</th>\n",
              "      <td>https://ratings.fide.com/fedchange.phtml?year=...</td>\n",
              "      <td>14401754</td>\n",
              "      <td>BIH</td>\n",
              "      <td>CRO</td>\n",
              "      <td>1/31/00</td>\n",
              "    </tr>\n",
              "  </tbody>\n",
              "</table>\n",
              "</div>"
            ],
            "text/plain": [
              "                                                 url        ID Federation  \\\n",
              "0  https://ratings.fide.com/fedchange.phtml?year=...   2019221        USA   \n",
              "1  https://ratings.fide.com/fedchange.phtml?year=...  14401754        BIH   \n",
              "2  https://ratings.fide.com/fedchange.phtml?year=...  14401762        BIH   \n",
              "3  https://ratings.fide.com/fedchange.phtml?year=...   2019221        USA   \n",
              "4  https://ratings.fide.com/fedchange.phtml?year=...  14401754        BIH   \n",
              "\n",
              "  Form.Fed Transfer Date  \n",
              "0      PHI      12/15/00  \n",
              "1      CRO       1/31/00  \n",
              "2      YUG       1/31/00  \n",
              "3      PHI      12/15/00  \n",
              "4      CRO       1/31/00  "
            ]
          },
          "metadata": {
            "tags": []
          },
          "execution_count": 101
        }
      ]
    },
    {
      "metadata": {
        "id": "J-jJO-ipH5fo",
        "colab_type": "code",
        "colab": {
          "base_uri": "https://localhost:8080/",
          "height": 34
        },
        "outputId": "de5b5a4d-bcc6-4420-c42c-d7d413e0e8ba"
      },
      "cell_type": "code",
      "source": [
        "chess_df['Transfer Date'].count() \n",
        "# many of these are duplicate player ID, even the same transfer date.\n",
        "\n",
        "# cross reference from World Chess Federation\n",
        "# to note the duplicates are not listed on the site\n",
        "\n",
        "# https://ratings.fide.com/fedchange.phtml?year=\n",
        "# examining the years shows a disparity between the created dataframe and the \n",
        "# World Chess Federation's listed data"
      ],
      "execution_count": 102,
      "outputs": [
        {
          "output_type": "execute_result",
          "data": {
            "text/plain": [
              "932"
            ]
          },
          "metadata": {
            "tags": []
          },
          "execution_count": 102
        }
      ]
    },
    {
      "metadata": {
        "id": "HtcbMnERJLzi",
        "colab_type": "code",
        "colab": {
          "base_uri": "https://localhost:8080/",
          "height": 1058
        },
        "outputId": "d8306f32-914f-4bf0-8d9e-879a4c2f415b"
      },
      "cell_type": "code",
      "source": [
        "# transfer by country\n",
        "chess_df['Federation'].value_counts()"
      ],
      "execution_count": 103,
      "outputs": [
        {
          "output_type": "execute_result",
          "data": {
            "text/plain": [
              "USA    89\n",
              "GER    55\n",
              "CAN    44\n",
              "ESP    41\n",
              "RUS    36\n",
              "FRA    34\n",
              "CRO    32\n",
              "BIH    32\n",
              "TUR    31\n",
              "CZE    29\n",
              "AUT    29\n",
              "SUI    25\n",
              "MNC    24\n",
              "AUS    23\n",
              "ENG    19\n",
              "SRB    17\n",
              "UKR    15\n",
              "ITA    14\n",
              "BEL    13\n",
              "SWE    12\n",
              "AND    11\n",
              "SCO    10\n",
              "SIN    10\n",
              "ROU    10\n",
              "PLE     9\n",
              "FIN     9\n",
              "ISR     9\n",
              "NOR     9\n",
              "ARM     9\n",
              "YUG     8\n",
              "       ..\n",
              "JOR     2\n",
              "BAN     2\n",
              "EGY     2\n",
              "JAP     2\n",
              "BER     2\n",
              "HON     2\n",
              "URU     1\n",
              "LBN     1\n",
              "LBA     1\n",
              "MGL     1\n",
              "MAD     1\n",
              "ARU     1\n",
              "MYA     1\n",
              "PUR     1\n",
              "MAC     1\n",
              "VIE     1\n",
              "TJK     1\n",
              "HUN     1\n",
              "CYP     1\n",
              "TOG     1\n",
              "KOS     1\n",
              "QAT     1\n",
              "ARG     1\n",
              "GUY     1\n",
              "DOM     1\n",
              "ALB     1\n",
              "ALG     1\n",
              "TTO     1\n",
              "KEN     1\n",
              "MLT     1\n",
              "Name: Federation, Length: 105, dtype: int64"
            ]
          },
          "metadata": {
            "tags": []
          },
          "execution_count": 103
        }
      ]
    },
    {
      "metadata": {
        "id": "sZSRRJ3SVsuU",
        "colab_type": "code",
        "colab": {}
      },
      "cell_type": "code",
      "source": [
        "# Split the duplicate entries into a new dataframe to research\n",
        "\n",
        "# rename Transfer Date to make it usable below\n",
        "\n",
        "chess_df.rename(columns={'Transfer Date':'Transfer_Date',\n",
        "                        'Form.Fed' : 'Former_Fed'}, inplace=True)\n",
        "\n",
        "\n",
        "#id_dups = chess_df.ID[chess_df.ID.duplicated()].values\n",
        "transfer_dups = chess_df.Transfer_Date[chess_df.Transfer_Date.duplicated()].values\n",
        "#former_fed = chess_df.Former_Fed[chess_df.Former_Fed.duplicated()].values\n",
        "\n",
        "'''\n",
        "duplicate_transfers = (chess_df[chess_df.ID.isin(id_dups) & \n",
        "                                chess_df.Transfer_Date.isin(transfer_dups)\n",
        "                               & chess_df.Former_Fed.isin(former_fed)])\n",
        "'''\n",
        "\n",
        "duplicate_transfers = chess_df[chess_df.Transfer_Date.isin(transfer_dups)]\n"
      ],
      "execution_count": 0,
      "outputs": []
    },
    {
      "metadata": {
        "id": "xZ_vQLnbWd06",
        "colab_type": "code",
        "colab": {
          "base_uri": "https://localhost:8080/",
          "height": 639
        },
        "outputId": "69e7061a-162d-4b8c-fa68-a20dd35314fa"
      },
      "cell_type": "code",
      "source": [
        "duplicate_transfers.head(20) \n",
        "# note that there are instances of transfer dates being the same, and dup Feds\n",
        "# for which I have taken into account, but also note the dropped instances are \n",
        "# cases like rows 0 and 3, where the data has been duplicated exactly\n",
        "\n",
        "# simply looking at year 00 you can see every value has a duplicate"
      ],
      "execution_count": 109,
      "outputs": [
        {
          "output_type": "execute_result",
          "data": {
            "text/html": [
              "<div>\n",
              "<style scoped>\n",
              "    .dataframe tbody tr th:only-of-type {\n",
              "        vertical-align: middle;\n",
              "    }\n",
              "\n",
              "    .dataframe tbody tr th {\n",
              "        vertical-align: top;\n",
              "    }\n",
              "\n",
              "    .dataframe thead th {\n",
              "        text-align: right;\n",
              "    }\n",
              "</style>\n",
              "<table border=\"1\" class=\"dataframe\">\n",
              "  <thead>\n",
              "    <tr style=\"text-align: right;\">\n",
              "      <th></th>\n",
              "      <th>url</th>\n",
              "      <th>ID</th>\n",
              "      <th>Federation</th>\n",
              "      <th>Former_Fed</th>\n",
              "      <th>Transfer_Date</th>\n",
              "    </tr>\n",
              "  </thead>\n",
              "  <tbody>\n",
              "    <tr>\n",
              "      <th>0</th>\n",
              "      <td>https://ratings.fide.com/fedchange.phtml?year=...</td>\n",
              "      <td>2019221</td>\n",
              "      <td>USA</td>\n",
              "      <td>PHI</td>\n",
              "      <td>12/15/00</td>\n",
              "    </tr>\n",
              "    <tr>\n",
              "      <th>1</th>\n",
              "      <td>https://ratings.fide.com/fedchange.phtml?year=...</td>\n",
              "      <td>14401754</td>\n",
              "      <td>BIH</td>\n",
              "      <td>CRO</td>\n",
              "      <td>1/31/00</td>\n",
              "    </tr>\n",
              "    <tr>\n",
              "      <th>2</th>\n",
              "      <td>https://ratings.fide.com/fedchange.phtml?year=...</td>\n",
              "      <td>14401762</td>\n",
              "      <td>BIH</td>\n",
              "      <td>YUG</td>\n",
              "      <td>1/31/00</td>\n",
              "    </tr>\n",
              "    <tr>\n",
              "      <th>3</th>\n",
              "      <td>https://ratings.fide.com/fedchange.phtml?year=...</td>\n",
              "      <td>2019221</td>\n",
              "      <td>USA</td>\n",
              "      <td>PHI</td>\n",
              "      <td>12/15/00</td>\n",
              "    </tr>\n",
              "    <tr>\n",
              "      <th>4</th>\n",
              "      <td>https://ratings.fide.com/fedchange.phtml?year=...</td>\n",
              "      <td>14401754</td>\n",
              "      <td>BIH</td>\n",
              "      <td>CRO</td>\n",
              "      <td>1/31/00</td>\n",
              "    </tr>\n",
              "    <tr>\n",
              "      <th>5</th>\n",
              "      <td>https://ratings.fide.com/fedchange.phtml?year=...</td>\n",
              "      <td>14401762</td>\n",
              "      <td>BIH</td>\n",
              "      <td>YUG</td>\n",
              "      <td>1/31/00</td>\n",
              "    </tr>\n",
              "    <tr>\n",
              "      <th>6</th>\n",
              "      <td>https://ratings.fide.com/fedchange.phtml?year=...</td>\n",
              "      <td>6700284</td>\n",
              "      <td>ESA</td>\n",
              "      <td>HON</td>\n",
              "      <td>11/15/01</td>\n",
              "    </tr>\n",
              "    <tr>\n",
              "      <th>7</th>\n",
              "      <td>https://ratings.fide.com/fedchange.phtml?year=...</td>\n",
              "      <td>1613782</td>\n",
              "      <td>AUT</td>\n",
              "      <td>ISR</td>\n",
              "      <td>7/9/01</td>\n",
              "    </tr>\n",
              "    <tr>\n",
              "      <th>8</th>\n",
              "      <td>https://ratings.fide.com/fedchange.phtml?year=...</td>\n",
              "      <td>2600536</td>\n",
              "      <td>AUS</td>\n",
              "      <td>CAN</td>\n",
              "      <td>11/9/01</td>\n",
              "    </tr>\n",
              "    <tr>\n",
              "      <th>9</th>\n",
              "      <td>https://ratings.fide.com/fedchange.phtml?year=...</td>\n",
              "      <td>2603977</td>\n",
              "      <td>CAN</td>\n",
              "      <td>YUG</td>\n",
              "      <td>5/25/01</td>\n",
              "    </tr>\n",
              "    <tr>\n",
              "      <th>10</th>\n",
              "      <td>https://ratings.fide.com/fedchange.phtml?year=...</td>\n",
              "      <td>2019523</td>\n",
              "      <td>USA</td>\n",
              "      <td>AZE</td>\n",
              "      <td>3/30/01</td>\n",
              "    </tr>\n",
              "    <tr>\n",
              "      <th>11</th>\n",
              "      <td>https://ratings.fide.com/fedchange.phtml?year=...</td>\n",
              "      <td>2603985</td>\n",
              "      <td>CAN</td>\n",
              "      <td>ENG</td>\n",
              "      <td>5/25/01</td>\n",
              "    </tr>\n",
              "    <tr>\n",
              "      <th>12</th>\n",
              "      <td>https://ratings.fide.com/fedchange.phtml?year=...</td>\n",
              "      <td>4682084</td>\n",
              "      <td>ITA</td>\n",
              "      <td>GER</td>\n",
              "      <td>9/12/01</td>\n",
              "    </tr>\n",
              "    <tr>\n",
              "      <th>13</th>\n",
              "      <td>https://ratings.fide.com/fedchange.phtml?year=...</td>\n",
              "      <td>2209381</td>\n",
              "      <td>PAR</td>\n",
              "      <td>ESP</td>\n",
              "      <td>12/10/01</td>\n",
              "    </tr>\n",
              "    <tr>\n",
              "      <th>14</th>\n",
              "      <td>https://ratings.fide.com/fedchange.phtml?year=...</td>\n",
              "      <td>13601105</td>\n",
              "      <td>USA</td>\n",
              "      <td>GEO</td>\n",
              "      <td>2/13/01</td>\n",
              "    </tr>\n",
              "    <tr>\n",
              "      <th>15</th>\n",
              "      <td>https://ratings.fide.com/fedchange.phtml?year=...</td>\n",
              "      <td>4613424</td>\n",
              "      <td>SUI</td>\n",
              "      <td>GER</td>\n",
              "      <td>12/1/01</td>\n",
              "    </tr>\n",
              "    <tr>\n",
              "      <th>16</th>\n",
              "      <td>https://ratings.fide.com/fedchange.phtml?year=...</td>\n",
              "      <td>2604019</td>\n",
              "      <td>CAN</td>\n",
              "      <td>YUG</td>\n",
              "      <td>6/9/01</td>\n",
              "    </tr>\n",
              "    <tr>\n",
              "      <th>17</th>\n",
              "      <td>https://ratings.fide.com/fedchange.phtml?year=...</td>\n",
              "      <td>933511</td>\n",
              "      <td>YUG</td>\n",
              "      <td>BEL</td>\n",
              "      <td>2/7/01</td>\n",
              "    </tr>\n",
              "    <tr>\n",
              "      <th>18</th>\n",
              "      <td>https://ratings.fide.com/fedchange.phtml?year=...</td>\n",
              "      <td>3405400</td>\n",
              "      <td>CHI</td>\n",
              "      <td>CRO</td>\n",
              "      <td>6/13/01</td>\n",
              "    </tr>\n",
              "    <tr>\n",
              "      <th>19</th>\n",
              "      <td>https://ratings.fide.com/fedchange.phtml?year=...</td>\n",
              "      <td>4154142</td>\n",
              "      <td>UKR</td>\n",
              "      <td>RUS</td>\n",
              "      <td>1/23/01</td>\n",
              "    </tr>\n",
              "  </tbody>\n",
              "</table>\n",
              "</div>"
            ],
            "text/plain": [
              "                                                  url        ID Federation  \\\n",
              "0   https://ratings.fide.com/fedchange.phtml?year=...   2019221        USA   \n",
              "1   https://ratings.fide.com/fedchange.phtml?year=...  14401754        BIH   \n",
              "2   https://ratings.fide.com/fedchange.phtml?year=...  14401762        BIH   \n",
              "3   https://ratings.fide.com/fedchange.phtml?year=...   2019221        USA   \n",
              "4   https://ratings.fide.com/fedchange.phtml?year=...  14401754        BIH   \n",
              "5   https://ratings.fide.com/fedchange.phtml?year=...  14401762        BIH   \n",
              "6   https://ratings.fide.com/fedchange.phtml?year=...   6700284        ESA   \n",
              "7   https://ratings.fide.com/fedchange.phtml?year=...   1613782        AUT   \n",
              "8   https://ratings.fide.com/fedchange.phtml?year=...   2600536        AUS   \n",
              "9   https://ratings.fide.com/fedchange.phtml?year=...   2603977        CAN   \n",
              "10  https://ratings.fide.com/fedchange.phtml?year=...   2019523        USA   \n",
              "11  https://ratings.fide.com/fedchange.phtml?year=...   2603985        CAN   \n",
              "12  https://ratings.fide.com/fedchange.phtml?year=...   4682084        ITA   \n",
              "13  https://ratings.fide.com/fedchange.phtml?year=...   2209381        PAR   \n",
              "14  https://ratings.fide.com/fedchange.phtml?year=...  13601105        USA   \n",
              "15  https://ratings.fide.com/fedchange.phtml?year=...   4613424        SUI   \n",
              "16  https://ratings.fide.com/fedchange.phtml?year=...   2604019        CAN   \n",
              "17  https://ratings.fide.com/fedchange.phtml?year=...    933511        YUG   \n",
              "18  https://ratings.fide.com/fedchange.phtml?year=...   3405400        CHI   \n",
              "19  https://ratings.fide.com/fedchange.phtml?year=...   4154142        UKR   \n",
              "\n",
              "   Former_Fed Transfer_Date  \n",
              "0         PHI      12/15/00  \n",
              "1         CRO       1/31/00  \n",
              "2         YUG       1/31/00  \n",
              "3         PHI      12/15/00  \n",
              "4         CRO       1/31/00  \n",
              "5         YUG       1/31/00  \n",
              "6         HON      11/15/01  \n",
              "7         ISR        7/9/01  \n",
              "8         CAN       11/9/01  \n",
              "9         YUG       5/25/01  \n",
              "10        AZE       3/30/01  \n",
              "11        ENG       5/25/01  \n",
              "12        GER       9/12/01  \n",
              "13        ESP      12/10/01  \n",
              "14        GEO       2/13/01  \n",
              "15        GER       12/1/01  \n",
              "16        YUG        6/9/01  \n",
              "17        BEL        2/7/01  \n",
              "18        CRO       6/13/01  \n",
              "19        RUS       1/23/01  "
            ]
          },
          "metadata": {
            "tags": []
          },
          "execution_count": 109
        }
      ]
    },
    {
      "metadata": {
        "id": "7vTBbtCGJsqA",
        "colab_type": "code",
        "colab": {}
      },
      "cell_type": "code",
      "source": [
        "chess_df = chess_df.drop_duplicates() \n",
        "# we want to find unique transfers into countries, so i removed the duplicates\n",
        "# after confirming them above"
      ],
      "execution_count": 0,
      "outputs": []
    },
    {
      "metadata": {
        "id": "CkN1RzdcWJip",
        "colab_type": "code",
        "colab": {
          "base_uri": "https://localhost:8080/",
          "height": 118
        },
        "outputId": "24a2a3dd-520c-4d02-f933-7289231f25c5"
      },
      "cell_type": "code",
      "source": [
        "chess_df.count()"
      ],
      "execution_count": 134,
      "outputs": [
        {
          "output_type": "execute_result",
          "data": {
            "text/plain": [
              "url              753\n",
              "ID               753\n",
              "Federation       753\n",
              "Former_Fed       749\n",
              "Transfer_Date    753\n",
              "dtype: int64"
            ]
          },
          "metadata": {
            "tags": []
          },
          "execution_count": 134
        }
      ]
    },
    {
      "metadata": {
        "id": "vZ_CIaaFKUnG",
        "colab_type": "code",
        "colab": {}
      },
      "cell_type": "code",
      "source": [
        "transfer_country_chess = chess_df[['Federation', 'Former_Fed', 'Transfer_Date']].copy()"
      ],
      "execution_count": 0,
      "outputs": []
    },
    {
      "metadata": {
        "id": "KakKF3jSODDT",
        "colab_type": "code",
        "colab": {
          "base_uri": "https://localhost:8080/",
          "height": 195
        },
        "outputId": "7a188e6e-ce70-42b9-ba10-a4d95ee8cd75"
      },
      "cell_type": "code",
      "source": [
        "transfer_country_chess.head()"
      ],
      "execution_count": 116,
      "outputs": [
        {
          "output_type": "execute_result",
          "data": {
            "text/html": [
              "<div>\n",
              "<style scoped>\n",
              "    .dataframe tbody tr th:only-of-type {\n",
              "        vertical-align: middle;\n",
              "    }\n",
              "\n",
              "    .dataframe tbody tr th {\n",
              "        vertical-align: top;\n",
              "    }\n",
              "\n",
              "    .dataframe thead th {\n",
              "        text-align: right;\n",
              "    }\n",
              "</style>\n",
              "<table border=\"1\" class=\"dataframe\">\n",
              "  <thead>\n",
              "    <tr style=\"text-align: right;\">\n",
              "      <th></th>\n",
              "      <th>Federation</th>\n",
              "      <th>Former_Fed</th>\n",
              "      <th>Transfer_Date</th>\n",
              "    </tr>\n",
              "  </thead>\n",
              "  <tbody>\n",
              "    <tr>\n",
              "      <th>0</th>\n",
              "      <td>USA</td>\n",
              "      <td>PHI</td>\n",
              "      <td>12/15/00</td>\n",
              "    </tr>\n",
              "    <tr>\n",
              "      <th>1</th>\n",
              "      <td>BIH</td>\n",
              "      <td>CRO</td>\n",
              "      <td>1/31/00</td>\n",
              "    </tr>\n",
              "    <tr>\n",
              "      <th>2</th>\n",
              "      <td>BIH</td>\n",
              "      <td>YUG</td>\n",
              "      <td>1/31/00</td>\n",
              "    </tr>\n",
              "    <tr>\n",
              "      <th>6</th>\n",
              "      <td>ESA</td>\n",
              "      <td>HON</td>\n",
              "      <td>11/15/01</td>\n",
              "    </tr>\n",
              "    <tr>\n",
              "      <th>7</th>\n",
              "      <td>AUT</td>\n",
              "      <td>ISR</td>\n",
              "      <td>7/9/01</td>\n",
              "    </tr>\n",
              "  </tbody>\n",
              "</table>\n",
              "</div>"
            ],
            "text/plain": [
              "  Federation Former_Fed Transfer_Date\n",
              "0        USA        PHI      12/15/00\n",
              "1        BIH        CRO       1/31/00\n",
              "2        BIH        YUG       1/31/00\n",
              "6        ESA        HON      11/15/01\n",
              "7        AUT        ISR        7/9/01"
            ]
          },
          "metadata": {
            "tags": []
          },
          "execution_count": 116
        }
      ]
    },
    {
      "metadata": {
        "id": "TaWpif1XOFfZ",
        "colab_type": "code",
        "colab": {}
      },
      "cell_type": "code",
      "source": [
        "transfered_to_usa = chess_df[chess_df.Federation.isin(['USA'])]\n",
        "\n"
      ],
      "execution_count": 0,
      "outputs": []
    },
    {
      "metadata": {
        "id": "g__av0yrSJ6C",
        "colab_type": "code",
        "colab": {
          "base_uri": "https://localhost:8080/",
          "height": 195
        },
        "outputId": "0801de7c-b5a9-4de7-b59d-07b0bb46681a"
      },
      "cell_type": "code",
      "source": [
        "transfered_to_usa.head()"
      ],
      "execution_count": 118,
      "outputs": [
        {
          "output_type": "execute_result",
          "data": {
            "text/html": [
              "<div>\n",
              "<style scoped>\n",
              "    .dataframe tbody tr th:only-of-type {\n",
              "        vertical-align: middle;\n",
              "    }\n",
              "\n",
              "    .dataframe tbody tr th {\n",
              "        vertical-align: top;\n",
              "    }\n",
              "\n",
              "    .dataframe thead th {\n",
              "        text-align: right;\n",
              "    }\n",
              "</style>\n",
              "<table border=\"1\" class=\"dataframe\">\n",
              "  <thead>\n",
              "    <tr style=\"text-align: right;\">\n",
              "      <th></th>\n",
              "      <th>url</th>\n",
              "      <th>ID</th>\n",
              "      <th>Federation</th>\n",
              "      <th>Former_Fed</th>\n",
              "      <th>Transfer_Date</th>\n",
              "    </tr>\n",
              "  </thead>\n",
              "  <tbody>\n",
              "    <tr>\n",
              "      <th>0</th>\n",
              "      <td>https://ratings.fide.com/fedchange.phtml?year=...</td>\n",
              "      <td>2019221</td>\n",
              "      <td>USA</td>\n",
              "      <td>PHI</td>\n",
              "      <td>12/15/00</td>\n",
              "    </tr>\n",
              "    <tr>\n",
              "      <th>10</th>\n",
              "      <td>https://ratings.fide.com/fedchange.phtml?year=...</td>\n",
              "      <td>2019523</td>\n",
              "      <td>USA</td>\n",
              "      <td>AZE</td>\n",
              "      <td>3/30/01</td>\n",
              "    </tr>\n",
              "    <tr>\n",
              "      <th>14</th>\n",
              "      <td>https://ratings.fide.com/fedchange.phtml?year=...</td>\n",
              "      <td>13601105</td>\n",
              "      <td>USA</td>\n",
              "      <td>GEO</td>\n",
              "      <td>2/13/01</td>\n",
              "    </tr>\n",
              "    <tr>\n",
              "      <th>23</th>\n",
              "      <td>https://ratings.fide.com/fedchange.phtml?year=...</td>\n",
              "      <td>2019574</td>\n",
              "      <td>USA</td>\n",
              "      <td>RUS</td>\n",
              "      <td>4/2/01</td>\n",
              "    </tr>\n",
              "    <tr>\n",
              "      <th>44</th>\n",
              "      <td>https://ratings.fide.com/fedchange.phtml?year=...</td>\n",
              "      <td>13301918</td>\n",
              "      <td>USA</td>\n",
              "      <td>ARM</td>\n",
              "      <td>3/5/02</td>\n",
              "    </tr>\n",
              "  </tbody>\n",
              "</table>\n",
              "</div>"
            ],
            "text/plain": [
              "                                                  url        ID Federation  \\\n",
              "0   https://ratings.fide.com/fedchange.phtml?year=...   2019221        USA   \n",
              "10  https://ratings.fide.com/fedchange.phtml?year=...   2019523        USA   \n",
              "14  https://ratings.fide.com/fedchange.phtml?year=...  13601105        USA   \n",
              "23  https://ratings.fide.com/fedchange.phtml?year=...   2019574        USA   \n",
              "44  https://ratings.fide.com/fedchange.phtml?year=...  13301918        USA   \n",
              "\n",
              "   Former_Fed Transfer_Date  \n",
              "0         PHI      12/15/00  \n",
              "10        AZE       3/30/01  \n",
              "14        GEO       2/13/01  \n",
              "23        RUS        4/2/01  \n",
              "44        ARM        3/5/02  "
            ]
          },
          "metadata": {
            "tags": []
          },
          "execution_count": 118
        }
      ]
    },
    {
      "metadata": {
        "id": "aCLgoqHSSY_r",
        "colab_type": "code",
        "colab": {}
      },
      "cell_type": "code",
      "source": [
        "# we will use this to create new dataframes of the unique transfers\n",
        "\n",
        "federation_placeholder = chess_df['Federation'].value_counts(sort=True) \n",
        "transfer_placeholder = transfered_to_usa['Former_Fed'].value_counts(sort=True)\n",
        "\n",
        "# we only want the top 10 in each, transfers into usa only has 10\n",
        "\n",
        "federation_placeholder_2 = federation_placeholder.head(10)"
      ],
      "execution_count": 0,
      "outputs": []
    },
    {
      "metadata": {
        "id": "ZA4hhkpCdpTf",
        "colab_type": "code",
        "colab": {
          "base_uri": "https://localhost:8080/",
          "height": 343
        },
        "outputId": "8b43c5fe-9e86-48df-db9a-17b178fc17b4"
      },
      "cell_type": "code",
      "source": [
        "sorted_usa_transfer = transfer_placeholder.rename_axis('Former_Fed').reset_index(name='Unique_Transfers')\n",
        "\n",
        "sorted_usa_transfer.head(10)"
      ],
      "execution_count": 144,
      "outputs": [
        {
          "output_type": "execute_result",
          "data": {
            "text/html": [
              "<div>\n",
              "<style scoped>\n",
              "    .dataframe tbody tr th:only-of-type {\n",
              "        vertical-align: middle;\n",
              "    }\n",
              "\n",
              "    .dataframe tbody tr th {\n",
              "        vertical-align: top;\n",
              "    }\n",
              "\n",
              "    .dataframe thead th {\n",
              "        text-align: right;\n",
              "    }\n",
              "</style>\n",
              "<table border=\"1\" class=\"dataframe\">\n",
              "  <thead>\n",
              "    <tr style=\"text-align: right;\">\n",
              "      <th></th>\n",
              "      <th>Former_Fed</th>\n",
              "      <th>Unique_Transfers</th>\n",
              "    </tr>\n",
              "  </thead>\n",
              "  <tbody>\n",
              "    <tr>\n",
              "      <th>0</th>\n",
              "      <td>IND</td>\n",
              "      <td>10</td>\n",
              "    </tr>\n",
              "    <tr>\n",
              "      <th>1</th>\n",
              "      <td>UKR</td>\n",
              "      <td>5</td>\n",
              "    </tr>\n",
              "    <tr>\n",
              "      <th>2</th>\n",
              "      <td>CUB</td>\n",
              "      <td>5</td>\n",
              "    </tr>\n",
              "    <tr>\n",
              "      <th>3</th>\n",
              "      <td>RUS</td>\n",
              "      <td>4</td>\n",
              "    </tr>\n",
              "    <tr>\n",
              "      <th>4</th>\n",
              "      <td>PHI</td>\n",
              "      <td>4</td>\n",
              "    </tr>\n",
              "    <tr>\n",
              "      <th>5</th>\n",
              "      <td>ARM</td>\n",
              "      <td>4</td>\n",
              "    </tr>\n",
              "    <tr>\n",
              "      <th>6</th>\n",
              "      <td>GEO</td>\n",
              "      <td>3</td>\n",
              "    </tr>\n",
              "    <tr>\n",
              "      <th>7</th>\n",
              "      <td>BLR</td>\n",
              "      <td>3</td>\n",
              "    </tr>\n",
              "    <tr>\n",
              "      <th>8</th>\n",
              "      <td>AZE</td>\n",
              "      <td>2</td>\n",
              "    </tr>\n",
              "    <tr>\n",
              "      <th>9</th>\n",
              "      <td>PER</td>\n",
              "      <td>1</td>\n",
              "    </tr>\n",
              "  </tbody>\n",
              "</table>\n",
              "</div>"
            ],
            "text/plain": [
              "  Former_Fed  Unique_Transfers\n",
              "0        IND                10\n",
              "1        UKR                 5\n",
              "2        CUB                 5\n",
              "3        RUS                 4\n",
              "4        PHI                 4\n",
              "5        ARM                 4\n",
              "6        GEO                 3\n",
              "7        BLR                 3\n",
              "8        AZE                 2\n",
              "9        PER                 1"
            ]
          },
          "metadata": {
            "tags": []
          },
          "execution_count": 144
        }
      ]
    },
    {
      "metadata": {
        "id": "89AmrRGldHjQ",
        "colab_type": "code",
        "colab": {}
      },
      "cell_type": "code",
      "source": [
        "sorted_top_ten_transfers = federation_placeholder_2.rename_axis('Federation').reset_index(name='Total_Transfers')"
      ],
      "execution_count": 0,
      "outputs": []
    },
    {
      "metadata": {
        "id": "V4hzaYoKgNhv",
        "colab_type": "code",
        "colab": {
          "base_uri": "https://localhost:8080/",
          "height": 343
        },
        "outputId": "3b64648b-c592-4ebe-e049-50fdaf67c9b8"
      },
      "cell_type": "code",
      "source": [
        "sorted_top_ten_transfers.head(10) "
      ],
      "execution_count": 146,
      "outputs": [
        {
          "output_type": "execute_result",
          "data": {
            "text/html": [
              "<div>\n",
              "<style scoped>\n",
              "    .dataframe tbody tr th:only-of-type {\n",
              "        vertical-align: middle;\n",
              "    }\n",
              "\n",
              "    .dataframe tbody tr th {\n",
              "        vertical-align: top;\n",
              "    }\n",
              "\n",
              "    .dataframe thead th {\n",
              "        text-align: right;\n",
              "    }\n",
              "</style>\n",
              "<table border=\"1\" class=\"dataframe\">\n",
              "  <thead>\n",
              "    <tr style=\"text-align: right;\">\n",
              "      <th></th>\n",
              "      <th>Federation</th>\n",
              "      <th>Total_Transfers</th>\n",
              "    </tr>\n",
              "  </thead>\n",
              "  <tbody>\n",
              "    <tr>\n",
              "      <th>0</th>\n",
              "      <td>USA</td>\n",
              "      <td>66</td>\n",
              "    </tr>\n",
              "    <tr>\n",
              "      <th>1</th>\n",
              "      <td>GER</td>\n",
              "      <td>41</td>\n",
              "    </tr>\n",
              "    <tr>\n",
              "      <th>2</th>\n",
              "      <td>ESP</td>\n",
              "      <td>32</td>\n",
              "    </tr>\n",
              "    <tr>\n",
              "      <th>3</th>\n",
              "      <td>CAN</td>\n",
              "      <td>30</td>\n",
              "    </tr>\n",
              "    <tr>\n",
              "      <th>4</th>\n",
              "      <td>CRO</td>\n",
              "      <td>28</td>\n",
              "    </tr>\n",
              "    <tr>\n",
              "      <th>5</th>\n",
              "      <td>BIH</td>\n",
              "      <td>28</td>\n",
              "    </tr>\n",
              "    <tr>\n",
              "      <th>6</th>\n",
              "      <td>RUS</td>\n",
              "      <td>27</td>\n",
              "    </tr>\n",
              "    <tr>\n",
              "      <th>7</th>\n",
              "      <td>FRA</td>\n",
              "      <td>27</td>\n",
              "    </tr>\n",
              "    <tr>\n",
              "      <th>8</th>\n",
              "      <td>CZE</td>\n",
              "      <td>26</td>\n",
              "    </tr>\n",
              "    <tr>\n",
              "      <th>9</th>\n",
              "      <td>TUR</td>\n",
              "      <td>26</td>\n",
              "    </tr>\n",
              "  </tbody>\n",
              "</table>\n",
              "</div>"
            ],
            "text/plain": [
              "  Federation  Total_Transfers\n",
              "0        USA               66\n",
              "1        GER               41\n",
              "2        ESP               32\n",
              "3        CAN               30\n",
              "4        CRO               28\n",
              "5        BIH               28\n",
              "6        RUS               27\n",
              "7        FRA               27\n",
              "8        CZE               26\n",
              "9        TUR               26"
            ]
          },
          "metadata": {
            "tags": []
          },
          "execution_count": 146
        }
      ]
    },
    {
      "metadata": {
        "id": "QsKuehjZgPlW",
        "colab_type": "code",
        "colab": {}
      },
      "cell_type": "code",
      "source": [
        "inverse_top_ten = sorted_top_ten_transfers.reindex(index=sorted_top_ten_transfers.index[::-1])\n"
      ],
      "execution_count": 0,
      "outputs": []
    },
    {
      "metadata": {
        "id": "8uEXiIQBg-aX",
        "colab_type": "code",
        "colab": {
          "base_uri": "https://localhost:8080/",
          "height": 654
        },
        "outputId": "239814a4-00d4-4367-8828-8cd63ca86071"
      },
      "cell_type": "code",
      "source": [
        "import seaborn as sns\n",
        "\n",
        "title= 'Nations that received the highest number of player transfers, 2000-17'\n",
        "\n",
        "sns.set(style=\"whitegrid\")\n",
        "\n",
        "figure, ax = plt.subplots(figsize=(8, 10))\n",
        "\n",
        "sns.set_color_codes(\"pastel\")\n",
        "\n",
        "# seaborn removed my inverse sort. Inverse sort shows in pandas plots, but I'm\n",
        "# going to assume it sorts from least to most built-in \n",
        "# order allows us to plot as desired\n",
        "\n",
        "sns.barplot(x=\"Total_Transfers\", y=\"Federation\", data=inverse_top_ten,\n",
        "            color=\"b\", order=[\"USA\", \"GER\", \"ESP\", \"CAN\", \"CRO\",\n",
        "  \"BIH\", \"RUS\", \"FRA\", \"CZE\", \"TUR\"]).set_title(title);\n",
        "\n",
        "# TODO : split the incorrect original data and plot alongside to compare"
      ],
      "execution_count": 167,
      "outputs": [
        {
          "output_type": "stream",
          "text": [
            "/usr/local/lib/python3.6/dist-packages/seaborn/categorical.py:1428: FutureWarning: remove_na is deprecated and is a private function. Do not use.\n",
            "  stat_data = remove_na(group_data)\n"
          ],
          "name": "stderr"
        },
        {
          "output_type": "display_data",
          "data": {
            "image/png": "[encoded data removed]",
            "text/plain": [
              "<matplotlib.figure.Figure at 0x7f95a0fc1780>"
            ]
          },
          "metadata": {
            "tags": []
          }
        }
      ]
    },
    {
      "metadata": {
        "id": "p3SAxdJyhkmI",
        "colab_type": "code",
        "colab": {}
      },
      "cell_type": "code",
      "source": [
        ""
      ],
      "execution_count": 0,
      "outputs": []
    }
  ]
}