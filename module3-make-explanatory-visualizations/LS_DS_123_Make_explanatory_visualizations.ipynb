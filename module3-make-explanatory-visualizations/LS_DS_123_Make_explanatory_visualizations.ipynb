{
  "nbformat": 4,
  "nbformat_minor": 0,
  "metadata": {
    "colab": {
      "name": "LS_DS_123_Make_explanatory_visualizations.ipynb",
      "version": "0.3.2",
      "provenance": []
    },
    "kernelspec": {
      "display_name": "Python 3",
      "language": "python",
      "name": "python3"
    }
  },
  "cells": [
    {
      "metadata": {
        "id": "2tE4u7dh66jJ",
        "colab_type": "text"
      },
      "cell_type": "markdown",
      "source": [
        "_Lambda School Data Science_\n",
        "\n",
        "# Choose appropriate visualizations\n",
        "\n",
        "\n",
        "Recreate this [example by FiveThirtyEight:](https://fivethirtyeight.com/features/al-gores-new-movie-exposes-the-big-flaw-in-online-movie-ratings/)\n",
        "\n",
        "![](https://fivethirtyeight.com/wp-content/uploads/2017/09/mehtahickey-inconvenient-0830-1.png?w=575)\n",
        "\n",
        "Using this data:\n",
        "\n",
        "https://github.com/fivethirtyeight/data/tree/master/inconvenient-sequel\n",
        "\n",
        "### Stretch goals\n",
        "\n",
        "Recreate more examples from [FiveThityEight's shared data repository](https://data.fivethirtyeight.com/).\n",
        "\n",
        "For example:\n",
        "- [thanksgiving-2015](https://fivethirtyeight.com/features/heres-what-your-part-of-america-eats-on-thanksgiving/) ([`altair`](https://altair-viz.github.io/gallery/index.html#maps))\n",
        "- [candy-power-ranking](https://fivethirtyeight.com/features/the-ultimate-halloween-candy-power-ranking/) ([`statsmodels`](https://www.statsmodels.org/stable/index.html))"
      ]
    },
    {
      "metadata": {
        "id": "hK9DXrRD7MIz",
        "colab_type": "text"
      },
      "cell_type": "markdown",
      "source": [
        "Quick way to explore the above visualization, is to make fake data based on estimated y-axis data"
      ]
    },
    {
      "metadata": {
        "id": "7aM4lTYX66jO",
        "colab_type": "code",
        "colab": {
          "base_uri": "https://localhost:8080/",
          "height": 284
        },
        "outputId": "5cfa99e2-3054-4d0b-bb72-e71e1e2813b7"
      },
      "cell_type": "code",
      "source": [
        "%matplotlib inline\n",
        "import matplotlib.pyplot as plt\n",
        "import numpy as np\n",
        "import pandas as pd\n",
        "\n",
        "fake = pd.Series([38, 3, 2, 1, 2, 4, 6, 5, 5, 33], \n",
        "                 index=range(1,11) )\n",
        "\n",
        "fake.plot.bar()"
      ],
      "execution_count": 1,
      "outputs": [
        {
          "output_type": "execute_result",
          "data": {
            "text/plain": [
              "<matplotlib.axes._subplots.AxesSubplot at 0x7f0b31fe6cc0>"
            ]
          },
          "metadata": {
            "tags": []
          },
          "execution_count": 1
        },
        {
          "output_type": "display_data",
          "data": {
            "image/png": "[encoded data removed]",
            "text/plain": [
              "<matplotlib.figure.Figure at 0x7f0b36810eb8>"
            ]
          },
          "metadata": {
            "tags": []
          }
        }
      ]
    },
    {
      "metadata": {
        "id": "iYdWyvQs8eo9",
        "colab_type": "code",
        "colab": {
          "base_uri": "https://localhost:8080/",
          "height": 282
        },
        "outputId": "b5211de0-d734-4c3b-d298-42a231cb6fa3"
      },
      "cell_type": "code",
      "source": [
        "#plt.style.available\n",
        "plt.style.use('fivethirtyeight')\n",
        "\n",
        "fake.plot.bar();\n"
      ],
      "execution_count": 2,
      "outputs": [
        {
          "output_type": "display_data",
          "data": {
            "image/png": "[encoded data removed]",
            "text/plain": [
              "<matplotlib.figure.Figure at 0x7f0b103fb3c8>"
            ]
          },
          "metadata": {
            "tags": []
          }
        }
      ]
    },
    {
      "metadata": {
        "id": "hZnqjqMM-V2E",
        "colab_type": "code",
        "colab": {
          "base_uri": "https://localhost:8080/",
          "height": 282
        },
        "outputId": "fd2a8f9b-ebec-4253-b159-d478f6e17ead"
      },
      "cell_type": "code",
      "source": [
        "fake.plot.bar(color='C1',width=0.9);"
      ],
      "execution_count": 3,
      "outputs": [
        {
          "output_type": "display_data",
          "data": {
            "image/png": "[encoded data removed]",
            "text/plain": [
              "<matplotlib.figure.Figure at 0x7f0b0d52c8d0>"
            ]
          },
          "metadata": {
            "tags": []
          }
        }
      ]
    },
    {
      "metadata": {
        "id": "p5pEgxMZ-rNH",
        "colab_type": "code",
        "colab": {
          "base_uri": "https://localhost:8080/",
          "height": 300
        },
        "outputId": "64e6c4ea-b585-45cf-f66d-c5cba92b639a"
      },
      "cell_type": "code",
      "source": [
        "fake2 = pd.Series(\n",
        "    [1, 1, 1, 1, 1, 1, 1, 1, 1, 1, 1, 1, 1, 1, 1, 1, 1, 1, 1, 1, 1, 1, 1, 1,\n",
        "     2, 2, 2, \n",
        "     3, 3, 3,\n",
        "     4, 4,\n",
        "     5, 5, 5,\n",
        "     6, 6, 6, 6,\n",
        "     7, 7, 7, 7, 7,\n",
        "     8, 8, 8, 8,\n",
        "     9, 9, 9, 9, \n",
        "     10, 10, 10, 10, 10, 10, 10, 10, 10, 10, 10, 10, 10, 10, 10, 10, 10, 10])\n",
        "\n",
        "fake2.plot.hist()"
      ],
      "execution_count": 4,
      "outputs": [
        {
          "output_type": "execute_result",
          "data": {
            "text/plain": [
              "<matplotlib.axes._subplots.AxesSubplot at 0x7f0b0d4d1198>"
            ]
          },
          "metadata": {
            "tags": []
          },
          "execution_count": 4
        },
        {
          "output_type": "display_data",
          "data": {
            "image/png": "[encoded data removed]",
            "text/plain": [
              "<matplotlib.figure.Figure at 0x7f0b0d540a20>"
            ]
          },
          "metadata": {
            "tags": []
          }
        }
      ]
    },
    {
      "metadata": {
        "id": "nD2WKLvf-zMk",
        "colab_type": "code",
        "colab": {
          "base_uri": "https://localhost:8080/",
          "height": 204
        },
        "outputId": "1dd69320-c20c-4ebb-e310-11a46064650d"
      },
      "cell_type": "code",
      "source": [
        "fake2.value_counts().sort_index()\n"
      ],
      "execution_count": 9,
      "outputs": [
        {
          "output_type": "execute_result",
          "data": {
            "text/plain": [
              "1     24\n",
              "2      3\n",
              "3      3\n",
              "4      2\n",
              "5      3\n",
              "6      4\n",
              "7      5\n",
              "8      4\n",
              "9      4\n",
              "10    18\n",
              "dtype: int64"
            ]
          },
          "metadata": {
            "tags": []
          },
          "execution_count": 9
        }
      ]
    },
    {
      "metadata": {
        "id": "Y3SdPnGs_lNp",
        "colab_type": "code",
        "colab": {
          "base_uri": "https://localhost:8080/",
          "height": 302
        },
        "outputId": "41a8193c-8915-411e-b3d7-a44016816035"
      },
      "cell_type": "code",
      "source": [
        "fake2.value_counts().sort_index().plot.bar()"
      ],
      "execution_count": 11,
      "outputs": [
        {
          "output_type": "execute_result",
          "data": {
            "text/plain": [
              "<matplotlib.axes._subplots.AxesSubplot at 0x7f0b0d503f28>"
            ]
          },
          "metadata": {
            "tags": []
          },
          "execution_count": 11
        },
        {
          "output_type": "display_data",
          "data": {
            "image/png": "[encoded data removed]",
            "text/plain": [
              "<matplotlib.figure.Figure at 0x7f0b0d503a90>"
            ]
          },
          "metadata": {
            "tags": []
          }
        }
      ]
    },
    {
      "metadata": {
        "id": "RC2FlOVx_uP-",
        "colab_type": "code",
        "colab": {
          "base_uri": "https://localhost:8080/",
          "height": 341
        },
        "outputId": "bda27778-c9ed-4b06-9fb4-ce9d1c62b5bd"
      },
      "cell_type": "code",
      "source": [
        "# To reproduce Inconvenient Truth chart using fake data\n",
        "\n",
        "plt.style.use('fivethirtyeight')\n",
        "\n",
        "fake = pd.Series([38, 3, 2, 1, 2, 4, 6, 5, 5, 33],\n",
        "                index=range(1,11))\n",
        "\n",
        "ax = fake.plot.bar(color='#EC713B', width=0.9);\n",
        "\n",
        "ax.set(\n",
        "  xlabel='Rating',\n",
        "  ylabel='Percent of total votes',\n",
        "  yticks=range(0,50,10));\n",
        "\n",
        "ax.text(x=-1, y=45, s=\"'An Inconvenient Sequel: Truth to Power' is divisive\",\n",
        "       fontsize=16, fontweight='bold')\n",
        "ax.text(x=0, y=42, s='IMDb ratings for the film as of Aug. 29')\n",
        "\n",
        "ax.tick_params(labelrotation=0)"
      ],
      "execution_count": 29,
      "outputs": [
        {
          "output_type": "display_data",
          "data": {
            "image/png": "[encoded data removed]",
            "text/plain": [
              "<matplotlib.figure.Figure at 0x7f0b0cae55c0>"
            ]
          },
          "metadata": {
            "tags": []
          }
        }
      ]
    },
    {
      "metadata": {
        "id": "wSzPivA4DATP",
        "colab_type": "code",
        "colab": {
          "base_uri": "https://localhost:8080/",
          "height": 34
        },
        "outputId": "5b9d8dc2-1a28-4343-bf98-bf2b917687f7"
      },
      "cell_type": "code",
      "source": [
        "# To reproduce Inconvenient Truth chart, using real data\n",
        "df = pd.read_csv('https://raw.githubusercontent.com/fivethirtyeight/data/master/inconvenient-sequel/ratings.csv')\n",
        "\n",
        "df.shape"
      ],
      "execution_count": 30,
      "outputs": [
        {
          "output_type": "execute_result",
          "data": {
            "text/plain": [
              "(80053, 27)"
            ]
          },
          "metadata": {
            "tags": []
          },
          "execution_count": 30
        }
      ]
    },
    {
      "metadata": {
        "id": "pxeB6INeDV9J",
        "colab_type": "code",
        "colab": {
          "base_uri": "https://localhost:8080/",
          "height": 117
        },
        "outputId": "9b28292a-70b2-47f5-a28e-ff3f2d187842"
      },
      "cell_type": "code",
      "source": [
        "pd.options.display.max_columns=None\n",
        "df.head(1)"
      ],
      "execution_count": 32,
      "outputs": [
        {
          "output_type": "execute_result",
          "data": {
            "text/html": [
              "<div>\n",
              "<style scoped>\n",
              "    .dataframe tbody tr th:only-of-type {\n",
              "        vertical-align: middle;\n",
              "    }\n",
              "\n",
              "    .dataframe tbody tr th {\n",
              "        vertical-align: top;\n",
              "    }\n",
              "\n",
              "    .dataframe thead th {\n",
              "        text-align: right;\n",
              "    }\n",
              "</style>\n",
              "<table border=\"1\" class=\"dataframe\">\n",
              "  <thead>\n",
              "    <tr style=\"text-align: right;\">\n",
              "      <th></th>\n",
              "      <th>timestamp</th>\n",
              "      <th>respondents</th>\n",
              "      <th>category</th>\n",
              "      <th>link</th>\n",
              "      <th>average</th>\n",
              "      <th>mean</th>\n",
              "      <th>median</th>\n",
              "      <th>1_votes</th>\n",
              "      <th>2_votes</th>\n",
              "      <th>3_votes</th>\n",
              "      <th>4_votes</th>\n",
              "      <th>5_votes</th>\n",
              "      <th>6_votes</th>\n",
              "      <th>7_votes</th>\n",
              "      <th>8_votes</th>\n",
              "      <th>9_votes</th>\n",
              "      <th>10_votes</th>\n",
              "      <th>1_pct</th>\n",
              "      <th>2_pct</th>\n",
              "      <th>3_pct</th>\n",
              "      <th>4_pct</th>\n",
              "      <th>5_pct</th>\n",
              "      <th>6_pct</th>\n",
              "      <th>7_pct</th>\n",
              "      <th>8_pct</th>\n",
              "      <th>9_pct</th>\n",
              "      <th>10_pct</th>\n",
              "    </tr>\n",
              "  </thead>\n",
              "  <tbody>\n",
              "    <tr>\n",
              "      <th>0</th>\n",
              "      <td>2017-07-17 12:28:32.785639</td>\n",
              "      <td>402</td>\n",
              "      <td>Males</td>\n",
              "      <td>http://www.imdb.com/title/tt6322922/ratings-male</td>\n",
              "      <td>4.6</td>\n",
              "      <td>5.0</td>\n",
              "      <td>2</td>\n",
              "      <td>197</td>\n",
              "      <td>7</td>\n",
              "      <td>7</td>\n",
              "      <td>3</td>\n",
              "      <td>7</td>\n",
              "      <td>7</td>\n",
              "      <td>11</td>\n",
              "      <td>8</td>\n",
              "      <td>20</td>\n",
              "      <td>135</td>\n",
              "      <td>49.0</td>\n",
              "      <td>1.7</td>\n",
              "      <td>1.7</td>\n",
              "      <td>0.7</td>\n",
              "      <td>1.7</td>\n",
              "      <td>1.7</td>\n",
              "      <td>2.7</td>\n",
              "      <td>2.0</td>\n",
              "      <td>5.0</td>\n",
              "      <td>33.6</td>\n",
              "    </tr>\n",
              "  </tbody>\n",
              "</table>\n",
              "</div>"
            ],
            "text/plain": [
              "                    timestamp  respondents category  \\\n",
              "0  2017-07-17 12:28:32.785639          402    Males   \n",
              "\n",
              "                                               link  average  mean  median  \\\n",
              "0  http://www.imdb.com/title/tt6322922/ratings-male      4.6   5.0       2   \n",
              "\n",
              "   1_votes  2_votes  3_votes  4_votes  5_votes  6_votes  7_votes  8_votes  \\\n",
              "0      197        7        7        3        7        7       11        8   \n",
              "\n",
              "   9_votes  10_votes  1_pct  2_pct  3_pct  4_pct  5_pct  6_pct  7_pct  8_pct  \\\n",
              "0       20       135   49.0    1.7    1.7    0.7    1.7    1.7    2.7    2.0   \n",
              "\n",
              "   9_pct  10_pct  \n",
              "0    5.0    33.6  "
            ]
          },
          "metadata": {
            "tags": []
          },
          "execution_count": 32
        }
      ]
    },
    {
      "metadata": {
        "id": "BFemzZC3gVug",
        "colab_type": "code",
        "colab": {
          "base_uri": "https://localhost:8080/",
          "height": 196
        },
        "outputId": "8f91538f-9074-462a-ee5c-a3af4f4483c1"
      },
      "cell_type": "code",
      "source": [
        "df.iloc[0:2] # from index[0] / row[0] to 2 rows\n",
        "# df.iloc[:1] # same as df.head(1), return index[0] rows"
      ],
      "execution_count": 107,
      "outputs": [
        {
          "output_type": "execute_result",
          "data": {
            "text/html": [
              "<div>\n",
              "<style scoped>\n",
              "    .dataframe tbody tr th:only-of-type {\n",
              "        vertical-align: middle;\n",
              "    }\n",
              "\n",
              "    .dataframe tbody tr th {\n",
              "        vertical-align: top;\n",
              "    }\n",
              "\n",
              "    .dataframe thead th {\n",
              "        text-align: right;\n",
              "    }\n",
              "</style>\n",
              "<table border=\"1\" class=\"dataframe\">\n",
              "  <thead>\n",
              "    <tr style=\"text-align: right;\">\n",
              "      <th></th>\n",
              "      <th>respondents</th>\n",
              "      <th>category</th>\n",
              "      <th>link</th>\n",
              "      <th>average</th>\n",
              "      <th>mean</th>\n",
              "      <th>median</th>\n",
              "      <th>1_votes</th>\n",
              "      <th>2_votes</th>\n",
              "      <th>3_votes</th>\n",
              "      <th>4_votes</th>\n",
              "      <th>5_votes</th>\n",
              "      <th>6_votes</th>\n",
              "      <th>7_votes</th>\n",
              "      <th>8_votes</th>\n",
              "      <th>9_votes</th>\n",
              "      <th>10_votes</th>\n",
              "      <th>1_pct</th>\n",
              "      <th>2_pct</th>\n",
              "      <th>3_pct</th>\n",
              "      <th>4_pct</th>\n",
              "      <th>5_pct</th>\n",
              "      <th>6_pct</th>\n",
              "      <th>7_pct</th>\n",
              "      <th>8_pct</th>\n",
              "      <th>9_pct</th>\n",
              "      <th>10_pct</th>\n",
              "    </tr>\n",
              "    <tr>\n",
              "      <th>timestamp</th>\n",
              "      <th></th>\n",
              "      <th></th>\n",
              "      <th></th>\n",
              "      <th></th>\n",
              "      <th></th>\n",
              "      <th></th>\n",
              "      <th></th>\n",
              "      <th></th>\n",
              "      <th></th>\n",
              "      <th></th>\n",
              "      <th></th>\n",
              "      <th></th>\n",
              "      <th></th>\n",
              "      <th></th>\n",
              "      <th></th>\n",
              "      <th></th>\n",
              "      <th></th>\n",
              "      <th></th>\n",
              "      <th></th>\n",
              "      <th></th>\n",
              "      <th></th>\n",
              "      <th></th>\n",
              "      <th></th>\n",
              "      <th></th>\n",
              "      <th></th>\n",
              "      <th></th>\n",
              "    </tr>\n",
              "  </thead>\n",
              "  <tbody>\n",
              "    <tr>\n",
              "      <th>2017-07-17 12:28:32.785639</th>\n",
              "      <td>402</td>\n",
              "      <td>Males</td>\n",
              "      <td>http://www.imdb.com/title/tt6322922/ratings-male</td>\n",
              "      <td>4.6</td>\n",
              "      <td>5.0</td>\n",
              "      <td>2</td>\n",
              "      <td>197</td>\n",
              "      <td>7</td>\n",
              "      <td>7</td>\n",
              "      <td>3</td>\n",
              "      <td>7</td>\n",
              "      <td>7</td>\n",
              "      <td>11</td>\n",
              "      <td>8</td>\n",
              "      <td>20</td>\n",
              "      <td>135</td>\n",
              "      <td>49.0</td>\n",
              "      <td>1.7</td>\n",
              "      <td>1.7</td>\n",
              "      <td>0.7</td>\n",
              "      <td>1.7</td>\n",
              "      <td>1.7</td>\n",
              "      <td>2.7</td>\n",
              "      <td>2.0</td>\n",
              "      <td>5.0</td>\n",
              "      <td>33.6</td>\n",
              "    </tr>\n",
              "    <tr>\n",
              "      <th>2017-07-17 12:28:33.025600</th>\n",
              "      <td>78</td>\n",
              "      <td>Females</td>\n",
              "      <td>http://www.imdb.com/title/tt6322922/ratings-fe...</td>\n",
              "      <td>6.9</td>\n",
              "      <td>7.7</td>\n",
              "      <td>10</td>\n",
              "      <td>16</td>\n",
              "      <td>1</td>\n",
              "      <td>0</td>\n",
              "      <td>1</td>\n",
              "      <td>1</td>\n",
              "      <td>0</td>\n",
              "      <td>3</td>\n",
              "      <td>4</td>\n",
              "      <td>3</td>\n",
              "      <td>49</td>\n",
              "      <td>20.5</td>\n",
              "      <td>1.3</td>\n",
              "      <td>0.0</td>\n",
              "      <td>1.3</td>\n",
              "      <td>1.3</td>\n",
              "      <td>0.0</td>\n",
              "      <td>3.8</td>\n",
              "      <td>5.1</td>\n",
              "      <td>3.8</td>\n",
              "      <td>62.8</td>\n",
              "    </tr>\n",
              "  </tbody>\n",
              "</table>\n",
              "</div>"
            ],
            "text/plain": [
              "                            respondents category  \\\n",
              "timestamp                                          \n",
              "2017-07-17 12:28:32.785639          402    Males   \n",
              "2017-07-17 12:28:33.025600           78  Females   \n",
              "\n",
              "                                                                         link  \\\n",
              "timestamp                                                                       \n",
              "2017-07-17 12:28:32.785639   http://www.imdb.com/title/tt6322922/ratings-male   \n",
              "2017-07-17 12:28:33.025600  http://www.imdb.com/title/tt6322922/ratings-fe...   \n",
              "\n",
              "                            average  mean  median  1_votes  2_votes  3_votes  \\\n",
              "timestamp                                                                      \n",
              "2017-07-17 12:28:32.785639      4.6   5.0       2      197        7        7   \n",
              "2017-07-17 12:28:33.025600      6.9   7.7      10       16        1        0   \n",
              "\n",
              "                            4_votes  5_votes  6_votes  7_votes  8_votes  \\\n",
              "timestamp                                                                 \n",
              "2017-07-17 12:28:32.785639        3        7        7       11        8   \n",
              "2017-07-17 12:28:33.025600        1        1        0        3        4   \n",
              "\n",
              "                            9_votes  10_votes  1_pct  2_pct  3_pct  4_pct  \\\n",
              "timestamp                                                                   \n",
              "2017-07-17 12:28:32.785639       20       135   49.0    1.7    1.7    0.7   \n",
              "2017-07-17 12:28:33.025600        3        49   20.5    1.3    0.0    1.3   \n",
              "\n",
              "                            5_pct  6_pct  7_pct  8_pct  9_pct  10_pct  \n",
              "timestamp                                                              \n",
              "2017-07-17 12:28:32.785639    1.7    1.7    2.7    2.0    5.0    33.6  \n",
              "2017-07-17 12:28:33.025600    1.3    0.0    3.8    5.1    3.8    62.8  "
            ]
          },
          "metadata": {
            "tags": []
          },
          "execution_count": 107
        }
      ]
    },
    {
      "metadata": {
        "id": "sLQ28sNFDm2J",
        "colab_type": "code",
        "colab": {
          "base_uri": "https://localhost:8080/",
          "height": 886
        },
        "outputId": "733690ca-7d06-4f00-fc33-a617ad87b3ae"
      },
      "cell_type": "code",
      "source": [
        "df.head(1).T # T for transpose"
      ],
      "execution_count": 33,
      "outputs": [
        {
          "output_type": "execute_result",
          "data": {
            "text/html": [
              "<div>\n",
              "<style scoped>\n",
              "    .dataframe tbody tr th:only-of-type {\n",
              "        vertical-align: middle;\n",
              "    }\n",
              "\n",
              "    .dataframe tbody tr th {\n",
              "        vertical-align: top;\n",
              "    }\n",
              "\n",
              "    .dataframe thead th {\n",
              "        text-align: right;\n",
              "    }\n",
              "</style>\n",
              "<table border=\"1\" class=\"dataframe\">\n",
              "  <thead>\n",
              "    <tr style=\"text-align: right;\">\n",
              "      <th></th>\n",
              "      <th>0</th>\n",
              "    </tr>\n",
              "  </thead>\n",
              "  <tbody>\n",
              "    <tr>\n",
              "      <th>timestamp</th>\n",
              "      <td>2017-07-17 12:28:32.785639</td>\n",
              "    </tr>\n",
              "    <tr>\n",
              "      <th>respondents</th>\n",
              "      <td>402</td>\n",
              "    </tr>\n",
              "    <tr>\n",
              "      <th>category</th>\n",
              "      <td>Males</td>\n",
              "    </tr>\n",
              "    <tr>\n",
              "      <th>link</th>\n",
              "      <td>http://www.imdb.com/title/tt6322922/ratings-male</td>\n",
              "    </tr>\n",
              "    <tr>\n",
              "      <th>average</th>\n",
              "      <td>4.6</td>\n",
              "    </tr>\n",
              "    <tr>\n",
              "      <th>mean</th>\n",
              "      <td>5</td>\n",
              "    </tr>\n",
              "    <tr>\n",
              "      <th>median</th>\n",
              "      <td>2</td>\n",
              "    </tr>\n",
              "    <tr>\n",
              "      <th>1_votes</th>\n",
              "      <td>197</td>\n",
              "    </tr>\n",
              "    <tr>\n",
              "      <th>2_votes</th>\n",
              "      <td>7</td>\n",
              "    </tr>\n",
              "    <tr>\n",
              "      <th>3_votes</th>\n",
              "      <td>7</td>\n",
              "    </tr>\n",
              "    <tr>\n",
              "      <th>4_votes</th>\n",
              "      <td>3</td>\n",
              "    </tr>\n",
              "    <tr>\n",
              "      <th>5_votes</th>\n",
              "      <td>7</td>\n",
              "    </tr>\n",
              "    <tr>\n",
              "      <th>6_votes</th>\n",
              "      <td>7</td>\n",
              "    </tr>\n",
              "    <tr>\n",
              "      <th>7_votes</th>\n",
              "      <td>11</td>\n",
              "    </tr>\n",
              "    <tr>\n",
              "      <th>8_votes</th>\n",
              "      <td>8</td>\n",
              "    </tr>\n",
              "    <tr>\n",
              "      <th>9_votes</th>\n",
              "      <td>20</td>\n",
              "    </tr>\n",
              "    <tr>\n",
              "      <th>10_votes</th>\n",
              "      <td>135</td>\n",
              "    </tr>\n",
              "    <tr>\n",
              "      <th>1_pct</th>\n",
              "      <td>49</td>\n",
              "    </tr>\n",
              "    <tr>\n",
              "      <th>2_pct</th>\n",
              "      <td>1.7</td>\n",
              "    </tr>\n",
              "    <tr>\n",
              "      <th>3_pct</th>\n",
              "      <td>1.7</td>\n",
              "    </tr>\n",
              "    <tr>\n",
              "      <th>4_pct</th>\n",
              "      <td>0.7</td>\n",
              "    </tr>\n",
              "    <tr>\n",
              "      <th>5_pct</th>\n",
              "      <td>1.7</td>\n",
              "    </tr>\n",
              "    <tr>\n",
              "      <th>6_pct</th>\n",
              "      <td>1.7</td>\n",
              "    </tr>\n",
              "    <tr>\n",
              "      <th>7_pct</th>\n",
              "      <td>2.7</td>\n",
              "    </tr>\n",
              "    <tr>\n",
              "      <th>8_pct</th>\n",
              "      <td>2</td>\n",
              "    </tr>\n",
              "    <tr>\n",
              "      <th>9_pct</th>\n",
              "      <td>5</td>\n",
              "    </tr>\n",
              "    <tr>\n",
              "      <th>10_pct</th>\n",
              "      <td>33.6</td>\n",
              "    </tr>\n",
              "  </tbody>\n",
              "</table>\n",
              "</div>"
            ],
            "text/plain": [
              "                                                            0\n",
              "timestamp                          2017-07-17 12:28:32.785639\n",
              "respondents                                               402\n",
              "category                                                Males\n",
              "link         http://www.imdb.com/title/tt6322922/ratings-male\n",
              "average                                                   4.6\n",
              "mean                                                        5\n",
              "median                                                      2\n",
              "1_votes                                                   197\n",
              "2_votes                                                     7\n",
              "3_votes                                                     7\n",
              "4_votes                                                     3\n",
              "5_votes                                                     7\n",
              "6_votes                                                     7\n",
              "7_votes                                                    11\n",
              "8_votes                                                     8\n",
              "9_votes                                                    20\n",
              "10_votes                                                  135\n",
              "1_pct                                                      49\n",
              "2_pct                                                     1.7\n",
              "3_pct                                                     1.7\n",
              "4_pct                                                     0.7\n",
              "5_pct                                                     1.7\n",
              "6_pct                                                     1.7\n",
              "7_pct                                                     2.7\n",
              "8_pct                                                       2\n",
              "9_pct                                                       5\n",
              "10_pct                                                   33.6"
            ]
          },
          "metadata": {
            "tags": []
          },
          "execution_count": 33
        }
      ]
    },
    {
      "metadata": {
        "id": "1OASLdx_DzOo",
        "colab_type": "code",
        "colab": {
          "base_uri": "https://localhost:8080/",
          "height": 102
        },
        "outputId": "a543acee-92df-4193-d1f0-4ad6ee569ea9"
      },
      "cell_type": "code",
      "source": [
        "df.timestamp.describe()"
      ],
      "execution_count": 35,
      "outputs": [
        {
          "output_type": "execute_result",
          "data": {
            "text/plain": [
              "count                          80053\n",
              "unique                         80053\n",
              "top       2017-08-18 13:50:05.641163\n",
              "freq                               1\n",
              "Name: timestamp, dtype: object"
            ]
          },
          "metadata": {
            "tags": []
          },
          "execution_count": 35
        }
      ]
    },
    {
      "metadata": {
        "id": "879spHloD-Oj",
        "colab_type": "code",
        "colab": {
          "base_uri": "https://localhost:8080/",
          "height": 136
        },
        "outputId": "ca19b602-56e9-4d7d-eb84-571216838ba5"
      },
      "cell_type": "code",
      "source": [
        "# to convert timestamp from dtype object to datetime object, \n",
        "# so that datetime object sort according to time\n",
        "\n",
        "df.timestamp = pd.to_datetime(df.timestamp)\n",
        "df.timestamp.describe()"
      ],
      "execution_count": 39,
      "outputs": [
        {
          "output_type": "execute_result",
          "data": {
            "text/plain": [
              "count                          80053\n",
              "unique                         80053\n",
              "top       2017-07-24 23:00:02.760781\n",
              "freq                               1\n",
              "first     2017-07-17 12:28:32.785639\n",
              "last      2017-08-29 23:10:06.218251\n",
              "Name: timestamp, dtype: object"
            ]
          },
          "metadata": {
            "tags": []
          },
          "execution_count": 39
        }
      ]
    },
    {
      "metadata": {
        "id": "bi2nMubrEqOx",
        "colab_type": "code",
        "colab": {}
      },
      "cell_type": "code",
      "source": [
        "# make timestamp as an index\n",
        "df.set_index('timestamp', inplace=True)"
      ],
      "execution_count": 0,
      "outputs": []
    },
    {
      "metadata": {
        "id": "Lfg2fTkpFREB",
        "colab_type": "code",
        "colab": {
          "base_uri": "https://localhost:8080/",
          "height": 340
        },
        "outputId": "6f521119-09cd-410a-f2e9-2636a0d8266b"
      },
      "cell_type": "code",
      "source": [
        "# pandas allow pattern matching on index\n",
        "df['2017-08-29'].head()"
      ],
      "execution_count": 50,
      "outputs": [
        {
          "output_type": "execute_result",
          "data": {
            "text/html": [
              "<div>\n",
              "<style scoped>\n",
              "    .dataframe tbody tr th:only-of-type {\n",
              "        vertical-align: middle;\n",
              "    }\n",
              "\n",
              "    .dataframe tbody tr th {\n",
              "        vertical-align: top;\n",
              "    }\n",
              "\n",
              "    .dataframe thead th {\n",
              "        text-align: right;\n",
              "    }\n",
              "</style>\n",
              "<table border=\"1\" class=\"dataframe\">\n",
              "  <thead>\n",
              "    <tr style=\"text-align: right;\">\n",
              "      <th></th>\n",
              "      <th>respondents</th>\n",
              "      <th>category</th>\n",
              "      <th>link</th>\n",
              "      <th>average</th>\n",
              "      <th>mean</th>\n",
              "      <th>median</th>\n",
              "      <th>1_votes</th>\n",
              "      <th>2_votes</th>\n",
              "      <th>3_votes</th>\n",
              "      <th>4_votes</th>\n",
              "      <th>5_votes</th>\n",
              "      <th>6_votes</th>\n",
              "      <th>7_votes</th>\n",
              "      <th>8_votes</th>\n",
              "      <th>9_votes</th>\n",
              "      <th>10_votes</th>\n",
              "      <th>1_pct</th>\n",
              "      <th>2_pct</th>\n",
              "      <th>3_pct</th>\n",
              "      <th>4_pct</th>\n",
              "      <th>5_pct</th>\n",
              "      <th>6_pct</th>\n",
              "      <th>7_pct</th>\n",
              "      <th>8_pct</th>\n",
              "      <th>9_pct</th>\n",
              "      <th>10_pct</th>\n",
              "    </tr>\n",
              "    <tr>\n",
              "      <th>timestamp</th>\n",
              "      <th></th>\n",
              "      <th></th>\n",
              "      <th></th>\n",
              "      <th></th>\n",
              "      <th></th>\n",
              "      <th></th>\n",
              "      <th></th>\n",
              "      <th></th>\n",
              "      <th></th>\n",
              "      <th></th>\n",
              "      <th></th>\n",
              "      <th></th>\n",
              "      <th></th>\n",
              "      <th></th>\n",
              "      <th></th>\n",
              "      <th></th>\n",
              "      <th></th>\n",
              "      <th></th>\n",
              "      <th></th>\n",
              "      <th></th>\n",
              "      <th></th>\n",
              "      <th></th>\n",
              "      <th></th>\n",
              "      <th></th>\n",
              "      <th></th>\n",
              "      <th></th>\n",
              "    </tr>\n",
              "  </thead>\n",
              "  <tbody>\n",
              "    <tr>\n",
              "      <th>2017-08-29 00:00:02.248882</th>\n",
              "      <td>1682</td>\n",
              "      <td>Males</td>\n",
              "      <td>http://www.imdb.com/title/tt6322922/ratings-male</td>\n",
              "      <td>5.3</td>\n",
              "      <td>5.3</td>\n",
              "      <td>6</td>\n",
              "      <td>671</td>\n",
              "      <td>50</td>\n",
              "      <td>29</td>\n",
              "      <td>12</td>\n",
              "      <td>42</td>\n",
              "      <td>79</td>\n",
              "      <td>107</td>\n",
              "      <td>90</td>\n",
              "      <td>83</td>\n",
              "      <td>519</td>\n",
              "      <td>39.9</td>\n",
              "      <td>3.0</td>\n",
              "      <td>1.7</td>\n",
              "      <td>0.7</td>\n",
              "      <td>2.5</td>\n",
              "      <td>4.7</td>\n",
              "      <td>6.4</td>\n",
              "      <td>5.4</td>\n",
              "      <td>4.9</td>\n",
              "      <td>30.9</td>\n",
              "    </tr>\n",
              "    <tr>\n",
              "      <th>2017-08-29 00:00:02.499363</th>\n",
              "      <td>257</td>\n",
              "      <td>Females</td>\n",
              "      <td>http://www.imdb.com/title/tt6322922/ratings-fe...</td>\n",
              "      <td>6.9</td>\n",
              "      <td>7.3</td>\n",
              "      <td>10</td>\n",
              "      <td>53</td>\n",
              "      <td>3</td>\n",
              "      <td>4</td>\n",
              "      <td>4</td>\n",
              "      <td>4</td>\n",
              "      <td>5</td>\n",
              "      <td>14</td>\n",
              "      <td>13</td>\n",
              "      <td>26</td>\n",
              "      <td>131</td>\n",
              "      <td>20.6</td>\n",
              "      <td>1.2</td>\n",
              "      <td>1.6</td>\n",
              "      <td>1.6</td>\n",
              "      <td>1.6</td>\n",
              "      <td>1.9</td>\n",
              "      <td>5.4</td>\n",
              "      <td>5.1</td>\n",
              "      <td>10.1</td>\n",
              "      <td>51.0</td>\n",
              "    </tr>\n",
              "    <tr>\n",
              "      <th>2017-08-29 00:00:02.727204</th>\n",
              "      <td>15</td>\n",
              "      <td>Aged under 18</td>\n",
              "      <td>http://www.imdb.com/title/tt6322922/ratings-age_1</td>\n",
              "      <td>4.5</td>\n",
              "      <td>5.3</td>\n",
              "      <td>5</td>\n",
              "      <td>7</td>\n",
              "      <td>0</td>\n",
              "      <td>0</td>\n",
              "      <td>0</td>\n",
              "      <td>1</td>\n",
              "      <td>0</td>\n",
              "      <td>1</td>\n",
              "      <td>0</td>\n",
              "      <td>0</td>\n",
              "      <td>6</td>\n",
              "      <td>46.7</td>\n",
              "      <td>0.0</td>\n",
              "      <td>0.0</td>\n",
              "      <td>0.0</td>\n",
              "      <td>6.7</td>\n",
              "      <td>0.0</td>\n",
              "      <td>6.7</td>\n",
              "      <td>0.0</td>\n",
              "      <td>0.0</td>\n",
              "      <td>40.0</td>\n",
              "    </tr>\n",
              "    <tr>\n",
              "      <th>2017-08-29 00:00:03.024270</th>\n",
              "      <td>13</td>\n",
              "      <td>Males under 18</td>\n",
              "      <td>http://www.imdb.com/title/tt6322922/ratings-ma...</td>\n",
              "      <td>5.3</td>\n",
              "      <td>5.9</td>\n",
              "      <td>7</td>\n",
              "      <td>5</td>\n",
              "      <td>0</td>\n",
              "      <td>0</td>\n",
              "      <td>0</td>\n",
              "      <td>1</td>\n",
              "      <td>0</td>\n",
              "      <td>1</td>\n",
              "      <td>0</td>\n",
              "      <td>0</td>\n",
              "      <td>6</td>\n",
              "      <td>38.5</td>\n",
              "      <td>0.0</td>\n",
              "      <td>0.0</td>\n",
              "      <td>0.0</td>\n",
              "      <td>7.7</td>\n",
              "      <td>0.0</td>\n",
              "      <td>7.7</td>\n",
              "      <td>0.0</td>\n",
              "      <td>0.0</td>\n",
              "      <td>46.2</td>\n",
              "    </tr>\n",
              "    <tr>\n",
              "      <th>2017-08-29 00:00:03.248207</th>\n",
              "      <td>2</td>\n",
              "      <td>Females under 18</td>\n",
              "      <td>http://www.imdb.com/title/tt6322922/ratings-fe...</td>\n",
              "      <td>1.0</td>\n",
              "      <td>1.0</td>\n",
              "      <td>1</td>\n",
              "      <td>2</td>\n",
              "      <td>0</td>\n",
              "      <td>0</td>\n",
              "      <td>0</td>\n",
              "      <td>0</td>\n",
              "      <td>0</td>\n",
              "      <td>0</td>\n",
              "      <td>0</td>\n",
              "      <td>0</td>\n",
              "      <td>0</td>\n",
              "      <td>100.0</td>\n",
              "      <td>0.0</td>\n",
              "      <td>0.0</td>\n",
              "      <td>0.0</td>\n",
              "      <td>0.0</td>\n",
              "      <td>0.0</td>\n",
              "      <td>0.0</td>\n",
              "      <td>0.0</td>\n",
              "      <td>0.0</td>\n",
              "      <td>0.0</td>\n",
              "    </tr>\n",
              "  </tbody>\n",
              "</table>\n",
              "</div>"
            ],
            "text/plain": [
              "                            respondents          category  \\\n",
              "timestamp                                                   \n",
              "2017-08-29 00:00:02.248882         1682             Males   \n",
              "2017-08-29 00:00:02.499363          257           Females   \n",
              "2017-08-29 00:00:02.727204           15     Aged under 18   \n",
              "2017-08-29 00:00:03.024270           13    Males under 18   \n",
              "2017-08-29 00:00:03.248207            2  Females under 18   \n",
              "\n",
              "                                                                         link  \\\n",
              "timestamp                                                                       \n",
              "2017-08-29 00:00:02.248882   http://www.imdb.com/title/tt6322922/ratings-male   \n",
              "2017-08-29 00:00:02.499363  http://www.imdb.com/title/tt6322922/ratings-fe...   \n",
              "2017-08-29 00:00:02.727204  http://www.imdb.com/title/tt6322922/ratings-age_1   \n",
              "2017-08-29 00:00:03.024270  http://www.imdb.com/title/tt6322922/ratings-ma...   \n",
              "2017-08-29 00:00:03.248207  http://www.imdb.com/title/tt6322922/ratings-fe...   \n",
              "\n",
              "                            average  mean  median  1_votes  2_votes  3_votes  \\\n",
              "timestamp                                                                      \n",
              "2017-08-29 00:00:02.248882      5.3   5.3       6      671       50       29   \n",
              "2017-08-29 00:00:02.499363      6.9   7.3      10       53        3        4   \n",
              "2017-08-29 00:00:02.727204      4.5   5.3       5        7        0        0   \n",
              "2017-08-29 00:00:03.024270      5.3   5.9       7        5        0        0   \n",
              "2017-08-29 00:00:03.248207      1.0   1.0       1        2        0        0   \n",
              "\n",
              "                            4_votes  5_votes  6_votes  7_votes  8_votes  \\\n",
              "timestamp                                                                 \n",
              "2017-08-29 00:00:02.248882       12       42       79      107       90   \n",
              "2017-08-29 00:00:02.499363        4        4        5       14       13   \n",
              "2017-08-29 00:00:02.727204        0        1        0        1        0   \n",
              "2017-08-29 00:00:03.024270        0        1        0        1        0   \n",
              "2017-08-29 00:00:03.248207        0        0        0        0        0   \n",
              "\n",
              "                            9_votes  10_votes  1_pct  2_pct  3_pct  4_pct  \\\n",
              "timestamp                                                                   \n",
              "2017-08-29 00:00:02.248882       83       519   39.9    3.0    1.7    0.7   \n",
              "2017-08-29 00:00:02.499363       26       131   20.6    1.2    1.6    1.6   \n",
              "2017-08-29 00:00:02.727204        0         6   46.7    0.0    0.0    0.0   \n",
              "2017-08-29 00:00:03.024270        0         6   38.5    0.0    0.0    0.0   \n",
              "2017-08-29 00:00:03.248207        0         0  100.0    0.0    0.0    0.0   \n",
              "\n",
              "                            5_pct  6_pct  7_pct  8_pct  9_pct  10_pct  \n",
              "timestamp                                                              \n",
              "2017-08-29 00:00:02.248882    2.5    4.7    6.4    5.4    4.9    30.9  \n",
              "2017-08-29 00:00:02.499363    1.6    1.9    5.4    5.1   10.1    51.0  \n",
              "2017-08-29 00:00:02.727204    6.7    0.0    6.7    0.0    0.0    40.0  \n",
              "2017-08-29 00:00:03.024270    7.7    0.0    7.7    0.0    0.0    46.2  \n",
              "2017-08-29 00:00:03.248207    0.0    0.0    0.0    0.0    0.0     0.0  "
            ]
          },
          "metadata": {
            "tags": []
          },
          "execution_count": 50
        }
      ]
    },
    {
      "metadata": {
        "id": "x8Eb6uiAFy39",
        "colab_type": "code",
        "colab": {
          "base_uri": "https://localhost:8080/",
          "height": 340
        },
        "outputId": "52378ae4-3166-40b9-902d-2b24e13ce019"
      },
      "cell_type": "code",
      "source": [
        "# to explore distinct categorical value, use value_counts\n",
        "#df.category.value_counts()\n",
        "#df.link.value_counts()\n",
        "\n",
        "# using pandas string pattern to filter category\n",
        "df[df.category == 'IMDb users'].tail()\n"
      ],
      "execution_count": 51,
      "outputs": [
        {
          "output_type": "execute_result",
          "data": {
            "text/html": [
              "<div>\n",
              "<style scoped>\n",
              "    .dataframe tbody tr th:only-of-type {\n",
              "        vertical-align: middle;\n",
              "    }\n",
              "\n",
              "    .dataframe tbody tr th {\n",
              "        vertical-align: top;\n",
              "    }\n",
              "\n",
              "    .dataframe thead th {\n",
              "        text-align: right;\n",
              "    }\n",
              "</style>\n",
              "<table border=\"1\" class=\"dataframe\">\n",
              "  <thead>\n",
              "    <tr style=\"text-align: right;\">\n",
              "      <th></th>\n",
              "      <th>respondents</th>\n",
              "      <th>category</th>\n",
              "      <th>link</th>\n",
              "      <th>average</th>\n",
              "      <th>mean</th>\n",
              "      <th>median</th>\n",
              "      <th>1_votes</th>\n",
              "      <th>2_votes</th>\n",
              "      <th>3_votes</th>\n",
              "      <th>4_votes</th>\n",
              "      <th>5_votes</th>\n",
              "      <th>6_votes</th>\n",
              "      <th>7_votes</th>\n",
              "      <th>8_votes</th>\n",
              "      <th>9_votes</th>\n",
              "      <th>10_votes</th>\n",
              "      <th>1_pct</th>\n",
              "      <th>2_pct</th>\n",
              "      <th>3_pct</th>\n",
              "      <th>4_pct</th>\n",
              "      <th>5_pct</th>\n",
              "      <th>6_pct</th>\n",
              "      <th>7_pct</th>\n",
              "      <th>8_pct</th>\n",
              "      <th>9_pct</th>\n",
              "      <th>10_pct</th>\n",
              "    </tr>\n",
              "    <tr>\n",
              "      <th>timestamp</th>\n",
              "      <th></th>\n",
              "      <th></th>\n",
              "      <th></th>\n",
              "      <th></th>\n",
              "      <th></th>\n",
              "      <th></th>\n",
              "      <th></th>\n",
              "      <th></th>\n",
              "      <th></th>\n",
              "      <th></th>\n",
              "      <th></th>\n",
              "      <th></th>\n",
              "      <th></th>\n",
              "      <th></th>\n",
              "      <th></th>\n",
              "      <th></th>\n",
              "      <th></th>\n",
              "      <th></th>\n",
              "      <th></th>\n",
              "      <th></th>\n",
              "      <th></th>\n",
              "      <th></th>\n",
              "      <th></th>\n",
              "      <th></th>\n",
              "      <th></th>\n",
              "      <th></th>\n",
              "    </tr>\n",
              "  </thead>\n",
              "  <tbody>\n",
              "    <tr>\n",
              "      <th>2017-08-29 22:30:06.423181</th>\n",
              "      <td>2662</td>\n",
              "      <td>IMDb users</td>\n",
              "      <td>http://www.imdb.com/title/tt6322922/ratings</td>\n",
              "      <td>5.4</td>\n",
              "      <td>5.6</td>\n",
              "      <td>7</td>\n",
              "      <td>1021</td>\n",
              "      <td>69</td>\n",
              "      <td>38</td>\n",
              "      <td>25</td>\n",
              "      <td>55</td>\n",
              "      <td>110</td>\n",
              "      <td>154</td>\n",
              "      <td>147</td>\n",
              "      <td>146</td>\n",
              "      <td>897</td>\n",
              "      <td>38.4</td>\n",
              "      <td>2.6</td>\n",
              "      <td>1.4</td>\n",
              "      <td>0.9</td>\n",
              "      <td>2.1</td>\n",
              "      <td>4.1</td>\n",
              "      <td>5.8</td>\n",
              "      <td>5.5</td>\n",
              "      <td>5.5</td>\n",
              "      <td>33.7</td>\n",
              "    </tr>\n",
              "    <tr>\n",
              "      <th>2017-08-29 22:40:06.233659</th>\n",
              "      <td>2662</td>\n",
              "      <td>IMDb users</td>\n",
              "      <td>http://www.imdb.com/title/tt6322922/ratings</td>\n",
              "      <td>5.4</td>\n",
              "      <td>5.6</td>\n",
              "      <td>7</td>\n",
              "      <td>1021</td>\n",
              "      <td>69</td>\n",
              "      <td>38</td>\n",
              "      <td>25</td>\n",
              "      <td>55</td>\n",
              "      <td>110</td>\n",
              "      <td>154</td>\n",
              "      <td>147</td>\n",
              "      <td>146</td>\n",
              "      <td>897</td>\n",
              "      <td>38.4</td>\n",
              "      <td>2.6</td>\n",
              "      <td>1.4</td>\n",
              "      <td>0.9</td>\n",
              "      <td>2.1</td>\n",
              "      <td>4.1</td>\n",
              "      <td>5.8</td>\n",
              "      <td>5.5</td>\n",
              "      <td>5.5</td>\n",
              "      <td>33.7</td>\n",
              "    </tr>\n",
              "    <tr>\n",
              "      <th>2017-08-29 22:50:06.592571</th>\n",
              "      <td>2662</td>\n",
              "      <td>IMDb users</td>\n",
              "      <td>http://www.imdb.com/title/tt6322922/ratings</td>\n",
              "      <td>5.4</td>\n",
              "      <td>5.6</td>\n",
              "      <td>7</td>\n",
              "      <td>1021</td>\n",
              "      <td>69</td>\n",
              "      <td>38</td>\n",
              "      <td>25</td>\n",
              "      <td>55</td>\n",
              "      <td>110</td>\n",
              "      <td>154</td>\n",
              "      <td>147</td>\n",
              "      <td>146</td>\n",
              "      <td>897</td>\n",
              "      <td>38.4</td>\n",
              "      <td>2.6</td>\n",
              "      <td>1.4</td>\n",
              "      <td>0.9</td>\n",
              "      <td>2.1</td>\n",
              "      <td>4.1</td>\n",
              "      <td>5.8</td>\n",
              "      <td>5.5</td>\n",
              "      <td>5.5</td>\n",
              "      <td>33.7</td>\n",
              "    </tr>\n",
              "    <tr>\n",
              "      <th>2017-08-29 23:00:05.829558</th>\n",
              "      <td>2662</td>\n",
              "      <td>IMDb users</td>\n",
              "      <td>http://www.imdb.com/title/tt6322922/ratings</td>\n",
              "      <td>5.4</td>\n",
              "      <td>5.6</td>\n",
              "      <td>7</td>\n",
              "      <td>1021</td>\n",
              "      <td>69</td>\n",
              "      <td>38</td>\n",
              "      <td>25</td>\n",
              "      <td>55</td>\n",
              "      <td>110</td>\n",
              "      <td>154</td>\n",
              "      <td>147</td>\n",
              "      <td>146</td>\n",
              "      <td>897</td>\n",
              "      <td>38.4</td>\n",
              "      <td>2.6</td>\n",
              "      <td>1.4</td>\n",
              "      <td>0.9</td>\n",
              "      <td>2.1</td>\n",
              "      <td>4.1</td>\n",
              "      <td>5.8</td>\n",
              "      <td>5.5</td>\n",
              "      <td>5.5</td>\n",
              "      <td>33.7</td>\n",
              "    </tr>\n",
              "    <tr>\n",
              "      <th>2017-08-29 23:10:06.218251</th>\n",
              "      <td>2662</td>\n",
              "      <td>IMDb users</td>\n",
              "      <td>http://www.imdb.com/title/tt6322922/ratings</td>\n",
              "      <td>5.4</td>\n",
              "      <td>5.6</td>\n",
              "      <td>7</td>\n",
              "      <td>1021</td>\n",
              "      <td>69</td>\n",
              "      <td>38</td>\n",
              "      <td>25</td>\n",
              "      <td>55</td>\n",
              "      <td>110</td>\n",
              "      <td>154</td>\n",
              "      <td>147</td>\n",
              "      <td>146</td>\n",
              "      <td>897</td>\n",
              "      <td>38.4</td>\n",
              "      <td>2.6</td>\n",
              "      <td>1.4</td>\n",
              "      <td>0.9</td>\n",
              "      <td>2.1</td>\n",
              "      <td>4.1</td>\n",
              "      <td>5.8</td>\n",
              "      <td>5.5</td>\n",
              "      <td>5.5</td>\n",
              "      <td>33.7</td>\n",
              "    </tr>\n",
              "  </tbody>\n",
              "</table>\n",
              "</div>"
            ],
            "text/plain": [
              "                            respondents    category  \\\n",
              "timestamp                                             \n",
              "2017-08-29 22:30:06.423181         2662  IMDb users   \n",
              "2017-08-29 22:40:06.233659         2662  IMDb users   \n",
              "2017-08-29 22:50:06.592571         2662  IMDb users   \n",
              "2017-08-29 23:00:05.829558         2662  IMDb users   \n",
              "2017-08-29 23:10:06.218251         2662  IMDb users   \n",
              "\n",
              "                                                                   link  \\\n",
              "timestamp                                                                 \n",
              "2017-08-29 22:30:06.423181  http://www.imdb.com/title/tt6322922/ratings   \n",
              "2017-08-29 22:40:06.233659  http://www.imdb.com/title/tt6322922/ratings   \n",
              "2017-08-29 22:50:06.592571  http://www.imdb.com/title/tt6322922/ratings   \n",
              "2017-08-29 23:00:05.829558  http://www.imdb.com/title/tt6322922/ratings   \n",
              "2017-08-29 23:10:06.218251  http://www.imdb.com/title/tt6322922/ratings   \n",
              "\n",
              "                            average  mean  median  1_votes  2_votes  3_votes  \\\n",
              "timestamp                                                                      \n",
              "2017-08-29 22:30:06.423181      5.4   5.6       7     1021       69       38   \n",
              "2017-08-29 22:40:06.233659      5.4   5.6       7     1021       69       38   \n",
              "2017-08-29 22:50:06.592571      5.4   5.6       7     1021       69       38   \n",
              "2017-08-29 23:00:05.829558      5.4   5.6       7     1021       69       38   \n",
              "2017-08-29 23:10:06.218251      5.4   5.6       7     1021       69       38   \n",
              "\n",
              "                            4_votes  5_votes  6_votes  7_votes  8_votes  \\\n",
              "timestamp                                                                 \n",
              "2017-08-29 22:30:06.423181       25       55      110      154      147   \n",
              "2017-08-29 22:40:06.233659       25       55      110      154      147   \n",
              "2017-08-29 22:50:06.592571       25       55      110      154      147   \n",
              "2017-08-29 23:00:05.829558       25       55      110      154      147   \n",
              "2017-08-29 23:10:06.218251       25       55      110      154      147   \n",
              "\n",
              "                            9_votes  10_votes  1_pct  2_pct  3_pct  4_pct  \\\n",
              "timestamp                                                                   \n",
              "2017-08-29 22:30:06.423181      146       897   38.4    2.6    1.4    0.9   \n",
              "2017-08-29 22:40:06.233659      146       897   38.4    2.6    1.4    0.9   \n",
              "2017-08-29 22:50:06.592571      146       897   38.4    2.6    1.4    0.9   \n",
              "2017-08-29 23:00:05.829558      146       897   38.4    2.6    1.4    0.9   \n",
              "2017-08-29 23:10:06.218251      146       897   38.4    2.6    1.4    0.9   \n",
              "\n",
              "                            5_pct  6_pct  7_pct  8_pct  9_pct  10_pct  \n",
              "timestamp                                                              \n",
              "2017-08-29 22:30:06.423181    2.1    4.1    5.8    5.5    5.5    33.7  \n",
              "2017-08-29 22:40:06.233659    2.1    4.1    5.8    5.5    5.5    33.7  \n",
              "2017-08-29 22:50:06.592571    2.1    4.1    5.8    5.5    5.5    33.7  \n",
              "2017-08-29 23:00:05.829558    2.1    4.1    5.8    5.5    5.5    33.7  \n",
              "2017-08-29 23:10:06.218251    2.1    4.1    5.8    5.5    5.5    33.7  "
            ]
          },
          "metadata": {
            "tags": []
          },
          "execution_count": 51
        }
      ]
    },
    {
      "metadata": {
        "id": "GbAWl3g0HaB6",
        "colab_type": "code",
        "colab": {}
      },
      "cell_type": "code",
      "source": [
        "# extract last day 8/29/17 based on timestamp from datasource\n",
        "lastday = df['2017-08-29']"
      ],
      "execution_count": 0,
      "outputs": []
    },
    {
      "metadata": {
        "id": "EA3JNSXfIL74",
        "colab_type": "code",
        "colab": {
          "base_uri": "https://localhost:8080/",
          "height": 281
        },
        "outputId": "eed3c459-c5e6-4fd7-f8ff-c69e601f24a0"
      },
      "cell_type": "code",
      "source": [
        "# lastday 8/29/17 IMBd users voting by hours\n",
        "lastday[lastday.category == 'IMDb users'].respondents.plot();"
      ],
      "execution_count": 53,
      "outputs": [
        {
          "output_type": "display_data",
          "data": {
            "image/png": "[encoded data removed]",
            "text/plain": [
              "<matplotlib.figure.Figure at 0x7f0b0be984e0>"
            ]
          },
          "metadata": {
            "tags": []
          }
        }
      ]
    },
    {
      "metadata": {
        "id": "AYan4-FDI9-b",
        "colab_type": "code",
        "colab": {
          "base_uri": "https://localhost:8080/",
          "height": 111
        },
        "outputId": "cbfd5f97-08b0-4c2e-fe2a-70fc9b74ba84"
      },
      "cell_type": "code",
      "source": [
        "# extract the last index of data because it contained the final percentage of voting.\n",
        "final = df.tail(1)\n",
        "\n",
        "columns = ['1_pct', '2_pct', '3_pct', '4_pct', '5_pct', \n",
        "           '6_pct', '7_pct', '8_pct', '9_pct', '10_pct']\n",
        "\n",
        "final[columns]"
      ],
      "execution_count": 54,
      "outputs": [
        {
          "output_type": "execute_result",
          "data": {
            "text/html": [
              "<div>\n",
              "<style scoped>\n",
              "    .dataframe tbody tr th:only-of-type {\n",
              "        vertical-align: middle;\n",
              "    }\n",
              "\n",
              "    .dataframe tbody tr th {\n",
              "        vertical-align: top;\n",
              "    }\n",
              "\n",
              "    .dataframe thead th {\n",
              "        text-align: right;\n",
              "    }\n",
              "</style>\n",
              "<table border=\"1\" class=\"dataframe\">\n",
              "  <thead>\n",
              "    <tr style=\"text-align: right;\">\n",
              "      <th></th>\n",
              "      <th>1_pct</th>\n",
              "      <th>2_pct</th>\n",
              "      <th>3_pct</th>\n",
              "      <th>4_pct</th>\n",
              "      <th>5_pct</th>\n",
              "      <th>6_pct</th>\n",
              "      <th>7_pct</th>\n",
              "      <th>8_pct</th>\n",
              "      <th>9_pct</th>\n",
              "      <th>10_pct</th>\n",
              "    </tr>\n",
              "    <tr>\n",
              "      <th>timestamp</th>\n",
              "      <th></th>\n",
              "      <th></th>\n",
              "      <th></th>\n",
              "      <th></th>\n",
              "      <th></th>\n",
              "      <th></th>\n",
              "      <th></th>\n",
              "      <th></th>\n",
              "      <th></th>\n",
              "      <th></th>\n",
              "    </tr>\n",
              "  </thead>\n",
              "  <tbody>\n",
              "    <tr>\n",
              "      <th>2017-08-29 23:10:06.218251</th>\n",
              "      <td>38.4</td>\n",
              "      <td>2.6</td>\n",
              "      <td>1.4</td>\n",
              "      <td>0.9</td>\n",
              "      <td>2.1</td>\n",
              "      <td>4.1</td>\n",
              "      <td>5.8</td>\n",
              "      <td>5.5</td>\n",
              "      <td>5.5</td>\n",
              "      <td>33.7</td>\n",
              "    </tr>\n",
              "  </tbody>\n",
              "</table>\n",
              "</div>"
            ],
            "text/plain": [
              "                            1_pct  2_pct  3_pct  4_pct  5_pct  6_pct  7_pct  \\\n",
              "timestamp                                                                     \n",
              "2017-08-29 23:10:06.218251   38.4    2.6    1.4    0.9    2.1    4.1    5.8   \n",
              "\n",
              "                            8_pct  9_pct  10_pct  \n",
              "timestamp                                         \n",
              "2017-08-29 23:10:06.218251    5.5    5.5    33.7  "
            ]
          },
          "metadata": {
            "tags": []
          },
          "execution_count": 54
        }
      ]
    },
    {
      "metadata": {
        "id": "p9JNB2RLpZ6g",
        "colab_type": "code",
        "colab": {
          "base_uri": "https://localhost:8080/",
          "height": 204
        },
        "outputId": "24de7cbc-49b2-4d10-9db7-8cd7923ebadc"
      },
      "cell_type": "code",
      "source": [
        "final[columns].iloc[0]"
      ],
      "execution_count": 135,
      "outputs": [
        {
          "output_type": "execute_result",
          "data": {
            "text/plain": [
              "1_pct     38.4\n",
              "2_pct      2.6\n",
              "3_pct      1.4\n",
              "4_pct      0.9\n",
              "5_pct      2.1\n",
              "6_pct      4.1\n",
              "7_pct      5.8\n",
              "8_pct      5.5\n",
              "9_pct      5.5\n",
              "10_pct    33.7\n",
              "Name: 2017-08-29 23:10:06.218251, dtype: float64"
            ]
          },
          "metadata": {
            "tags": []
          },
          "execution_count": 135
        }
      ]
    },
    {
      "metadata": {
        "id": "gYEWsl6JpxPV",
        "colab_type": "code",
        "colab": {
          "base_uri": "https://localhost:8080/",
          "height": 34
        },
        "outputId": "93c7a736-7f7c-432a-c693-441883d84422"
      },
      "cell_type": "code",
      "source": [
        "type(final[columns])"
      ],
      "execution_count": 140,
      "outputs": [
        {
          "output_type": "execute_result",
          "data": {
            "text/plain": [
              "pandas.core.frame.DataFrame"
            ]
          },
          "metadata": {
            "tags": []
          },
          "execution_count": 140
        }
      ]
    },
    {
      "metadata": {
        "id": "7Qj3N4bqp1Rr",
        "colab_type": "code",
        "colab": {
          "base_uri": "https://localhost:8080/",
          "height": 34
        },
        "outputId": "39ba6d2a-c6eb-40f7-b9a2-8210d402494d"
      },
      "cell_type": "code",
      "source": [
        "type(final[columns].iloc[0])"
      ],
      "execution_count": 138,
      "outputs": [
        {
          "output_type": "execute_result",
          "data": {
            "text/plain": [
              "pandas.core.series.Series"
            ]
          },
          "metadata": {
            "tags": []
          },
          "execution_count": 138
        }
      ]
    },
    {
      "metadata": {
        "id": "OZejXoZPm4YL",
        "colab_type": "code",
        "colab": {}
      },
      "cell_type": "code",
      "source": [
        "final_series=final[columns].iloc[0]\n",
        "final_series.index = range(1,11)\n"
      ],
      "execution_count": 0,
      "outputs": []
    },
    {
      "metadata": {
        "id": "eDmACXdMkvZk",
        "colab_type": "code",
        "colab": {
          "base_uri": "https://localhost:8080/",
          "height": 34
        },
        "outputId": "a5ff00ee-c992-4739-ab2a-d9003e488701"
      },
      "cell_type": "code",
      "source": [
        "type(fake)"
      ],
      "execution_count": 112,
      "outputs": [
        {
          "output_type": "execute_result",
          "data": {
            "text/plain": [
              "pandas.core.series.Series"
            ]
          },
          "metadata": {
            "tags": []
          },
          "execution_count": 112
        }
      ]
    },
    {
      "metadata": {
        "id": "iCwqDCtxL_g_",
        "colab_type": "code",
        "colab": {}
      },
      "cell_type": "code",
      "source": [
        "# to highlight important data from non-immportant data\n",
        "colors = ['#333333'] * 10"
      ],
      "execution_count": 0,
      "outputs": []
    },
    {
      "metadata": {
        "id": "GXv2MhXfMbLw",
        "colab_type": "code",
        "colab": {
          "base_uri": "https://localhost:8080/",
          "height": 187
        },
        "outputId": "dde5cc30-54fe-4c25-c227-7b6836aa00be"
      },
      "cell_type": "code",
      "source": [
        "#colors.sex_index(range(1,11), inplace=True)\n",
        "colors[0] = '#EC713B'   # first bar chart\n",
        "colors[-1] = '#EC713B'  #last bar chart\n",
        "colors"
      ],
      "execution_count": 133,
      "outputs": [
        {
          "output_type": "execute_result",
          "data": {
            "text/plain": [
              "['#EC713B',\n",
              " '#333333',\n",
              " '#333333',\n",
              " '#333333',\n",
              " '#333333',\n",
              " '#333333',\n",
              " '#333333',\n",
              " '#333333',\n",
              " '#333333',\n",
              " '#EC713B']"
            ]
          },
          "metadata": {
            "tags": []
          },
          "execution_count": 133
        }
      ]
    },
    {
      "metadata": {
        "id": "3-lUjLKJLXXw",
        "colab_type": "code",
        "colab": {
          "base_uri": "https://localhost:8080/",
          "height": 339
        },
        "outputId": "ff8fc93e-20d4-4396-8e2c-0ba2bd2ae792"
      },
      "cell_type": "code",
      "source": [
        "# reproduce Inconvenient Truth using xdata based on accumulative percentage from real data\n",
        "\n",
        "plt.style.use('fivethirtyeight')\n",
        "\n",
        "final_series=final[columns].iloc[0]\n",
        "final_series.index = range(1,11)\n",
        "\n",
        "#ax = show highlight callout\n",
        "ax = final_series.plot.bar(color=colors, width=0.9);\n",
        "\n",
        "ax.set(\n",
        "  xlabel='Rating',\n",
        "  ylabel='Percent of total votes',\n",
        "  yticks=range(0,50,10));\n",
        "\n",
        "ax.text(x=-1, y=45, s=\"'An Inconvenient Sequel: Truth to Power' is divisive\",\n",
        "       fontsize=16, fontweight='bold')\n",
        "ax.text(x=0, y=42, s='IMDb ratings for the film as of Aug. 29')\n",
        "\n",
        "ax.tick_params(labelrotation=0)\n"
      ],
      "execution_count": 142,
      "outputs": [
        {
          "output_type": "display_data",
          "data": {
            "image/png": "[encoded data removed]",
            "text/plain": [
              "<matplotlib.figure.Figure at 0x7f0b09b48978>"
            ]
          },
          "metadata": {
            "tags": []
          }
        }
      ]
    },
    {
      "metadata": {
        "id": "Hj__Ku6TTPZE",
        "colab_type": "text"
      },
      "cell_type": "markdown",
      "source": [
        "HomeWork - Reproduced Share of IMDb reviews posted graph"
      ]
    },
    {
      "metadata": {
        "id": "cQUPbmn1TDAy",
        "colab_type": "code",
        "colab": {
          "base_uri": "https://localhost:8080/",
          "height": 398
        },
        "outputId": "0f0d896d-3eaf-4c08-8290-f5d221fffc9c"
      },
      "cell_type": "code",
      "source": [
        "from IPython.display import display, Image\n",
        "\n",
        "url = 'https://fivethirtyeight.com/wp-content/uploads/2017/09/mehtahickey-inconvenient-0830-21.png'\n",
        "example = Image(url=url, width=400)\n",
        "\n",
        "display(example)"
      ],
      "execution_count": 20,
      "outputs": [
        {
          "output_type": "display_data",
          "data": {
            "text/html": [
              "<img src=\"https://fivethirtyeight.com/wp-content/uploads/2017/09/mehtahickey-inconvenient-0830-21.png\" width=\"400\"/>"
            ],
            "text/plain": [
              "<IPython.core.display.Image object>"
            ]
          },
          "metadata": {
            "tags": []
          }
        }
      ]
    },
    {
      "metadata": {
        "id": "Ooj8XmZfTb2l",
        "colab_type": "code",
        "colab": {
          "base_uri": "https://localhost:8080/",
          "height": 146
        },
        "outputId": "39ac998f-0453-4a9a-a560-914664c3c275"
      },
      "cell_type": "code",
      "source": [
        "import matplotlib.pyplot as plt\n",
        "import pandas as pd\n",
        "import numpy as np\n",
        "\n",
        "df = pd.read_csv('https://raw.githubusercontent.com/fivethirtyeight/data/master/inconvenient-sequel/ratings.csv')\n",
        "df.head(1)"
      ],
      "execution_count": 225,
      "outputs": [
        {
          "output_type": "execute_result",
          "data": {
            "text/html": [
              "<div>\n",
              "<style scoped>\n",
              "    .dataframe tbody tr th:only-of-type {\n",
              "        vertical-align: middle;\n",
              "    }\n",
              "\n",
              "    .dataframe tbody tr th {\n",
              "        vertical-align: top;\n",
              "    }\n",
              "\n",
              "    .dataframe thead th {\n",
              "        text-align: right;\n",
              "    }\n",
              "</style>\n",
              "<table border=\"1\" class=\"dataframe\">\n",
              "  <thead>\n",
              "    <tr style=\"text-align: right;\">\n",
              "      <th></th>\n",
              "      <th>timestamp</th>\n",
              "      <th>respondents</th>\n",
              "      <th>category</th>\n",
              "      <th>link</th>\n",
              "      <th>average</th>\n",
              "      <th>mean</th>\n",
              "      <th>median</th>\n",
              "      <th>1_votes</th>\n",
              "      <th>2_votes</th>\n",
              "      <th>3_votes</th>\n",
              "      <th>...</th>\n",
              "      <th>1_pct</th>\n",
              "      <th>2_pct</th>\n",
              "      <th>3_pct</th>\n",
              "      <th>4_pct</th>\n",
              "      <th>5_pct</th>\n",
              "      <th>6_pct</th>\n",
              "      <th>7_pct</th>\n",
              "      <th>8_pct</th>\n",
              "      <th>9_pct</th>\n",
              "      <th>10_pct</th>\n",
              "    </tr>\n",
              "  </thead>\n",
              "  <tbody>\n",
              "    <tr>\n",
              "      <th>0</th>\n",
              "      <td>2017-07-17 12:28:32.785639</td>\n",
              "      <td>402</td>\n",
              "      <td>Males</td>\n",
              "      <td>http://www.imdb.com/title/tt6322922/ratings-male</td>\n",
              "      <td>4.6</td>\n",
              "      <td>5.0</td>\n",
              "      <td>2</td>\n",
              "      <td>197</td>\n",
              "      <td>7</td>\n",
              "      <td>7</td>\n",
              "      <td>...</td>\n",
              "      <td>49.0</td>\n",
              "      <td>1.7</td>\n",
              "      <td>1.7</td>\n",
              "      <td>0.7</td>\n",
              "      <td>1.7</td>\n",
              "      <td>1.7</td>\n",
              "      <td>2.7</td>\n",
              "      <td>2.0</td>\n",
              "      <td>5.0</td>\n",
              "      <td>33.6</td>\n",
              "    </tr>\n",
              "  </tbody>\n",
              "</table>\n",
              "<p>1 rows × 27 columns</p>\n",
              "</div>"
            ],
            "text/plain": [
              "                    timestamp  respondents category  \\\n",
              "0  2017-07-17 12:28:32.785639          402    Males   \n",
              "\n",
              "                                               link  average  mean  median  \\\n",
              "0  http://www.imdb.com/title/tt6322922/ratings-male      4.6   5.0       2   \n",
              "\n",
              "   1_votes  2_votes  3_votes   ...    1_pct  2_pct  3_pct  4_pct  5_pct  \\\n",
              "0      197        7        7   ...     49.0    1.7    1.7    0.7    1.7   \n",
              "\n",
              "   6_pct  7_pct  8_pct  9_pct  10_pct  \n",
              "0    1.7    2.7    2.0    5.0    33.6  \n",
              "\n",
              "[1 rows x 27 columns]"
            ]
          },
          "metadata": {
            "tags": []
          },
          "execution_count": 225
        }
      ]
    },
    {
      "metadata": {
        "id": "bzi3LQjuT9di",
        "colab_type": "code",
        "colab": {}
      },
      "cell_type": "code",
      "source": [
        "# copy() ensure pandas this is a copy not a view. \n",
        "# Otherwise subsequent update to this copy, will trigger \n",
        "# SettingWithCopyWarnings from pandas.\n",
        "\n",
        "IMDb_users = df[df.category == 'IMDb users'].copy() \n",
        "\n",
        "# find IMDb-users category, then get respondents\n",
        "#df.loc(df.category == 'IMDb users', respondents) \n",
        "#df[ ['category','respondents']] # extracting category, respondents\n",
        "# df[ (df.category == 'IMDb users') ]['respondents'] # extracting only IMDb_users respondents\n",
        "#df[df.category == 'IMDb users'].respondents\n"
      ],
      "execution_count": 0,
      "outputs": []
    },
    {
      "metadata": {
        "id": "sAc99R4ii5XS",
        "colab_type": "code",
        "colab": {
          "base_uri": "https://localhost:8080/",
          "height": 34
        },
        "outputId": "c6cff401-9e5f-4d71-f42f-89f460cc311e"
      },
      "cell_type": "code",
      "source": [
        "df[ df.category == 'IMDb users'].shape"
      ],
      "execution_count": 234,
      "outputs": [
        {
          "output_type": "execute_result",
          "data": {
            "text/plain": [
              "(4216, 27)"
            ]
          },
          "metadata": {
            "tags": []
          },
          "execution_count": 234
        }
      ]
    },
    {
      "metadata": {
        "id": "WioATz9JXCLT",
        "colab_type": "code",
        "colab": {}
      },
      "cell_type": "code",
      "source": [
        "IMDb_users['respondents_percent'] =(IMDb_users.respondents / 2662) *100 ;\n"
      ],
      "execution_count": 0,
      "outputs": []
    },
    {
      "metadata": {
        "id": "XaeiPuYGH_QS",
        "colab_type": "code",
        "colab": {
          "base_uri": "https://localhost:8080/",
          "height": 170
        },
        "outputId": "d423de15-6a5a-491e-dc70-f294fba2a6aa"
      },
      "cell_type": "code",
      "source": [
        "IMDb_users['respondents_percent'].describe()"
      ],
      "execution_count": 236,
      "outputs": [
        {
          "output_type": "execute_result",
          "data": {
            "text/plain": [
              "count    4216.000000\n",
              "mean       79.422840\n",
              "std        19.155245\n",
              "min        25.469572\n",
              "25%        70.586026\n",
              "50%        85.649887\n",
              "75%        94.027047\n",
              "max       100.000000\n",
              "Name: respondents_percent, dtype: float64"
            ]
          },
          "metadata": {
            "tags": []
          },
          "execution_count": 236
        }
      ]
    },
    {
      "metadata": {
        "id": "LK5D8Op-Xzrr",
        "colab_type": "code",
        "colab": {
          "base_uri": "https://localhost:8080/",
          "height": 136
        },
        "outputId": "209780af-a3fe-4b82-ec67-286c862f89ca"
      },
      "cell_type": "code",
      "source": [
        "# convert timestamp object into datatime, so that it can be turned into index\n",
        "IMDb_users.timestamp = pd.to_datetime(IMDb_users.timestamp)\n",
        "IMDb_users.timestamp.describe()"
      ],
      "execution_count": 237,
      "outputs": [
        {
          "output_type": "execute_result",
          "data": {
            "text/plain": [
              "count                           4216\n",
              "unique                          4216\n",
              "top       2017-08-27 11:30:07.192640\n",
              "freq                               1\n",
              "first     2017-07-17 12:28:36.697246\n",
              "last      2017-08-29 23:10:06.218251\n",
              "Name: timestamp, dtype: object"
            ]
          },
          "metadata": {
            "tags": []
          },
          "execution_count": 237
        }
      ]
    },
    {
      "metadata": {
        "id": "V_FpfVCNCVBc",
        "colab_type": "code",
        "colab": {}
      },
      "cell_type": "code",
      "source": [
        "IMDb_users.set_index('timestamp', inplace=True)\n"
      ],
      "execution_count": 0,
      "outputs": []
    },
    {
      "metadata": {
        "id": "nkBYHtsZXoN0",
        "colab_type": "code",
        "colab": {}
      },
      "cell_type": "code",
      "source": [
        "final = IMDb_users.respondents_percent"
      ],
      "execution_count": 0,
      "outputs": []
    },
    {
      "metadata": {
        "id": "8GLrlLVbuzTX",
        "colab_type": "code",
        "colab": {
          "base_uri": "https://localhost:8080/",
          "height": 85
        },
        "outputId": "c0ad89f4-7ff6-4168-b2ea-a1c4231315ae"
      },
      "cell_type": "code",
      "source": [
        "final[(final > 30)].head(2)\n"
      ],
      "execution_count": 240,
      "outputs": [
        {
          "output_type": "execute_result",
          "data": {
            "text/plain": [
              "timestamp\n",
              "2017-07-24 04:00:05.820301    30.090158\n",
              "2017-07-24 05:00:05.842771    30.090158\n",
              "Name: respondents_percent, dtype: float64"
            ]
          },
          "metadata": {
            "tags": []
          },
          "execution_count": 240
        }
      ]
    },
    {
      "metadata": {
        "id": "89fCvWUfxMLO",
        "colab_type": "code",
        "colab": {
          "base_uri": "https://localhost:8080/",
          "height": 34
        },
        "outputId": "616ce684-0ab3-43f1-f8fc-eb9bdc882aae"
      },
      "cell_type": "code",
      "source": [
        "pd.to_datetime('2017-08-03')"
      ],
      "execution_count": 243,
      "outputs": [
        {
          "output_type": "execute_result",
          "data": {
            "text/plain": [
              "Timestamp('2017-08-03 00:00:00')"
            ]
          },
          "metadata": {
            "tags": []
          },
          "execution_count": 243
        }
      ]
    },
    {
      "metadata": {
        "id": "yBLSnTQTWqaf",
        "colab_type": "code",
        "colab": {
          "base_uri": "https://localhost:8080/",
          "height": 395
        },
        "outputId": "442b682f-8ec5-4dac-aa96-e7ab0789cbee"
      },
      "cell_type": "code",
      "source": [
        "import matplotlib.ticker as ticker\n",
        "\n",
        "plt.style.use('fivethirtyeight')\n",
        "plt.figure(figsize = (8, 6))\n",
        "plt.title(s = \"'An Inconvenient Sequel' was doomed before its release\",\n",
        "          x = 0,\n",
        "          y = 1.11,\n",
        "          ha = 'left')\n",
        "plt.suptitle(t = 'Share of tickets sold and IMDb reviews for \"An Inconvenient Sequel\"\\nposted through Aug. 27, by day',\n",
        "             x = 0.09,\n",
        "             y = 0.95,\n",
        "             fontsize = 16,\n",
        "             fontweight = 'ultralight',\n",
        "             ha = 'left')\n",
        "\n",
        "ax = final.plot.line(color = '#47C0C7');\n",
        "\n",
        "# Change background colors\n",
        "ax.set_facecolor('w')\n",
        "\n",
        "ax.set(xlabel = '',\n",
        "       ylabel = '',\n",
        "       yticks = range(0, 101, 20))\n",
        "\n",
        "#ax.axhline(y=50,label='xxxx')\n",
        "#ax.axvline(x='2017-08-03 13:50:07.472812', label='yyy')\n",
        "\n",
        "ax.text(x='2017-07-24 11:00:06.206173',\n",
        "       y=80,\n",
        "       s='Share of IMDb\\nreviews posted')\n",
        "\n",
        "\n",
        "ax.annotate('62% of reviews were in\\n by wide release date',\n",
        "            xytext = (pd.to_datetime('2017-08-11'), 51), \n",
        "            xy = (pd.to_datetime('2017-08-05'), 60),  # arrow position\n",
        "            arrowprops=dict(facecolor='red')\n",
        "            )\n",
        " \n",
        "xlabels = ['', 'JULY 23, 2017', 'JULY 30', 'AUG. 6', 'AUG. 13', 'AUG. 20', 'AUG. 27']\n",
        "@ticker.FuncFormatter\n",
        "def major_formatter(x, pos):\n",
        "  return xlabels[pos]\n",
        "  \n",
        "ax.xaxis.set_major_formatter(major_formatter)\n",
        "\n",
        "\n",
        "\n",
        "ax.tick_params(labelrotation = 0)\n",
        "plt.show()\n"
      ],
      "execution_count": 256,
      "outputs": [
        {
          "output_type": "display_data",
          "data": {
            "image/png": "[encoded data removed]",
            "text/plain": [
              "<matplotlib.figure.Figure at 0x7f8be0d9da90>"
            ]
          },
          "metadata": {
            "tags": []
          }
        }
      ]
    }
  ]
}