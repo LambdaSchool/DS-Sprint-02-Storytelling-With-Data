{
  "nbformat": 4,
  "nbformat_minor": 0,
  "metadata": {
    "colab": {
      "name": "LS_DS_123_Make_explanatory_visualizations.ipynb",
      "version": "0.3.2",
      "provenance": [],
      "include_colab_link": true
    },
    "kernelspec": {
      "display_name": "Python 3",
      "language": "python",
      "name": "python3"
    }
  },
  "cells": [
    {
      "cell_type": "markdown",
      "metadata": {
        "id": "view-in-github",
        "colab_type": "text"
      },
      "source": [
        "<a href=\"https://colab.research.google.com/github/Phantasm320/DS-Sprint-02-Storytelling-With-Data/blob/master/module3-make-explanatory-visualizations/LS_DS_123_Make_explanatory_visualizations.ipynb\" target=\"_parent\"><img src=\"https://colab.research.google.com/assets/colab-badge.svg\" alt=\"Open In Colab\"/></a>"
      ]
    },
    {
      "metadata": {
        "id": "Z4dlzXuc6L8w",
        "colab_type": "text"
      },
      "cell_type": "markdown",
      "source": [
        "_Lambda School Data Science_\n",
        "\n",
        "# Choose appropriate visualizations\n",
        "\n",
        "\n",
        "Recreate this [example by FiveThirtyEight:](https://fivethirtyeight.com/features/al-gores-new-movie-exposes-the-big-flaw-in-online-movie-ratings/)\n",
        "\n",
        "![](https://fivethirtyeight.com/wp-content/uploads/2017/09/mehtahickey-inconvenient-0830-1.png?w=575)\n",
        "\n",
        "Using this data:\n",
        "\n",
        "https://github.com/fivethirtyeight/data/tree/master/inconvenient-sequel\n",
        "\n",
        "### Stretch goals\n",
        "\n",
        "Recreate more examples from [FiveThityEight's shared data repository](https://data.fivethirtyeight.com/).\n",
        "\n",
        "For example:\n",
        "- [thanksgiving-2015](https://fivethirtyeight.com/features/heres-what-your-part-of-america-eats-on-thanksgiving/) ([`altair`](https://altair-viz.github.io/gallery/index.html#maps))\n",
        "- [candy-power-ranking](https://fivethirtyeight.com/features/the-ultimate-halloween-candy-power-ranking/) ([`statsmodels`](https://www.statsmodels.org/stable/index.html))"
      ]
    },
    {
      "metadata": {
        "id": "v6nySjmV6L80",
        "colab_type": "code",
        "colab": {
          "base_uri": "https://localhost:8080/",
          "height": 195
        },
        "outputId": "bae3d56f-8ab8-45fc-cdb5-056106b5398b"
      },
      "cell_type": "code",
      "source": [
        "import pandas as pd\n",
        "import numpy as np\n",
        "import matplotlib.pyplot as plt\n",
        "\n",
        "!pip install --upgrade seaborn"
      ],
      "execution_count": 1,
      "outputs": [
        {
          "output_type": "stream",
          "text": [
            "Requirement already up-to-date: seaborn in /usr/local/lib/python3.6/dist-packages (0.9.0)\n",
            "Requirement already satisfied, skipping upgrade: pandas>=0.15.2 in /usr/local/lib/python3.6/dist-packages (from seaborn) (0.22.0)\n",
            "Requirement already satisfied, skipping upgrade: scipy>=0.14.0 in /usr/local/lib/python3.6/dist-packages (from seaborn) (1.1.0)\n",
            "Requirement already satisfied, skipping upgrade: matplotlib>=1.4.3 in /usr/local/lib/python3.6/dist-packages (from seaborn) (2.1.2)\n",
            "Requirement already satisfied, skipping upgrade: numpy>=1.9.3 in /usr/local/lib/python3.6/dist-packages (from seaborn) (1.14.6)\n",
            "Requirement already satisfied, skipping upgrade: python-dateutil>=2 in /usr/local/lib/python3.6/dist-packages (from pandas>=0.15.2->seaborn) (2.5.3)\n",
            "Requirement already satisfied, skipping upgrade: pytz>=2011k in /usr/local/lib/python3.6/dist-packages (from pandas>=0.15.2->seaborn) (2018.7)\n",
            "Requirement already satisfied, skipping upgrade: pyparsing!=2.0.4,!=2.1.2,!=2.1.6,>=2.0.1 in /usr/local/lib/python3.6/dist-packages (from matplotlib>=1.4.3->seaborn) (2.3.0)\n",
            "Requirement already satisfied, skipping upgrade: six>=1.10 in /usr/local/lib/python3.6/dist-packages (from matplotlib>=1.4.3->seaborn) (1.11.0)\n",
            "Requirement already satisfied, skipping upgrade: cycler>=0.10 in /usr/local/lib/python3.6/dist-packages (from matplotlib>=1.4.3->seaborn) (0.10.0)\n"
          ],
          "name": "stdout"
        }
      ]
    },
    {
      "metadata": {
        "id": "bE5e5aV96ZOG",
        "colab_type": "code",
        "colab": {}
      },
      "cell_type": "code",
      "source": [
        ""
      ],
      "execution_count": 0,
      "outputs": []
    },
    {
      "metadata": {
        "id": "vDXeoRPD6iqe",
        "colab_type": "code",
        "colab": {}
      },
      "cell_type": "code",
      "source": [
        "import seaborn as sns"
      ],
      "execution_count": 0,
      "outputs": []
    },
    {
      "metadata": {
        "id": "XjLMFzpAFieI",
        "colab_type": "code",
        "colab": {}
      },
      "cell_type": "code",
      "source": [
        ""
      ],
      "execution_count": 0,
      "outputs": []
    },
    {
      "metadata": {
        "id": "OYTn60qYFioE",
        "colab_type": "code",
        "colab": {}
      },
      "cell_type": "code",
      "source": [
        ""
      ],
      "execution_count": 0,
      "outputs": []
    },
    {
      "metadata": {
        "id": "SwCUxTTbGFg1",
        "colab_type": "code",
        "colab": {}
      },
      "cell_type": "code",
      "source": [
        ""
      ],
      "execution_count": 0,
      "outputs": []
    },
    {
      "metadata": {
        "id": "aHpVMCX7GFjk",
        "colab_type": "code",
        "colab": {}
      },
      "cell_type": "code",
      "source": [
        ""
      ],
      "execution_count": 0,
      "outputs": []
    },
    {
      "metadata": {
        "id": "D_1slIOZGFmB",
        "colab_type": "code",
        "colab": {}
      },
      "cell_type": "code",
      "source": [
        ""
      ],
      "execution_count": 0,
      "outputs": []
    },
    {
      "metadata": {
        "id": "WcR81OKJGFok",
        "colab_type": "code",
        "colab": {}
      },
      "cell_type": "code",
      "source": [
        ""
      ],
      "execution_count": 0,
      "outputs": []
    },
    {
      "metadata": {
        "id": "YNFzVygqGFrJ",
        "colab_type": "code",
        "colab": {}
      },
      "cell_type": "code",
      "source": [
        ""
      ],
      "execution_count": 0,
      "outputs": []
    },
    {
      "metadata": {
        "id": "lRTkbnit8E-3",
        "colab_type": "code",
        "colab": {}
      },
      "cell_type": "code",
      "source": [
        ""
      ],
      "execution_count": 0,
      "outputs": []
    },
    {
      "metadata": {
        "id": "4TFaqmZZFDfZ",
        "colab_type": "code",
        "colab": {
          "base_uri": "https://localhost:8080/",
          "height": 344
        },
        "outputId": "2dd774ae-8689-490d-b5fe-77573bc37811"
      },
      "cell_type": "code",
      "source": [
        "df = pd.read_csv('https://raw.githubusercontent.com/fivethirtyeight/data/master/bob-ross/elements-by-episode.csv')\n",
        "df.head()"
      ],
      "execution_count": 86,
      "outputs": [
        {
          "output_type": "execute_result",
          "data": {
            "text/html": [
              "<div>\n",
              "<style scoped>\n",
              "    .dataframe tbody tr th:only-of-type {\n",
              "        vertical-align: middle;\n",
              "    }\n",
              "\n",
              "    .dataframe tbody tr th {\n",
              "        vertical-align: top;\n",
              "    }\n",
              "\n",
              "    .dataframe thead th {\n",
              "        text-align: right;\n",
              "    }\n",
              "</style>\n",
              "<table border=\"1\" class=\"dataframe\">\n",
              "  <thead>\n",
              "    <tr style=\"text-align: right;\">\n",
              "      <th></th>\n",
              "      <th>EPISODE</th>\n",
              "      <th>TITLE</th>\n",
              "      <th>APPLE_FRAME</th>\n",
              "      <th>AURORA_BOREALIS</th>\n",
              "      <th>BARN</th>\n",
              "      <th>BEACH</th>\n",
              "      <th>BOAT</th>\n",
              "      <th>BRIDGE</th>\n",
              "      <th>BUILDING</th>\n",
              "      <th>BUSHES</th>\n",
              "      <th>...</th>\n",
              "      <th>TOMB_FRAME</th>\n",
              "      <th>TREE</th>\n",
              "      <th>TREES</th>\n",
              "      <th>TRIPLE_FRAME</th>\n",
              "      <th>WATERFALL</th>\n",
              "      <th>WAVES</th>\n",
              "      <th>WINDMILL</th>\n",
              "      <th>WINDOW_FRAME</th>\n",
              "      <th>WINTER</th>\n",
              "      <th>WOOD_FRAMED</th>\n",
              "    </tr>\n",
              "  </thead>\n",
              "  <tbody>\n",
              "    <tr>\n",
              "      <th>0</th>\n",
              "      <td>S01E01</td>\n",
              "      <td>\"A WALK IN THE WOODS\"</td>\n",
              "      <td>0</td>\n",
              "      <td>0</td>\n",
              "      <td>0</td>\n",
              "      <td>0</td>\n",
              "      <td>0</td>\n",
              "      <td>0</td>\n",
              "      <td>0</td>\n",
              "      <td>1</td>\n",
              "      <td>...</td>\n",
              "      <td>0</td>\n",
              "      <td>1</td>\n",
              "      <td>1</td>\n",
              "      <td>0</td>\n",
              "      <td>0</td>\n",
              "      <td>0</td>\n",
              "      <td>0</td>\n",
              "      <td>0</td>\n",
              "      <td>0</td>\n",
              "      <td>0</td>\n",
              "    </tr>\n",
              "    <tr>\n",
              "      <th>1</th>\n",
              "      <td>S01E02</td>\n",
              "      <td>\"MT. MCKINLEY\"</td>\n",
              "      <td>0</td>\n",
              "      <td>0</td>\n",
              "      <td>0</td>\n",
              "      <td>0</td>\n",
              "      <td>0</td>\n",
              "      <td>0</td>\n",
              "      <td>0</td>\n",
              "      <td>0</td>\n",
              "      <td>...</td>\n",
              "      <td>0</td>\n",
              "      <td>1</td>\n",
              "      <td>1</td>\n",
              "      <td>0</td>\n",
              "      <td>0</td>\n",
              "      <td>0</td>\n",
              "      <td>0</td>\n",
              "      <td>0</td>\n",
              "      <td>1</td>\n",
              "      <td>0</td>\n",
              "    </tr>\n",
              "    <tr>\n",
              "      <th>2</th>\n",
              "      <td>S01E03</td>\n",
              "      <td>\"EBONY SUNSET\"</td>\n",
              "      <td>0</td>\n",
              "      <td>0</td>\n",
              "      <td>0</td>\n",
              "      <td>0</td>\n",
              "      <td>0</td>\n",
              "      <td>0</td>\n",
              "      <td>0</td>\n",
              "      <td>0</td>\n",
              "      <td>...</td>\n",
              "      <td>0</td>\n",
              "      <td>1</td>\n",
              "      <td>1</td>\n",
              "      <td>0</td>\n",
              "      <td>0</td>\n",
              "      <td>0</td>\n",
              "      <td>0</td>\n",
              "      <td>0</td>\n",
              "      <td>1</td>\n",
              "      <td>0</td>\n",
              "    </tr>\n",
              "    <tr>\n",
              "      <th>3</th>\n",
              "      <td>S01E04</td>\n",
              "      <td>\"WINTER MIST\"</td>\n",
              "      <td>0</td>\n",
              "      <td>0</td>\n",
              "      <td>0</td>\n",
              "      <td>0</td>\n",
              "      <td>0</td>\n",
              "      <td>0</td>\n",
              "      <td>0</td>\n",
              "      <td>1</td>\n",
              "      <td>...</td>\n",
              "      <td>0</td>\n",
              "      <td>1</td>\n",
              "      <td>1</td>\n",
              "      <td>0</td>\n",
              "      <td>0</td>\n",
              "      <td>0</td>\n",
              "      <td>0</td>\n",
              "      <td>0</td>\n",
              "      <td>0</td>\n",
              "      <td>0</td>\n",
              "    </tr>\n",
              "    <tr>\n",
              "      <th>4</th>\n",
              "      <td>S01E05</td>\n",
              "      <td>\"QUIET STREAM\"</td>\n",
              "      <td>0</td>\n",
              "      <td>0</td>\n",
              "      <td>0</td>\n",
              "      <td>0</td>\n",
              "      <td>0</td>\n",
              "      <td>0</td>\n",
              "      <td>0</td>\n",
              "      <td>0</td>\n",
              "      <td>...</td>\n",
              "      <td>0</td>\n",
              "      <td>1</td>\n",
              "      <td>1</td>\n",
              "      <td>0</td>\n",
              "      <td>0</td>\n",
              "      <td>0</td>\n",
              "      <td>0</td>\n",
              "      <td>0</td>\n",
              "      <td>0</td>\n",
              "      <td>0</td>\n",
              "    </tr>\n",
              "  </tbody>\n",
              "</table>\n",
              "<p>5 rows × 69 columns</p>\n",
              "</div>"
            ],
            "text/plain": [
              "  EPISODE                  TITLE  APPLE_FRAME  AURORA_BOREALIS  BARN  BEACH  \\\n",
              "0  S01E01  \"A WALK IN THE WOODS\"            0                0     0      0   \n",
              "1  S01E02         \"MT. MCKINLEY\"            0                0     0      0   \n",
              "2  S01E03         \"EBONY SUNSET\"            0                0     0      0   \n",
              "3  S01E04          \"WINTER MIST\"            0                0     0      0   \n",
              "4  S01E05         \"QUIET STREAM\"            0                0     0      0   \n",
              "\n",
              "   BOAT  BRIDGE  BUILDING  BUSHES     ...       TOMB_FRAME  TREE  TREES  \\\n",
              "0     0       0         0       1     ...                0     1      1   \n",
              "1     0       0         0       0     ...                0     1      1   \n",
              "2     0       0         0       0     ...                0     1      1   \n",
              "3     0       0         0       1     ...                0     1      1   \n",
              "4     0       0         0       0     ...                0     1      1   \n",
              "\n",
              "   TRIPLE_FRAME  WATERFALL  WAVES  WINDMILL  WINDOW_FRAME  WINTER  WOOD_FRAMED  \n",
              "0             0          0      0         0             0       0            0  \n",
              "1             0          0      0         0             0       1            0  \n",
              "2             0          0      0         0             0       1            0  \n",
              "3             0          0      0         0             0       0            0  \n",
              "4             0          0      0         0             0       0            0  \n",
              "\n",
              "[5 rows x 69 columns]"
            ]
          },
          "metadata": {
            "tags": []
          },
          "execution_count": 86
        }
      ]
    },
    {
      "metadata": {
        "id": "lhzwDi1VK34I",
        "colab_type": "code",
        "colab": {}
      },
      "cell_type": "code",
      "source": [
        "df1 = df[df['TREE'] == 1]\n",
        "df2 = df[df['TREES'] == 1]\n",
        "df3 = df[df['DECIDUOUS'] == 1]\n",
        "df4 = df[df['CONIFER'] == 1]\n",
        "df5 = df[df['CLOUDS'] == 1]\n",
        "df6 = df[df['MOUNTAIN'] == 1]\n",
        "df7 = df[df['GRASS'] == 1]\n",
        "df8 = df[df['LAKE'] == 1]\n",
        "df9 = df[df['RIVER'] == 1]\n",
        "df10 = df[df['BUSHES'] == 1]\n",
        "df11 = df[df['SNOWY_MOUNTAIN'] == 1]\n",
        "df12 = df[df['MOUNTAINS'] == 1]\n",
        "df13 = df[df['STRUCTURE'] == 1]\n",
        "df14 = df[df['CUMULUS'] == 1]\n",
        "df15 = df[df['ROCKS'] == 1]\n",
        "df16 = df[df['SUN'] == 1]\n",
        "df17 = df[df['WATERFALL'] == 1]\n",
        "df18 = df[df['SNOW'] == 1]\n",
        "df19 = df[df['CABIN'] == 1]\n",
        "df20 = df[df['WINTER'] == 1]\n",
        "df21 = df[df['FRAMED'] == 1]\n",
        "df22 = df[df['PATH'] == 1]\n",
        "df23 = df[df['OVAL_FRAME'] == 1]\n",
        "df24 = df[df['OCEAN'] == 1]\n",
        "df25 = df[df['WAVES'] == 1]\n",
        "df26 = df[df['BEACH'] == 1]\n",
        "df27 = df[df['CIRRUS'] == 1]"
      ],
      "execution_count": 0,
      "outputs": []
    },
    {
      "metadata": {
        "id": "ehFmXb6QLqnO",
        "colab_type": "code",
        "colab": {}
      },
      "cell_type": "code",
      "source": [
        ""
      ],
      "execution_count": 0,
      "outputs": []
    },
    {
      "metadata": {
        "id": "IjtQQkXfMKIc",
        "colab_type": "code",
        "colab": {}
      },
      "cell_type": "code",
      "source": [
        ""
      ],
      "execution_count": 0,
      "outputs": []
    },
    {
      "metadata": {
        "id": "nUt0eNl9MZwq",
        "colab_type": "code",
        "colab": {
          "base_uri": "https://localhost:8080/",
          "height": 287
        },
        "outputId": "9cb194eb-fa59-4a4d-a57e-a9301f4cc134"
      },
      "cell_type": "code",
      "source": [
        "plt.bar(x = 1, height = df1.shape[0]/df.shape[0])\n",
        "plt.bar(x = 2, height = df2.shape[0]/df.shape[0])\n",
        "plt.bar(x = 3, height = df3.shape[0]/df.shape[0])\n",
        "plt.bar(x = 4, height = df4.shape[0]/df.shape[0])\n",
        "plt.bar(x = 5, height = df5.shape[0]/df.shape[0])\n",
        "plt.bar(x = 6, height = df6.shape[0]/df.shape[0])\n",
        "plt.bar(x = 7, height = df7.shape[0]/df.shape[0])\n",
        "plt.bar(x = 8, height = df8.shape[0]/df.shape[0])\n",
        "plt.bar(x = 9, height = df9.shape[0]/df.shape[0])\n",
        "plt.bar(x = 10, height = df10.shape[0]/df.shape[0])\n",
        "plt.bar(x = 11, height = df11.shape[0]/df.shape[0])\n",
        "plt.bar(x = 12, height = df12.shape[0]/df.shape[0])\n",
        "plt.bar(x = 13, height = df13.shape[0]/df.shape[0])\n",
        "plt.bar(x = 14, height = df14.shape[0]/df.shape[0])\n",
        "plt.bar(x = 15, height = df15.shape[0]/df.shape[0])\n",
        "plt.bar(x = 16, height = df16.shape[0]/df.shape[0])\n",
        "plt.bar(x = 17, height = df17.shape[0]/df.shape[0])\n",
        "plt.bar(x = 18, height = df18.shape[0]/df.shape[0])\n",
        "plt.bar(x = 19, height = df19.shape[0]/df.shape[0])\n",
        "plt.bar(x = 20, height = df20.shape[0]/df.shape[0])\n",
        "plt.bar(x = 21, height = df21.shape[0]/df.shape[0])\n",
        "plt.bar(x = 22, height = df22.shape[0]/df.shape[0])\n",
        "plt.bar(x = 23, height = df23.shape[0]/df.shape[0])\n",
        "plt.bar(x = 24, height = df24.shape[0]/df.shape[0])\n",
        "plt.bar(x = 25, height = df25.shape[0]/df.shape[0])\n",
        "plt.bar(x = 26, height = df26.shape[0]/df.shape[0])\n",
        "plt.bar(x = 27, height = df27.shape[0]/df.shape[0])"
      ],
      "execution_count": 98,
      "outputs": [
        {
          "output_type": "execute_result",
          "data": {
            "text/plain": [
              "<Container object of 1 artists>"
            ]
          },
          "metadata": {
            "tags": []
          },
          "execution_count": 98
        },
        {
          "output_type": "display_data",
          "data": {
            "image/png": "[encoded data removed]",
            "text/plain": [
              "<matplotlib.figure.Figure at 0x7f55fc2fcda0>"
            ]
          },
          "metadata": {
            "tags": []
          }
        }
      ]
    },
    {
      "metadata": {
        "id": "QtpU1kM7NoUu",
        "colab_type": "code",
        "colab": {
          "base_uri": "https://localhost:8080/",
          "height": 1119
        },
        "outputId": "2a153df5-5055-48c5-8e1b-62c212010b0f"
      },
      "cell_type": "code",
      "source": [
        "df.sum(axis = 1)"
      ],
      "execution_count": 85,
      "outputs": [
        {
          "output_type": "execute_result",
          "data": {
            "text/plain": [
              "0       6\n",
              "1       9\n",
              "2      10\n",
              "3       8\n",
              "4       5\n",
              "5      13\n",
              "6       7\n",
              "7       7\n",
              "8       4\n",
              "9       7\n",
              "10      4\n",
              "11      9\n",
              "12      8\n",
              "13     10\n",
              "14      6\n",
              "15      8\n",
              "16     14\n",
              "17      6\n",
              "18      8\n",
              "19      9\n",
              "20      9\n",
              "21      9\n",
              "22      5\n",
              "23     11\n",
              "24      9\n",
              "25     10\n",
              "26     10\n",
              "27      9\n",
              "28      6\n",
              "29      7\n",
              "       ..\n",
              "373     2\n",
              "374    11\n",
              "375     9\n",
              "376     8\n",
              "377     6\n",
              "378     8\n",
              "379     7\n",
              "380     5\n",
              "381     5\n",
              "382     8\n",
              "383     8\n",
              "384     9\n",
              "385    12\n",
              "386     5\n",
              "387     8\n",
              "388     8\n",
              "389     8\n",
              "390     6\n",
              "391     8\n",
              "392     7\n",
              "393     6\n",
              "394     9\n",
              "395     8\n",
              "396     7\n",
              "397     5\n",
              "398     8\n",
              "399     7\n",
              "400    12\n",
              "401    10\n",
              "402     5\n",
              "Length: 403, dtype: int64"
            ]
          },
          "metadata": {
            "tags": []
          },
          "execution_count": 85
        }
      ]
    },
    {
      "metadata": {
        "id": "eYZHsxKcOazC",
        "colab_type": "code",
        "colab": {}
      },
      "cell_type": "code",
      "source": [
        "del df['EPISODE']\n",
        "del df['TITLE']"
      ],
      "execution_count": 0,
      "outputs": []
    },
    {
      "metadata": {
        "id": "V_jEHQOxWLW6",
        "colab_type": "code",
        "colab": {
          "base_uri": "https://localhost:8080/",
          "height": 223
        },
        "outputId": "03a0980b-6542-4296-8815-450cf581b274"
      },
      "cell_type": "code",
      "source": [
        "df.head()"
      ],
      "execution_count": 88,
      "outputs": [
        {
          "output_type": "execute_result",
          "data": {
            "text/html": [
              "<div>\n",
              "<style scoped>\n",
              "    .dataframe tbody tr th:only-of-type {\n",
              "        vertical-align: middle;\n",
              "    }\n",
              "\n",
              "    .dataframe tbody tr th {\n",
              "        vertical-align: top;\n",
              "    }\n",
              "\n",
              "    .dataframe thead th {\n",
              "        text-align: right;\n",
              "    }\n",
              "</style>\n",
              "<table border=\"1\" class=\"dataframe\">\n",
              "  <thead>\n",
              "    <tr style=\"text-align: right;\">\n",
              "      <th></th>\n",
              "      <th>APPLE_FRAME</th>\n",
              "      <th>AURORA_BOREALIS</th>\n",
              "      <th>BARN</th>\n",
              "      <th>BEACH</th>\n",
              "      <th>BOAT</th>\n",
              "      <th>BRIDGE</th>\n",
              "      <th>BUILDING</th>\n",
              "      <th>BUSHES</th>\n",
              "      <th>CABIN</th>\n",
              "      <th>CACTUS</th>\n",
              "      <th>...</th>\n",
              "      <th>TOMB_FRAME</th>\n",
              "      <th>TREE</th>\n",
              "      <th>TREES</th>\n",
              "      <th>TRIPLE_FRAME</th>\n",
              "      <th>WATERFALL</th>\n",
              "      <th>WAVES</th>\n",
              "      <th>WINDMILL</th>\n",
              "      <th>WINDOW_FRAME</th>\n",
              "      <th>WINTER</th>\n",
              "      <th>WOOD_FRAMED</th>\n",
              "    </tr>\n",
              "  </thead>\n",
              "  <tbody>\n",
              "    <tr>\n",
              "      <th>0</th>\n",
              "      <td>0</td>\n",
              "      <td>0</td>\n",
              "      <td>0</td>\n",
              "      <td>0</td>\n",
              "      <td>0</td>\n",
              "      <td>0</td>\n",
              "      <td>0</td>\n",
              "      <td>1</td>\n",
              "      <td>0</td>\n",
              "      <td>0</td>\n",
              "      <td>...</td>\n",
              "      <td>0</td>\n",
              "      <td>1</td>\n",
              "      <td>1</td>\n",
              "      <td>0</td>\n",
              "      <td>0</td>\n",
              "      <td>0</td>\n",
              "      <td>0</td>\n",
              "      <td>0</td>\n",
              "      <td>0</td>\n",
              "      <td>0</td>\n",
              "    </tr>\n",
              "    <tr>\n",
              "      <th>1</th>\n",
              "      <td>0</td>\n",
              "      <td>0</td>\n",
              "      <td>0</td>\n",
              "      <td>0</td>\n",
              "      <td>0</td>\n",
              "      <td>0</td>\n",
              "      <td>0</td>\n",
              "      <td>0</td>\n",
              "      <td>1</td>\n",
              "      <td>0</td>\n",
              "      <td>...</td>\n",
              "      <td>0</td>\n",
              "      <td>1</td>\n",
              "      <td>1</td>\n",
              "      <td>0</td>\n",
              "      <td>0</td>\n",
              "      <td>0</td>\n",
              "      <td>0</td>\n",
              "      <td>0</td>\n",
              "      <td>1</td>\n",
              "      <td>0</td>\n",
              "    </tr>\n",
              "    <tr>\n",
              "      <th>2</th>\n",
              "      <td>0</td>\n",
              "      <td>0</td>\n",
              "      <td>0</td>\n",
              "      <td>0</td>\n",
              "      <td>0</td>\n",
              "      <td>0</td>\n",
              "      <td>0</td>\n",
              "      <td>0</td>\n",
              "      <td>1</td>\n",
              "      <td>0</td>\n",
              "      <td>...</td>\n",
              "      <td>0</td>\n",
              "      <td>1</td>\n",
              "      <td>1</td>\n",
              "      <td>0</td>\n",
              "      <td>0</td>\n",
              "      <td>0</td>\n",
              "      <td>0</td>\n",
              "      <td>0</td>\n",
              "      <td>1</td>\n",
              "      <td>0</td>\n",
              "    </tr>\n",
              "    <tr>\n",
              "      <th>3</th>\n",
              "      <td>0</td>\n",
              "      <td>0</td>\n",
              "      <td>0</td>\n",
              "      <td>0</td>\n",
              "      <td>0</td>\n",
              "      <td>0</td>\n",
              "      <td>0</td>\n",
              "      <td>1</td>\n",
              "      <td>0</td>\n",
              "      <td>0</td>\n",
              "      <td>...</td>\n",
              "      <td>0</td>\n",
              "      <td>1</td>\n",
              "      <td>1</td>\n",
              "      <td>0</td>\n",
              "      <td>0</td>\n",
              "      <td>0</td>\n",
              "      <td>0</td>\n",
              "      <td>0</td>\n",
              "      <td>0</td>\n",
              "      <td>0</td>\n",
              "    </tr>\n",
              "    <tr>\n",
              "      <th>4</th>\n",
              "      <td>0</td>\n",
              "      <td>0</td>\n",
              "      <td>0</td>\n",
              "      <td>0</td>\n",
              "      <td>0</td>\n",
              "      <td>0</td>\n",
              "      <td>0</td>\n",
              "      <td>0</td>\n",
              "      <td>0</td>\n",
              "      <td>0</td>\n",
              "      <td>...</td>\n",
              "      <td>0</td>\n",
              "      <td>1</td>\n",
              "      <td>1</td>\n",
              "      <td>0</td>\n",
              "      <td>0</td>\n",
              "      <td>0</td>\n",
              "      <td>0</td>\n",
              "      <td>0</td>\n",
              "      <td>0</td>\n",
              "      <td>0</td>\n",
              "    </tr>\n",
              "  </tbody>\n",
              "</table>\n",
              "<p>5 rows × 67 columns</p>\n",
              "</div>"
            ],
            "text/plain": [
              "   APPLE_FRAME  AURORA_BOREALIS  BARN  BEACH  BOAT  BRIDGE  BUILDING  BUSHES  \\\n",
              "0            0                0     0      0     0       0         0       1   \n",
              "1            0                0     0      0     0       0         0       0   \n",
              "2            0                0     0      0     0       0         0       0   \n",
              "3            0                0     0      0     0       0         0       1   \n",
              "4            0                0     0      0     0       0         0       0   \n",
              "\n",
              "   CABIN  CACTUS     ...       TOMB_FRAME  TREE  TREES  TRIPLE_FRAME  \\\n",
              "0      0       0     ...                0     1      1             0   \n",
              "1      1       0     ...                0     1      1             0   \n",
              "2      1       0     ...                0     1      1             0   \n",
              "3      0       0     ...                0     1      1             0   \n",
              "4      0       0     ...                0     1      1             0   \n",
              "\n",
              "   WATERFALL  WAVES  WINDMILL  WINDOW_FRAME  WINTER  WOOD_FRAMED  \n",
              "0          0      0         0             0       0            0  \n",
              "1          0      0         0             0       1            0  \n",
              "2          0      0         0             0       1            0  \n",
              "3          0      0         0             0       0            0  \n",
              "4          0      0         0             0       0            0  \n",
              "\n",
              "[5 rows x 67 columns]"
            ]
          },
          "metadata": {
            "tags": []
          },
          "execution_count": 88
        }
      ]
    },
    {
      "metadata": {
        "id": "bCi6P7j4X4K6",
        "colab_type": "code",
        "colab": {}
      },
      "cell_type": "code",
      "source": [
        "new = df.sum()"
      ],
      "execution_count": 0,
      "outputs": []
    },
    {
      "metadata": {
        "id": "FOg2WkmvX9n6",
        "colab_type": "code",
        "colab": {
          "base_uri": "https://localhost:8080/",
          "height": 1119
        },
        "outputId": "0a68ec4b-eb20-4f85-b5d5-70f3eb0b19be"
      },
      "cell_type": "code",
      "source": [
        "new.sort_values()"
      ],
      "execution_count": 95,
      "outputs": [
        {
          "output_type": "execute_result",
          "data": {
            "text/plain": [
              "LAKES                   0\n",
              "FARM                    1\n",
              "FIRE                    1\n",
              "FLORIDA_FRAME           1\n",
              "HALF_CIRCLE_FRAME       1\n",
              "HALF_OVAL_FRAME         1\n",
              "LIGHTHOUSE              1\n",
              "PERSON                  1\n",
              "RECTANGLE_3D_FRAME      1\n",
              "RECTANGULAR_FRAME       1\n",
              "SEASHELL_FRAME          1\n",
              "SPLIT_FRAME             1\n",
              "TOMB_FRAME              1\n",
              "TRIPLE_FRAME            1\n",
              "WINDMILL                1\n",
              "WINDOW_FRAME            1\n",
              "DOUBLE_OVAL_FRAME       1\n",
              "DOCK                    1\n",
              "APPLE_FRAME             1\n",
              "WOOD_FRAMED             1\n",
              "BUILDING                1\n",
              "DIANE_ANDRE             1\n",
              "AURORA_BOREALIS         2\n",
              "BOAT                    2\n",
              "MILL                    2\n",
              "CIRCLE_FRAME            2\n",
              "PORTRAIT                3\n",
              "MOON                    3\n",
              "CACTUS                  4\n",
              "BRIDGE                  7\n",
              "                     ... \n",
              "GUEST                  22\n",
              "FOG                    23\n",
              "FENCE                  24\n",
              "BEACH                  27\n",
              "CIRRUS                 28\n",
              "WAVES                  34\n",
              "OCEAN                  36\n",
              "OVAL_FRAME             38\n",
              "WATERFALL              39\n",
              "SUN                    40\n",
              "PATH                   49\n",
              "FRAMED                 53\n",
              "WINTER                 69\n",
              "CABIN                  69\n",
              "SNOW                   75\n",
              "ROCKS                  77\n",
              "STRUCTURE              85\n",
              "CUMULUS                86\n",
              "MOUNTAINS              99\n",
              "SNOWY_MOUNTAIN        109\n",
              "BUSHES                120\n",
              "RIVER                 126\n",
              "GRASS                 142\n",
              "LAKE                  143\n",
              "MOUNTAIN              160\n",
              "CLOUDS                179\n",
              "CONIFER               212\n",
              "DECIDUOUS             227\n",
              "TREES                 337\n",
              "TREE                  361\n",
              "Length: 67, dtype: int64"
            ]
          },
          "metadata": {
            "tags": []
          },
          "execution_count": 95
        }
      ]
    },
    {
      "metadata": {
        "id": "HRcGEdXNYEIE",
        "colab_type": "code",
        "colab": {}
      },
      "cell_type": "code",
      "source": [
        "df1 = df[df['TREE'] == 1]\n",
        "df2 = df[df['TREES'] == 1]\n",
        "df3 = df[df['DECIDUOUS'] == 1]\n",
        "df4 = df[df['CONIFER'] == 1]\n",
        "df5 = df[df['CLOUDS'] == 1]\n",
        "df6 = df[df['MOUNTAIN'] == 1]\n",
        "df7 = df[df['LAKE'] == 1]\n",
        "df8 = df[df['GRASS'] == 1]\n",
        "df9 = df[df['RIVER'] == 1]\n",
        "df10 = df[df['BUSHES'] == 1]\n",
        "df11 = df[df['SNOWY_MOUNTAIN'] == 1]\n",
        "df12 = df[df['MOUNTAINS'] == 1]\n",
        "df13 = df[df['CUMULUS'] == 1]\n",
        "df14 = df[df['STRUCTURE'] == 1]\n",
        "df15 = df[df['ROCKS'] == 1]\n",
        "df16 = df[df['SNOW'] == 1]\n",
        "df17 = df[df['CABIN'] == 1]\n",
        "df18 = df[df['WINTER'] == 1]\n",
        "df19 = df[df['FRAMED'] == 1]\n",
        "df20 = df[df['PATH'] == 1]\n",
        "df21 = df[df['SUN'] == 1]\n",
        "df22 = df[df['PATH'] == 1]\n",
        "df23 = df[df['WATERFALL'] == 1]\n",
        "df24 = df[df['OVAL_FRAME'] == 1]\n",
        "df25 = df[df['OCEAN'] == 1]\n",
        "df26 = df[df['WAVES'] == 1]\n",
        "df27 = df[df['CIRRUS'] == 1]"
      ],
      "execution_count": 0,
      "outputs": []
    },
    {
      "metadata": {
        "id": "0HJJwwwmZSHL",
        "colab_type": "code",
        "colab": {
          "base_uri": "https://localhost:8080/",
          "height": 35
        },
        "outputId": "8d4291c7-62b4-4ffd-966c-388b3af28eb0"
      },
      "cell_type": "code",
      "source": [
        "new.index\n",
        "len(new.values)"
      ],
      "execution_count": 110,
      "outputs": [
        {
          "output_type": "execute_result",
          "data": {
            "text/plain": [
              "67"
            ]
          },
          "metadata": {
            "tags": []
          },
          "execution_count": 110
        }
      ]
    },
    {
      "metadata": {
        "id": "_kA7VgsFZ6XF",
        "colab_type": "code",
        "colab": {
          "base_uri": "https://localhost:8080/",
          "height": 287
        },
        "outputId": "e3ca7bd7-5cda-451f-d07c-ddabeac01cac"
      },
      "cell_type": "code",
      "source": [
        "plt.barh(new.index, new.sort_values())"
      ],
      "execution_count": 109,
      "outputs": [
        {
          "output_type": "execute_result",
          "data": {
            "text/plain": [
              "<Container object of 67 artists>"
            ]
          },
          "metadata": {
            "tags": []
          },
          "execution_count": 109
        },
        {
          "output_type": "display_data",
          "data": {
            "image/png": "[encoded data removed]",
            "text/plain": [
              "<matplotlib.figure.Figure at 0x7f55fbc0ee80>"
            ]
          },
          "metadata": {
            "tags": []
          }
        }
      ]
    },
    {
      "metadata": {
        "id": "-ch7_PdQaIML",
        "colab_type": "code",
        "colab": {}
      },
      "cell_type": "code",
      "source": [
        ""
      ],
      "execution_count": 0,
      "outputs": []
    },
    {
      "metadata": {
        "id": "MO9ZivISaRzq",
        "colab_type": "code",
        "colab": {
          "base_uri": "https://localhost:8080/",
          "height": 70
        },
        "outputId": "9e06e3f0-c430-4704-8d72-fba467049b2e"
      },
      "cell_type": "code",
      "source": [
        "new.values[0:38]"
      ],
      "execution_count": 113,
      "outputs": [
        {
          "output_type": "execute_result",
          "data": {
            "text/plain": [
              "array([  1,   2,  17,  27,   2,   7,   1, 120,  69,   4,   2,  28,   8,\n",
              "       179, 212,  86, 227,   1,   1,   1,   1,  24,   1,   1,  12,  23,\n",
              "        53, 142,  22,   1,   1,  18, 143,   0,   1,   2,   3, 160])"
            ]
          },
          "metadata": {
            "tags": []
          },
          "execution_count": 113
        }
      ]
    },
    {
      "metadata": {
        "id": "CPkrfViwbfgb",
        "colab_type": "code",
        "colab": {}
      },
      "cell_type": "code",
      "source": [
        "dfs = new.sort_values(ascending = False)"
      ],
      "execution_count": 0,
      "outputs": []
    },
    {
      "metadata": {
        "id": "UzEc_BPqbo2i",
        "colab_type": "code",
        "colab": {}
      },
      "cell_type": "code",
      "source": [
        "final = dfs[0:38]"
      ],
      "execution_count": 0,
      "outputs": []
    },
    {
      "metadata": {
        "id": "khV8c9iwb_aM",
        "colab_type": "code",
        "colab": {
          "base_uri": "https://localhost:8080/",
          "height": 287
        },
        "outputId": "26de5a44-d65b-46a3-a041-db7534f7a8a2"
      },
      "cell_type": "code",
      "source": [
        "plt.barh(final.index, final.values)"
      ],
      "execution_count": 125,
      "outputs": [
        {
          "output_type": "execute_result",
          "data": {
            "text/plain": [
              "<Container object of 38 artists>"
            ]
          },
          "metadata": {
            "tags": []
          },
          "execution_count": 125
        },
        {
          "output_type": "display_data",
          "data": {
            "image/png": "[encoded data removed]",
            "text/plain": [
              "<matplotlib.figure.Figure at 0x7f55fb884668>"
            ]
          },
          "metadata": {
            "tags": []
          }
        }
      ]
    },
    {
      "metadata": {
        "id": "t0JbBPZscPYC",
        "colab_type": "code",
        "colab": {
          "base_uri": "https://localhost:8080/",
          "height": 141
        },
        "outputId": "e48b40ad-b446-4d81-f51d-8e3c491d5913"
      },
      "cell_type": "code",
      "source": [
        "final.index"
      ],
      "execution_count": 128,
      "outputs": [
        {
          "output_type": "execute_result",
          "data": {
            "text/plain": [
              "Index(['TREE', 'TREES', 'DECIDUOUS', 'CONIFER', 'CLOUDS', 'MOUNTAIN', 'LAKE',\n",
              "       'GRASS', 'RIVER', 'BUSHES', 'SNOWY_MOUNTAIN', 'MOUNTAINS', 'CUMULUS',\n",
              "       'STRUCTURE', 'ROCKS', 'SNOW', 'CABIN', 'WINTER', 'FRAMED', 'PATH',\n",
              "       'SUN', 'WATERFALL', 'OVAL_FRAME', 'OCEAN', 'WAVES', 'CIRRUS', 'BEACH',\n",
              "       'FENCE', 'FOG', 'GUEST', 'HILLS', 'BARN', 'FLOWERS', 'NIGHT',\n",
              "       'STEVE_ROSS', 'PALM_TREES', 'CLIFF', 'BRIDGE'],\n",
              "      dtype='object')"
            ]
          },
          "metadata": {
            "tags": []
          },
          "execution_count": 128
        }
      ]
    },
    {
      "metadata": {
        "id": "QZs-6FLpcZkG",
        "colab_type": "code",
        "colab": {}
      },
      "cell_type": "code",
      "source": [
        "finals = final.sort_values(ascending = True)"
      ],
      "execution_count": 0,
      "outputs": []
    },
    {
      "metadata": {
        "id": "TnO40BcDcoVU",
        "colab_type": "code",
        "colab": {
          "base_uri": "https://localhost:8080/",
          "height": 287
        },
        "outputId": "dd093dab-97d2-4c92-b6af-7901791557b4"
      },
      "cell_type": "code",
      "source": [
        "plt.barh(finals.index, finals.values)"
      ],
      "execution_count": 136,
      "outputs": [
        {
          "output_type": "execute_result",
          "data": {
            "text/plain": [
              "<Container object of 38 artists>"
            ]
          },
          "metadata": {
            "tags": []
          },
          "execution_count": 136
        },
        {
          "output_type": "display_data",
          "data": {
            "image/png": "[encoded data removed]",
            "text/plain": [
              "<matplotlib.figure.Figure at 0x7f55fb3345c0>"
            ]
          },
          "metadata": {
            "tags": []
          }
        }
      ]
    },
    {
      "metadata": {
        "id": "NFauB5IudKXX",
        "colab_type": "code",
        "colab": {}
      },
      "cell_type": "code",
      "source": [
        ""
      ],
      "execution_count": 0,
      "outputs": []
    }
  ]
}