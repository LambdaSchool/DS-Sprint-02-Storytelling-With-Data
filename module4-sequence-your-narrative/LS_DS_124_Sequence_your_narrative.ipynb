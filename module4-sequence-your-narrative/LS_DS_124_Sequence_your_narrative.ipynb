{
  "nbformat": 4,
  "nbformat_minor": 0,
  "metadata": {
    "colab": {
      "name": "LS_DS_124_Sequence_your_narrative.ipynb",
      "version": "0.3.2",
      "provenance": [],
      "include_colab_link": true
    },
    "kernelspec": {
      "display_name": "Python 3",
      "language": "python",
      "name": "python3"
    }
  },
  "cells": [
    {
      "cell_type": "markdown",
      "metadata": {
        "id": "view-in-github",
        "colab_type": "text"
      },
      "source": [
        "<a href=\"https://colab.research.google.com/github/johnpharmd/DS-Sprint-02-Storytelling-With-Data/blob/master/module4-sequence-your-narrative/LS_DS_124_Sequence_your_narrative.ipynb\" target=\"_parent\"><img src=\"https://colab.research.google.com/assets/colab-badge.svg\" alt=\"Open In Colab\"/></a>"
      ]
    },
    {
      "metadata": {
        "id": "B40PHBq5ZDUS",
        "colab_type": "text"
      },
      "cell_type": "markdown",
      "source": [
        "_Lambda School Data Science_\n",
        "\n",
        "# Sequence your narrative\n",
        "\n",
        "Create a sequence of visualizations inspired by [Hans Rosling's 200 Countries, 200 Years, 4 Minutes](https://www.youtube.com/watch?v=jbkSRLYSojo).\n",
        "\n",
        "Using this [data from Gapminder](https://github.com/open-numbers/ddf--gapminder--systema_globalis/):\n",
        "- https://raw.githubusercontent.com/open-numbers/ddf--gapminder--systema_globalis/master/ddf--datapoints--income_per_person_gdppercapita_ppp_inflation_adjusted--by--geo--time.csv\n",
        "- https://raw.githubusercontent.com/open-numbers/ddf--gapminder--systema_globalis/master/ddf--datapoints--life_expectancy_years--by--geo--time.csv\n",
        "- https://raw.githubusercontent.com/open-numbers/ddf--gapminder--systema_globalis/master/ddf--entities--geo--country.csv\n",
        "- https://raw.githubusercontent.com/open-numbers/ddf--gapminder--systema_globalis/master/ddf--concepts.csv\n",
        "- https://raw.githubusercontent.com/open-numbers/ddf--gapminder--systema_globalis/master/ddf--datapoints--population_total--by--geo--time.csv\n",
        "\n",
        "### Stretch goals\n",
        "- [ipywidgets](https://github.com/jupyter-widgets/ipywidgets)\n",
        "- [Matplotlib animation](https://matplotlib.org/examples/animation/index.html)\n",
        "- [Connected scatter plots](http://www.thefunctionalart.com/2012/09/in-praise-of-connected-scatter-plots.html)\n",
        "- [Idyll markup language](https://idyll-lang.org/) for \"scrollytelling\""
      ]
    },
    {
      "metadata": {
        "id": "efMngqh7a0uQ",
        "colab_type": "code",
        "colab": {}
      },
      "cell_type": "code",
      "source": [
        "import matplotlib.pyplot as plt\n",
        "import numpy as np\n",
        "import pandas as pd\n",
        "import seaborn as sns"
      ],
      "execution_count": 0,
      "outputs": []
    },
    {
      "metadata": {
        "id": "msHLuCHi-5N-",
        "colab_type": "code",
        "colab": {
          "base_uri": "https://localhost:8080/",
          "height": 36
        },
        "outputId": "e7c05793-1f6a-4f6e-e5d4-fb8473d1699f"
      },
      "cell_type": "code",
      "source": [
        "sns.__version__"
      ],
      "execution_count": 2,
      "outputs": [
        {
          "output_type": "execute_result",
          "data": {
            "text/plain": [
              "'0.9.0'"
            ]
          },
          "metadata": {
            "tags": []
          },
          "execution_count": 2
        }
      ]
    },
    {
      "metadata": {
        "id": "wzZZzLRsZDUd",
        "colab_type": "code",
        "colab": {
          "base_uri": "https://localhost:8080/",
          "height": 224
        },
        "outputId": "30bfe0f0-0b91-4113-8e27-f7c6a2ce8fae"
      },
      "cell_type": "code",
      "source": [
        "! pip install --upgrade seaborn"
      ],
      "execution_count": 3,
      "outputs": [
        {
          "output_type": "stream",
          "text": [
            "Requirement already up-to-date: seaborn in /usr/local/lib/python3.6/dist-packages (0.9.0)\n",
            "Requirement already satisfied, skipping upgrade: numpy>=1.9.3 in /usr/local/lib/python3.6/dist-packages (from seaborn) (1.14.6)\n",
            "Requirement already satisfied, skipping upgrade: matplotlib>=1.4.3 in /usr/local/lib/python3.6/dist-packages (from seaborn) (2.1.2)\n",
            "Requirement already satisfied, skipping upgrade: pandas>=0.15.2 in /usr/local/lib/python3.6/dist-packages (from seaborn) (0.22.0)\n",
            "Requirement already satisfied, skipping upgrade: scipy>=0.14.0 in /usr/local/lib/python3.6/dist-packages (from seaborn) (1.1.0)\n",
            "Requirement already satisfied, skipping upgrade: pyparsing!=2.0.4,!=2.1.2,!=2.1.6,>=2.0.1 in /usr/local/lib/python3.6/dist-packages (from matplotlib>=1.4.3->seaborn) (2.3.0)\n",
            "Requirement already satisfied, skipping upgrade: pytz in /usr/local/lib/python3.6/dist-packages (from matplotlib>=1.4.3->seaborn) (2018.7)\n",
            "Requirement already satisfied, skipping upgrade: cycler>=0.10 in /usr/local/lib/python3.6/dist-packages (from matplotlib>=1.4.3->seaborn) (0.10.0)\n",
            "Requirement already satisfied, skipping upgrade: python-dateutil>=2.1 in /usr/local/lib/python3.6/dist-packages (from matplotlib>=1.4.3->seaborn) (2.5.3)\n",
            "Requirement already satisfied, skipping upgrade: six>=1.10 in /usr/local/lib/python3.6/dist-packages (from matplotlib>=1.4.3->seaborn) (1.11.0)\n"
          ],
          "name": "stdout"
        }
      ]
    },
    {
      "metadata": {
        "id": "tlSUfkYa-9eU",
        "colab_type": "code",
        "colab": {}
      },
      "cell_type": "code",
      "source": [
        "import seaborn as sns"
      ],
      "execution_count": 0,
      "outputs": []
    },
    {
      "metadata": {
        "id": "h0Wfaol0_bsR",
        "colab_type": "code",
        "colab": {}
      },
      "cell_type": "code",
      "source": [
        "income = pd.read_csv('https://raw.githubusercontent.com/open-numbers/ddf--gapminder--systema_globalis/master/ddf--datapoints--income_per_person_gdppercapita_ppp_inflation_adjusted--by--geo--time.csv')\n",
        "lifespan = pd.read_csv('https://raw.githubusercontent.com/open-numbers/ddf--gapminder--systema_globalis/master/ddf--datapoints--life_expectancy_years--by--geo--time.csv')\n",
        "entities = pd.read_csv('https://raw.githubusercontent.com/open-numbers/ddf--gapminder--systema_globalis/master/ddf--entities--geo--country.csv')\n",
        "concepts = pd.read_csv('https://raw.githubusercontent.com/open-numbers/ddf--gapminder--systema_globalis/master/ddf--concepts.csv')\n",
        "population = pd.read_csv('https://raw.githubusercontent.com/open-numbers/ddf--gapminder--systema_globalis/master/ddf--datapoints--population_total--by--geo--time.csv')"
      ],
      "execution_count": 0,
      "outputs": []
    },
    {
      "metadata": {
        "id": "BLrFcndaAhkF",
        "colab_type": "code",
        "colab": {
          "base_uri": "https://localhost:8080/",
          "height": 36
        },
        "outputId": "b0e8e485-9a1c-4db6-fac1-728535c70fb3"
      },
      "cell_type": "code",
      "source": [
        "income.shape, lifespan.shape, entities.shape, concepts.shape, population.shape"
      ],
      "execution_count": 6,
      "outputs": [
        {
          "output_type": "execute_result",
          "data": {
            "text/plain": [
              "((44268, 3), (44370, 3), (273, 33), (590, 16), (51939, 3))"
            ]
          },
          "metadata": {
            "tags": []
          },
          "execution_count": 6
        }
      ]
    },
    {
      "metadata": {
        "id": "Di7pBpD4H_zb",
        "colab_type": "code",
        "colab": {
          "base_uri": "https://localhost:8080/",
          "height": 206
        },
        "outputId": "8cbbb097-efb6-47ff-e6d3-88ac935d782e"
      },
      "cell_type": "code",
      "source": [
        "lifespan.head()"
      ],
      "execution_count": 7,
      "outputs": [
        {
          "output_type": "execute_result",
          "data": {
            "text/html": [
              "<div>\n",
              "<style scoped>\n",
              "    .dataframe tbody tr th:only-of-type {\n",
              "        vertical-align: middle;\n",
              "    }\n",
              "\n",
              "    .dataframe tbody tr th {\n",
              "        vertical-align: top;\n",
              "    }\n",
              "\n",
              "    .dataframe thead th {\n",
              "        text-align: right;\n",
              "    }\n",
              "</style>\n",
              "<table border=\"1\" class=\"dataframe\">\n",
              "  <thead>\n",
              "    <tr style=\"text-align: right;\">\n",
              "      <th></th>\n",
              "      <th>geo</th>\n",
              "      <th>time</th>\n",
              "      <th>life_expectancy_years</th>\n",
              "    </tr>\n",
              "  </thead>\n",
              "  <tbody>\n",
              "    <tr>\n",
              "      <th>0</th>\n",
              "      <td>abw</td>\n",
              "      <td>1800</td>\n",
              "      <td>34.42</td>\n",
              "    </tr>\n",
              "    <tr>\n",
              "      <th>1</th>\n",
              "      <td>abw</td>\n",
              "      <td>1801</td>\n",
              "      <td>34.42</td>\n",
              "    </tr>\n",
              "    <tr>\n",
              "      <th>2</th>\n",
              "      <td>abw</td>\n",
              "      <td>1802</td>\n",
              "      <td>34.42</td>\n",
              "    </tr>\n",
              "    <tr>\n",
              "      <th>3</th>\n",
              "      <td>abw</td>\n",
              "      <td>1803</td>\n",
              "      <td>34.42</td>\n",
              "    </tr>\n",
              "    <tr>\n",
              "      <th>4</th>\n",
              "      <td>abw</td>\n",
              "      <td>1804</td>\n",
              "      <td>34.42</td>\n",
              "    </tr>\n",
              "  </tbody>\n",
              "</table>\n",
              "</div>"
            ],
            "text/plain": [
              "   geo  time  life_expectancy_years\n",
              "0  abw  1800                  34.42\n",
              "1  abw  1801                  34.42\n",
              "2  abw  1802                  34.42\n",
              "3  abw  1803                  34.42\n",
              "4  abw  1804                  34.42"
            ]
          },
          "metadata": {
            "tags": []
          },
          "execution_count": 7
        }
      ]
    },
    {
      "metadata": {
        "id": "bvDsmdRKIFEA",
        "colab_type": "code",
        "colab": {
          "base_uri": "https://localhost:8080/",
          "height": 206
        },
        "outputId": "104ff001-dfbd-49d5-f80c-ba826ca9e5a7"
      },
      "cell_type": "code",
      "source": [
        "population.head()"
      ],
      "execution_count": 8,
      "outputs": [
        {
          "output_type": "execute_result",
          "data": {
            "text/html": [
              "<div>\n",
              "<style scoped>\n",
              "    .dataframe tbody tr th:only-of-type {\n",
              "        vertical-align: middle;\n",
              "    }\n",
              "\n",
              "    .dataframe tbody tr th {\n",
              "        vertical-align: top;\n",
              "    }\n",
              "\n",
              "    .dataframe thead th {\n",
              "        text-align: right;\n",
              "    }\n",
              "</style>\n",
              "<table border=\"1\" class=\"dataframe\">\n",
              "  <thead>\n",
              "    <tr style=\"text-align: right;\">\n",
              "      <th></th>\n",
              "      <th>geo</th>\n",
              "      <th>time</th>\n",
              "      <th>population_total</th>\n",
              "    </tr>\n",
              "  </thead>\n",
              "  <tbody>\n",
              "    <tr>\n",
              "      <th>0</th>\n",
              "      <td>abw</td>\n",
              "      <td>1800</td>\n",
              "      <td>19286</td>\n",
              "    </tr>\n",
              "    <tr>\n",
              "      <th>1</th>\n",
              "      <td>abw</td>\n",
              "      <td>1801</td>\n",
              "      <td>19286</td>\n",
              "    </tr>\n",
              "    <tr>\n",
              "      <th>2</th>\n",
              "      <td>abw</td>\n",
              "      <td>1802</td>\n",
              "      <td>19286</td>\n",
              "    </tr>\n",
              "    <tr>\n",
              "      <th>3</th>\n",
              "      <td>abw</td>\n",
              "      <td>1803</td>\n",
              "      <td>19286</td>\n",
              "    </tr>\n",
              "    <tr>\n",
              "      <th>4</th>\n",
              "      <td>abw</td>\n",
              "      <td>1804</td>\n",
              "      <td>19286</td>\n",
              "    </tr>\n",
              "  </tbody>\n",
              "</table>\n",
              "</div>"
            ],
            "text/plain": [
              "   geo  time  population_total\n",
              "0  abw  1800             19286\n",
              "1  abw  1801             19286\n",
              "2  abw  1802             19286\n",
              "3  abw  1803             19286\n",
              "4  abw  1804             19286"
            ]
          },
          "metadata": {
            "tags": []
          },
          "execution_count": 8
        }
      ]
    },
    {
      "metadata": {
        "id": "QpX1dPZWIcCF",
        "colab_type": "code",
        "colab": {
          "base_uri": "https://localhost:8080/",
          "height": 9180
        },
        "outputId": "2a59ab8a-c455-47fe-ada2-216243824ea4"
      },
      "cell_type": "code",
      "source": [
        "concepts.concept.unique()"
      ],
      "execution_count": 9,
      "outputs": [
        {
          "output_type": "execute_result",
          "data": {
            "text/plain": [
              "array(['adults_with_hiv_percent_age_15_49', 'age_at_1st_marriage_women',\n",
              "       'aged_15_24_employment_rate_percent',\n",
              "       'aged_15_24_unemployment_rate_percent',\n",
              "       'aged_15_64_labour_force_participation_rate_percent',\n",
              "       'aged_15plus_employment_rate_percent',\n",
              "       'aged_15plus_labour_force_participation_rate_percent',\n",
              "       'aged_15plus_unemployment_rate_percent',\n",
              "       'aged_25_54_labour_force_participation_rate_percent',\n",
              "       'aged_25_54_unemployment_rate_percent',\n",
              "       'aged_55_64_unemployment_rate_percent',\n",
              "       'aged_65plus_labour_force_participation_rate_percent',\n",
              "       'aged_65plus_unemployment_rate_percent',\n",
              "       'agricultural_land_percent_of_land_area',\n",
              "       'agricultural_water_withdrawal_percent_of_total',\n",
              "       'agriculture_percent_of_gdp',\n",
              "       'agriculture_workers_percent_of_employment', 'aid_given_2007_us',\n",
              "       'aid_given_per_person_2007_us', 'aid_given_percent_of_gni',\n",
              "       'aid_received_per_person_current_us',\n",
              "       'aid_received_percent_of_gni',\n",
              "       'aid_received_total_us_inflation_adjusted',\n",
              "       'alcohol_consumption_per_adult_15plus_litres',\n",
              "       'all_causes_deaths_in_children_1_59_months_per_1000_births',\n",
              "       'all_causes_deaths_in_children_1_59_months_total_deaths',\n",
              "       'all_causes_deaths_in_newborn_per_1000_births',\n",
              "       'all_causes_deaths_in_newborn_total_deaths',\n",
              "       'all_forms_of_tb_deaths_per_100000_estimated',\n",
              "       'all_forms_of_tb_detection_rate_percent',\n",
              "       'all_forms_of_tb_detection_rate_percent_dots_only',\n",
              "       'all_forms_of_tb_existing_cases_per_100000_estimated',\n",
              "       'all_forms_of_tb_new_cases_per_100000_estimated',\n",
              "       'all_forms_of_tb_new_cases_per_100000_reported',\n",
              "       'all_forms_of_tb_number_of_deaths_estimated',\n",
              "       'all_forms_of_tb_number_of_existing_cases_estimated',\n",
              "       'all_forms_of_tb_number_of_new_cases_estimated',\n",
              "       'all_forms_of_tb_number_of_new_cases_reported', 'alt_5',\n",
              "       'alternative_1', 'alternative_2', 'alternative_3',\n",
              "       'alternative_4_cdiac', 'alternative_gdp_per_capita_ppp_pwt_7_1',\n",
              "       'alternative_gdp_per_capita_ppp_pwt_8_0',\n",
              "       'alternative_gdp_per_capita_ppp_wb',\n",
              "       'alternative_gdppercapita_ppp_inflation_adjusted_from_pwt',\n",
              "       'alternative_poverty_percent_below_nationally_defined_poverty',\n",
              "       'annual_hiv_deaths_number_all_ages', 'arb1', 'arb2', 'arb3',\n",
              "       'arb4', 'arb5', 'arb6',\n",
              "       'armed_forces_personnel_percent_of_labor_force',\n",
              "       'armed_forces_personnel_total',\n",
              "       'arms_exports_us_inflation_adjusted',\n",
              "       'arms_imports_us_inflation_adjusted',\n",
              "       'art_coverage_percent_cd4_l_350',\n",
              "       'at_least_basic_sanitation_overall_access_percent',\n",
              "       'at_least_basic_sanitation_rural_access_percent',\n",
              "       'at_least_basic_sanitation_urban_access_percent',\n",
              "       'at_least_basic_water_source_overall_access_percent',\n",
              "       'at_least_basic_water_source_rural_access_percent',\n",
              "       'at_least_basic_water_source_urban_access_percent',\n",
              "       'average_age_of_dollar_billionaires_years',\n",
              "       'bad_teeth_per_child_12_yr', 'battle_deaths_per_100_000',\n",
              "       'biomass_stock_in_forest_tons',\n",
              "       'birth_asphyxia_deaths_in_newborn_per_1000_births',\n",
              "       'birth_asphyxia_deaths_in_newborn_total_deaths',\n",
              "       'births_attended_by_skilled_health_staff_percent_of_total',\n",
              "       'blood_pressure_sbp_men_mmhg', 'blood_pressure_sbp_women_mmhg',\n",
              "       'body_mass_index_bmi_men_kgperm2',\n",
              "       'body_mass_index_bmi_women_kgperm2',\n",
              "       'breast_cancer_deaths_per_100000_women',\n",
              "       'breast_cancer_new_cases_per_100000_women',\n",
              "       'breast_cancer_number_of_female_deaths',\n",
              "       'breast_cancer_number_of_new_female_cases',\n",
              "       'broadband_subscribers', 'broadband_subscribers_per_100_people',\n",
              "       'burns_deaths_per_100000_people', 'car_deaths_per_100000_people',\n",
              "       'cars_trucks_and_buses_per_1000_persons',\n",
              "       'cell_phones_per_100_people', 'cell_phones_total',\n",
              "       'central_bank_discount_rate_annual_percent',\n",
              "       'cervical_cancer_deaths_per_100000_women',\n",
              "       'cervical_cancer_new_cases_per_100000_women',\n",
              "       'cervical_cancer_number_of_female_deaths',\n",
              "       'cervical_cancer_number_of_new_female_cases',\n",
              "       'child_mortality_0_5_year_olds_dying_per_1000_born',\n",
              "       'child_mortality_0_5_year_olds_more_years_version_7',\n",
              "       'children_and_elderly_per_100_adults',\n",
              "       'children_out_of_school_primary',\n",
              "       'children_out_of_school_primary_female',\n",
              "       'children_out_of_school_primary_male',\n",
              "       'children_per_woman_total_fertility',\n",
              "       'children_per_woman_total_fertility_with_projections',\n",
              "       'cholesterol_fat_in_blood_men_mmolperl',\n",
              "       'cholesterol_fat_in_blood_women_mmolperl',\n",
              "       'co2_emissions_tonnes_per_person',\n",
              "       'co2_intensity_of_economic_output_kg_co2_per_2011_ppp_of_gdp',\n",
              "       'coal_consumption_per_cap', 'coal_consumption_total',\n",
              "       'colonandrectum_cancer_deaths_per_100000_men',\n",
              "       'colonandrectum_cancer_deaths_per_100000_women',\n",
              "       'colonandrectum_cancer_new_cases_per_100000_men',\n",
              "       'colonandrectum_cancer_new_cases_per_100000_women',\n",
              "       'colonandrectum_cancer_number_of_female_deaths',\n",
              "       'colonandrectum_cancer_number_of_male_deaths',\n",
              "       'colonandrectum_cancer_number_of_new_female_cases',\n",
              "       'colonandrectum_cancer_number_of_new_male_cases', 'color',\n",
              "       'congenital_deaths_in_newborn_per_1000_births',\n",
              "       'congenital_deaths_in_newborn_total_deaths',\n",
              "       'contraceptive_use_percent_of_women_ages_15_49',\n",
              "       'corruption_perception_index_cpi',\n",
              "       'corruption_perception_index_cpi_pre2012', 'country',\n",
              "       'crude_birth_rate_births_per_1000_population',\n",
              "       'crude_death_rate_deaths_per_1000_population',\n",
              "       'cumulative_co2_emissions_tonnes',\n",
              "       'data_method_maternal_mortality',\n",
              "       'data_quality_children_per_woman',\n",
              "       'data_quality_income_per_person', 'data_quality_life_expectancy',\n",
              "       'data_quality_population', 'dead_kids_per_woman',\n",
              "       'debt_servicing_costs_percent_of_exports_and_net_income_from_abroad',\n",
              "       'debt_to_foreigners_by_public_and_private_percent_of_gni',\n",
              "       'democracy_score_use_as_color',\n",
              "       'desalinated_water_produced_billion_cu_meters', 'description',\n",
              "       'description_long',\n",
              "       'diarrhoeal_deaths_in_children_1_59_months_per_1000_births',\n",
              "       'diarrhoeal_deaths_in_children_1_59_months_total_deaths',\n",
              "       'diarrhoeal_deaths_in_newborn_per_1000_births',\n",
              "       'diarrhoeal_deaths_in_newborn_total_deaths',\n",
              "       'dollar_billionaires_per_million_people', 'domain', 'drill_up',\n",
              "       'drought_affected_annual_number', 'drought_deaths_annual_number',\n",
              "       'drownings_per_100000_people',\n",
              "       'dtp3_immunized_percent_of_one_year_olds',\n",
              "       'earthquake_affected_annual_number',\n",
              "       'earthquake_deaths_annual_number',\n",
              "       'economic_growth_over_the_past_10_years',\n",
              "       'economical_infrastructure_aid_given_percent_of_aid',\n",
              "       'education_aid_given_percent_of_aid',\n",
              "       'electricity_generation_per_person',\n",
              "       'electricity_generation_total', 'electricity_use_per_person',\n",
              "       'energy_from_solid_biofuels_percent',\n",
              "       'energy_production_per_person', 'energy_production_total',\n",
              "       'energy_supply_per_person_toe', 'energy_use_per_person',\n",
              "       'epidemic_affected_annual_number', 'epidemic_deaths_annual_number',\n",
              "       'expenditure_per_student_primary_percent_of_gdp_per_person',\n",
              "       'expenditure_per_student_secondary_percent_of_gdp_per_person',\n",
              "       'expenditure_per_student_tertiary_percent_of_gdp_per_person',\n",
              "       'exports_percent_of_gdp', 'exports_unit_value_index_2000100',\n",
              "       'external_debt_total_us_not_inflation_adjusted',\n",
              "       'extreme_poverty_percent_people_below_190_a_day',\n",
              "       'extreme_temperature_affected_annual_number',\n",
              "       'extreme_temperature_deaths_annual_number',\n",
              "       'falls_deaths_per_100000_people',\n",
              "       'family_workers_percent_of_employment',\n",
              "       'female_agriculture_workers_percent_of_female_employment',\n",
              "       'female_family_workers_percent_of_female_employment',\n",
              "       'female_industry_workers_percent_of_female_employment',\n",
              "       'female_long_term_unemployment_rate_percent',\n",
              "       'female_population_with_projections',\n",
              "       'female_salaried_workers_percent_of_non_agricultural_female_employment',\n",
              "       'female_self_employed_percent_of_female_employment',\n",
              "       'female_service_workers_percent_of_female_employment',\n",
              "       'females_aged_15_24_employment_rate_percent',\n",
              "       'females_aged_15_24_unemployment_rate_percent',\n",
              "       'females_aged_15_64_labour_force_participation_rate_percent',\n",
              "       'females_aged_15plus_employment_rate_percent',\n",
              "       'females_aged_15plus_labour_force_participation_rate_percent',\n",
              "       'females_aged_15plus_unemployment_rate_percent',\n",
              "       'females_aged_25_54_labour_force_participation_rate_percent',\n",
              "       'females_aged_25_54_unemployment_rate_percent',\n",
              "       'females_aged_55_64_unemployment_rate_percent',\n",
              "       'females_aged_65plus_labour_force_participation_rate_percent',\n",
              "       'females_aged_65plus_unemployment_rate_percent',\n",
              "       'fixed_line_subscribers_per_100_people',\n",
              "       'flood_affected_annual_number', 'flood_deaths_annual_number',\n",
              "       'food_supply_kilocalories_per_person_and_day',\n",
              "       'foreign_direct_investment_net_inflows_percent_of_gdp',\n",
              "       'foreign_direct_investment_net_outflows_percent_of_gdp',\n",
              "       'forest_area_sq_km', 'forest_coverage_percent',\n",
              "       'forest_land_total_area_ha',\n",
              "       'forest_products_removal_per_ha_dollar',\n",
              "       'forest_products_removal_total_dollar', 'g77_and_oecd_countries',\n",
              "       'gapminder_gini', 'gapminder_list', 'gdp_per_capita_yearly_growth',\n",
              "       'gdp_total_yearly_growth',\n",
              "       'gdppercapita_growth_over_next_10_years',\n",
              "       'gdppercapita_growth_percent_per_year',\n",
              "       'gdppercapita_us_inflation_adjusted',\n",
              "       'gdpperemployee_us_inflation_adjusted',\n",
              "       'gdpperworking_hour_us_inflation_adjusted', 'geo', 'global',\n",
              "       'gnipercapita_atlasmethod_current_us',\n",
              "       'gnipercapita_constant_2010_us',\n",
              "       'gnipercapita_ppp_current_international', 'god_id',\n",
              "       'government_and_society_aid_given_percent_of_aid',\n",
              "       'government_health_spending_of_total_gov_spending_percent',\n",
              "       'government_health_spending_per_person_international_dollar',\n",
              "       'government_health_spending_per_person_us',\n",
              "       'government_share_of_total_health_spending_percent', 'gwid',\n",
              "       'hdi_human_development_index', 'health_aid_given_percent_of_aid',\n",
              "       'hepb3_immunized_percent_of_one_year_olds',\n",
              "       'hib3_immunized_percent_of_one_year_olds',\n",
              "       'high_technology_exports_percent_of_manufactured_exports',\n",
              "       'hiv_deaths_in_children_1_59_months_per_1000_births',\n",
              "       'hiv_deaths_in_children_1_59_months_total_deaths',\n",
              "       'hourly_labour_cost_constant_2011_usd',\n",
              "       'hydro_power_generation_per_person',\n",
              "       'hydro_power_generation_total', 'ifpri_underweight_children',\n",
              "       'imports_percent_of_gdp', 'imports_unit_value_index_2000100',\n",
              "       'income_groups', 'income_mountains',\n",
              "       'income_per_person_gdppercapita_ppp_inflation_adjusted',\n",
              "       'income_per_person_long_series',\n",
              "       'income_per_person_with_projections',\n",
              "       'income_share_of_2nd_poorest_20percent',\n",
              "       'income_share_of_2nd_richest_20percent',\n",
              "       'income_share_of_middle_20percent',\n",
              "       'income_share_of_poorest_10percent',\n",
              "       'income_share_of_poorest_20percent',\n",
              "       'income_share_of_richest_10percent',\n",
              "       'income_share_of_richest_20percent', 'indicator_url',\n",
              "       'industrial_water_withdrawal_percent_of_total',\n",
              "       'industry_percent_of_gdp',\n",
              "       'industry_workers_percent_of_employment', 'inequality_index_gini',\n",
              "       'infant_mortality_rate_per_1000_births',\n",
              "       'infectious_tb_detection_rate_percent',\n",
              "       'infectious_tb_detection_rate_percent_dots_only',\n",
              "       'infectious_tb_new_cases_per_100000_estimated',\n",
              "       'infectious_tb_new_cases_per_100000_reported',\n",
              "       'infectious_tb_number_of_new_cases_estimated',\n",
              "       'infectious_tb_number_of_new_cases_reported',\n",
              "       'infectious_tb_treatment_dots_completed_percent',\n",
              "       'inflation_annual_percent',\n",
              "       'injury_deaths_in_children_1_59_months_per_1000_births',\n",
              "       'injury_deaths_in_children_1_59_months_total_deaths',\n",
              "       'internal_renewable_water_cu_meters_per_person', 'internet_users',\n",
              "       'investments_percent_of_gdp', 'iso3166_1_alpha2',\n",
              "       'iso3166_1_alpha3', 'iso3166_1_numeric', 'iso3166_2', 'landlocked',\n",
              "       'latitude', 'life_expectancy_at_birth_data_from_ihme',\n",
              "       'life_expectancy_at_birth_with_projections',\n",
              "       'life_expectancy_female', 'life_expectancy_male',\n",
              "       'life_expectancy_years',\n",
              "       'literacy_rate_adult_female_percent_of_females_ages_15_above',\n",
              "       'literacy_rate_adult_male_percent_of_males_ages_15_and_above',\n",
              "       'literacy_rate_adult_total_percent_of_people_ages_15_and_above',\n",
              "       'literacy_rate_youth_female_percent_of_females_ages_15_24',\n",
              "       'literacy_rate_youth_male_percent_of_males_ages_15_24',\n",
              "       'literacy_rate_youth_total_percent_of_people_ages_15_24',\n",
              "       'liver_cancer_deaths_per_100000_men',\n",
              "       'liver_cancer_deaths_per_100000_women',\n",
              "       'liver_cancer_new_cases_per_100000_men',\n",
              "       'liver_cancer_new_cases_per_100000_women',\n",
              "       'liver_cancer_number_of_female_deaths',\n",
              "       'liver_cancer_number_of_male_deaths',\n",
              "       'liver_cancer_number_of_new_female_cases',\n",
              "       'liver_cancer_number_of_new_male_cases',\n",
              "       'long_term_unemployment_rate_percent', 'longitude',\n",
              "       'lung_cancer_deaths_per_100000_men',\n",
              "       'lung_cancer_deaths_per_100000_women',\n",
              "       'lung_cancer_new_cases_per_100000_men',\n",
              "       'lung_cancer_new_cases_per_100000_women',\n",
              "       'lung_cancer_number_of_female_deaths',\n",
              "       'lung_cancer_number_of_male_deaths',\n",
              "       'lung_cancer_number_of_new_female_cases',\n",
              "       'lung_cancer_number_of_new_male_cases', 'main_religion_2008',\n",
              "       'malaria_cases_per_100000_reported',\n",
              "       'malaria_deaths_in_children_1_59_months_per_1000_births',\n",
              "       'malaria_deaths_in_children_1_59_months_total_deaths',\n",
              "       'malaria_deaths_per_100000_reported',\n",
              "       'malaria_number_of_cases_reported',\n",
              "       'malaria_number_of_deaths_reported',\n",
              "       'male_agriculture_workers_percent_of_male_employment',\n",
              "       'male_family_workers_percent_of_male_employment',\n",
              "       'male_industry_workers_percent_of_male_employment',\n",
              "       'male_long_term_unemployment_rate_percent',\n",
              "       'male_population_with_projections',\n",
              "       'male_salaried_workers_percent_of_non_agricultural_male_employment',\n",
              "       'male_self_employed_percent_of_male_employment',\n",
              "       'male_service_workers_percent_of_male_employment',\n",
              "       'males_aged_15_24_employment_rate_percent',\n",
              "       'males_aged_15_24_unemployment_rate_percent',\n",
              "       'males_aged_15_64_labour_force_participation_rate_percent',\n",
              "       'males_aged_15plus_employment_rate_percent',\n",
              "       'males_aged_15plus_labour_force_participation_rate_percent',\n",
              "       'males_aged_15plus_unemployment_rate_percent',\n",
              "       'males_aged_25_54_labour_force_participation_rate_percent',\n",
              "       'males_aged_25_54_unemployment_rate_percent',\n",
              "       'males_aged_55_64_unemployment_rate_percent',\n",
              "       'males_aged_65plus_labour_force_participation_rate_percent',\n",
              "       'males_aged_65plus_unemployment_rate_percent',\n",
              "       'malnutrition_weight_for_age_percent_of_children_under_5',\n",
              "       'market_value_of_listed_companies_percent_of_gdp',\n",
              "       'maternal_deaths_lifetime_risk_per_1000',\n",
              "       'maternal_deaths_total_number',\n",
              "       'maternal_mortality_ratio_per_100000_live_births',\n",
              "       'maternal_mortality_ratio_who', 'math_achievement_4th_grade',\n",
              "       'math_achievement_8th_grade',\n",
              "       'mcv_immunized_percent_of_one_year_olds',\n",
              "       'mean_years_in_school_men_15_to_24_years',\n",
              "       'mean_years_in_school_men_25_to_34_years',\n",
              "       'mean_years_in_school_men_25_years_and_older',\n",
              "       'mean_years_in_school_men_35_to_44_years',\n",
              "       'mean_years_in_school_men_45_to_54_years',\n",
              "       'mean_years_in_school_men_55_to_64_years',\n",
              "       'mean_years_in_school_men_65_plus_years',\n",
              "       'mean_years_in_school_women_15_to_24_years',\n",
              "       'mean_years_in_school_women_25_to_34_years',\n",
              "       'mean_years_in_school_women_25_years_and_older',\n",
              "       'mean_years_in_school_women_35_to_44_years',\n",
              "       'mean_years_in_school_women_45_to_54_years',\n",
              "       'mean_years_in_school_women_55_to_64_years',\n",
              "       'mean_years_in_school_women_65_plus_years',\n",
              "       'mean_years_in_school_women_of_reproductive_age_15_to_44',\n",
              "       'mean_years_in_school_women_percent_men_25_to_34_years',\n",
              "       'measles_deaths_in_children_1_59_months_per_1000_births',\n",
              "       'measles_deaths_in_children_1_59_months_total_deaths',\n",
              "       'median_age_years', 'medical_doctors_per_1000_people',\n",
              "       'meningitis_deaths_in_children_1_59_months_per_1000_births',\n",
              "       'meningitis_deaths_in_children_1_59_months_total_deaths',\n",
              "       'merchandise_trade_percent_of_gdp',\n",
              "       'military_expenditure_percent_of_gdp',\n",
              "       'motorcycle_deaths_per_100000_people',\n",
              "       'multisector_cross_cutting_aid_given_percent_of_aid',\n",
              "       'municipal_water_withdrawal_cu_meters_per_person',\n",
              "       'municipal_water_withdrawal_percent_of_total',\n",
              "       'murder_per_100000_people', 'murder_total_deaths',\n",
              "       'murdered_15_29_per_100000_people',\n",
              "       'murdered_30_44_per_100000_people',\n",
              "       'murdered_45_59_per_100000_people',\n",
              "       'murdered_60plus_per_100000_people',\n",
              "       'murdered_children_0_14_per_100000_people',\n",
              "       'murdered_men_per_100000_people',\n",
              "       'murdered_women_per_100000_people', 'name', 'name_catalog',\n",
              "       'name_long', 'name_short', 'natural_gas_production_per_person',\n",
              "       'natural_gas_production_total',\n",
              "       'natural_gas_proved_reserves_total',\n",
              "       'natural_gas_proven_reserves_per_person',\n",
              "       'ncd_deaths_in_children_1_59_months_per_1000_births',\n",
              "       'ncd_deaths_in_children_1_59_months_total_deaths',\n",
              "       'net_barter_terms_of_trade_2000_100',\n",
              "       'new_births_total_number_estimated', 'newborn_deaths',\n",
              "       'newborn_mortality_rate_per_1000',\n",
              "       'newly_hiv_infected_number_all_ages',\n",
              "       'newly_hiv_infected_percent_age_15_49',\n",
              "       'nuclear_power_generation_per_person',\n",
              "       'nuclear_power_generation_total', 'number_of_child_deaths',\n",
              "       'number_of_people_in_poverty', 'oil_consumption_per_cap',\n",
              "       'oil_consumption_total', 'oil_production_per_person',\n",
              "       'oil_production_total', 'oil_proved_reserves_total',\n",
              "       'oil_proven_reserves_per_person',\n",
              "       'other_deaths_in_newborn_per_1000_births',\n",
              "       'other_deaths_in_newborn_total_deaths',\n",
              "       'other_infections_deaths_in_children_1_59_months_per_1000_birt',\n",
              "       'other_infections_deaths_in_children_1_59_months_total_deaths',\n",
              "       'other_social_services_aid_given_percent_of_aid',\n",
              "       'out_of_pocket_share_of_total_health_spending_percent',\n",
              "       'pab_immunized_percent_of_newborns', 'pandg', 'parent',\n",
              "       'patent_applications_total', 'patents_granted_total',\n",
              "       'patents_in_force_total', 'people_living_with_hiv_number_all_ages',\n",
              "       'personal_computers_per_100_people', 'personal_computers_total',\n",
              "       'pertussis_deaths_in_children_1_59_months_per_1000_births',\n",
              "       'pertussis_deaths_in_children_1_59_months_total_deaths',\n",
              "       'plane_crash_affected_annual_number',\n",
              "       'plane_crash_deaths_annual_number', 'planted_forest_area_ha',\n",
              "       'pneumonia_deaths_in_children_1_59_months_per_1000_births',\n",
              "       'pneumonia_deaths_in_children_1_59_months_total_deaths',\n",
              "       'pneumonia_deaths_in_newborn_per_1000_births',\n",
              "       'pneumonia_deaths_in_newborn_total_deaths',\n",
              "       'poisonings_deaths_per_100000_people',\n",
              "       'population_aged_0_4_years_both_sexes_percent',\n",
              "       'population_aged_0_4_years_female_percent',\n",
              "       'population_aged_0_4_years_male_percent',\n",
              "       'population_aged_0_4_years_total_number',\n",
              "       'population_aged_10_14_years_both_sexes_percent',\n",
              "       'population_aged_10_14_years_female_percent',\n",
              "       'population_aged_10_14_years_male_percent',\n",
              "       'population_aged_10_14_years_total_number',\n",
              "       'population_aged_15_19_years_both_sexes_percent',\n",
              "       'population_aged_15_19_years_female_percent',\n",
              "       'population_aged_15_19_years_male_percent',\n",
              "       'population_aged_15_19_years_total_number',\n",
              "       'population_aged_20_39_years_both_sexes_percent',\n",
              "       'population_aged_20_39_years_female_percent',\n",
              "       'population_aged_20_39_years_male_percent',\n",
              "       'population_aged_20_39_years_total_number',\n",
              "       'population_aged_40_59_years_both_sexes_percent',\n",
              "       'population_aged_40_59_years_female_percent',\n",
              "       'population_aged_40_59_years_male_percent',\n",
              "       'population_aged_40_59_years_total_number',\n",
              "       'population_aged_5_9_years_both_sexes_percent',\n",
              "       'population_aged_5_9_years_female_percent',\n",
              "       'population_aged_5_9_years_male_percent',\n",
              "       'population_aged_5_9_years_total_number',\n",
              "       'population_aged_60plus_years_both_sexes_percent',\n",
              "       'population_aged_60plus_years_female_percent',\n",
              "       'population_aged_60plus_years_male_percent',\n",
              "       'population_aged_60plus_years_total_number',\n",
              "       'population_density_per_square_km',\n",
              "       'population_growth_annual_percent',\n",
              "       'population_growth_annual_percent_with_projections',\n",
              "       'population_in_urban_agglomerations_m_1_million_percent_of_total',\n",
              "       'population_policies_aid_given_percent_of_aid', 'population_total',\n",
              "       'poverty_percent_people_below_320_a_day',\n",
              "       'poverty_percent_people_below_550_a_day',\n",
              "       'prematurity_deaths_in_newborn_per_1000_births',\n",
              "       'prematurity_deaths_in_newborn_total_deaths',\n",
              "       'present_value_of_debt_percent_of_gni',\n",
              "       'primary_completion_rate_total_percent_of_relevant_age_group',\n",
              "       'primary_forest_area_ha',\n",
              "       'primary_school_completion_percent_of_boys',\n",
              "       'primary_school_completion_percent_of_girls',\n",
              "       'private_share_of_total_health_spending_percent',\n",
              "       'privately_owned_forest_land_percent',\n",
              "       'privately_owned_other_wooded_land_percent',\n",
              "       'production_sector_aid_given_percent_of_aid',\n",
              "       'prostate_cancer_deaths_per_100000_men',\n",
              "       'prostate_cancer_new_cases_per_100000_men',\n",
              "       'prostate_cancer_number_of_male_deaths',\n",
              "       'prostate_cancer_number_of_new_male_cases',\n",
              "       'pump_price_for_gasoline_us_per_liter', 'rank',\n",
              "       'ratio_of_girls_to_boys_in_primary_and_secondary_education_perc',\n",
              "       'ratio_of_young_literate_females_to_males_percent_ages_15_24',\n",
              "       'renewable_water_cu_meters_per_person',\n",
              "       'residential_electricity_use_per_person',\n",
              "       'residential_electricity_use_total',\n",
              "       'residential_energy_use_percent',\n",
              "       'roads_paved_percent_of_total_roads',\n",
              "       'rural_poverty_percent_rural_people_below_national_rural',\n",
              "       'salaried_workers_percent_of_non_agricultural_employment',\n",
              "       'scales', 'self_employed_percent_of_employment',\n",
              "       'sepsis_deaths_in_newborn_per_1000_births',\n",
              "       'sepsis_deaths_in_newborn_total_deaths',\n",
              "       'service_workers_percent_of_employment', 'services_percent_of_gdp',\n",
              "       'sex_ratio_0_14_years', 'sex_ratio_15_24_years',\n",
              "       'sex_ratio_15_49_years', 'sex_ratio_above_50_years',\n",
              "       'sex_ratio_all_age_groups', 'shape_lores_svg',\n",
              "       'smoking_adults_percent_of_population_over_age_15',\n",
              "       'smoking_men_percent_of_men_over_age_15',\n",
              "       'smoking_women_percent_of_women_over_age_15', 'source',\n",
              "       'source_long', 'source_url', 'stillbirths_per_1000_births',\n",
              "       'stomach_cancer_deaths_per_100000_men',\n",
              "       'stomach_cancer_deaths_per_100000_women',\n",
              "       'stomach_cancer_new_cases_per_100000_men',\n",
              "       'stomach_cancer_new_cases_per_100000_women',\n",
              "       'stomach_cancer_number_of_female_deaths',\n",
              "       'stomach_cancer_number_of_male_deaths',\n",
              "       'stomach_cancer_number_of_new_female_cases',\n",
              "       'stomach_cancer_number_of_new_male_cases',\n",
              "       'storm_affected_annual_number', 'storm_deaths_annual_number',\n",
              "       'subsistence_incomes_per_person', 'sugar_per_person_g_per_day',\n",
              "       'suicide_age_0_14_per_100000_people',\n",
              "       'suicide_age_15_29_per_100000_people',\n",
              "       'suicide_age_30_44_per_100000_people',\n",
              "       'suicide_age_45_59_per_100000_people',\n",
              "       'suicide_age_60plus_per_100000_people',\n",
              "       'suicide_men_per_100000_people', 'suicide_per_100000_people',\n",
              "       'suicide_total_deaths', 'suicide_women_per_100000_people',\n",
              "       'sulfur_emissions_per_person_kg', 'surface_area_sq_km',\n",
              "       'surviving_kids_per_woman', 'synonym', 'tag', 'tags',\n",
              "       'tax_revenue_percent_of_gdp',\n",
              "       'tb_programme_dots_population_coverage_percent',\n",
              "       'tb_with_hivplus_deaths_per_100000_estimated',\n",
              "       'tb_with_hivplus_existing_cases_per_100000_estimated',\n",
              "       'tb_with_hivplus_new_cases_per_100000_estimated',\n",
              "       'tb_with_hivplus_number_of_deaths_estimated',\n",
              "       'tb_with_hivplus_number_of_existing_cases_estimated',\n",
              "       'tb_with_hivplus_number_of_new_cases_estimated',\n",
              "       'teen_fertility_rate_births_per_1000_women_ages_15_19',\n",
              "       'tetanus_deaths_in_newborn_per_1000_births',\n",
              "       'tetanus_deaths_in_newborn_total_deaths', 'time', 'topojson',\n",
              "       'total_gdp_ppp_inflation_adjusted',\n",
              "       'total_gdp_us_inflation_adjusted',\n",
              "       'total_gni_ppp_current_international',\n",
              "       'total_health_spending_per_person_international_dollar',\n",
              "       'total_health_spending_per_person_us',\n",
              "       'total_health_spending_percent_of_gdp',\n",
              "       'total_number_of_dollar_billionaires',\n",
              "       'total_population_with_projections',\n",
              "       'total_reserves_percent_of_debt_to_foreigners',\n",
              "       'total_sulfur_emission_kilotonnes',\n",
              "       'total_water_withdrawal_billion_cu_meters',\n",
              "       'trade_balance_percent_of_gdp',\n",
              "       'trade_balance_us_not_inflation_adjusted',\n",
              "       'traffic_deaths_men_per_100000_people',\n",
              "       'traffic_deaths_per_100000_people',\n",
              "       'traffic_deaths_women_per_100000_people',\n",
              "       'traffic_mortality_15_29_per_100000_people',\n",
              "       'traffic_mortality_30_44_per_100000_people',\n",
              "       'traffic_mortality_45_59_per_100000_people',\n",
              "       'traffic_mortality_60plus_per_100000_people',\n",
              "       'traffic_mortality_children_0_14_per_100000_people',\n",
              "       'traffic_total_deaths', 'tsunami_affected_annual_number',\n",
              "       'tsunami_deaths_annual_number', 'un_state',\n",
              "       'under_five_mortality_from_cme_per_1000_born',\n",
              "       'under_five_mortality_from_ihme_per_1000_born',\n",
              "       'underweight_children', 'unicode_region_subtag', 'upper_case_name',\n",
              "       'urban_population', 'urban_population_growth_annual_percent',\n",
              "       'urban_population_percent_of_total',\n",
              "       'urban_poverty_percent_urban_people_below_national_urban',\n",
              "       'water_and_sanitation_aid_given_percent_of_aid',\n",
              "       'water_withdrawal_cu_meters_per_person',\n",
              "       'wood_removal_cubic_meters', 'working_hours_per_week',\n",
              "       'world_4region', 'world_6region',\n",
              "       'yearly_co2_emissions_1000_tonnes'], dtype=object)"
            ]
          },
          "metadata": {
            "tags": []
          },
          "execution_count": 9
        }
      ]
    },
    {
      "metadata": {
        "id": "8-FXpqWOJI7U",
        "colab_type": "code",
        "colab": {
          "base_uri": "https://localhost:8080/",
          "height": 551
        },
        "outputId": "6ca86990-5cda-4fab-8423-43fe0a5c6bbc"
      },
      "cell_type": "code",
      "source": [
        "concepts.sample(1).T"
      ],
      "execution_count": 10,
      "outputs": [
        {
          "output_type": "execute_result",
          "data": {
            "text/html": [
              "<div>\n",
              "<style scoped>\n",
              "    .dataframe tbody tr th:only-of-type {\n",
              "        vertical-align: middle;\n",
              "    }\n",
              "\n",
              "    .dataframe tbody tr th {\n",
              "        vertical-align: top;\n",
              "    }\n",
              "\n",
              "    .dataframe thead th {\n",
              "        text-align: right;\n",
              "    }\n",
              "</style>\n",
              "<table border=\"1\" class=\"dataframe\">\n",
              "  <thead>\n",
              "    <tr style=\"text-align: right;\">\n",
              "      <th></th>\n",
              "      <th>480</th>\n",
              "    </tr>\n",
              "  </thead>\n",
              "  <tbody>\n",
              "    <tr>\n",
              "      <th>concept</th>\n",
              "      <td>rank</td>\n",
              "    </tr>\n",
              "    <tr>\n",
              "      <th>color</th>\n",
              "      <td>NaN</td>\n",
              "    </tr>\n",
              "    <tr>\n",
              "      <th>concept_type</th>\n",
              "      <td>measure</td>\n",
              "    </tr>\n",
              "    <tr>\n",
              "      <th>description</th>\n",
              "      <td>NaN</td>\n",
              "    </tr>\n",
              "    <tr>\n",
              "      <th>description_long</th>\n",
              "      <td>NaN</td>\n",
              "    </tr>\n",
              "    <tr>\n",
              "      <th>domain</th>\n",
              "      <td>NaN</td>\n",
              "    </tr>\n",
              "    <tr>\n",
              "      <th>drill_up</th>\n",
              "      <td>NaN</td>\n",
              "    </tr>\n",
              "    <tr>\n",
              "      <th>indicator_url</th>\n",
              "      <td>NaN</td>\n",
              "    </tr>\n",
              "    <tr>\n",
              "      <th>name</th>\n",
              "      <td>Ranking order</td>\n",
              "    </tr>\n",
              "    <tr>\n",
              "      <th>name_catalog</th>\n",
              "      <td>NaN</td>\n",
              "    </tr>\n",
              "    <tr>\n",
              "      <th>name_short</th>\n",
              "      <td>NaN</td>\n",
              "    </tr>\n",
              "    <tr>\n",
              "      <th>scales</th>\n",
              "      <td>NaN</td>\n",
              "    </tr>\n",
              "    <tr>\n",
              "      <th>source</th>\n",
              "      <td>NaN</td>\n",
              "    </tr>\n",
              "    <tr>\n",
              "      <th>source_long</th>\n",
              "      <td>NaN</td>\n",
              "    </tr>\n",
              "    <tr>\n",
              "      <th>source_url</th>\n",
              "      <td>NaN</td>\n",
              "    </tr>\n",
              "    <tr>\n",
              "      <th>tags</th>\n",
              "      <td>_none</td>\n",
              "    </tr>\n",
              "  </tbody>\n",
              "</table>\n",
              "</div>"
            ],
            "text/plain": [
              "                            480\n",
              "concept                    rank\n",
              "color                       NaN\n",
              "concept_type            measure\n",
              "description                 NaN\n",
              "description_long            NaN\n",
              "domain                      NaN\n",
              "drill_up                    NaN\n",
              "indicator_url               NaN\n",
              "name              Ranking order\n",
              "name_catalog                NaN\n",
              "name_short                  NaN\n",
              "scales                      NaN\n",
              "source                      NaN\n",
              "source_long                 NaN\n",
              "source_url                  NaN\n",
              "tags                      _none"
            ]
          },
          "metadata": {
            "tags": []
          },
          "execution_count": 10
        }
      ]
    },
    {
      "metadata": {
        "id": "2nElcnnuAiN-",
        "colab_type": "code",
        "colab": {
          "base_uri": "https://localhost:8080/",
          "height": 73
        },
        "outputId": "2c7c5604-06bc-41de-a051-df261952e1c7"
      },
      "cell_type": "code",
      "source": [
        "entities.world_6region.unique()"
      ],
      "execution_count": 11,
      "outputs": [
        {
          "output_type": "execute_result",
          "data": {
            "text/plain": [
              "array(['europe_central_asia', 'america', 'south_asia',\n",
              "       'sub_saharan_africa', 'middle_east_north_africa',\n",
              "       'east_asia_pacific', nan], dtype=object)"
            ]
          },
          "metadata": {
            "tags": []
          },
          "execution_count": 11
        }
      ]
    },
    {
      "metadata": {
        "id": "bMes7MRWETM4",
        "colab_type": "code",
        "colab": {
          "base_uri": "https://localhost:8080/",
          "height": 354
        },
        "outputId": "95fb5ba5-38a9-4980-c30b-56f6b8d703e5"
      },
      "cell_type": "code",
      "source": [
        "entities[entities.world_6region == 'europe_central_asia']['name'].unique()"
      ],
      "execution_count": 12,
      "outputs": [
        {
          "output_type": "execute_result",
          "data": {
            "text/plain": [
              "array(['Abkhazia', 'Akrotiri and Dhekelia', 'Åland', 'Albania', 'Andorra',\n",
              "       'Armenia', 'Austria', 'Azerbaijan', 'Belgium', 'Bulgaria',\n",
              "       'Bosnia and Herzegovina', 'Belarus', 'Channel Islands',\n",
              "       'Switzerland', 'Czechoslovakia', 'Cyprus', 'Northern Cyprus',\n",
              "       'Czech Republic', 'Germany', 'East Germany', 'West Germany',\n",
              "       'Denmark', 'Spain', 'Estonia', 'Finland', 'France',\n",
              "       'Faeroe Islands', 'Guernsey', 'Isle of Man', 'United Kingdom',\n",
              "       'Georgia', 'Gibraltar', 'Greece', 'Greenland', 'Holy See',\n",
              "       'Croatia', 'Hungary', 'Ireland', 'Iceland', 'Italy', 'Jersey',\n",
              "       'Kazakhstan', 'Kyrgyz Republic', 'Kosovo', 'Liechtenstein',\n",
              "       'Lithuania', 'Luxembourg', 'Latvia', 'Monaco', 'Moldova',\n",
              "       'Macedonia, FYR', 'Malta', 'Montenegro', 'Ngorno-Karabakh',\n",
              "       'Netherlands', 'Norway', 'Poland', 'Portugal', 'Romania', 'Russia',\n",
              "       'Serbia and Montenegro', 'Serbia excluding Kosovo', 'Svalbard',\n",
              "       'San Marino', 'South Ossetia', 'Serbia', 'Slovak Republic',\n",
              "       'Slovenia', 'Sweden', 'Tajikistan', 'Turkmenistan', 'Transnistria',\n",
              "       'Turkey', 'Ukraine', 'USSR', 'Uzbekistan', 'Yugoslavia'],\n",
              "      dtype=object)"
            ]
          },
          "metadata": {
            "tags": []
          },
          "execution_count": 12
        }
      ]
    },
    {
      "metadata": {
        "id": "FGq0uzv4JeqN",
        "colab_type": "code",
        "colab": {}
      },
      "cell_type": "code",
      "source": [
        "df = pd.merge(income, lifespan)\n",
        "df1 = df.copy()"
      ],
      "execution_count": 0,
      "outputs": []
    },
    {
      "metadata": {
        "id": "DaFgCs3tJ6A8",
        "colab_type": "code",
        "colab": {
          "base_uri": "https://localhost:8080/",
          "height": 206
        },
        "outputId": "5089218d-8c97-42f5-f612-f2ee1b737dc5"
      },
      "cell_type": "code",
      "source": [
        "df1.head()"
      ],
      "execution_count": 14,
      "outputs": [
        {
          "output_type": "execute_result",
          "data": {
            "text/html": [
              "<div>\n",
              "<style scoped>\n",
              "    .dataframe tbody tr th:only-of-type {\n",
              "        vertical-align: middle;\n",
              "    }\n",
              "\n",
              "    .dataframe tbody tr th {\n",
              "        vertical-align: top;\n",
              "    }\n",
              "\n",
              "    .dataframe thead th {\n",
              "        text-align: right;\n",
              "    }\n",
              "</style>\n",
              "<table border=\"1\" class=\"dataframe\">\n",
              "  <thead>\n",
              "    <tr style=\"text-align: right;\">\n",
              "      <th></th>\n",
              "      <th>geo</th>\n",
              "      <th>time</th>\n",
              "      <th>income_per_person_gdppercapita_ppp_inflation_adjusted</th>\n",
              "      <th>life_expectancy_years</th>\n",
              "    </tr>\n",
              "  </thead>\n",
              "  <tbody>\n",
              "    <tr>\n",
              "      <th>0</th>\n",
              "      <td>abw</td>\n",
              "      <td>1800</td>\n",
              "      <td>833</td>\n",
              "      <td>34.42</td>\n",
              "    </tr>\n",
              "    <tr>\n",
              "      <th>1</th>\n",
              "      <td>abw</td>\n",
              "      <td>1801</td>\n",
              "      <td>833</td>\n",
              "      <td>34.42</td>\n",
              "    </tr>\n",
              "    <tr>\n",
              "      <th>2</th>\n",
              "      <td>abw</td>\n",
              "      <td>1802</td>\n",
              "      <td>833</td>\n",
              "      <td>34.42</td>\n",
              "    </tr>\n",
              "    <tr>\n",
              "      <th>3</th>\n",
              "      <td>abw</td>\n",
              "      <td>1803</td>\n",
              "      <td>833</td>\n",
              "      <td>34.42</td>\n",
              "    </tr>\n",
              "    <tr>\n",
              "      <th>4</th>\n",
              "      <td>abw</td>\n",
              "      <td>1804</td>\n",
              "      <td>833</td>\n",
              "      <td>34.42</td>\n",
              "    </tr>\n",
              "  </tbody>\n",
              "</table>\n",
              "</div>"
            ],
            "text/plain": [
              "   geo  time  income_per_person_gdppercapita_ppp_inflation_adjusted  \\\n",
              "0  abw  1800                                                833       \n",
              "1  abw  1801                                                833       \n",
              "2  abw  1802                                                833       \n",
              "3  abw  1803                                                833       \n",
              "4  abw  1804                                                833       \n",
              "\n",
              "   life_expectancy_years  \n",
              "0                  34.42  \n",
              "1                  34.42  \n",
              "2                  34.42  \n",
              "3                  34.42  \n",
              "4                  34.42  "
            ]
          },
          "metadata": {
            "tags": []
          },
          "execution_count": 14
        }
      ]
    },
    {
      "metadata": {
        "id": "WCns1bY0MqBQ",
        "colab_type": "code",
        "colab": {}
      },
      "cell_type": "code",
      "source": [
        "df = df1.copy()"
      ],
      "execution_count": 0,
      "outputs": []
    },
    {
      "metadata": {
        "id": "-ooDqWxUNA8M",
        "colab_type": "code",
        "colab": {
          "base_uri": "https://localhost:8080/",
          "height": 36
        },
        "outputId": "64eace72-8ea6-45b3-9379-c7dbabf7c582"
      },
      "cell_type": "code",
      "source": [
        "df1.shape"
      ],
      "execution_count": 16,
      "outputs": [
        {
          "output_type": "execute_result",
          "data": {
            "text/plain": [
              "(41790, 4)"
            ]
          },
          "metadata": {
            "tags": []
          },
          "execution_count": 16
        }
      ]
    },
    {
      "metadata": {
        "id": "nFquxusgNBhj",
        "colab_type": "code",
        "colab": {
          "base_uri": "https://localhost:8080/",
          "height": 36
        },
        "outputId": "d8c57a61-ac2c-4bc3-8a67-b0478a6fded6"
      },
      "cell_type": "code",
      "source": [
        "df.shape"
      ],
      "execution_count": 17,
      "outputs": [
        {
          "output_type": "execute_result",
          "data": {
            "text/plain": [
              "(41790, 4)"
            ]
          },
          "metadata": {
            "tags": []
          },
          "execution_count": 17
        }
      ]
    },
    {
      "metadata": {
        "id": "xf7K9-OXKjeQ",
        "colab_type": "code",
        "colab": {}
      },
      "cell_type": "code",
      "source": [
        "df = pd.merge(df, population)\n"
      ],
      "execution_count": 0,
      "outputs": []
    },
    {
      "metadata": {
        "id": "TD9v-gGhUA4z",
        "colab_type": "code",
        "colab": {}
      },
      "cell_type": "code",
      "source": [
        "entity_vars = ['country', 'name', 'world_6region']\n",
        "df = pd.merge(df, entities[entity_vars], \n",
        "              how='inner', left_on='geo', right_on='country')"
      ],
      "execution_count": 0,
      "outputs": []
    },
    {
      "metadata": {
        "id": "RUS3er88LLyk",
        "colab_type": "code",
        "colab": {
          "base_uri": "https://localhost:8080/",
          "height": 36
        },
        "outputId": "bc4ebafb-a36d-45d8-ca6a-c91dbfaf9b8a"
      },
      "cell_type": "code",
      "source": [
        "df.shape"
      ],
      "execution_count": 20,
      "outputs": [
        {
          "output_type": "execute_result",
          "data": {
            "text/plain": [
              "(41790, 8)"
            ]
          },
          "metadata": {
            "tags": []
          },
          "execution_count": 20
        }
      ]
    },
    {
      "metadata": {
        "id": "DN3FW8zILuzG",
        "colab_type": "code",
        "colab": {
          "base_uri": "https://localhost:8080/",
          "height": 226
        },
        "outputId": "e4e65764-70f8-4c24-cbd8-7761dc5be855"
      },
      "cell_type": "code",
      "source": [
        "df.tail()"
      ],
      "execution_count": 21,
      "outputs": [
        {
          "output_type": "execute_result",
          "data": {
            "text/html": [
              "<div>\n",
              "<style scoped>\n",
              "    .dataframe tbody tr th:only-of-type {\n",
              "        vertical-align: middle;\n",
              "    }\n",
              "\n",
              "    .dataframe tbody tr th {\n",
              "        vertical-align: top;\n",
              "    }\n",
              "\n",
              "    .dataframe thead th {\n",
              "        text-align: right;\n",
              "    }\n",
              "</style>\n",
              "<table border=\"1\" class=\"dataframe\">\n",
              "  <thead>\n",
              "    <tr style=\"text-align: right;\">\n",
              "      <th></th>\n",
              "      <th>geo</th>\n",
              "      <th>time</th>\n",
              "      <th>income_per_person_gdppercapita_ppp_inflation_adjusted</th>\n",
              "      <th>life_expectancy_years</th>\n",
              "      <th>population_total</th>\n",
              "      <th>country</th>\n",
              "      <th>name</th>\n",
              "      <th>world_6region</th>\n",
              "    </tr>\n",
              "  </thead>\n",
              "  <tbody>\n",
              "    <tr>\n",
              "      <th>41785</th>\n",
              "      <td>zwe</td>\n",
              "      <td>2014</td>\n",
              "      <td>1908</td>\n",
              "      <td>56.99</td>\n",
              "      <td>15411675</td>\n",
              "      <td>zwe</td>\n",
              "      <td>Zimbabwe</td>\n",
              "      <td>sub_saharan_africa</td>\n",
              "    </tr>\n",
              "    <tr>\n",
              "      <th>41786</th>\n",
              "      <td>zwe</td>\n",
              "      <td>2015</td>\n",
              "      <td>1891</td>\n",
              "      <td>58.27</td>\n",
              "      <td>15777451</td>\n",
              "      <td>zwe</td>\n",
              "      <td>Zimbabwe</td>\n",
              "      <td>sub_saharan_africa</td>\n",
              "    </tr>\n",
              "    <tr>\n",
              "      <th>41787</th>\n",
              "      <td>zwe</td>\n",
              "      <td>2016</td>\n",
              "      <td>1860</td>\n",
              "      <td>59.27</td>\n",
              "      <td>16150362</td>\n",
              "      <td>zwe</td>\n",
              "      <td>Zimbabwe</td>\n",
              "      <td>sub_saharan_africa</td>\n",
              "    </tr>\n",
              "    <tr>\n",
              "      <th>41788</th>\n",
              "      <td>zwe</td>\n",
              "      <td>2017</td>\n",
              "      <td>1907</td>\n",
              "      <td>59.80</td>\n",
              "      <td>16529904</td>\n",
              "      <td>zwe</td>\n",
              "      <td>Zimbabwe</td>\n",
              "      <td>sub_saharan_africa</td>\n",
              "    </tr>\n",
              "    <tr>\n",
              "      <th>41789</th>\n",
              "      <td>zwe</td>\n",
              "      <td>2018</td>\n",
              "      <td>1952</td>\n",
              "      <td>60.18</td>\n",
              "      <td>16913261</td>\n",
              "      <td>zwe</td>\n",
              "      <td>Zimbabwe</td>\n",
              "      <td>sub_saharan_africa</td>\n",
              "    </tr>\n",
              "  </tbody>\n",
              "</table>\n",
              "</div>"
            ],
            "text/plain": [
              "       geo  time  income_per_person_gdppercapita_ppp_inflation_adjusted  \\\n",
              "41785  zwe  2014                                               1908       \n",
              "41786  zwe  2015                                               1891       \n",
              "41787  zwe  2016                                               1860       \n",
              "41788  zwe  2017                                               1907       \n",
              "41789  zwe  2018                                               1952       \n",
              "\n",
              "       life_expectancy_years  population_total country      name  \\\n",
              "41785                  56.99          15411675     zwe  Zimbabwe   \n",
              "41786                  58.27          15777451     zwe  Zimbabwe   \n",
              "41787                  59.27          16150362     zwe  Zimbabwe   \n",
              "41788                  59.80          16529904     zwe  Zimbabwe   \n",
              "41789                  60.18          16913261     zwe  Zimbabwe   \n",
              "\n",
              "            world_6region  \n",
              "41785  sub_saharan_africa  \n",
              "41786  sub_saharan_africa  \n",
              "41787  sub_saharan_africa  \n",
              "41788  sub_saharan_africa  \n",
              "41789  sub_saharan_africa  "
            ]
          },
          "metadata": {
            "tags": []
          },
          "execution_count": 21
        }
      ]
    },
    {
      "metadata": {
        "id": "Btzz9DGiNYk_",
        "colab_type": "code",
        "colab": {}
      },
      "cell_type": "code",
      "source": [
        "df.drop(columns=['geo', 'country'], inplace=True)"
      ],
      "execution_count": 0,
      "outputs": []
    },
    {
      "metadata": {
        "id": "vaNvX6GPNjoI",
        "colab_type": "code",
        "colab": {
          "base_uri": "https://localhost:8080/",
          "height": 206
        },
        "outputId": "054e42b1-3823-4b7d-f18f-397550565e52"
      },
      "cell_type": "code",
      "source": [
        "df.head()"
      ],
      "execution_count": 23,
      "outputs": [
        {
          "output_type": "execute_result",
          "data": {
            "text/html": [
              "<div>\n",
              "<style scoped>\n",
              "    .dataframe tbody tr th:only-of-type {\n",
              "        vertical-align: middle;\n",
              "    }\n",
              "\n",
              "    .dataframe tbody tr th {\n",
              "        vertical-align: top;\n",
              "    }\n",
              "\n",
              "    .dataframe thead th {\n",
              "        text-align: right;\n",
              "    }\n",
              "</style>\n",
              "<table border=\"1\" class=\"dataframe\">\n",
              "  <thead>\n",
              "    <tr style=\"text-align: right;\">\n",
              "      <th></th>\n",
              "      <th>time</th>\n",
              "      <th>income_per_person_gdppercapita_ppp_inflation_adjusted</th>\n",
              "      <th>life_expectancy_years</th>\n",
              "      <th>population_total</th>\n",
              "      <th>name</th>\n",
              "      <th>world_6region</th>\n",
              "    </tr>\n",
              "  </thead>\n",
              "  <tbody>\n",
              "    <tr>\n",
              "      <th>0</th>\n",
              "      <td>1800</td>\n",
              "      <td>833</td>\n",
              "      <td>34.42</td>\n",
              "      <td>19286</td>\n",
              "      <td>Aruba</td>\n",
              "      <td>america</td>\n",
              "    </tr>\n",
              "    <tr>\n",
              "      <th>1</th>\n",
              "      <td>1801</td>\n",
              "      <td>833</td>\n",
              "      <td>34.42</td>\n",
              "      <td>19286</td>\n",
              "      <td>Aruba</td>\n",
              "      <td>america</td>\n",
              "    </tr>\n",
              "    <tr>\n",
              "      <th>2</th>\n",
              "      <td>1802</td>\n",
              "      <td>833</td>\n",
              "      <td>34.42</td>\n",
              "      <td>19286</td>\n",
              "      <td>Aruba</td>\n",
              "      <td>america</td>\n",
              "    </tr>\n",
              "    <tr>\n",
              "      <th>3</th>\n",
              "      <td>1803</td>\n",
              "      <td>833</td>\n",
              "      <td>34.42</td>\n",
              "      <td>19286</td>\n",
              "      <td>Aruba</td>\n",
              "      <td>america</td>\n",
              "    </tr>\n",
              "    <tr>\n",
              "      <th>4</th>\n",
              "      <td>1804</td>\n",
              "      <td>833</td>\n",
              "      <td>34.42</td>\n",
              "      <td>19286</td>\n",
              "      <td>Aruba</td>\n",
              "      <td>america</td>\n",
              "    </tr>\n",
              "  </tbody>\n",
              "</table>\n",
              "</div>"
            ],
            "text/plain": [
              "   time  income_per_person_gdppercapita_ppp_inflation_adjusted  \\\n",
              "0  1800                                                833       \n",
              "1  1801                                                833       \n",
              "2  1802                                                833       \n",
              "3  1803                                                833       \n",
              "4  1804                                                833       \n",
              "\n",
              "   life_expectancy_years  population_total   name world_6region  \n",
              "0                  34.42             19286  Aruba       america  \n",
              "1                  34.42             19286  Aruba       america  \n",
              "2                  34.42             19286  Aruba       america  \n",
              "3                  34.42             19286  Aruba       america  \n",
              "4                  34.42             19286  Aruba       america  "
            ]
          },
          "metadata": {
            "tags": []
          },
          "execution_count": 23
        }
      ]
    },
    {
      "metadata": {
        "id": "nsllfsRlNqVG",
        "colab_type": "code",
        "colab": {}
      },
      "cell_type": "code",
      "source": [
        "df = df[df.world_6region == 'europe_central_asia']"
      ],
      "execution_count": 0,
      "outputs": []
    },
    {
      "metadata": {
        "id": "xR4CNLgjN8qU",
        "colab_type": "code",
        "colab": {
          "base_uri": "https://localhost:8080/",
          "height": 36
        },
        "outputId": "0a0d5976-c50c-402b-872f-7725d2692d47"
      },
      "cell_type": "code",
      "source": [
        "df.shape"
      ],
      "execution_count": 25,
      "outputs": [
        {
          "output_type": "execute_result",
          "data": {
            "text/plain": [
              "(10991, 6)"
            ]
          },
          "metadata": {
            "tags": []
          },
          "execution_count": 25
        }
      ]
    },
    {
      "metadata": {
        "id": "E1QF3kQOOMNp",
        "colab_type": "code",
        "colab": {}
      },
      "cell_type": "code",
      "source": [
        "df.rename(columns={'time': 'year',\n",
        "                   'income_per_person_gdppercapita_ppp_inflation_adjusted': 'income',\n",
        "                   'life_expectancy_years': 'lifespan',\n",
        "                   'population_total': 'population',\n",
        "                   'name': 'country',\n",
        "                   'world_6region': 'region'}, inplace=True)"
      ],
      "execution_count": 0,
      "outputs": []
    },
    {
      "metadata": {
        "id": "H60mkGBiOv0x",
        "colab_type": "code",
        "colab": {
          "base_uri": "https://localhost:8080/",
          "height": 206
        },
        "outputId": "6dc40b63-be66-4ec6-8041-e76e93f6da57"
      },
      "cell_type": "code",
      "source": [
        "df.head()"
      ],
      "execution_count": 27,
      "outputs": [
        {
          "output_type": "execute_result",
          "data": {
            "text/html": [
              "<div>\n",
              "<style scoped>\n",
              "    .dataframe tbody tr th:only-of-type {\n",
              "        vertical-align: middle;\n",
              "    }\n",
              "\n",
              "    .dataframe tbody tr th {\n",
              "        vertical-align: top;\n",
              "    }\n",
              "\n",
              "    .dataframe thead th {\n",
              "        text-align: right;\n",
              "    }\n",
              "</style>\n",
              "<table border=\"1\" class=\"dataframe\">\n",
              "  <thead>\n",
              "    <tr style=\"text-align: right;\">\n",
              "      <th></th>\n",
              "      <th>year</th>\n",
              "      <th>income</th>\n",
              "      <th>lifespan</th>\n",
              "      <th>population</th>\n",
              "      <th>country</th>\n",
              "      <th>region</th>\n",
              "    </tr>\n",
              "  </thead>\n",
              "  <tbody>\n",
              "    <tr>\n",
              "      <th>657</th>\n",
              "      <td>1800</td>\n",
              "      <td>667</td>\n",
              "      <td>35.4</td>\n",
              "      <td>410445</td>\n",
              "      <td>Albania</td>\n",
              "      <td>europe_central_asia</td>\n",
              "    </tr>\n",
              "    <tr>\n",
              "      <th>658</th>\n",
              "      <td>1801</td>\n",
              "      <td>667</td>\n",
              "      <td>35.4</td>\n",
              "      <td>411734</td>\n",
              "      <td>Albania</td>\n",
              "      <td>europe_central_asia</td>\n",
              "    </tr>\n",
              "    <tr>\n",
              "      <th>659</th>\n",
              "      <td>1802</td>\n",
              "      <td>667</td>\n",
              "      <td>35.4</td>\n",
              "      <td>413026</td>\n",
              "      <td>Albania</td>\n",
              "      <td>europe_central_asia</td>\n",
              "    </tr>\n",
              "    <tr>\n",
              "      <th>660</th>\n",
              "      <td>1803</td>\n",
              "      <td>667</td>\n",
              "      <td>35.4</td>\n",
              "      <td>414323</td>\n",
              "      <td>Albania</td>\n",
              "      <td>europe_central_asia</td>\n",
              "    </tr>\n",
              "    <tr>\n",
              "      <th>661</th>\n",
              "      <td>1804</td>\n",
              "      <td>667</td>\n",
              "      <td>35.4</td>\n",
              "      <td>415624</td>\n",
              "      <td>Albania</td>\n",
              "      <td>europe_central_asia</td>\n",
              "    </tr>\n",
              "  </tbody>\n",
              "</table>\n",
              "</div>"
            ],
            "text/plain": [
              "     year  income  lifespan  population  country               region\n",
              "657  1800     667      35.4      410445  Albania  europe_central_asia\n",
              "658  1801     667      35.4      411734  Albania  europe_central_asia\n",
              "659  1802     667      35.4      413026  Albania  europe_central_asia\n",
              "660  1803     667      35.4      414323  Albania  europe_central_asia\n",
              "661  1804     667      35.4      415624  Albania  europe_central_asia"
            ]
          },
          "metadata": {
            "tags": []
          },
          "execution_count": 27
        }
      ]
    },
    {
      "metadata": {
        "id": "acCCZUEyPT_-",
        "colab_type": "code",
        "colab": {
          "base_uri": "https://localhost:8080/",
          "height": 300
        },
        "outputId": "558253f4-f2eb-4a4e-aa04-5cc20db7f4c3"
      },
      "cell_type": "code",
      "source": [
        "df.describe()"
      ],
      "execution_count": 28,
      "outputs": [
        {
          "output_type": "execute_result",
          "data": {
            "text/html": [
              "<div>\n",
              "<style scoped>\n",
              "    .dataframe tbody tr th:only-of-type {\n",
              "        vertical-align: middle;\n",
              "    }\n",
              "\n",
              "    .dataframe tbody tr th {\n",
              "        vertical-align: top;\n",
              "    }\n",
              "\n",
              "    .dataframe thead th {\n",
              "        text-align: right;\n",
              "    }\n",
              "</style>\n",
              "<table border=\"1\" class=\"dataframe\">\n",
              "  <thead>\n",
              "    <tr style=\"text-align: right;\">\n",
              "      <th></th>\n",
              "      <th>year</th>\n",
              "      <th>income</th>\n",
              "      <th>lifespan</th>\n",
              "      <th>population</th>\n",
              "    </tr>\n",
              "  </thead>\n",
              "  <tbody>\n",
              "    <tr>\n",
              "      <th>count</th>\n",
              "      <td>10991.000000</td>\n",
              "      <td>10991.000000</td>\n",
              "      <td>10991.000000</td>\n",
              "      <td>1.099100e+04</td>\n",
              "    </tr>\n",
              "    <tr>\n",
              "      <th>mean</th>\n",
              "      <td>1909.301065</td>\n",
              "      <td>7094.231553</td>\n",
              "      <td>48.831910</td>\n",
              "      <td>1.002590e+07</td>\n",
              "    </tr>\n",
              "    <tr>\n",
              "      <th>std</th>\n",
              "      <td>63.299275</td>\n",
              "      <td>10491.600486</td>\n",
              "      <td>17.301095</td>\n",
              "      <td>1.811665e+07</td>\n",
              "    </tr>\n",
              "    <tr>\n",
              "      <th>min</th>\n",
              "      <td>1800.000000</td>\n",
              "      <td>393.000000</td>\n",
              "      <td>4.050000</td>\n",
              "      <td>9.584000e+03</td>\n",
              "    </tr>\n",
              "    <tr>\n",
              "      <th>25%</th>\n",
              "      <td>1854.000000</td>\n",
              "      <td>1428.000000</td>\n",
              "      <td>35.560000</td>\n",
              "      <td>1.097708e+06</td>\n",
              "    </tr>\n",
              "    <tr>\n",
              "      <th>50%</th>\n",
              "      <td>1909.000000</td>\n",
              "      <td>2760.000000</td>\n",
              "      <td>41.800000</td>\n",
              "      <td>3.354062e+06</td>\n",
              "    </tr>\n",
              "    <tr>\n",
              "      <th>75%</th>\n",
              "      <td>1964.000000</td>\n",
              "      <td>7761.500000</td>\n",
              "      <td>66.910000</td>\n",
              "      <td>8.914314e+06</td>\n",
              "    </tr>\n",
              "    <tr>\n",
              "      <th>max</th>\n",
              "      <td>2018.000000</td>\n",
              "      <td>99034.000000</td>\n",
              "      <td>83.450000</td>\n",
              "      <td>1.484314e+08</td>\n",
              "    </tr>\n",
              "  </tbody>\n",
              "</table>\n",
              "</div>"
            ],
            "text/plain": [
              "               year        income      lifespan    population\n",
              "count  10991.000000  10991.000000  10991.000000  1.099100e+04\n",
              "mean    1909.301065   7094.231553     48.831910  1.002590e+07\n",
              "std       63.299275  10491.600486     17.301095  1.811665e+07\n",
              "min     1800.000000    393.000000      4.050000  9.584000e+03\n",
              "25%     1854.000000   1428.000000     35.560000  1.097708e+06\n",
              "50%     1909.000000   2760.000000     41.800000  3.354062e+06\n",
              "75%     1964.000000   7761.500000     66.910000  8.914314e+06\n",
              "max     2018.000000  99034.000000     83.450000  1.484314e+08"
            ]
          },
          "metadata": {
            "tags": []
          },
          "execution_count": 28
        }
      ]
    },
    {
      "metadata": {
        "id": "xtIhLQCMPfVP",
        "colab_type": "code",
        "colab": {
          "base_uri": "https://localhost:8080/",
          "height": 175
        },
        "outputId": "40dcb5da-28ef-4291-cf0f-630a1246a6b7"
      },
      "cell_type": "code",
      "source": [
        "df.describe(exclude=[np.number])"
      ],
      "execution_count": 29,
      "outputs": [
        {
          "output_type": "execute_result",
          "data": {
            "text/html": [
              "<div>\n",
              "<style scoped>\n",
              "    .dataframe tbody tr th:only-of-type {\n",
              "        vertical-align: middle;\n",
              "    }\n",
              "\n",
              "    .dataframe tbody tr th {\n",
              "        vertical-align: top;\n",
              "    }\n",
              "\n",
              "    .dataframe thead th {\n",
              "        text-align: right;\n",
              "    }\n",
              "</style>\n",
              "<table border=\"1\" class=\"dataframe\">\n",
              "  <thead>\n",
              "    <tr style=\"text-align: right;\">\n",
              "      <th></th>\n",
              "      <th>country</th>\n",
              "      <th>region</th>\n",
              "    </tr>\n",
              "  </thead>\n",
              "  <tbody>\n",
              "    <tr>\n",
              "      <th>count</th>\n",
              "      <td>10991</td>\n",
              "      <td>10991</td>\n",
              "    </tr>\n",
              "    <tr>\n",
              "      <th>unique</th>\n",
              "      <td>51</td>\n",
              "      <td>1</td>\n",
              "    </tr>\n",
              "    <tr>\n",
              "      <th>top</th>\n",
              "      <td>Austria</td>\n",
              "      <td>europe_central_asia</td>\n",
              "    </tr>\n",
              "    <tr>\n",
              "      <th>freq</th>\n",
              "      <td>219</td>\n",
              "      <td>10991</td>\n",
              "    </tr>\n",
              "  </tbody>\n",
              "</table>\n",
              "</div>"
            ],
            "text/plain": [
              "        country               region\n",
              "count     10991                10991\n",
              "unique       51                    1\n",
              "top     Austria  europe_central_asia\n",
              "freq        219                10991"
            ]
          },
          "metadata": {
            "tags": []
          },
          "execution_count": 29
        }
      ]
    },
    {
      "metadata": {
        "id": "rDAU8-g6P1qK",
        "colab_type": "text"
      },
      "cell_type": "markdown",
      "source": [
        "# Plot dataviz"
      ]
    },
    {
      "metadata": {
        "id": "GUYCxcEUP_P6",
        "colab_type": "code",
        "colab": {}
      },
      "cell_type": "code",
      "source": [
        "years = [1906, 1912, 1918, 1924, 1930]\n",
        "eurasia_circa_ww1 = df[df.year.isin(years)]\n",
        "eurasia_circa_ww1.sample(10)"
      ],
      "execution_count": 0,
      "outputs": []
    },
    {
      "metadata": {
        "id": "oWgLU1gYRy6z",
        "colab_type": "code",
        "colab": {}
      },
      "cell_type": "code",
      "source": [
        "!pip install --upgrade seaborn"
      ],
      "execution_count": 0,
      "outputs": []
    },
    {
      "metadata": {
        "id": "RAoH6_50SH73",
        "colab_type": "code",
        "colab": {}
      },
      "cell_type": "code",
      "source": [
        "import seaborn as sns\n",
        "import random"
      ],
      "execution_count": 0,
      "outputs": []
    },
    {
      "metadata": {
        "id": "6mBy_GFfVToz",
        "colab_type": "code",
        "colab": {}
      },
      "cell_type": "code",
      "source": [
        "rand_countries = [random.choice(eurasia_circa_ww1.country.unique()) for i in range(7)]\n",
        "\n",
        "six_year = eurasia_circa_ww1[eurasia_circa_ww1.country.isin(rand_countries)]"
      ],
      "execution_count": 0,
      "outputs": []
    },
    {
      "metadata": {
        "id": "NVR4epRvbFs1",
        "colab_type": "code",
        "colab": {
          "base_uri": "https://localhost:8080/",
          "height": 1842
        },
        "outputId": "6284560e-035c-4dc4-9d0e-aa2b9f02fc8b"
      },
      "cell_type": "code",
      "source": [
        "for year in years:\n",
        "  sns.relplot(x='income', y='lifespan', hue='country', size='population',\n",
        "              data=six_year[six_year.year==year])\n",
        "  plt.xlim(500, 10000)\n",
        "  plt.ylim(10, 70)\n",
        "  plt.title(year)\n",
        "  plt.axhline(y=50, color='grey');"
      ],
      "execution_count": 64,
      "outputs": [
        {
          "output_type": "display_data",
          "data": {
            "image/png": "[encoded data removed]",
            "text/plain": [
              "<matplotlib.figure.Figure at 0x7f76fc252e48>"
            ]
          },
          "metadata": {
            "tags": []
          }
        },
        {
          "output_type": "display_data",
          "data": {
            "image/png": "[encoded data removed]",
            "text/plain": [
              "<matplotlib.figure.Figure at 0x7f76fc04c240>"
            ]
          },
          "metadata": {
            "tags": []
          }
        },
        {
          "output_type": "display_data",
          "data": {
            "image/png": "[encoded data removed]",
            "text/plain": [
              "<matplotlib.figure.Figure at 0x7f76fc143978>"
            ]
          },
          "metadata": {
            "tags": []
          }
        },
        {
          "output_type": "display_data",
          "data": {
            "image/png": "[encoded data removed]",
            "text/plain": [
              "<matplotlib.figure.Figure at 0x7f76fbf69828>"
            ]
          },
          "metadata": {
            "tags": []
          }
        },
        {
          "output_type": "display_data",
          "data": {
            "image/png": "[encoded data removed]",
            "text/plain": [
              "<matplotlib.figure.Figure at 0x7f76fc29cc18>"
            ]
          },
          "metadata": {
            "tags": []
          }
        }
      ]
    }
  ]
}