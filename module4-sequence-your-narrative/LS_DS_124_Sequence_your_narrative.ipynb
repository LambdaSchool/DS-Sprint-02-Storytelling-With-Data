{
  "nbformat": 4,
  "nbformat_minor": 0,
  "metadata": {
    "colab": {
      "name": "Copy of LS_DS_124_Sequence_your_narrative.ipynb",
      "version": "0.3.2",
      "provenance": [],
      "include_colab_link": true
    },
    "kernelspec": {
      "display_name": "Python 3",
      "language": "python",
      "name": "python3"
    }
  },
  "cells": [
    {
      "cell_type": "markdown",
      "metadata": {
        "id": "view-in-github",
        "colab_type": "text"
      },
      "source": [
        "<a href=\"https://colab.research.google.com/github/joshdsolis/DS-Sprint-02-Storytelling-With-Data/blob/master/module4-sequence-your-narrative/LS_DS_124_Sequence_your_narrative.ipynb\" target=\"_parent\"><img src=\"https://colab.research.google.com/assets/colab-badge.svg\" alt=\"Open In Colab\"/></a>"
      ]
    },
    {
      "metadata": {
        "id": "kKcbLBo6V19u",
        "colab_type": "text"
      },
      "cell_type": "markdown",
      "source": [
        "_Lambda School Data Science_\n",
        "\n",
        "# Sequence your narrative\n",
        "\n",
        "Create a sequence of visualizations inspired by [Hans Rosling's 200 Countries, 200 Years, 4 Minutes](https://www.youtube.com/watch?v=jbkSRLYSojo).\n",
        "\n",
        "Using this [data from Gapminder](https://github.com/open-numbers/ddf--gapminder--systema_globalis/):\n",
        "- https://raw.githubusercontent.com/open-numbers/ddf--gapminder--systema_globalis/master/ddf--datapoints--income_per_person_gdppercapita_ppp_inflation_adjusted--by--geo--time.csv\n",
        "- https://raw.githubusercontent.com/open-numbers/ddf--gapminder--systema_globalis/master/ddf--datapoints--life_expectancy_years--by--geo--time.csv\n",
        "- https://raw.githubusercontent.com/open-numbers/ddf--gapminder--systema_globalis/master/ddf--entities--geo--country.csv\n",
        "- https://raw.githubusercontent.com/open-numbers/ddf--gapminder--systema_globalis/master/ddf--concepts.csv\n",
        "\n",
        "### Stretch goals\n",
        "- [ipywidgets](https://github.com/jupyter-widgets/ipywidgets)\n",
        "- [Matplotlib animation](https://matplotlib.org/examples/animation/index.html)\n",
        "- [Connected scatter plots](http://www.thefunctionalart.com/2012/09/in-praise-of-connected-scatter-plots.html)\n",
        "- [Idyll markup language](https://idyll-lang.org/) for \"scrollytelling\""
      ]
    },
    {
      "metadata": {
        "id": "21FI5wv2gmT_",
        "colab_type": "code",
        "colab": {
          "base_uri": "https://localhost:8080/",
          "height": 207
        },
        "outputId": "46ae64ce-c4eb-4196-b754-560556b9601d"
      },
      "cell_type": "code",
      "source": [
        "!pip install --upgrade seaborn"
      ],
      "execution_count": 52,
      "outputs": [
        {
          "output_type": "stream",
          "text": [
            "Requirement already up-to-date: seaborn in /usr/local/lib/python3.6/dist-packages (0.9.0)\n",
            "Requirement already satisfied, skipping upgrade: scipy>=0.14.0 in /usr/local/lib/python3.6/dist-packages (from seaborn) (1.1.0)\n",
            "Requirement already satisfied, skipping upgrade: pandas>=0.15.2 in /usr/local/lib/python3.6/dist-packages (from seaborn) (0.22.0)\n",
            "Requirement already satisfied, skipping upgrade: numpy>=1.9.3 in /usr/local/lib/python3.6/dist-packages (from seaborn) (1.14.6)\n",
            "Requirement already satisfied, skipping upgrade: matplotlib>=1.4.3 in /usr/local/lib/python3.6/dist-packages (from seaborn) (2.1.2)\n",
            "Requirement already satisfied, skipping upgrade: pytz>=2011k in /usr/local/lib/python3.6/dist-packages (from pandas>=0.15.2->seaborn) (2018.7)\n",
            "Requirement already satisfied, skipping upgrade: python-dateutil>=2 in /usr/local/lib/python3.6/dist-packages (from pandas>=0.15.2->seaborn) (2.5.3)\n",
            "Requirement already satisfied, skipping upgrade: cycler>=0.10 in /usr/local/lib/python3.6/dist-packages (from matplotlib>=1.4.3->seaborn) (0.10.0)\n",
            "Requirement already satisfied, skipping upgrade: pyparsing!=2.0.4,!=2.1.2,!=2.1.6,>=2.0.1 in /usr/local/lib/python3.6/dist-packages (from matplotlib>=1.4.3->seaborn) (2.3.0)\n",
            "Requirement already satisfied, skipping upgrade: six>=1.10 in /usr/local/lib/python3.6/dist-packages (from matplotlib>=1.4.3->seaborn) (1.11.0)\n"
          ],
          "name": "stdout"
        }
      ]
    },
    {
      "metadata": {
        "id": "tE-NnrwNgmEp",
        "colab_type": "code",
        "colab": {
          "base_uri": "https://localhost:8080/",
          "height": 34
        },
        "outputId": "ca274f32-a3a6-4a9a-a825-33507413b259"
      },
      "cell_type": "code",
      "source": [
        "import seaborn as sns\n",
        "sns.__version__"
      ],
      "execution_count": 2,
      "outputs": [
        {
          "output_type": "execute_result",
          "data": {
            "text/plain": [
              "'0.9.0'"
            ]
          },
          "metadata": {
            "tags": []
          },
          "execution_count": 2
        }
      ]
    },
    {
      "metadata": {
        "id": "WNudYQVcV19w",
        "colab_type": "code",
        "colab": {}
      },
      "cell_type": "code",
      "source": [
        "import pandas as pd\n",
        "import matplotlib.pyplot as plt\n",
        "import numpy as np\n",
        "\n",
        "income = pd.read_csv('https://raw.githubusercontent.com/open-numbers/ddf--gapminder--systema_globalis/master/ddf--datapoints--income_per_person_gdppercapita_ppp_inflation_adjusted--by--geo--time.csv')"
      ],
      "execution_count": 0,
      "outputs": []
    },
    {
      "metadata": {
        "id": "0LqEcAK1axaL",
        "colab_type": "code",
        "colab": {}
      },
      "cell_type": "code",
      "source": [
        "population = pd.read_csv('https://raw.githubusercontent.com/open-numbers/ddf--gapminder--systema_globalis/master/ddf--datapoints--population_total--by--geo--time.csv')"
      ],
      "execution_count": 0,
      "outputs": []
    },
    {
      "metadata": {
        "id": "c_-YcAbNaxjj",
        "colab_type": "code",
        "colab": {}
      },
      "cell_type": "code",
      "source": [
        "lifespan = pd.read_csv('https://raw.githubusercontent.com/open-numbers/ddf--gapminder--systema_globalis/master/ddf--datapoints--life_expectancy_years--by--geo--time.csv')"
      ],
      "execution_count": 0,
      "outputs": []
    },
    {
      "metadata": {
        "id": "-eObTAAOaxnI",
        "colab_type": "code",
        "colab": {}
      },
      "cell_type": "code",
      "source": [
        "entities = pd.read_csv('https://raw.githubusercontent.com/open-numbers/ddf--gapminder--systema_globalis/master/ddf--entities--geo--country.csv')"
      ],
      "execution_count": 0,
      "outputs": []
    },
    {
      "metadata": {
        "id": "n9VmS9FQaxwh",
        "colab_type": "code",
        "colab": {}
      },
      "cell_type": "code",
      "source": [
        "concepts = pd.read_csv('https://raw.githubusercontent.com/open-numbers/ddf--gapminder--systema_globalis/master/ddf--concepts.csv')"
      ],
      "execution_count": 0,
      "outputs": []
    },
    {
      "metadata": {
        "id": "RnwV0xigbbuB",
        "colab_type": "code",
        "colab": {}
      },
      "cell_type": "code",
      "source": [
        "df = pd.merge(income,lifespan)"
      ],
      "execution_count": 0,
      "outputs": []
    },
    {
      "metadata": {
        "id": "1xpb-HPYbke1",
        "colab_type": "code",
        "colab": {
          "base_uri": "https://localhost:8080/",
          "height": 34
        },
        "outputId": "d42793a3-8c5c-4c97-a498-bf538ad63134"
      },
      "cell_type": "code",
      "source": [
        "income.shape, lifespan.shape, df.shape"
      ],
      "execution_count": 33,
      "outputs": [
        {
          "output_type": "execute_result",
          "data": {
            "text/plain": [
              "((44268, 3), (44370, 3), (41790, 4))"
            ]
          },
          "metadata": {
            "tags": []
          },
          "execution_count": 33
        }
      ]
    },
    {
      "metadata": {
        "id": "sjO8s37dbmyu",
        "colab_type": "code",
        "colab": {
          "base_uri": "https://localhost:8080/",
          "height": 204
        },
        "outputId": "328f0da8-4ac6-4e8a-9d3c-e0c52d182a93"
      },
      "cell_type": "code",
      "source": [
        "df.head()"
      ],
      "execution_count": 34,
      "outputs": [
        {
          "output_type": "execute_result",
          "data": {
            "text/html": [
              "<div>\n",
              "<style scoped>\n",
              "    .dataframe tbody tr th:only-of-type {\n",
              "        vertical-align: middle;\n",
              "    }\n",
              "\n",
              "    .dataframe tbody tr th {\n",
              "        vertical-align: top;\n",
              "    }\n",
              "\n",
              "    .dataframe thead th {\n",
              "        text-align: right;\n",
              "    }\n",
              "</style>\n",
              "<table border=\"1\" class=\"dataframe\">\n",
              "  <thead>\n",
              "    <tr style=\"text-align: right;\">\n",
              "      <th></th>\n",
              "      <th>geo</th>\n",
              "      <th>time</th>\n",
              "      <th>income_per_person_gdppercapita_ppp_inflation_adjusted</th>\n",
              "      <th>life_expectancy_years</th>\n",
              "    </tr>\n",
              "  </thead>\n",
              "  <tbody>\n",
              "    <tr>\n",
              "      <th>0</th>\n",
              "      <td>abw</td>\n",
              "      <td>1800</td>\n",
              "      <td>833</td>\n",
              "      <td>34.42</td>\n",
              "    </tr>\n",
              "    <tr>\n",
              "      <th>1</th>\n",
              "      <td>abw</td>\n",
              "      <td>1801</td>\n",
              "      <td>833</td>\n",
              "      <td>34.42</td>\n",
              "    </tr>\n",
              "    <tr>\n",
              "      <th>2</th>\n",
              "      <td>abw</td>\n",
              "      <td>1802</td>\n",
              "      <td>833</td>\n",
              "      <td>34.42</td>\n",
              "    </tr>\n",
              "    <tr>\n",
              "      <th>3</th>\n",
              "      <td>abw</td>\n",
              "      <td>1803</td>\n",
              "      <td>833</td>\n",
              "      <td>34.42</td>\n",
              "    </tr>\n",
              "    <tr>\n",
              "      <th>4</th>\n",
              "      <td>abw</td>\n",
              "      <td>1804</td>\n",
              "      <td>833</td>\n",
              "      <td>34.42</td>\n",
              "    </tr>\n",
              "  </tbody>\n",
              "</table>\n",
              "</div>"
            ],
            "text/plain": [
              "   geo  time  income_per_person_gdppercapita_ppp_inflation_adjusted  \\\n",
              "0  abw  1800                                                833       \n",
              "1  abw  1801                                                833       \n",
              "2  abw  1802                                                833       \n",
              "3  abw  1803                                                833       \n",
              "4  abw  1804                                                833       \n",
              "\n",
              "   life_expectancy_years  \n",
              "0                  34.42  \n",
              "1                  34.42  \n",
              "2                  34.42  \n",
              "3                  34.42  \n",
              "4                  34.42  "
            ]
          },
          "metadata": {
            "tags": []
          },
          "execution_count": 34
        }
      ]
    },
    {
      "metadata": {
        "id": "luWMXBN5bozy",
        "colab_type": "code",
        "colab": {
          "base_uri": "https://localhost:8080/",
          "height": 1072
        },
        "outputId": "7ee4d544-3cbc-4f27-8c39-5ecb951010b1"
      },
      "cell_type": "code",
      "source": [
        "entities[entities.country=='abw'].T"
      ],
      "execution_count": 35,
      "outputs": [
        {
          "output_type": "execute_result",
          "data": {
            "text/html": [
              "<div>\n",
              "<style scoped>\n",
              "    .dataframe tbody tr th:only-of-type {\n",
              "        vertical-align: middle;\n",
              "    }\n",
              "\n",
              "    .dataframe tbody tr th {\n",
              "        vertical-align: top;\n",
              "    }\n",
              "\n",
              "    .dataframe thead th {\n",
              "        text-align: right;\n",
              "    }\n",
              "</style>\n",
              "<table border=\"1\" class=\"dataframe\">\n",
              "  <thead>\n",
              "    <tr style=\"text-align: right;\">\n",
              "      <th></th>\n",
              "      <th>1</th>\n",
              "    </tr>\n",
              "  </thead>\n",
              "  <tbody>\n",
              "    <tr>\n",
              "      <th>country</th>\n",
              "      <td>abw</td>\n",
              "    </tr>\n",
              "    <tr>\n",
              "      <th>alt_5</th>\n",
              "      <td>NaN</td>\n",
              "    </tr>\n",
              "    <tr>\n",
              "      <th>alternative_1</th>\n",
              "      <td>NaN</td>\n",
              "    </tr>\n",
              "    <tr>\n",
              "      <th>alternative_2</th>\n",
              "      <td>NaN</td>\n",
              "    </tr>\n",
              "    <tr>\n",
              "      <th>alternative_3</th>\n",
              "      <td>NaN</td>\n",
              "    </tr>\n",
              "    <tr>\n",
              "      <th>alternative_4_cdiac</th>\n",
              "      <td>Aruba</td>\n",
              "    </tr>\n",
              "    <tr>\n",
              "      <th>arb1</th>\n",
              "      <td>NaN</td>\n",
              "    </tr>\n",
              "    <tr>\n",
              "      <th>arb2</th>\n",
              "      <td>NaN</td>\n",
              "    </tr>\n",
              "    <tr>\n",
              "      <th>arb3</th>\n",
              "      <td>NaN</td>\n",
              "    </tr>\n",
              "    <tr>\n",
              "      <th>arb4</th>\n",
              "      <td>NaN</td>\n",
              "    </tr>\n",
              "    <tr>\n",
              "      <th>arb5</th>\n",
              "      <td>NaN</td>\n",
              "    </tr>\n",
              "    <tr>\n",
              "      <th>arb6</th>\n",
              "      <td>NaN</td>\n",
              "    </tr>\n",
              "    <tr>\n",
              "      <th>g77_and_oecd_countries</th>\n",
              "      <td>others</td>\n",
              "    </tr>\n",
              "    <tr>\n",
              "      <th>gapminder_list</th>\n",
              "      <td>Aruba</td>\n",
              "    </tr>\n",
              "    <tr>\n",
              "      <th>god_id</th>\n",
              "      <td>AW</td>\n",
              "    </tr>\n",
              "    <tr>\n",
              "      <th>gwid</th>\n",
              "      <td>i12</td>\n",
              "    </tr>\n",
              "    <tr>\n",
              "      <th>income_groups</th>\n",
              "      <td>high_income</td>\n",
              "    </tr>\n",
              "    <tr>\n",
              "      <th>is--country</th>\n",
              "      <td>True</td>\n",
              "    </tr>\n",
              "    <tr>\n",
              "      <th>iso3166_1_alpha2</th>\n",
              "      <td>AW</td>\n",
              "    </tr>\n",
              "    <tr>\n",
              "      <th>iso3166_1_alpha3</th>\n",
              "      <td>ABW</td>\n",
              "    </tr>\n",
              "    <tr>\n",
              "      <th>iso3166_1_numeric</th>\n",
              "      <td>533</td>\n",
              "    </tr>\n",
              "    <tr>\n",
              "      <th>iso3166_2</th>\n",
              "      <td>NaN</td>\n",
              "    </tr>\n",
              "    <tr>\n",
              "      <th>landlocked</th>\n",
              "      <td>coastline</td>\n",
              "    </tr>\n",
              "    <tr>\n",
              "      <th>latitude</th>\n",
              "      <td>12.5</td>\n",
              "    </tr>\n",
              "    <tr>\n",
              "      <th>longitude</th>\n",
              "      <td>-69.9667</td>\n",
              "    </tr>\n",
              "    <tr>\n",
              "      <th>main_religion_2008</th>\n",
              "      <td>christian</td>\n",
              "    </tr>\n",
              "    <tr>\n",
              "      <th>name</th>\n",
              "      <td>Aruba</td>\n",
              "    </tr>\n",
              "    <tr>\n",
              "      <th>pandg</th>\n",
              "      <td>NaN</td>\n",
              "    </tr>\n",
              "    <tr>\n",
              "      <th>un_state</th>\n",
              "      <td>False</td>\n",
              "    </tr>\n",
              "    <tr>\n",
              "      <th>unicode_region_subtag</th>\n",
              "      <td>AW</td>\n",
              "    </tr>\n",
              "    <tr>\n",
              "      <th>upper_case_name</th>\n",
              "      <td>ARUBA</td>\n",
              "    </tr>\n",
              "    <tr>\n",
              "      <th>world_4region</th>\n",
              "      <td>americas</td>\n",
              "    </tr>\n",
              "    <tr>\n",
              "      <th>world_6region</th>\n",
              "      <td>america</td>\n",
              "    </tr>\n",
              "  </tbody>\n",
              "</table>\n",
              "</div>"
            ],
            "text/plain": [
              "                                  1\n",
              "country                         abw\n",
              "alt_5                           NaN\n",
              "alternative_1                   NaN\n",
              "alternative_2                   NaN\n",
              "alternative_3                   NaN\n",
              "alternative_4_cdiac           Aruba\n",
              "arb1                            NaN\n",
              "arb2                            NaN\n",
              "arb3                            NaN\n",
              "arb4                            NaN\n",
              "arb5                            NaN\n",
              "arb6                            NaN\n",
              "g77_and_oecd_countries       others\n",
              "gapminder_list                Aruba\n",
              "god_id                           AW\n",
              "gwid                            i12\n",
              "income_groups           high_income\n",
              "is--country                    True\n",
              "iso3166_1_alpha2                 AW\n",
              "iso3166_1_alpha3                ABW\n",
              "iso3166_1_numeric               533\n",
              "iso3166_2                       NaN\n",
              "landlocked                coastline\n",
              "latitude                       12.5\n",
              "longitude                  -69.9667\n",
              "main_religion_2008        christian\n",
              "name                          Aruba\n",
              "pandg                           NaN\n",
              "un_state                      False\n",
              "unicode_region_subtag            AW\n",
              "upper_case_name               ARUBA\n",
              "world_4region              americas\n",
              "world_6region               america"
            ]
          },
          "metadata": {
            "tags": []
          },
          "execution_count": 35
        }
      ]
    },
    {
      "metadata": {
        "id": "8ZAbDr4udBjp",
        "colab_type": "code",
        "colab": {
          "base_uri": "https://localhost:8080/",
          "height": 102
        },
        "outputId": "31bb8145-9db4-4bc0-dee0-7fad489fecea"
      },
      "cell_type": "code",
      "source": [
        "entities.world_4region.value_counts()"
      ],
      "execution_count": 36,
      "outputs": [
        {
          "output_type": "execute_result",
          "data": {
            "text/plain": [
              "asia        80\n",
              "europe      73\n",
              "africa      61\n",
              "americas    57\n",
              "Name: world_4region, dtype: int64"
            ]
          },
          "metadata": {
            "tags": []
          },
          "execution_count": 36
        }
      ]
    },
    {
      "metadata": {
        "id": "aVSEK1VVdFVh",
        "colab_type": "code",
        "colab": {
          "base_uri": "https://localhost:8080/",
          "height": 136
        },
        "outputId": "c71ad718-7aa0-4fe2-b8eb-b79fb3c76d9f"
      },
      "cell_type": "code",
      "source": [
        "entities.world_6region.value_counts()"
      ],
      "execution_count": 37,
      "outputs": [
        {
          "output_type": "execute_result",
          "data": {
            "text/plain": [
              "europe_central_asia         77\n",
              "america                     53\n",
              "sub_saharan_africa          53\n",
              "east_asia_pacific           46\n",
              "middle_east_north_africa    23\n",
              "south_asia                   8\n",
              "Name: world_6region, dtype: int64"
            ]
          },
          "metadata": {
            "tags": []
          },
          "execution_count": 37
        }
      ]
    },
    {
      "metadata": {
        "id": "9qKQbAbsh13H",
        "colab_type": "code",
        "colab": {}
      },
      "cell_type": "code",
      "source": [
        "df = pd.merge(df, population)"
      ],
      "execution_count": 0,
      "outputs": []
    },
    {
      "metadata": {
        "id": "eI-oFUaHdHUe",
        "colab_type": "code",
        "colab": {}
      },
      "cell_type": "code",
      "source": [
        "variables = ['country', 'name', 'world_6region']\n",
        "entities[variables].head()\n",
        "df.reset_index(inplace = True)"
      ],
      "execution_count": 0,
      "outputs": []
    },
    {
      "metadata": {
        "id": "3TC6qdr6dLrW",
        "colab_type": "code",
        "colab": {
          "base_uri": "https://localhost:8080/",
          "height": 224
        },
        "outputId": "1cbc2aa9-87ca-422b-d214-3e18f2ad0124"
      },
      "cell_type": "code",
      "source": [
        "pd.merge(df, entities[variables], how = 'inner', left_on='geo', right_on = 'country').head()"
      ],
      "execution_count": 40,
      "outputs": [
        {
          "output_type": "execute_result",
          "data": {
            "text/html": [
              "<div>\n",
              "<style scoped>\n",
              "    .dataframe tbody tr th:only-of-type {\n",
              "        vertical-align: middle;\n",
              "    }\n",
              "\n",
              "    .dataframe tbody tr th {\n",
              "        vertical-align: top;\n",
              "    }\n",
              "\n",
              "    .dataframe thead th {\n",
              "        text-align: right;\n",
              "    }\n",
              "</style>\n",
              "<table border=\"1\" class=\"dataframe\">\n",
              "  <thead>\n",
              "    <tr style=\"text-align: right;\">\n",
              "      <th></th>\n",
              "      <th>index</th>\n",
              "      <th>geo</th>\n",
              "      <th>time</th>\n",
              "      <th>income_per_person_gdppercapita_ppp_inflation_adjusted</th>\n",
              "      <th>life_expectancy_years</th>\n",
              "      <th>population_total</th>\n",
              "      <th>country</th>\n",
              "      <th>name</th>\n",
              "      <th>world_6region</th>\n",
              "    </tr>\n",
              "  </thead>\n",
              "  <tbody>\n",
              "    <tr>\n",
              "      <th>0</th>\n",
              "      <td>0</td>\n",
              "      <td>abw</td>\n",
              "      <td>1800</td>\n",
              "      <td>833</td>\n",
              "      <td>34.42</td>\n",
              "      <td>19286</td>\n",
              "      <td>abw</td>\n",
              "      <td>Aruba</td>\n",
              "      <td>america</td>\n",
              "    </tr>\n",
              "    <tr>\n",
              "      <th>1</th>\n",
              "      <td>1</td>\n",
              "      <td>abw</td>\n",
              "      <td>1801</td>\n",
              "      <td>833</td>\n",
              "      <td>34.42</td>\n",
              "      <td>19286</td>\n",
              "      <td>abw</td>\n",
              "      <td>Aruba</td>\n",
              "      <td>america</td>\n",
              "    </tr>\n",
              "    <tr>\n",
              "      <th>2</th>\n",
              "      <td>2</td>\n",
              "      <td>abw</td>\n",
              "      <td>1802</td>\n",
              "      <td>833</td>\n",
              "      <td>34.42</td>\n",
              "      <td>19286</td>\n",
              "      <td>abw</td>\n",
              "      <td>Aruba</td>\n",
              "      <td>america</td>\n",
              "    </tr>\n",
              "    <tr>\n",
              "      <th>3</th>\n",
              "      <td>3</td>\n",
              "      <td>abw</td>\n",
              "      <td>1803</td>\n",
              "      <td>833</td>\n",
              "      <td>34.42</td>\n",
              "      <td>19286</td>\n",
              "      <td>abw</td>\n",
              "      <td>Aruba</td>\n",
              "      <td>america</td>\n",
              "    </tr>\n",
              "    <tr>\n",
              "      <th>4</th>\n",
              "      <td>4</td>\n",
              "      <td>abw</td>\n",
              "      <td>1804</td>\n",
              "      <td>833</td>\n",
              "      <td>34.42</td>\n",
              "      <td>19286</td>\n",
              "      <td>abw</td>\n",
              "      <td>Aruba</td>\n",
              "      <td>america</td>\n",
              "    </tr>\n",
              "  </tbody>\n",
              "</table>\n",
              "</div>"
            ],
            "text/plain": [
              "   index  geo  time  income_per_person_gdppercapita_ppp_inflation_adjusted  \\\n",
              "0      0  abw  1800                                                833       \n",
              "1      1  abw  1801                                                833       \n",
              "2      2  abw  1802                                                833       \n",
              "3      3  abw  1803                                                833       \n",
              "4      4  abw  1804                                                833       \n",
              "\n",
              "   life_expectancy_years  population_total country   name world_6region  \n",
              "0                  34.42             19286     abw  Aruba       america  \n",
              "1                  34.42             19286     abw  Aruba       america  \n",
              "2                  34.42             19286     abw  Aruba       america  \n",
              "3                  34.42             19286     abw  Aruba       america  \n",
              "4                  34.42             19286     abw  Aruba       america  "
            ]
          },
          "metadata": {
            "tags": []
          },
          "execution_count": 40
        }
      ]
    },
    {
      "metadata": {
        "id": "XSewgrildocj",
        "colab_type": "code",
        "colab": {
          "base_uri": "https://localhost:8080/",
          "height": 34
        },
        "outputId": "5ca78b09-eb07-48d5-b86a-efcd96ff4f4c"
      },
      "cell_type": "code",
      "source": [
        "df = pd.merge(df, entities[variables], \n",
        "              how='inner', left_on='geo', right_on='country')\n",
        "\n",
        "df.drop(columns=['geo', 'country'], inplace=True)\n",
        "\n",
        "df.rename(columns={\n",
        "    'time': 'year', \n",
        "    'income_per_person_gdppercapita_ppp_inflation_adjusted': 'income', \n",
        "    'life_expectancy_years': 'lifespan', \n",
        "    'population_total': 'population', \n",
        "    'name': 'country', \n",
        "    'world_6region': 'region'\n",
        "}, inplace=True)\n",
        "\n",
        "df.shape"
      ],
      "execution_count": 41,
      "outputs": [
        {
          "output_type": "execute_result",
          "data": {
            "text/plain": [
              "(41790, 7)"
            ]
          },
          "metadata": {
            "tags": []
          },
          "execution_count": 41
        }
      ]
    },
    {
      "metadata": {
        "id": "7e8SMJczeyPA",
        "colab_type": "code",
        "colab": {
          "base_uri": "https://localhost:8080/",
          "height": 297
        },
        "outputId": "1005f4d0-54ca-4530-9fe1-5a42c848fd56"
      },
      "cell_type": "code",
      "source": [
        "df.describe()"
      ],
      "execution_count": 42,
      "outputs": [
        {
          "output_type": "execute_result",
          "data": {
            "text/html": [
              "<div>\n",
              "<style scoped>\n",
              "    .dataframe tbody tr th:only-of-type {\n",
              "        vertical-align: middle;\n",
              "    }\n",
              "\n",
              "    .dataframe tbody tr th {\n",
              "        vertical-align: top;\n",
              "    }\n",
              "\n",
              "    .dataframe thead th {\n",
              "        text-align: right;\n",
              "    }\n",
              "</style>\n",
              "<table border=\"1\" class=\"dataframe\">\n",
              "  <thead>\n",
              "    <tr style=\"text-align: right;\">\n",
              "      <th></th>\n",
              "      <th>index</th>\n",
              "      <th>year</th>\n",
              "      <th>income</th>\n",
              "      <th>lifespan</th>\n",
              "      <th>population</th>\n",
              "    </tr>\n",
              "  </thead>\n",
              "  <tbody>\n",
              "    <tr>\n",
              "      <th>count</th>\n",
              "      <td>41790.000000</td>\n",
              "      <td>41790.000000</td>\n",
              "      <td>41790.000000</td>\n",
              "      <td>41790.000000</td>\n",
              "      <td>4.179000e+04</td>\n",
              "    </tr>\n",
              "    <tr>\n",
              "      <th>mean</th>\n",
              "      <td>20894.500000</td>\n",
              "      <td>1909.357406</td>\n",
              "      <td>4778.593683</td>\n",
              "      <td>43.267181</td>\n",
              "      <td>1.332550e+07</td>\n",
              "    </tr>\n",
              "    <tr>\n",
              "      <th>std</th>\n",
              "      <td>12063.878211</td>\n",
              "      <td>63.322969</td>\n",
              "      <td>10502.602580</td>\n",
              "      <td>16.394240</td>\n",
              "      <td>6.502349e+07</td>\n",
              "    </tr>\n",
              "    <tr>\n",
              "      <th>min</th>\n",
              "      <td>0.000000</td>\n",
              "      <td>1800.000000</td>\n",
              "      <td>247.000000</td>\n",
              "      <td>1.000000</td>\n",
              "      <td>2.128000e+03</td>\n",
              "    </tr>\n",
              "    <tr>\n",
              "      <th>25%</th>\n",
              "      <td>10447.250000</td>\n",
              "      <td>1854.000000</td>\n",
              "      <td>884.000000</td>\n",
              "      <td>31.200000</td>\n",
              "      <td>3.760282e+05</td>\n",
              "    </tr>\n",
              "    <tr>\n",
              "      <th>50%</th>\n",
              "      <td>20894.500000</td>\n",
              "      <td>1909.000000</td>\n",
              "      <td>1449.000000</td>\n",
              "      <td>35.500000</td>\n",
              "      <td>1.915244e+06</td>\n",
              "    </tr>\n",
              "    <tr>\n",
              "      <th>75%</th>\n",
              "      <td>31341.750000</td>\n",
              "      <td>1964.000000</td>\n",
              "      <td>3536.750000</td>\n",
              "      <td>56.340000</td>\n",
              "      <td>6.260147e+06</td>\n",
              "    </tr>\n",
              "    <tr>\n",
              "      <th>max</th>\n",
              "      <td>41789.000000</td>\n",
              "      <td>2018.000000</td>\n",
              "      <td>177522.000000</td>\n",
              "      <td>84.170000</td>\n",
              "      <td>1.415046e+09</td>\n",
              "    </tr>\n",
              "  </tbody>\n",
              "</table>\n",
              "</div>"
            ],
            "text/plain": [
              "              index          year         income      lifespan    population\n",
              "count  41790.000000  41790.000000   41790.000000  41790.000000  4.179000e+04\n",
              "mean   20894.500000   1909.357406    4778.593683     43.267181  1.332550e+07\n",
              "std    12063.878211     63.322969   10502.602580     16.394240  6.502349e+07\n",
              "min        0.000000   1800.000000     247.000000      1.000000  2.128000e+03\n",
              "25%    10447.250000   1854.000000     884.000000     31.200000  3.760282e+05\n",
              "50%    20894.500000   1909.000000    1449.000000     35.500000  1.915244e+06\n",
              "75%    31341.750000   1964.000000    3536.750000     56.340000  6.260147e+06\n",
              "max    41789.000000   2018.000000  177522.000000     84.170000  1.415046e+09"
            ]
          },
          "metadata": {
            "tags": []
          },
          "execution_count": 42
        }
      ]
    },
    {
      "metadata": {
        "id": "JdXQnuPZfxYg",
        "colab_type": "code",
        "colab": {
          "base_uri": "https://localhost:8080/",
          "height": 173
        },
        "outputId": "bf29e1dc-2f44-48c1-d356-56095c0d8d89"
      },
      "cell_type": "code",
      "source": [
        "df.describe(exclude=[np.number])"
      ],
      "execution_count": 43,
      "outputs": [
        {
          "output_type": "execute_result",
          "data": {
            "text/html": [
              "<div>\n",
              "<style scoped>\n",
              "    .dataframe tbody tr th:only-of-type {\n",
              "        vertical-align: middle;\n",
              "    }\n",
              "\n",
              "    .dataframe tbody tr th {\n",
              "        vertical-align: top;\n",
              "    }\n",
              "\n",
              "    .dataframe thead th {\n",
              "        text-align: right;\n",
              "    }\n",
              "</style>\n",
              "<table border=\"1\" class=\"dataframe\">\n",
              "  <thead>\n",
              "    <tr style=\"text-align: right;\">\n",
              "      <th></th>\n",
              "      <th>country</th>\n",
              "      <th>region</th>\n",
              "    </tr>\n",
              "  </thead>\n",
              "  <tbody>\n",
              "    <tr>\n",
              "      <th>count</th>\n",
              "      <td>41790</td>\n",
              "      <td>41790</td>\n",
              "    </tr>\n",
              "    <tr>\n",
              "      <th>unique</th>\n",
              "      <td>194</td>\n",
              "      <td>6</td>\n",
              "    </tr>\n",
              "    <tr>\n",
              "      <th>top</th>\n",
              "      <td>Brunei</td>\n",
              "      <td>europe_central_asia</td>\n",
              "    </tr>\n",
              "    <tr>\n",
              "      <th>freq</th>\n",
              "      <td>219</td>\n",
              "      <td>10991</td>\n",
              "    </tr>\n",
              "  </tbody>\n",
              "</table>\n",
              "</div>"
            ],
            "text/plain": [
              "       country               region\n",
              "count    41790                41790\n",
              "unique     194                    6\n",
              "top     Brunei  europe_central_asia\n",
              "freq       219                10991"
            ]
          },
          "metadata": {
            "tags": []
          },
          "execution_count": 43
        }
      ]
    },
    {
      "metadata": {
        "id": "aWBoKMJAf1NT",
        "colab_type": "code",
        "colab": {
          "base_uri": "https://localhost:8080/",
          "height": 697
        },
        "outputId": "153cc9d3-ae27-42ed-cc63-183aa99ee9dc"
      },
      "cell_type": "code",
      "source": [
        "df.country.unique()"
      ],
      "execution_count": 44,
      "outputs": [
        {
          "output_type": "execute_result",
          "data": {
            "text/plain": [
              "array(['Aruba', 'Afghanistan', 'Angola', 'Albania', 'Andorra',\n",
              "       'United Arab Emirates', 'Argentina', 'Armenia',\n",
              "       'Antigua and Barbuda', 'Australia', 'Austria', 'Azerbaijan',\n",
              "       'Burundi', 'Belgium', 'Benin', 'Burkina Faso', 'Bangladesh',\n",
              "       'Bulgaria', 'Bahrain', 'Bahamas', 'Bosnia and Herzegovina',\n",
              "       'Belarus', 'Belize', 'Bermuda', 'Bolivia', 'Brazil', 'Barbados',\n",
              "       'Brunei', 'Bhutan', 'Botswana', 'Central African Republic',\n",
              "       'Canada', 'Switzerland', 'Chile', 'China', \"Cote d'Ivoire\",\n",
              "       'Cameroon', 'Congo, Dem. Rep.', 'Congo, Rep.', 'Colombia',\n",
              "       'Comoros', 'Cape Verde', 'Costa Rica', 'Cuba', 'Cyprus',\n",
              "       'Czech Republic', 'Germany', 'Djibouti', 'Dominica', 'Denmark',\n",
              "       'Dominican Republic', 'Algeria', 'Ecuador', 'Egypt', 'Eritrea',\n",
              "       'Spain', 'Estonia', 'Ethiopia', 'Finland', 'Fiji', 'France',\n",
              "       'Micronesia, Fed. Sts.', 'Gabon', 'United Kingdom', 'Georgia',\n",
              "       'Ghana', 'Guinea', 'Gambia', 'Guinea-Bissau', 'Equatorial Guinea',\n",
              "       'Greece', 'Grenada', 'Greenland', 'Guatemala', 'Guyana',\n",
              "       'Hong Kong, China', 'Honduras', 'Croatia', 'Haiti', 'Hungary',\n",
              "       'Indonesia', 'India', 'Ireland', 'Iran', 'Iraq', 'Iceland',\n",
              "       'Israel', 'Italy', 'Jamaica', 'Jordan', 'Japan', 'Kazakhstan',\n",
              "       'Kenya', 'Kyrgyz Republic', 'Cambodia', 'Kiribati', 'South Korea',\n",
              "       'Kuwait', 'Lao', 'Lebanon', 'Liberia', 'Libya', 'St. Lucia',\n",
              "       'Sri Lanka', 'Lesotho', 'Lithuania', 'Luxembourg', 'Latvia',\n",
              "       'Macao, China', 'Morocco', 'Moldova', 'Madagascar', 'Maldives',\n",
              "       'Mexico', 'Marshall Islands', 'Macedonia, FYR', 'Mali', 'Malta',\n",
              "       'Myanmar', 'Montenegro', 'Mongolia', 'Mozambique', 'Mauritania',\n",
              "       'Mauritius', 'Malawi', 'Malaysia', 'Namibia', 'Niger', 'Nigeria',\n",
              "       'Nicaragua', 'Netherlands', 'Norway', 'Nepal', 'New Zealand',\n",
              "       'Oman', 'Pakistan', 'Panama', 'Peru', 'Philippines',\n",
              "       'Papua New Guinea', 'Poland', 'Puerto Rico', 'North Korea',\n",
              "       'Portugal', 'Paraguay', 'Palestine', 'Qatar', 'Romania', 'Russia',\n",
              "       'Rwanda', 'Saudi Arabia', 'Sudan', 'Senegal', 'Singapore',\n",
              "       'Solomon Islands', 'Sierra Leone', 'El Salvador', 'Somalia',\n",
              "       'Serbia', 'South Sudan', 'Sao Tome and Principe', 'Suriname',\n",
              "       'Slovak Republic', 'Slovenia', 'Sweden', 'Swaziland', 'Seychelles',\n",
              "       'Syria', 'Chad', 'Togo', 'Thailand', 'Tajikistan', 'Turkmenistan',\n",
              "       'Timor-Leste', 'Tonga', 'Trinidad and Tobago', 'Tunisia', 'Turkey',\n",
              "       'Taiwan', 'Tanzania', 'Uganda', 'Ukraine', 'Uruguay',\n",
              "       'United States', 'Uzbekistan', 'St. Vincent and the Grenadines',\n",
              "       'Venezuela', 'Vietnam', 'Vanuatu', 'Samoa', 'Yemen',\n",
              "       'South Africa', 'Zambia', 'Zimbabwe'], dtype=object)"
            ]
          },
          "metadata": {
            "tags": []
          },
          "execution_count": 44
        }
      ]
    },
    {
      "metadata": {
        "id": "-ORJbH2Jf3sU",
        "colab_type": "code",
        "colab": {
          "base_uri": "https://localhost:8080/",
          "height": 1969
        },
        "outputId": "e07370b7-b91d-4cb6-a42e-b74faa6e6cf7"
      },
      "cell_type": "code",
      "source": [
        "usa = df[df.country=='United States']\n",
        "usa"
      ],
      "execution_count": 45,
      "outputs": [
        {
          "output_type": "execute_result",
          "data": {
            "text/html": [
              "<div>\n",
              "<style scoped>\n",
              "    .dataframe tbody tr th:only-of-type {\n",
              "        vertical-align: middle;\n",
              "    }\n",
              "\n",
              "    .dataframe tbody tr th {\n",
              "        vertical-align: top;\n",
              "    }\n",
              "\n",
              "    .dataframe thead th {\n",
              "        text-align: right;\n",
              "    }\n",
              "</style>\n",
              "<table border=\"1\" class=\"dataframe\">\n",
              "  <thead>\n",
              "    <tr style=\"text-align: right;\">\n",
              "      <th></th>\n",
              "      <th>index</th>\n",
              "      <th>year</th>\n",
              "      <th>income</th>\n",
              "      <th>lifespan</th>\n",
              "      <th>population</th>\n",
              "      <th>country</th>\n",
              "      <th>region</th>\n",
              "    </tr>\n",
              "  </thead>\n",
              "  <tbody>\n",
              "    <tr>\n",
              "      <th>39381</th>\n",
              "      <td>39381</td>\n",
              "      <td>1800</td>\n",
              "      <td>2127</td>\n",
              "      <td>39.41</td>\n",
              "      <td>6801854</td>\n",
              "      <td>United States</td>\n",
              "      <td>america</td>\n",
              "    </tr>\n",
              "    <tr>\n",
              "      <th>39382</th>\n",
              "      <td>39382</td>\n",
              "      <td>1801</td>\n",
              "      <td>2167</td>\n",
              "      <td>39.41</td>\n",
              "      <td>6933517</td>\n",
              "      <td>United States</td>\n",
              "      <td>america</td>\n",
              "    </tr>\n",
              "    <tr>\n",
              "      <th>39383</th>\n",
              "      <td>39383</td>\n",
              "      <td>1802</td>\n",
              "      <td>2202</td>\n",
              "      <td>39.41</td>\n",
              "      <td>7067728</td>\n",
              "      <td>United States</td>\n",
              "      <td>america</td>\n",
              "    </tr>\n",
              "    <tr>\n",
              "      <th>39384</th>\n",
              "      <td>39384</td>\n",
              "      <td>1803</td>\n",
              "      <td>2166</td>\n",
              "      <td>39.41</td>\n",
              "      <td>7204538</td>\n",
              "      <td>United States</td>\n",
              "      <td>america</td>\n",
              "    </tr>\n",
              "    <tr>\n",
              "      <th>39385</th>\n",
              "      <td>39385</td>\n",
              "      <td>1804</td>\n",
              "      <td>2165</td>\n",
              "      <td>39.41</td>\n",
              "      <td>7343995</td>\n",
              "      <td>United States</td>\n",
              "      <td>america</td>\n",
              "    </tr>\n",
              "    <tr>\n",
              "      <th>39386</th>\n",
              "      <td>39386</td>\n",
              "      <td>1805</td>\n",
              "      <td>2209</td>\n",
              "      <td>39.41</td>\n",
              "      <td>7486152</td>\n",
              "      <td>United States</td>\n",
              "      <td>america</td>\n",
              "    </tr>\n",
              "    <tr>\n",
              "      <th>39387</th>\n",
              "      <td>39387</td>\n",
              "      <td>1806</td>\n",
              "      <td>2251</td>\n",
              "      <td>39.41</td>\n",
              "      <td>7631061</td>\n",
              "      <td>United States</td>\n",
              "      <td>america</td>\n",
              "    </tr>\n",
              "    <tr>\n",
              "      <th>39388</th>\n",
              "      <td>39388</td>\n",
              "      <td>1807</td>\n",
              "      <td>2273</td>\n",
              "      <td>39.41</td>\n",
              "      <td>7778775</td>\n",
              "      <td>United States</td>\n",
              "      <td>america</td>\n",
              "    </tr>\n",
              "    <tr>\n",
              "      <th>39389</th>\n",
              "      <td>39389</td>\n",
              "      <td>1808</td>\n",
              "      <td>2113</td>\n",
              "      <td>39.41</td>\n",
              "      <td>7929348</td>\n",
              "      <td>United States</td>\n",
              "      <td>america</td>\n",
              "    </tr>\n",
              "    <tr>\n",
              "      <th>39390</th>\n",
              "      <td>39390</td>\n",
              "      <td>1809</td>\n",
              "      <td>2217</td>\n",
              "      <td>39.41</td>\n",
              "      <td>8082836</td>\n",
              "      <td>United States</td>\n",
              "      <td>america</td>\n",
              "    </tr>\n",
              "    <tr>\n",
              "      <th>39391</th>\n",
              "      <td>39391</td>\n",
              "      <td>1810</td>\n",
              "      <td>2282</td>\n",
              "      <td>39.41</td>\n",
              "      <td>8294928</td>\n",
              "      <td>United States</td>\n",
              "      <td>america</td>\n",
              "    </tr>\n",
              "    <tr>\n",
              "      <th>39392</th>\n",
              "      <td>39392</td>\n",
              "      <td>1811</td>\n",
              "      <td>2326</td>\n",
              "      <td>39.41</td>\n",
              "      <td>8461458</td>\n",
              "      <td>United States</td>\n",
              "      <td>america</td>\n",
              "    </tr>\n",
              "    <tr>\n",
              "      <th>39393</th>\n",
              "      <td>39393</td>\n",
              "      <td>1812</td>\n",
              "      <td>2287</td>\n",
              "      <td>39.41</td>\n",
              "      <td>8637266</td>\n",
              "      <td>United States</td>\n",
              "      <td>america</td>\n",
              "    </tr>\n",
              "    <tr>\n",
              "      <th>39394</th>\n",
              "      <td>39394</td>\n",
              "      <td>1813</td>\n",
              "      <td>2312</td>\n",
              "      <td>39.41</td>\n",
              "      <td>8822188</td>\n",
              "      <td>United States</td>\n",
              "      <td>america</td>\n",
              "    </tr>\n",
              "    <tr>\n",
              "      <th>39395</th>\n",
              "      <td>39395</td>\n",
              "      <td>1814</td>\n",
              "      <td>2357</td>\n",
              "      <td>39.41</td>\n",
              "      <td>9016100</td>\n",
              "      <td>United States</td>\n",
              "      <td>america</td>\n",
              "    </tr>\n",
              "    <tr>\n",
              "      <th>39396</th>\n",
              "      <td>39396</td>\n",
              "      <td>1815</td>\n",
              "      <td>2348</td>\n",
              "      <td>39.41</td>\n",
              "      <td>9218879</td>\n",
              "      <td>United States</td>\n",
              "      <td>america</td>\n",
              "    </tr>\n",
              "    <tr>\n",
              "      <th>39397</th>\n",
              "      <td>39397</td>\n",
              "      <td>1816</td>\n",
              "      <td>2253</td>\n",
              "      <td>39.41</td>\n",
              "      <td>9430398</td>\n",
              "      <td>United States</td>\n",
              "      <td>america</td>\n",
              "    </tr>\n",
              "    <tr>\n",
              "      <th>39398</th>\n",
              "      <td>39398</td>\n",
              "      <td>1817</td>\n",
              "      <td>2251</td>\n",
              "      <td>39.41</td>\n",
              "      <td>9650391</td>\n",
              "      <td>United States</td>\n",
              "      <td>america</td>\n",
              "    </tr>\n",
              "    <tr>\n",
              "      <th>39399</th>\n",
              "      <td>39399</td>\n",
              "      <td>1818</td>\n",
              "      <td>2258</td>\n",
              "      <td>39.41</td>\n",
              "      <td>9879049</td>\n",
              "      <td>United States</td>\n",
              "      <td>america</td>\n",
              "    </tr>\n",
              "    <tr>\n",
              "      <th>39400</th>\n",
              "      <td>39400</td>\n",
              "      <td>1819</td>\n",
              "      <td>2254</td>\n",
              "      <td>39.41</td>\n",
              "      <td>10116052</td>\n",
              "      <td>United States</td>\n",
              "      <td>america</td>\n",
              "    </tr>\n",
              "    <tr>\n",
              "      <th>39401</th>\n",
              "      <td>39401</td>\n",
              "      <td>1820</td>\n",
              "      <td>2241</td>\n",
              "      <td>39.41</td>\n",
              "      <td>10361646</td>\n",
              "      <td>United States</td>\n",
              "      <td>america</td>\n",
              "    </tr>\n",
              "    <tr>\n",
              "      <th>39402</th>\n",
              "      <td>39402</td>\n",
              "      <td>1821</td>\n",
              "      <td>2276</td>\n",
              "      <td>39.41</td>\n",
              "      <td>10619707</td>\n",
              "      <td>United States</td>\n",
              "      <td>america</td>\n",
              "    </tr>\n",
              "    <tr>\n",
              "      <th>39403</th>\n",
              "      <td>39403</td>\n",
              "      <td>1822</td>\n",
              "      <td>2339</td>\n",
              "      <td>39.41</td>\n",
              "      <td>10890141</td>\n",
              "      <td>United States</td>\n",
              "      <td>america</td>\n",
              "    </tr>\n",
              "    <tr>\n",
              "      <th>39404</th>\n",
              "      <td>39404</td>\n",
              "      <td>1823</td>\n",
              "      <td>2314</td>\n",
              "      <td>39.41</td>\n",
              "      <td>11172754</td>\n",
              "      <td>United States</td>\n",
              "      <td>america</td>\n",
              "    </tr>\n",
              "    <tr>\n",
              "      <th>39405</th>\n",
              "      <td>39405</td>\n",
              "      <td>1824</td>\n",
              "      <td>2377</td>\n",
              "      <td>39.41</td>\n",
              "      <td>11467399</td>\n",
              "      <td>United States</td>\n",
              "      <td>america</td>\n",
              "    </tr>\n",
              "    <tr>\n",
              "      <th>39406</th>\n",
              "      <td>39406</td>\n",
              "      <td>1825</td>\n",
              "      <td>2430</td>\n",
              "      <td>39.41</td>\n",
              "      <td>11773972</td>\n",
              "      <td>United States</td>\n",
              "      <td>america</td>\n",
              "    </tr>\n",
              "    <tr>\n",
              "      <th>39407</th>\n",
              "      <td>39407</td>\n",
              "      <td>1826</td>\n",
              "      <td>2447</td>\n",
              "      <td>39.41</td>\n",
              "      <td>12092272</td>\n",
              "      <td>United States</td>\n",
              "      <td>america</td>\n",
              "    </tr>\n",
              "    <tr>\n",
              "      <th>39408</th>\n",
              "      <td>39408</td>\n",
              "      <td>1827</td>\n",
              "      <td>2457</td>\n",
              "      <td>39.41</td>\n",
              "      <td>12422142</td>\n",
              "      <td>United States</td>\n",
              "      <td>america</td>\n",
              "    </tr>\n",
              "    <tr>\n",
              "      <th>39409</th>\n",
              "      <td>39409</td>\n",
              "      <td>1828</td>\n",
              "      <td>2458</td>\n",
              "      <td>39.41</td>\n",
              "      <td>12763468</td>\n",
              "      <td>United States</td>\n",
              "      <td>america</td>\n",
              "    </tr>\n",
              "    <tr>\n",
              "      <th>39410</th>\n",
              "      <td>39410</td>\n",
              "      <td>1829</td>\n",
              "      <td>2377</td>\n",
              "      <td>39.41</td>\n",
              "      <td>13116042</td>\n",
              "      <td>United States</td>\n",
              "      <td>america</td>\n",
              "    </tr>\n",
              "    <tr>\n",
              "      <th>...</th>\n",
              "      <td>...</td>\n",
              "      <td>...</td>\n",
              "      <td>...</td>\n",
              "      <td>...</td>\n",
              "      <td>...</td>\n",
              "      <td>...</td>\n",
              "      <td>...</td>\n",
              "    </tr>\n",
              "    <tr>\n",
              "      <th>39570</th>\n",
              "      <td>39570</td>\n",
              "      <td>1989</td>\n",
              "      <td>36830</td>\n",
              "      <td>75.16</td>\n",
              "      <td>250113187</td>\n",
              "      <td>United States</td>\n",
              "      <td>america</td>\n",
              "    </tr>\n",
              "    <tr>\n",
              "      <th>39571</th>\n",
              "      <td>39571</td>\n",
              "      <td>1990</td>\n",
              "      <td>37062</td>\n",
              "      <td>75.40</td>\n",
              "      <td>252529950</td>\n",
              "      <td>United States</td>\n",
              "      <td>america</td>\n",
              "    </tr>\n",
              "    <tr>\n",
              "      <th>39572</th>\n",
              "      <td>39572</td>\n",
              "      <td>1991</td>\n",
              "      <td>36543</td>\n",
              "      <td>75.55</td>\n",
              "      <td>254974819</td>\n",
              "      <td>United States</td>\n",
              "      <td>america</td>\n",
              "    </tr>\n",
              "    <tr>\n",
              "      <th>39573</th>\n",
              "      <td>39573</td>\n",
              "      <td>1992</td>\n",
              "      <td>37321</td>\n",
              "      <td>75.71</td>\n",
              "      <td>257454273</td>\n",
              "      <td>United States</td>\n",
              "      <td>america</td>\n",
              "    </tr>\n",
              "    <tr>\n",
              "      <th>39574</th>\n",
              "      <td>39574</td>\n",
              "      <td>1993</td>\n",
              "      <td>37844</td>\n",
              "      <td>75.72</td>\n",
              "      <td>260020186</td>\n",
              "      <td>United States</td>\n",
              "      <td>america</td>\n",
              "    </tr>\n",
              "    <tr>\n",
              "      <th>39575</th>\n",
              "      <td>39575</td>\n",
              "      <td>1994</td>\n",
              "      <td>38892</td>\n",
              "      <td>75.79</td>\n",
              "      <td>262741566</td>\n",
              "      <td>United States</td>\n",
              "      <td>america</td>\n",
              "    </tr>\n",
              "    <tr>\n",
              "      <th>39576</th>\n",
              "      <td>39576</td>\n",
              "      <td>1995</td>\n",
              "      <td>39476</td>\n",
              "      <td>75.91</td>\n",
              "      <td>265658849</td>\n",
              "      <td>United States</td>\n",
              "      <td>america</td>\n",
              "    </tr>\n",
              "    <tr>\n",
              "      <th>39577</th>\n",
              "      <td>39577</td>\n",
              "      <td>1996</td>\n",
              "      <td>40501</td>\n",
              "      <td>76.24</td>\n",
              "      <td>268803424</td>\n",
              "      <td>United States</td>\n",
              "      <td>america</td>\n",
              "    </tr>\n",
              "    <tr>\n",
              "      <th>39578</th>\n",
              "      <td>39578</td>\n",
              "      <td>1997</td>\n",
              "      <td>41812</td>\n",
              "      <td>76.60</td>\n",
              "      <td>272136551</td>\n",
              "      <td>United States</td>\n",
              "      <td>america</td>\n",
              "    </tr>\n",
              "    <tr>\n",
              "      <th>39579</th>\n",
              "      <td>39579</td>\n",
              "      <td>1998</td>\n",
              "      <td>43166</td>\n",
              "      <td>76.74</td>\n",
              "      <td>275542603</td>\n",
              "      <td>United States</td>\n",
              "      <td>america</td>\n",
              "    </tr>\n",
              "    <tr>\n",
              "      <th>39580</th>\n",
              "      <td>39580</td>\n",
              "      <td>1999</td>\n",
              "      <td>44673</td>\n",
              "      <td>76.78</td>\n",
              "      <td>278862277</td>\n",
              "      <td>United States</td>\n",
              "      <td>america</td>\n",
              "    </tr>\n",
              "    <tr>\n",
              "      <th>39581</th>\n",
              "      <td>39581</td>\n",
              "      <td>2000</td>\n",
              "      <td>45986</td>\n",
              "      <td>76.90</td>\n",
              "      <td>281982778</td>\n",
              "      <td>United States</td>\n",
              "      <td>america</td>\n",
              "    </tr>\n",
              "    <tr>\n",
              "      <th>39582</th>\n",
              "      <td>39582</td>\n",
              "      <td>2001</td>\n",
              "      <td>45978</td>\n",
              "      <td>76.99</td>\n",
              "      <td>284852391</td>\n",
              "      <td>United States</td>\n",
              "      <td>america</td>\n",
              "    </tr>\n",
              "    <tr>\n",
              "      <th>39583</th>\n",
              "      <td>39583</td>\n",
              "      <td>2002</td>\n",
              "      <td>46367</td>\n",
              "      <td>77.12</td>\n",
              "      <td>287506847</td>\n",
              "      <td>United States</td>\n",
              "      <td>america</td>\n",
              "    </tr>\n",
              "    <tr>\n",
              "      <th>39584</th>\n",
              "      <td>39584</td>\n",
              "      <td>2003</td>\n",
              "      <td>47260</td>\n",
              "      <td>77.27</td>\n",
              "      <td>290027624</td>\n",
              "      <td>United States</td>\n",
              "      <td>america</td>\n",
              "    </tr>\n",
              "    <tr>\n",
              "      <th>39585</th>\n",
              "      <td>39585</td>\n",
              "      <td>2004</td>\n",
              "      <td>48597</td>\n",
              "      <td>77.49</td>\n",
              "      <td>292539324</td>\n",
              "      <td>United States</td>\n",
              "      <td>america</td>\n",
              "    </tr>\n",
              "    <tr>\n",
              "      <th>39586</th>\n",
              "      <td>39586</td>\n",
              "      <td>2005</td>\n",
              "      <td>49762</td>\n",
              "      <td>77.65</td>\n",
              "      <td>295129501</td>\n",
              "      <td>United States</td>\n",
              "      <td>america</td>\n",
              "    </tr>\n",
              "    <tr>\n",
              "      <th>39587</th>\n",
              "      <td>39587</td>\n",
              "      <td>2006</td>\n",
              "      <td>50599</td>\n",
              "      <td>77.91</td>\n",
              "      <td>297827356</td>\n",
              "      <td>United States</td>\n",
              "      <td>america</td>\n",
              "    </tr>\n",
              "    <tr>\n",
              "      <th>39588</th>\n",
              "      <td>39588</td>\n",
              "      <td>2007</td>\n",
              "      <td>51011</td>\n",
              "      <td>78.12</td>\n",
              "      <td>300595175</td>\n",
              "      <td>United States</td>\n",
              "      <td>america</td>\n",
              "    </tr>\n",
              "    <tr>\n",
              "      <th>39589</th>\n",
              "      <td>39589</td>\n",
              "      <td>2008</td>\n",
              "      <td>50384</td>\n",
              "      <td>78.33</td>\n",
              "      <td>303374067</td>\n",
              "      <td>United States</td>\n",
              "      <td>america</td>\n",
              "    </tr>\n",
              "    <tr>\n",
              "      <th>39590</th>\n",
              "      <td>39590</td>\n",
              "      <td>2009</td>\n",
              "      <td>48558</td>\n",
              "      <td>78.56</td>\n",
              "      <td>306076362</td>\n",
              "      <td>United States</td>\n",
              "      <td>america</td>\n",
              "    </tr>\n",
              "    <tr>\n",
              "      <th>39591</th>\n",
              "      <td>39591</td>\n",
              "      <td>2010</td>\n",
              "      <td>49373</td>\n",
              "      <td>78.74</td>\n",
              "      <td>308641391</td>\n",
              "      <td>United States</td>\n",
              "      <td>america</td>\n",
              "    </tr>\n",
              "    <tr>\n",
              "      <th>39592</th>\n",
              "      <td>39592</td>\n",
              "      <td>2011</td>\n",
              "      <td>49791</td>\n",
              "      <td>78.83</td>\n",
              "      <td>311051373</td>\n",
              "      <td>United States</td>\n",
              "      <td>america</td>\n",
              "    </tr>\n",
              "    <tr>\n",
              "      <th>39593</th>\n",
              "      <td>39593</td>\n",
              "      <td>2012</td>\n",
              "      <td>50520</td>\n",
              "      <td>78.91</td>\n",
              "      <td>313335423</td>\n",
              "      <td>United States</td>\n",
              "      <td>america</td>\n",
              "    </tr>\n",
              "    <tr>\n",
              "      <th>39594</th>\n",
              "      <td>39594</td>\n",
              "      <td>2013</td>\n",
              "      <td>51008</td>\n",
              "      <td>78.93</td>\n",
              "      <td>315536676</td>\n",
              "      <td>United States</td>\n",
              "      <td>america</td>\n",
              "    </tr>\n",
              "    <tr>\n",
              "      <th>39595</th>\n",
              "      <td>39595</td>\n",
              "      <td>2014</td>\n",
              "      <td>51831</td>\n",
              "      <td>78.92</td>\n",
              "      <td>317718779</td>\n",
              "      <td>United States</td>\n",
              "      <td>america</td>\n",
              "    </tr>\n",
              "    <tr>\n",
              "      <th>39596</th>\n",
              "      <td>39596</td>\n",
              "      <td>2015</td>\n",
              "      <td>52790</td>\n",
              "      <td>78.85</td>\n",
              "      <td>319929162</td>\n",
              "      <td>United States</td>\n",
              "      <td>america</td>\n",
              "    </tr>\n",
              "    <tr>\n",
              "      <th>39597</th>\n",
              "      <td>39597</td>\n",
              "      <td>2016</td>\n",
              "      <td>53273</td>\n",
              "      <td>78.84</td>\n",
              "      <td>322179605</td>\n",
              "      <td>United States</td>\n",
              "      <td>america</td>\n",
              "    </tr>\n",
              "    <tr>\n",
              "      <th>39598</th>\n",
              "      <td>39598</td>\n",
              "      <td>2017</td>\n",
              "      <td>54163</td>\n",
              "      <td>78.99</td>\n",
              "      <td>324459463</td>\n",
              "      <td>United States</td>\n",
              "      <td>america</td>\n",
              "    </tr>\n",
              "    <tr>\n",
              "      <th>39599</th>\n",
              "      <td>39599</td>\n",
              "      <td>2018</td>\n",
              "      <td>54898</td>\n",
              "      <td>79.14</td>\n",
              "      <td>326766748</td>\n",
              "      <td>United States</td>\n",
              "      <td>america</td>\n",
              "    </tr>\n",
              "  </tbody>\n",
              "</table>\n",
              "<p>219 rows × 7 columns</p>\n",
              "</div>"
            ],
            "text/plain": [
              "       index  year  income  lifespan  population        country   region\n",
              "39381  39381  1800    2127     39.41     6801854  United States  america\n",
              "39382  39382  1801    2167     39.41     6933517  United States  america\n",
              "39383  39383  1802    2202     39.41     7067728  United States  america\n",
              "39384  39384  1803    2166     39.41     7204538  United States  america\n",
              "39385  39385  1804    2165     39.41     7343995  United States  america\n",
              "39386  39386  1805    2209     39.41     7486152  United States  america\n",
              "39387  39387  1806    2251     39.41     7631061  United States  america\n",
              "39388  39388  1807    2273     39.41     7778775  United States  america\n",
              "39389  39389  1808    2113     39.41     7929348  United States  america\n",
              "39390  39390  1809    2217     39.41     8082836  United States  america\n",
              "39391  39391  1810    2282     39.41     8294928  United States  america\n",
              "39392  39392  1811    2326     39.41     8461458  United States  america\n",
              "39393  39393  1812    2287     39.41     8637266  United States  america\n",
              "39394  39394  1813    2312     39.41     8822188  United States  america\n",
              "39395  39395  1814    2357     39.41     9016100  United States  america\n",
              "39396  39396  1815    2348     39.41     9218879  United States  america\n",
              "39397  39397  1816    2253     39.41     9430398  United States  america\n",
              "39398  39398  1817    2251     39.41     9650391  United States  america\n",
              "39399  39399  1818    2258     39.41     9879049  United States  america\n",
              "39400  39400  1819    2254     39.41    10116052  United States  america\n",
              "39401  39401  1820    2241     39.41    10361646  United States  america\n",
              "39402  39402  1821    2276     39.41    10619707  United States  america\n",
              "39403  39403  1822    2339     39.41    10890141  United States  america\n",
              "39404  39404  1823    2314     39.41    11172754  United States  america\n",
              "39405  39405  1824    2377     39.41    11467399  United States  america\n",
              "39406  39406  1825    2430     39.41    11773972  United States  america\n",
              "39407  39407  1826    2447     39.41    12092272  United States  america\n",
              "39408  39408  1827    2457     39.41    12422142  United States  america\n",
              "39409  39409  1828    2458     39.41    12763468  United States  america\n",
              "39410  39410  1829    2377     39.41    13116042  United States  america\n",
              "...      ...   ...     ...       ...         ...            ...      ...\n",
              "39570  39570  1989   36830     75.16   250113187  United States  america\n",
              "39571  39571  1990   37062     75.40   252529950  United States  america\n",
              "39572  39572  1991   36543     75.55   254974819  United States  america\n",
              "39573  39573  1992   37321     75.71   257454273  United States  america\n",
              "39574  39574  1993   37844     75.72   260020186  United States  america\n",
              "39575  39575  1994   38892     75.79   262741566  United States  america\n",
              "39576  39576  1995   39476     75.91   265658849  United States  america\n",
              "39577  39577  1996   40501     76.24   268803424  United States  america\n",
              "39578  39578  1997   41812     76.60   272136551  United States  america\n",
              "39579  39579  1998   43166     76.74   275542603  United States  america\n",
              "39580  39580  1999   44673     76.78   278862277  United States  america\n",
              "39581  39581  2000   45986     76.90   281982778  United States  america\n",
              "39582  39582  2001   45978     76.99   284852391  United States  america\n",
              "39583  39583  2002   46367     77.12   287506847  United States  america\n",
              "39584  39584  2003   47260     77.27   290027624  United States  america\n",
              "39585  39585  2004   48597     77.49   292539324  United States  america\n",
              "39586  39586  2005   49762     77.65   295129501  United States  america\n",
              "39587  39587  2006   50599     77.91   297827356  United States  america\n",
              "39588  39588  2007   51011     78.12   300595175  United States  america\n",
              "39589  39589  2008   50384     78.33   303374067  United States  america\n",
              "39590  39590  2009   48558     78.56   306076362  United States  america\n",
              "39591  39591  2010   49373     78.74   308641391  United States  america\n",
              "39592  39592  2011   49791     78.83   311051373  United States  america\n",
              "39593  39593  2012   50520     78.91   313335423  United States  america\n",
              "39594  39594  2013   51008     78.93   315536676  United States  america\n",
              "39595  39595  2014   51831     78.92   317718779  United States  america\n",
              "39596  39596  2015   52790     78.85   319929162  United States  america\n",
              "39597  39597  2016   53273     78.84   322179605  United States  america\n",
              "39598  39598  2017   54163     78.99   324459463  United States  america\n",
              "39599  39599  2018   54898     79.14   326766748  United States  america\n",
              "\n",
              "[219 rows x 7 columns]"
            ]
          },
          "metadata": {
            "tags": []
          },
          "execution_count": 45
        }
      ]
    },
    {
      "metadata": {
        "id": "0R4GKRS8f7JI",
        "colab_type": "code",
        "colab": {
          "base_uri": "https://localhost:8080/",
          "height": 142
        },
        "outputId": "a9b67f1e-8f82-4f14-c282-2c7c8c8ff496"
      },
      "cell_type": "code",
      "source": [
        "usa[usa.year.isin([1818, 1918, 2018])]"
      ],
      "execution_count": 46,
      "outputs": [
        {
          "output_type": "execute_result",
          "data": {
            "text/html": [
              "<div>\n",
              "<style scoped>\n",
              "    .dataframe tbody tr th:only-of-type {\n",
              "        vertical-align: middle;\n",
              "    }\n",
              "\n",
              "    .dataframe tbody tr th {\n",
              "        vertical-align: top;\n",
              "    }\n",
              "\n",
              "    .dataframe thead th {\n",
              "        text-align: right;\n",
              "    }\n",
              "</style>\n",
              "<table border=\"1\" class=\"dataframe\">\n",
              "  <thead>\n",
              "    <tr style=\"text-align: right;\">\n",
              "      <th></th>\n",
              "      <th>index</th>\n",
              "      <th>year</th>\n",
              "      <th>income</th>\n",
              "      <th>lifespan</th>\n",
              "      <th>population</th>\n",
              "      <th>country</th>\n",
              "      <th>region</th>\n",
              "    </tr>\n",
              "  </thead>\n",
              "  <tbody>\n",
              "    <tr>\n",
              "      <th>39399</th>\n",
              "      <td>39399</td>\n",
              "      <td>1818</td>\n",
              "      <td>2258</td>\n",
              "      <td>39.41</td>\n",
              "      <td>9879049</td>\n",
              "      <td>United States</td>\n",
              "      <td>america</td>\n",
              "    </tr>\n",
              "    <tr>\n",
              "      <th>39499</th>\n",
              "      <td>39499</td>\n",
              "      <td>1918</td>\n",
              "      <td>9371</td>\n",
              "      <td>47.18</td>\n",
              "      <td>106721812</td>\n",
              "      <td>United States</td>\n",
              "      <td>america</td>\n",
              "    </tr>\n",
              "    <tr>\n",
              "      <th>39599</th>\n",
              "      <td>39599</td>\n",
              "      <td>2018</td>\n",
              "      <td>54898</td>\n",
              "      <td>79.14</td>\n",
              "      <td>326766748</td>\n",
              "      <td>United States</td>\n",
              "      <td>america</td>\n",
              "    </tr>\n",
              "  </tbody>\n",
              "</table>\n",
              "</div>"
            ],
            "text/plain": [
              "       index  year  income  lifespan  population        country   region\n",
              "39399  39399  1818    2258     39.41     9879049  United States  america\n",
              "39499  39499  1918    9371     47.18   106721812  United States  america\n",
              "39599  39599  2018   54898     79.14   326766748  United States  america"
            ]
          },
          "metadata": {
            "tags": []
          },
          "execution_count": 46
        }
      ]
    },
    {
      "metadata": {
        "id": "obgCELVjgAwg",
        "colab_type": "code",
        "colab": {
          "base_uri": "https://localhost:8080/",
          "height": 142
        },
        "outputId": "1193f47d-00e4-4664-b3f5-eb2335977fda"
      },
      "cell_type": "code",
      "source": [
        "china = df[df.country=='China']\n",
        "china[china.year.isin([1818, 1918, 2018])]"
      ],
      "execution_count": 47,
      "outputs": [
        {
          "output_type": "execute_result",
          "data": {
            "text/html": [
              "<div>\n",
              "<style scoped>\n",
              "    .dataframe tbody tr th:only-of-type {\n",
              "        vertical-align: middle;\n",
              "    }\n",
              "\n",
              "    .dataframe tbody tr th {\n",
              "        vertical-align: top;\n",
              "    }\n",
              "\n",
              "    .dataframe thead th {\n",
              "        text-align: right;\n",
              "    }\n",
              "</style>\n",
              "<table border=\"1\" class=\"dataframe\">\n",
              "  <thead>\n",
              "    <tr style=\"text-align: right;\">\n",
              "      <th></th>\n",
              "      <th>index</th>\n",
              "      <th>year</th>\n",
              "      <th>income</th>\n",
              "      <th>lifespan</th>\n",
              "      <th>population</th>\n",
              "      <th>country</th>\n",
              "      <th>region</th>\n",
              "    </tr>\n",
              "  </thead>\n",
              "  <tbody>\n",
              "    <tr>\n",
              "      <th>7120</th>\n",
              "      <td>7120</td>\n",
              "      <td>1818</td>\n",
              "      <td>985</td>\n",
              "      <td>32.00</td>\n",
              "      <td>374161494</td>\n",
              "      <td>China</td>\n",
              "      <td>east_asia_pacific</td>\n",
              "    </tr>\n",
              "    <tr>\n",
              "      <th>7220</th>\n",
              "      <td>7220</td>\n",
              "      <td>1918</td>\n",
              "      <td>989</td>\n",
              "      <td>22.13</td>\n",
              "      <td>462444535</td>\n",
              "      <td>China</td>\n",
              "      <td>east_asia_pacific</td>\n",
              "    </tr>\n",
              "    <tr>\n",
              "      <th>7320</th>\n",
              "      <td>7320</td>\n",
              "      <td>2018</td>\n",
              "      <td>16018</td>\n",
              "      <td>76.92</td>\n",
              "      <td>1415045928</td>\n",
              "      <td>China</td>\n",
              "      <td>east_asia_pacific</td>\n",
              "    </tr>\n",
              "  </tbody>\n",
              "</table>\n",
              "</div>"
            ],
            "text/plain": [
              "      index  year  income  lifespan  population country             region\n",
              "7120   7120  1818     985     32.00   374161494   China  east_asia_pacific\n",
              "7220   7220  1918     989     22.13   462444535   China  east_asia_pacific\n",
              "7320   7320  2018   16018     76.92  1415045928   China  east_asia_pacific"
            ]
          },
          "metadata": {
            "tags": []
          },
          "execution_count": 47
        }
      ]
    },
    {
      "metadata": {
        "id": "1mEMNdw2gJaq",
        "colab_type": "code",
        "colab": {
          "base_uri": "https://localhost:8080/",
          "height": 359
        },
        "outputId": "0bd42694-93bb-49c6-b007-ca9c0a147604"
      },
      "cell_type": "code",
      "source": [
        "now = df[df.year==2018]\n",
        "now.sample(10)"
      ],
      "execution_count": 48,
      "outputs": [
        {
          "output_type": "execute_result",
          "data": {
            "text/html": [
              "<div>\n",
              "<style scoped>\n",
              "    .dataframe tbody tr th:only-of-type {\n",
              "        vertical-align: middle;\n",
              "    }\n",
              "\n",
              "    .dataframe tbody tr th {\n",
              "        vertical-align: top;\n",
              "    }\n",
              "\n",
              "    .dataframe thead th {\n",
              "        text-align: right;\n",
              "    }\n",
              "</style>\n",
              "<table border=\"1\" class=\"dataframe\">\n",
              "  <thead>\n",
              "    <tr style=\"text-align: right;\">\n",
              "      <th></th>\n",
              "      <th>index</th>\n",
              "      <th>year</th>\n",
              "      <th>income</th>\n",
              "      <th>lifespan</th>\n",
              "      <th>population</th>\n",
              "      <th>country</th>\n",
              "      <th>region</th>\n",
              "    </tr>\n",
              "  </thead>\n",
              "  <tbody>\n",
              "    <tr>\n",
              "      <th>20720</th>\n",
              "      <td>20720</td>\n",
              "      <td>2018</td>\n",
              "      <td>36767</td>\n",
              "      <td>81.35</td>\n",
              "      <td>51164435</td>\n",
              "      <td>South Korea</td>\n",
              "      <td>east_asia_pacific</td>\n",
              "    </tr>\n",
              "    <tr>\n",
              "      <th>16997</th>\n",
              "      <td>16997</td>\n",
              "      <td>2018</td>\n",
              "      <td>26936</td>\n",
              "      <td>75.90</td>\n",
              "      <td>9688847</td>\n",
              "      <td>Hungary</td>\n",
              "      <td>europe_central_asia</td>\n",
              "    </tr>\n",
              "    <tr>\n",
              "      <th>26023</th>\n",
              "      <td>26023</td>\n",
              "      <td>2018</td>\n",
              "      <td>1196</td>\n",
              "      <td>61.07</td>\n",
              "      <td>30528673</td>\n",
              "      <td>Mozambique</td>\n",
              "      <td>sub_saharan_africa</td>\n",
              "    </tr>\n",
              "    <tr>\n",
              "      <th>3112</th>\n",
              "      <td>3112</td>\n",
              "      <td>2018</td>\n",
              "      <td>2165</td>\n",
              "      <td>64.98</td>\n",
              "      <td>11485674</td>\n",
              "      <td>Benin</td>\n",
              "      <td>sub_saharan_africa</td>\n",
              "    </tr>\n",
              "    <tr>\n",
              "      <th>27337</th>\n",
              "      <td>27337</td>\n",
              "      <td>2018</td>\n",
              "      <td>949</td>\n",
              "      <td>62.45</td>\n",
              "      <td>22311375</td>\n",
              "      <td>Niger</td>\n",
              "      <td>sub_saharan_africa</td>\n",
              "    </tr>\n",
              "    <tr>\n",
              "      <th>18530</th>\n",
              "      <td>18530</td>\n",
              "      <td>2018</td>\n",
              "      <td>33434</td>\n",
              "      <td>82.41</td>\n",
              "      <td>8452841</td>\n",
              "      <td>Israel</td>\n",
              "      <td>middle_east_north_africa</td>\n",
              "    </tr>\n",
              "    <tr>\n",
              "      <th>9729</th>\n",
              "      <td>9729</td>\n",
              "      <td>2018</td>\n",
              "      <td>32302</td>\n",
              "      <td>79.37</td>\n",
              "      <td>10625250</td>\n",
              "      <td>Czech Republic</td>\n",
              "      <td>europe_central_asia</td>\n",
              "    </tr>\n",
              "    <tr>\n",
              "      <th>4426</th>\n",
              "      <td>4426</td>\n",
              "      <td>2018</td>\n",
              "      <td>12052</td>\n",
              "      <td>77.93</td>\n",
              "      <td>3503554</td>\n",
              "      <td>Bosnia and Herzegovina</td>\n",
              "      <td>europe_central_asia</td>\n",
              "    </tr>\n",
              "    <tr>\n",
              "      <th>437</th>\n",
              "      <td>437</td>\n",
              "      <td>2018</td>\n",
              "      <td>1867</td>\n",
              "      <td>58.69</td>\n",
              "      <td>36373176</td>\n",
              "      <td>Afghanistan</td>\n",
              "      <td>south_asia</td>\n",
              "    </tr>\n",
              "    <tr>\n",
              "      <th>36535</th>\n",
              "      <td>36535</td>\n",
              "      <td>2018</td>\n",
              "      <td>1478</td>\n",
              "      <td>63.09</td>\n",
              "      <td>7990926</td>\n",
              "      <td>Togo</td>\n",
              "      <td>sub_saharan_africa</td>\n",
              "    </tr>\n",
              "  </tbody>\n",
              "</table>\n",
              "</div>"
            ],
            "text/plain": [
              "       index  year  income  lifespan  population                 country  \\\n",
              "20720  20720  2018   36767     81.35    51164435             South Korea   \n",
              "16997  16997  2018   26936     75.90     9688847                 Hungary   \n",
              "26023  26023  2018    1196     61.07    30528673              Mozambique   \n",
              "3112    3112  2018    2165     64.98    11485674                   Benin   \n",
              "27337  27337  2018     949     62.45    22311375                   Niger   \n",
              "18530  18530  2018   33434     82.41     8452841                  Israel   \n",
              "9729    9729  2018   32302     79.37    10625250          Czech Republic   \n",
              "4426    4426  2018   12052     77.93     3503554  Bosnia and Herzegovina   \n",
              "437      437  2018    1867     58.69    36373176             Afghanistan   \n",
              "36535  36535  2018    1478     63.09     7990926                    Togo   \n",
              "\n",
              "                         region  \n",
              "20720         east_asia_pacific  \n",
              "16997       europe_central_asia  \n",
              "26023        sub_saharan_africa  \n",
              "3112         sub_saharan_africa  \n",
              "27337        sub_saharan_africa  \n",
              "18530  middle_east_north_africa  \n",
              "9729        europe_central_asia  \n",
              "4426        europe_central_asia  \n",
              "437                  south_asia  \n",
              "36535        sub_saharan_africa  "
            ]
          },
          "metadata": {
            "tags": []
          },
          "execution_count": 48
        }
      ]
    },
    {
      "metadata": {
        "id": "ySW2eJAbgeKa",
        "colab_type": "code",
        "colab": {
          "base_uri": "https://localhost:8080/",
          "height": 441
        },
        "outputId": "c2339355-8689-41b7-f57c-995cbda26da7"
      },
      "cell_type": "code",
      "source": [
        "sns.relplot(x='income', y='lifespan',hue='region', size='population', data=now, height=6);"
      ],
      "execution_count": 54,
      "outputs": [
        {
          "output_type": "display_data",
          "data": {
            "image/png": "[encoded data removed]",
            "text/plain": [
              "<matplotlib.figure.Figure at 0x7ff1a3b4b208>"
            ]
          },
          "metadata": {
            "tags": []
          }
        }
      ]
    },
    {
      "metadata": {
        "id": "VgPrxZg3hnI2",
        "colab_type": "code",
        "colab": {
          "base_uri": "https://localhost:8080/",
          "height": 173
        },
        "outputId": "2b0ed828-0352-4262-fe48-c68b8ae92c45"
      },
      "cell_type": "code",
      "source": [
        "now[now['income'] > 80000]"
      ],
      "execution_count": 55,
      "outputs": [
        {
          "output_type": "execute_result",
          "data": {
            "text/html": [
              "<div>\n",
              "<style scoped>\n",
              "    .dataframe tbody tr th:only-of-type {\n",
              "        vertical-align: middle;\n",
              "    }\n",
              "\n",
              "    .dataframe tbody tr th {\n",
              "        vertical-align: top;\n",
              "    }\n",
              "\n",
              "    .dataframe thead th {\n",
              "        text-align: right;\n",
              "    }\n",
              "</style>\n",
              "<table border=\"1\" class=\"dataframe\">\n",
              "  <thead>\n",
              "    <tr style=\"text-align: right;\">\n",
              "      <th></th>\n",
              "      <th>index</th>\n",
              "      <th>year</th>\n",
              "      <th>income</th>\n",
              "      <th>lifespan</th>\n",
              "      <th>population</th>\n",
              "      <th>country</th>\n",
              "      <th>region</th>\n",
              "    </tr>\n",
              "  </thead>\n",
              "  <tbody>\n",
              "    <tr>\n",
              "      <th>22910</th>\n",
              "      <td>22910</td>\n",
              "      <td>2018</td>\n",
              "      <td>99034</td>\n",
              "      <td>82.39</td>\n",
              "      <td>590321</td>\n",
              "      <td>Luxembourg</td>\n",
              "      <td>europe_central_asia</td>\n",
              "    </tr>\n",
              "    <tr>\n",
              "      <th>23348</th>\n",
              "      <td>23348</td>\n",
              "      <td>2018</td>\n",
              "      <td>97057</td>\n",
              "      <td>83.24</td>\n",
              "      <td>632418</td>\n",
              "      <td>Macao, China</td>\n",
              "      <td>east_asia_pacific</td>\n",
              "    </tr>\n",
              "    <tr>\n",
              "      <th>31498</th>\n",
              "      <td>31498</td>\n",
              "      <td>2018</td>\n",
              "      <td>121033</td>\n",
              "      <td>80.71</td>\n",
              "      <td>2694849</td>\n",
              "      <td>Qatar</td>\n",
              "      <td>middle_east_north_africa</td>\n",
              "    </tr>\n",
              "    <tr>\n",
              "      <th>33031</th>\n",
              "      <td>33031</td>\n",
              "      <td>2018</td>\n",
              "      <td>83888</td>\n",
              "      <td>84.03</td>\n",
              "      <td>5791901</td>\n",
              "      <td>Singapore</td>\n",
              "      <td>east_asia_pacific</td>\n",
              "    </tr>\n",
              "  </tbody>\n",
              "</table>\n",
              "</div>"
            ],
            "text/plain": [
              "       index  year  income  lifespan  population       country  \\\n",
              "22910  22910  2018   99034     82.39      590321    Luxembourg   \n",
              "23348  23348  2018   97057     83.24      632418  Macao, China   \n",
              "31498  31498  2018  121033     80.71     2694849         Qatar   \n",
              "33031  33031  2018   83888     84.03     5791901     Singapore   \n",
              "\n",
              "                         region  \n",
              "22910       europe_central_asia  \n",
              "23348         east_asia_pacific  \n",
              "31498  middle_east_north_africa  \n",
              "33031         east_asia_pacific  "
            ]
          },
          "metadata": {
            "tags": []
          },
          "execution_count": 55
        }
      ]
    },
    {
      "metadata": {
        "id": "vxOD8tNzmuZq",
        "colab_type": "code",
        "colab": {
          "base_uri": "https://localhost:8080/",
          "height": 382
        },
        "outputId": "ea1a51a7-9b9c-46b6-d353-633cfea2193e"
      },
      "cell_type": "code",
      "source": [
        "qatar = now[now.country=='Qatar']\n",
        "qatar_income = qatar.income.values[0]\n",
        "qatar_lifespan = qatar.lifespan.values[0]\n",
        "\n",
        "sns.relplot(x='income', y='lifespan', hue='region', size='population', data=now)\n",
        "\n",
        "plt.text(x=qatar_income+100, y=qatar_lifespan+1, s='Qatar')\n",
        "\n",
        "plt.title('Qatar has the highest incomes in 2018');"
      ],
      "execution_count": 59,
      "outputs": [
        {
          "output_type": "display_data",
          "data": {
            "image/png": "[encoded data removed]",
            "text/plain": [
              "<matplotlib.figure.Figure at 0x7ff1a3c13eb8>"
            ]
          },
          "metadata": {
            "tags": []
          }
        }
      ]
    },
    {
      "metadata": {
        "id": "gD8SQRlyo5QM",
        "colab_type": "code",
        "colab": {}
      },
      "cell_type": "code",
      "source": [
        "years = [1818,1918,2018]\n",
        "\n",
        "centuries = df[df.year.isin(years)]"
      ],
      "execution_count": 0,
      "outputs": []
    },
    {
      "metadata": {
        "id": "P5_0qJG3pioK",
        "colab_type": "code",
        "colab": {
          "base_uri": "https://localhost:8080/",
          "height": 204
        },
        "outputId": "a0b2b510-8196-47be-cad5-aa854aca9c0d"
      },
      "cell_type": "code",
      "source": [
        "centuries.sample(5)"
      ],
      "execution_count": 81,
      "outputs": [
        {
          "output_type": "execute_result",
          "data": {
            "text/html": [
              "<div>\n",
              "<style scoped>\n",
              "    .dataframe tbody tr th:only-of-type {\n",
              "        vertical-align: middle;\n",
              "    }\n",
              "\n",
              "    .dataframe tbody tr th {\n",
              "        vertical-align: top;\n",
              "    }\n",
              "\n",
              "    .dataframe thead th {\n",
              "        text-align: right;\n",
              "    }\n",
              "</style>\n",
              "<table border=\"1\" class=\"dataframe\">\n",
              "  <thead>\n",
              "    <tr style=\"text-align: right;\">\n",
              "      <th></th>\n",
              "      <th>index</th>\n",
              "      <th>year</th>\n",
              "      <th>income</th>\n",
              "      <th>lifespan</th>\n",
              "      <th>population</th>\n",
              "      <th>country</th>\n",
              "      <th>region</th>\n",
              "    </tr>\n",
              "  </thead>\n",
              "  <tbody>\n",
              "    <tr>\n",
              "      <th>24609</th>\n",
              "      <td>24609</td>\n",
              "      <td>1918</td>\n",
              "      <td>1669</td>\n",
              "      <td>19.97</td>\n",
              "      <td>939985</td>\n",
              "      <td>Macedonia, FYR</td>\n",
              "      <td>europe_central_asia</td>\n",
              "    </tr>\n",
              "    <tr>\n",
              "      <th>18111</th>\n",
              "      <td>18111</td>\n",
              "      <td>1818</td>\n",
              "      <td>929</td>\n",
              "      <td>43.48</td>\n",
              "      <td>62125</td>\n",
              "      <td>Iceland</td>\n",
              "      <td>europe_central_asia</td>\n",
              "    </tr>\n",
              "    <tr>\n",
              "      <th>11528</th>\n",
              "      <td>11528</td>\n",
              "      <td>2018</td>\n",
              "      <td>1252</td>\n",
              "      <td>64.56</td>\n",
              "      <td>5187948</td>\n",
              "      <td>Eritrea</td>\n",
              "      <td>sub_saharan_africa</td>\n",
              "    </tr>\n",
              "    <tr>\n",
              "      <th>15902</th>\n",
              "      <td>15902</td>\n",
              "      <td>2018</td>\n",
              "      <td>7739</td>\n",
              "      <td>68.15</td>\n",
              "      <td>782225</td>\n",
              "      <td>Guyana</td>\n",
              "      <td>america</td>\n",
              "    </tr>\n",
              "    <tr>\n",
              "      <th>16897</th>\n",
              "      <td>16897</td>\n",
              "      <td>1918</td>\n",
              "      <td>3263</td>\n",
              "      <td>30.09</td>\n",
              "      <td>7903494</td>\n",
              "      <td>Hungary</td>\n",
              "      <td>europe_central_asia</td>\n",
              "    </tr>\n",
              "  </tbody>\n",
              "</table>\n",
              "</div>"
            ],
            "text/plain": [
              "       index  year  income  lifespan  population         country  \\\n",
              "24609  24609  1918    1669     19.97      939985  Macedonia, FYR   \n",
              "18111  18111  1818     929     43.48       62125         Iceland   \n",
              "11528  11528  2018    1252     64.56     5187948         Eritrea   \n",
              "15902  15902  2018    7739     68.15      782225          Guyana   \n",
              "16897  16897  1918    3263     30.09     7903494         Hungary   \n",
              "\n",
              "                    region  \n",
              "24609  europe_central_asia  \n",
              "18111  europe_central_asia  \n",
              "11528   sub_saharan_africa  \n",
              "15902              america  \n",
              "16897  europe_central_asia  "
            ]
          },
          "metadata": {
            "tags": []
          },
          "execution_count": 81
        }
      ]
    },
    {
      "metadata": {
        "id": "dD_s-n7MpjxN",
        "colab_type": "code",
        "colab": {
          "base_uri": "https://localhost:8080/",
          "height": 393
        },
        "outputId": "fc192c5e-ce8d-44c1-9606-c927abf3b8cf"
      },
      "cell_type": "code",
      "source": [
        "sns.relplot(x='income', y='lifespan', hue='region', size='population',col='year',sizes = (10,100), data=centuries)\n",
        "\n",
        "plt.xscale('log')"
      ],
      "execution_count": 82,
      "outputs": [
        {
          "output_type": "display_data",
          "data": {
            "image/png": "[encoded data removed]",
            "text/plain": [
              "<matplotlib.figure.Figure at 0x7ff1a39f6320>"
            ]
          },
          "metadata": {
            "tags": []
          }
        }
      ]
    },
    {
      "metadata": {
        "id": "4E-7IGVXqBaU",
        "colab_type": "code",
        "colab": {
          "base_uri": "https://localhost:8080/",
          "height": 102
        },
        "outputId": "9d1a3474-f6d0-4114-dff2-f52efa16c5f2"
      },
      "cell_type": "code",
      "source": [
        "centuries.groupby('year').country.count()"
      ],
      "execution_count": 83,
      "outputs": [
        {
          "output_type": "execute_result",
          "data": {
            "text/plain": [
              "year\n",
              "1818    190\n",
              "1918    190\n",
              "2018    188\n",
              "Name: country, dtype: int64"
            ]
          },
          "metadata": {
            "tags": []
          },
          "execution_count": 83
        }
      ]
    },
    {
      "metadata": {
        "id": "2lTGnPBorgF4",
        "colab_type": "code",
        "colab": {
          "base_uri": "https://localhost:8080/",
          "height": 85
        },
        "outputId": "584ae608-1e59-44b5-bf1f-4c3598590954"
      },
      "cell_type": "code",
      "source": [
        "years_per_country = centuries.groupby('country').year.count()\n",
        "years_per_country[years_per_country < 3]"
      ],
      "execution_count": 66,
      "outputs": [
        {
          "output_type": "execute_result",
          "data": {
            "text/plain": [
              "country\n",
              "Greenland    2\n",
              "Taiwan       2\n",
              "Name: year, dtype: int64"
            ]
          },
          "metadata": {
            "tags": []
          },
          "execution_count": 66
        }
      ]
    },
    {
      "metadata": {
        "id": "rMv883cQr8w_",
        "colab_type": "code",
        "colab": {
          "base_uri": "https://localhost:8080/",
          "height": 393
        },
        "outputId": "f9091ff9-465c-4676-d6dc-4ae5aee00d9c"
      },
      "cell_type": "code",
      "source": [
        "years = [1918, 1938, 1958, 1978, 1998, 2018]\n",
        "\n",
        "subset = df[df.year.isin(years)]\n",
        "\n",
        "sns.relplot(x='income', y='lifespan', hue='region', size='population', \n",
        "            col='year',sizes = (10,1000), data=subset)\n",
        "\n",
        "plt.xscale('log')\n",
        "plt.xlim((150, 150000));"
      ],
      "execution_count": 78,
      "outputs": [
        {
          "output_type": "display_data",
          "data": {
            "image/png": "[encoded data removed]",
            "text/plain": [
              "<matplotlib.figure.Figure at 0x7ff1a37232e8>"
            ]
          },
          "metadata": {
            "tags": []
          }
        }
      ]
    },
    {
      "metadata": {
        "id": "2nRe2BEzsnvV",
        "colab_type": "code",
        "colab": {}
      },
      "cell_type": "code",
      "source": [
        "qatar = df[df.country=='Qatar']\n",
        "qatar\n",
        "USA = df[df.country=='United States']\n",
        "Brazil = df[df.country=='Brazil']\n",
        "SKorea = df[df.country=='South Korea']"
      ],
      "execution_count": 0,
      "outputs": []
    },
    {
      "metadata": {
        "id": "lShkWENCIKt3",
        "colab_type": "code",
        "colab": {
          "base_uri": "https://localhost:8080/",
          "height": 283
        },
        "outputId": "af419c2a-9244-4f19-b303-423b165c814e"
      },
      "cell_type": "code",
      "source": [
        "sns.lineplot(x='year', y='lifespan', data = USA);\n",
        "sns.lineplot(x='year', y='lifespan', data = qatar);\n",
        "\n"
      ],
      "execution_count": 115,
      "outputs": [
        {
          "output_type": "display_data",
          "data": {
            "image/png": "[encoded data removed]",
            "text/plain": [
              "<matplotlib.figure.Figure at 0x7ff1a17eeef0>"
            ]
          },
          "metadata": {
            "tags": []
          }
        }
      ]
    },
    {
      "metadata": {
        "id": "VEsSo72wOEjt",
        "colab_type": "code",
        "colab": {
          "base_uri": "https://localhost:8080/",
          "height": 300
        },
        "outputId": "b9d7d3ab-52bd-4c4b-c352-623840b426d2"
      },
      "cell_type": "code",
      "source": [
        "ax=sns.lineplot(x='year', y='income', data = USA);\n",
        "ax2 = sns.lineplot(x='year', y='income', data = qatar);\n",
        "ax.legend();\n"
      ],
      "execution_count": 124,
      "outputs": [
        {
          "output_type": "stream",
          "text": [
            "No handles with labels found to put in legend.\n"
          ],
          "name": "stderr"
        },
        {
          "output_type": "display_data",
          "data": {
            "image/png": "[encoded data removed]",
            "text/plain": [
              "<matplotlib.figure.Figure at 0x7ff1a0520198>"
            ]
          },
          "metadata": {
            "tags": []
          }
        }
      ]
    },
    {
      "metadata": {
        "id": "r4XSGfIGPByB",
        "colab_type": "code",
        "colab": {
          "base_uri": "https://localhost:8080/",
          "height": 269
        },
        "outputId": "f81116e2-18bc-4966-9c10-9f7edfc44ced"
      },
      "cell_type": "code",
      "source": [
        "f, ax = plt.subplots(1, 1)\n",
        "\n",
        "ax.plot(USA.year, USA.income, color=\"blue\", label=\"USA\", linestyle=\"-\")\n",
        "ax.plot(qatar.year, qatar.income, color=\"red\", label=\"Qatar\", linestyle=\"-\")\n",
        "ax.plot(Brazil.year, Brazil.income, color=\"green\", label=\"Brazil\", linestyle=\"-\")\n",
        "ax.legend();\n"
      ],
      "execution_count": 137,
      "outputs": [
        {
          "output_type": "display_data",
          "data": {
            "image/png": "[encoded data removed]",
            "text/plain": [
              "<matplotlib.figure.Figure at 0x7ff1a00a3cc0>"
            ]
          },
          "metadata": {
            "tags": []
          }
        }
      ]
    },
    {
      "metadata": {
        "id": "87RYWq7fUsY1",
        "colab_type": "code",
        "colab": {
          "base_uri": "https://localhost:8080/",
          "height": 281
        },
        "outputId": "0d61def4-ad24-44bc-eec0-035fb12e2297"
      },
      "cell_type": "code",
      "source": [
        "f, ax = plt.subplots(1, 1)\n",
        "\n",
        "ax.plot(USA.year, USA.lifespan, color=\"blue\", label=\"USA\", linestyle=\"-\")\n",
        "ax.plot(qatar.year, qatar.lifespan, color=\"red\", label=\"Qatar\", linestyle=\"-\")\n",
        "ax.plot(Brazil.year, Brazil.lifespan, color=\"green\", label=\"Brazil\", linestyle=\"-\")\n",
        "ax.plot(SKorea.year, SKorea.lifespan, color=\"orange\", label=\"South Korea\", linestyle=\"-\")\n",
        "ax.set(title='Sharp rise in lifespan in the 1950s', ylabel='Age')\n",
        "ax.legend();"
      ],
      "execution_count": 144,
      "outputs": [
        {
          "output_type": "display_data",
          "data": {
            "image/png": "[encoded data removed]",
            "text/plain": [
              "<matplotlib.figure.Figure at 0x7ff1a08b54a8>"
            ]
          },
          "metadata": {
            "tags": []
          }
        }
      ]
    },
    {
      "metadata": {
        "id": "SOowLxxOkfgk",
        "colab_type": "code",
        "colab": {}
      },
      "cell_type": "code",
      "source": [
        ""
      ],
      "execution_count": 0,
      "outputs": []
    },
    {
      "metadata": {
        "id": "xTTnIUTvl3VR",
        "colab_type": "code",
        "colab": {}
      },
      "cell_type": "code",
      "source": [
        ""
      ],
      "execution_count": 0,
      "outputs": []
    }
  ]
}