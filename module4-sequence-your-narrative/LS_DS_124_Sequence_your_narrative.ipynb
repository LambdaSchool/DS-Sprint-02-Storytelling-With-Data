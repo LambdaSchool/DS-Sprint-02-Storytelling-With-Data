{
  "nbformat": 4,
  "nbformat_minor": 0,
  "metadata": {
    "colab": {
      "name": "LS_DS_124_Sequence_your_narrative.ipynb",
      "version": "0.3.2",
      "provenance": []
    },
    "kernelspec": {
      "display_name": "Python 3",
      "language": "python",
      "name": "python3"
    }
  },
  "cells": [
    {
      "metadata": {
        "id": "mRXkzR99XE23",
        "colab_type": "text"
      },
      "cell_type": "markdown",
      "source": [
        "_Lambda School Data Science_\n",
        "\n",
        "# Sequence your narrative\n",
        "\n",
        "Create a sequence of visualizations inspired by [Hans Rosling's 200 Countries, 200 Years, 4 Minutes](https://www.youtube.com/watch?v=jbkSRLYSojo).\n",
        "\n",
        "Using this [data from Gapminder](https://github.com/open-numbers/ddf--gapminder--systema_globalis/):\n",
        "- https://raw.githubusercontent.com/open-numbers/ddf--gapminder--systema_globalis/master/ddf--datapoints--income_per_person_gdppercapita_ppp_inflation_adjusted--by--geo--time.csv\n",
        "- https://raw.githubusercontent.com/open-numbers/ddf--gapminder--systema_globalis/master/ddf--datapoints--life_expectancy_years--by--geo--time.csv\n",
        "- https://raw.githubusercontent.com/open-numbers/ddf--gapminder--systema_globalis/master/ddf--entities--geo--country.csv\n",
        "- https://raw.githubusercontent.com/open-numbers/ddf--gapminder--systema_globalis/master/ddf--concepts.csv\n",
        "\n",
        "### Stretch goals\n",
        "- [ipywidgets](https://github.com/jupyter-widgets/ipywidgets)\n",
        "- [Matplotlib animation](https://matplotlib.org/examples/animation/index.html)\n",
        "- [Connected scatter plots](http://www.thefunctionalart.com/2012/09/in-praise-of-connected-scatter-plots.html)\n",
        "- [Idyll markup language](https://idyll-lang.org/) for \"scrollytelling\""
      ]
    },
    {
      "metadata": {
        "id": "jr3-aqnRXP_p",
        "colab_type": "text"
      },
      "cell_type": "markdown",
      "source": [
        "Variables --> Visual Encodings \n",
        " \n",
        "  - Income --> x-axis\n",
        "  - Lifespan --> y-axis\n",
        "  - Region --> color\n",
        "  - Population --> bubble size\n",
        "  - Year --> animation sequence(alternative: small multiple)\n",
        "  - Country --> annotations\n",
        " \n",
        "Qualitative --> Verbal\n",
        "  - Editorial / contexual explanation --> audio narration (alternative: text)\n",
        " "
      ]
    },
    {
      "metadata": {
        "id": "xOCwT0RNXE24",
        "colab_type": "code",
        "colab": {
          "base_uri": "https://localhost:8080/",
          "height": 322
        },
        "outputId": "3e29c6e7-6256-4b63-80a3-8b4f98548023"
      },
      "cell_type": "code",
      "source": [
        "!pip install --upgrade seaborn"
      ],
      "execution_count": 1,
      "outputs": [
        {
          "output_type": "stream",
          "text": [
            "Collecting seaborn\n",
            "\u001b[?25l  Downloading https://files.pythonhosted.org/packages/a8/76/220ba4420459d9c4c9c9587c6ce607bf56c25b3d3d2de62056efe482dadc/seaborn-0.9.0-py3-none-any.whl (208kB)\n",
            "\u001b[K    100% |████████████████████████████████| 215kB 24.7MB/s \n",
            "\u001b[?25hRequirement already satisfied, skipping upgrade: numpy>=1.9.3 in /usr/local/lib/python3.6/dist-packages (from seaborn) (1.14.6)\n",
            "Requirement already satisfied, skipping upgrade: pandas>=0.15.2 in /usr/local/lib/python3.6/dist-packages (from seaborn) (0.22.0)\n",
            "Requirement already satisfied, skipping upgrade: matplotlib>=1.4.3 in /usr/local/lib/python3.6/dist-packages (from seaborn) (2.1.2)\n",
            "Requirement already satisfied, skipping upgrade: scipy>=0.14.0 in /usr/local/lib/python3.6/dist-packages (from seaborn) (1.1.0)\n",
            "Requirement already satisfied, skipping upgrade: pytz>=2011k in /usr/local/lib/python3.6/dist-packages (from pandas>=0.15.2->seaborn) (2018.7)\n",
            "Requirement already satisfied, skipping upgrade: python-dateutil>=2 in /usr/local/lib/python3.6/dist-packages (from pandas>=0.15.2->seaborn) (2.5.3)\n",
            "Requirement already satisfied, skipping upgrade: six>=1.10 in /usr/local/lib/python3.6/dist-packages (from matplotlib>=1.4.3->seaborn) (1.11.0)\n",
            "Requirement already satisfied, skipping upgrade: cycler>=0.10 in /usr/local/lib/python3.6/dist-packages (from matplotlib>=1.4.3->seaborn) (0.10.0)\n",
            "Requirement already satisfied, skipping upgrade: pyparsing!=2.0.4,!=2.1.2,!=2.1.6,>=2.0.1 in /usr/local/lib/python3.6/dist-packages (from matplotlib>=1.4.3->seaborn) (2.3.0)\n",
            "Installing collected packages: seaborn\n",
            "  Found existing installation: seaborn 0.7.1\n",
            "    Uninstalling seaborn-0.7.1:\n",
            "      Successfully uninstalled seaborn-0.7.1\n",
            "Successfully installed seaborn-0.9.0\n"
          ],
          "name": "stdout"
        }
      ]
    },
    {
      "metadata": {
        "id": "PKzhk5UCYf0w",
        "colab_type": "code",
        "colab": {}
      },
      "cell_type": "code",
      "source": [
        "%matplotlib inline\n",
        "import matplotlib.pyplot as plt\n",
        "import numpy as np\n",
        "import pandas as pd"
      ],
      "execution_count": 0,
      "outputs": []
    },
    {
      "metadata": {
        "id": "d-h5yBhAYspx",
        "colab_type": "code",
        "colab": {}
      },
      "cell_type": "code",
      "source": [
        "incomes = pd.read_csv('https://raw.githubusercontent.com/open-numbers/ddf--gapminder--systema_globalis/master/ddf--datapoints--income_per_person_gdppercapita_ppp_inflation_adjusted--by--geo--time.csv')\n",
        "life_exp = pd.read_csv('https://raw.githubusercontent.com/open-numbers/ddf--gapminder--systema_globalis/master/ddf--datapoints--life_expectancy_years--by--geo--time.csv')\n",
        "population = pd.read_csv('https://raw.githubusercontent.com/open-numbers/ddf--gapminder--systema_globalis/master/ddf--datapoints--population_total--by--geo--time.csv')\n",
        "entities = pd.read_csv('https://raw.githubusercontent.com/open-numbers/ddf--gapminder--systema_globalis/master/ddf--entities--geo--country.csv')\n",
        "concepts = pd.read_csv('https://raw.githubusercontent.com/open-numbers/ddf--gapminder--systema_globalis/master/ddf--concepts.csv')"
      ],
      "execution_count": 0,
      "outputs": []
    },
    {
      "metadata": {
        "id": "RhU2Y1s7Y4vN",
        "colab_type": "code",
        "colab": {
          "base_uri": "https://localhost:8080/",
          "height": 34
        },
        "outputId": "08abff9c-340e-440a-a409-6409e5cccb3e"
      },
      "cell_type": "code",
      "source": [
        "incomes.shape, life_exp.shape, population.shape, entities.shape, concepts.shape"
      ],
      "execution_count": 4,
      "outputs": [
        {
          "output_type": "execute_result",
          "data": {
            "text/plain": [
              "((44268, 3), (44370, 3), (51939, 3), (273, 33), (590, 16))"
            ]
          },
          "metadata": {
            "tags": []
          },
          "execution_count": 4
        }
      ]
    },
    {
      "metadata": {
        "id": "Qs-LXzp-ZtNr",
        "colab_type": "code",
        "colab": {
          "base_uri": "https://localhost:8080/",
          "height": 266
        },
        "outputId": "c472d6c7-1e8f-4940-b4a7-b0294210f1e7"
      },
      "cell_type": "code",
      "source": [
        "pd.options.display.max_columns = None\n",
        "entities.head()"
      ],
      "execution_count": 5,
      "outputs": [
        {
          "output_type": "execute_result",
          "data": {
            "text/html": [
              "<div>\n",
              "<style scoped>\n",
              "    .dataframe tbody tr th:only-of-type {\n",
              "        vertical-align: middle;\n",
              "    }\n",
              "\n",
              "    .dataframe tbody tr th {\n",
              "        vertical-align: top;\n",
              "    }\n",
              "\n",
              "    .dataframe thead th {\n",
              "        text-align: right;\n",
              "    }\n",
              "</style>\n",
              "<table border=\"1\" class=\"dataframe\">\n",
              "  <thead>\n",
              "    <tr style=\"text-align: right;\">\n",
              "      <th></th>\n",
              "      <th>country</th>\n",
              "      <th>alt_5</th>\n",
              "      <th>alternative_1</th>\n",
              "      <th>alternative_2</th>\n",
              "      <th>alternative_3</th>\n",
              "      <th>alternative_4_cdiac</th>\n",
              "      <th>arb1</th>\n",
              "      <th>arb2</th>\n",
              "      <th>arb3</th>\n",
              "      <th>arb4</th>\n",
              "      <th>arb5</th>\n",
              "      <th>arb6</th>\n",
              "      <th>g77_and_oecd_countries</th>\n",
              "      <th>gapminder_list</th>\n",
              "      <th>god_id</th>\n",
              "      <th>gwid</th>\n",
              "      <th>income_groups</th>\n",
              "      <th>is--country</th>\n",
              "      <th>iso3166_1_alpha2</th>\n",
              "      <th>iso3166_1_alpha3</th>\n",
              "      <th>iso3166_1_numeric</th>\n",
              "      <th>iso3166_2</th>\n",
              "      <th>landlocked</th>\n",
              "      <th>latitude</th>\n",
              "      <th>longitude</th>\n",
              "      <th>main_religion_2008</th>\n",
              "      <th>name</th>\n",
              "      <th>pandg</th>\n",
              "      <th>un_state</th>\n",
              "      <th>unicode_region_subtag</th>\n",
              "      <th>upper_case_name</th>\n",
              "      <th>world_4region</th>\n",
              "      <th>world_6region</th>\n",
              "    </tr>\n",
              "  </thead>\n",
              "  <tbody>\n",
              "    <tr>\n",
              "      <th>0</th>\n",
              "      <td>abkh</td>\n",
              "      <td>NaN</td>\n",
              "      <td>NaN</td>\n",
              "      <td>NaN</td>\n",
              "      <td>NaN</td>\n",
              "      <td>NaN</td>\n",
              "      <td>NaN</td>\n",
              "      <td>NaN</td>\n",
              "      <td>NaN</td>\n",
              "      <td>NaN</td>\n",
              "      <td>NaN</td>\n",
              "      <td>NaN</td>\n",
              "      <td>others</td>\n",
              "      <td>Abkhazia</td>\n",
              "      <td>GE-AB</td>\n",
              "      <td>i0</td>\n",
              "      <td>NaN</td>\n",
              "      <td>True</td>\n",
              "      <td>NaN</td>\n",
              "      <td>NaN</td>\n",
              "      <td>NaN</td>\n",
              "      <td>NaN</td>\n",
              "      <td>NaN</td>\n",
              "      <td>NaN</td>\n",
              "      <td>NaN</td>\n",
              "      <td>NaN</td>\n",
              "      <td>Abkhazia</td>\n",
              "      <td>NaN</td>\n",
              "      <td>False</td>\n",
              "      <td>NaN</td>\n",
              "      <td>NaN</td>\n",
              "      <td>europe</td>\n",
              "      <td>europe_central_asia</td>\n",
              "    </tr>\n",
              "    <tr>\n",
              "      <th>1</th>\n",
              "      <td>abw</td>\n",
              "      <td>NaN</td>\n",
              "      <td>NaN</td>\n",
              "      <td>NaN</td>\n",
              "      <td>NaN</td>\n",
              "      <td>Aruba</td>\n",
              "      <td>NaN</td>\n",
              "      <td>NaN</td>\n",
              "      <td>NaN</td>\n",
              "      <td>NaN</td>\n",
              "      <td>NaN</td>\n",
              "      <td>NaN</td>\n",
              "      <td>others</td>\n",
              "      <td>Aruba</td>\n",
              "      <td>AW</td>\n",
              "      <td>i12</td>\n",
              "      <td>high_income</td>\n",
              "      <td>True</td>\n",
              "      <td>AW</td>\n",
              "      <td>ABW</td>\n",
              "      <td>533.0</td>\n",
              "      <td>NaN</td>\n",
              "      <td>coastline</td>\n",
              "      <td>12.50000</td>\n",
              "      <td>-69.96667</td>\n",
              "      <td>christian</td>\n",
              "      <td>Aruba</td>\n",
              "      <td>NaN</td>\n",
              "      <td>False</td>\n",
              "      <td>AW</td>\n",
              "      <td>ARUBA</td>\n",
              "      <td>americas</td>\n",
              "      <td>america</td>\n",
              "    </tr>\n",
              "    <tr>\n",
              "      <th>2</th>\n",
              "      <td>afg</td>\n",
              "      <td>NaN</td>\n",
              "      <td>Islamic Republic of Afghanistan</td>\n",
              "      <td>NaN</td>\n",
              "      <td>NaN</td>\n",
              "      <td>Afghanistan</td>\n",
              "      <td>NaN</td>\n",
              "      <td>NaN</td>\n",
              "      <td>NaN</td>\n",
              "      <td>NaN</td>\n",
              "      <td>NaN</td>\n",
              "      <td>NaN</td>\n",
              "      <td>g77</td>\n",
              "      <td>Afghanistan</td>\n",
              "      <td>AF</td>\n",
              "      <td>i1</td>\n",
              "      <td>low_income</td>\n",
              "      <td>True</td>\n",
              "      <td>AF</td>\n",
              "      <td>AFG</td>\n",
              "      <td>4.0</td>\n",
              "      <td>NaN</td>\n",
              "      <td>landlocked</td>\n",
              "      <td>33.00000</td>\n",
              "      <td>66.00000</td>\n",
              "      <td>muslim</td>\n",
              "      <td>Afghanistan</td>\n",
              "      <td>AFGHANISTAN</td>\n",
              "      <td>True</td>\n",
              "      <td>AF</td>\n",
              "      <td>AFGHANISTAN</td>\n",
              "      <td>asia</td>\n",
              "      <td>south_asia</td>\n",
              "    </tr>\n",
              "    <tr>\n",
              "      <th>3</th>\n",
              "      <td>ago</td>\n",
              "      <td>NaN</td>\n",
              "      <td>NaN</td>\n",
              "      <td>NaN</td>\n",
              "      <td>NaN</td>\n",
              "      <td>Angola</td>\n",
              "      <td>NaN</td>\n",
              "      <td>NaN</td>\n",
              "      <td>NaN</td>\n",
              "      <td>NaN</td>\n",
              "      <td>NaN</td>\n",
              "      <td>NaN</td>\n",
              "      <td>g77</td>\n",
              "      <td>Angola</td>\n",
              "      <td>AO</td>\n",
              "      <td>i7</td>\n",
              "      <td>upper_middle_income</td>\n",
              "      <td>True</td>\n",
              "      <td>AO</td>\n",
              "      <td>AGO</td>\n",
              "      <td>24.0</td>\n",
              "      <td>NaN</td>\n",
              "      <td>coastline</td>\n",
              "      <td>-12.50000</td>\n",
              "      <td>18.50000</td>\n",
              "      <td>christian</td>\n",
              "      <td>Angola</td>\n",
              "      <td>ANGOLA</td>\n",
              "      <td>True</td>\n",
              "      <td>AO</td>\n",
              "      <td>ANGOLA</td>\n",
              "      <td>africa</td>\n",
              "      <td>sub_saharan_africa</td>\n",
              "    </tr>\n",
              "    <tr>\n",
              "      <th>4</th>\n",
              "      <td>aia</td>\n",
              "      <td>NaN</td>\n",
              "      <td>NaN</td>\n",
              "      <td>NaN</td>\n",
              "      <td>NaN</td>\n",
              "      <td>NaN</td>\n",
              "      <td>NaN</td>\n",
              "      <td>NaN</td>\n",
              "      <td>NaN</td>\n",
              "      <td>NaN</td>\n",
              "      <td>NaN</td>\n",
              "      <td>NaN</td>\n",
              "      <td>others</td>\n",
              "      <td>Anguilla</td>\n",
              "      <td>AI</td>\n",
              "      <td>i8</td>\n",
              "      <td>NaN</td>\n",
              "      <td>True</td>\n",
              "      <td>AI</td>\n",
              "      <td>AIA</td>\n",
              "      <td>660.0</td>\n",
              "      <td>NaN</td>\n",
              "      <td>coastline</td>\n",
              "      <td>18.21667</td>\n",
              "      <td>-63.05000</td>\n",
              "      <td>christian</td>\n",
              "      <td>Anguilla</td>\n",
              "      <td>NaN</td>\n",
              "      <td>False</td>\n",
              "      <td>AI</td>\n",
              "      <td>ANGUILLA</td>\n",
              "      <td>americas</td>\n",
              "      <td>america</td>\n",
              "    </tr>\n",
              "  </tbody>\n",
              "</table>\n",
              "</div>"
            ],
            "text/plain": [
              "  country alt_5                    alternative_1 alternative_2 alternative_3  \\\n",
              "0    abkh   NaN                              NaN           NaN           NaN   \n",
              "1     abw   NaN                              NaN           NaN           NaN   \n",
              "2     afg   NaN  Islamic Republic of Afghanistan           NaN           NaN   \n",
              "3     ago   NaN                              NaN           NaN           NaN   \n",
              "4     aia   NaN                              NaN           NaN           NaN   \n",
              "\n",
              "  alternative_4_cdiac arb1 arb2 arb3 arb4 arb5 arb6 g77_and_oecd_countries  \\\n",
              "0                 NaN  NaN  NaN  NaN  NaN  NaN  NaN                 others   \n",
              "1               Aruba  NaN  NaN  NaN  NaN  NaN  NaN                 others   \n",
              "2         Afghanistan  NaN  NaN  NaN  NaN  NaN  NaN                    g77   \n",
              "3              Angola  NaN  NaN  NaN  NaN  NaN  NaN                    g77   \n",
              "4                 NaN  NaN  NaN  NaN  NaN  NaN  NaN                 others   \n",
              "\n",
              "  gapminder_list god_id gwid        income_groups  is--country  \\\n",
              "0       Abkhazia  GE-AB   i0                  NaN         True   \n",
              "1          Aruba     AW  i12          high_income         True   \n",
              "2    Afghanistan     AF   i1           low_income         True   \n",
              "3         Angola     AO   i7  upper_middle_income         True   \n",
              "4       Anguilla     AI   i8                  NaN         True   \n",
              "\n",
              "  iso3166_1_alpha2 iso3166_1_alpha3  iso3166_1_numeric iso3166_2  landlocked  \\\n",
              "0              NaN              NaN                NaN       NaN         NaN   \n",
              "1               AW              ABW              533.0       NaN   coastline   \n",
              "2               AF              AFG                4.0       NaN  landlocked   \n",
              "3               AO              AGO               24.0       NaN   coastline   \n",
              "4               AI              AIA              660.0       NaN   coastline   \n",
              "\n",
              "   latitude  longitude main_religion_2008         name        pandg  un_state  \\\n",
              "0       NaN        NaN                NaN     Abkhazia          NaN     False   \n",
              "1  12.50000  -69.96667          christian        Aruba          NaN     False   \n",
              "2  33.00000   66.00000             muslim  Afghanistan  AFGHANISTAN      True   \n",
              "3 -12.50000   18.50000          christian       Angola       ANGOLA      True   \n",
              "4  18.21667  -63.05000          christian     Anguilla          NaN     False   \n",
              "\n",
              "  unicode_region_subtag upper_case_name world_4region        world_6region  \n",
              "0                   NaN             NaN        europe  europe_central_asia  \n",
              "1                    AW           ARUBA      americas              america  \n",
              "2                    AF     AFGHANISTAN          asia           south_asia  \n",
              "3                    AO          ANGOLA        africa   sub_saharan_africa  \n",
              "4                    AI        ANGUILLA      americas              america  "
            ]
          },
          "metadata": {
            "tags": []
          },
          "execution_count": 5
        }
      ]
    },
    {
      "metadata": {
        "id": "3G13FulWaqIO",
        "colab_type": "code",
        "colab": {
          "base_uri": "https://localhost:8080/",
          "height": 195
        },
        "outputId": "9ec6bca5-1d7a-42d2-eba9-ece3017eca4c"
      },
      "cell_type": "code",
      "source": [
        "incomes.head()"
      ],
      "execution_count": 8,
      "outputs": [
        {
          "output_type": "execute_result",
          "data": {
            "text/html": [
              "<div>\n",
              "<style scoped>\n",
              "    .dataframe tbody tr th:only-of-type {\n",
              "        vertical-align: middle;\n",
              "    }\n",
              "\n",
              "    .dataframe tbody tr th {\n",
              "        vertical-align: top;\n",
              "    }\n",
              "\n",
              "    .dataframe thead th {\n",
              "        text-align: right;\n",
              "    }\n",
              "</style>\n",
              "<table border=\"1\" class=\"dataframe\">\n",
              "  <thead>\n",
              "    <tr style=\"text-align: right;\">\n",
              "      <th></th>\n",
              "      <th>geo</th>\n",
              "      <th>time</th>\n",
              "      <th>income_per_person_gdppercapita_ppp_inflation_adjusted</th>\n",
              "    </tr>\n",
              "  </thead>\n",
              "  <tbody>\n",
              "    <tr>\n",
              "      <th>0</th>\n",
              "      <td>abw</td>\n",
              "      <td>1800</td>\n",
              "      <td>833</td>\n",
              "    </tr>\n",
              "    <tr>\n",
              "      <th>1</th>\n",
              "      <td>abw</td>\n",
              "      <td>1801</td>\n",
              "      <td>833</td>\n",
              "    </tr>\n",
              "    <tr>\n",
              "      <th>2</th>\n",
              "      <td>abw</td>\n",
              "      <td>1802</td>\n",
              "      <td>833</td>\n",
              "    </tr>\n",
              "    <tr>\n",
              "      <th>3</th>\n",
              "      <td>abw</td>\n",
              "      <td>1803</td>\n",
              "      <td>833</td>\n",
              "    </tr>\n",
              "    <tr>\n",
              "      <th>4</th>\n",
              "      <td>abw</td>\n",
              "      <td>1804</td>\n",
              "      <td>833</td>\n",
              "    </tr>\n",
              "  </tbody>\n",
              "</table>\n",
              "</div>"
            ],
            "text/plain": [
              "   geo  time  income_per_person_gdppercapita_ppp_inflation_adjusted\n",
              "0  abw  1800                                                833    \n",
              "1  abw  1801                                                833    \n",
              "2  abw  1802                                                833    \n",
              "3  abw  1803                                                833    \n",
              "4  abw  1804                                                833    "
            ]
          },
          "metadata": {
            "tags": []
          },
          "execution_count": 8
        }
      ]
    },
    {
      "metadata": {
        "id": "IaB-22CXaAao",
        "colab_type": "code",
        "colab": {
          "base_uri": "https://localhost:8080/",
          "height": 551
        },
        "outputId": "ec9ba90d-198d-4110-cd5d-517311dbc06b"
      },
      "cell_type": "code",
      "source": [
        "concepts.head() # data dictionary"
      ],
      "execution_count": 6,
      "outputs": [
        {
          "output_type": "execute_result",
          "data": {
            "text/html": [
              "<div>\n",
              "<style scoped>\n",
              "    .dataframe tbody tr th:only-of-type {\n",
              "        vertical-align: middle;\n",
              "    }\n",
              "\n",
              "    .dataframe tbody tr th {\n",
              "        vertical-align: top;\n",
              "    }\n",
              "\n",
              "    .dataframe thead th {\n",
              "        text-align: right;\n",
              "    }\n",
              "</style>\n",
              "<table border=\"1\" class=\"dataframe\">\n",
              "  <thead>\n",
              "    <tr style=\"text-align: right;\">\n",
              "      <th></th>\n",
              "      <th>concept</th>\n",
              "      <th>color</th>\n",
              "      <th>concept_type</th>\n",
              "      <th>description</th>\n",
              "      <th>description_long</th>\n",
              "      <th>domain</th>\n",
              "      <th>drill_up</th>\n",
              "      <th>indicator_url</th>\n",
              "      <th>name</th>\n",
              "      <th>name_catalog</th>\n",
              "      <th>name_short</th>\n",
              "      <th>scales</th>\n",
              "      <th>source</th>\n",
              "      <th>source_long</th>\n",
              "      <th>source_url</th>\n",
              "      <th>tags</th>\n",
              "    </tr>\n",
              "  </thead>\n",
              "  <tbody>\n",
              "    <tr>\n",
              "      <th>0</th>\n",
              "      <td>adults_with_hiv_percent_age_15_49</td>\n",
              "      <td>NaN</td>\n",
              "      <td>measure</td>\n",
              "      <td>The estimated percentage of adults aged 15 to ...</td>\n",
              "      <td>NaN</td>\n",
              "      <td>NaN</td>\n",
              "      <td>NaN</td>\n",
              "      <td>NaN</td>\n",
              "      <td>Adults with HIV (%, age 15-49)</td>\n",
              "      <td>Adults with HIV (%, age 15-49)</td>\n",
              "      <td>Adults with HIV</td>\n",
              "      <td>[\"log\", \"linear\"]</td>\n",
              "      <td>NaN</td>\n",
              "      <td>NaN</td>\n",
              "      <td>http://www.gapminder.org/gapminder-world/docum...</td>\n",
              "      <td>hiv</td>\n",
              "    </tr>\n",
              "    <tr>\n",
              "      <th>1</th>\n",
              "      <td>age_at_1st_marriage_women</td>\n",
              "      <td>NaN</td>\n",
              "      <td>measure</td>\n",
              "      <td>The mean age, in years, of first marriage for ...</td>\n",
              "      <td>NaN</td>\n",
              "      <td>NaN</td>\n",
              "      <td>NaN</td>\n",
              "      <td>NaN</td>\n",
              "      <td>Age at 1st marriage (women)</td>\n",
              "      <td>Age at 1st marriage (women)</td>\n",
              "      <td>Age at 1st marriage</td>\n",
              "      <td>[\"linear\", \"log\"]</td>\n",
              "      <td>NaN</td>\n",
              "      <td>NaN</td>\n",
              "      <td>http://spreadsheets.google.com/pub?key=t4eF8H_...</td>\n",
              "      <td>population</td>\n",
              "    </tr>\n",
              "    <tr>\n",
              "      <th>2</th>\n",
              "      <td>aged_15_24_employment_rate_percent</td>\n",
              "      <td>NaN</td>\n",
              "      <td>measure</td>\n",
              "      <td>Percentage of total population, age group 15-2...</td>\n",
              "      <td>NaN</td>\n",
              "      <td>NaN</td>\n",
              "      <td>NaN</td>\n",
              "      <td>NaN</td>\n",
              "      <td>Aged 15-24 employment rate (%)</td>\n",
              "      <td>Aged 15-24</td>\n",
              "      <td>Employment rate (%)</td>\n",
              "      <td>[\"linear\", \"log\"]</td>\n",
              "      <td>NaN</td>\n",
              "      <td>NaN</td>\n",
              "      <td>http://ilo.org/legacy/english/global-reports/k...</td>\n",
              "      <td>employment_rate</td>\n",
              "    </tr>\n",
              "    <tr>\n",
              "      <th>3</th>\n",
              "      <td>aged_15_24_unemployment_rate_percent</td>\n",
              "      <td>NaN</td>\n",
              "      <td>measure</td>\n",
              "      <td>Percentage of total population, age group 15-2...</td>\n",
              "      <td>NaN</td>\n",
              "      <td>NaN</td>\n",
              "      <td>NaN</td>\n",
              "      <td>NaN</td>\n",
              "      <td>Aged 15-24 unemployment rate (%)</td>\n",
              "      <td>Aged 15-24</td>\n",
              "      <td>Unemployment rate (%)</td>\n",
              "      <td>[\"linear\", \"log\"]</td>\n",
              "      <td>NaN</td>\n",
              "      <td>NaN</td>\n",
              "      <td>http://ilo.org/legacy/english/global-reports/k...</td>\n",
              "      <td>unemployment</td>\n",
              "    </tr>\n",
              "    <tr>\n",
              "      <th>4</th>\n",
              "      <td>aged_15_64_labour_force_participation_rate_per...</td>\n",
              "      <td>NaN</td>\n",
              "      <td>measure</td>\n",
              "      <td>For age group 15-64, percentage of all labour ...</td>\n",
              "      <td>NaN</td>\n",
              "      <td>NaN</td>\n",
              "      <td>NaN</td>\n",
              "      <td>NaN</td>\n",
              "      <td>Aged 15-64 labour force participation rate (%)</td>\n",
              "      <td>Aged 15-64</td>\n",
              "      <td>Labour force participation rate (%)</td>\n",
              "      <td>[\"linear\", \"log\"]</td>\n",
              "      <td>NaN</td>\n",
              "      <td>NaN</td>\n",
              "      <td>http://ilo.org/legacy/english/global-reports/k...</td>\n",
              "      <td>labour_force_participation</td>\n",
              "    </tr>\n",
              "  </tbody>\n",
              "</table>\n",
              "</div>"
            ],
            "text/plain": [
              "                                             concept color concept_type  \\\n",
              "0                  adults_with_hiv_percent_age_15_49   NaN      measure   \n",
              "1                          age_at_1st_marriage_women   NaN      measure   \n",
              "2                 aged_15_24_employment_rate_percent   NaN      measure   \n",
              "3               aged_15_24_unemployment_rate_percent   NaN      measure   \n",
              "4  aged_15_64_labour_force_participation_rate_per...   NaN      measure   \n",
              "\n",
              "                                         description description_long domain  \\\n",
              "0  The estimated percentage of adults aged 15 to ...              NaN    NaN   \n",
              "1  The mean age, in years, of first marriage for ...              NaN    NaN   \n",
              "2  Percentage of total population, age group 15-2...              NaN    NaN   \n",
              "3  Percentage of total population, age group 15-2...              NaN    NaN   \n",
              "4  For age group 15-64, percentage of all labour ...              NaN    NaN   \n",
              "\n",
              "  drill_up indicator_url                                            name  \\\n",
              "0      NaN           NaN                  Adults with HIV (%, age 15-49)   \n",
              "1      NaN           NaN                     Age at 1st marriage (women)   \n",
              "2      NaN           NaN                  Aged 15-24 employment rate (%)   \n",
              "3      NaN           NaN                Aged 15-24 unemployment rate (%)   \n",
              "4      NaN           NaN  Aged 15-64 labour force participation rate (%)   \n",
              "\n",
              "                     name_catalog                           name_short  \\\n",
              "0  Adults with HIV (%, age 15-49)                      Adults with HIV   \n",
              "1     Age at 1st marriage (women)                  Age at 1st marriage   \n",
              "2                      Aged 15-24                  Employment rate (%)   \n",
              "3                      Aged 15-24                Unemployment rate (%)   \n",
              "4                      Aged 15-64  Labour force participation rate (%)   \n",
              "\n",
              "              scales source source_long  \\\n",
              "0  [\"log\", \"linear\"]    NaN         NaN   \n",
              "1  [\"linear\", \"log\"]    NaN         NaN   \n",
              "2  [\"linear\", \"log\"]    NaN         NaN   \n",
              "3  [\"linear\", \"log\"]    NaN         NaN   \n",
              "4  [\"linear\", \"log\"]    NaN         NaN   \n",
              "\n",
              "                                          source_url  \\\n",
              "0  http://www.gapminder.org/gapminder-world/docum...   \n",
              "1  http://spreadsheets.google.com/pub?key=t4eF8H_...   \n",
              "2  http://ilo.org/legacy/english/global-reports/k...   \n",
              "3  http://ilo.org/legacy/english/global-reports/k...   \n",
              "4  http://ilo.org/legacy/english/global-reports/k...   \n",
              "\n",
              "                         tags  \n",
              "0                         hiv  \n",
              "1                  population  \n",
              "2             employment_rate  \n",
              "3                unemployment  \n",
              "4  labour_force_participation  "
            ]
          },
          "metadata": {
            "tags": []
          },
          "execution_count": 6
        }
      ]
    },
    {
      "metadata": {
        "id": "oGlxPCH1aI92",
        "colab_type": "code",
        "colab": {}
      },
      "cell_type": "code",
      "source": [
        "df1 = pd.merge(incomes, life_exp)"
      ],
      "execution_count": 0,
      "outputs": []
    },
    {
      "metadata": {
        "id": "_PUnmOElbc9L",
        "colab_type": "code",
        "colab": {
          "base_uri": "https://localhost:8080/",
          "height": 34
        },
        "outputId": "79097abf-8a46-4f50-9813-ba9a9e9161f8"
      },
      "cell_type": "code",
      "source": [
        "incomes.shape, life_exp.shape, df1.shape"
      ],
      "execution_count": 12,
      "outputs": [
        {
          "output_type": "execute_result",
          "data": {
            "text/plain": [
              "((44268, 3), (44370, 3), (41790, 4))"
            ]
          },
          "metadata": {
            "tags": []
          },
          "execution_count": 12
        }
      ]
    },
    {
      "metadata": {
        "id": "huCO-0cLbjIp",
        "colab_type": "code",
        "colab": {
          "base_uri": "https://localhost:8080/",
          "height": 215
        },
        "outputId": "9e066052-28a0-484d-c0a3-bada93cacee9"
      },
      "cell_type": "code",
      "source": [
        "df1.head()"
      ],
      "execution_count": 13,
      "outputs": [
        {
          "output_type": "execute_result",
          "data": {
            "text/html": [
              "<div>\n",
              "<style scoped>\n",
              "    .dataframe tbody tr th:only-of-type {\n",
              "        vertical-align: middle;\n",
              "    }\n",
              "\n",
              "    .dataframe tbody tr th {\n",
              "        vertical-align: top;\n",
              "    }\n",
              "\n",
              "    .dataframe thead th {\n",
              "        text-align: right;\n",
              "    }\n",
              "</style>\n",
              "<table border=\"1\" class=\"dataframe\">\n",
              "  <thead>\n",
              "    <tr style=\"text-align: right;\">\n",
              "      <th></th>\n",
              "      <th>geo</th>\n",
              "      <th>time</th>\n",
              "      <th>income_per_person_gdppercapita_ppp_inflation_adjusted</th>\n",
              "      <th>life_expectancy_years</th>\n",
              "    </tr>\n",
              "  </thead>\n",
              "  <tbody>\n",
              "    <tr>\n",
              "      <th>0</th>\n",
              "      <td>abw</td>\n",
              "      <td>1800</td>\n",
              "      <td>833</td>\n",
              "      <td>34.42</td>\n",
              "    </tr>\n",
              "    <tr>\n",
              "      <th>1</th>\n",
              "      <td>abw</td>\n",
              "      <td>1801</td>\n",
              "      <td>833</td>\n",
              "      <td>34.42</td>\n",
              "    </tr>\n",
              "    <tr>\n",
              "      <th>2</th>\n",
              "      <td>abw</td>\n",
              "      <td>1802</td>\n",
              "      <td>833</td>\n",
              "      <td>34.42</td>\n",
              "    </tr>\n",
              "    <tr>\n",
              "      <th>3</th>\n",
              "      <td>abw</td>\n",
              "      <td>1803</td>\n",
              "      <td>833</td>\n",
              "      <td>34.42</td>\n",
              "    </tr>\n",
              "    <tr>\n",
              "      <th>4</th>\n",
              "      <td>abw</td>\n",
              "      <td>1804</td>\n",
              "      <td>833</td>\n",
              "      <td>34.42</td>\n",
              "    </tr>\n",
              "  </tbody>\n",
              "</table>\n",
              "</div>"
            ],
            "text/plain": [
              "   geo  time  income_per_person_gdppercapita_ppp_inflation_adjusted  \\\n",
              "0  abw  1800                                                833       \n",
              "1  abw  1801                                                833       \n",
              "2  abw  1802                                                833       \n",
              "3  abw  1803                                                833       \n",
              "4  abw  1804                                                833       \n",
              "\n",
              "   life_expectancy_years  \n",
              "0                  34.42  \n",
              "1                  34.42  \n",
              "2                  34.42  \n",
              "3                  34.42  \n",
              "4                  34.42  "
            ]
          },
          "metadata": {
            "tags": []
          },
          "execution_count": 13
        }
      ]
    },
    {
      "metadata": {
        "id": "qeWegGZNboI2",
        "colab_type": "code",
        "colab": {
          "base_uri": "https://localhost:8080/",
          "height": 266
        },
        "outputId": "908c87cf-1a61-4ff6-bfcb-0ed34b580dd8"
      },
      "cell_type": "code",
      "source": [
        "entities.head() # want real name and geographic region"
      ],
      "execution_count": 14,
      "outputs": [
        {
          "output_type": "execute_result",
          "data": {
            "text/html": [
              "<div>\n",
              "<style scoped>\n",
              "    .dataframe tbody tr th:only-of-type {\n",
              "        vertical-align: middle;\n",
              "    }\n",
              "\n",
              "    .dataframe tbody tr th {\n",
              "        vertical-align: top;\n",
              "    }\n",
              "\n",
              "    .dataframe thead th {\n",
              "        text-align: right;\n",
              "    }\n",
              "</style>\n",
              "<table border=\"1\" class=\"dataframe\">\n",
              "  <thead>\n",
              "    <tr style=\"text-align: right;\">\n",
              "      <th></th>\n",
              "      <th>country</th>\n",
              "      <th>alt_5</th>\n",
              "      <th>alternative_1</th>\n",
              "      <th>alternative_2</th>\n",
              "      <th>alternative_3</th>\n",
              "      <th>alternative_4_cdiac</th>\n",
              "      <th>arb1</th>\n",
              "      <th>arb2</th>\n",
              "      <th>arb3</th>\n",
              "      <th>arb4</th>\n",
              "      <th>arb5</th>\n",
              "      <th>arb6</th>\n",
              "      <th>g77_and_oecd_countries</th>\n",
              "      <th>gapminder_list</th>\n",
              "      <th>god_id</th>\n",
              "      <th>gwid</th>\n",
              "      <th>income_groups</th>\n",
              "      <th>is--country</th>\n",
              "      <th>iso3166_1_alpha2</th>\n",
              "      <th>iso3166_1_alpha3</th>\n",
              "      <th>iso3166_1_numeric</th>\n",
              "      <th>iso3166_2</th>\n",
              "      <th>landlocked</th>\n",
              "      <th>latitude</th>\n",
              "      <th>longitude</th>\n",
              "      <th>main_religion_2008</th>\n",
              "      <th>name</th>\n",
              "      <th>pandg</th>\n",
              "      <th>un_state</th>\n",
              "      <th>unicode_region_subtag</th>\n",
              "      <th>upper_case_name</th>\n",
              "      <th>world_4region</th>\n",
              "      <th>world_6region</th>\n",
              "    </tr>\n",
              "  </thead>\n",
              "  <tbody>\n",
              "    <tr>\n",
              "      <th>0</th>\n",
              "      <td>abkh</td>\n",
              "      <td>NaN</td>\n",
              "      <td>NaN</td>\n",
              "      <td>NaN</td>\n",
              "      <td>NaN</td>\n",
              "      <td>NaN</td>\n",
              "      <td>NaN</td>\n",
              "      <td>NaN</td>\n",
              "      <td>NaN</td>\n",
              "      <td>NaN</td>\n",
              "      <td>NaN</td>\n",
              "      <td>NaN</td>\n",
              "      <td>others</td>\n",
              "      <td>Abkhazia</td>\n",
              "      <td>GE-AB</td>\n",
              "      <td>i0</td>\n",
              "      <td>NaN</td>\n",
              "      <td>True</td>\n",
              "      <td>NaN</td>\n",
              "      <td>NaN</td>\n",
              "      <td>NaN</td>\n",
              "      <td>NaN</td>\n",
              "      <td>NaN</td>\n",
              "      <td>NaN</td>\n",
              "      <td>NaN</td>\n",
              "      <td>NaN</td>\n",
              "      <td>Abkhazia</td>\n",
              "      <td>NaN</td>\n",
              "      <td>False</td>\n",
              "      <td>NaN</td>\n",
              "      <td>NaN</td>\n",
              "      <td>europe</td>\n",
              "      <td>europe_central_asia</td>\n",
              "    </tr>\n",
              "    <tr>\n",
              "      <th>1</th>\n",
              "      <td>abw</td>\n",
              "      <td>NaN</td>\n",
              "      <td>NaN</td>\n",
              "      <td>NaN</td>\n",
              "      <td>NaN</td>\n",
              "      <td>Aruba</td>\n",
              "      <td>NaN</td>\n",
              "      <td>NaN</td>\n",
              "      <td>NaN</td>\n",
              "      <td>NaN</td>\n",
              "      <td>NaN</td>\n",
              "      <td>NaN</td>\n",
              "      <td>others</td>\n",
              "      <td>Aruba</td>\n",
              "      <td>AW</td>\n",
              "      <td>i12</td>\n",
              "      <td>high_income</td>\n",
              "      <td>True</td>\n",
              "      <td>AW</td>\n",
              "      <td>ABW</td>\n",
              "      <td>533.0</td>\n",
              "      <td>NaN</td>\n",
              "      <td>coastline</td>\n",
              "      <td>12.50000</td>\n",
              "      <td>-69.96667</td>\n",
              "      <td>christian</td>\n",
              "      <td>Aruba</td>\n",
              "      <td>NaN</td>\n",
              "      <td>False</td>\n",
              "      <td>AW</td>\n",
              "      <td>ARUBA</td>\n",
              "      <td>americas</td>\n",
              "      <td>america</td>\n",
              "    </tr>\n",
              "    <tr>\n",
              "      <th>2</th>\n",
              "      <td>afg</td>\n",
              "      <td>NaN</td>\n",
              "      <td>Islamic Republic of Afghanistan</td>\n",
              "      <td>NaN</td>\n",
              "      <td>NaN</td>\n",
              "      <td>Afghanistan</td>\n",
              "      <td>NaN</td>\n",
              "      <td>NaN</td>\n",
              "      <td>NaN</td>\n",
              "      <td>NaN</td>\n",
              "      <td>NaN</td>\n",
              "      <td>NaN</td>\n",
              "      <td>g77</td>\n",
              "      <td>Afghanistan</td>\n",
              "      <td>AF</td>\n",
              "      <td>i1</td>\n",
              "      <td>low_income</td>\n",
              "      <td>True</td>\n",
              "      <td>AF</td>\n",
              "      <td>AFG</td>\n",
              "      <td>4.0</td>\n",
              "      <td>NaN</td>\n",
              "      <td>landlocked</td>\n",
              "      <td>33.00000</td>\n",
              "      <td>66.00000</td>\n",
              "      <td>muslim</td>\n",
              "      <td>Afghanistan</td>\n",
              "      <td>AFGHANISTAN</td>\n",
              "      <td>True</td>\n",
              "      <td>AF</td>\n",
              "      <td>AFGHANISTAN</td>\n",
              "      <td>asia</td>\n",
              "      <td>south_asia</td>\n",
              "    </tr>\n",
              "    <tr>\n",
              "      <th>3</th>\n",
              "      <td>ago</td>\n",
              "      <td>NaN</td>\n",
              "      <td>NaN</td>\n",
              "      <td>NaN</td>\n",
              "      <td>NaN</td>\n",
              "      <td>Angola</td>\n",
              "      <td>NaN</td>\n",
              "      <td>NaN</td>\n",
              "      <td>NaN</td>\n",
              "      <td>NaN</td>\n",
              "      <td>NaN</td>\n",
              "      <td>NaN</td>\n",
              "      <td>g77</td>\n",
              "      <td>Angola</td>\n",
              "      <td>AO</td>\n",
              "      <td>i7</td>\n",
              "      <td>upper_middle_income</td>\n",
              "      <td>True</td>\n",
              "      <td>AO</td>\n",
              "      <td>AGO</td>\n",
              "      <td>24.0</td>\n",
              "      <td>NaN</td>\n",
              "      <td>coastline</td>\n",
              "      <td>-12.50000</td>\n",
              "      <td>18.50000</td>\n",
              "      <td>christian</td>\n",
              "      <td>Angola</td>\n",
              "      <td>ANGOLA</td>\n",
              "      <td>True</td>\n",
              "      <td>AO</td>\n",
              "      <td>ANGOLA</td>\n",
              "      <td>africa</td>\n",
              "      <td>sub_saharan_africa</td>\n",
              "    </tr>\n",
              "    <tr>\n",
              "      <th>4</th>\n",
              "      <td>aia</td>\n",
              "      <td>NaN</td>\n",
              "      <td>NaN</td>\n",
              "      <td>NaN</td>\n",
              "      <td>NaN</td>\n",
              "      <td>NaN</td>\n",
              "      <td>NaN</td>\n",
              "      <td>NaN</td>\n",
              "      <td>NaN</td>\n",
              "      <td>NaN</td>\n",
              "      <td>NaN</td>\n",
              "      <td>NaN</td>\n",
              "      <td>others</td>\n",
              "      <td>Anguilla</td>\n",
              "      <td>AI</td>\n",
              "      <td>i8</td>\n",
              "      <td>NaN</td>\n",
              "      <td>True</td>\n",
              "      <td>AI</td>\n",
              "      <td>AIA</td>\n",
              "      <td>660.0</td>\n",
              "      <td>NaN</td>\n",
              "      <td>coastline</td>\n",
              "      <td>18.21667</td>\n",
              "      <td>-63.05000</td>\n",
              "      <td>christian</td>\n",
              "      <td>Anguilla</td>\n",
              "      <td>NaN</td>\n",
              "      <td>False</td>\n",
              "      <td>AI</td>\n",
              "      <td>ANGUILLA</td>\n",
              "      <td>americas</td>\n",
              "      <td>america</td>\n",
              "    </tr>\n",
              "  </tbody>\n",
              "</table>\n",
              "</div>"
            ],
            "text/plain": [
              "  country alt_5                    alternative_1 alternative_2 alternative_3  \\\n",
              "0    abkh   NaN                              NaN           NaN           NaN   \n",
              "1     abw   NaN                              NaN           NaN           NaN   \n",
              "2     afg   NaN  Islamic Republic of Afghanistan           NaN           NaN   \n",
              "3     ago   NaN                              NaN           NaN           NaN   \n",
              "4     aia   NaN                              NaN           NaN           NaN   \n",
              "\n",
              "  alternative_4_cdiac arb1 arb2 arb3 arb4 arb5 arb6 g77_and_oecd_countries  \\\n",
              "0                 NaN  NaN  NaN  NaN  NaN  NaN  NaN                 others   \n",
              "1               Aruba  NaN  NaN  NaN  NaN  NaN  NaN                 others   \n",
              "2         Afghanistan  NaN  NaN  NaN  NaN  NaN  NaN                    g77   \n",
              "3              Angola  NaN  NaN  NaN  NaN  NaN  NaN                    g77   \n",
              "4                 NaN  NaN  NaN  NaN  NaN  NaN  NaN                 others   \n",
              "\n",
              "  gapminder_list god_id gwid        income_groups  is--country  \\\n",
              "0       Abkhazia  GE-AB   i0                  NaN         True   \n",
              "1          Aruba     AW  i12          high_income         True   \n",
              "2    Afghanistan     AF   i1           low_income         True   \n",
              "3         Angola     AO   i7  upper_middle_income         True   \n",
              "4       Anguilla     AI   i8                  NaN         True   \n",
              "\n",
              "  iso3166_1_alpha2 iso3166_1_alpha3  iso3166_1_numeric iso3166_2  landlocked  \\\n",
              "0              NaN              NaN                NaN       NaN         NaN   \n",
              "1               AW              ABW              533.0       NaN   coastline   \n",
              "2               AF              AFG                4.0       NaN  landlocked   \n",
              "3               AO              AGO               24.0       NaN   coastline   \n",
              "4               AI              AIA              660.0       NaN   coastline   \n",
              "\n",
              "   latitude  longitude main_religion_2008         name        pandg  un_state  \\\n",
              "0       NaN        NaN                NaN     Abkhazia          NaN     False   \n",
              "1  12.50000  -69.96667          christian        Aruba          NaN     False   \n",
              "2  33.00000   66.00000             muslim  Afghanistan  AFGHANISTAN      True   \n",
              "3 -12.50000   18.50000          christian       Angola       ANGOLA      True   \n",
              "4  18.21667  -63.05000          christian     Anguilla          NaN     False   \n",
              "\n",
              "  unicode_region_subtag upper_case_name world_4region        world_6region  \n",
              "0                   NaN             NaN        europe  europe_central_asia  \n",
              "1                    AW           ARUBA      americas              america  \n",
              "2                    AF     AFGHANISTAN          asia           south_asia  \n",
              "3                    AO          ANGOLA        africa   sub_saharan_africa  \n",
              "4                    AI        ANGUILLA      americas              america  "
            ]
          },
          "metadata": {
            "tags": []
          },
          "execution_count": 14
        }
      ]
    },
    {
      "metadata": {
        "id": "MVbiK6kJcdq0",
        "colab_type": "code",
        "colab": {
          "base_uri": "https://localhost:8080/",
          "height": 101
        },
        "outputId": "b9792081-3db9-4db4-9d70-ec2366d5e024"
      },
      "cell_type": "code",
      "source": [
        "entities.world_4region.value_counts()"
      ],
      "execution_count": 17,
      "outputs": [
        {
          "output_type": "execute_result",
          "data": {
            "text/plain": [
              "asia        80\n",
              "europe      73\n",
              "africa      61\n",
              "americas    57\n",
              "Name: world_4region, dtype: int64"
            ]
          },
          "metadata": {
            "tags": []
          },
          "execution_count": 17
        }
      ]
    },
    {
      "metadata": {
        "id": "PP7Db1NqcWLl",
        "colab_type": "code",
        "colab": {
          "base_uri": "https://localhost:8080/",
          "height": 134
        },
        "outputId": "f8d687b3-f5ec-472b-fad6-a0483e25d35f"
      },
      "cell_type": "code",
      "source": [
        "entities.world_6region.value_counts()"
      ],
      "execution_count": 18,
      "outputs": [
        {
          "output_type": "execute_result",
          "data": {
            "text/plain": [
              "europe_central_asia         77\n",
              "sub_saharan_africa          53\n",
              "america                     53\n",
              "east_asia_pacific           46\n",
              "middle_east_north_africa    23\n",
              "south_asia                   8\n",
              "Name: world_6region, dtype: int64"
            ]
          },
          "metadata": {
            "tags": []
          },
          "execution_count": 18
        }
      ]
    },
    {
      "metadata": {
        "id": "DHH06jFqcvNK",
        "colab_type": "code",
        "colab": {
          "base_uri": "https://localhost:8080/",
          "height": 195
        },
        "outputId": "82b3d909-82ce-40a6-d676-e1c7840207bd"
      },
      "cell_type": "code",
      "source": [
        "variables = ['country', 'name', 'world_6region']\n",
        "entities[variables].head() # show variables, very cool filter process"
      ],
      "execution_count": 19,
      "outputs": [
        {
          "output_type": "execute_result",
          "data": {
            "text/html": [
              "<div>\n",
              "<style scoped>\n",
              "    .dataframe tbody tr th:only-of-type {\n",
              "        vertical-align: middle;\n",
              "    }\n",
              "\n",
              "    .dataframe tbody tr th {\n",
              "        vertical-align: top;\n",
              "    }\n",
              "\n",
              "    .dataframe thead th {\n",
              "        text-align: right;\n",
              "    }\n",
              "</style>\n",
              "<table border=\"1\" class=\"dataframe\">\n",
              "  <thead>\n",
              "    <tr style=\"text-align: right;\">\n",
              "      <th></th>\n",
              "      <th>country</th>\n",
              "      <th>name</th>\n",
              "      <th>world_6region</th>\n",
              "    </tr>\n",
              "  </thead>\n",
              "  <tbody>\n",
              "    <tr>\n",
              "      <th>0</th>\n",
              "      <td>abkh</td>\n",
              "      <td>Abkhazia</td>\n",
              "      <td>europe_central_asia</td>\n",
              "    </tr>\n",
              "    <tr>\n",
              "      <th>1</th>\n",
              "      <td>abw</td>\n",
              "      <td>Aruba</td>\n",
              "      <td>america</td>\n",
              "    </tr>\n",
              "    <tr>\n",
              "      <th>2</th>\n",
              "      <td>afg</td>\n",
              "      <td>Afghanistan</td>\n",
              "      <td>south_asia</td>\n",
              "    </tr>\n",
              "    <tr>\n",
              "      <th>3</th>\n",
              "      <td>ago</td>\n",
              "      <td>Angola</td>\n",
              "      <td>sub_saharan_africa</td>\n",
              "    </tr>\n",
              "    <tr>\n",
              "      <th>4</th>\n",
              "      <td>aia</td>\n",
              "      <td>Anguilla</td>\n",
              "      <td>america</td>\n",
              "    </tr>\n",
              "  </tbody>\n",
              "</table>\n",
              "</div>"
            ],
            "text/plain": [
              "  country         name        world_6region\n",
              "0    abkh     Abkhazia  europe_central_asia\n",
              "1     abw        Aruba              america\n",
              "2     afg  Afghanistan           south_asia\n",
              "3     ago       Angola   sub_saharan_africa\n",
              "4     aia     Anguilla              america"
            ]
          },
          "metadata": {
            "tags": []
          },
          "execution_count": 19
        }
      ]
    },
    {
      "metadata": {
        "id": "EcN86p-ldBKV",
        "colab_type": "code",
        "colab": {
          "base_uri": "https://localhost:8080/",
          "height": 215
        },
        "outputId": "028782f5-0699-4ee1-eb1e-4fea058600a9"
      },
      "cell_type": "code",
      "source": [
        "# preview before assigning\n",
        "pd.merge(df1,  entities[variables], how='inner', left_on='geo', \n",
        "         right_on='country').head()"
      ],
      "execution_count": 22,
      "outputs": [
        {
          "output_type": "execute_result",
          "data": {
            "text/html": [
              "<div>\n",
              "<style scoped>\n",
              "    .dataframe tbody tr th:only-of-type {\n",
              "        vertical-align: middle;\n",
              "    }\n",
              "\n",
              "    .dataframe tbody tr th {\n",
              "        vertical-align: top;\n",
              "    }\n",
              "\n",
              "    .dataframe thead th {\n",
              "        text-align: right;\n",
              "    }\n",
              "</style>\n",
              "<table border=\"1\" class=\"dataframe\">\n",
              "  <thead>\n",
              "    <tr style=\"text-align: right;\">\n",
              "      <th></th>\n",
              "      <th>geo</th>\n",
              "      <th>time</th>\n",
              "      <th>income_per_person_gdppercapita_ppp_inflation_adjusted</th>\n",
              "      <th>life_expectancy_years</th>\n",
              "      <th>population_total</th>\n",
              "      <th>country</th>\n",
              "      <th>name</th>\n",
              "      <th>world_6region</th>\n",
              "    </tr>\n",
              "  </thead>\n",
              "  <tbody>\n",
              "    <tr>\n",
              "      <th>0</th>\n",
              "      <td>abw</td>\n",
              "      <td>1800</td>\n",
              "      <td>833</td>\n",
              "      <td>34.42</td>\n",
              "      <td>19286</td>\n",
              "      <td>abw</td>\n",
              "      <td>Aruba</td>\n",
              "      <td>america</td>\n",
              "    </tr>\n",
              "    <tr>\n",
              "      <th>1</th>\n",
              "      <td>abw</td>\n",
              "      <td>1801</td>\n",
              "      <td>833</td>\n",
              "      <td>34.42</td>\n",
              "      <td>19286</td>\n",
              "      <td>abw</td>\n",
              "      <td>Aruba</td>\n",
              "      <td>america</td>\n",
              "    </tr>\n",
              "    <tr>\n",
              "      <th>2</th>\n",
              "      <td>abw</td>\n",
              "      <td>1802</td>\n",
              "      <td>833</td>\n",
              "      <td>34.42</td>\n",
              "      <td>19286</td>\n",
              "      <td>abw</td>\n",
              "      <td>Aruba</td>\n",
              "      <td>america</td>\n",
              "    </tr>\n",
              "    <tr>\n",
              "      <th>3</th>\n",
              "      <td>abw</td>\n",
              "      <td>1803</td>\n",
              "      <td>833</td>\n",
              "      <td>34.42</td>\n",
              "      <td>19286</td>\n",
              "      <td>abw</td>\n",
              "      <td>Aruba</td>\n",
              "      <td>america</td>\n",
              "    </tr>\n",
              "    <tr>\n",
              "      <th>4</th>\n",
              "      <td>abw</td>\n",
              "      <td>1804</td>\n",
              "      <td>833</td>\n",
              "      <td>34.42</td>\n",
              "      <td>19286</td>\n",
              "      <td>abw</td>\n",
              "      <td>Aruba</td>\n",
              "      <td>america</td>\n",
              "    </tr>\n",
              "  </tbody>\n",
              "</table>\n",
              "</div>"
            ],
            "text/plain": [
              "   geo  time  income_per_person_gdppercapita_ppp_inflation_adjusted  \\\n",
              "0  abw  1800                                                833       \n",
              "1  abw  1801                                                833       \n",
              "2  abw  1802                                                833       \n",
              "3  abw  1803                                                833       \n",
              "4  abw  1804                                                833       \n",
              "\n",
              "   life_expectancy_years  population_total country   name world_6region  \n",
              "0                  34.42             19286     abw  Aruba       america  \n",
              "1                  34.42             19286     abw  Aruba       america  \n",
              "2                  34.42             19286     abw  Aruba       america  \n",
              "3                  34.42             19286     abw  Aruba       america  \n",
              "4                  34.42             19286     abw  Aruba       america  "
            ]
          },
          "metadata": {
            "tags": []
          },
          "execution_count": 22
        }
      ]
    },
    {
      "metadata": {
        "id": "CwpsEDhIeS-a",
        "colab_type": "code",
        "colab": {}
      },
      "cell_type": "code",
      "source": [
        "df1 = pd.merge(df1, population)"
      ],
      "execution_count": 0,
      "outputs": []
    },
    {
      "metadata": {
        "id": "IUF3eAIRdkth",
        "colab_type": "code",
        "colab": {
          "base_uri": "https://localhost:8080/",
          "height": 34
        },
        "outputId": "079aec53-0192-4968-abed-3c011d4155ba"
      },
      "cell_type": "code",
      "source": [
        "# drop and rename\n",
        "df1 = pd.merge(df1, entities[variables], how='inner', left_on='geo', \n",
        "               right_on='country')\n",
        "\n",
        "df1.drop(columns=['geo', 'country'], inplace = True)\n",
        "\n",
        "df1.rename(columns={\n",
        "    'time': 'year', \n",
        "    'income_per_person_gdppercapita_ppp_inflation_adjusted': 'income',\n",
        "    'life_expectancy_years': 'lifespan',\n",
        "    'population_total': 'population',\n",
        "    'name': 'country',\n",
        "    'world_6region': 'region'\n",
        "}, inplace=True)\n",
        "\n",
        "df1.shape"
      ],
      "execution_count": 24,
      "outputs": [
        {
          "output_type": "execute_result",
          "data": {
            "text/plain": [
              "(41790, 6)"
            ]
          },
          "metadata": {
            "tags": []
          },
          "execution_count": 24
        }
      ]
    },
    {
      "metadata": {
        "id": "4c5yn5agelG9",
        "colab_type": "code",
        "colab": {
          "base_uri": "https://localhost:8080/",
          "height": 195
        },
        "outputId": "6384ca6b-7243-4062-9abe-faa51ce4667e"
      },
      "cell_type": "code",
      "source": [
        "df1.head()"
      ],
      "execution_count": 25,
      "outputs": [
        {
          "output_type": "execute_result",
          "data": {
            "text/html": [
              "<div>\n",
              "<style scoped>\n",
              "    .dataframe tbody tr th:only-of-type {\n",
              "        vertical-align: middle;\n",
              "    }\n",
              "\n",
              "    .dataframe tbody tr th {\n",
              "        vertical-align: top;\n",
              "    }\n",
              "\n",
              "    .dataframe thead th {\n",
              "        text-align: right;\n",
              "    }\n",
              "</style>\n",
              "<table border=\"1\" class=\"dataframe\">\n",
              "  <thead>\n",
              "    <tr style=\"text-align: right;\">\n",
              "      <th></th>\n",
              "      <th>year</th>\n",
              "      <th>income</th>\n",
              "      <th>lifespan</th>\n",
              "      <th>population</th>\n",
              "      <th>country</th>\n",
              "      <th>region</th>\n",
              "    </tr>\n",
              "  </thead>\n",
              "  <tbody>\n",
              "    <tr>\n",
              "      <th>0</th>\n",
              "      <td>1800</td>\n",
              "      <td>833</td>\n",
              "      <td>34.42</td>\n",
              "      <td>19286</td>\n",
              "      <td>Aruba</td>\n",
              "      <td>america</td>\n",
              "    </tr>\n",
              "    <tr>\n",
              "      <th>1</th>\n",
              "      <td>1801</td>\n",
              "      <td>833</td>\n",
              "      <td>34.42</td>\n",
              "      <td>19286</td>\n",
              "      <td>Aruba</td>\n",
              "      <td>america</td>\n",
              "    </tr>\n",
              "    <tr>\n",
              "      <th>2</th>\n",
              "      <td>1802</td>\n",
              "      <td>833</td>\n",
              "      <td>34.42</td>\n",
              "      <td>19286</td>\n",
              "      <td>Aruba</td>\n",
              "      <td>america</td>\n",
              "    </tr>\n",
              "    <tr>\n",
              "      <th>3</th>\n",
              "      <td>1803</td>\n",
              "      <td>833</td>\n",
              "      <td>34.42</td>\n",
              "      <td>19286</td>\n",
              "      <td>Aruba</td>\n",
              "      <td>america</td>\n",
              "    </tr>\n",
              "    <tr>\n",
              "      <th>4</th>\n",
              "      <td>1804</td>\n",
              "      <td>833</td>\n",
              "      <td>34.42</td>\n",
              "      <td>19286</td>\n",
              "      <td>Aruba</td>\n",
              "      <td>america</td>\n",
              "    </tr>\n",
              "  </tbody>\n",
              "</table>\n",
              "</div>"
            ],
            "text/plain": [
              "   year  income  lifespan  population country   region\n",
              "0  1800     833     34.42       19286   Aruba  america\n",
              "1  1801     833     34.42       19286   Aruba  america\n",
              "2  1802     833     34.42       19286   Aruba  america\n",
              "3  1803     833     34.42       19286   Aruba  america\n",
              "4  1804     833     34.42       19286   Aruba  america"
            ]
          },
          "metadata": {
            "tags": []
          },
          "execution_count": 25
        }
      ]
    },
    {
      "metadata": {
        "id": "dbLg4S9xeoy3",
        "colab_type": "code",
        "colab": {
          "base_uri": "https://localhost:8080/",
          "height": 166
        },
        "outputId": "875a5523-857d-43d6-e4b2-6a26b101a05c"
      },
      "cell_type": "code",
      "source": [
        "df1.describe(exclude=[np.number])"
      ],
      "execution_count": 27,
      "outputs": [
        {
          "output_type": "execute_result",
          "data": {
            "text/html": [
              "<div>\n",
              "<style scoped>\n",
              "    .dataframe tbody tr th:only-of-type {\n",
              "        vertical-align: middle;\n",
              "    }\n",
              "\n",
              "    .dataframe tbody tr th {\n",
              "        vertical-align: top;\n",
              "    }\n",
              "\n",
              "    .dataframe thead th {\n",
              "        text-align: right;\n",
              "    }\n",
              "</style>\n",
              "<table border=\"1\" class=\"dataframe\">\n",
              "  <thead>\n",
              "    <tr style=\"text-align: right;\">\n",
              "      <th></th>\n",
              "      <th>country</th>\n",
              "      <th>region</th>\n",
              "    </tr>\n",
              "  </thead>\n",
              "  <tbody>\n",
              "    <tr>\n",
              "      <th>count</th>\n",
              "      <td>41790</td>\n",
              "      <td>41790</td>\n",
              "    </tr>\n",
              "    <tr>\n",
              "      <th>unique</th>\n",
              "      <td>194</td>\n",
              "      <td>6</td>\n",
              "    </tr>\n",
              "    <tr>\n",
              "      <th>top</th>\n",
              "      <td>Italy</td>\n",
              "      <td>europe_central_asia</td>\n",
              "    </tr>\n",
              "    <tr>\n",
              "      <th>freq</th>\n",
              "      <td>219</td>\n",
              "      <td>10991</td>\n",
              "    </tr>\n",
              "  </tbody>\n",
              "</table>\n",
              "</div>"
            ],
            "text/plain": [
              "       country               region\n",
              "count    41790                41790\n",
              "unique     194                    6\n",
              "top      Italy  europe_central_asia\n",
              "freq       219                10991"
            ]
          },
          "metadata": {
            "tags": []
          },
          "execution_count": 27
        }
      ]
    },
    {
      "metadata": {
        "id": "qF650OSWe7uc",
        "colab_type": "code",
        "colab": {
          "base_uri": "https://localhost:8080/",
          "height": 689
        },
        "outputId": "746d5e3b-459e-4338-f3de-0581a3b84240"
      },
      "cell_type": "code",
      "source": [
        "df1.country.unique()"
      ],
      "execution_count": 29,
      "outputs": [
        {
          "output_type": "execute_result",
          "data": {
            "text/plain": [
              "array(['Aruba', 'Afghanistan', 'Angola', 'Albania', 'Andorra',\n",
              "       'United Arab Emirates', 'Argentina', 'Armenia',\n",
              "       'Antigua and Barbuda', 'Australia', 'Austria', 'Azerbaijan',\n",
              "       'Burundi', 'Belgium', 'Benin', 'Burkina Faso', 'Bangladesh',\n",
              "       'Bulgaria', 'Bahrain', 'Bahamas', 'Bosnia and Herzegovina',\n",
              "       'Belarus', 'Belize', 'Bermuda', 'Bolivia', 'Brazil', 'Barbados',\n",
              "       'Brunei', 'Bhutan', 'Botswana', 'Central African Republic',\n",
              "       'Canada', 'Switzerland', 'Chile', 'China', \"Cote d'Ivoire\",\n",
              "       'Cameroon', 'Congo, Dem. Rep.', 'Congo, Rep.', 'Colombia',\n",
              "       'Comoros', 'Cape Verde', 'Costa Rica', 'Cuba', 'Cyprus',\n",
              "       'Czech Republic', 'Germany', 'Djibouti', 'Dominica', 'Denmark',\n",
              "       'Dominican Republic', 'Algeria', 'Ecuador', 'Egypt', 'Eritrea',\n",
              "       'Spain', 'Estonia', 'Ethiopia', 'Finland', 'Fiji', 'France',\n",
              "       'Micronesia, Fed. Sts.', 'Gabon', 'United Kingdom', 'Georgia',\n",
              "       'Ghana', 'Guinea', 'Gambia', 'Guinea-Bissau', 'Equatorial Guinea',\n",
              "       'Greece', 'Grenada', 'Greenland', 'Guatemala', 'Guyana',\n",
              "       'Hong Kong, China', 'Honduras', 'Croatia', 'Haiti', 'Hungary',\n",
              "       'Indonesia', 'India', 'Ireland', 'Iran', 'Iraq', 'Iceland',\n",
              "       'Israel', 'Italy', 'Jamaica', 'Jordan', 'Japan', 'Kazakhstan',\n",
              "       'Kenya', 'Kyrgyz Republic', 'Cambodia', 'Kiribati', 'South Korea',\n",
              "       'Kuwait', 'Lao', 'Lebanon', 'Liberia', 'Libya', 'St. Lucia',\n",
              "       'Sri Lanka', 'Lesotho', 'Lithuania', 'Luxembourg', 'Latvia',\n",
              "       'Macao, China', 'Morocco', 'Moldova', 'Madagascar', 'Maldives',\n",
              "       'Mexico', 'Marshall Islands', 'Macedonia, FYR', 'Mali', 'Malta',\n",
              "       'Myanmar', 'Montenegro', 'Mongolia', 'Mozambique', 'Mauritania',\n",
              "       'Mauritius', 'Malawi', 'Malaysia', 'Namibia', 'Niger', 'Nigeria',\n",
              "       'Nicaragua', 'Netherlands', 'Norway', 'Nepal', 'New Zealand',\n",
              "       'Oman', 'Pakistan', 'Panama', 'Peru', 'Philippines',\n",
              "       'Papua New Guinea', 'Poland', 'Puerto Rico', 'North Korea',\n",
              "       'Portugal', 'Paraguay', 'Palestine', 'Qatar', 'Romania', 'Russia',\n",
              "       'Rwanda', 'Saudi Arabia', 'Sudan', 'Senegal', 'Singapore',\n",
              "       'Solomon Islands', 'Sierra Leone', 'El Salvador', 'Somalia',\n",
              "       'Serbia', 'South Sudan', 'Sao Tome and Principe', 'Suriname',\n",
              "       'Slovak Republic', 'Slovenia', 'Sweden', 'Swaziland', 'Seychelles',\n",
              "       'Syria', 'Chad', 'Togo', 'Thailand', 'Tajikistan', 'Turkmenistan',\n",
              "       'Timor-Leste', 'Tonga', 'Trinidad and Tobago', 'Tunisia', 'Turkey',\n",
              "       'Taiwan', 'Tanzania', 'Uganda', 'Ukraine', 'Uruguay',\n",
              "       'United States', 'Uzbekistan', 'St. Vincent and the Grenadines',\n",
              "       'Venezuela', 'Vietnam', 'Vanuatu', 'Samoa', 'Yemen',\n",
              "       'South Africa', 'Zambia', 'Zimbabwe'], dtype=object)"
            ]
          },
          "metadata": {
            "tags": []
          },
          "execution_count": 29
        }
      ]
    },
    {
      "metadata": {
        "id": "P9A0mufcfkWd",
        "colab_type": "code",
        "colab": {
          "base_uri": "https://localhost:8080/",
          "height": 1058
        },
        "outputId": "73e8b390-829e-4e48-acdb-a4c667a159ab"
      },
      "cell_type": "code",
      "source": [
        "df1.country == 'United States'"
      ],
      "execution_count": 31,
      "outputs": [
        {
          "output_type": "execute_result",
          "data": {
            "text/plain": [
              "0        False\n",
              "1        False\n",
              "2        False\n",
              "3        False\n",
              "4        False\n",
              "5        False\n",
              "6        False\n",
              "7        False\n",
              "8        False\n",
              "9        False\n",
              "10       False\n",
              "11       False\n",
              "12       False\n",
              "13       False\n",
              "14       False\n",
              "15       False\n",
              "16       False\n",
              "17       False\n",
              "18       False\n",
              "19       False\n",
              "20       False\n",
              "21       False\n",
              "22       False\n",
              "23       False\n",
              "24       False\n",
              "25       False\n",
              "26       False\n",
              "27       False\n",
              "28       False\n",
              "29       False\n",
              "         ...  \n",
              "41760    False\n",
              "41761    False\n",
              "41762    False\n",
              "41763    False\n",
              "41764    False\n",
              "41765    False\n",
              "41766    False\n",
              "41767    False\n",
              "41768    False\n",
              "41769    False\n",
              "41770    False\n",
              "41771    False\n",
              "41772    False\n",
              "41773    False\n",
              "41774    False\n",
              "41775    False\n",
              "41776    False\n",
              "41777    False\n",
              "41778    False\n",
              "41779    False\n",
              "41780    False\n",
              "41781    False\n",
              "41782    False\n",
              "41783    False\n",
              "41784    False\n",
              "41785    False\n",
              "41786    False\n",
              "41787    False\n",
              "41788    False\n",
              "41789    False\n",
              "Name: country, Length: 41790, dtype: bool"
            ]
          },
          "metadata": {
            "tags": []
          },
          "execution_count": 31
        }
      ]
    },
    {
      "metadata": {
        "id": "7Yuat41ufr0r",
        "colab_type": "code",
        "colab": {
          "base_uri": "https://localhost:8080/",
          "height": 1882
        },
        "outputId": "4e7849d2-7d04-404d-e27c-98039d7c8ee8"
      },
      "cell_type": "code",
      "source": [
        "df1[df1.country == 'United States'] # boolean indexing, aka return true"
      ],
      "execution_count": 32,
      "outputs": [
        {
          "output_type": "execute_result",
          "data": {
            "text/html": [
              "<div>\n",
              "<style scoped>\n",
              "    .dataframe tbody tr th:only-of-type {\n",
              "        vertical-align: middle;\n",
              "    }\n",
              "\n",
              "    .dataframe tbody tr th {\n",
              "        vertical-align: top;\n",
              "    }\n",
              "\n",
              "    .dataframe thead th {\n",
              "        text-align: right;\n",
              "    }\n",
              "</style>\n",
              "<table border=\"1\" class=\"dataframe\">\n",
              "  <thead>\n",
              "    <tr style=\"text-align: right;\">\n",
              "      <th></th>\n",
              "      <th>year</th>\n",
              "      <th>income</th>\n",
              "      <th>lifespan</th>\n",
              "      <th>population</th>\n",
              "      <th>country</th>\n",
              "      <th>region</th>\n",
              "    </tr>\n",
              "  </thead>\n",
              "  <tbody>\n",
              "    <tr>\n",
              "      <th>39381</th>\n",
              "      <td>1800</td>\n",
              "      <td>2127</td>\n",
              "      <td>39.41</td>\n",
              "      <td>6801854</td>\n",
              "      <td>United States</td>\n",
              "      <td>america</td>\n",
              "    </tr>\n",
              "    <tr>\n",
              "      <th>39382</th>\n",
              "      <td>1801</td>\n",
              "      <td>2167</td>\n",
              "      <td>39.41</td>\n",
              "      <td>6933517</td>\n",
              "      <td>United States</td>\n",
              "      <td>america</td>\n",
              "    </tr>\n",
              "    <tr>\n",
              "      <th>39383</th>\n",
              "      <td>1802</td>\n",
              "      <td>2202</td>\n",
              "      <td>39.41</td>\n",
              "      <td>7067728</td>\n",
              "      <td>United States</td>\n",
              "      <td>america</td>\n",
              "    </tr>\n",
              "    <tr>\n",
              "      <th>39384</th>\n",
              "      <td>1803</td>\n",
              "      <td>2166</td>\n",
              "      <td>39.41</td>\n",
              "      <td>7204538</td>\n",
              "      <td>United States</td>\n",
              "      <td>america</td>\n",
              "    </tr>\n",
              "    <tr>\n",
              "      <th>39385</th>\n",
              "      <td>1804</td>\n",
              "      <td>2165</td>\n",
              "      <td>39.41</td>\n",
              "      <td>7343995</td>\n",
              "      <td>United States</td>\n",
              "      <td>america</td>\n",
              "    </tr>\n",
              "    <tr>\n",
              "      <th>39386</th>\n",
              "      <td>1805</td>\n",
              "      <td>2209</td>\n",
              "      <td>39.41</td>\n",
              "      <td>7486152</td>\n",
              "      <td>United States</td>\n",
              "      <td>america</td>\n",
              "    </tr>\n",
              "    <tr>\n",
              "      <th>39387</th>\n",
              "      <td>1806</td>\n",
              "      <td>2251</td>\n",
              "      <td>39.41</td>\n",
              "      <td>7631061</td>\n",
              "      <td>United States</td>\n",
              "      <td>america</td>\n",
              "    </tr>\n",
              "    <tr>\n",
              "      <th>39388</th>\n",
              "      <td>1807</td>\n",
              "      <td>2273</td>\n",
              "      <td>39.41</td>\n",
              "      <td>7778775</td>\n",
              "      <td>United States</td>\n",
              "      <td>america</td>\n",
              "    </tr>\n",
              "    <tr>\n",
              "      <th>39389</th>\n",
              "      <td>1808</td>\n",
              "      <td>2113</td>\n",
              "      <td>39.41</td>\n",
              "      <td>7929348</td>\n",
              "      <td>United States</td>\n",
              "      <td>america</td>\n",
              "    </tr>\n",
              "    <tr>\n",
              "      <th>39390</th>\n",
              "      <td>1809</td>\n",
              "      <td>2217</td>\n",
              "      <td>39.41</td>\n",
              "      <td>8082836</td>\n",
              "      <td>United States</td>\n",
              "      <td>america</td>\n",
              "    </tr>\n",
              "    <tr>\n",
              "      <th>39391</th>\n",
              "      <td>1810</td>\n",
              "      <td>2282</td>\n",
              "      <td>39.41</td>\n",
              "      <td>8294928</td>\n",
              "      <td>United States</td>\n",
              "      <td>america</td>\n",
              "    </tr>\n",
              "    <tr>\n",
              "      <th>39392</th>\n",
              "      <td>1811</td>\n",
              "      <td>2326</td>\n",
              "      <td>39.41</td>\n",
              "      <td>8461458</td>\n",
              "      <td>United States</td>\n",
              "      <td>america</td>\n",
              "    </tr>\n",
              "    <tr>\n",
              "      <th>39393</th>\n",
              "      <td>1812</td>\n",
              "      <td>2287</td>\n",
              "      <td>39.41</td>\n",
              "      <td>8637266</td>\n",
              "      <td>United States</td>\n",
              "      <td>america</td>\n",
              "    </tr>\n",
              "    <tr>\n",
              "      <th>39394</th>\n",
              "      <td>1813</td>\n",
              "      <td>2312</td>\n",
              "      <td>39.41</td>\n",
              "      <td>8822188</td>\n",
              "      <td>United States</td>\n",
              "      <td>america</td>\n",
              "    </tr>\n",
              "    <tr>\n",
              "      <th>39395</th>\n",
              "      <td>1814</td>\n",
              "      <td>2357</td>\n",
              "      <td>39.41</td>\n",
              "      <td>9016100</td>\n",
              "      <td>United States</td>\n",
              "      <td>america</td>\n",
              "    </tr>\n",
              "    <tr>\n",
              "      <th>39396</th>\n",
              "      <td>1815</td>\n",
              "      <td>2348</td>\n",
              "      <td>39.41</td>\n",
              "      <td>9218879</td>\n",
              "      <td>United States</td>\n",
              "      <td>america</td>\n",
              "    </tr>\n",
              "    <tr>\n",
              "      <th>39397</th>\n",
              "      <td>1816</td>\n",
              "      <td>2253</td>\n",
              "      <td>39.41</td>\n",
              "      <td>9430398</td>\n",
              "      <td>United States</td>\n",
              "      <td>america</td>\n",
              "    </tr>\n",
              "    <tr>\n",
              "      <th>39398</th>\n",
              "      <td>1817</td>\n",
              "      <td>2251</td>\n",
              "      <td>39.41</td>\n",
              "      <td>9650391</td>\n",
              "      <td>United States</td>\n",
              "      <td>america</td>\n",
              "    </tr>\n",
              "    <tr>\n",
              "      <th>39399</th>\n",
              "      <td>1818</td>\n",
              "      <td>2258</td>\n",
              "      <td>39.41</td>\n",
              "      <td>9879049</td>\n",
              "      <td>United States</td>\n",
              "      <td>america</td>\n",
              "    </tr>\n",
              "    <tr>\n",
              "      <th>39400</th>\n",
              "      <td>1819</td>\n",
              "      <td>2254</td>\n",
              "      <td>39.41</td>\n",
              "      <td>10116052</td>\n",
              "      <td>United States</td>\n",
              "      <td>america</td>\n",
              "    </tr>\n",
              "    <tr>\n",
              "      <th>39401</th>\n",
              "      <td>1820</td>\n",
              "      <td>2241</td>\n",
              "      <td>39.41</td>\n",
              "      <td>10361646</td>\n",
              "      <td>United States</td>\n",
              "      <td>america</td>\n",
              "    </tr>\n",
              "    <tr>\n",
              "      <th>39402</th>\n",
              "      <td>1821</td>\n",
              "      <td>2276</td>\n",
              "      <td>39.41</td>\n",
              "      <td>10619707</td>\n",
              "      <td>United States</td>\n",
              "      <td>america</td>\n",
              "    </tr>\n",
              "    <tr>\n",
              "      <th>39403</th>\n",
              "      <td>1822</td>\n",
              "      <td>2339</td>\n",
              "      <td>39.41</td>\n",
              "      <td>10890141</td>\n",
              "      <td>United States</td>\n",
              "      <td>america</td>\n",
              "    </tr>\n",
              "    <tr>\n",
              "      <th>39404</th>\n",
              "      <td>1823</td>\n",
              "      <td>2314</td>\n",
              "      <td>39.41</td>\n",
              "      <td>11172754</td>\n",
              "      <td>United States</td>\n",
              "      <td>america</td>\n",
              "    </tr>\n",
              "    <tr>\n",
              "      <th>39405</th>\n",
              "      <td>1824</td>\n",
              "      <td>2377</td>\n",
              "      <td>39.41</td>\n",
              "      <td>11467399</td>\n",
              "      <td>United States</td>\n",
              "      <td>america</td>\n",
              "    </tr>\n",
              "    <tr>\n",
              "      <th>39406</th>\n",
              "      <td>1825</td>\n",
              "      <td>2430</td>\n",
              "      <td>39.41</td>\n",
              "      <td>11773972</td>\n",
              "      <td>United States</td>\n",
              "      <td>america</td>\n",
              "    </tr>\n",
              "    <tr>\n",
              "      <th>39407</th>\n",
              "      <td>1826</td>\n",
              "      <td>2447</td>\n",
              "      <td>39.41</td>\n",
              "      <td>12092272</td>\n",
              "      <td>United States</td>\n",
              "      <td>america</td>\n",
              "    </tr>\n",
              "    <tr>\n",
              "      <th>39408</th>\n",
              "      <td>1827</td>\n",
              "      <td>2457</td>\n",
              "      <td>39.41</td>\n",
              "      <td>12422142</td>\n",
              "      <td>United States</td>\n",
              "      <td>america</td>\n",
              "    </tr>\n",
              "    <tr>\n",
              "      <th>39409</th>\n",
              "      <td>1828</td>\n",
              "      <td>2458</td>\n",
              "      <td>39.41</td>\n",
              "      <td>12763468</td>\n",
              "      <td>United States</td>\n",
              "      <td>america</td>\n",
              "    </tr>\n",
              "    <tr>\n",
              "      <th>39410</th>\n",
              "      <td>1829</td>\n",
              "      <td>2377</td>\n",
              "      <td>39.41</td>\n",
              "      <td>13116042</td>\n",
              "      <td>United States</td>\n",
              "      <td>america</td>\n",
              "    </tr>\n",
              "    <tr>\n",
              "      <th>...</th>\n",
              "      <td>...</td>\n",
              "      <td>...</td>\n",
              "      <td>...</td>\n",
              "      <td>...</td>\n",
              "      <td>...</td>\n",
              "      <td>...</td>\n",
              "    </tr>\n",
              "    <tr>\n",
              "      <th>39570</th>\n",
              "      <td>1989</td>\n",
              "      <td>36830</td>\n",
              "      <td>75.16</td>\n",
              "      <td>250113187</td>\n",
              "      <td>United States</td>\n",
              "      <td>america</td>\n",
              "    </tr>\n",
              "    <tr>\n",
              "      <th>39571</th>\n",
              "      <td>1990</td>\n",
              "      <td>37062</td>\n",
              "      <td>75.40</td>\n",
              "      <td>252529950</td>\n",
              "      <td>United States</td>\n",
              "      <td>america</td>\n",
              "    </tr>\n",
              "    <tr>\n",
              "      <th>39572</th>\n",
              "      <td>1991</td>\n",
              "      <td>36543</td>\n",
              "      <td>75.55</td>\n",
              "      <td>254974819</td>\n",
              "      <td>United States</td>\n",
              "      <td>america</td>\n",
              "    </tr>\n",
              "    <tr>\n",
              "      <th>39573</th>\n",
              "      <td>1992</td>\n",
              "      <td>37321</td>\n",
              "      <td>75.71</td>\n",
              "      <td>257454273</td>\n",
              "      <td>United States</td>\n",
              "      <td>america</td>\n",
              "    </tr>\n",
              "    <tr>\n",
              "      <th>39574</th>\n",
              "      <td>1993</td>\n",
              "      <td>37844</td>\n",
              "      <td>75.72</td>\n",
              "      <td>260020186</td>\n",
              "      <td>United States</td>\n",
              "      <td>america</td>\n",
              "    </tr>\n",
              "    <tr>\n",
              "      <th>39575</th>\n",
              "      <td>1994</td>\n",
              "      <td>38892</td>\n",
              "      <td>75.79</td>\n",
              "      <td>262741566</td>\n",
              "      <td>United States</td>\n",
              "      <td>america</td>\n",
              "    </tr>\n",
              "    <tr>\n",
              "      <th>39576</th>\n",
              "      <td>1995</td>\n",
              "      <td>39476</td>\n",
              "      <td>75.91</td>\n",
              "      <td>265658849</td>\n",
              "      <td>United States</td>\n",
              "      <td>america</td>\n",
              "    </tr>\n",
              "    <tr>\n",
              "      <th>39577</th>\n",
              "      <td>1996</td>\n",
              "      <td>40501</td>\n",
              "      <td>76.24</td>\n",
              "      <td>268803424</td>\n",
              "      <td>United States</td>\n",
              "      <td>america</td>\n",
              "    </tr>\n",
              "    <tr>\n",
              "      <th>39578</th>\n",
              "      <td>1997</td>\n",
              "      <td>41812</td>\n",
              "      <td>76.60</td>\n",
              "      <td>272136551</td>\n",
              "      <td>United States</td>\n",
              "      <td>america</td>\n",
              "    </tr>\n",
              "    <tr>\n",
              "      <th>39579</th>\n",
              "      <td>1998</td>\n",
              "      <td>43166</td>\n",
              "      <td>76.74</td>\n",
              "      <td>275542603</td>\n",
              "      <td>United States</td>\n",
              "      <td>america</td>\n",
              "    </tr>\n",
              "    <tr>\n",
              "      <th>39580</th>\n",
              "      <td>1999</td>\n",
              "      <td>44673</td>\n",
              "      <td>76.78</td>\n",
              "      <td>278862277</td>\n",
              "      <td>United States</td>\n",
              "      <td>america</td>\n",
              "    </tr>\n",
              "    <tr>\n",
              "      <th>39581</th>\n",
              "      <td>2000</td>\n",
              "      <td>45986</td>\n",
              "      <td>76.90</td>\n",
              "      <td>281982778</td>\n",
              "      <td>United States</td>\n",
              "      <td>america</td>\n",
              "    </tr>\n",
              "    <tr>\n",
              "      <th>39582</th>\n",
              "      <td>2001</td>\n",
              "      <td>45978</td>\n",
              "      <td>76.99</td>\n",
              "      <td>284852391</td>\n",
              "      <td>United States</td>\n",
              "      <td>america</td>\n",
              "    </tr>\n",
              "    <tr>\n",
              "      <th>39583</th>\n",
              "      <td>2002</td>\n",
              "      <td>46367</td>\n",
              "      <td>77.12</td>\n",
              "      <td>287506847</td>\n",
              "      <td>United States</td>\n",
              "      <td>america</td>\n",
              "    </tr>\n",
              "    <tr>\n",
              "      <th>39584</th>\n",
              "      <td>2003</td>\n",
              "      <td>47260</td>\n",
              "      <td>77.27</td>\n",
              "      <td>290027624</td>\n",
              "      <td>United States</td>\n",
              "      <td>america</td>\n",
              "    </tr>\n",
              "    <tr>\n",
              "      <th>39585</th>\n",
              "      <td>2004</td>\n",
              "      <td>48597</td>\n",
              "      <td>77.49</td>\n",
              "      <td>292539324</td>\n",
              "      <td>United States</td>\n",
              "      <td>america</td>\n",
              "    </tr>\n",
              "    <tr>\n",
              "      <th>39586</th>\n",
              "      <td>2005</td>\n",
              "      <td>49762</td>\n",
              "      <td>77.65</td>\n",
              "      <td>295129501</td>\n",
              "      <td>United States</td>\n",
              "      <td>america</td>\n",
              "    </tr>\n",
              "    <tr>\n",
              "      <th>39587</th>\n",
              "      <td>2006</td>\n",
              "      <td>50599</td>\n",
              "      <td>77.91</td>\n",
              "      <td>297827356</td>\n",
              "      <td>United States</td>\n",
              "      <td>america</td>\n",
              "    </tr>\n",
              "    <tr>\n",
              "      <th>39588</th>\n",
              "      <td>2007</td>\n",
              "      <td>51011</td>\n",
              "      <td>78.12</td>\n",
              "      <td>300595175</td>\n",
              "      <td>United States</td>\n",
              "      <td>america</td>\n",
              "    </tr>\n",
              "    <tr>\n",
              "      <th>39589</th>\n",
              "      <td>2008</td>\n",
              "      <td>50384</td>\n",
              "      <td>78.33</td>\n",
              "      <td>303374067</td>\n",
              "      <td>United States</td>\n",
              "      <td>america</td>\n",
              "    </tr>\n",
              "    <tr>\n",
              "      <th>39590</th>\n",
              "      <td>2009</td>\n",
              "      <td>48558</td>\n",
              "      <td>78.56</td>\n",
              "      <td>306076362</td>\n",
              "      <td>United States</td>\n",
              "      <td>america</td>\n",
              "    </tr>\n",
              "    <tr>\n",
              "      <th>39591</th>\n",
              "      <td>2010</td>\n",
              "      <td>49373</td>\n",
              "      <td>78.74</td>\n",
              "      <td>308641391</td>\n",
              "      <td>United States</td>\n",
              "      <td>america</td>\n",
              "    </tr>\n",
              "    <tr>\n",
              "      <th>39592</th>\n",
              "      <td>2011</td>\n",
              "      <td>49791</td>\n",
              "      <td>78.83</td>\n",
              "      <td>311051373</td>\n",
              "      <td>United States</td>\n",
              "      <td>america</td>\n",
              "    </tr>\n",
              "    <tr>\n",
              "      <th>39593</th>\n",
              "      <td>2012</td>\n",
              "      <td>50520</td>\n",
              "      <td>78.91</td>\n",
              "      <td>313335423</td>\n",
              "      <td>United States</td>\n",
              "      <td>america</td>\n",
              "    </tr>\n",
              "    <tr>\n",
              "      <th>39594</th>\n",
              "      <td>2013</td>\n",
              "      <td>51008</td>\n",
              "      <td>78.93</td>\n",
              "      <td>315536676</td>\n",
              "      <td>United States</td>\n",
              "      <td>america</td>\n",
              "    </tr>\n",
              "    <tr>\n",
              "      <th>39595</th>\n",
              "      <td>2014</td>\n",
              "      <td>51831</td>\n",
              "      <td>78.92</td>\n",
              "      <td>317718779</td>\n",
              "      <td>United States</td>\n",
              "      <td>america</td>\n",
              "    </tr>\n",
              "    <tr>\n",
              "      <th>39596</th>\n",
              "      <td>2015</td>\n",
              "      <td>52790</td>\n",
              "      <td>78.85</td>\n",
              "      <td>319929162</td>\n",
              "      <td>United States</td>\n",
              "      <td>america</td>\n",
              "    </tr>\n",
              "    <tr>\n",
              "      <th>39597</th>\n",
              "      <td>2016</td>\n",
              "      <td>53273</td>\n",
              "      <td>78.84</td>\n",
              "      <td>322179605</td>\n",
              "      <td>United States</td>\n",
              "      <td>america</td>\n",
              "    </tr>\n",
              "    <tr>\n",
              "      <th>39598</th>\n",
              "      <td>2017</td>\n",
              "      <td>54163</td>\n",
              "      <td>78.99</td>\n",
              "      <td>324459463</td>\n",
              "      <td>United States</td>\n",
              "      <td>america</td>\n",
              "    </tr>\n",
              "    <tr>\n",
              "      <th>39599</th>\n",
              "      <td>2018</td>\n",
              "      <td>54898</td>\n",
              "      <td>79.14</td>\n",
              "      <td>326766748</td>\n",
              "      <td>United States</td>\n",
              "      <td>america</td>\n",
              "    </tr>\n",
              "  </tbody>\n",
              "</table>\n",
              "<p>219 rows × 6 columns</p>\n",
              "</div>"
            ],
            "text/plain": [
              "       year  income  lifespan  population        country   region\n",
              "39381  1800    2127     39.41     6801854  United States  america\n",
              "39382  1801    2167     39.41     6933517  United States  america\n",
              "39383  1802    2202     39.41     7067728  United States  america\n",
              "39384  1803    2166     39.41     7204538  United States  america\n",
              "39385  1804    2165     39.41     7343995  United States  america\n",
              "39386  1805    2209     39.41     7486152  United States  america\n",
              "39387  1806    2251     39.41     7631061  United States  america\n",
              "39388  1807    2273     39.41     7778775  United States  america\n",
              "39389  1808    2113     39.41     7929348  United States  america\n",
              "39390  1809    2217     39.41     8082836  United States  america\n",
              "39391  1810    2282     39.41     8294928  United States  america\n",
              "39392  1811    2326     39.41     8461458  United States  america\n",
              "39393  1812    2287     39.41     8637266  United States  america\n",
              "39394  1813    2312     39.41     8822188  United States  america\n",
              "39395  1814    2357     39.41     9016100  United States  america\n",
              "39396  1815    2348     39.41     9218879  United States  america\n",
              "39397  1816    2253     39.41     9430398  United States  america\n",
              "39398  1817    2251     39.41     9650391  United States  america\n",
              "39399  1818    2258     39.41     9879049  United States  america\n",
              "39400  1819    2254     39.41    10116052  United States  america\n",
              "39401  1820    2241     39.41    10361646  United States  america\n",
              "39402  1821    2276     39.41    10619707  United States  america\n",
              "39403  1822    2339     39.41    10890141  United States  america\n",
              "39404  1823    2314     39.41    11172754  United States  america\n",
              "39405  1824    2377     39.41    11467399  United States  america\n",
              "39406  1825    2430     39.41    11773972  United States  america\n",
              "39407  1826    2447     39.41    12092272  United States  america\n",
              "39408  1827    2457     39.41    12422142  United States  america\n",
              "39409  1828    2458     39.41    12763468  United States  america\n",
              "39410  1829    2377     39.41    13116042  United States  america\n",
              "...     ...     ...       ...         ...            ...      ...\n",
              "39570  1989   36830     75.16   250113187  United States  america\n",
              "39571  1990   37062     75.40   252529950  United States  america\n",
              "39572  1991   36543     75.55   254974819  United States  america\n",
              "39573  1992   37321     75.71   257454273  United States  america\n",
              "39574  1993   37844     75.72   260020186  United States  america\n",
              "39575  1994   38892     75.79   262741566  United States  america\n",
              "39576  1995   39476     75.91   265658849  United States  america\n",
              "39577  1996   40501     76.24   268803424  United States  america\n",
              "39578  1997   41812     76.60   272136551  United States  america\n",
              "39579  1998   43166     76.74   275542603  United States  america\n",
              "39580  1999   44673     76.78   278862277  United States  america\n",
              "39581  2000   45986     76.90   281982778  United States  america\n",
              "39582  2001   45978     76.99   284852391  United States  america\n",
              "39583  2002   46367     77.12   287506847  United States  america\n",
              "39584  2003   47260     77.27   290027624  United States  america\n",
              "39585  2004   48597     77.49   292539324  United States  america\n",
              "39586  2005   49762     77.65   295129501  United States  america\n",
              "39587  2006   50599     77.91   297827356  United States  america\n",
              "39588  2007   51011     78.12   300595175  United States  america\n",
              "39589  2008   50384     78.33   303374067  United States  america\n",
              "39590  2009   48558     78.56   306076362  United States  america\n",
              "39591  2010   49373     78.74   308641391  United States  america\n",
              "39592  2011   49791     78.83   311051373  United States  america\n",
              "39593  2012   50520     78.91   313335423  United States  america\n",
              "39594  2013   51008     78.93   315536676  United States  america\n",
              "39595  2014   51831     78.92   317718779  United States  america\n",
              "39596  2015   52790     78.85   319929162  United States  america\n",
              "39597  2016   53273     78.84   322179605  United States  america\n",
              "39598  2017   54163     78.99   324459463  United States  america\n",
              "39599  2018   54898     79.14   326766748  United States  america\n",
              "\n",
              "[219 rows x 6 columns]"
            ]
          },
          "metadata": {
            "tags": []
          },
          "execution_count": 32
        }
      ]
    },
    {
      "metadata": {
        "id": "gspJjSV2fx0H",
        "colab_type": "code",
        "colab": {
          "base_uri": "https://localhost:8080/",
          "height": 136
        },
        "outputId": "74f8fa04-e9a9-4972-fcf6-42441feeda55"
      },
      "cell_type": "code",
      "source": [
        "usa = df1[df1.country=='United States']\n",
        "usa[usa.year.isin([1818, 1918, 2018])]"
      ],
      "execution_count": 34,
      "outputs": [
        {
          "output_type": "execute_result",
          "data": {
            "text/html": [
              "<div>\n",
              "<style scoped>\n",
              "    .dataframe tbody tr th:only-of-type {\n",
              "        vertical-align: middle;\n",
              "    }\n",
              "\n",
              "    .dataframe tbody tr th {\n",
              "        vertical-align: top;\n",
              "    }\n",
              "\n",
              "    .dataframe thead th {\n",
              "        text-align: right;\n",
              "    }\n",
              "</style>\n",
              "<table border=\"1\" class=\"dataframe\">\n",
              "  <thead>\n",
              "    <tr style=\"text-align: right;\">\n",
              "      <th></th>\n",
              "      <th>year</th>\n",
              "      <th>income</th>\n",
              "      <th>lifespan</th>\n",
              "      <th>population</th>\n",
              "      <th>country</th>\n",
              "      <th>region</th>\n",
              "    </tr>\n",
              "  </thead>\n",
              "  <tbody>\n",
              "    <tr>\n",
              "      <th>39399</th>\n",
              "      <td>1818</td>\n",
              "      <td>2258</td>\n",
              "      <td>39.41</td>\n",
              "      <td>9879049</td>\n",
              "      <td>United States</td>\n",
              "      <td>america</td>\n",
              "    </tr>\n",
              "    <tr>\n",
              "      <th>39499</th>\n",
              "      <td>1918</td>\n",
              "      <td>9371</td>\n",
              "      <td>47.18</td>\n",
              "      <td>106721812</td>\n",
              "      <td>United States</td>\n",
              "      <td>america</td>\n",
              "    </tr>\n",
              "    <tr>\n",
              "      <th>39599</th>\n",
              "      <td>2018</td>\n",
              "      <td>54898</td>\n",
              "      <td>79.14</td>\n",
              "      <td>326766748</td>\n",
              "      <td>United States</td>\n",
              "      <td>america</td>\n",
              "    </tr>\n",
              "  </tbody>\n",
              "</table>\n",
              "</div>"
            ],
            "text/plain": [
              "       year  income  lifespan  population        country   region\n",
              "39399  1818    2258     39.41     9879049  United States  america\n",
              "39499  1918    9371     47.18   106721812  United States  america\n",
              "39599  2018   54898     79.14   326766748  United States  america"
            ]
          },
          "metadata": {
            "tags": []
          },
          "execution_count": 34
        }
      ]
    },
    {
      "metadata": {
        "id": "SDmbtDpBf77p",
        "colab_type": "code",
        "colab": {
          "base_uri": "https://localhost:8080/",
          "height": 136
        },
        "outputId": "29c32379-e761-42cb-8d10-cf9bdfa6e2dd"
      },
      "cell_type": "code",
      "source": [
        "china = df1[df1.country=='China']\n",
        "china[china.year.isin([1818,1918,2018])]"
      ],
      "execution_count": 36,
      "outputs": [
        {
          "output_type": "execute_result",
          "data": {
            "text/html": [
              "<div>\n",
              "<style scoped>\n",
              "    .dataframe tbody tr th:only-of-type {\n",
              "        vertical-align: middle;\n",
              "    }\n",
              "\n",
              "    .dataframe tbody tr th {\n",
              "        vertical-align: top;\n",
              "    }\n",
              "\n",
              "    .dataframe thead th {\n",
              "        text-align: right;\n",
              "    }\n",
              "</style>\n",
              "<table border=\"1\" class=\"dataframe\">\n",
              "  <thead>\n",
              "    <tr style=\"text-align: right;\">\n",
              "      <th></th>\n",
              "      <th>year</th>\n",
              "      <th>income</th>\n",
              "      <th>lifespan</th>\n",
              "      <th>population</th>\n",
              "      <th>country</th>\n",
              "      <th>region</th>\n",
              "    </tr>\n",
              "  </thead>\n",
              "  <tbody>\n",
              "    <tr>\n",
              "      <th>7120</th>\n",
              "      <td>1818</td>\n",
              "      <td>985</td>\n",
              "      <td>32.00</td>\n",
              "      <td>374161494</td>\n",
              "      <td>China</td>\n",
              "      <td>east_asia_pacific</td>\n",
              "    </tr>\n",
              "    <tr>\n",
              "      <th>7220</th>\n",
              "      <td>1918</td>\n",
              "      <td>989</td>\n",
              "      <td>22.13</td>\n",
              "      <td>462444535</td>\n",
              "      <td>China</td>\n",
              "      <td>east_asia_pacific</td>\n",
              "    </tr>\n",
              "    <tr>\n",
              "      <th>7320</th>\n",
              "      <td>2018</td>\n",
              "      <td>16018</td>\n",
              "      <td>76.92</td>\n",
              "      <td>1415045928</td>\n",
              "      <td>China</td>\n",
              "      <td>east_asia_pacific</td>\n",
              "    </tr>\n",
              "  </tbody>\n",
              "</table>\n",
              "</div>"
            ],
            "text/plain": [
              "      year  income  lifespan  population country             region\n",
              "7120  1818     985     32.00   374161494   China  east_asia_pacific\n",
              "7220  1918     989     22.13   462444535   China  east_asia_pacific\n",
              "7320  2018   16018     76.92  1415045928   China  east_asia_pacific"
            ]
          },
          "metadata": {
            "tags": []
          },
          "execution_count": 36
        }
      ]
    },
    {
      "metadata": {
        "id": "-lEPBJPOgFNp",
        "colab_type": "code",
        "colab": {}
      },
      "cell_type": "code",
      "source": [
        "this_year = df1[df1.year==2018]"
      ],
      "execution_count": 0,
      "outputs": []
    },
    {
      "metadata": {
        "id": "7_pJr5BcgVwU",
        "colab_type": "code",
        "colab": {
          "base_uri": "https://localhost:8080/",
          "height": 360
        },
        "outputId": "caeb7a2e-5063-4bce-ee7a-2da670814d96"
      },
      "cell_type": "code",
      "source": [
        "print(this_year.shape)\n",
        "this_year.sample(10)"
      ],
      "execution_count": 39,
      "outputs": [
        {
          "output_type": "stream",
          "text": [
            "(188, 6)\n"
          ],
          "name": "stdout"
        },
        {
          "output_type": "execute_result",
          "data": {
            "text/html": [
              "<div>\n",
              "<style scoped>\n",
              "    .dataframe tbody tr th:only-of-type {\n",
              "        vertical-align: middle;\n",
              "    }\n",
              "\n",
              "    .dataframe tbody tr th {\n",
              "        vertical-align: top;\n",
              "    }\n",
              "\n",
              "    .dataframe thead th {\n",
              "        text-align: right;\n",
              "    }\n",
              "</style>\n",
              "<table border=\"1\" class=\"dataframe\">\n",
              "  <thead>\n",
              "    <tr style=\"text-align: right;\">\n",
              "      <th></th>\n",
              "      <th>year</th>\n",
              "      <th>income</th>\n",
              "      <th>lifespan</th>\n",
              "      <th>population</th>\n",
              "      <th>country</th>\n",
              "      <th>region</th>\n",
              "    </tr>\n",
              "  </thead>\n",
              "  <tbody>\n",
              "    <tr>\n",
              "      <th>37192</th>\n",
              "      <td>2018</td>\n",
              "      <td>17856</td>\n",
              "      <td>70.48</td>\n",
              "      <td>5851466</td>\n",
              "      <td>Turkmenistan</td>\n",
              "      <td>europe_central_asia</td>\n",
              "    </tr>\n",
              "    <tr>\n",
              "      <th>2455</th>\n",
              "      <td>2018</td>\n",
              "      <td>16552</td>\n",
              "      <td>72.30</td>\n",
              "      <td>9923914</td>\n",
              "      <td>Azerbaijan</td>\n",
              "      <td>europe_central_asia</td>\n",
              "    </tr>\n",
              "    <tr>\n",
              "      <th>38287</th>\n",
              "      <td>2018</td>\n",
              "      <td>24881</td>\n",
              "      <td>79.61</td>\n",
              "      <td>81916871</td>\n",
              "      <td>Turkey</td>\n",
              "      <td>europe_central_asia</td>\n",
              "    </tr>\n",
              "    <tr>\n",
              "      <th>23786</th>\n",
              "      <td>2018</td>\n",
              "      <td>5330</td>\n",
              "      <td>72.41</td>\n",
              "      <td>4041065</td>\n",
              "      <td>Moldova</td>\n",
              "      <td>europe_central_asia</td>\n",
              "    </tr>\n",
              "    <tr>\n",
              "      <th>218</th>\n",
              "      <td>2018</td>\n",
              "      <td>39219</td>\n",
              "      <td>76.14</td>\n",
              "      <td>105670</td>\n",
              "      <td>Aruba</td>\n",
              "      <td>america</td>\n",
              "    </tr>\n",
              "    <tr>\n",
              "      <th>13280</th>\n",
              "      <td>2018</td>\n",
              "      <td>17463</td>\n",
              "      <td>67.33</td>\n",
              "      <td>2067561</td>\n",
              "      <td>Gabon</td>\n",
              "      <td>sub_saharan_africa</td>\n",
              "    </tr>\n",
              "    <tr>\n",
              "      <th>8634</th>\n",
              "      <td>2018</td>\n",
              "      <td>1439</td>\n",
              "      <td>68.00</td>\n",
              "      <td>832347</td>\n",
              "      <td>Comoros</td>\n",
              "      <td>sub_saharan_africa</td>\n",
              "    </tr>\n",
              "    <tr>\n",
              "      <th>32812</th>\n",
              "      <td>2018</td>\n",
              "      <td>2573</td>\n",
              "      <td>66.85</td>\n",
              "      <td>16294270</td>\n",
              "      <td>Senegal</td>\n",
              "      <td>sub_saharan_africa</td>\n",
              "    </tr>\n",
              "    <tr>\n",
              "      <th>16997</th>\n",
              "      <td>2018</td>\n",
              "      <td>26936</td>\n",
              "      <td>75.90</td>\n",
              "      <td>9688847</td>\n",
              "      <td>Hungary</td>\n",
              "      <td>europe_central_asia</td>\n",
              "    </tr>\n",
              "    <tr>\n",
              "      <th>34783</th>\n",
              "      <td>2018</td>\n",
              "      <td>13150</td>\n",
              "      <td>71.62</td>\n",
              "      <td>568301</td>\n",
              "      <td>Suriname</td>\n",
              "      <td>america</td>\n",
              "    </tr>\n",
              "  </tbody>\n",
              "</table>\n",
              "</div>"
            ],
            "text/plain": [
              "       year  income  lifespan  population       country               region\n",
              "37192  2018   17856     70.48     5851466  Turkmenistan  europe_central_asia\n",
              "2455   2018   16552     72.30     9923914    Azerbaijan  europe_central_asia\n",
              "38287  2018   24881     79.61    81916871        Turkey  europe_central_asia\n",
              "23786  2018    5330     72.41     4041065       Moldova  europe_central_asia\n",
              "218    2018   39219     76.14      105670         Aruba              america\n",
              "13280  2018   17463     67.33     2067561         Gabon   sub_saharan_africa\n",
              "8634   2018    1439     68.00      832347       Comoros   sub_saharan_africa\n",
              "32812  2018    2573     66.85    16294270       Senegal   sub_saharan_africa\n",
              "16997  2018   26936     75.90     9688847       Hungary  europe_central_asia\n",
              "34783  2018   13150     71.62      568301      Suriname              america"
            ]
          },
          "metadata": {
            "tags": []
          },
          "execution_count": 39
        }
      ]
    },
    {
      "metadata": {
        "id": "nXTGQNi7gv6L",
        "colab_type": "code",
        "colab": {}
      },
      "cell_type": "code",
      "source": [
        "import seaborn as sns"
      ],
      "execution_count": 0,
      "outputs": []
    },
    {
      "metadata": {
        "id": "dbn1x_95g4zh",
        "colab_type": "code",
        "colab": {
          "base_uri": "https://localhost:8080/",
          "height": 369
        },
        "outputId": "a0bc78fc-134e-48ca-ce93-daf6d71973ba"
      },
      "cell_type": "code",
      "source": [
        "sns.relplot(x='income', y='lifespan', hue='region', size='population', \n",
        "            sizes=(5, 200), data=this_year);"
      ],
      "execution_count": 46,
      "outputs": [
        {
          "output_type": "display_data",
          "data": {
            "image/png": "[encoded data removed]",
            "text/plain": [
              "<matplotlib.figure.Figure at 0x7f50cfee1940>"
            ]
          },
          "metadata": {
            "tags": []
          }
        }
      ]
    },
    {
      "metadata": {
        "id": "XAww6V5DmWsU",
        "colab_type": "code",
        "colab": {
          "base_uri": "https://localhost:8080/",
          "height": 166
        },
        "outputId": "8b651dcb-456d-4dfe-b1bf-069d714fa037"
      },
      "cell_type": "code",
      "source": [
        "this_year[this_year.income > 80000]"
      ],
      "execution_count": 49,
      "outputs": [
        {
          "output_type": "execute_result",
          "data": {
            "text/html": [
              "<div>\n",
              "<style scoped>\n",
              "    .dataframe tbody tr th:only-of-type {\n",
              "        vertical-align: middle;\n",
              "    }\n",
              "\n",
              "    .dataframe tbody tr th {\n",
              "        vertical-align: top;\n",
              "    }\n",
              "\n",
              "    .dataframe thead th {\n",
              "        text-align: right;\n",
              "    }\n",
              "</style>\n",
              "<table border=\"1\" class=\"dataframe\">\n",
              "  <thead>\n",
              "    <tr style=\"text-align: right;\">\n",
              "      <th></th>\n",
              "      <th>year</th>\n",
              "      <th>income</th>\n",
              "      <th>lifespan</th>\n",
              "      <th>population</th>\n",
              "      <th>country</th>\n",
              "      <th>region</th>\n",
              "    </tr>\n",
              "  </thead>\n",
              "  <tbody>\n",
              "    <tr>\n",
              "      <th>22910</th>\n",
              "      <td>2018</td>\n",
              "      <td>99034</td>\n",
              "      <td>82.39</td>\n",
              "      <td>590321</td>\n",
              "      <td>Luxembourg</td>\n",
              "      <td>europe_central_asia</td>\n",
              "    </tr>\n",
              "    <tr>\n",
              "      <th>23348</th>\n",
              "      <td>2018</td>\n",
              "      <td>97057</td>\n",
              "      <td>83.24</td>\n",
              "      <td>632418</td>\n",
              "      <td>Macao, China</td>\n",
              "      <td>east_asia_pacific</td>\n",
              "    </tr>\n",
              "    <tr>\n",
              "      <th>31498</th>\n",
              "      <td>2018</td>\n",
              "      <td>121033</td>\n",
              "      <td>80.71</td>\n",
              "      <td>2694849</td>\n",
              "      <td>Qatar</td>\n",
              "      <td>middle_east_north_africa</td>\n",
              "    </tr>\n",
              "    <tr>\n",
              "      <th>33031</th>\n",
              "      <td>2018</td>\n",
              "      <td>83888</td>\n",
              "      <td>84.03</td>\n",
              "      <td>5791901</td>\n",
              "      <td>Singapore</td>\n",
              "      <td>east_asia_pacific</td>\n",
              "    </tr>\n",
              "  </tbody>\n",
              "</table>\n",
              "</div>"
            ],
            "text/plain": [
              "       year  income  lifespan  population       country  \\\n",
              "22910  2018   99034     82.39      590321    Luxembourg   \n",
              "23348  2018   97057     83.24      632418  Macao, China   \n",
              "31498  2018  121033     80.71     2694849         Qatar   \n",
              "33031  2018   83888     84.03     5791901     Singapore   \n",
              "\n",
              "                         region  \n",
              "22910       europe_central_asia  \n",
              "23348         east_asia_pacific  \n",
              "31498  middle_east_north_africa  \n",
              "33031         east_asia_pacific  "
            ]
          },
          "metadata": {
            "tags": []
          },
          "execution_count": 49
        }
      ]
    },
    {
      "metadata": {
        "id": "2QTzH_9tm904",
        "colab_type": "code",
        "colab": {
          "base_uri": "https://localhost:8080/",
          "height": 1024
        },
        "outputId": "7236f6bd-625e-47b6-b023-179842d0abf6"
      },
      "cell_type": "code",
      "source": [
        "entities[entities.name=='Macao, China'].T"
      ],
      "execution_count": 58,
      "outputs": [
        {
          "output_type": "execute_result",
          "data": {
            "text/html": [
              "<div>\n",
              "<style scoped>\n",
              "    .dataframe tbody tr th:only-of-type {\n",
              "        vertical-align: middle;\n",
              "    }\n",
              "\n",
              "    .dataframe tbody tr th {\n",
              "        vertical-align: top;\n",
              "    }\n",
              "\n",
              "    .dataframe thead th {\n",
              "        text-align: right;\n",
              "    }\n",
              "</style>\n",
              "<table border=\"1\" class=\"dataframe\">\n",
              "  <thead>\n",
              "    <tr style=\"text-align: right;\">\n",
              "      <th></th>\n",
              "      <th>145</th>\n",
              "    </tr>\n",
              "  </thead>\n",
              "  <tbody>\n",
              "    <tr>\n",
              "      <th>country</th>\n",
              "      <td>mac</td>\n",
              "    </tr>\n",
              "    <tr>\n",
              "      <th>alt_5</th>\n",
              "      <td>MACAU SPECIAL ADMINISTRATIVE REGION OF CHINA</td>\n",
              "    </tr>\n",
              "    <tr>\n",
              "      <th>alternative_1</th>\n",
              "      <td>Macau</td>\n",
              "    </tr>\n",
              "    <tr>\n",
              "      <th>alternative_2</th>\n",
              "      <td>Macao</td>\n",
              "    </tr>\n",
              "    <tr>\n",
              "      <th>alternative_3</th>\n",
              "      <td>China, Macao SAR</td>\n",
              "    </tr>\n",
              "    <tr>\n",
              "      <th>alternative_4_cdiac</th>\n",
              "      <td>Macau</td>\n",
              "    </tr>\n",
              "    <tr>\n",
              "      <th>arb1</th>\n",
              "      <td>Macao SAR, China</td>\n",
              "    </tr>\n",
              "    <tr>\n",
              "      <th>arb2</th>\n",
              "      <td>NaN</td>\n",
              "    </tr>\n",
              "    <tr>\n",
              "      <th>arb3</th>\n",
              "      <td>NaN</td>\n",
              "    </tr>\n",
              "    <tr>\n",
              "      <th>arb4</th>\n",
              "      <td>NaN</td>\n",
              "    </tr>\n",
              "    <tr>\n",
              "      <th>arb5</th>\n",
              "      <td>NaN</td>\n",
              "    </tr>\n",
              "    <tr>\n",
              "      <th>arb6</th>\n",
              "      <td>NaN</td>\n",
              "    </tr>\n",
              "    <tr>\n",
              "      <th>g77_and_oecd_countries</th>\n",
              "      <td>others</td>\n",
              "    </tr>\n",
              "    <tr>\n",
              "      <th>gapminder_list</th>\n",
              "      <td>Macao, China</td>\n",
              "    </tr>\n",
              "    <tr>\n",
              "      <th>god_id</th>\n",
              "      <td>MO</td>\n",
              "    </tr>\n",
              "    <tr>\n",
              "      <th>gwid</th>\n",
              "      <td>i130</td>\n",
              "    </tr>\n",
              "    <tr>\n",
              "      <th>income_groups</th>\n",
              "      <td>high_income</td>\n",
              "    </tr>\n",
              "    <tr>\n",
              "      <th>is--country</th>\n",
              "      <td>True</td>\n",
              "    </tr>\n",
              "    <tr>\n",
              "      <th>iso3166_1_alpha2</th>\n",
              "      <td>MO</td>\n",
              "    </tr>\n",
              "    <tr>\n",
              "      <th>iso3166_1_alpha3</th>\n",
              "      <td>MAC</td>\n",
              "    </tr>\n",
              "    <tr>\n",
              "      <th>iso3166_1_numeric</th>\n",
              "      <td>446</td>\n",
              "    </tr>\n",
              "    <tr>\n",
              "      <th>iso3166_2</th>\n",
              "      <td>NaN</td>\n",
              "    </tr>\n",
              "    <tr>\n",
              "      <th>landlocked</th>\n",
              "      <td>coastline</td>\n",
              "    </tr>\n",
              "    <tr>\n",
              "      <th>latitude</th>\n",
              "      <td>22.2006</td>\n",
              "    </tr>\n",
              "    <tr>\n",
              "      <th>longitude</th>\n",
              "      <td>113.546</td>\n",
              "    </tr>\n",
              "    <tr>\n",
              "      <th>main_religion_2008</th>\n",
              "      <td>eastern_religions</td>\n",
              "    </tr>\n",
              "    <tr>\n",
              "      <th>name</th>\n",
              "      <td>Macao, China</td>\n",
              "    </tr>\n",
              "    <tr>\n",
              "      <th>pandg</th>\n",
              "      <td>NaN</td>\n",
              "    </tr>\n",
              "    <tr>\n",
              "      <th>un_state</th>\n",
              "      <td>False</td>\n",
              "    </tr>\n",
              "    <tr>\n",
              "      <th>unicode_region_subtag</th>\n",
              "      <td>MO</td>\n",
              "    </tr>\n",
              "    <tr>\n",
              "      <th>upper_case_name</th>\n",
              "      <td>MACAU</td>\n",
              "    </tr>\n",
              "    <tr>\n",
              "      <th>world_4region</th>\n",
              "      <td>asia</td>\n",
              "    </tr>\n",
              "    <tr>\n",
              "      <th>world_6region</th>\n",
              "      <td>east_asia_pacific</td>\n",
              "    </tr>\n",
              "  </tbody>\n",
              "</table>\n",
              "</div>"
            ],
            "text/plain": [
              "                                                                 145\n",
              "country                                                          mac\n",
              "alt_5                   MACAU SPECIAL ADMINISTRATIVE REGION OF CHINA\n",
              "alternative_1                                                  Macau\n",
              "alternative_2                                                  Macao\n",
              "alternative_3                                       China, Macao SAR\n",
              "alternative_4_cdiac                                            Macau\n",
              "arb1                                                Macao SAR, China\n",
              "arb2                                                             NaN\n",
              "arb3                                                             NaN\n",
              "arb4                                                             NaN\n",
              "arb5                                                             NaN\n",
              "arb6                                                             NaN\n",
              "g77_and_oecd_countries                                        others\n",
              "gapminder_list                                          Macao, China\n",
              "god_id                                                            MO\n",
              "gwid                                                            i130\n",
              "income_groups                                            high_income\n",
              "is--country                                                     True\n",
              "iso3166_1_alpha2                                                  MO\n",
              "iso3166_1_alpha3                                                 MAC\n",
              "iso3166_1_numeric                                                446\n",
              "iso3166_2                                                        NaN\n",
              "landlocked                                                 coastline\n",
              "latitude                                                     22.2006\n",
              "longitude                                                    113.546\n",
              "main_religion_2008                                 eastern_religions\n",
              "name                                                    Macao, China\n",
              "pandg                                                            NaN\n",
              "un_state                                                       False\n",
              "unicode_region_subtag                                             MO\n",
              "upper_case_name                                                MACAU\n",
              "world_4region                                                   asia\n",
              "world_6region                                      east_asia_pacific"
            ]
          },
          "metadata": {
            "tags": []
          },
          "execution_count": 58
        }
      ]
    },
    {
      "metadata": {
        "id": "73I-YCgCnpAJ",
        "colab_type": "code",
        "colab": {}
      },
      "cell_type": "code",
      "source": [
        "qatar = this_year[this_year.country=='Qatar']"
      ],
      "execution_count": 0,
      "outputs": []
    },
    {
      "metadata": {
        "id": "adPr6szPn1tY",
        "colab_type": "code",
        "colab": {
          "base_uri": "https://localhost:8080/",
          "height": 50
        },
        "outputId": "f28aba33-37af-4c7a-acb0-d1e3ecbfcd58"
      },
      "cell_type": "code",
      "source": [
        "qatar.income"
      ],
      "execution_count": 65,
      "outputs": [
        {
          "output_type": "execute_result",
          "data": {
            "text/plain": [
              "31498    121033\n",
              "Name: income, dtype: int64"
            ]
          },
          "metadata": {
            "tags": []
          },
          "execution_count": 65
        }
      ]
    },
    {
      "metadata": {
        "id": "vyamBGBUn_hd",
        "colab_type": "code",
        "colab": {
          "base_uri": "https://localhost:8080/",
          "height": 34
        },
        "outputId": "d192e5ce-36d9-4922-cb9e-065c1b6948d7"
      },
      "cell_type": "code",
      "source": [
        "qatar.income.values"
      ],
      "execution_count": 66,
      "outputs": [
        {
          "output_type": "execute_result",
          "data": {
            "text/plain": [
              "array([121033])"
            ]
          },
          "metadata": {
            "tags": []
          },
          "execution_count": 66
        }
      ]
    },
    {
      "metadata": {
        "id": "rRWGyuqzoBRK",
        "colab_type": "code",
        "colab": {
          "base_uri": "https://localhost:8080/",
          "height": 34
        },
        "outputId": "5b7fe402-1984-4102-86b2-0906fc8b1193"
      },
      "cell_type": "code",
      "source": [
        "type(qatar.income.values)"
      ],
      "execution_count": 69,
      "outputs": [
        {
          "output_type": "execute_result",
          "data": {
            "text/plain": [
              "numpy.ndarray"
            ]
          },
          "metadata": {
            "tags": []
          },
          "execution_count": 69
        }
      ]
    },
    {
      "metadata": {
        "id": "yG88fJ-CoIQ8",
        "colab_type": "code",
        "colab": {
          "base_uri": "https://localhost:8080/",
          "height": 34
        },
        "outputId": "0075c006-9fe2-4324-fa39-cf7279c63a5d"
      },
      "cell_type": "code",
      "source": [
        "type(qatar.income.values[0])"
      ],
      "execution_count": 70,
      "outputs": [
        {
          "output_type": "execute_result",
          "data": {
            "text/plain": [
              "numpy.int64"
            ]
          },
          "metadata": {
            "tags": []
          },
          "execution_count": 70
        }
      ]
    },
    {
      "metadata": {
        "id": "a2X7q4ucoJQV",
        "colab_type": "code",
        "colab": {}
      },
      "cell_type": "code",
      "source": [
        "qatar_income = qatar.income.values[0]\n",
        "qatar_lifespan = qatar.lifespan.values[0]"
      ],
      "execution_count": 0,
      "outputs": []
    },
    {
      "metadata": {
        "id": "wv39rkyRoQ3c",
        "colab_type": "code",
        "colab": {
          "base_uri": "https://localhost:8080/",
          "height": 382
        },
        "outputId": "a32f391e-0343-44f2-ce4c-c4f3d6e054f0"
      },
      "cell_type": "code",
      "source": [
        "sns.relplot(x='income', y='lifespan', hue='region', size='population', \n",
        "          data=this_year)\n",
        "\n",
        "plt.text(x=qatar_income-5000, y=qatar_lifespan+1, s='Qatar')\n",
        "\n",
        "plt.title('Qatar has the highest incomes in 2018');"
      ],
      "execution_count": 82,
      "outputs": [
        {
          "output_type": "display_data",
          "data": {
            "image/png": "[encoded data removed]",
            "text/plain": [
              "<matplotlib.figure.Figure at 0x7f50cb997128>"
            ]
          },
          "metadata": {
            "tags": []
          }
        }
      ]
    },
    {
      "metadata": {
        "id": "Fh42sjX7pViu",
        "colab_type": "text"
      },
      "cell_type": "markdown",
      "source": [
        "#plot multiyears"
      ]
    },
    {
      "metadata": {
        "id": "KRkoteYfpSYh",
        "colab_type": "code",
        "colab": {}
      },
      "cell_type": "code",
      "source": [
        "framing_years = [1818, 1918, 2018]\n",
        "\n",
        "centuries = df1[df1.year.isin(framing_years)]"
      ],
      "execution_count": 0,
      "outputs": []
    },
    {
      "metadata": {
        "id": "NBfTFlJcpgdh",
        "colab_type": "code",
        "colab": {
          "base_uri": "https://localhost:8080/",
          "height": 195
        },
        "outputId": "5ce3848e-a620-400e-985e-1301679fec96"
      },
      "cell_type": "code",
      "source": [
        "centuries.sample(5)"
      ],
      "execution_count": 85,
      "outputs": [
        {
          "output_type": "execute_result",
          "data": {
            "text/html": [
              "<div>\n",
              "<style scoped>\n",
              "    .dataframe tbody tr th:only-of-type {\n",
              "        vertical-align: middle;\n",
              "    }\n",
              "\n",
              "    .dataframe tbody tr th {\n",
              "        vertical-align: top;\n",
              "    }\n",
              "\n",
              "    .dataframe thead th {\n",
              "        text-align: right;\n",
              "    }\n",
              "</style>\n",
              "<table border=\"1\" class=\"dataframe\">\n",
              "  <thead>\n",
              "    <tr style=\"text-align: right;\">\n",
              "      <th></th>\n",
              "      <th>year</th>\n",
              "      <th>income</th>\n",
              "      <th>lifespan</th>\n",
              "      <th>population</th>\n",
              "      <th>country</th>\n",
              "      <th>region</th>\n",
              "    </tr>\n",
              "  </thead>\n",
              "  <tbody>\n",
              "    <tr>\n",
              "      <th>9410</th>\n",
              "      <td>1918</td>\n",
              "      <td>2688</td>\n",
              "      <td>25.77</td>\n",
              "      <td>300440</td>\n",
              "      <td>Cyprus</td>\n",
              "      <td>europe_central_asia</td>\n",
              "    </tr>\n",
              "    <tr>\n",
              "      <th>26480</th>\n",
              "      <td>1818</td>\n",
              "      <td>351</td>\n",
              "      <td>30.30</td>\n",
              "      <td>737000</td>\n",
              "      <td>Malawi</td>\n",
              "      <td>sub_saharan_africa</td>\n",
              "    </tr>\n",
              "    <tr>\n",
              "      <th>18868</th>\n",
              "      <td>1918</td>\n",
              "      <td>1185</td>\n",
              "      <td>26.50</td>\n",
              "      <td>848676</td>\n",
              "      <td>Jamaica</td>\n",
              "      <td>america</td>\n",
              "    </tr>\n",
              "    <tr>\n",
              "      <th>24609</th>\n",
              "      <td>1918</td>\n",
              "      <td>1669</td>\n",
              "      <td>19.97</td>\n",
              "      <td>939985</td>\n",
              "      <td>Macedonia, FYR</td>\n",
              "      <td>europe_central_asia</td>\n",
              "    </tr>\n",
              "    <tr>\n",
              "      <th>34583</th>\n",
              "      <td>1818</td>\n",
              "      <td>1641</td>\n",
              "      <td>32.90</td>\n",
              "      <td>81786</td>\n",
              "      <td>Suriname</td>\n",
              "      <td>america</td>\n",
              "    </tr>\n",
              "  </tbody>\n",
              "</table>\n",
              "</div>"
            ],
            "text/plain": [
              "       year  income  lifespan  population         country               region\n",
              "9410   1918    2688     25.77      300440          Cyprus  europe_central_asia\n",
              "26480  1818     351     30.30      737000          Malawi   sub_saharan_africa\n",
              "18868  1918    1185     26.50      848676         Jamaica              america\n",
              "24609  1918    1669     19.97      939985  Macedonia, FYR  europe_central_asia\n",
              "34583  1818    1641     32.90       81786        Suriname              america"
            ]
          },
          "metadata": {
            "tags": []
          },
          "execution_count": 85
        }
      ]
    },
    {
      "metadata": {
        "id": "4QPRRQjfplIW",
        "colab_type": "code",
        "colab": {
          "base_uri": "https://localhost:8080/",
          "height": 393
        },
        "outputId": "38d67e60-6323-4d24-fb88-e60554692eee"
      },
      "cell_type": "code",
      "source": [
        "sns.relplot(x='income', y='lifespan', hue='region', size='population', \n",
        "            col='year', data=centuries)\n",
        "\n",
        "plt.xscale('log');"
      ],
      "execution_count": 91,
      "outputs": [
        {
          "output_type": "display_data",
          "data": {
            "image/png": "[encoded data removed]",
            "text/plain": [
              "<matplotlib.figure.Figure at 0x7f50cb5a82b0>"
            ]
          },
          "metadata": {
            "tags": []
          }
        }
      ]
    },
    {
      "metadata": {
        "id": "RCAx6_mXrXlJ",
        "colab_type": "text"
      },
      "cell_type": "markdown",
      "source": [
        "## are country counts consistent?"
      ]
    },
    {
      "metadata": {
        "id": "b9-orbM-rWpG",
        "colab_type": "code",
        "colab": {
          "base_uri": "https://localhost:8080/",
          "height": 101
        },
        "outputId": "d330b562-85f5-4bdc-e63f-b503d65b78de"
      },
      "cell_type": "code",
      "source": [
        "centuries.groupby('year').country.count()"
      ],
      "execution_count": 92,
      "outputs": [
        {
          "output_type": "execute_result",
          "data": {
            "text/plain": [
              "year\n",
              "1818    190\n",
              "1918    190\n",
              "2018    188\n",
              "Name: country, dtype: int64"
            ]
          },
          "metadata": {
            "tags": []
          },
          "execution_count": 92
        }
      ]
    },
    {
      "metadata": {
        "id": "NRJlh_TErjpT",
        "colab_type": "code",
        "colab": {
          "base_uri": "https://localhost:8080/",
          "height": 84
        },
        "outputId": "0c5a0bb5-5855-49a1-8a3b-6cd2076f84b6"
      },
      "cell_type": "code",
      "source": [
        "years_per_country = centuries.groupby('country').year.count()\n",
        "years_per_country[years_per_country < 3]"
      ],
      "execution_count": 94,
      "outputs": [
        {
          "output_type": "execute_result",
          "data": {
            "text/plain": [
              "country\n",
              "Greenland    2\n",
              "Taiwan       2\n",
              "Name: year, dtype: int64"
            ]
          },
          "metadata": {
            "tags": []
          },
          "execution_count": 94
        }
      ]
    },
    {
      "metadata": {
        "id": "T4YRATMhsEeQ",
        "colab_type": "code",
        "colab": {
          "base_uri": "https://localhost:8080/",
          "height": 393
        },
        "outputId": "e7cd65d2-c725-4b6a-8cbf-2a70aa97d0af"
      },
      "cell_type": "code",
      "source": [
        "years = [1918, 1938, 1958, 1978, 1998, 2018]\n",
        "\n",
        "years_subset = df1[df1.year.isin(years)]\n",
        "\n",
        "sns.relplot(x='income', y='lifespan', hue='region', size='population', \n",
        "            col='year', data=years_subset)\n",
        "\n",
        "plt.xscale('log')\n",
        "plt.xlim(150, 1500000);"
      ],
      "execution_count": 97,
      "outputs": [
        {
          "output_type": "display_data",
          "data": {
            "image/png": "[encoded data removed]",
            "text/plain": [
              "<matplotlib.figure.Figure at 0x7f50cb1cafd0>"
            ]
          },
          "metadata": {
            "tags": []
          }
        }
      ]
    },
    {
      "metadata": {
        "id": "utJ2CXsIszAZ",
        "colab_type": "code",
        "colab": {
          "base_uri": "https://localhost:8080/",
          "height": 2230
        },
        "outputId": "a3030bf7-faaa-42fc-ec0e-a5d0c07f2179"
      },
      "cell_type": "code",
      "source": [
        "for year in years:\n",
        "\n",
        "  sns.relplot(x='income', y='lifespan', hue='region', size='population', \n",
        "             data=df1[df1.year==year])\n",
        "\n",
        "  plt.xscale('log')\n",
        "  plt.xlim(150, 1500000)\n",
        "  plt.ylim(20, 90)\n",
        "  plt.title(year)\n",
        "  plt.axhline(y=50, color='cyan')\n",
        "  "
      ],
      "execution_count": 98,
      "outputs": [
        {
          "output_type": "display_data",
          "data": {
            "image/png": "[encoded data removed]",
            "text/plain": [
              "<matplotlib.figure.Figure at 0x7f50cae07e80>"
            ]
          },
          "metadata": {
            "tags": []
          }
        },
        {
          "output_type": "display_data",
          "data": {
            "image/png": "[encoded data removed]",
            "text/plain": [
              "<matplotlib.figure.Figure at 0x7f50cb54e8d0>"
            ]
          },
          "metadata": {
            "tags": []
          }
        },
        {
          "output_type": "display_data",
          "data": {
            "image/png": "[encoded data removed]",
            "text/plain": [
              "<matplotlib.figure.Figure at 0x7f50cb52cf60>"
            ]
          },
          "metadata": {
            "tags": []
          }
        },
        {
          "output_type": "display_data",
          "data": {
            "image/png": "[encoded data removed]",
            "text/plain": [
              "<matplotlib.figure.Figure at 0x7f50cb8af518>"
            ]
          },
          "metadata": {
            "tags": []
          }
        },
        {
          "output_type": "display_data",
          "data": {
            "image/png": "[encoded data removed]",
            "text/plain": [
              "<matplotlib.figure.Figure at 0x7f50cb9ac5c0>"
            ]
          },
          "metadata": {
            "tags": []
          }
        },
        {
          "output_type": "display_data",
          "data": {
            "image/png": "[encoded data removed]",
            "text/plain": [
              "<matplotlib.figure.Figure at 0x7f50cb901b38>"
            ]
          },
          "metadata": {
            "tags": []
          }
        }
      ]
    },
    {
      "metadata": {
        "id": "DPpz37L4tuWU",
        "colab_type": "code",
        "colab": {
          "base_uri": "https://localhost:8080/",
          "height": 166
        },
        "outputId": "d17d8ac5-2e8d-451d-e0b4-b49e78c43d58"
      },
      "cell_type": "code",
      "source": [
        "df1[(df1.year==1918) & (df1.lifespan >= 50)]"
      ],
      "execution_count": 99,
      "outputs": [
        {
          "output_type": "execute_result",
          "data": {
            "text/html": [
              "<div>\n",
              "<style scoped>\n",
              "    .dataframe tbody tr th:only-of-type {\n",
              "        vertical-align: middle;\n",
              "    }\n",
              "\n",
              "    .dataframe tbody tr th {\n",
              "        vertical-align: top;\n",
              "    }\n",
              "\n",
              "    .dataframe thead th {\n",
              "        text-align: right;\n",
              "    }\n",
              "</style>\n",
              "<table border=\"1\" class=\"dataframe\">\n",
              "  <thead>\n",
              "    <tr style=\"text-align: right;\">\n",
              "      <th></th>\n",
              "      <th>year</th>\n",
              "      <th>income</th>\n",
              "      <th>lifespan</th>\n",
              "      <th>population</th>\n",
              "      <th>country</th>\n",
              "      <th>region</th>\n",
              "    </tr>\n",
              "  </thead>\n",
              "  <tbody>\n",
              "    <tr>\n",
              "      <th>1917</th>\n",
              "      <td>1918</td>\n",
              "      <td>7610</td>\n",
              "      <td>54.95</td>\n",
              "      <td>5066003</td>\n",
              "      <td>Australia</td>\n",
              "      <td>east_asia_pacific</td>\n",
              "    </tr>\n",
              "    <tr>\n",
              "      <th>10333</th>\n",
              "      <td>1918</td>\n",
              "      <td>6393</td>\n",
              "      <td>56.24</td>\n",
              "      <td>3165276</td>\n",
              "      <td>Denmark</td>\n",
              "      <td>europe_central_asia</td>\n",
              "    </tr>\n",
              "    <tr>\n",
              "      <th>18211</th>\n",
              "      <td>1918</td>\n",
              "      <td>2576</td>\n",
              "      <td>51.11</td>\n",
              "      <td>115504</td>\n",
              "      <td>Iceland</td>\n",
              "      <td>europe_central_asia</td>\n",
              "    </tr>\n",
              "    <tr>\n",
              "      <th>28113</th>\n",
              "      <td>1918</td>\n",
              "      <td>4479</td>\n",
              "      <td>50.28</td>\n",
              "      <td>2576646</td>\n",
              "      <td>Norway</td>\n",
              "      <td>europe_central_asia</td>\n",
              "    </tr>\n",
              "  </tbody>\n",
              "</table>\n",
              "</div>"
            ],
            "text/plain": [
              "       year  income  lifespan  population    country               region\n",
              "1917   1918    7610     54.95     5066003  Australia    east_asia_pacific\n",
              "10333  1918    6393     56.24     3165276    Denmark  europe_central_asia\n",
              "18211  1918    2576     51.11      115504    Iceland  europe_central_asia\n",
              "28113  1918    4479     50.28     2576646     Norway  europe_central_asia"
            ]
          },
          "metadata": {
            "tags": []
          },
          "execution_count": 99
        }
      ]
    },
    {
      "metadata": {
        "id": "Nx8v756-uEuk",
        "colab_type": "text"
      },
      "cell_type": "markdown",
      "source": [
        "## today, no countries are below 50 years lifespan"
      ]
    },
    {
      "metadata": {
        "id": "FWJuO2s6uPA4",
        "colab_type": "code",
        "colab": {
          "base_uri": "https://localhost:8080/",
          "height": 47
        },
        "outputId": "0dcfa55e-234d-44a9-d308-4adcc9e66471"
      },
      "cell_type": "code",
      "source": [
        "df1[(df1.year==2018) & (df1.lifespan < 50)]"
      ],
      "execution_count": 102,
      "outputs": [
        {
          "output_type": "execute_result",
          "data": {
            "text/html": [
              "<div>\n",
              "<style scoped>\n",
              "    .dataframe tbody tr th:only-of-type {\n",
              "        vertical-align: middle;\n",
              "    }\n",
              "\n",
              "    .dataframe tbody tr th {\n",
              "        vertical-align: top;\n",
              "    }\n",
              "\n",
              "    .dataframe thead th {\n",
              "        text-align: right;\n",
              "    }\n",
              "</style>\n",
              "<table border=\"1\" class=\"dataframe\">\n",
              "  <thead>\n",
              "    <tr style=\"text-align: right;\">\n",
              "      <th></th>\n",
              "      <th>year</th>\n",
              "      <th>income</th>\n",
              "      <th>lifespan</th>\n",
              "      <th>population</th>\n",
              "      <th>country</th>\n",
              "      <th>region</th>\n",
              "    </tr>\n",
              "  </thead>\n",
              "  <tbody>\n",
              "  </tbody>\n",
              "</table>\n",
              "</div>"
            ],
            "text/plain": [
              "Empty DataFrame\n",
              "Columns: [year, income, lifespan, population, country, region]\n",
              "Index: []"
            ]
          },
          "metadata": {
            "tags": []
          },
          "execution_count": 102
        }
      ]
    },
    {
      "metadata": {
        "id": "qplqX7D9uwFq",
        "colab_type": "code",
        "colab": {
          "resources": {
            "http://localhost:8080/nbextensions/google.colab/tabbar.css": {
              "data": "Lmdvb2ctdGFie3Bvc2l0aW9uOnJlbGF0aXZlO3BhZGRpbmc6NHB4IDhweDtjb2xvcjojMDBjO3RleHQtZGVjb3JhdGlvbjp1bmRlcmxpbmU7Y3Vyc29yOmRlZmF1bHR9Lmdvb2ctdGFiLWJhci10b3AgLmdvb2ctdGFie21hcmdpbjoxcHggNHB4IDAgMDtib3JkZXItYm90dG9tOjA7ZmxvYXQ6bGVmdH0uZ29vZy10YWItYmFyLXRvcDphZnRlciwuZ29vZy10YWItYmFyLWJvdHRvbTphZnRlcntjb250ZW50OiIgIjtkaXNwbGF5OmJsb2NrO2hlaWdodDowO2NsZWFyOmJvdGg7dmlzaWJpbGl0eTpoaWRkZW59Lmdvb2ctdGFiLWJhci1ib3R0b20gLmdvb2ctdGFie21hcmdpbjowIDRweCAxcHggMDtib3JkZXItdG9wOjA7ZmxvYXQ6bGVmdH0uZ29vZy10YWItYmFyLXN0YXJ0IC5nb29nLXRhYnttYXJnaW46MCAwIDRweCAxcHg7Ym9yZGVyLXJpZ2h0OjB9Lmdvb2ctdGFiLWJhci1lbmQgLmdvb2ctdGFie21hcmdpbjowIDFweCA0cHggMDtib3JkZXItbGVmdDowfS5nb29nLXRhYi1ob3ZlcntiYWNrZ3JvdW5kOiNlZWV9Lmdvb2ctdGFiLWRpc2FibGVke2NvbG9yOiM2NjZ9Lmdvb2ctdGFiLXNlbGVjdGVke2NvbG9yOiMwMDA7YmFja2dyb3VuZDojZmZmO3RleHQtZGVjb3JhdGlvbjpub25lO2ZvbnQtd2VpZ2h0OmJvbGQ7Ym9yZGVyOjFweCBzb2xpZCAjNmI5MGRhfS5nb29nLXRhYi1iYXItdG9we3BhZGRpbmctdG9wOjVweCFpbXBvcnRhbnQ7cGFkZGluZy1sZWZ0OjVweCFpbXBvcnRhbnQ7Ym9yZGVyLWJvdHRvbToxcHggc29saWQgIzZiOTBkYSFpbXBvcnRhbnR9Lmdvb2ctdGFiLWJhci10b3AgLmdvb2ctdGFiLXNlbGVjdGVke3RvcDoxcHg7bWFyZ2luLXRvcDowO3BhZGRpbmctYm90dG9tOjVweH0uZ29vZy10YWItYmFyLWJvdHRvbSAuZ29vZy10YWItc2VsZWN0ZWR7dG9wOi0xcHg7bWFyZ2luLWJvdHRvbTowO3BhZGRpbmctdG9wOjVweH0uZ29vZy10YWItYmFyLXN0YXJ0IC5nb29nLXRhYi1zZWxlY3RlZHtsZWZ0OjFweDttYXJnaW4tbGVmdDowO3BhZGRpbmctcmlnaHQ6OXB4fS5nb29nLXRhYi1iYXItZW5kIC5nb29nLXRhYi1zZWxlY3RlZHtsZWZ0Oi0xcHg7bWFyZ2luLXJpZ2h0OjA7cGFkZGluZy1sZWZ0OjlweH0uZ29vZy10YWItYmFye21hcmdpbjowO2JvcmRlcjowO3BhZGRpbmc6MDtsaXN0LXN0eWxlOm5vbmU7Y3Vyc29yOmRlZmF1bHQ7b3V0bGluZTpub25lO2JhY2tncm91bmQ6I2ViZWZmOX0uZ29vZy10YWItYmFyLWNsZWFye2NsZWFyOmJvdGg7aGVpZ2h0OjA7b3ZlcmZsb3c6aGlkZGVufS5nb29nLXRhYi1iYXItc3RhcnR7ZmxvYXQ6bGVmdH0uZ29vZy10YWItYmFyLWVuZHtmbG9hdDpyaWdodH0qIGh0bWwgLmdvb2ctdGFiLWJhci1zdGFydHttYXJnaW4tcmlnaHQ6LTNweH0qIGh0bWwgLmdvb2ctdGFiLWJhci1lbmR7bWFyZ2luLWxlZnQ6LTNweH0=",
              "ok": true,
              "headers": [
                [
                  "content-length",
                  "1394"
                ],
                [
                  "content-type",
                  "text/css"
                ]
              ],
              "status": 200,
              "status_text": ""
            },
            "http://localhost:8080/nbextensions/google.colab/tabbar_main.min.js": {
              "data": "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",
              "ok": true,
              "headers": [
                [
                  "content-type",
                  "application/javascript"
                ]
              ],
              "status": 200,
              "status_text": ""
            }
          },
          "base_uri": "https://localhost:8080/",
          "height": 414
        },
        "outputId": "e2fb601b-1707-4be9-dc84-67cabbf88914"
      },
      "cell_type": "code",
      "source": [
        "from google.colab import widgets\n",
        "tb = widgets.TabBar([str(year) for year in years])\n",
        "for tab, year in zip(tb, years):\n",
        "  sns.relplot(x='income', y='lifespan', hue='region', size='population', \n",
        "             data=df1[df1.year==year])\n",
        "\n",
        "  plt.xscale('log')\n",
        "  plt.xlim(150, 1500000)\n",
        "  plt.ylim(20, 90)"
      ],
      "execution_count": 103,
      "outputs": [
        {
          "output_type": "display_data",
          "data": {
            "text/html": [
              "<link rel=stylesheet type=text/css href='/nbextensions/google.colab/tabbar.css'></link>"
            ],
            "text/plain": [
              "<IPython.core.display.HTML object>"
            ]
          },
          "metadata": {
            "tags": [
              "outputarea_id1"
            ]
          }
        },
        {
          "output_type": "display_data",
          "data": {
            "text/html": [
              "<script src='/nbextensions/google.colab/tabbar_main.min.js'></script>"
            ],
            "text/plain": [
              "<IPython.core.display.HTML object>"
            ]
          },
          "metadata": {
            "tags": [
              "outputarea_id1"
            ]
          }
        },
        {
          "output_type": "display_data",
          "data": {
            "text/html": [
              "<div id=\"id1\"></div>"
            ],
            "text/plain": [
              "<IPython.core.display.HTML object>"
            ]
          },
          "metadata": {
            "tags": [
              "outputarea_id1"
            ]
          }
        },
        {
          "output_type": "display_data",
          "data": {
            "application/javascript": [
              "window[\"3b2ae1c8-e908-11e8-b3f9-0242ac1c0002\"] = colab_lib.createTabBar({\"location\": \"top\", \"elementId\": \"id1\", \"tabNames\": [\"1918\", \"1938\", \"1958\", \"1978\", \"1998\", \"2018\"], \"initialSelection\": 0, \"contentBorder\": [\"0px\"], \"contentHeight\": [\"initial\"], \"borderColor\": [\"#a7a7a7\"]});\n",
              "//# sourceURL=js_e1d675b471"
            ],
            "text/plain": [
              "<IPython.core.display.Javascript object>"
            ]
          },
          "metadata": {
            "tags": [
              "outputarea_id1"
            ]
          }
        },
        {
          "output_type": "display_data",
          "data": {
            "application/javascript": [
              "window[\"3b2b24da-e908-11e8-b3f9-0242ac1c0002\"] = window[\"id1\"].setSelectedTabIndex(0);\n",
              "//# sourceURL=js_5bc9e8cf1b"
            ],
            "text/plain": [
              "<IPython.core.display.Javascript object>"
            ]
          },
          "metadata": {
            "tags": [
              "outputarea_id1"
            ]
          }
        },
        {
          "output_type": "display_data",
          "data": {
            "application/javascript": [
              "window[\"3b2c4a04-e908-11e8-b3f9-0242ac1c0002\"] = google.colab.output.getActiveOutputArea();\n",
              "//# sourceURL=js_bf945ee747"
            ],
            "text/plain": [
              "<IPython.core.display.Javascript object>"
            ]
          },
          "metadata": {
            "tags": [
              "id1_content_0",
              "outputarea_id1"
            ]
          }
        },
        {
          "output_type": "display_data",
          "data": {
            "application/javascript": [
              "window[\"3b2c8992-e908-11e8-b3f9-0242ac1c0002\"] = document.querySelector(\"#id1_content_0\");\n",
              "//# sourceURL=js_6c8c607c49"
            ],
            "text/plain": [
              "<IPython.core.display.Javascript object>"
            ]
          },
          "metadata": {
            "tags": [
              "id1_content_0",
              "outputarea_id1"
            ]
          }
        },
        {
          "output_type": "display_data",
          "data": {
            "application/javascript": [
              "window[\"3b2cd79e-e908-11e8-b3f9-0242ac1c0002\"] = google.colab.output.setActiveOutputArea(window[\"3b2c8992-e908-11e8-b3f9-0242ac1c0002\"]);\n",
              "//# sourceURL=js_294cee5689"
            ],
            "text/plain": [
              "<IPython.core.display.Javascript object>"
            ]
          },
          "metadata": {
            "tags": [
              "id1_content_0",
              "outputarea_id1"
            ]
          }
        },
        {
          "output_type": "display_data",
          "data": {
            "application/javascript": [
              "window[\"3b2d102e-e908-11e8-b3f9-0242ac1c0002\"] = window[\"id1\"].setSelectedTabIndex(0);\n",
              "//# sourceURL=js_ed5a1d33d9"
            ],
            "text/plain": [
              "<IPython.core.display.Javascript object>"
            ]
          },
          "metadata": {
            "tags": [
              "id1_content_0",
              "outputarea_id1"
            ]
          }
        },
        {
          "output_type": "display_data",
          "data": {
            "image/png": "[encoded data removed]",
            "text/plain": [
              "<matplotlib.figure.Figure at 0x7f50cd55d438>"
            ]
          },
          "metadata": {
            "tags": [
              "id1_content_0",
              "outputarea_id1",
              "user_output"
            ]
          }
        },
        {
          "output_type": "display_data",
          "data": {
            "application/javascript": [
              "window[\"3b859334-e908-11e8-b3f9-0242ac1c0002\"] = google.colab.output.setActiveOutputArea(window[\"3b2c4a04-e908-11e8-b3f9-0242ac1c0002\"]);\n",
              "//# sourceURL=js_9ecf7507ee"
            ],
            "text/plain": [
              "<IPython.core.display.Javascript object>"
            ]
          },
          "metadata": {
            "tags": [
              "id1_content_0",
              "outputarea_id1"
            ]
          }
        },
        {
          "output_type": "display_data",
          "data": {
            "application/javascript": [
              "window[\"3b877780-e908-11e8-b3f9-0242ac1c0002\"] = google.colab.output.getActiveOutputArea();\n",
              "//# sourceURL=js_3363c7ceba"
            ],
            "text/plain": [
              "<IPython.core.display.Javascript object>"
            ]
          },
          "metadata": {
            "tags": [
              "id1_content_1",
              "outputarea_id1"
            ]
          }
        },
        {
          "output_type": "display_data",
          "data": {
            "application/javascript": [
              "window[\"3b87bf06-e908-11e8-b3f9-0242ac1c0002\"] = document.querySelector(\"#id1_content_1\");\n",
              "//# sourceURL=js_0152ea26cd"
            ],
            "text/plain": [
              "<IPython.core.display.Javascript object>"
            ]
          },
          "metadata": {
            "tags": [
              "id1_content_1",
              "outputarea_id1"
            ]
          }
        },
        {
          "output_type": "display_data",
          "data": {
            "application/javascript": [
              "window[\"3b88034e-e908-11e8-b3f9-0242ac1c0002\"] = google.colab.output.setActiveOutputArea(window[\"3b87bf06-e908-11e8-b3f9-0242ac1c0002\"]);\n",
              "//# sourceURL=js_ce5c926845"
            ],
            "text/plain": [
              "<IPython.core.display.Javascript object>"
            ]
          },
          "metadata": {
            "tags": [
              "id1_content_1",
              "outputarea_id1"
            ]
          }
        },
        {
          "output_type": "display_data",
          "data": {
            "application/javascript": [
              "window[\"3b884a70-e908-11e8-b3f9-0242ac1c0002\"] = window[\"id1\"].setSelectedTabIndex(1);\n",
              "//# sourceURL=js_17616b0b66"
            ],
            "text/plain": [
              "<IPython.core.display.Javascript object>"
            ]
          },
          "metadata": {
            "tags": [
              "id1_content_1",
              "outputarea_id1"
            ]
          }
        },
        {
          "output_type": "display_data",
          "data": {
            "image/png": "[encoded data removed]",
            "text/plain": [
              "<matplotlib.figure.Figure at 0x7f50cb6cde80>"
            ]
          },
          "metadata": {
            "tags": [
              "id1_content_1",
              "outputarea_id1",
              "user_output"
            ]
          }
        },
        {
          "output_type": "display_data",
          "data": {
            "application/javascript": [
              "window[\"3bdeaf32-e908-11e8-b3f9-0242ac1c0002\"] = google.colab.output.setActiveOutputArea(window[\"3b877780-e908-11e8-b3f9-0242ac1c0002\"]);\n",
              "//# sourceURL=js_34cb5fea76"
            ],
            "text/plain": [
              "<IPython.core.display.Javascript object>"
            ]
          },
          "metadata": {
            "tags": [
              "id1_content_1",
              "outputarea_id1"
            ]
          }
        },
        {
          "output_type": "display_data",
          "data": {
            "application/javascript": [
              "window[\"3be06426-e908-11e8-b3f9-0242ac1c0002\"] = google.colab.output.getActiveOutputArea();\n",
              "//# sourceURL=js_febe5dbc20"
            ],
            "text/plain": [
              "<IPython.core.display.Javascript object>"
            ]
          },
          "metadata": {
            "tags": [
              "id1_content_2",
              "outputarea_id1"
            ]
          }
        },
        {
          "output_type": "display_data",
          "data": {
            "application/javascript": [
              "window[\"3be0a904-e908-11e8-b3f9-0242ac1c0002\"] = document.querySelector(\"#id1_content_2\");\n",
              "//# sourceURL=js_1f61ea7849"
            ],
            "text/plain": [
              "<IPython.core.display.Javascript object>"
            ]
          },
          "metadata": {
            "tags": [
              "id1_content_2",
              "outputarea_id1"
            ]
          }
        },
        {
          "output_type": "display_data",
          "data": {
            "application/javascript": [
              "window[\"3be0d83e-e908-11e8-b3f9-0242ac1c0002\"] = google.colab.output.setActiveOutputArea(window[\"3be0a904-e908-11e8-b3f9-0242ac1c0002\"]);\n",
              "//# sourceURL=js_aa87e0cd57"
            ],
            "text/plain": [
              "<IPython.core.display.Javascript object>"
            ]
          },
          "metadata": {
            "tags": [
              "id1_content_2",
              "outputarea_id1"
            ]
          }
        },
        {
          "output_type": "display_data",
          "data": {
            "application/javascript": [
              "window[\"3be12168-e908-11e8-b3f9-0242ac1c0002\"] = window[\"id1\"].setSelectedTabIndex(2);\n",
              "//# sourceURL=js_76cccca8bd"
            ],
            "text/plain": [
              "<IPython.core.display.Javascript object>"
            ]
          },
          "metadata": {
            "tags": [
              "id1_content_2",
              "outputarea_id1"
            ]
          }
        },
        {
          "output_type": "display_data",
          "data": {
            "image/png": "[encoded data removed]",
            "text/plain": [
              "<matplotlib.figure.Figure at 0x7f50cb6930b8>"
            ]
          },
          "metadata": {
            "tags": [
              "id1_content_2",
              "outputarea_id1",
              "user_output"
            ]
          }
        },
        {
          "output_type": "display_data",
          "data": {
            "application/javascript": [
              "window[\"3c58ebb2-e908-11e8-b3f9-0242ac1c0002\"] = google.colab.output.setActiveOutputArea(window[\"3be06426-e908-11e8-b3f9-0242ac1c0002\"]);\n",
              "//# sourceURL=js_7a0e5ae1fa"
            ],
            "text/plain": [
              "<IPython.core.display.Javascript object>"
            ]
          },
          "metadata": {
            "tags": [
              "id1_content_2",
              "outputarea_id1"
            ]
          }
        },
        {
          "output_type": "display_data",
          "data": {
            "application/javascript": [
              "window[\"3c59f516-e908-11e8-b3f9-0242ac1c0002\"] = google.colab.output.getActiveOutputArea();\n",
              "//# sourceURL=js_b99be0441d"
            ],
            "text/plain": [
              "<IPython.core.display.Javascript object>"
            ]
          },
          "metadata": {
            "tags": [
              "id1_content_3",
              "outputarea_id1"
            ]
          }
        },
        {
          "output_type": "display_data",
          "data": {
            "application/javascript": [
              "window[\"3c5ad8c8-e908-11e8-b3f9-0242ac1c0002\"] = document.querySelector(\"#id1_content_3\");\n",
              "//# sourceURL=js_66b1ac991b"
            ],
            "text/plain": [
              "<IPython.core.display.Javascript object>"
            ]
          },
          "metadata": {
            "tags": [
              "id1_content_3",
              "outputarea_id1"
            ]
          }
        },
        {
          "output_type": "display_data",
          "data": {
            "application/javascript": [
              "window[\"3c5b17c0-e908-11e8-b3f9-0242ac1c0002\"] = google.colab.output.setActiveOutputArea(window[\"3c5ad8c8-e908-11e8-b3f9-0242ac1c0002\"]);\n",
              "//# sourceURL=js_7e187540f3"
            ],
            "text/plain": [
              "<IPython.core.display.Javascript object>"
            ]
          },
          "metadata": {
            "tags": [
              "id1_content_3",
              "outputarea_id1"
            ]
          }
        },
        {
          "output_type": "display_data",
          "data": {
            "application/javascript": [
              "window[\"3c5b4bbe-e908-11e8-b3f9-0242ac1c0002\"] = window[\"id1\"].setSelectedTabIndex(3);\n",
              "//# sourceURL=js_0009773b0c"
            ],
            "text/plain": [
              "<IPython.core.display.Javascript object>"
            ]
          },
          "metadata": {
            "tags": [
              "id1_content_3",
              "outputarea_id1"
            ]
          }
        },
        {
          "output_type": "display_data",
          "data": {
            "image/png": "[encoded data removed]",
            "text/plain": [
              "<matplotlib.figure.Figure at 0x7f50cb3ce128>"
            ]
          },
          "metadata": {
            "tags": [
              "id1_content_3",
              "outputarea_id1",
              "user_output"
            ]
          }
        },
        {
          "output_type": "display_data",
          "data": {
            "application/javascript": [
              "window[\"3cb82618-e908-11e8-b3f9-0242ac1c0002\"] = google.colab.output.setActiveOutputArea(window[\"3c59f516-e908-11e8-b3f9-0242ac1c0002\"]);\n",
              "//# sourceURL=js_78c48573f5"
            ],
            "text/plain": [
              "<IPython.core.display.Javascript object>"
            ]
          },
          "metadata": {
            "tags": [
              "id1_content_3",
              "outputarea_id1"
            ]
          }
        },
        {
          "output_type": "display_data",
          "data": {
            "application/javascript": [
              "window[\"3cbb25f2-e908-11e8-b3f9-0242ac1c0002\"] = google.colab.output.getActiveOutputArea();\n",
              "//# sourceURL=js_0d5020cb75"
            ],
            "text/plain": [
              "<IPython.core.display.Javascript object>"
            ]
          },
          "metadata": {
            "tags": [
              "id1_content_4",
              "outputarea_id1"
            ]
          }
        },
        {
          "output_type": "display_data",
          "data": {
            "application/javascript": [
              "window[\"3cbb860a-e908-11e8-b3f9-0242ac1c0002\"] = document.querySelector(\"#id1_content_4\");\n",
              "//# sourceURL=js_e33ee3272e"
            ],
            "text/plain": [
              "<IPython.core.display.Javascript object>"
            ]
          },
          "metadata": {
            "tags": [
              "id1_content_4",
              "outputarea_id1"
            ]
          }
        },
        {
          "output_type": "display_data",
          "data": {
            "application/javascript": [
              "window[\"3cbbedb6-e908-11e8-b3f9-0242ac1c0002\"] = google.colab.output.setActiveOutputArea(window[\"3cbb860a-e908-11e8-b3f9-0242ac1c0002\"]);\n",
              "//# sourceURL=js_13e889ced8"
            ],
            "text/plain": [
              "<IPython.core.display.Javascript object>"
            ]
          },
          "metadata": {
            "tags": [
              "id1_content_4",
              "outputarea_id1"
            ]
          }
        },
        {
          "output_type": "display_data",
          "data": {
            "application/javascript": [
              "window[\"3cbc3ca8-e908-11e8-b3f9-0242ac1c0002\"] = window[\"id1\"].setSelectedTabIndex(4);\n",
              "//# sourceURL=js_08b10358f0"
            ],
            "text/plain": [
              "<IPython.core.display.Javascript object>"
            ]
          },
          "metadata": {
            "tags": [
              "id1_content_4",
              "outputarea_id1"
            ]
          }
        },
        {
          "output_type": "display_data",
          "data": {
            "image/png": "[encoded data removed]",
            "text/plain": [
              "<matplotlib.figure.Figure at 0x7f50cb12ee10>"
            ]
          },
          "metadata": {
            "tags": [
              "id1_content_4",
              "outputarea_id1",
              "user_output"
            ]
          }
        },
        {
          "output_type": "display_data",
          "data": {
            "application/javascript": [
              "window[\"3d24eabe-e908-11e8-b3f9-0242ac1c0002\"] = google.colab.output.setActiveOutputArea(window[\"3cbb25f2-e908-11e8-b3f9-0242ac1c0002\"]);\n",
              "//# sourceURL=js_015eea8d9b"
            ],
            "text/plain": [
              "<IPython.core.display.Javascript object>"
            ]
          },
          "metadata": {
            "tags": [
              "id1_content_4",
              "outputarea_id1"
            ]
          }
        },
        {
          "output_type": "display_data",
          "data": {
            "application/javascript": [
              "window[\"3d28ab18-e908-11e8-b3f9-0242ac1c0002\"] = google.colab.output.getActiveOutputArea();\n",
              "//# sourceURL=js_1a6d7cbebd"
            ],
            "text/plain": [
              "<IPython.core.display.Javascript object>"
            ]
          },
          "metadata": {
            "tags": [
              "id1_content_5",
              "outputarea_id1"
            ]
          }
        },
        {
          "output_type": "display_data",
          "data": {
            "application/javascript": [
              "window[\"3d29158a-e908-11e8-b3f9-0242ac1c0002\"] = document.querySelector(\"#id1_content_5\");\n",
              "//# sourceURL=js_56a91c6232"
            ],
            "text/plain": [
              "<IPython.core.display.Javascript object>"
            ]
          },
          "metadata": {
            "tags": [
              "id1_content_5",
              "outputarea_id1"
            ]
          }
        },
        {
          "output_type": "display_data",
          "data": {
            "application/javascript": [
              "window[\"3d2985d8-e908-11e8-b3f9-0242ac1c0002\"] = google.colab.output.setActiveOutputArea(window[\"3d29158a-e908-11e8-b3f9-0242ac1c0002\"]);\n",
              "//# sourceURL=js_dbdf6d9758"
            ],
            "text/plain": [
              "<IPython.core.display.Javascript object>"
            ]
          },
          "metadata": {
            "tags": [
              "id1_content_5",
              "outputarea_id1"
            ]
          }
        },
        {
          "output_type": "display_data",
          "data": {
            "application/javascript": [
              "window[\"3d29e014-e908-11e8-b3f9-0242ac1c0002\"] = window[\"id1\"].setSelectedTabIndex(5);\n",
              "//# sourceURL=js_2854f96898"
            ],
            "text/plain": [
              "<IPython.core.display.Javascript object>"
            ]
          },
          "metadata": {
            "tags": [
              "id1_content_5",
              "outputarea_id1"
            ]
          }
        },
        {
          "output_type": "display_data",
          "data": {
            "image/png": "[encoded data removed]",
            "text/plain": [
              "<matplotlib.figure.Figure at 0x7f50cd4fd940>"
            ]
          },
          "metadata": {
            "tags": [
              "id1_content_5",
              "outputarea_id1",
              "user_output"
            ]
          }
        },
        {
          "output_type": "display_data",
          "data": {
            "application/javascript": [
              "window[\"3d921986-e908-11e8-b3f9-0242ac1c0002\"] = google.colab.output.setActiveOutputArea(window[\"3d28ab18-e908-11e8-b3f9-0242ac1c0002\"]);\n",
              "//# sourceURL=js_340edfc2ec"
            ],
            "text/plain": [
              "<IPython.core.display.Javascript object>"
            ]
          },
          "metadata": {
            "tags": [
              "id1_content_5",
              "outputarea_id1"
            ]
          }
        }
      ]
    },
    {
      "metadata": {
        "id": "krnqBnTLsN1T",
        "colab_type": "text"
      },
      "cell_type": "markdown",
      "source": [
        ""
      ]
    }
  ]
}