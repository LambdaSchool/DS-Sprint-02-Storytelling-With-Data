{
  "nbformat": 4,
  "nbformat_minor": 0,
  "metadata": {
    "colab": {
      "name": "DS_Unit_1_Sprint_Challenge_2.ipynb",
      "version": "0.3.2",
      "provenance": [],
      "collapsed_sections": []
    },
    "kernelspec": {
      "name": "python3",
      "display_name": "Python 3"
    }
  },
  "cells": [
    {
      "metadata": {
        "id": "i-n_5en3ER1o",
        "colab_type": "text"
      },
      "cell_type": "markdown",
      "source": [
        "# Data Science Unit 1 Sprint Challenge 2\n",
        "\n",
        "# Storytelling with Data\n",
        "\n",
        "In this sprint challenge you'll work with a dataset from **FiveThirtyEight's article, [Every Guest Jon Stewart Ever Had On ‘The Daily Show’](https://fivethirtyeight.com/features/every-guest-jon-stewart-ever-had-on-the-daily-show/)**!"
      ]
    },
    {
      "metadata": {
        "id": "Thm2n5FF2Fnp",
        "colab_type": "text"
      },
      "cell_type": "markdown",
      "source": [
        "# Part 0 — Run this starter code\n",
        "\n",
        "You don't need to add or change anything here. Just run this cell and it loads the data for you, into a dataframe named `df`.\n",
        "\n",
        "(You can explore the data if you want, but it's not required to pass the Sprint Challenge.)"
      ]
    },
    {
      "metadata": {
        "id": "0rTHgzJIuRS7",
        "colab_type": "code",
        "colab": {}
      },
      "cell_type": "code",
      "source": [
        "%matplotlib inline\n",
        "import matplotlib.pyplot as plt\n",
        "import numpy as np\n",
        "import pandas as pd\n",
        "import seaborn as sns\n",
        "\n",
        "df = pd.read_csv('https://raw.githubusercontent.com/fivethirtyeight/data/master/daily-show-guests/daily_show_guests.csv')\n",
        "df.rename(columns={'YEAR': 'Year', 'Raw_Guest_List': 'Guest'}, inplace=True)\n",
        "\n",
        "def get_occupation(group):\n",
        "    if group in ['Acting', 'Comedy', 'Musician']:\n",
        "        return 'Acting, Comedy & Music'\n",
        "    elif group in ['Media', 'media']:\n",
        "        return 'Media'\n",
        "    elif group in ['Government', 'Politician', 'Political Aide']:\n",
        "        return 'Government and Politics'\n",
        "    else:\n",
        "        return 'Other'\n",
        "      \n",
        "df['Occupation'] = df['Group'].apply(get_occupation)"
      ],
      "execution_count": 0,
      "outputs": []
    },
    {
      "metadata": {
        "id": "OS0nW1vz1itX",
        "colab_type": "text"
      },
      "cell_type": "markdown",
      "source": [
        "# Part 1 — What's the breakdown of guests’ occupations per year?\n",
        "\n",
        "For example, in 1999, what percentage of guests were actors, comedians, or musicians? What percentage were in the media? What percentage were in politics? What percentage were from another occupation?\n",
        "\n",
        "Then, what about in 2000? In 2001? And so on, up through 2015.\n",
        "\n",
        "So, **for each year of _The Daily Show_, calculate the percentage of guests from each occupation:**\n",
        "- Acting, Comedy & Music\n",
        "- Government and Politics\n",
        "- Media\n",
        "- Other\n",
        "\n",
        "#### Hints:\n",
        "1. Use pandas to make a **crosstab** of **`Year`** & **`Occupation`**. ([This documentation](http://pandas.pydata.org/pandas-docs/stable/reshaping.html#cross-tabulations) has examples and explanation.)\n",
        "2. To get percentages instead of counts, use crosstab's **`normalize`** parameter to normalize over each _row._ ([This documentation](http://pandas.pydata.org/pandas-docs/stable/generated/pandas.crosstab.html) describes the parameter and its options.)\n",
        "3. You'll know you've calculated the crosstab correctly when the percentage of \"Acting, Comedy & Music\" guests is 90.36% in 1999, and 45% in 2015."
      ]
    },
    {
      "metadata": {
        "id": "sRMc0H_5z6ff",
        "colab_type": "code",
        "colab": {
          "base_uri": "https://localhost:8080/",
          "height": 202
        },
        "outputId": "a91641ee-e675-43c8-9db7-fe325d52a0e4"
      },
      "cell_type": "code",
      "source": [
        "df.head()"
      ],
      "execution_count": 2,
      "outputs": [
        {
          "output_type": "execute_result",
          "data": {
            "text/html": [
              "<div>\n",
              "<style scoped>\n",
              "    .dataframe tbody tr th:only-of-type {\n",
              "        vertical-align: middle;\n",
              "    }\n",
              "\n",
              "    .dataframe tbody tr th {\n",
              "        vertical-align: top;\n",
              "    }\n",
              "\n",
              "    .dataframe thead th {\n",
              "        text-align: right;\n",
              "    }\n",
              "</style>\n",
              "<table border=\"1\" class=\"dataframe\">\n",
              "  <thead>\n",
              "    <tr style=\"text-align: right;\">\n",
              "      <th></th>\n",
              "      <th>Year</th>\n",
              "      <th>GoogleKnowlege_Occupation</th>\n",
              "      <th>Show</th>\n",
              "      <th>Group</th>\n",
              "      <th>Guest</th>\n",
              "      <th>Occupation</th>\n",
              "    </tr>\n",
              "  </thead>\n",
              "  <tbody>\n",
              "    <tr>\n",
              "      <th>0</th>\n",
              "      <td>1999</td>\n",
              "      <td>actor</td>\n",
              "      <td>1/11/99</td>\n",
              "      <td>Acting</td>\n",
              "      <td>Michael J. Fox</td>\n",
              "      <td>Acting, Comedy &amp; Music</td>\n",
              "    </tr>\n",
              "    <tr>\n",
              "      <th>1</th>\n",
              "      <td>1999</td>\n",
              "      <td>Comedian</td>\n",
              "      <td>1/12/99</td>\n",
              "      <td>Comedy</td>\n",
              "      <td>Sandra Bernhard</td>\n",
              "      <td>Acting, Comedy &amp; Music</td>\n",
              "    </tr>\n",
              "    <tr>\n",
              "      <th>2</th>\n",
              "      <td>1999</td>\n",
              "      <td>television actress</td>\n",
              "      <td>1/13/99</td>\n",
              "      <td>Acting</td>\n",
              "      <td>Tracey Ullman</td>\n",
              "      <td>Acting, Comedy &amp; Music</td>\n",
              "    </tr>\n",
              "    <tr>\n",
              "      <th>3</th>\n",
              "      <td>1999</td>\n",
              "      <td>film actress</td>\n",
              "      <td>1/14/99</td>\n",
              "      <td>Acting</td>\n",
              "      <td>Gillian Anderson</td>\n",
              "      <td>Acting, Comedy &amp; Music</td>\n",
              "    </tr>\n",
              "    <tr>\n",
              "      <th>4</th>\n",
              "      <td>1999</td>\n",
              "      <td>actor</td>\n",
              "      <td>1/18/99</td>\n",
              "      <td>Acting</td>\n",
              "      <td>David Alan Grier</td>\n",
              "      <td>Acting, Comedy &amp; Music</td>\n",
              "    </tr>\n",
              "  </tbody>\n",
              "</table>\n",
              "</div>"
            ],
            "text/plain": [
              "   Year GoogleKnowlege_Occupation     Show   Group             Guest  \\\n",
              "0  1999                     actor  1/11/99  Acting    Michael J. Fox   \n",
              "1  1999                  Comedian  1/12/99  Comedy   Sandra Bernhard   \n",
              "2  1999        television actress  1/13/99  Acting     Tracey Ullman   \n",
              "3  1999              film actress  1/14/99  Acting  Gillian Anderson   \n",
              "4  1999                     actor  1/18/99  Acting  David Alan Grier   \n",
              "\n",
              "               Occupation  \n",
              "0  Acting, Comedy & Music  \n",
              "1  Acting, Comedy & Music  \n",
              "2  Acting, Comedy & Music  \n",
              "3  Acting, Comedy & Music  \n",
              "4  Acting, Comedy & Music  "
            ]
          },
          "metadata": {
            "tags": []
          },
          "execution_count": 2
        }
      ]
    },
    {
      "metadata": {
        "id": "0Dg5Ovh6R_V-",
        "colab_type": "code",
        "colab": {}
      },
      "cell_type": "code",
      "source": [
        ""
      ],
      "execution_count": 0,
      "outputs": []
    },
    {
      "metadata": {
        "id": "XW1YJWkGRqqe",
        "colab_type": "code",
        "colab": {
          "base_uri": "https://localhost:8080/",
          "height": 601
        },
        "outputId": "e1167de9-01dc-4416-d983-47971c23b216"
      },
      "cell_type": "code",
      "source": [
        "ct = pd.crosstab(df.Year, df.Occupation, normalize='index')\n",
        "ct = ct*100\n",
        "ct"
      ],
      "execution_count": 3,
      "outputs": [
        {
          "output_type": "execute_result",
          "data": {
            "text/html": [
              "<div>\n",
              "<style scoped>\n",
              "    .dataframe tbody tr th:only-of-type {\n",
              "        vertical-align: middle;\n",
              "    }\n",
              "\n",
              "    .dataframe tbody tr th {\n",
              "        vertical-align: top;\n",
              "    }\n",
              "\n",
              "    .dataframe thead th {\n",
              "        text-align: right;\n",
              "    }\n",
              "</style>\n",
              "<table border=\"1\" class=\"dataframe\">\n",
              "  <thead>\n",
              "    <tr style=\"text-align: right;\">\n",
              "      <th>Occupation</th>\n",
              "      <th>Acting, Comedy &amp; Music</th>\n",
              "      <th>Government and Politics</th>\n",
              "      <th>Media</th>\n",
              "      <th>Other</th>\n",
              "    </tr>\n",
              "    <tr>\n",
              "      <th>Year</th>\n",
              "      <th></th>\n",
              "      <th></th>\n",
              "      <th></th>\n",
              "      <th></th>\n",
              "    </tr>\n",
              "  </thead>\n",
              "  <tbody>\n",
              "    <tr>\n",
              "      <th>1999</th>\n",
              "      <td>90.361446</td>\n",
              "      <td>1.204819</td>\n",
              "      <td>6.626506</td>\n",
              "      <td>1.807229</td>\n",
              "    </tr>\n",
              "    <tr>\n",
              "      <th>2000</th>\n",
              "      <td>73.964497</td>\n",
              "      <td>8.284024</td>\n",
              "      <td>12.426036</td>\n",
              "      <td>5.325444</td>\n",
              "    </tr>\n",
              "    <tr>\n",
              "      <th>2001</th>\n",
              "      <td>72.611465</td>\n",
              "      <td>3.821656</td>\n",
              "      <td>19.745223</td>\n",
              "      <td>3.821656</td>\n",
              "    </tr>\n",
              "    <tr>\n",
              "      <th>2002</th>\n",
              "      <td>62.264151</td>\n",
              "      <td>6.918239</td>\n",
              "      <td>26.415094</td>\n",
              "      <td>4.402516</td>\n",
              "    </tr>\n",
              "    <tr>\n",
              "      <th>2003</th>\n",
              "      <td>56.024096</td>\n",
              "      <td>10.240964</td>\n",
              "      <td>24.698795</td>\n",
              "      <td>9.036145</td>\n",
              "    </tr>\n",
              "    <tr>\n",
              "      <th>2004</th>\n",
              "      <td>38.414634</td>\n",
              "      <td>22.560976</td>\n",
              "      <td>27.439024</td>\n",
              "      <td>11.585366</td>\n",
              "    </tr>\n",
              "    <tr>\n",
              "      <th>2005</th>\n",
              "      <td>37.037037</td>\n",
              "      <td>16.049383</td>\n",
              "      <td>33.333333</td>\n",
              "      <td>13.580247</td>\n",
              "    </tr>\n",
              "    <tr>\n",
              "      <th>2006</th>\n",
              "      <td>36.024845</td>\n",
              "      <td>19.254658</td>\n",
              "      <td>29.192547</td>\n",
              "      <td>15.527950</td>\n",
              "    </tr>\n",
              "    <tr>\n",
              "      <th>2007</th>\n",
              "      <td>25.531915</td>\n",
              "      <td>17.021277</td>\n",
              "      <td>33.333333</td>\n",
              "      <td>24.113475</td>\n",
              "    </tr>\n",
              "    <tr>\n",
              "      <th>2008</th>\n",
              "      <td>20.731707</td>\n",
              "      <td>20.121951</td>\n",
              "      <td>46.951220</td>\n",
              "      <td>12.195122</td>\n",
              "    </tr>\n",
              "    <tr>\n",
              "      <th>2009</th>\n",
              "      <td>20.858896</td>\n",
              "      <td>20.858896</td>\n",
              "      <td>36.196319</td>\n",
              "      <td>22.085890</td>\n",
              "    </tr>\n",
              "    <tr>\n",
              "      <th>2010</th>\n",
              "      <td>35.151515</td>\n",
              "      <td>18.181818</td>\n",
              "      <td>30.303030</td>\n",
              "      <td>16.363636</td>\n",
              "    </tr>\n",
              "    <tr>\n",
              "      <th>2011</th>\n",
              "      <td>33.742331</td>\n",
              "      <td>16.564417</td>\n",
              "      <td>31.288344</td>\n",
              "      <td>18.404908</td>\n",
              "    </tr>\n",
              "    <tr>\n",
              "      <th>2012</th>\n",
              "      <td>26.829268</td>\n",
              "      <td>20.121951</td>\n",
              "      <td>31.707317</td>\n",
              "      <td>21.341463</td>\n",
              "    </tr>\n",
              "    <tr>\n",
              "      <th>2013</th>\n",
              "      <td>42.771084</td>\n",
              "      <td>12.650602</td>\n",
              "      <td>30.722892</td>\n",
              "      <td>13.855422</td>\n",
              "    </tr>\n",
              "    <tr>\n",
              "      <th>2014</th>\n",
              "      <td>39.263804</td>\n",
              "      <td>12.883436</td>\n",
              "      <td>32.515337</td>\n",
              "      <td>15.337423</td>\n",
              "    </tr>\n",
              "    <tr>\n",
              "      <th>2015</th>\n",
              "      <td>45.000000</td>\n",
              "      <td>17.000000</td>\n",
              "      <td>24.000000</td>\n",
              "      <td>14.000000</td>\n",
              "    </tr>\n",
              "  </tbody>\n",
              "</table>\n",
              "</div>"
            ],
            "text/plain": [
              "Occupation  Acting, Comedy & Music  Government and Politics      Media  \\\n",
              "Year                                                                     \n",
              "1999                     90.361446                 1.204819   6.626506   \n",
              "2000                     73.964497                 8.284024  12.426036   \n",
              "2001                     72.611465                 3.821656  19.745223   \n",
              "2002                     62.264151                 6.918239  26.415094   \n",
              "2003                     56.024096                10.240964  24.698795   \n",
              "2004                     38.414634                22.560976  27.439024   \n",
              "2005                     37.037037                16.049383  33.333333   \n",
              "2006                     36.024845                19.254658  29.192547   \n",
              "2007                     25.531915                17.021277  33.333333   \n",
              "2008                     20.731707                20.121951  46.951220   \n",
              "2009                     20.858896                20.858896  36.196319   \n",
              "2010                     35.151515                18.181818  30.303030   \n",
              "2011                     33.742331                16.564417  31.288344   \n",
              "2012                     26.829268                20.121951  31.707317   \n",
              "2013                     42.771084                12.650602  30.722892   \n",
              "2014                     39.263804                12.883436  32.515337   \n",
              "2015                     45.000000                17.000000  24.000000   \n",
              "\n",
              "Occupation      Other  \n",
              "Year                   \n",
              "1999         1.807229  \n",
              "2000         5.325444  \n",
              "2001         3.821656  \n",
              "2002         4.402516  \n",
              "2003         9.036145  \n",
              "2004        11.585366  \n",
              "2005        13.580247  \n",
              "2006        15.527950  \n",
              "2007        24.113475  \n",
              "2008        12.195122  \n",
              "2009        22.085890  \n",
              "2010        16.363636  \n",
              "2011        18.404908  \n",
              "2012        21.341463  \n",
              "2013        13.855422  \n",
              "2014        15.337423  \n",
              "2015        14.000000  "
            ]
          },
          "metadata": {
            "tags": []
          },
          "execution_count": 3
        }
      ]
    },
    {
      "metadata": {
        "id": "Nqf9oJJDDu-d",
        "colab_type": "text"
      },
      "cell_type": "markdown",
      "source": [
        "# Part 2 — Recreate this explanatory visualization:"
      ]
    },
    {
      "metadata": {
        "id": "scozkHQc0_eD",
        "colab_type": "code",
        "outputId": "fa15b131-f123-420f-bdb1-795ac4067cec",
        "colab": {
          "base_uri": "https://localhost:8080/",
          "height": 406
        }
      },
      "cell_type": "code",
      "source": [
        "from IPython.display import display, Image\n",
        "url = 'https://fivethirtyeight.com/wp-content/uploads/2015/08/hickey-datalab-dailyshow.png'\n",
        "example = Image(url, width=500)\n",
        "display(example)"
      ],
      "execution_count": 4,
      "outputs": [
        {
          "output_type": "display_data",
          "data": {
            "image/png": "[encoded data removed]",
            "text/plain": [
              "<IPython.core.display.Image object>"
            ]
          },
          "metadata": {
            "tags": [],
            "image/png": {
              "width": 500
            }
          }
        }
      ]
    },
    {
      "metadata": {
        "id": "W7lw3JzAE6BJ",
        "colab_type": "text"
      },
      "cell_type": "markdown",
      "source": [
        "**Hint:** use the crosstab you calculated in part 1!\n",
        "\n",
        "**Expectations:** Your plot should include:\n",
        "- 3 lines visualizing \"occupation of guests, by year.\" The shapes of the lines should look roughly identical to 538's example. Each line should be a different color. (But you don't need to use the _same_ colors as 538.)\n",
        "- Legend or labels for the lines. (But you don't need each label positioned next to its line or colored like 538.)\n",
        "- Title in the upper left: _\"Who Got To Be On 'The Daily Show'?\"_ with more visual emphasis than the subtitle. (Bolder and/or larger font.)\n",
        "- Subtitle underneath the title: _\"Occupation of guests, by year\"_\n",
        "\n",
        "Any visual element not specifically mentioned in the expectations is an optional bonus, but it's _not_ required to pass the Sprint Challenge.\n",
        "\n",
        "\n",
        "\n",
        "\n"
      ]
    },
    {
      "metadata": {
        "id": "YhGhnLj6TPpg",
        "colab_type": "code",
        "colab": {
          "base_uri": "https://localhost:8080/",
          "height": 34
        },
        "outputId": "5927ed61-4f0e-47da-b4e2-cf4a313d1673"
      },
      "cell_type": "code",
      "source": [
        "ct.columns"
      ],
      "execution_count": 5,
      "outputs": [
        {
          "output_type": "execute_result",
          "data": {
            "text/plain": [
              "Index(['Acting, Comedy & Music', 'Government and Politics', 'Media', 'Other'], dtype='object', name='Occupation')"
            ]
          },
          "metadata": {
            "tags": []
          },
          "execution_count": 5
        }
      ]
    },
    {
      "metadata": {
        "id": "TA7RolJJV9jI",
        "colab_type": "code",
        "colab": {}
      },
      "cell_type": "code",
      "source": [
        "year = ct.index.tolist()"
      ],
      "execution_count": 0,
      "outputs": []
    },
    {
      "metadata": {
        "id": "E8XBAr8rz_Na",
        "colab_type": "code",
        "colab": {
          "base_uri": "https://localhost:8080/",
          "height": 320
        },
        "outputId": "e2179daf-3c19-4ea2-8976-aa2678f8ef3b"
      },
      "cell_type": "code",
      "source": [
        "plt.style.use('fivethirtyeight')\n",
        "   \n",
        "\n",
        "ax = sns.lineplot(x=year, y=ct['Acting, Comedy & Music'].tolist(),lw=3.2)\n",
        "ax1 = sns.lineplot(x=year, y=ct['Government and Politics'].tolist(), lw=3.2)\n",
        "ax2 = sns.lineplot(x=year, y=ct['Media'].tolist(), lw=3.2)\n",
        "\n",
        "# Title & subtitle text\n",
        "plt.suptitle(\"Who Got To Be On 'The Daily Show'?\", x=-0.01, y=.95,\n",
        "             horizontalalignment='left', verticalalignment='top',\n",
        "             fontsize = 15, fontweight='semibold', color='#333333')\n",
        "\n",
        "# Removing spines\n",
        "for key, spine in ax.spines.items():\n",
        "    spine.set_visible(False)\n",
        "\n",
        "# Y-axis limit\n",
        "plt.ylim(-5, 105)\n",
        "# Y-axis ticks & labels\n",
        "ax.set_yticks([0, 25, 50, 75, 100])\n",
        "ax.set_yticklabels(labels=['0', '25', '50', '75', '100%'], fontsize=14, color='black')\n",
        "\n",
        "\n",
        "# X-axis ticks & labels\n",
        "ax.set_xticks([2000, 2004, 2008, 2012])\n",
        "ax.set_xticklabels(['2000', '2004', '20008', '2012'], fontsize=14, color='black')\n",
        "\n",
        "# Horizontal line at y=0\n",
        "ax.axhline(y=0, color='gray', linewidth=2.5, alpha=0.8) \n"
      ],
      "execution_count": 11,
      "outputs": [
        {
          "output_type": "execute_result",
          "data": {
            "text/plain": [
              "<matplotlib.lines.Line2D at 0x7f0ad2cc4588>"
            ]
          },
          "metadata": {
            "tags": []
          },
          "execution_count": 11
        },
        {
          "output_type": "display_data",
          "data": {
            "image/png": "[encoded data removed]",
            "text/plain": [
              "<matplotlib.figure.Figure at 0x7f0ad6d83da0>"
            ]
          },
          "metadata": {
            "tags": []
          }
        }
      ]
    },
    {
      "metadata": {
        "id": "LuacMjSf2ses",
        "colab_type": "text"
      },
      "cell_type": "markdown",
      "source": [
        "# Part 3 — Who were the top 10 guests on _The Daily Show_?\n",
        "\n",
        "**Make a plot** that shows their names and number of appearances.\n",
        "\n",
        "**Hint:** you can use the pandas `value_counts` method.\n",
        "\n",
        "**Expectations:** This can be a simple, quick plot: exploratory, not explanatory. \n",
        "\n",
        "If you want, you can add titles and change aesthetics, but it's _not_ required to pass the Sprint Challenge."
      ]
    },
    {
      "metadata": {
        "id": "mS8vr952sU2j",
        "colab_type": "code",
        "colab": {
          "base_uri": "https://localhost:8080/",
          "height": 282
        },
        "outputId": "ed5957e5-c559-4fb6-d942-07fc2ed69491"
      },
      "cell_type": "code",
      "source": [
        "df['Guest'].value_counts().head(10).plot(kind='barh');"
      ],
      "execution_count": 12,
      "outputs": [
        {
          "output_type": "display_data",
          "data": {
            "image/png": "[encoded data removed]",
            "text/plain": [
              "<matplotlib.figure.Figure at 0x7f0ad6e34c18>"
            ]
          },
          "metadata": {
            "tags": []
          }
        }
      ]
    },
    {
      "metadata": {
        "id": "0qA6FrAmr2z-",
        "colab_type": "code",
        "colab": {}
      },
      "cell_type": "code",
      "source": [
        ""
      ],
      "execution_count": 0,
      "outputs": []
    }
  ]
}