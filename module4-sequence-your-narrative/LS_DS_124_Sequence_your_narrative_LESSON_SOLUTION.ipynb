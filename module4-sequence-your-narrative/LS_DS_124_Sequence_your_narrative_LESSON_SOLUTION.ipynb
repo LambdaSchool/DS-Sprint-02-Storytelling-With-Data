{
  "nbformat": 4,
  "nbformat_minor": 0,
  "metadata": {
    "colab": {
      "name": "Copy of LS_DS_124_Sequence_your_narrative_LESSON_SOLUTION.ipynb",
      "version": "0.3.2",
      "provenance": [],
      "collapsed_sections": [],
      "include_colab_link": true
    },
    "kernelspec": {
      "display_name": "Python 3",
      "language": "python",
      "name": "python3"
    }
  },
  "cells": [
    {
      "cell_type": "markdown",
      "metadata": {
        "id": "view-in-github",
        "colab_type": "text"
      },
      "source": [
        "<a href=\"https://colab.research.google.com/github/invegat/DS-Sprint-02-Storytelling-With-Data/blob/master/module4-sequence-your-narrative/LS_DS_124_Sequence_your_narrative_LESSON_SOLUTION.ipynb\" target=\"_parent\"><img src=\"https://colab.research.google.com/assets/colab-badge.svg\" alt=\"Open In Colab\"/></a>"
      ]
    },
    {
      "metadata": {
        "id": "JbDHnhet8CWy",
        "colab_type": "text"
      },
      "cell_type": "markdown",
      "source": [
        "_Lambda School Data Science_\n",
        "\n",
        "# Sequence your narrative\n",
        "\n",
        "Create a sequence of visualizations inspired by [Hans Rosling's 200 Countries, 200 Years, 4 Minutes](https://www.youtube.com/watch?v=jbkSRLYSojo).\n",
        "\n",
        "Using this [data from Gapminder](https://github.com/open-numbers/ddf--gapminder--systema_globalis/):\n",
        "- https://raw.githubusercontent.com/open-numbers/ddf--gapminder--systema_globalis/master/ddf--datapoints--income_per_person_gdppercapita_ppp_inflation_adjusted--by--geo--time.csv\n",
        "- https://raw.githubusercontent.com/open-numbers/ddf--gapminder--systema_globalis/master/ddf--datapoints--life_expectancy_years--by--geo--time.csv\n",
        "- https://raw.githubusercontent.com/open-numbers/ddf--gapminder--systema_globalis/master/ddf--datapoints--population_total--by--geo--time.csv\n",
        "- https://raw.githubusercontent.com/open-numbers/ddf--gapminder--systema_globalis/master/ddf--entities--geo--country.csv\n",
        "- https://raw.githubusercontent.com/open-numbers/ddf--gapminder--systema_globalis/master/ddf--concepts.csv"
      ]
    },
    {
      "metadata": {
        "id": "SxTJBgRAW3jD",
        "colab_type": "text"
      },
      "cell_type": "markdown",
      "source": [
        "Variables --> Visual Encodings\n",
        "- Income --> x\n",
        "- Lifespan --> y\n",
        "- Region --> color\n",
        "- Population --> size\n",
        "- Year --> animation frame (alternative: small multiple)\n",
        "- Country --> annotation\n",
        "\n",
        "Qualitative --> Verbal\n",
        "- Editorial / contextual explanation --> audio narration (alternative: text)\n",
        "\n",
        "\n",
        "| Year | Country | Region   | Income | Lifespan | Population |\n",
        "|------|---------|----------|--------|----------|------------|\n",
        "| 1818 | USA     | Americas | ###    | ##       | #          |\n",
        "| 1918 | USA     | Americas | ####   | ###      | ##         |\n",
        "| 2018 | USA     | Americas | #####  | ###      | ###        |\n",
        "| 1818 | China   | Asia     | #      | #        | #          |\n",
        "| 1918 | China   | Asia     | ##     | ##       | ###        |\n",
        "| 2018 | China   | Asia     | ###    | ###      | #####      |\n"
      ]
    },
    {
      "metadata": {
        "id": "3ebEjShbWsIy",
        "colab_type": "text"
      },
      "cell_type": "markdown",
      "source": [
        "## Upgrade Seaborn\n",
        "\n",
        "Make sure you have at least version 0.9.0.\n",
        "\n",
        "In Colab, go to **Restart runtime** after you run the `pip` command."
      ]
    },
    {
      "metadata": {
        "id": "4RSxbu7rWr1p",
        "colab_type": "code",
        "outputId": "266dc708-b3ca-4854-9b10-83e4349fcbb0",
        "colab": {
          "base_uri": "https://localhost:8080/",
          "height": 314
        }
      },
      "cell_type": "code",
      "source": [
        "!pip install --upgrade seaborn"
      ],
      "execution_count": 2,
      "outputs": [
        {
          "output_type": "stream",
          "text": [
            "Collecting seaborn\n",
            "\u001b[?25l  Downloading https://files.pythonhosted.org/packages/a8/76/220ba4420459d9c4c9c9587c6ce607bf56c25b3d3d2de62056efe482dadc/seaborn-0.9.0-py3-none-any.whl (208kB)\n",
            "\u001b[K    100% |████████████████████████████████| 215kB 21.6MB/s \n",
            "\u001b[?25hRequirement already satisfied, skipping upgrade: scipy>=0.14.0 in /usr/local/lib/python3.6/dist-packages (from seaborn) (1.1.0)\n",
            "Requirement already satisfied, skipping upgrade: numpy>=1.9.3 in /usr/local/lib/python3.6/dist-packages (from seaborn) (1.14.6)\n",
            "Requirement already satisfied, skipping upgrade: matplotlib>=1.4.3 in /usr/local/lib/python3.6/dist-packages (from seaborn) (2.1.2)\n",
            "Requirement already satisfied, skipping upgrade: pandas>=0.15.2 in /usr/local/lib/python3.6/dist-packages (from seaborn) (0.22.0)\n",
            "Requirement already satisfied, skipping upgrade: pytz in /usr/local/lib/python3.6/dist-packages (from matplotlib>=1.4.3->seaborn) (2018.7)\n",
            "Requirement already satisfied, skipping upgrade: cycler>=0.10 in /usr/local/lib/python3.6/dist-packages (from matplotlib>=1.4.3->seaborn) (0.10.0)\n",
            "Requirement already satisfied, skipping upgrade: six>=1.10 in /usr/local/lib/python3.6/dist-packages (from matplotlib>=1.4.3->seaborn) (1.11.0)\n",
            "Requirement already satisfied, skipping upgrade: python-dateutil>=2.1 in /usr/local/lib/python3.6/dist-packages (from matplotlib>=1.4.3->seaborn) (2.5.3)\n",
            "Requirement already satisfied, skipping upgrade: pyparsing!=2.0.4,!=2.1.2,!=2.1.6,>=2.0.1 in /usr/local/lib/python3.6/dist-packages (from matplotlib>=1.4.3->seaborn) (2.3.0)\n",
            "Installing collected packages: seaborn\n",
            "  Found existing installation: seaborn 0.7.1\n",
            "    Uninstalling seaborn-0.7.1:\n",
            "      Successfully uninstalled seaborn-0.7.1\n",
            "Successfully installed seaborn-0.9.0\n"
          ],
          "name": "stdout"
        }
      ]
    },
    {
      "metadata": {
        "id": "5sQ0-7JUWyN4",
        "colab_type": "code",
        "outputId": "c481bb39-d168-4a08-99c5-0856da17110d",
        "colab": {
          "base_uri": "https://localhost:8080/",
          "height": 34
        }
      },
      "cell_type": "code",
      "source": [
        "import seaborn as sns\n",
        "sns.__version__"
      ],
      "execution_count": 3,
      "outputs": [
        {
          "output_type": "execute_result",
          "data": {
            "text/plain": [
              "'0.7.1'"
            ]
          },
          "metadata": {
            "tags": []
          },
          "execution_count": 3
        }
      ]
    },
    {
      "metadata": {
        "id": "S2dXWRTFTsgd",
        "colab_type": "text"
      },
      "cell_type": "markdown",
      "source": [
        "## More imports"
      ]
    },
    {
      "metadata": {
        "id": "y-TgL_mA8OkF",
        "colab_type": "code",
        "colab": {}
      },
      "cell_type": "code",
      "source": [
        "%matplotlib inline\n",
        "import matplotlib.pyplot as plt\n",
        "import numpy as np\n",
        "import pandas as pd"
      ],
      "execution_count": 0,
      "outputs": []
    },
    {
      "metadata": {
        "id": "CZGG5prcTxrQ",
        "colab_type": "text"
      },
      "cell_type": "markdown",
      "source": [
        "## Load & look at data"
      ]
    },
    {
      "metadata": {
        "id": "-uE25LHD8CW0",
        "colab_type": "code",
        "colab": {}
      },
      "cell_type": "code",
      "source": [
        "income = pd.read_csv('https://raw.githubusercontent.com/open-numbers/ddf--gapminder--systema_globalis/master/ddf--datapoints--income_per_person_gdppercapita_ppp_inflation_adjusted--by--geo--time.csv')"
      ],
      "execution_count": 0,
      "outputs": []
    },
    {
      "metadata": {
        "id": "gg_pJslMY2bq",
        "colab_type": "code",
        "colab": {}
      },
      "cell_type": "code",
      "source": [
        "lifespan = pd.read_csv('https://raw.githubusercontent.com/open-numbers/ddf--gapminder--systema_globalis/master/ddf--datapoints--life_expectancy_years--by--geo--time.csv')"
      ],
      "execution_count": 0,
      "outputs": []
    },
    {
      "metadata": {
        "id": "F6knDUevY-xR",
        "colab_type": "code",
        "colab": {}
      },
      "cell_type": "code",
      "source": [
        "population = pd.read_csv('https://raw.githubusercontent.com/open-numbers/ddf--gapminder--systema_globalis/master/ddf--datapoints--population_total--by--geo--time.csv')"
      ],
      "execution_count": 0,
      "outputs": []
    },
    {
      "metadata": {
        "id": "hX6abI-iZGLl",
        "colab_type": "code",
        "colab": {}
      },
      "cell_type": "code",
      "source": [
        "entities = pd.read_csv('https://raw.githubusercontent.com/open-numbers/ddf--gapminder--systema_globalis/master/ddf--entities--geo--country.csv')"
      ],
      "execution_count": 0,
      "outputs": []
    },
    {
      "metadata": {
        "id": "AI-zcaDkZHXm",
        "colab_type": "code",
        "colab": {}
      },
      "cell_type": "code",
      "source": [
        "concepts = pd.read_csv('https://raw.githubusercontent.com/open-numbers/ddf--gapminder--systema_globalis/master/ddf--concepts.csv')"
      ],
      "execution_count": 0,
      "outputs": []
    },
    {
      "metadata": {
        "id": "EgFw-g0nZLJy",
        "colab_type": "code",
        "outputId": "42bd5b20-4f01-402e-c5a7-a2ec01f5de09",
        "colab": {
          "base_uri": "https://localhost:8080/",
          "height": 34
        }
      },
      "cell_type": "code",
      "source": [
        "income.shape, lifespan.shape, population.shape, entities.shape, concepts.shape"
      ],
      "execution_count": 10,
      "outputs": [
        {
          "output_type": "execute_result",
          "data": {
            "text/plain": [
              "((44268, 3), (44370, 3), (51939, 3), (273, 33), (590, 16))"
            ]
          },
          "metadata": {
            "tags": []
          },
          "execution_count": 10
        }
      ]
    },
    {
      "metadata": {
        "id": "I-T62v7FZQu5",
        "colab_type": "code",
        "outputId": "c1ebaae7-4d62-40fc-cea8-fce93df4a205",
        "colab": {
          "base_uri": "https://localhost:8080/",
          "height": 204
        }
      },
      "cell_type": "code",
      "source": [
        "income.head()"
      ],
      "execution_count": 11,
      "outputs": [
        {
          "output_type": "execute_result",
          "data": {
            "text/html": [
              "<div>\n",
              "<style scoped>\n",
              "    .dataframe tbody tr th:only-of-type {\n",
              "        vertical-align: middle;\n",
              "    }\n",
              "\n",
              "    .dataframe tbody tr th {\n",
              "        vertical-align: top;\n",
              "    }\n",
              "\n",
              "    .dataframe thead th {\n",
              "        text-align: right;\n",
              "    }\n",
              "</style>\n",
              "<table border=\"1\" class=\"dataframe\">\n",
              "  <thead>\n",
              "    <tr style=\"text-align: right;\">\n",
              "      <th></th>\n",
              "      <th>geo</th>\n",
              "      <th>time</th>\n",
              "      <th>income_per_person_gdppercapita_ppp_inflation_adjusted</th>\n",
              "    </tr>\n",
              "  </thead>\n",
              "  <tbody>\n",
              "    <tr>\n",
              "      <th>0</th>\n",
              "      <td>abw</td>\n",
              "      <td>1800</td>\n",
              "      <td>833</td>\n",
              "    </tr>\n",
              "    <tr>\n",
              "      <th>1</th>\n",
              "      <td>abw</td>\n",
              "      <td>1801</td>\n",
              "      <td>833</td>\n",
              "    </tr>\n",
              "    <tr>\n",
              "      <th>2</th>\n",
              "      <td>abw</td>\n",
              "      <td>1802</td>\n",
              "      <td>833</td>\n",
              "    </tr>\n",
              "    <tr>\n",
              "      <th>3</th>\n",
              "      <td>abw</td>\n",
              "      <td>1803</td>\n",
              "      <td>833</td>\n",
              "    </tr>\n",
              "    <tr>\n",
              "      <th>4</th>\n",
              "      <td>abw</td>\n",
              "      <td>1804</td>\n",
              "      <td>833</td>\n",
              "    </tr>\n",
              "  </tbody>\n",
              "</table>\n",
              "</div>"
            ],
            "text/plain": [
              "   geo  time  income_per_person_gdppercapita_ppp_inflation_adjusted\n",
              "0  abw  1800                                                833    \n",
              "1  abw  1801                                                833    \n",
              "2  abw  1802                                                833    \n",
              "3  abw  1803                                                833    \n",
              "4  abw  1804                                                833    "
            ]
          },
          "metadata": {
            "tags": []
          },
          "execution_count": 11
        }
      ]
    },
    {
      "metadata": {
        "id": "2zIdtDESZYG5",
        "colab_type": "code",
        "outputId": "7e2c9124-0fa5-4992-e037-6bf7228b3ab1",
        "colab": {
          "base_uri": "https://localhost:8080/",
          "height": 204
        }
      },
      "cell_type": "code",
      "source": [
        "lifespan.head()"
      ],
      "execution_count": 12,
      "outputs": [
        {
          "output_type": "execute_result",
          "data": {
            "text/html": [
              "<div>\n",
              "<style scoped>\n",
              "    .dataframe tbody tr th:only-of-type {\n",
              "        vertical-align: middle;\n",
              "    }\n",
              "\n",
              "    .dataframe tbody tr th {\n",
              "        vertical-align: top;\n",
              "    }\n",
              "\n",
              "    .dataframe thead th {\n",
              "        text-align: right;\n",
              "    }\n",
              "</style>\n",
              "<table border=\"1\" class=\"dataframe\">\n",
              "  <thead>\n",
              "    <tr style=\"text-align: right;\">\n",
              "      <th></th>\n",
              "      <th>geo</th>\n",
              "      <th>time</th>\n",
              "      <th>life_expectancy_years</th>\n",
              "    </tr>\n",
              "  </thead>\n",
              "  <tbody>\n",
              "    <tr>\n",
              "      <th>0</th>\n",
              "      <td>abw</td>\n",
              "      <td>1800</td>\n",
              "      <td>34.42</td>\n",
              "    </tr>\n",
              "    <tr>\n",
              "      <th>1</th>\n",
              "      <td>abw</td>\n",
              "      <td>1801</td>\n",
              "      <td>34.42</td>\n",
              "    </tr>\n",
              "    <tr>\n",
              "      <th>2</th>\n",
              "      <td>abw</td>\n",
              "      <td>1802</td>\n",
              "      <td>34.42</td>\n",
              "    </tr>\n",
              "    <tr>\n",
              "      <th>3</th>\n",
              "      <td>abw</td>\n",
              "      <td>1803</td>\n",
              "      <td>34.42</td>\n",
              "    </tr>\n",
              "    <tr>\n",
              "      <th>4</th>\n",
              "      <td>abw</td>\n",
              "      <td>1804</td>\n",
              "      <td>34.42</td>\n",
              "    </tr>\n",
              "  </tbody>\n",
              "</table>\n",
              "</div>"
            ],
            "text/plain": [
              "   geo  time  life_expectancy_years\n",
              "0  abw  1800                  34.42\n",
              "1  abw  1801                  34.42\n",
              "2  abw  1802                  34.42\n",
              "3  abw  1803                  34.42\n",
              "4  abw  1804                  34.42"
            ]
          },
          "metadata": {
            "tags": []
          },
          "execution_count": 12
        }
      ]
    },
    {
      "metadata": {
        "id": "58AXNVMKZj3T",
        "colab_type": "code",
        "outputId": "4a2e059b-7935-4e70-dc77-e6bdd927e8be",
        "colab": {
          "base_uri": "https://localhost:8080/",
          "height": 204
        }
      },
      "cell_type": "code",
      "source": [
        "population.head()"
      ],
      "execution_count": 13,
      "outputs": [
        {
          "output_type": "execute_result",
          "data": {
            "text/html": [
              "<div>\n",
              "<style scoped>\n",
              "    .dataframe tbody tr th:only-of-type {\n",
              "        vertical-align: middle;\n",
              "    }\n",
              "\n",
              "    .dataframe tbody tr th {\n",
              "        vertical-align: top;\n",
              "    }\n",
              "\n",
              "    .dataframe thead th {\n",
              "        text-align: right;\n",
              "    }\n",
              "</style>\n",
              "<table border=\"1\" class=\"dataframe\">\n",
              "  <thead>\n",
              "    <tr style=\"text-align: right;\">\n",
              "      <th></th>\n",
              "      <th>geo</th>\n",
              "      <th>time</th>\n",
              "      <th>population_total</th>\n",
              "    </tr>\n",
              "  </thead>\n",
              "  <tbody>\n",
              "    <tr>\n",
              "      <th>0</th>\n",
              "      <td>abw</td>\n",
              "      <td>1800</td>\n",
              "      <td>19286</td>\n",
              "    </tr>\n",
              "    <tr>\n",
              "      <th>1</th>\n",
              "      <td>abw</td>\n",
              "      <td>1801</td>\n",
              "      <td>19286</td>\n",
              "    </tr>\n",
              "    <tr>\n",
              "      <th>2</th>\n",
              "      <td>abw</td>\n",
              "      <td>1802</td>\n",
              "      <td>19286</td>\n",
              "    </tr>\n",
              "    <tr>\n",
              "      <th>3</th>\n",
              "      <td>abw</td>\n",
              "      <td>1803</td>\n",
              "      <td>19286</td>\n",
              "    </tr>\n",
              "    <tr>\n",
              "      <th>4</th>\n",
              "      <td>abw</td>\n",
              "      <td>1804</td>\n",
              "      <td>19286</td>\n",
              "    </tr>\n",
              "  </tbody>\n",
              "</table>\n",
              "</div>"
            ],
            "text/plain": [
              "   geo  time  population_total\n",
              "0  abw  1800             19286\n",
              "1  abw  1801             19286\n",
              "2  abw  1802             19286\n",
              "3  abw  1803             19286\n",
              "4  abw  1804             19286"
            ]
          },
          "metadata": {
            "tags": []
          },
          "execution_count": 13
        }
      ]
    },
    {
      "metadata": {
        "id": "0ywWDL2MZqlF",
        "colab_type": "code",
        "outputId": "7ba21d6e-1fe6-4756-9c20-41b1e164ccb4",
        "colab": {
          "base_uri": "https://localhost:8080/",
          "height": 258
        }
      },
      "cell_type": "code",
      "source": [
        "pd.options.display.max_columns = None\n",
        "entities.head()"
      ],
      "execution_count": 14,
      "outputs": [
        {
          "output_type": "execute_result",
          "data": {
            "text/html": [
              "<div>\n",
              "<style scoped>\n",
              "    .dataframe tbody tr th:only-of-type {\n",
              "        vertical-align: middle;\n",
              "    }\n",
              "\n",
              "    .dataframe tbody tr th {\n",
              "        vertical-align: top;\n",
              "    }\n",
              "\n",
              "    .dataframe thead th {\n",
              "        text-align: right;\n",
              "    }\n",
              "</style>\n",
              "<table border=\"1\" class=\"dataframe\">\n",
              "  <thead>\n",
              "    <tr style=\"text-align: right;\">\n",
              "      <th></th>\n",
              "      <th>country</th>\n",
              "      <th>alt_5</th>\n",
              "      <th>alternative_1</th>\n",
              "      <th>alternative_2</th>\n",
              "      <th>alternative_3</th>\n",
              "      <th>alternative_4_cdiac</th>\n",
              "      <th>arb1</th>\n",
              "      <th>arb2</th>\n",
              "      <th>arb3</th>\n",
              "      <th>arb4</th>\n",
              "      <th>arb5</th>\n",
              "      <th>arb6</th>\n",
              "      <th>g77_and_oecd_countries</th>\n",
              "      <th>gapminder_list</th>\n",
              "      <th>god_id</th>\n",
              "      <th>gwid</th>\n",
              "      <th>income_groups</th>\n",
              "      <th>is--country</th>\n",
              "      <th>iso3166_1_alpha2</th>\n",
              "      <th>iso3166_1_alpha3</th>\n",
              "      <th>iso3166_1_numeric</th>\n",
              "      <th>iso3166_2</th>\n",
              "      <th>landlocked</th>\n",
              "      <th>latitude</th>\n",
              "      <th>longitude</th>\n",
              "      <th>main_religion_2008</th>\n",
              "      <th>name</th>\n",
              "      <th>pandg</th>\n",
              "      <th>un_state</th>\n",
              "      <th>unicode_region_subtag</th>\n",
              "      <th>upper_case_name</th>\n",
              "      <th>world_4region</th>\n",
              "      <th>world_6region</th>\n",
              "    </tr>\n",
              "  </thead>\n",
              "  <tbody>\n",
              "    <tr>\n",
              "      <th>0</th>\n",
              "      <td>abkh</td>\n",
              "      <td>NaN</td>\n",
              "      <td>NaN</td>\n",
              "      <td>NaN</td>\n",
              "      <td>NaN</td>\n",
              "      <td>NaN</td>\n",
              "      <td>NaN</td>\n",
              "      <td>NaN</td>\n",
              "      <td>NaN</td>\n",
              "      <td>NaN</td>\n",
              "      <td>NaN</td>\n",
              "      <td>NaN</td>\n",
              "      <td>others</td>\n",
              "      <td>Abkhazia</td>\n",
              "      <td>GE-AB</td>\n",
              "      <td>i0</td>\n",
              "      <td>NaN</td>\n",
              "      <td>True</td>\n",
              "      <td>NaN</td>\n",
              "      <td>NaN</td>\n",
              "      <td>NaN</td>\n",
              "      <td>NaN</td>\n",
              "      <td>NaN</td>\n",
              "      <td>NaN</td>\n",
              "      <td>NaN</td>\n",
              "      <td>NaN</td>\n",
              "      <td>Abkhazia</td>\n",
              "      <td>NaN</td>\n",
              "      <td>False</td>\n",
              "      <td>NaN</td>\n",
              "      <td>NaN</td>\n",
              "      <td>europe</td>\n",
              "      <td>europe_central_asia</td>\n",
              "    </tr>\n",
              "    <tr>\n",
              "      <th>1</th>\n",
              "      <td>abw</td>\n",
              "      <td>NaN</td>\n",
              "      <td>NaN</td>\n",
              "      <td>NaN</td>\n",
              "      <td>NaN</td>\n",
              "      <td>Aruba</td>\n",
              "      <td>NaN</td>\n",
              "      <td>NaN</td>\n",
              "      <td>NaN</td>\n",
              "      <td>NaN</td>\n",
              "      <td>NaN</td>\n",
              "      <td>NaN</td>\n",
              "      <td>others</td>\n",
              "      <td>Aruba</td>\n",
              "      <td>AW</td>\n",
              "      <td>i12</td>\n",
              "      <td>high_income</td>\n",
              "      <td>True</td>\n",
              "      <td>AW</td>\n",
              "      <td>ABW</td>\n",
              "      <td>533.0</td>\n",
              "      <td>NaN</td>\n",
              "      <td>coastline</td>\n",
              "      <td>12.50000</td>\n",
              "      <td>-69.96667</td>\n",
              "      <td>christian</td>\n",
              "      <td>Aruba</td>\n",
              "      <td>NaN</td>\n",
              "      <td>False</td>\n",
              "      <td>AW</td>\n",
              "      <td>ARUBA</td>\n",
              "      <td>americas</td>\n",
              "      <td>america</td>\n",
              "    </tr>\n",
              "    <tr>\n",
              "      <th>2</th>\n",
              "      <td>afg</td>\n",
              "      <td>NaN</td>\n",
              "      <td>Islamic Republic of Afghanistan</td>\n",
              "      <td>NaN</td>\n",
              "      <td>NaN</td>\n",
              "      <td>Afghanistan</td>\n",
              "      <td>NaN</td>\n",
              "      <td>NaN</td>\n",
              "      <td>NaN</td>\n",
              "      <td>NaN</td>\n",
              "      <td>NaN</td>\n",
              "      <td>NaN</td>\n",
              "      <td>g77</td>\n",
              "      <td>Afghanistan</td>\n",
              "      <td>AF</td>\n",
              "      <td>i1</td>\n",
              "      <td>low_income</td>\n",
              "      <td>True</td>\n",
              "      <td>AF</td>\n",
              "      <td>AFG</td>\n",
              "      <td>4.0</td>\n",
              "      <td>NaN</td>\n",
              "      <td>landlocked</td>\n",
              "      <td>33.00000</td>\n",
              "      <td>66.00000</td>\n",
              "      <td>muslim</td>\n",
              "      <td>Afghanistan</td>\n",
              "      <td>AFGHANISTAN</td>\n",
              "      <td>True</td>\n",
              "      <td>AF</td>\n",
              "      <td>AFGHANISTAN</td>\n",
              "      <td>asia</td>\n",
              "      <td>south_asia</td>\n",
              "    </tr>\n",
              "    <tr>\n",
              "      <th>3</th>\n",
              "      <td>ago</td>\n",
              "      <td>NaN</td>\n",
              "      <td>NaN</td>\n",
              "      <td>NaN</td>\n",
              "      <td>NaN</td>\n",
              "      <td>Angola</td>\n",
              "      <td>NaN</td>\n",
              "      <td>NaN</td>\n",
              "      <td>NaN</td>\n",
              "      <td>NaN</td>\n",
              "      <td>NaN</td>\n",
              "      <td>NaN</td>\n",
              "      <td>g77</td>\n",
              "      <td>Angola</td>\n",
              "      <td>AO</td>\n",
              "      <td>i7</td>\n",
              "      <td>upper_middle_income</td>\n",
              "      <td>True</td>\n",
              "      <td>AO</td>\n",
              "      <td>AGO</td>\n",
              "      <td>24.0</td>\n",
              "      <td>NaN</td>\n",
              "      <td>coastline</td>\n",
              "      <td>-12.50000</td>\n",
              "      <td>18.50000</td>\n",
              "      <td>christian</td>\n",
              "      <td>Angola</td>\n",
              "      <td>ANGOLA</td>\n",
              "      <td>True</td>\n",
              "      <td>AO</td>\n",
              "      <td>ANGOLA</td>\n",
              "      <td>africa</td>\n",
              "      <td>sub_saharan_africa</td>\n",
              "    </tr>\n",
              "    <tr>\n",
              "      <th>4</th>\n",
              "      <td>aia</td>\n",
              "      <td>NaN</td>\n",
              "      <td>NaN</td>\n",
              "      <td>NaN</td>\n",
              "      <td>NaN</td>\n",
              "      <td>NaN</td>\n",
              "      <td>NaN</td>\n",
              "      <td>NaN</td>\n",
              "      <td>NaN</td>\n",
              "      <td>NaN</td>\n",
              "      <td>NaN</td>\n",
              "      <td>NaN</td>\n",
              "      <td>others</td>\n",
              "      <td>Anguilla</td>\n",
              "      <td>AI</td>\n",
              "      <td>i8</td>\n",
              "      <td>NaN</td>\n",
              "      <td>True</td>\n",
              "      <td>AI</td>\n",
              "      <td>AIA</td>\n",
              "      <td>660.0</td>\n",
              "      <td>NaN</td>\n",
              "      <td>coastline</td>\n",
              "      <td>18.21667</td>\n",
              "      <td>-63.05000</td>\n",
              "      <td>christian</td>\n",
              "      <td>Anguilla</td>\n",
              "      <td>NaN</td>\n",
              "      <td>False</td>\n",
              "      <td>AI</td>\n",
              "      <td>ANGUILLA</td>\n",
              "      <td>americas</td>\n",
              "      <td>america</td>\n",
              "    </tr>\n",
              "  </tbody>\n",
              "</table>\n",
              "</div>"
            ],
            "text/plain": [
              "  country alt_5                    alternative_1 alternative_2 alternative_3  \\\n",
              "0    abkh   NaN                              NaN           NaN           NaN   \n",
              "1     abw   NaN                              NaN           NaN           NaN   \n",
              "2     afg   NaN  Islamic Republic of Afghanistan           NaN           NaN   \n",
              "3     ago   NaN                              NaN           NaN           NaN   \n",
              "4     aia   NaN                              NaN           NaN           NaN   \n",
              "\n",
              "  alternative_4_cdiac arb1 arb2 arb3 arb4 arb5 arb6 g77_and_oecd_countries  \\\n",
              "0                 NaN  NaN  NaN  NaN  NaN  NaN  NaN                 others   \n",
              "1               Aruba  NaN  NaN  NaN  NaN  NaN  NaN                 others   \n",
              "2         Afghanistan  NaN  NaN  NaN  NaN  NaN  NaN                    g77   \n",
              "3              Angola  NaN  NaN  NaN  NaN  NaN  NaN                    g77   \n",
              "4                 NaN  NaN  NaN  NaN  NaN  NaN  NaN                 others   \n",
              "\n",
              "  gapminder_list god_id gwid        income_groups  is--country  \\\n",
              "0       Abkhazia  GE-AB   i0                  NaN         True   \n",
              "1          Aruba     AW  i12          high_income         True   \n",
              "2    Afghanistan     AF   i1           low_income         True   \n",
              "3         Angola     AO   i7  upper_middle_income         True   \n",
              "4       Anguilla     AI   i8                  NaN         True   \n",
              "\n",
              "  iso3166_1_alpha2 iso3166_1_alpha3  iso3166_1_numeric iso3166_2  landlocked  \\\n",
              "0              NaN              NaN                NaN       NaN         NaN   \n",
              "1               AW              ABW              533.0       NaN   coastline   \n",
              "2               AF              AFG                4.0       NaN  landlocked   \n",
              "3               AO              AGO               24.0       NaN   coastline   \n",
              "4               AI              AIA              660.0       NaN   coastline   \n",
              "\n",
              "   latitude  longitude main_religion_2008         name        pandg  un_state  \\\n",
              "0       NaN        NaN                NaN     Abkhazia          NaN     False   \n",
              "1  12.50000  -69.96667          christian        Aruba          NaN     False   \n",
              "2  33.00000   66.00000             muslim  Afghanistan  AFGHANISTAN      True   \n",
              "3 -12.50000   18.50000          christian       Angola       ANGOLA      True   \n",
              "4  18.21667  -63.05000          christian     Anguilla          NaN     False   \n",
              "\n",
              "  unicode_region_subtag upper_case_name world_4region        world_6region  \n",
              "0                   NaN             NaN        europe  europe_central_asia  \n",
              "1                    AW           ARUBA      americas              america  \n",
              "2                    AF     AFGHANISTAN          asia           south_asia  \n",
              "3                    AO          ANGOLA        africa   sub_saharan_africa  \n",
              "4                    AI        ANGUILLA      americas              america  "
            ]
          },
          "metadata": {
            "tags": []
          },
          "execution_count": 14
        }
      ]
    },
    {
      "metadata": {
        "id": "mk_R0eFZZ0G5",
        "colab_type": "code",
        "outputId": "3dcefd5f-2ef8-4bbb-8342-261676a3f471",
        "colab": {
          "base_uri": "https://localhost:8080/",
          "height": 513
        }
      },
      "cell_type": "code",
      "source": [
        "concepts.head()"
      ],
      "execution_count": 15,
      "outputs": [
        {
          "output_type": "execute_result",
          "data": {
            "text/html": [
              "<div>\n",
              "<style scoped>\n",
              "    .dataframe tbody tr th:only-of-type {\n",
              "        vertical-align: middle;\n",
              "    }\n",
              "\n",
              "    .dataframe tbody tr th {\n",
              "        vertical-align: top;\n",
              "    }\n",
              "\n",
              "    .dataframe thead th {\n",
              "        text-align: right;\n",
              "    }\n",
              "</style>\n",
              "<table border=\"1\" class=\"dataframe\">\n",
              "  <thead>\n",
              "    <tr style=\"text-align: right;\">\n",
              "      <th></th>\n",
              "      <th>concept</th>\n",
              "      <th>color</th>\n",
              "      <th>concept_type</th>\n",
              "      <th>description</th>\n",
              "      <th>description_long</th>\n",
              "      <th>domain</th>\n",
              "      <th>drill_up</th>\n",
              "      <th>indicator_url</th>\n",
              "      <th>name</th>\n",
              "      <th>name_catalog</th>\n",
              "      <th>name_short</th>\n",
              "      <th>scales</th>\n",
              "      <th>source</th>\n",
              "      <th>source_long</th>\n",
              "      <th>source_url</th>\n",
              "      <th>tags</th>\n",
              "    </tr>\n",
              "  </thead>\n",
              "  <tbody>\n",
              "    <tr>\n",
              "      <th>0</th>\n",
              "      <td>adults_with_hiv_percent_age_15_49</td>\n",
              "      <td>NaN</td>\n",
              "      <td>measure</td>\n",
              "      <td>The estimated percentage of adults aged 15 to ...</td>\n",
              "      <td>NaN</td>\n",
              "      <td>NaN</td>\n",
              "      <td>NaN</td>\n",
              "      <td>NaN</td>\n",
              "      <td>Adults with HIV (%, age 15-49)</td>\n",
              "      <td>Adults with HIV (%, age 15-49)</td>\n",
              "      <td>Adults with HIV</td>\n",
              "      <td>[\"log\", \"linear\"]</td>\n",
              "      <td>NaN</td>\n",
              "      <td>NaN</td>\n",
              "      <td>http://www.gapminder.org/gapminder-world/docum...</td>\n",
              "      <td>hiv</td>\n",
              "    </tr>\n",
              "    <tr>\n",
              "      <th>1</th>\n",
              "      <td>age_at_1st_marriage_women</td>\n",
              "      <td>NaN</td>\n",
              "      <td>measure</td>\n",
              "      <td>The mean age, in years, of first marriage for ...</td>\n",
              "      <td>NaN</td>\n",
              "      <td>NaN</td>\n",
              "      <td>NaN</td>\n",
              "      <td>NaN</td>\n",
              "      <td>Age at 1st marriage (women)</td>\n",
              "      <td>Age at 1st marriage (women)</td>\n",
              "      <td>Age at 1st marriage</td>\n",
              "      <td>[\"linear\", \"log\"]</td>\n",
              "      <td>NaN</td>\n",
              "      <td>NaN</td>\n",
              "      <td>http://spreadsheets.google.com/pub?key=t4eF8H_...</td>\n",
              "      <td>population</td>\n",
              "    </tr>\n",
              "    <tr>\n",
              "      <th>2</th>\n",
              "      <td>aged_15_24_employment_rate_percent</td>\n",
              "      <td>NaN</td>\n",
              "      <td>measure</td>\n",
              "      <td>Percentage of total population, age group 15-2...</td>\n",
              "      <td>NaN</td>\n",
              "      <td>NaN</td>\n",
              "      <td>NaN</td>\n",
              "      <td>NaN</td>\n",
              "      <td>Aged 15-24 employment rate (%)</td>\n",
              "      <td>Aged 15-24</td>\n",
              "      <td>Employment rate (%)</td>\n",
              "      <td>[\"linear\", \"log\"]</td>\n",
              "      <td>NaN</td>\n",
              "      <td>NaN</td>\n",
              "      <td>http://ilo.org/legacy/english/global-reports/k...</td>\n",
              "      <td>employment_rate</td>\n",
              "    </tr>\n",
              "    <tr>\n",
              "      <th>3</th>\n",
              "      <td>aged_15_24_unemployment_rate_percent</td>\n",
              "      <td>NaN</td>\n",
              "      <td>measure</td>\n",
              "      <td>Percentage of total population, age group 15-2...</td>\n",
              "      <td>NaN</td>\n",
              "      <td>NaN</td>\n",
              "      <td>NaN</td>\n",
              "      <td>NaN</td>\n",
              "      <td>Aged 15-24 unemployment rate (%)</td>\n",
              "      <td>Aged 15-24</td>\n",
              "      <td>Unemployment rate (%)</td>\n",
              "      <td>[\"linear\", \"log\"]</td>\n",
              "      <td>NaN</td>\n",
              "      <td>NaN</td>\n",
              "      <td>http://ilo.org/legacy/english/global-reports/k...</td>\n",
              "      <td>unemployment</td>\n",
              "    </tr>\n",
              "    <tr>\n",
              "      <th>4</th>\n",
              "      <td>aged_15_64_labour_force_participation_rate_per...</td>\n",
              "      <td>NaN</td>\n",
              "      <td>measure</td>\n",
              "      <td>For age group 15-64, percentage of all labour ...</td>\n",
              "      <td>NaN</td>\n",
              "      <td>NaN</td>\n",
              "      <td>NaN</td>\n",
              "      <td>NaN</td>\n",
              "      <td>Aged 15-64 labour force participation rate (%)</td>\n",
              "      <td>Aged 15-64</td>\n",
              "      <td>Labour force participation rate (%)</td>\n",
              "      <td>[\"linear\", \"log\"]</td>\n",
              "      <td>NaN</td>\n",
              "      <td>NaN</td>\n",
              "      <td>http://ilo.org/legacy/english/global-reports/k...</td>\n",
              "      <td>labour_force_participation</td>\n",
              "    </tr>\n",
              "  </tbody>\n",
              "</table>\n",
              "</div>"
            ],
            "text/plain": [
              "                                             concept color concept_type  \\\n",
              "0                  adults_with_hiv_percent_age_15_49   NaN      measure   \n",
              "1                          age_at_1st_marriage_women   NaN      measure   \n",
              "2                 aged_15_24_employment_rate_percent   NaN      measure   \n",
              "3               aged_15_24_unemployment_rate_percent   NaN      measure   \n",
              "4  aged_15_64_labour_force_participation_rate_per...   NaN      measure   \n",
              "\n",
              "                                         description description_long domain  \\\n",
              "0  The estimated percentage of adults aged 15 to ...              NaN    NaN   \n",
              "1  The mean age, in years, of first marriage for ...              NaN    NaN   \n",
              "2  Percentage of total population, age group 15-2...              NaN    NaN   \n",
              "3  Percentage of total population, age group 15-2...              NaN    NaN   \n",
              "4  For age group 15-64, percentage of all labour ...              NaN    NaN   \n",
              "\n",
              "  drill_up indicator_url                                            name  \\\n",
              "0      NaN           NaN                  Adults with HIV (%, age 15-49)   \n",
              "1      NaN           NaN                     Age at 1st marriage (women)   \n",
              "2      NaN           NaN                  Aged 15-24 employment rate (%)   \n",
              "3      NaN           NaN                Aged 15-24 unemployment rate (%)   \n",
              "4      NaN           NaN  Aged 15-64 labour force participation rate (%)   \n",
              "\n",
              "                     name_catalog                           name_short  \\\n",
              "0  Adults with HIV (%, age 15-49)                      Adults with HIV   \n",
              "1     Age at 1st marriage (women)                  Age at 1st marriage   \n",
              "2                      Aged 15-24                  Employment rate (%)   \n",
              "3                      Aged 15-24                Unemployment rate (%)   \n",
              "4                      Aged 15-64  Labour force participation rate (%)   \n",
              "\n",
              "              scales source source_long  \\\n",
              "0  [\"log\", \"linear\"]    NaN         NaN   \n",
              "1  [\"linear\", \"log\"]    NaN         NaN   \n",
              "2  [\"linear\", \"log\"]    NaN         NaN   \n",
              "3  [\"linear\", \"log\"]    NaN         NaN   \n",
              "4  [\"linear\", \"log\"]    NaN         NaN   \n",
              "\n",
              "                                          source_url  \\\n",
              "0  http://www.gapminder.org/gapminder-world/docum...   \n",
              "1  http://spreadsheets.google.com/pub?key=t4eF8H_...   \n",
              "2  http://ilo.org/legacy/english/global-reports/k...   \n",
              "3  http://ilo.org/legacy/english/global-reports/k...   \n",
              "4  http://ilo.org/legacy/english/global-reports/k...   \n",
              "\n",
              "                         tags  \n",
              "0                         hiv  \n",
              "1                  population  \n",
              "2             employment_rate  \n",
              "3                unemployment  \n",
              "4  labour_force_participation  "
            ]
          },
          "metadata": {
            "tags": []
          },
          "execution_count": 15
        }
      ]
    },
    {
      "metadata": {
        "id": "6HYUytvLT8Kf",
        "colab_type": "text"
      },
      "cell_type": "markdown",
      "source": [
        "## Merge data"
      ]
    },
    {
      "metadata": {
        "id": "dhALZDsh9n9L",
        "colab_type": "text"
      },
      "cell_type": "markdown",
      "source": [
        "https://github.com/pandas-dev/pandas/blob/master/doc/cheatsheet/Pandas_Cheat_Sheet.pdf"
      ]
    },
    {
      "metadata": {
        "id": "z6KBarvARP4B",
        "colab_type": "code",
        "colab": {}
      },
      "cell_type": "code",
      "source": [
        "# pd.merge?"
      ],
      "execution_count": 0,
      "outputs": []
    },
    {
      "metadata": {
        "id": "rPkHR4PXbUf1",
        "colab_type": "code",
        "colab": {}
      },
      "cell_type": "code",
      "source": [
        "df = pd.merge(income, lifespan)"
      ],
      "execution_count": 0,
      "outputs": []
    },
    {
      "metadata": {
        "id": "ATUo5oCkbZsI",
        "colab_type": "code",
        "outputId": "74d5eca5-f1fa-4fc3-9d3f-eabf84f12265",
        "colab": {
          "base_uri": "https://localhost:8080/",
          "height": 34
        }
      },
      "cell_type": "code",
      "source": [
        "income.shape, lifespan.shape, df.shape"
      ],
      "execution_count": 18,
      "outputs": [
        {
          "output_type": "execute_result",
          "data": {
            "text/plain": [
              "((44268, 3), (44370, 3), (41790, 4))"
            ]
          },
          "metadata": {
            "tags": []
          },
          "execution_count": 18
        }
      ]
    },
    {
      "metadata": {
        "id": "ubYT7_lCbdmr",
        "colab_type": "code",
        "outputId": "3eef288f-1f6a-43d9-a6b7-9df9f89586d1",
        "colab": {
          "base_uri": "https://localhost:8080/",
          "height": 204
        }
      },
      "cell_type": "code",
      "source": [
        "df.head()"
      ],
      "execution_count": 19,
      "outputs": [
        {
          "output_type": "execute_result",
          "data": {
            "text/html": [
              "<div>\n",
              "<style scoped>\n",
              "    .dataframe tbody tr th:only-of-type {\n",
              "        vertical-align: middle;\n",
              "    }\n",
              "\n",
              "    .dataframe tbody tr th {\n",
              "        vertical-align: top;\n",
              "    }\n",
              "\n",
              "    .dataframe thead th {\n",
              "        text-align: right;\n",
              "    }\n",
              "</style>\n",
              "<table border=\"1\" class=\"dataframe\">\n",
              "  <thead>\n",
              "    <tr style=\"text-align: right;\">\n",
              "      <th></th>\n",
              "      <th>geo</th>\n",
              "      <th>time</th>\n",
              "      <th>income_per_person_gdppercapita_ppp_inflation_adjusted</th>\n",
              "      <th>life_expectancy_years</th>\n",
              "    </tr>\n",
              "  </thead>\n",
              "  <tbody>\n",
              "    <tr>\n",
              "      <th>0</th>\n",
              "      <td>abw</td>\n",
              "      <td>1800</td>\n",
              "      <td>833</td>\n",
              "      <td>34.42</td>\n",
              "    </tr>\n",
              "    <tr>\n",
              "      <th>1</th>\n",
              "      <td>abw</td>\n",
              "      <td>1801</td>\n",
              "      <td>833</td>\n",
              "      <td>34.42</td>\n",
              "    </tr>\n",
              "    <tr>\n",
              "      <th>2</th>\n",
              "      <td>abw</td>\n",
              "      <td>1802</td>\n",
              "      <td>833</td>\n",
              "      <td>34.42</td>\n",
              "    </tr>\n",
              "    <tr>\n",
              "      <th>3</th>\n",
              "      <td>abw</td>\n",
              "      <td>1803</td>\n",
              "      <td>833</td>\n",
              "      <td>34.42</td>\n",
              "    </tr>\n",
              "    <tr>\n",
              "      <th>4</th>\n",
              "      <td>abw</td>\n",
              "      <td>1804</td>\n",
              "      <td>833</td>\n",
              "      <td>34.42</td>\n",
              "    </tr>\n",
              "  </tbody>\n",
              "</table>\n",
              "</div>"
            ],
            "text/plain": [
              "   geo  time  income_per_person_gdppercapita_ppp_inflation_adjusted  \\\n",
              "0  abw  1800                                                833       \n",
              "1  abw  1801                                                833       \n",
              "2  abw  1802                                                833       \n",
              "3  abw  1803                                                833       \n",
              "4  abw  1804                                                833       \n",
              "\n",
              "   life_expectancy_years  \n",
              "0                  34.42  \n",
              "1                  34.42  \n",
              "2                  34.42  \n",
              "3                  34.42  \n",
              "4                  34.42  "
            ]
          },
          "metadata": {
            "tags": []
          },
          "execution_count": 19
        }
      ]
    },
    {
      "metadata": {
        "id": "JgAy6kSjcQpv",
        "colab_type": "code",
        "outputId": "bd053ab3-c6b7-4636-8522-71fde9962b17",
        "colab": {
          "base_uri": "https://localhost:8080/",
          "height": 1072
        }
      },
      "cell_type": "code",
      "source": [
        "entities[entities.country=='abw'].T"
      ],
      "execution_count": 20,
      "outputs": [
        {
          "output_type": "execute_result",
          "data": {
            "text/html": [
              "<div>\n",
              "<style scoped>\n",
              "    .dataframe tbody tr th:only-of-type {\n",
              "        vertical-align: middle;\n",
              "    }\n",
              "\n",
              "    .dataframe tbody tr th {\n",
              "        vertical-align: top;\n",
              "    }\n",
              "\n",
              "    .dataframe thead th {\n",
              "        text-align: right;\n",
              "    }\n",
              "</style>\n",
              "<table border=\"1\" class=\"dataframe\">\n",
              "  <thead>\n",
              "    <tr style=\"text-align: right;\">\n",
              "      <th></th>\n",
              "      <th>1</th>\n",
              "    </tr>\n",
              "  </thead>\n",
              "  <tbody>\n",
              "    <tr>\n",
              "      <th>country</th>\n",
              "      <td>abw</td>\n",
              "    </tr>\n",
              "    <tr>\n",
              "      <th>alt_5</th>\n",
              "      <td>NaN</td>\n",
              "    </tr>\n",
              "    <tr>\n",
              "      <th>alternative_1</th>\n",
              "      <td>NaN</td>\n",
              "    </tr>\n",
              "    <tr>\n",
              "      <th>alternative_2</th>\n",
              "      <td>NaN</td>\n",
              "    </tr>\n",
              "    <tr>\n",
              "      <th>alternative_3</th>\n",
              "      <td>NaN</td>\n",
              "    </tr>\n",
              "    <tr>\n",
              "      <th>alternative_4_cdiac</th>\n",
              "      <td>Aruba</td>\n",
              "    </tr>\n",
              "    <tr>\n",
              "      <th>arb1</th>\n",
              "      <td>NaN</td>\n",
              "    </tr>\n",
              "    <tr>\n",
              "      <th>arb2</th>\n",
              "      <td>NaN</td>\n",
              "    </tr>\n",
              "    <tr>\n",
              "      <th>arb3</th>\n",
              "      <td>NaN</td>\n",
              "    </tr>\n",
              "    <tr>\n",
              "      <th>arb4</th>\n",
              "      <td>NaN</td>\n",
              "    </tr>\n",
              "    <tr>\n",
              "      <th>arb5</th>\n",
              "      <td>NaN</td>\n",
              "    </tr>\n",
              "    <tr>\n",
              "      <th>arb6</th>\n",
              "      <td>NaN</td>\n",
              "    </tr>\n",
              "    <tr>\n",
              "      <th>g77_and_oecd_countries</th>\n",
              "      <td>others</td>\n",
              "    </tr>\n",
              "    <tr>\n",
              "      <th>gapminder_list</th>\n",
              "      <td>Aruba</td>\n",
              "    </tr>\n",
              "    <tr>\n",
              "      <th>god_id</th>\n",
              "      <td>AW</td>\n",
              "    </tr>\n",
              "    <tr>\n",
              "      <th>gwid</th>\n",
              "      <td>i12</td>\n",
              "    </tr>\n",
              "    <tr>\n",
              "      <th>income_groups</th>\n",
              "      <td>high_income</td>\n",
              "    </tr>\n",
              "    <tr>\n",
              "      <th>is--country</th>\n",
              "      <td>True</td>\n",
              "    </tr>\n",
              "    <tr>\n",
              "      <th>iso3166_1_alpha2</th>\n",
              "      <td>AW</td>\n",
              "    </tr>\n",
              "    <tr>\n",
              "      <th>iso3166_1_alpha3</th>\n",
              "      <td>ABW</td>\n",
              "    </tr>\n",
              "    <tr>\n",
              "      <th>iso3166_1_numeric</th>\n",
              "      <td>533</td>\n",
              "    </tr>\n",
              "    <tr>\n",
              "      <th>iso3166_2</th>\n",
              "      <td>NaN</td>\n",
              "    </tr>\n",
              "    <tr>\n",
              "      <th>landlocked</th>\n",
              "      <td>coastline</td>\n",
              "    </tr>\n",
              "    <tr>\n",
              "      <th>latitude</th>\n",
              "      <td>12.5</td>\n",
              "    </tr>\n",
              "    <tr>\n",
              "      <th>longitude</th>\n",
              "      <td>-69.9667</td>\n",
              "    </tr>\n",
              "    <tr>\n",
              "      <th>main_religion_2008</th>\n",
              "      <td>christian</td>\n",
              "    </tr>\n",
              "    <tr>\n",
              "      <th>name</th>\n",
              "      <td>Aruba</td>\n",
              "    </tr>\n",
              "    <tr>\n",
              "      <th>pandg</th>\n",
              "      <td>NaN</td>\n",
              "    </tr>\n",
              "    <tr>\n",
              "      <th>un_state</th>\n",
              "      <td>False</td>\n",
              "    </tr>\n",
              "    <tr>\n",
              "      <th>unicode_region_subtag</th>\n",
              "      <td>AW</td>\n",
              "    </tr>\n",
              "    <tr>\n",
              "      <th>upper_case_name</th>\n",
              "      <td>ARUBA</td>\n",
              "    </tr>\n",
              "    <tr>\n",
              "      <th>world_4region</th>\n",
              "      <td>americas</td>\n",
              "    </tr>\n",
              "    <tr>\n",
              "      <th>world_6region</th>\n",
              "      <td>america</td>\n",
              "    </tr>\n",
              "  </tbody>\n",
              "</table>\n",
              "</div>"
            ],
            "text/plain": [
              "                                  1\n",
              "country                         abw\n",
              "alt_5                           NaN\n",
              "alternative_1                   NaN\n",
              "alternative_2                   NaN\n",
              "alternative_3                   NaN\n",
              "alternative_4_cdiac           Aruba\n",
              "arb1                            NaN\n",
              "arb2                            NaN\n",
              "arb3                            NaN\n",
              "arb4                            NaN\n",
              "arb5                            NaN\n",
              "arb6                            NaN\n",
              "g77_and_oecd_countries       others\n",
              "gapminder_list                Aruba\n",
              "god_id                           AW\n",
              "gwid                            i12\n",
              "income_groups           high_income\n",
              "is--country                    True\n",
              "iso3166_1_alpha2                 AW\n",
              "iso3166_1_alpha3                ABW\n",
              "iso3166_1_numeric               533\n",
              "iso3166_2                       NaN\n",
              "landlocked                coastline\n",
              "latitude                       12.5\n",
              "longitude                  -69.9667\n",
              "main_religion_2008        christian\n",
              "name                          Aruba\n",
              "pandg                           NaN\n",
              "un_state                      False\n",
              "unicode_region_subtag            AW\n",
              "upper_case_name               ARUBA\n",
              "world_4region              americas\n",
              "world_6region               america"
            ]
          },
          "metadata": {
            "tags": []
          },
          "execution_count": 20
        }
      ]
    },
    {
      "metadata": {
        "id": "eY-ziB3gcnZq",
        "colab_type": "code",
        "outputId": "dd98f1bd-d087-41f1-971f-a7b8a43e17e5",
        "colab": {
          "base_uri": "https://localhost:8080/",
          "height": 104
        }
      },
      "cell_type": "code",
      "source": [
        "entities.world_4region.value_counts()"
      ],
      "execution_count": 21,
      "outputs": [
        {
          "output_type": "execute_result",
          "data": {
            "text/plain": [
              "asia        80\n",
              "europe      73\n",
              "africa      61\n",
              "americas    57\n",
              "Name: world_4region, dtype: int64"
            ]
          },
          "metadata": {
            "tags": []
          },
          "execution_count": 21
        }
      ]
    },
    {
      "metadata": {
        "id": "14ER1Zy_cqTz",
        "colab_type": "code",
        "outputId": "9bf07d37-0bec-4512-e770-287d28b2ebcf",
        "colab": {
          "base_uri": "https://localhost:8080/",
          "height": 139
        }
      },
      "cell_type": "code",
      "source": [
        "entities.world_6region.value_counts()"
      ],
      "execution_count": 22,
      "outputs": [
        {
          "output_type": "execute_result",
          "data": {
            "text/plain": [
              "europe_central_asia         77\n",
              "america                     53\n",
              "sub_saharan_africa          53\n",
              "east_asia_pacific           46\n",
              "middle_east_north_africa    23\n",
              "south_asia                   8\n",
              "Name: world_6region, dtype: int64"
            ]
          },
          "metadata": {
            "tags": []
          },
          "execution_count": 22
        }
      ]
    },
    {
      "metadata": {
        "id": "Nvds2RyZczMA",
        "colab_type": "code",
        "outputId": "06875ab7-5bb5-4159-991c-49e567bd30ba",
        "colab": {
          "base_uri": "https://localhost:8080/",
          "height": 204
        }
      },
      "cell_type": "code",
      "source": [
        "variables = ['country', 'name', 'world_6region']\n",
        "entities[variables].head()"
      ],
      "execution_count": 23,
      "outputs": [
        {
          "output_type": "execute_result",
          "data": {
            "text/html": [
              "<div>\n",
              "<style scoped>\n",
              "    .dataframe tbody tr th:only-of-type {\n",
              "        vertical-align: middle;\n",
              "    }\n",
              "\n",
              "    .dataframe tbody tr th {\n",
              "        vertical-align: top;\n",
              "    }\n",
              "\n",
              "    .dataframe thead th {\n",
              "        text-align: right;\n",
              "    }\n",
              "</style>\n",
              "<table border=\"1\" class=\"dataframe\">\n",
              "  <thead>\n",
              "    <tr style=\"text-align: right;\">\n",
              "      <th></th>\n",
              "      <th>country</th>\n",
              "      <th>name</th>\n",
              "      <th>world_6region</th>\n",
              "    </tr>\n",
              "  </thead>\n",
              "  <tbody>\n",
              "    <tr>\n",
              "      <th>0</th>\n",
              "      <td>abkh</td>\n",
              "      <td>Abkhazia</td>\n",
              "      <td>europe_central_asia</td>\n",
              "    </tr>\n",
              "    <tr>\n",
              "      <th>1</th>\n",
              "      <td>abw</td>\n",
              "      <td>Aruba</td>\n",
              "      <td>america</td>\n",
              "    </tr>\n",
              "    <tr>\n",
              "      <th>2</th>\n",
              "      <td>afg</td>\n",
              "      <td>Afghanistan</td>\n",
              "      <td>south_asia</td>\n",
              "    </tr>\n",
              "    <tr>\n",
              "      <th>3</th>\n",
              "      <td>ago</td>\n",
              "      <td>Angola</td>\n",
              "      <td>sub_saharan_africa</td>\n",
              "    </tr>\n",
              "    <tr>\n",
              "      <th>4</th>\n",
              "      <td>aia</td>\n",
              "      <td>Anguilla</td>\n",
              "      <td>america</td>\n",
              "    </tr>\n",
              "  </tbody>\n",
              "</table>\n",
              "</div>"
            ],
            "text/plain": [
              "  country         name        world_6region\n",
              "0    abkh     Abkhazia  europe_central_asia\n",
              "1     abw        Aruba              america\n",
              "2     afg  Afghanistan           south_asia\n",
              "3     ago       Angola   sub_saharan_africa\n",
              "4     aia     Anguilla              america"
            ]
          },
          "metadata": {
            "tags": []
          },
          "execution_count": 23
        }
      ]
    },
    {
      "metadata": {
        "id": "af6Lf0AvdIPL",
        "colab_type": "code",
        "outputId": "1f5d2bb5-601e-4eef-f80f-c1aba923b82f",
        "colab": {
          "base_uri": "https://localhost:8080/",
          "height": 204
        }
      },
      "cell_type": "code",
      "source": [
        "df.head()"
      ],
      "execution_count": 24,
      "outputs": [
        {
          "output_type": "execute_result",
          "data": {
            "text/html": [
              "<div>\n",
              "<style scoped>\n",
              "    .dataframe tbody tr th:only-of-type {\n",
              "        vertical-align: middle;\n",
              "    }\n",
              "\n",
              "    .dataframe tbody tr th {\n",
              "        vertical-align: top;\n",
              "    }\n",
              "\n",
              "    .dataframe thead th {\n",
              "        text-align: right;\n",
              "    }\n",
              "</style>\n",
              "<table border=\"1\" class=\"dataframe\">\n",
              "  <thead>\n",
              "    <tr style=\"text-align: right;\">\n",
              "      <th></th>\n",
              "      <th>geo</th>\n",
              "      <th>time</th>\n",
              "      <th>income_per_person_gdppercapita_ppp_inflation_adjusted</th>\n",
              "      <th>life_expectancy_years</th>\n",
              "    </tr>\n",
              "  </thead>\n",
              "  <tbody>\n",
              "    <tr>\n",
              "      <th>0</th>\n",
              "      <td>abw</td>\n",
              "      <td>1800</td>\n",
              "      <td>833</td>\n",
              "      <td>34.42</td>\n",
              "    </tr>\n",
              "    <tr>\n",
              "      <th>1</th>\n",
              "      <td>abw</td>\n",
              "      <td>1801</td>\n",
              "      <td>833</td>\n",
              "      <td>34.42</td>\n",
              "    </tr>\n",
              "    <tr>\n",
              "      <th>2</th>\n",
              "      <td>abw</td>\n",
              "      <td>1802</td>\n",
              "      <td>833</td>\n",
              "      <td>34.42</td>\n",
              "    </tr>\n",
              "    <tr>\n",
              "      <th>3</th>\n",
              "      <td>abw</td>\n",
              "      <td>1803</td>\n",
              "      <td>833</td>\n",
              "      <td>34.42</td>\n",
              "    </tr>\n",
              "    <tr>\n",
              "      <th>4</th>\n",
              "      <td>abw</td>\n",
              "      <td>1804</td>\n",
              "      <td>833</td>\n",
              "      <td>34.42</td>\n",
              "    </tr>\n",
              "  </tbody>\n",
              "</table>\n",
              "</div>"
            ],
            "text/plain": [
              "   geo  time  income_per_person_gdppercapita_ppp_inflation_adjusted  \\\n",
              "0  abw  1800                                                833       \n",
              "1  abw  1801                                                833       \n",
              "2  abw  1802                                                833       \n",
              "3  abw  1803                                                833       \n",
              "4  abw  1804                                                833       \n",
              "\n",
              "   life_expectancy_years  \n",
              "0                  34.42  \n",
              "1                  34.42  \n",
              "2                  34.42  \n",
              "3                  34.42  \n",
              "4                  34.42  "
            ]
          },
          "metadata": {
            "tags": []
          },
          "execution_count": 24
        }
      ]
    },
    {
      "metadata": {
        "id": "ycidawqpeR93",
        "colab_type": "code",
        "colab": {}
      },
      "cell_type": "code",
      "source": [
        "df = pd.merge(df, population)"
      ],
      "execution_count": 0,
      "outputs": []
    },
    {
      "metadata": {
        "id": "BF62lbePdI_p",
        "colab_type": "code",
        "outputId": "64b7b0d3-4548-4e22-972f-31b752d0223b",
        "colab": {
          "base_uri": "https://localhost:8080/",
          "height": 204
        }
      },
      "cell_type": "code",
      "source": [
        "# Preview\n",
        "pd.merge(df, entities[variables], \n",
        "         how='inner', left_on='geo', right_on='country').head()"
      ],
      "execution_count": 26,
      "outputs": [
        {
          "output_type": "execute_result",
          "data": {
            "text/html": [
              "<div>\n",
              "<style scoped>\n",
              "    .dataframe tbody tr th:only-of-type {\n",
              "        vertical-align: middle;\n",
              "    }\n",
              "\n",
              "    .dataframe tbody tr th {\n",
              "        vertical-align: top;\n",
              "    }\n",
              "\n",
              "    .dataframe thead th {\n",
              "        text-align: right;\n",
              "    }\n",
              "</style>\n",
              "<table border=\"1\" class=\"dataframe\">\n",
              "  <thead>\n",
              "    <tr style=\"text-align: right;\">\n",
              "      <th></th>\n",
              "      <th>geo</th>\n",
              "      <th>time</th>\n",
              "      <th>income_per_person_gdppercapita_ppp_inflation_adjusted</th>\n",
              "      <th>life_expectancy_years</th>\n",
              "      <th>population_total</th>\n",
              "      <th>country</th>\n",
              "      <th>name</th>\n",
              "      <th>world_6region</th>\n",
              "    </tr>\n",
              "  </thead>\n",
              "  <tbody>\n",
              "    <tr>\n",
              "      <th>0</th>\n",
              "      <td>abw</td>\n",
              "      <td>1800</td>\n",
              "      <td>833</td>\n",
              "      <td>34.42</td>\n",
              "      <td>19286</td>\n",
              "      <td>abw</td>\n",
              "      <td>Aruba</td>\n",
              "      <td>america</td>\n",
              "    </tr>\n",
              "    <tr>\n",
              "      <th>1</th>\n",
              "      <td>abw</td>\n",
              "      <td>1801</td>\n",
              "      <td>833</td>\n",
              "      <td>34.42</td>\n",
              "      <td>19286</td>\n",
              "      <td>abw</td>\n",
              "      <td>Aruba</td>\n",
              "      <td>america</td>\n",
              "    </tr>\n",
              "    <tr>\n",
              "      <th>2</th>\n",
              "      <td>abw</td>\n",
              "      <td>1802</td>\n",
              "      <td>833</td>\n",
              "      <td>34.42</td>\n",
              "      <td>19286</td>\n",
              "      <td>abw</td>\n",
              "      <td>Aruba</td>\n",
              "      <td>america</td>\n",
              "    </tr>\n",
              "    <tr>\n",
              "      <th>3</th>\n",
              "      <td>abw</td>\n",
              "      <td>1803</td>\n",
              "      <td>833</td>\n",
              "      <td>34.42</td>\n",
              "      <td>19286</td>\n",
              "      <td>abw</td>\n",
              "      <td>Aruba</td>\n",
              "      <td>america</td>\n",
              "    </tr>\n",
              "    <tr>\n",
              "      <th>4</th>\n",
              "      <td>abw</td>\n",
              "      <td>1804</td>\n",
              "      <td>833</td>\n",
              "      <td>34.42</td>\n",
              "      <td>19286</td>\n",
              "      <td>abw</td>\n",
              "      <td>Aruba</td>\n",
              "      <td>america</td>\n",
              "    </tr>\n",
              "  </tbody>\n",
              "</table>\n",
              "</div>"
            ],
            "text/plain": [
              "   geo  time  income_per_person_gdppercapita_ppp_inflation_adjusted  \\\n",
              "0  abw  1800                                                833       \n",
              "1  abw  1801                                                833       \n",
              "2  abw  1802                                                833       \n",
              "3  abw  1803                                                833       \n",
              "4  abw  1804                                                833       \n",
              "\n",
              "   life_expectancy_years  population_total country   name world_6region  \n",
              "0                  34.42             19286     abw  Aruba       america  \n",
              "1                  34.42             19286     abw  Aruba       america  \n",
              "2                  34.42             19286     abw  Aruba       america  \n",
              "3                  34.42             19286     abw  Aruba       america  \n",
              "4                  34.42             19286     abw  Aruba       america  "
            ]
          },
          "metadata": {
            "tags": []
          },
          "execution_count": 26
        }
      ]
    },
    {
      "metadata": {
        "id": "xisnv1LPdtjB",
        "colab_type": "code",
        "outputId": "e0504632-a85d-44fe-a0c6-bdffac5513e9",
        "colab": {
          "base_uri": "https://localhost:8080/",
          "height": 34
        }
      },
      "cell_type": "code",
      "source": [
        "df = pd.merge(df, entities[variables], \n",
        "              how='inner', left_on='geo', right_on='country')\n",
        "\n",
        "df.drop(columns=['geo', 'country'], inplace=True)\n",
        "\n",
        "df.rename(columns={\n",
        "    'time': 'year', \n",
        "    'income_per_person_gdppercapita_ppp_inflation_adjusted': 'income', \n",
        "    'life_expectancy_years': 'lifespan', \n",
        "    'population_total': 'population', \n",
        "    'name': 'country', \n",
        "    'world_6region': 'region'\n",
        "}, inplace=True)\n",
        "\n",
        "df.shape"
      ],
      "execution_count": 27,
      "outputs": [
        {
          "output_type": "execute_result",
          "data": {
            "text/plain": [
              "(41790, 6)"
            ]
          },
          "metadata": {
            "tags": []
          },
          "execution_count": 27
        }
      ]
    },
    {
      "metadata": {
        "id": "gFj-L4S_ehK_",
        "colab_type": "code",
        "outputId": "134a6df0-de2e-4370-a49b-65e7120d5f63",
        "colab": {
          "base_uri": "https://localhost:8080/",
          "height": 204
        }
      },
      "cell_type": "code",
      "source": [
        "df.head()"
      ],
      "execution_count": 28,
      "outputs": [
        {
          "output_type": "execute_result",
          "data": {
            "text/html": [
              "<div>\n",
              "<style scoped>\n",
              "    .dataframe tbody tr th:only-of-type {\n",
              "        vertical-align: middle;\n",
              "    }\n",
              "\n",
              "    .dataframe tbody tr th {\n",
              "        vertical-align: top;\n",
              "    }\n",
              "\n",
              "    .dataframe thead th {\n",
              "        text-align: right;\n",
              "    }\n",
              "</style>\n",
              "<table border=\"1\" class=\"dataframe\">\n",
              "  <thead>\n",
              "    <tr style=\"text-align: right;\">\n",
              "      <th></th>\n",
              "      <th>year</th>\n",
              "      <th>income</th>\n",
              "      <th>lifespan</th>\n",
              "      <th>population</th>\n",
              "      <th>country</th>\n",
              "      <th>region</th>\n",
              "    </tr>\n",
              "  </thead>\n",
              "  <tbody>\n",
              "    <tr>\n",
              "      <th>0</th>\n",
              "      <td>1800</td>\n",
              "      <td>833</td>\n",
              "      <td>34.42</td>\n",
              "      <td>19286</td>\n",
              "      <td>Aruba</td>\n",
              "      <td>america</td>\n",
              "    </tr>\n",
              "    <tr>\n",
              "      <th>1</th>\n",
              "      <td>1801</td>\n",
              "      <td>833</td>\n",
              "      <td>34.42</td>\n",
              "      <td>19286</td>\n",
              "      <td>Aruba</td>\n",
              "      <td>america</td>\n",
              "    </tr>\n",
              "    <tr>\n",
              "      <th>2</th>\n",
              "      <td>1802</td>\n",
              "      <td>833</td>\n",
              "      <td>34.42</td>\n",
              "      <td>19286</td>\n",
              "      <td>Aruba</td>\n",
              "      <td>america</td>\n",
              "    </tr>\n",
              "    <tr>\n",
              "      <th>3</th>\n",
              "      <td>1803</td>\n",
              "      <td>833</td>\n",
              "      <td>34.42</td>\n",
              "      <td>19286</td>\n",
              "      <td>Aruba</td>\n",
              "      <td>america</td>\n",
              "    </tr>\n",
              "    <tr>\n",
              "      <th>4</th>\n",
              "      <td>1804</td>\n",
              "      <td>833</td>\n",
              "      <td>34.42</td>\n",
              "      <td>19286</td>\n",
              "      <td>Aruba</td>\n",
              "      <td>america</td>\n",
              "    </tr>\n",
              "  </tbody>\n",
              "</table>\n",
              "</div>"
            ],
            "text/plain": [
              "   year  income  lifespan  population country   region\n",
              "0  1800     833     34.42       19286   Aruba  america\n",
              "1  1801     833     34.42       19286   Aruba  america\n",
              "2  1802     833     34.42       19286   Aruba  america\n",
              "3  1803     833     34.42       19286   Aruba  america\n",
              "4  1804     833     34.42       19286   Aruba  america"
            ]
          },
          "metadata": {
            "tags": []
          },
          "execution_count": 28
        }
      ]
    },
    {
      "metadata": {
        "id": "4OdEr5IFVdF5",
        "colab_type": "text"
      },
      "cell_type": "markdown",
      "source": [
        "## Explore data"
      ]
    },
    {
      "metadata": {
        "id": "QXrJmqdaVTAz",
        "colab_type": "code",
        "outputId": "3f8c620b-45e8-4ab4-8a2c-74843cde488a",
        "colab": {
          "base_uri": "https://localhost:8080/",
          "height": 297
        }
      },
      "cell_type": "code",
      "source": [
        "df.describe()"
      ],
      "execution_count": 29,
      "outputs": [
        {
          "output_type": "execute_result",
          "data": {
            "text/html": [
              "<div>\n",
              "<style scoped>\n",
              "    .dataframe tbody tr th:only-of-type {\n",
              "        vertical-align: middle;\n",
              "    }\n",
              "\n",
              "    .dataframe tbody tr th {\n",
              "        vertical-align: top;\n",
              "    }\n",
              "\n",
              "    .dataframe thead th {\n",
              "        text-align: right;\n",
              "    }\n",
              "</style>\n",
              "<table border=\"1\" class=\"dataframe\">\n",
              "  <thead>\n",
              "    <tr style=\"text-align: right;\">\n",
              "      <th></th>\n",
              "      <th>year</th>\n",
              "      <th>income</th>\n",
              "      <th>lifespan</th>\n",
              "      <th>population</th>\n",
              "    </tr>\n",
              "  </thead>\n",
              "  <tbody>\n",
              "    <tr>\n",
              "      <th>count</th>\n",
              "      <td>41790.000000</td>\n",
              "      <td>41790.000000</td>\n",
              "      <td>41790.000000</td>\n",
              "      <td>4.179000e+04</td>\n",
              "    </tr>\n",
              "    <tr>\n",
              "      <th>mean</th>\n",
              "      <td>1909.357406</td>\n",
              "      <td>4778.593683</td>\n",
              "      <td>43.267181</td>\n",
              "      <td>1.332550e+07</td>\n",
              "    </tr>\n",
              "    <tr>\n",
              "      <th>std</th>\n",
              "      <td>63.322969</td>\n",
              "      <td>10502.602580</td>\n",
              "      <td>16.394240</td>\n",
              "      <td>6.502349e+07</td>\n",
              "    </tr>\n",
              "    <tr>\n",
              "      <th>min</th>\n",
              "      <td>1800.000000</td>\n",
              "      <td>247.000000</td>\n",
              "      <td>1.000000</td>\n",
              "      <td>2.128000e+03</td>\n",
              "    </tr>\n",
              "    <tr>\n",
              "      <th>25%</th>\n",
              "      <td>1854.000000</td>\n",
              "      <td>884.000000</td>\n",
              "      <td>31.200000</td>\n",
              "      <td>3.760282e+05</td>\n",
              "    </tr>\n",
              "    <tr>\n",
              "      <th>50%</th>\n",
              "      <td>1909.000000</td>\n",
              "      <td>1449.000000</td>\n",
              "      <td>35.500000</td>\n",
              "      <td>1.915244e+06</td>\n",
              "    </tr>\n",
              "    <tr>\n",
              "      <th>75%</th>\n",
              "      <td>1964.000000</td>\n",
              "      <td>3536.750000</td>\n",
              "      <td>56.340000</td>\n",
              "      <td>6.260147e+06</td>\n",
              "    </tr>\n",
              "    <tr>\n",
              "      <th>max</th>\n",
              "      <td>2018.000000</td>\n",
              "      <td>177522.000000</td>\n",
              "      <td>84.170000</td>\n",
              "      <td>1.415046e+09</td>\n",
              "    </tr>\n",
              "  </tbody>\n",
              "</table>\n",
              "</div>"
            ],
            "text/plain": [
              "               year         income      lifespan    population\n",
              "count  41790.000000   41790.000000  41790.000000  4.179000e+04\n",
              "mean    1909.357406    4778.593683     43.267181  1.332550e+07\n",
              "std       63.322969   10502.602580     16.394240  6.502349e+07\n",
              "min     1800.000000     247.000000      1.000000  2.128000e+03\n",
              "25%     1854.000000     884.000000     31.200000  3.760282e+05\n",
              "50%     1909.000000    1449.000000     35.500000  1.915244e+06\n",
              "75%     1964.000000    3536.750000     56.340000  6.260147e+06\n",
              "max     2018.000000  177522.000000     84.170000  1.415046e+09"
            ]
          },
          "metadata": {
            "tags": []
          },
          "execution_count": 29
        }
      ]
    },
    {
      "metadata": {
        "id": "zQ7rfRBse8CG",
        "colab_type": "code",
        "outputId": "a1e285df-b7d0-4fca-d056-343e169bab27",
        "colab": {
          "base_uri": "https://localhost:8080/",
          "height": 173
        }
      },
      "cell_type": "code",
      "source": [
        "df.describe(exclude=[np.number])"
      ],
      "execution_count": 30,
      "outputs": [
        {
          "output_type": "execute_result",
          "data": {
            "text/html": [
              "<div>\n",
              "<style scoped>\n",
              "    .dataframe tbody tr th:only-of-type {\n",
              "        vertical-align: middle;\n",
              "    }\n",
              "\n",
              "    .dataframe tbody tr th {\n",
              "        vertical-align: top;\n",
              "    }\n",
              "\n",
              "    .dataframe thead th {\n",
              "        text-align: right;\n",
              "    }\n",
              "</style>\n",
              "<table border=\"1\" class=\"dataframe\">\n",
              "  <thead>\n",
              "    <tr style=\"text-align: right;\">\n",
              "      <th></th>\n",
              "      <th>country</th>\n",
              "      <th>region</th>\n",
              "    </tr>\n",
              "  </thead>\n",
              "  <tbody>\n",
              "    <tr>\n",
              "      <th>count</th>\n",
              "      <td>41790</td>\n",
              "      <td>41790</td>\n",
              "    </tr>\n",
              "    <tr>\n",
              "      <th>unique</th>\n",
              "      <td>194</td>\n",
              "      <td>6</td>\n",
              "    </tr>\n",
              "    <tr>\n",
              "      <th>top</th>\n",
              "      <td>Nigeria</td>\n",
              "      <td>europe_central_asia</td>\n",
              "    </tr>\n",
              "    <tr>\n",
              "      <th>freq</th>\n",
              "      <td>219</td>\n",
              "      <td>10991</td>\n",
              "    </tr>\n",
              "  </tbody>\n",
              "</table>\n",
              "</div>"
            ],
            "text/plain": [
              "        country               region\n",
              "count     41790                41790\n",
              "unique      194                    6\n",
              "top     Nigeria  europe_central_asia\n",
              "freq        219                10991"
            ]
          },
          "metadata": {
            "tags": []
          },
          "execution_count": 30
        }
      ]
    },
    {
      "metadata": {
        "id": "cMWm0QYZfTFi",
        "colab_type": "code",
        "outputId": "e4e6cae8-6226-4e2f-c3ad-2191f12f86fe",
        "colab": {
          "base_uri": "https://localhost:8080/",
          "height": 717
        }
      },
      "cell_type": "code",
      "source": [
        "df.country.unique()"
      ],
      "execution_count": 31,
      "outputs": [
        {
          "output_type": "execute_result",
          "data": {
            "text/plain": [
              "array(['Aruba', 'Afghanistan', 'Angola', 'Albania', 'Andorra',\n",
              "       'United Arab Emirates', 'Argentina', 'Armenia',\n",
              "       'Antigua and Barbuda', 'Australia', 'Austria', 'Azerbaijan',\n",
              "       'Burundi', 'Belgium', 'Benin', 'Burkina Faso', 'Bangladesh',\n",
              "       'Bulgaria', 'Bahrain', 'Bahamas', 'Bosnia and Herzegovina',\n",
              "       'Belarus', 'Belize', 'Bermuda', 'Bolivia', 'Brazil', 'Barbados',\n",
              "       'Brunei', 'Bhutan', 'Botswana', 'Central African Republic',\n",
              "       'Canada', 'Switzerland', 'Chile', 'China', \"Cote d'Ivoire\",\n",
              "       'Cameroon', 'Congo, Dem. Rep.', 'Congo, Rep.', 'Colombia',\n",
              "       'Comoros', 'Cape Verde', 'Costa Rica', 'Cuba', 'Cyprus',\n",
              "       'Czech Republic', 'Germany', 'Djibouti', 'Dominica', 'Denmark',\n",
              "       'Dominican Republic', 'Algeria', 'Ecuador', 'Egypt', 'Eritrea',\n",
              "       'Spain', 'Estonia', 'Ethiopia', 'Finland', 'Fiji', 'France',\n",
              "       'Micronesia, Fed. Sts.', 'Gabon', 'United Kingdom', 'Georgia',\n",
              "       'Ghana', 'Guinea', 'Gambia', 'Guinea-Bissau', 'Equatorial Guinea',\n",
              "       'Greece', 'Grenada', 'Greenland', 'Guatemala', 'Guyana',\n",
              "       'Hong Kong, China', 'Honduras', 'Croatia', 'Haiti', 'Hungary',\n",
              "       'Indonesia', 'India', 'Ireland', 'Iran', 'Iraq', 'Iceland',\n",
              "       'Israel', 'Italy', 'Jamaica', 'Jordan', 'Japan', 'Kazakhstan',\n",
              "       'Kenya', 'Kyrgyz Republic', 'Cambodia', 'Kiribati', 'South Korea',\n",
              "       'Kuwait', 'Lao', 'Lebanon', 'Liberia', 'Libya', 'St. Lucia',\n",
              "       'Sri Lanka', 'Lesotho', 'Lithuania', 'Luxembourg', 'Latvia',\n",
              "       'Macao, China', 'Morocco', 'Moldova', 'Madagascar', 'Maldives',\n",
              "       'Mexico', 'Marshall Islands', 'Macedonia, FYR', 'Mali', 'Malta',\n",
              "       'Myanmar', 'Montenegro', 'Mongolia', 'Mozambique', 'Mauritania',\n",
              "       'Mauritius', 'Malawi', 'Malaysia', 'Namibia', 'Niger', 'Nigeria',\n",
              "       'Nicaragua', 'Netherlands', 'Norway', 'Nepal', 'New Zealand',\n",
              "       'Oman', 'Pakistan', 'Panama', 'Peru', 'Philippines',\n",
              "       'Papua New Guinea', 'Poland', 'Puerto Rico', 'North Korea',\n",
              "       'Portugal', 'Paraguay', 'Palestine', 'Qatar', 'Romania', 'Russia',\n",
              "       'Rwanda', 'Saudi Arabia', 'Sudan', 'Senegal', 'Singapore',\n",
              "       'Solomon Islands', 'Sierra Leone', 'El Salvador', 'Somalia',\n",
              "       'Serbia', 'South Sudan', 'Sao Tome and Principe', 'Suriname',\n",
              "       'Slovak Republic', 'Slovenia', 'Sweden', 'Swaziland', 'Seychelles',\n",
              "       'Syria', 'Chad', 'Togo', 'Thailand', 'Tajikistan', 'Turkmenistan',\n",
              "       'Timor-Leste', 'Tonga', 'Trinidad and Tobago', 'Tunisia', 'Turkey',\n",
              "       'Taiwan', 'Tanzania', 'Uganda', 'Ukraine', 'Uruguay',\n",
              "       'United States', 'Uzbekistan', 'St. Vincent and the Grenadines',\n",
              "       'Venezuela', 'Vietnam', 'Vanuatu', 'Samoa', 'Yemen',\n",
              "       'South Africa', 'Zambia', 'Zimbabwe'], dtype=object)"
            ]
          },
          "metadata": {
            "tags": []
          },
          "execution_count": 31
        }
      ]
    },
    {
      "metadata": {
        "id": "hpeAXP8sfYur",
        "colab_type": "code",
        "outputId": "7c74b14e-9379-4eb0-9737-24a033c380c3",
        "colab": {
          "base_uri": "https://localhost:8080/",
          "height": 142
        }
      },
      "cell_type": "code",
      "source": [
        "usa = df[df.country=='United States']\n",
        "usa[usa.year.isin([1818, 1918, 2018])]"
      ],
      "execution_count": 32,
      "outputs": [
        {
          "output_type": "execute_result",
          "data": {
            "text/html": [
              "<div>\n",
              "<style scoped>\n",
              "    .dataframe tbody tr th:only-of-type {\n",
              "        vertical-align: middle;\n",
              "    }\n",
              "\n",
              "    .dataframe tbody tr th {\n",
              "        vertical-align: top;\n",
              "    }\n",
              "\n",
              "    .dataframe thead th {\n",
              "        text-align: right;\n",
              "    }\n",
              "</style>\n",
              "<table border=\"1\" class=\"dataframe\">\n",
              "  <thead>\n",
              "    <tr style=\"text-align: right;\">\n",
              "      <th></th>\n",
              "      <th>year</th>\n",
              "      <th>income</th>\n",
              "      <th>lifespan</th>\n",
              "      <th>population</th>\n",
              "      <th>country</th>\n",
              "      <th>region</th>\n",
              "    </tr>\n",
              "  </thead>\n",
              "  <tbody>\n",
              "    <tr>\n",
              "      <th>39399</th>\n",
              "      <td>1818</td>\n",
              "      <td>2258</td>\n",
              "      <td>39.41</td>\n",
              "      <td>9879049</td>\n",
              "      <td>United States</td>\n",
              "      <td>america</td>\n",
              "    </tr>\n",
              "    <tr>\n",
              "      <th>39499</th>\n",
              "      <td>1918</td>\n",
              "      <td>9371</td>\n",
              "      <td>47.18</td>\n",
              "      <td>106721812</td>\n",
              "      <td>United States</td>\n",
              "      <td>america</td>\n",
              "    </tr>\n",
              "    <tr>\n",
              "      <th>39599</th>\n",
              "      <td>2018</td>\n",
              "      <td>54898</td>\n",
              "      <td>79.14</td>\n",
              "      <td>326766748</td>\n",
              "      <td>United States</td>\n",
              "      <td>america</td>\n",
              "    </tr>\n",
              "  </tbody>\n",
              "</table>\n",
              "</div>"
            ],
            "text/plain": [
              "       year  income  lifespan  population        country   region\n",
              "39399  1818    2258     39.41     9879049  United States  america\n",
              "39499  1918    9371     47.18   106721812  United States  america\n",
              "39599  2018   54898     79.14   326766748  United States  america"
            ]
          },
          "metadata": {
            "tags": []
          },
          "execution_count": 32
        }
      ]
    },
    {
      "metadata": {
        "id": "VPL8CJWdf6sO",
        "colab_type": "code",
        "outputId": "db3f443d-e83a-46c8-c308-c687390ddfe7",
        "colab": {
          "base_uri": "https://localhost:8080/",
          "height": 142
        }
      },
      "cell_type": "code",
      "source": [
        "china = df[df.country=='China']\n",
        "china[china.year.isin([1818, 1918, 2018])]"
      ],
      "execution_count": 33,
      "outputs": [
        {
          "output_type": "execute_result",
          "data": {
            "text/html": [
              "<div>\n",
              "<style scoped>\n",
              "    .dataframe tbody tr th:only-of-type {\n",
              "        vertical-align: middle;\n",
              "    }\n",
              "\n",
              "    .dataframe tbody tr th {\n",
              "        vertical-align: top;\n",
              "    }\n",
              "\n",
              "    .dataframe thead th {\n",
              "        text-align: right;\n",
              "    }\n",
              "</style>\n",
              "<table border=\"1\" class=\"dataframe\">\n",
              "  <thead>\n",
              "    <tr style=\"text-align: right;\">\n",
              "      <th></th>\n",
              "      <th>year</th>\n",
              "      <th>income</th>\n",
              "      <th>lifespan</th>\n",
              "      <th>population</th>\n",
              "      <th>country</th>\n",
              "      <th>region</th>\n",
              "    </tr>\n",
              "  </thead>\n",
              "  <tbody>\n",
              "    <tr>\n",
              "      <th>7120</th>\n",
              "      <td>1818</td>\n",
              "      <td>985</td>\n",
              "      <td>32.00</td>\n",
              "      <td>374161494</td>\n",
              "      <td>China</td>\n",
              "      <td>east_asia_pacific</td>\n",
              "    </tr>\n",
              "    <tr>\n",
              "      <th>7220</th>\n",
              "      <td>1918</td>\n",
              "      <td>989</td>\n",
              "      <td>22.13</td>\n",
              "      <td>462444535</td>\n",
              "      <td>China</td>\n",
              "      <td>east_asia_pacific</td>\n",
              "    </tr>\n",
              "    <tr>\n",
              "      <th>7320</th>\n",
              "      <td>2018</td>\n",
              "      <td>16018</td>\n",
              "      <td>76.92</td>\n",
              "      <td>1415045928</td>\n",
              "      <td>China</td>\n",
              "      <td>east_asia_pacific</td>\n",
              "    </tr>\n",
              "  </tbody>\n",
              "</table>\n",
              "</div>"
            ],
            "text/plain": [
              "      year  income  lifespan  population country             region\n",
              "7120  1818     985     32.00   374161494   China  east_asia_pacific\n",
              "7220  1918     989     22.13   462444535   China  east_asia_pacific\n",
              "7320  2018   16018     76.92  1415045928   China  east_asia_pacific"
            ]
          },
          "metadata": {
            "tags": []
          },
          "execution_count": 33
        }
      ]
    },
    {
      "metadata": {
        "id": "hecscpimY6Oz",
        "colab_type": "text"
      },
      "cell_type": "markdown",
      "source": [
        "## Plot visualization"
      ]
    },
    {
      "metadata": {
        "id": "gtxPFc_rWnKn",
        "colab_type": "code",
        "outputId": "43f4b99b-073e-4ff5-8453-ff1fa8ba5ed6",
        "colab": {
          "base_uri": "https://localhost:8080/",
          "height": 376
        }
      },
      "cell_type": "code",
      "source": [
        "now = df[df.year==2018]\n",
        "print(now.shape)\n",
        "now.sample(10)"
      ],
      "execution_count": 34,
      "outputs": [
        {
          "output_type": "stream",
          "text": [
            "(188, 6)\n"
          ],
          "name": "stdout"
        },
        {
          "output_type": "execute_result",
          "data": {
            "text/html": [
              "<div>\n",
              "<style scoped>\n",
              "    .dataframe tbody tr th:only-of-type {\n",
              "        vertical-align: middle;\n",
              "    }\n",
              "\n",
              "    .dataframe tbody tr th {\n",
              "        vertical-align: top;\n",
              "    }\n",
              "\n",
              "    .dataframe thead th {\n",
              "        text-align: right;\n",
              "    }\n",
              "</style>\n",
              "<table border=\"1\" class=\"dataframe\">\n",
              "  <thead>\n",
              "    <tr style=\"text-align: right;\">\n",
              "      <th></th>\n",
              "      <th>year</th>\n",
              "      <th>income</th>\n",
              "      <th>lifespan</th>\n",
              "      <th>population</th>\n",
              "      <th>country</th>\n",
              "      <th>region</th>\n",
              "    </tr>\n",
              "  </thead>\n",
              "  <tbody>\n",
              "    <tr>\n",
              "      <th>3769</th>\n",
              "      <td>2018</td>\n",
              "      <td>18853</td>\n",
              "      <td>75.32</td>\n",
              "      <td>7036848</td>\n",
              "      <td>Bulgaria</td>\n",
              "      <td>europe_central_asia</td>\n",
              "    </tr>\n",
              "    <tr>\n",
              "      <th>33907</th>\n",
              "      <td>2018</td>\n",
              "      <td>629</td>\n",
              "      <td>58.03</td>\n",
              "      <td>15181925</td>\n",
              "      <td>Somalia</td>\n",
              "      <td>sub_saharan_africa</td>\n",
              "    </tr>\n",
              "    <tr>\n",
              "      <th>38723</th>\n",
              "      <td>2018</td>\n",
              "      <td>2780</td>\n",
              "      <td>65.46</td>\n",
              "      <td>59091392</td>\n",
              "      <td>Tanzania</td>\n",
              "      <td>sub_saharan_africa</td>\n",
              "    </tr>\n",
              "    <tr>\n",
              "      <th>10871</th>\n",
              "      <td>2018</td>\n",
              "      <td>13726</td>\n",
              "      <td>77.86</td>\n",
              "      <td>42008054</td>\n",
              "      <td>Algeria</td>\n",
              "      <td>middle_east_north_africa</td>\n",
              "    </tr>\n",
              "    <tr>\n",
              "      <th>31279</th>\n",
              "      <td>2018</td>\n",
              "      <td>2704</td>\n",
              "      <td>72.19</td>\n",
              "      <td>5052776</td>\n",
              "      <td>Palestine</td>\n",
              "      <td>middle_east_north_africa</td>\n",
              "    </tr>\n",
              "    <tr>\n",
              "      <th>30841</th>\n",
              "      <td>2018</td>\n",
              "      <td>27909</td>\n",
              "      <td>81.30</td>\n",
              "      <td>10291196</td>\n",
              "      <td>Portugal</td>\n",
              "      <td>europe_central_asia</td>\n",
              "    </tr>\n",
              "    <tr>\n",
              "      <th>24224</th>\n",
              "      <td>2018</td>\n",
              "      <td>12984</td>\n",
              "      <td>80.08</td>\n",
              "      <td>444259</td>\n",
              "      <td>Maldives</td>\n",
              "      <td>south_asia</td>\n",
              "    </tr>\n",
              "    <tr>\n",
              "      <th>10167</th>\n",
              "      <td>2018</td>\n",
              "      <td>3539</td>\n",
              "      <td>67.10</td>\n",
              "      <td>971408</td>\n",
              "      <td>Djibouti</td>\n",
              "      <td>middle_east_north_africa</td>\n",
              "    </tr>\n",
              "    <tr>\n",
              "      <th>2236</th>\n",
              "      <td>2018</td>\n",
              "      <td>44645</td>\n",
              "      <td>81.84</td>\n",
              "      <td>8751820</td>\n",
              "      <td>Austria</td>\n",
              "      <td>europe_central_asia</td>\n",
              "    </tr>\n",
              "    <tr>\n",
              "      <th>20720</th>\n",
              "      <td>2018</td>\n",
              "      <td>36767</td>\n",
              "      <td>81.35</td>\n",
              "      <td>51164435</td>\n",
              "      <td>South Korea</td>\n",
              "      <td>east_asia_pacific</td>\n",
              "    </tr>\n",
              "  </tbody>\n",
              "</table>\n",
              "</div>"
            ],
            "text/plain": [
              "       year  income  lifespan  population      country  \\\n",
              "3769   2018   18853     75.32     7036848     Bulgaria   \n",
              "33907  2018     629     58.03    15181925      Somalia   \n",
              "38723  2018    2780     65.46    59091392     Tanzania   \n",
              "10871  2018   13726     77.86    42008054      Algeria   \n",
              "31279  2018    2704     72.19     5052776    Palestine   \n",
              "30841  2018   27909     81.30    10291196     Portugal   \n",
              "24224  2018   12984     80.08      444259     Maldives   \n",
              "10167  2018    3539     67.10      971408     Djibouti   \n",
              "2236   2018   44645     81.84     8751820      Austria   \n",
              "20720  2018   36767     81.35    51164435  South Korea   \n",
              "\n",
              "                         region  \n",
              "3769        europe_central_asia  \n",
              "33907        sub_saharan_africa  \n",
              "38723        sub_saharan_africa  \n",
              "10871  middle_east_north_africa  \n",
              "31279  middle_east_north_africa  \n",
              "30841       europe_central_asia  \n",
              "24224                south_asia  \n",
              "10167  middle_east_north_africa  \n",
              "2236        europe_central_asia  \n",
              "20720         east_asia_pacific  "
            ]
          },
          "metadata": {
            "tags": []
          },
          "execution_count": 34
        }
      ]
    },
    {
      "metadata": {
        "id": "CtwGDDeRgYy1",
        "colab_type": "code",
        "colab": {}
      },
      "cell_type": "code",
      "source": [
        "#sns.relplot?"
      ],
      "execution_count": 0,
      "outputs": []
    },
    {
      "metadata": {
        "id": "C0dJa6FVgd7r",
        "colab_type": "code",
        "outputId": "60cffacb-c59c-44b9-c92e-3df527e839c2",
        "colab": {
          "base_uri": "https://localhost:8080/",
          "height": 168
        }
      },
      "cell_type": "code",
      "source": [
        "sns.relplot(x='income', y='lifespan', hue='region', size='population', data=now, sizes=(1, 400));"
      ],
      "execution_count": 36,
      "outputs": [
        {
          "output_type": "error",
          "ename": "AttributeError",
          "evalue": "ignored",
          "traceback": [
            "\u001b[0;31m---------------------------------------------------------------------------\u001b[0m",
            "\u001b[0;31mAttributeError\u001b[0m                            Traceback (most recent call last)",
            "\u001b[0;32m<ipython-input-36-556ca63f47eb>\u001b[0m in \u001b[0;36m<module>\u001b[0;34m()\u001b[0m\n\u001b[0;32m----> 1\u001b[0;31m \u001b[0msns\u001b[0m\u001b[0;34m.\u001b[0m\u001b[0mrelplot\u001b[0m\u001b[0;34m(\u001b[0m\u001b[0mx\u001b[0m\u001b[0;34m=\u001b[0m\u001b[0;34m'income'\u001b[0m\u001b[0;34m,\u001b[0m \u001b[0my\u001b[0m\u001b[0;34m=\u001b[0m\u001b[0;34m'lifespan'\u001b[0m\u001b[0;34m,\u001b[0m \u001b[0mhue\u001b[0m\u001b[0;34m=\u001b[0m\u001b[0;34m'region'\u001b[0m\u001b[0;34m,\u001b[0m \u001b[0msize\u001b[0m\u001b[0;34m=\u001b[0m\u001b[0;34m'population'\u001b[0m\u001b[0;34m,\u001b[0m \u001b[0mdata\u001b[0m\u001b[0;34m=\u001b[0m\u001b[0mnow\u001b[0m\u001b[0;34m,\u001b[0m \u001b[0msizes\u001b[0m\u001b[0;34m=\u001b[0m\u001b[0;34m(\u001b[0m\u001b[0;36m1\u001b[0m\u001b[0;34m,\u001b[0m \u001b[0;36m400\u001b[0m\u001b[0;34m)\u001b[0m\u001b[0;34m)\u001b[0m\u001b[0;34m;\u001b[0m\u001b[0;34m\u001b[0m\u001b[0m\n\u001b[0m",
            "\u001b[0;31mAttributeError\u001b[0m: module 'seaborn' has no attribute 'relplot'"
          ]
        }
      ]
    },
    {
      "metadata": {
        "id": "8OFxenCdhocj",
        "colab_type": "text"
      },
      "cell_type": "markdown",
      "source": [
        "## Analyze outliers"
      ]
    },
    {
      "metadata": {
        "id": "hM76tN2GmMK-",
        "colab_type": "code",
        "colab": {}
      },
      "cell_type": "code",
      "source": [
        "now[now.income > 80000]"
      ],
      "execution_count": 0,
      "outputs": []
    },
    {
      "metadata": {
        "id": "5fEMqwO8m0hm",
        "colab_type": "code",
        "colab": {}
      },
      "cell_type": "code",
      "source": [
        "entities[entities.name=='Macao, China'].T"
      ],
      "execution_count": 0,
      "outputs": []
    },
    {
      "metadata": {
        "id": "E17uZnqmnoU3",
        "colab_type": "code",
        "colab": {}
      },
      "cell_type": "code",
      "source": [
        "qatar = now[now.country=='Qatar']\n",
        "qatar_income = qatar.income.values[0]\n",
        "qatar_lifespan = qatar.lifespan.values[0]"
      ],
      "execution_count": 0,
      "outputs": []
    },
    {
      "metadata": {
        "id": "r7-yw9gNoHgB",
        "colab_type": "code",
        "colab": {}
      },
      "cell_type": "code",
      "source": [
        "sns.relplot(x='income', y='lifespan', hue='region', size='population', data=now, sizes=(1, 400))\n",
        "\n",
        "plt.text(x=qatar_income-5000, y=qatar_lifespan+1, s='Qatar')\n",
        "\n",
        "plt.title('Qatar has the highest incomes in 2018');"
      ],
      "execution_count": 0,
      "outputs": []
    },
    {
      "metadata": {
        "id": "DNTMMBkVhrGk",
        "colab_type": "text"
      },
      "cell_type": "markdown",
      "source": [
        "## Plot multiple years"
      ]
    },
    {
      "metadata": {
        "id": "9BHzjgAopQmi",
        "colab_type": "code",
        "colab": {}
      },
      "cell_type": "code",
      "source": [
        "# now = df[df.year==2018]\n",
        "\n",
        "years = [1818, 1918, 2018]\n",
        "\n",
        "centuries = df[df.year.isin(years)]\n",
        "#centuries.income.index = ['1000','10,000','100,000']"
      ],
      "execution_count": 0,
      "outputs": []
    },
    {
      "metadata": {
        "id": "bklabbB1pfho",
        "colab_type": "code",
        "colab": {}
      },
      "cell_type": "code",
      "source": [
        "ax = sns.relplot(x='income', y='lifespan', hue='region', size='population', sizes=(1, 400), \n",
        "            col='year', data=centuries)\n",
        "plt.xscale('log');\n",
        "ax.set_xticklabels(['10','100','1000','10,000','100,000']);\n"
      ],
      "execution_count": 0,
      "outputs": []
    },
    {
      "metadata": {
        "id": "woaEesN0rWfc",
        "colab_type": "text"
      },
      "cell_type": "markdown",
      "source": [
        "## Consistent countries per year?"
      ]
    },
    {
      "metadata": {
        "id": "IOUy6604psot",
        "colab_type": "code",
        "colab": {}
      },
      "cell_type": "code",
      "source": [
        "centuries.groupby('year').country.count()"
      ],
      "execution_count": 0,
      "outputs": []
    },
    {
      "metadata": {
        "id": "9xpyMoYHrisS",
        "colab_type": "code",
        "colab": {}
      },
      "cell_type": "code",
      "source": [
        "years_per_country = centuries.groupby('country').year.count()\n",
        "years_per_country[years_per_country < 3]"
      ],
      "execution_count": 0,
      "outputs": []
    },
    {
      "metadata": {
        "id": "BB1Ki0v6hxCA",
        "colab_type": "text"
      },
      "cell_type": "markdown",
      "source": [
        "## Point out a story"
      ]
    },
    {
      "metadata": {
        "id": "P-Z_7vjBr-7m",
        "colab_type": "code",
        "colab": {}
      },
      "cell_type": "code",
      "source": [
        "years = [1918, 1938, 1958, 1978, 1998, 2018]\n",
        "\n",
        "subset = df[df.year.isin(years)]\n",
        "\n",
        "sns.relplot(x='income', y='lifespan', hue='region', size='population', sizes=(1, 400), \n",
        "            row='year', data=subset)\n",
        "\n",
        "plt.xscale('log')\n",
        "plt.xlim((150, 150000));"
      ],
      "execution_count": 0,
      "outputs": []
    },
    {
      "metadata": {
        "id": "ZGA2VtaOszNw",
        "colab_type": "code",
        "colab": {}
      },
      "cell_type": "code",
      "source": [
        "for year in years:\n",
        "\n",
        "    sns.relplot(x='income', y='lifespan', hue='region', size='population', sizes=(1, 400), \n",
        "                data=df[df.year==year])\n",
        "\n",
        "    plt.xscale('log')\n",
        "    plt.xlim((150, 150000))\n",
        "    plt.ylim((20, 90))\n",
        "    plt.title(year)\n",
        "    plt.axhline(y=50, color='grey');"
      ],
      "execution_count": 0,
      "outputs": []
    },
    {
      "metadata": {
        "id": "of4BLMuhtpB9",
        "colab_type": "text"
      },
      "cell_type": "markdown",
      "source": [
        "#### 100 years ago, few countires had lifespans _above_ 50 years"
      ]
    },
    {
      "metadata": {
        "id": "7MF3Ki1Wtn57",
        "colab_type": "code",
        "colab": {}
      },
      "cell_type": "code",
      "source": [
        "df[(df.year==1918) & (df.lifespan >= 50)]"
      ],
      "execution_count": 0,
      "outputs": []
    },
    {
      "metadata": {
        "id": "5DHLjCPnuAm8",
        "colab_type": "text"
      },
      "cell_type": "markdown",
      "source": [
        "#### Today, no countries have lifespans _below_ 50 years"
      ]
    },
    {
      "metadata": {
        "id": "NyFWca2S4-7X",
        "colab_type": "code",
        "colab": {}
      },
      "cell_type": "code",
      "source": [
        "print(f'India 1998 to 2018 Linear Regression Population Growth coefficients income: {lr.coef_[0]}  lifespan: {lr.coef_[1]}  intercept: {lr.intercept_}')\n",
        "\n",
        "from mpl_toolkits.mplot3d import Axes3D\n",
        "X2, X3 = np.meshgrid(india['income'], india['lifespan'])\n",
        "\n",
        "def f(x,y):\n",
        "  z = lr.coef_[0] * x + lr.coef_[1] * y + lr.intercept_\n",
        "  return z\n",
        "\n",
        "X1 = f(X2, X3)\n",
        "ax = plt.axes(projection='3d')\n",
        "ax.plot_surface(X2, X3, X1, rstride=1, cstride=1, \n",
        "                cmap='viridis', edgecolor=None, alpha=0.5)\n",
        "ax.scatter(india['income'],india['lifespan'], india['population_growth'], c='r', marker='^', s=80, alpha=0.5)\n",
        "ax.set_xlabel('income')\n",
        "ax.set_ylabel('lifespan')\n",
        "ax.set_zlabel('Population Growth Rate')\n",
        "plt.show()"
      ],
      "execution_count": 0,
      "outputs": []
    },
    {
      "metadata": {
        "id": "uSMaZwfhuEMj",
        "colab_type": "code",
        "colab": {}
      },
      "cell_type": "code",
      "source": [
        "df[(df.year==2018) & (df.lifespan < 50)]"
      ],
      "execution_count": 0,
      "outputs": []
    },
    {
      "metadata": {
        "id": "PqGqmgHeXbeO",
        "colab_type": "code",
        "outputId": "5cbb7cab-36b0-4fbd-ef9f-709905aebc0c",
        "colab": {
          "base_uri": "https://localhost:8080/",
          "height": 700
        }
      },
      "cell_type": "code",
      "source": [
        "\n",
        "from sklearn.linear_model import LinearRegression\n",
        "india = df[df.country=='India'].copy()\n",
        "india.index = range(1, india.shape[0] + 1)\n",
        "\n",
        "def il(i, df = india, key='population'):\n",
        "  return df.iloc[[i-1]][key][i]\n",
        "\n",
        "# B3 - B2 = 656   \n",
        "# (A3 - A2) - (A2 - A1)\n",
        "# A2 - A1 - ((A3 - A2) - (A2 - A1))\n",
        "# A2 - A1 - A3 + A2 + A2 - A1\n",
        "# 3 * A2 - 2 * A1  - A3\n",
        "pop1800_delta = 3 * il(2) - 2 * il(1) - il(3) # estimate\n",
        "pop_delta = [pop1800_delta if i == 0 else il(i+1) - il(i) for i in range(0,india.shape[0])]\n",
        "india['population_growth'] = pop_delta\n",
        "india21 = india[198:219].copy()\n",
        "india21.index = range(1, india21.shape[0] + 1)\n",
        "lr = LinearRegression().fit(india21[[\"income\", \"lifespan\"]], india21['population_growth'])\n",
        "india21"
      ],
      "execution_count": 40,
      "outputs": [
        {
          "output_type": "execute_result",
          "data": {
            "text/html": [
              "<div>\n",
              "<style scoped>\n",
              "    .dataframe tbody tr th:only-of-type {\n",
              "        vertical-align: middle;\n",
              "    }\n",
              "\n",
              "    .dataframe tbody tr th {\n",
              "        vertical-align: top;\n",
              "    }\n",
              "\n",
              "    .dataframe thead th {\n",
              "        text-align: right;\n",
              "    }\n",
              "</style>\n",
              "<table border=\"1\" class=\"dataframe\">\n",
              "  <thead>\n",
              "    <tr style=\"text-align: right;\">\n",
              "      <th></th>\n",
              "      <th>year</th>\n",
              "      <th>income</th>\n",
              "      <th>lifespan</th>\n",
              "      <th>population</th>\n",
              "      <th>country</th>\n",
              "      <th>region</th>\n",
              "      <th>population_growth</th>\n",
              "    </tr>\n",
              "  </thead>\n",
              "  <tbody>\n",
              "    <tr>\n",
              "      <th>1</th>\n",
              "      <td>1998</td>\n",
              "      <td>2288</td>\n",
              "      <td>61.65</td>\n",
              "      <td>1015974042</td>\n",
              "      <td>India</td>\n",
              "      <td>south_asia</td>\n",
              "      <td>18568724</td>\n",
              "    </tr>\n",
              "    <tr>\n",
              "      <th>2</th>\n",
              "      <td>1999</td>\n",
              "      <td>2446</td>\n",
              "      <td>61.99</td>\n",
              "      <td>1034539214</td>\n",
              "      <td>India</td>\n",
              "      <td>south_asia</td>\n",
              "      <td>18565172</td>\n",
              "    </tr>\n",
              "    <tr>\n",
              "      <th>3</th>\n",
              "      <td>2000</td>\n",
              "      <td>2495</td>\n",
              "      <td>62.34</td>\n",
              "      <td>1053050912</td>\n",
              "      <td>India</td>\n",
              "      <td>south_asia</td>\n",
              "      <td>18511698</td>\n",
              "    </tr>\n",
              "    <tr>\n",
              "      <th>4</th>\n",
              "      <td>2001</td>\n",
              "      <td>2570</td>\n",
              "      <td>62.67</td>\n",
              "      <td>1071477855</td>\n",
              "      <td>India</td>\n",
              "      <td>south_asia</td>\n",
              "      <td>18426943</td>\n",
              "    </tr>\n",
              "    <tr>\n",
              "      <th>5</th>\n",
              "      <td>2002</td>\n",
              "      <td>2623</td>\n",
              "      <td>63.06</td>\n",
              "      <td>1089807112</td>\n",
              "      <td>India</td>\n",
              "      <td>south_asia</td>\n",
              "      <td>18329257</td>\n",
              "    </tr>\n",
              "    <tr>\n",
              "      <th>6</th>\n",
              "      <td>2003</td>\n",
              "      <td>2783</td>\n",
              "      <td>63.46</td>\n",
              "      <td>1108027848</td>\n",
              "      <td>India</td>\n",
              "      <td>south_asia</td>\n",
              "      <td>18220736</td>\n",
              "    </tr>\n",
              "    <tr>\n",
              "      <th>7</th>\n",
              "      <td>2004</td>\n",
              "      <td>2955</td>\n",
              "      <td>63.83</td>\n",
              "      <td>1126135777</td>\n",
              "      <td>India</td>\n",
              "      <td>south_asia</td>\n",
              "      <td>18107929</td>\n",
              "    </tr>\n",
              "    <tr>\n",
              "      <th>8</th>\n",
              "      <td>2005</td>\n",
              "      <td>3179</td>\n",
              "      <td>64.23</td>\n",
              "      <td>1144118674</td>\n",
              "      <td>India</td>\n",
              "      <td>south_asia</td>\n",
              "      <td>17982897</td>\n",
              "    </tr>\n",
              "    <tr>\n",
              "      <th>9</th>\n",
              "      <td>2006</td>\n",
              "      <td>3420</td>\n",
              "      <td>64.61</td>\n",
              "      <td>1161977719</td>\n",
              "      <td>India</td>\n",
              "      <td>south_asia</td>\n",
              "      <td>17859045</td>\n",
              "    </tr>\n",
              "    <tr>\n",
              "      <th>10</th>\n",
              "      <td>2007</td>\n",
              "      <td>3699</td>\n",
              "      <td>65.00</td>\n",
              "      <td>1179681239</td>\n",
              "      <td>India</td>\n",
              "      <td>south_asia</td>\n",
              "      <td>17703520</td>\n",
              "    </tr>\n",
              "    <tr>\n",
              "      <th>11</th>\n",
              "      <td>2008</td>\n",
              "      <td>3787</td>\n",
              "      <td>65.39</td>\n",
              "      <td>1197146906</td>\n",
              "      <td>India</td>\n",
              "      <td>south_asia</td>\n",
              "      <td>17465667</td>\n",
              "    </tr>\n",
              "    <tr>\n",
              "      <th>12</th>\n",
              "      <td>2009</td>\n",
              "      <td>4050</td>\n",
              "      <td>65.81</td>\n",
              "      <td>1214270132</td>\n",
              "      <td>India</td>\n",
              "      <td>south_asia</td>\n",
              "      <td>17123226</td>\n",
              "    </tr>\n",
              "    <tr>\n",
              "      <th>13</th>\n",
              "      <td>2010</td>\n",
              "      <td>4405</td>\n",
              "      <td>66.20</td>\n",
              "      <td>1230980691</td>\n",
              "      <td>India</td>\n",
              "      <td>south_asia</td>\n",
              "      <td>16710559</td>\n",
              "    </tr>\n",
              "    <tr>\n",
              "      <th>14</th>\n",
              "      <td>2011</td>\n",
              "      <td>4636</td>\n",
              "      <td>66.59</td>\n",
              "      <td>1247236029</td>\n",
              "      <td>India</td>\n",
              "      <td>south_asia</td>\n",
              "      <td>16255338</td>\n",
              "    </tr>\n",
              "    <tr>\n",
              "      <th>15</th>\n",
              "      <td>2012</td>\n",
              "      <td>4828</td>\n",
              "      <td>66.99</td>\n",
              "      <td>1263065852</td>\n",
              "      <td>India</td>\n",
              "      <td>south_asia</td>\n",
              "      <td>15829823</td>\n",
              "    </tr>\n",
              "    <tr>\n",
              "      <th>16</th>\n",
              "      <td>2013</td>\n",
              "      <td>5074</td>\n",
              "      <td>67.37</td>\n",
              "      <td>1278562207</td>\n",
              "      <td>India</td>\n",
              "      <td>south_asia</td>\n",
              "      <td>15496355</td>\n",
              "    </tr>\n",
              "    <tr>\n",
              "      <th>17</th>\n",
              "      <td>2014</td>\n",
              "      <td>5390</td>\n",
              "      <td>67.80</td>\n",
              "      <td>1293859294</td>\n",
              "      <td>India</td>\n",
              "      <td>south_asia</td>\n",
              "      <td>15297087</td>\n",
              "    </tr>\n",
              "    <tr>\n",
              "      <th>18</th>\n",
              "      <td>2015</td>\n",
              "      <td>5754</td>\n",
              "      <td>68.18</td>\n",
              "      <td>1309053980</td>\n",
              "      <td>India</td>\n",
              "      <td>south_asia</td>\n",
              "      <td>15194686</td>\n",
              "    </tr>\n",
              "    <tr>\n",
              "      <th>19</th>\n",
              "      <td>2016</td>\n",
              "      <td>6093</td>\n",
              "      <td>68.63</td>\n",
              "      <td>1324171354</td>\n",
              "      <td>India</td>\n",
              "      <td>south_asia</td>\n",
              "      <td>15117374</td>\n",
              "    </tr>\n",
              "    <tr>\n",
              "      <th>20</th>\n",
              "      <td>2017</td>\n",
              "      <td>6476</td>\n",
              "      <td>68.87</td>\n",
              "      <td>1339180127</td>\n",
              "      <td>India</td>\n",
              "      <td>south_asia</td>\n",
              "      <td>15008773</td>\n",
              "    </tr>\n",
              "    <tr>\n",
              "      <th>21</th>\n",
              "      <td>2018</td>\n",
              "      <td>6890</td>\n",
              "      <td>69.10</td>\n",
              "      <td>1354051854</td>\n",
              "      <td>India</td>\n",
              "      <td>south_asia</td>\n",
              "      <td>14871727</td>\n",
              "    </tr>\n",
              "  </tbody>\n",
              "</table>\n",
              "</div>"
            ],
            "text/plain": [
              "    year  income  lifespan  population country      region  population_growth\n",
              "1   1998    2288     61.65  1015974042   India  south_asia           18568724\n",
              "2   1999    2446     61.99  1034539214   India  south_asia           18565172\n",
              "3   2000    2495     62.34  1053050912   India  south_asia           18511698\n",
              "4   2001    2570     62.67  1071477855   India  south_asia           18426943\n",
              "5   2002    2623     63.06  1089807112   India  south_asia           18329257\n",
              "6   2003    2783     63.46  1108027848   India  south_asia           18220736\n",
              "7   2004    2955     63.83  1126135777   India  south_asia           18107929\n",
              "8   2005    3179     64.23  1144118674   India  south_asia           17982897\n",
              "9   2006    3420     64.61  1161977719   India  south_asia           17859045\n",
              "10  2007    3699     65.00  1179681239   India  south_asia           17703520\n",
              "11  2008    3787     65.39  1197146906   India  south_asia           17465667\n",
              "12  2009    4050     65.81  1214270132   India  south_asia           17123226\n",
              "13  2010    4405     66.20  1230980691   India  south_asia           16710559\n",
              "14  2011    4636     66.59  1247236029   India  south_asia           16255338\n",
              "15  2012    4828     66.99  1263065852   India  south_asia           15829823\n",
              "16  2013    5074     67.37  1278562207   India  south_asia           15496355\n",
              "17  2014    5390     67.80  1293859294   India  south_asia           15297087\n",
              "18  2015    5754     68.18  1309053980   India  south_asia           15194686\n",
              "19  2016    6093     68.63  1324171354   India  south_asia           15117374\n",
              "20  2017    6476     68.87  1339180127   India  south_asia           15008773\n",
              "21  2018    6890     69.10  1354051854   India  south_asia           14871727"
            ]
          },
          "metadata": {
            "tags": []
          },
          "execution_count": 40
        }
      ]
    },
    {
      "metadata": {
        "id": "PCrLwrAUMyu0",
        "colab_type": "code",
        "colab": {
          "base_uri": "https://localhost:8080/",
          "height": 265
        },
        "outputId": "a72617d7-6307-4985-c239-b6e308e990b5"
      },
      "cell_type": "code",
      "source": [
        "print(f'India 1998 to 2018 Linear Regression Population Growth coefficients income: {lr.coef_[0]}  lifespan: {lr.coef_[1]}  intercept: {lr.intercept_}')\n",
        "\n",
        "from mpl_toolkits.mplot3d import Axes3D\n",
        "X2, X3 = np.meshgrid(india21['income'], india21['lifespan'])\n",
        "\n",
        "def f(x,y):\n",
        "  z = lr.coef_[0] * x + lr.coef_[1] * y + lr.intercept_\n",
        "  return z\n",
        "\n",
        "X1 = f(X2, X3)\n",
        "ax = plt.axes(projection='3d')\n",
        "ax.plot_surface(X2, X3, X1, rstride=1, cstride=1, \n",
        "                cmap='viridis', edgecolor=None, alpha=0.5)\n",
        "ax.scatter(india21['income'],india21['lifespan'], india21['population_growth'], c='r', marker='^', s=80, alpha=0.5)\n",
        "ax.set_xlabel('income')\n",
        "ax.set_ylabel('lifespan')\n",
        "ax.set_zlabel('Population Growth Rate')\n",
        "plt.show()"
      ],
      "execution_count": 41,
      "outputs": [
        {
          "output_type": "stream",
          "text": [
            "India 1998 to 2018 Linear Regression Population Growth coefficients income: -624.5048358587894  lifespan: -197284.18622769794  intercept: 32441797.720427565\n"
          ],
          "name": "stdout"
        },
        {
          "output_type": "display_data",
          "data": {
            "image/png": "[encoded data removed]",
            "text/plain": [
              "<matplotlib.figure.Figure at 0x7f3ad06dd630>"
            ]
          },
          "metadata": {
            "tags": []
          }
        }
      ]
    },
    {
      "metadata": {
        "id": "6NLYjp9iM-EY",
        "colab_type": "code",
        "colab": {
          "base_uri": "https://localhost:8080/",
          "height": 265
        },
        "outputId": "4eead201-211b-4612-e187-303d619f7b48"
      },
      "cell_type": "code",
      "source": [
        "# from sklearn.linear_model import LinearRegression\n",
        "# india = df[df.country=='India'].copy()\n",
        "# india.index = range(1, india.shape[0] + 1)\n",
        "\n",
        "def il(i, df = india, key='population_growth'):\n",
        "  return df.iloc[[i-1]][key][i]\n",
        "\n",
        "# B3 - B2 = 656   \n",
        "# (A3 - A2) - (A2 - A1)\n",
        "# A2 - A1 - ((A3 - A2) - (A2 - A1))\n",
        "# A2 - A1 - A3 + A2 + A2 - A1\n",
        "# 3 * A2 - 2 * A1  - A3\n",
        "pop1800_delta_delta = 3 * il(2) - 2 * il(1) - il(3) # estimate\n",
        "pop_delta_delta = [pop1800_delta_delta if i == 0 else il(i+1) - il(i) for i in range(0,india.shape[0])]\n",
        "india['population_growth_delta'] = pop_delta_delta\n",
        "# india = india[198:219]\n",
        "# india.index = range(1, india.shape[0] + 1)\n",
        "lr = LinearRegression().fit(india[[\"income\", \"lifespan\"]], india['population_growth_delta'])\n",
        "#india\n",
        "print(f'India 1800 to 2018 Linear Regression Population Growth Delta (second derivitive of Population) coefficients income: {lr.coef_[0]}  lifespan: {lr.coef_[1]}  intercept: {lr.intercept_}')\n",
        "\n",
        "from mpl_toolkits.mplot3d import Axes3D\n",
        "X2, X3 = np.meshgrid(india['income'], india['lifespan'])\n",
        "\n",
        "def f(x,y):\n",
        "  z = lr.coef_[0] * x + lr.coef_[1] * y + lr.intercept_\n",
        "  return z\n",
        "\n",
        "X1 = f(X2, X3)\n",
        "ax = plt.axes(projection='3d')\n",
        "ax.plot_surface(X2, X3, X1, rstride=1, cstride=1, \n",
        "                cmap='viridis', edgecolor=None, alpha=0.5)\n",
        "ax.scatter(india['income'],india['lifespan'], india['population_growth_delta'], c='r', marker='^', s=80, alpha=0.5)\n",
        "ax.set_xlabel('income')\n",
        "ax.set_ylabel('lifespan')\n",
        "ax.set_zlabel('Population Growth Rate Delta')\n",
        "plt.show()"
      ],
      "execution_count": 43,
      "outputs": [
        {
          "output_type": "stream",
          "text": [
            "India 1800 to 2018 Linear Regression Population Growth Delta (second derivitive of Population) coefficients income: -157.49856037101333  lifespan: 7910.860082502808  intercept: 19110.163055509664\n"
          ],
          "name": "stdout"
        },
        {
          "output_type": "display_data",
          "data": {
            "image/png": "[encoded data removed]",
            "text/plain": [
              "<matplotlib.figure.Figure at 0x7f3ad066d978>"
            ]
          },
          "metadata": {
            "tags": []
          }
        }
      ]
    },
    {
      "metadata": {
        "id": "KV8xHfvmh0kL",
        "colab_type": "text"
      },
      "cell_type": "markdown",
      "source": [
        "## Get interactive with Google Colab"
      ]
    },
    {
      "metadata": {
        "id": "GEBsYUXPhzO8",
        "colab_type": "code",
        "cellView": "both",
        "colab": {}
      },
      "cell_type": "code",
      "source": [
        "year = 2006 #@param {type:\"slider\", min:1800, max:2018, step:1}\n",
        "\n",
        "sns.relplot(x='income', y='lifespan', hue='region', size='population', \n",
        "            data=df[df.year==year])\n",
        "\n",
        "plt.xscale('log')\n",
        "plt.xlim((150, 150000))\n",
        "plt.ylim((20, 90))\n",
        "plt.title(year);"
      ],
      "execution_count": 0,
      "outputs": []
    },
    {
      "metadata": {
        "id": "DEcmp47chWxI",
        "colab_type": "code",
        "colab": {}
      },
      "cell_type": "code",
      "source": [
        "from google.colab import widgets\n",
        "tb = widgets.TabBar([str(year) for year in years])\n",
        "for tab, year in zip(tb, years):\n",
        "    sns.relplot(x='income', y='lifespan', hue='region', size='population', \n",
        "                data=df[df.year==year])\n",
        "\n",
        "    plt.xscale('log')\n",
        "    plt.xlim((150, 150000))\n",
        "    plt.ylim((20, 90));"
      ],
      "execution_count": 0,
      "outputs": []
    },
    {
      "metadata": {
        "id": "38Pn_TGIvQX6",
        "colab_type": "text"
      },
      "cell_type": "markdown",
      "source": [
        "### Stretch goals\n",
        "- [ipywidgets](https://github.com/jupyter-widgets/ipywidgets)\n",
        "- [Matplotlib animation](https://matplotlib.org/examples/animation/index.html)\n",
        "- [Connected scatter plots](http://www.thefunctionalart.com/2012/09/in-praise-of-connected-scatter-plots.html)\n",
        "- [Idyll markup language](https://idyll-lang.org/) for \"scrollytelling\""
      ]
    },
    {
      "metadata": {
        "id": "B7QlCcqpu8Ay",
        "colab_type": "code",
        "colab": {}
      },
      "cell_type": "code",
      "source": [
        ""
      ],
      "execution_count": 0,
      "outputs": []
    }
  ]
}