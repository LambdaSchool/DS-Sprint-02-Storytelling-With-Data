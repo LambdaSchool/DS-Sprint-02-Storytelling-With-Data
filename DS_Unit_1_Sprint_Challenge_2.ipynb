{
 "cells": [
  {
   "cell_type": "markdown",
   "metadata": {
    "colab_type": "text",
    "id": "view-in-github"
   },
   "source": [
    "<a href=\"https://colab.research.google.com/github/DanielleRomanoff/DS-Sprint-02-Storytelling-With-Data/blob/master/DS_Unit_1_Sprint_Challenge_2.ipynb\" target=\"_parent\"><img src=\"https://colab.research.google.com/assets/colab-badge.svg\" alt=\"Open In Colab\"/></a>"
   ]
  },
  {
   "cell_type": "markdown",
   "metadata": {
    "colab_type": "text",
    "id": "i-n_5en3ER1o"
   },
   "source": [
    "# Data Science Unit 1 Sprint Challenge 2\n",
    "\n",
    "# Storytelling with Data\n",
    "\n",
    "In this sprint challenge you'll work with a dataset from **FiveThirtyEight's article, [Every Guest Jon Stewart Ever Had On ‘The Daily Show’](https://fivethirtyeight.com/features/every-guest-jon-stewart-ever-had-on-the-daily-show/)**!"
   ]
  },
  {
   "cell_type": "markdown",
   "metadata": {
    "colab_type": "text",
    "id": "Thm2n5FF2Fnp"
   },
   "source": [
    "# Part 0 — Run this starter code\n",
    "\n",
    "You don't need to add or change anything here. Just run this cell and it loads the data for you, into a dataframe named `df`.\n",
    "\n",
    "(You can explore the data if you want, but it's not required to pass the Sprint Challenge.)"
   ]
  },
  {
   "cell_type": "code",
   "execution_count": 228,
   "metadata": {
    "colab": {},
    "colab_type": "code",
    "id": "0rTHgzJIuRS7"
   },
   "outputs": [],
   "source": [
    "%matplotlib inline\n",
    "import matplotlib.pyplot as plt\n",
    "import numpy as np\n",
    "import pandas as pd\n",
    "\n",
    "df = pd.read_csv('https://raw.githubusercontent.com/fivethirtyeight/data/master/daily-show-guests/daily_show_guests.csv')\n",
    "df.rename(columns={'YEAR': 'Year', 'Raw_Guest_List': 'Guest'}, inplace=True)\n",
    "\n",
    "def get_occupation(group):\n",
    "    if group in ['Acting', 'Comedy', 'Musician']:\n",
    "        return 'Acting, Comedy & Music'\n",
    "    elif group in ['Media', 'media']:\n",
    "        return 'Media'\n",
    "    elif group in ['Government', 'Politician', 'Political Aide']:\n",
    "        return 'Government and Politics'\n",
    "    else:\n",
    "        return 'Other'\n",
    "      \n",
    "df['Occupation'] = df['Group'].apply(get_occupation)"
   ]
  },
  {
   "cell_type": "code",
   "execution_count": 229,
   "metadata": {
    "colab": {
     "base_uri": "https://localhost:8080/",
     "height": 204
    },
    "colab_type": "code",
    "id": "t-AQ9lCfYXNV",
    "outputId": "1e0068f8-7fc0-45a8-db59-7c2673db1c7f"
   },
   "outputs": [
    {
     "data": {
      "text/html": [
       "<div>\n",
       "<style scoped>\n",
       "    .dataframe tbody tr th:only-of-type {\n",
       "        vertical-align: middle;\n",
       "    }\n",
       "\n",
       "    .dataframe tbody tr th {\n",
       "        vertical-align: top;\n",
       "    }\n",
       "\n",
       "    .dataframe thead th {\n",
       "        text-align: right;\n",
       "    }\n",
       "</style>\n",
       "<table border=\"1\" class=\"dataframe\">\n",
       "  <thead>\n",
       "    <tr style=\"text-align: right;\">\n",
       "      <th></th>\n",
       "      <th>Year</th>\n",
       "      <th>GoogleKnowlege_Occupation</th>\n",
       "      <th>Show</th>\n",
       "      <th>Group</th>\n",
       "      <th>Guest</th>\n",
       "      <th>Occupation</th>\n",
       "    </tr>\n",
       "  </thead>\n",
       "  <tbody>\n",
       "    <tr>\n",
       "      <th>0</th>\n",
       "      <td>1999</td>\n",
       "      <td>actor</td>\n",
       "      <td>1/11/99</td>\n",
       "      <td>Acting</td>\n",
       "      <td>Michael J. Fox</td>\n",
       "      <td>Acting, Comedy &amp; Music</td>\n",
       "    </tr>\n",
       "    <tr>\n",
       "      <th>1</th>\n",
       "      <td>1999</td>\n",
       "      <td>Comedian</td>\n",
       "      <td>1/12/99</td>\n",
       "      <td>Comedy</td>\n",
       "      <td>Sandra Bernhard</td>\n",
       "      <td>Acting, Comedy &amp; Music</td>\n",
       "    </tr>\n",
       "    <tr>\n",
       "      <th>2</th>\n",
       "      <td>1999</td>\n",
       "      <td>television actress</td>\n",
       "      <td>1/13/99</td>\n",
       "      <td>Acting</td>\n",
       "      <td>Tracey Ullman</td>\n",
       "      <td>Acting, Comedy &amp; Music</td>\n",
       "    </tr>\n",
       "    <tr>\n",
       "      <th>3</th>\n",
       "      <td>1999</td>\n",
       "      <td>film actress</td>\n",
       "      <td>1/14/99</td>\n",
       "      <td>Acting</td>\n",
       "      <td>Gillian Anderson</td>\n",
       "      <td>Acting, Comedy &amp; Music</td>\n",
       "    </tr>\n",
       "    <tr>\n",
       "      <th>4</th>\n",
       "      <td>1999</td>\n",
       "      <td>actor</td>\n",
       "      <td>1/18/99</td>\n",
       "      <td>Acting</td>\n",
       "      <td>David Alan Grier</td>\n",
       "      <td>Acting, Comedy &amp; Music</td>\n",
       "    </tr>\n",
       "  </tbody>\n",
       "</table>\n",
       "</div>"
      ],
      "text/plain": [
       "   Year GoogleKnowlege_Occupation     Show   Group             Guest  \\\n",
       "0  1999                     actor  1/11/99  Acting    Michael J. Fox   \n",
       "1  1999                  Comedian  1/12/99  Comedy   Sandra Bernhard   \n",
       "2  1999        television actress  1/13/99  Acting     Tracey Ullman   \n",
       "3  1999              film actress  1/14/99  Acting  Gillian Anderson   \n",
       "4  1999                     actor  1/18/99  Acting  David Alan Grier   \n",
       "\n",
       "               Occupation  \n",
       "0  Acting, Comedy & Music  \n",
       "1  Acting, Comedy & Music  \n",
       "2  Acting, Comedy & Music  \n",
       "3  Acting, Comedy & Music  \n",
       "4  Acting, Comedy & Music  "
      ]
     },
     "execution_count": 229,
     "metadata": {},
     "output_type": "execute_result"
    }
   ],
   "source": [
    "df.head()"
   ]
  },
  {
   "cell_type": "code",
   "execution_count": 230,
   "metadata": {
    "colab": {
     "base_uri": "https://localhost:8080/",
     "height": 34
    },
    "colab_type": "code",
    "id": "_DFK7Dg8SXRV",
    "outputId": "b8612d41-2525-448f-9011-79cb9611bc7f"
   },
   "outputs": [
    {
     "data": {
      "text/plain": [
       "(2693, 6)"
      ]
     },
     "execution_count": 230,
     "metadata": {},
     "output_type": "execute_result"
    }
   ],
   "source": [
    "df.shape"
   ]
  },
  {
   "cell_type": "markdown",
   "metadata": {
    "colab_type": "text",
    "id": "OS0nW1vz1itX"
   },
   "source": [
    "# Part 1 — What's the breakdown of guests’ occupations per year?\n",
    "\n",
    "For example, in 1999, what percentage of guests were actors, comedians, or musicians? What percentage were in the media? What percentage were in politics? What percentage were from another occupation?\n",
    "\n",
    "Then, what about in 2000? In 2001? And so on, up through 2015.\n",
    "\n",
    "So, **for each year of _The Daily Show_, calculate the percentage of guests from each occupation:**\n",
    "- Acting, Comedy & Music\n",
    "- Government and Politics\n",
    "- Media\n",
    "- Other\n",
    "\n",
    "#### Hints:\n",
    "1. Use pandas to make a **crosstab** of **`Year`** & **`Occupation`**. ([This documentation](http://pandas.pydata.org/pandas-docs/stable/reshaping.html#cross-tabulations) has examples and explanation.)\n",
    "2. To get percentages instead of counts, use crosstab's **`normalize`** parameter to normalize over each _row._ ([This documentation](http://pandas.pydata.org/pandas-docs/stable/generated/pandas.crosstab.html) describes the parameter and its options.)\n",
    "3. You'll know you've calculated the crosstab correctly when the percentage of \"Acting, Comedy & Music\" guests is 90.36% in 1999, and 45% in 2015."
   ]
  },
  {
   "cell_type": "code",
   "execution_count": 231,
   "metadata": {
    "colab": {
     "base_uri": "https://localhost:8080/",
     "height": 707
    },
    "colab_type": "code",
    "id": "sRMc0H_5z6ff",
    "outputId": "4de16120-7f46-4854-ab40-42e9426d8360"
   },
   "outputs": [
    {
     "data": {
      "text/html": [
       "<div>\n",
       "<style scoped>\n",
       "    .dataframe tbody tr th:only-of-type {\n",
       "        vertical-align: middle;\n",
       "    }\n",
       "\n",
       "    .dataframe tbody tr th {\n",
       "        vertical-align: top;\n",
       "    }\n",
       "\n",
       "    .dataframe thead th {\n",
       "        text-align: right;\n",
       "    }\n",
       "</style>\n",
       "<table border=\"1\" class=\"dataframe\">\n",
       "  <thead>\n",
       "    <tr style=\"text-align: right;\">\n",
       "      <th>Occupation</th>\n",
       "      <th>Acting, Comedy &amp; Music</th>\n",
       "      <th>Government and Politics</th>\n",
       "      <th>Media</th>\n",
       "      <th>Other</th>\n",
       "    </tr>\n",
       "    <tr>\n",
       "      <th>Year</th>\n",
       "      <th></th>\n",
       "      <th></th>\n",
       "      <th></th>\n",
       "      <th></th>\n",
       "    </tr>\n",
       "  </thead>\n",
       "  <tbody>\n",
       "    <tr>\n",
       "      <th>1999</th>\n",
       "      <td>90.36.%</td>\n",
       "      <td>1.20.%</td>\n",
       "      <td>6.63.%</td>\n",
       "      <td>1.81.%</td>\n",
       "    </tr>\n",
       "    <tr>\n",
       "      <th>2000</th>\n",
       "      <td>73.96.%</td>\n",
       "      <td>8.28.%</td>\n",
       "      <td>12.43.%</td>\n",
       "      <td>5.33.%</td>\n",
       "    </tr>\n",
       "    <tr>\n",
       "      <th>2001</th>\n",
       "      <td>72.61.%</td>\n",
       "      <td>3.82.%</td>\n",
       "      <td>19.75.%</td>\n",
       "      <td>3.82.%</td>\n",
       "    </tr>\n",
       "    <tr>\n",
       "      <th>2002</th>\n",
       "      <td>62.26.%</td>\n",
       "      <td>6.92.%</td>\n",
       "      <td>26.42.%</td>\n",
       "      <td>4.40.%</td>\n",
       "    </tr>\n",
       "    <tr>\n",
       "      <th>2003</th>\n",
       "      <td>56.02.%</td>\n",
       "      <td>10.24.%</td>\n",
       "      <td>24.70.%</td>\n",
       "      <td>9.04.%</td>\n",
       "    </tr>\n",
       "    <tr>\n",
       "      <th>2004</th>\n",
       "      <td>38.41.%</td>\n",
       "      <td>22.56.%</td>\n",
       "      <td>27.44.%</td>\n",
       "      <td>11.59.%</td>\n",
       "    </tr>\n",
       "    <tr>\n",
       "      <th>2005</th>\n",
       "      <td>37.04.%</td>\n",
       "      <td>16.05.%</td>\n",
       "      <td>33.33.%</td>\n",
       "      <td>13.58.%</td>\n",
       "    </tr>\n",
       "    <tr>\n",
       "      <th>2006</th>\n",
       "      <td>36.02.%</td>\n",
       "      <td>19.25.%</td>\n",
       "      <td>29.19.%</td>\n",
       "      <td>15.53.%</td>\n",
       "    </tr>\n",
       "    <tr>\n",
       "      <th>2007</th>\n",
       "      <td>25.53.%</td>\n",
       "      <td>17.02.%</td>\n",
       "      <td>33.33.%</td>\n",
       "      <td>24.11.%</td>\n",
       "    </tr>\n",
       "    <tr>\n",
       "      <th>2008</th>\n",
       "      <td>20.73.%</td>\n",
       "      <td>20.12.%</td>\n",
       "      <td>46.95.%</td>\n",
       "      <td>12.20.%</td>\n",
       "    </tr>\n",
       "    <tr>\n",
       "      <th>2009</th>\n",
       "      <td>20.86.%</td>\n",
       "      <td>20.86.%</td>\n",
       "      <td>36.20.%</td>\n",
       "      <td>22.09.%</td>\n",
       "    </tr>\n",
       "    <tr>\n",
       "      <th>2010</th>\n",
       "      <td>35.15.%</td>\n",
       "      <td>18.18.%</td>\n",
       "      <td>30.30.%</td>\n",
       "      <td>16.36.%</td>\n",
       "    </tr>\n",
       "    <tr>\n",
       "      <th>2011</th>\n",
       "      <td>33.74.%</td>\n",
       "      <td>16.56.%</td>\n",
       "      <td>31.29.%</td>\n",
       "      <td>18.40.%</td>\n",
       "    </tr>\n",
       "    <tr>\n",
       "      <th>2012</th>\n",
       "      <td>26.83.%</td>\n",
       "      <td>20.12.%</td>\n",
       "      <td>31.71.%</td>\n",
       "      <td>21.34.%</td>\n",
       "    </tr>\n",
       "    <tr>\n",
       "      <th>2013</th>\n",
       "      <td>42.77.%</td>\n",
       "      <td>12.65.%</td>\n",
       "      <td>30.72.%</td>\n",
       "      <td>13.86.%</td>\n",
       "    </tr>\n",
       "    <tr>\n",
       "      <th>2014</th>\n",
       "      <td>39.26.%</td>\n",
       "      <td>12.88.%</td>\n",
       "      <td>32.52.%</td>\n",
       "      <td>15.34.%</td>\n",
       "    </tr>\n",
       "    <tr>\n",
       "      <th>2015</th>\n",
       "      <td>45.00.%</td>\n",
       "      <td>17.00.%</td>\n",
       "      <td>24.00.%</td>\n",
       "      <td>14.00.%</td>\n",
       "    </tr>\n",
       "  </tbody>\n",
       "</table>\n",
       "</div>"
      ],
      "text/plain": [
       "Occupation Acting, Comedy & Music Government and Politics     Media     Other\n",
       "Year                                                                         \n",
       "1999                      90.36.%                  1.20.%    6.63.%    1.81.%\n",
       "2000                      73.96.%                  8.28.%   12.43.%    5.33.%\n",
       "2001                      72.61.%                  3.82.%   19.75.%    3.82.%\n",
       "2002                      62.26.%                  6.92.%   26.42.%    4.40.%\n",
       "2003                      56.02.%                 10.24.%   24.70.%    9.04.%\n",
       "2004                      38.41.%                 22.56.%   27.44.%   11.59.%\n",
       "2005                      37.04.%                 16.05.%   33.33.%   13.58.%\n",
       "2006                      36.02.%                 19.25.%   29.19.%   15.53.%\n",
       "2007                      25.53.%                 17.02.%   33.33.%   24.11.%\n",
       "2008                      20.73.%                 20.12.%   46.95.%   12.20.%\n",
       "2009                      20.86.%                 20.86.%   36.20.%   22.09.%\n",
       "2010                      35.15.%                 18.18.%   30.30.%   16.36.%\n",
       "2011                      33.74.%                 16.56.%   31.29.%   18.40.%\n",
       "2012                      26.83.%                 20.12.%   31.71.%   21.34.%\n",
       "2013                      42.77.%                 12.65.%   30.72.%   13.86.%\n",
       "2014                      39.26.%                 12.88.%   32.52.%   15.34.%\n",
       "2015                      45.00.%                 17.00.%   24.00.%   14.00.%"
      ]
     },
     "execution_count": 231,
     "metadata": {},
     "output_type": "execute_result"
    }
   ],
   "source": [
    "# range =  pd.date_range('1999', '2015')\n",
    "# unique_year = (np.unique(range.strftime('%Y')).tolist())\n",
    "\n",
    "# pd.crosstab(df.Year, df.GoogleKnowlege_Occupation, normalize='columns')\n",
    "data = pd.crosstab(df.Year, df.Occupation, normalize = 'index').applymap(lambda x: \"{0: .2f}.%\".format(100 * x))\n",
    "data"
   ]
  },
  {
   "cell_type": "code",
   "execution_count": 232,
   "metadata": {},
   "outputs": [
    {
     "data": {
      "text/plain": [
       "Occupation\n",
       "Acting, Comedy & Music     object\n",
       "Government and Politics    object\n",
       "Media                      object\n",
       "Other                      object\n",
       "dtype: object"
      ]
     },
     "execution_count": 232,
     "metadata": {},
     "output_type": "execute_result"
    }
   ],
   "source": [
    "data.dtypes"
   ]
  },
  {
   "cell_type": "code",
   "execution_count": 233,
   "metadata": {},
   "outputs": [
    {
     "data": {
      "text/html": [
       "<div>\n",
       "<style scoped>\n",
       "    .dataframe tbody tr th:only-of-type {\n",
       "        vertical-align: middle;\n",
       "    }\n",
       "\n",
       "    .dataframe tbody tr th {\n",
       "        vertical-align: top;\n",
       "    }\n",
       "\n",
       "    .dataframe thead th {\n",
       "        text-align: right;\n",
       "    }\n",
       "</style>\n",
       "<table border=\"1\" class=\"dataframe\">\n",
       "  <thead>\n",
       "    <tr style=\"text-align: right;\">\n",
       "      <th>Occupation</th>\n",
       "      <th>Acting, Comedy &amp; Music</th>\n",
       "      <th>Government and Politics</th>\n",
       "      <th>Media</th>\n",
       "    </tr>\n",
       "    <tr>\n",
       "      <th>Year</th>\n",
       "      <th></th>\n",
       "      <th></th>\n",
       "      <th></th>\n",
       "    </tr>\n",
       "  </thead>\n",
       "  <tbody>\n",
       "    <tr>\n",
       "      <th>1999</th>\n",
       "      <td>0.903614</td>\n",
       "      <td>0.012048</td>\n",
       "      <td>0.066265</td>\n",
       "    </tr>\n",
       "    <tr>\n",
       "      <th>2000</th>\n",
       "      <td>0.739645</td>\n",
       "      <td>0.082840</td>\n",
       "      <td>0.124260</td>\n",
       "    </tr>\n",
       "    <tr>\n",
       "      <th>2001</th>\n",
       "      <td>0.726115</td>\n",
       "      <td>0.038217</td>\n",
       "      <td>0.197452</td>\n",
       "    </tr>\n",
       "    <tr>\n",
       "      <th>2002</th>\n",
       "      <td>0.622642</td>\n",
       "      <td>0.069182</td>\n",
       "      <td>0.264151</td>\n",
       "    </tr>\n",
       "    <tr>\n",
       "      <th>2003</th>\n",
       "      <td>0.560241</td>\n",
       "      <td>0.102410</td>\n",
       "      <td>0.246988</td>\n",
       "    </tr>\n",
       "    <tr>\n",
       "      <th>2004</th>\n",
       "      <td>0.384146</td>\n",
       "      <td>0.225610</td>\n",
       "      <td>0.274390</td>\n",
       "    </tr>\n",
       "    <tr>\n",
       "      <th>2005</th>\n",
       "      <td>0.370370</td>\n",
       "      <td>0.160494</td>\n",
       "      <td>0.333333</td>\n",
       "    </tr>\n",
       "    <tr>\n",
       "      <th>2006</th>\n",
       "      <td>0.360248</td>\n",
       "      <td>0.192547</td>\n",
       "      <td>0.291925</td>\n",
       "    </tr>\n",
       "    <tr>\n",
       "      <th>2007</th>\n",
       "      <td>0.255319</td>\n",
       "      <td>0.170213</td>\n",
       "      <td>0.333333</td>\n",
       "    </tr>\n",
       "    <tr>\n",
       "      <th>2008</th>\n",
       "      <td>0.207317</td>\n",
       "      <td>0.201220</td>\n",
       "      <td>0.469512</td>\n",
       "    </tr>\n",
       "    <tr>\n",
       "      <th>2009</th>\n",
       "      <td>0.208589</td>\n",
       "      <td>0.208589</td>\n",
       "      <td>0.361963</td>\n",
       "    </tr>\n",
       "    <tr>\n",
       "      <th>2010</th>\n",
       "      <td>0.351515</td>\n",
       "      <td>0.181818</td>\n",
       "      <td>0.303030</td>\n",
       "    </tr>\n",
       "    <tr>\n",
       "      <th>2011</th>\n",
       "      <td>0.337423</td>\n",
       "      <td>0.165644</td>\n",
       "      <td>0.312883</td>\n",
       "    </tr>\n",
       "    <tr>\n",
       "      <th>2012</th>\n",
       "      <td>0.268293</td>\n",
       "      <td>0.201220</td>\n",
       "      <td>0.317073</td>\n",
       "    </tr>\n",
       "    <tr>\n",
       "      <th>2013</th>\n",
       "      <td>0.427711</td>\n",
       "      <td>0.126506</td>\n",
       "      <td>0.307229</td>\n",
       "    </tr>\n",
       "    <tr>\n",
       "      <th>2014</th>\n",
       "      <td>0.392638</td>\n",
       "      <td>0.128834</td>\n",
       "      <td>0.325153</td>\n",
       "    </tr>\n",
       "    <tr>\n",
       "      <th>2015</th>\n",
       "      <td>0.450000</td>\n",
       "      <td>0.170000</td>\n",
       "      <td>0.240000</td>\n",
       "    </tr>\n",
       "  </tbody>\n",
       "</table>\n",
       "</div>"
      ],
      "text/plain": [
       "Occupation  Acting, Comedy & Music  Government and Politics     Media\n",
       "Year                                                                 \n",
       "1999                      0.903614                 0.012048  0.066265\n",
       "2000                      0.739645                 0.082840  0.124260\n",
       "2001                      0.726115                 0.038217  0.197452\n",
       "2002                      0.622642                 0.069182  0.264151\n",
       "2003                      0.560241                 0.102410  0.246988\n",
       "2004                      0.384146                 0.225610  0.274390\n",
       "2005                      0.370370                 0.160494  0.333333\n",
       "2006                      0.360248                 0.192547  0.291925\n",
       "2007                      0.255319                 0.170213  0.333333\n",
       "2008                      0.207317                 0.201220  0.469512\n",
       "2009                      0.208589                 0.208589  0.361963\n",
       "2010                      0.351515                 0.181818  0.303030\n",
       "2011                      0.337423                 0.165644  0.312883\n",
       "2012                      0.268293                 0.201220  0.317073\n",
       "2013                      0.427711                 0.126506  0.307229\n",
       "2014                      0.392638                 0.128834  0.325153\n",
       "2015                      0.450000                 0.170000  0.240000"
      ]
     },
     "execution_count": 233,
     "metadata": {},
     "output_type": "execute_result"
    }
   ],
   "source": [
    "data1 = pd.crosstab(df.Year, df.Occupation, normalize = 'index')\n",
    "data1[['Acting, Comedy & Music', 'Government and Politics', 'Media']].apply(pd.to_numeric)"
   ]
  },
  {
   "cell_type": "code",
   "execution_count": 234,
   "metadata": {},
   "outputs": [],
   "source": [
    "data1 = data1.drop('Other', 1)"
   ]
  },
  {
   "cell_type": "code",
   "execution_count": 235,
   "metadata": {},
   "outputs": [
    {
     "data": {
      "text/plain": [
       "Occupation\n",
       "Acting, Comedy & Music     float64\n",
       "Government and Politics    float64\n",
       "Media                      float64\n",
       "dtype: object"
      ]
     },
     "execution_count": 235,
     "metadata": {},
     "output_type": "execute_result"
    }
   ],
   "source": [
    "data1.dtypes"
   ]
  },
  {
   "cell_type": "code",
   "execution_count": 236,
   "metadata": {},
   "outputs": [],
   "source": [
    "data1['Acting, Comedy & Music'] = data1['Acting, Comedy & Music'] * 100"
   ]
  },
  {
   "cell_type": "code",
   "execution_count": 237,
   "metadata": {},
   "outputs": [],
   "source": [
    "data1['Government and Politics'] = data1['Government and Politics'] * 100"
   ]
  },
  {
   "cell_type": "code",
   "execution_count": 238,
   "metadata": {},
   "outputs": [],
   "source": [
    "data1['Media'] = data1['Media'] * 100"
   ]
  },
  {
   "cell_type": "markdown",
   "metadata": {
    "colab_type": "text",
    "id": "Nqf9oJJDDu-d"
   },
   "source": [
    "# Part 2 — Recreate this explanatory visualization:"
   ]
  },
  {
   "cell_type": "code",
   "execution_count": 46,
   "metadata": {
    "colab": {
     "base_uri": "https://localhost:8080/",
     "height": 406
    },
    "colab_type": "code",
    "id": "scozkHQc0_eD",
    "outputId": "2d22f2d2-88d6-4a2b-d81f-09e0e9a09eb6"
   },
   "outputs": [
    {
     "data": {
      "image/png": "[encoded data removed]",
      "text/plain": [
       "<IPython.core.display.Image object>"
      ]
     },
     "metadata": {
      "image/png": {
       "width": 500
      },
      "tags": []
     },
     "output_type": "display_data"
    }
   ],
   "source": [
    "from IPython.display import display, Image\n",
    "url = 'https://fivethirtyeight.com/wp-content/uploads/2015/08/hickey-datalab-dailyshow.png'\n",
    "example = Image(url, width=500)\n",
    "display(example)"
   ]
  },
  {
   "cell_type": "markdown",
   "metadata": {
    "colab_type": "text",
    "id": "W7lw3JzAE6BJ"
   },
   "source": [
    "**Hint:** use the crosstab you calculated in part 1!\n",
    "\n",
    "**Expectations:** Your plot should include:\n",
    "- 3 lines visualizing \"occupation of guests, by year.\" The shapes of the lines should look roughly identical to 538's example. Each line should be a different color. (But you don't need to use the _same_ colors as 538.)\n",
    "- Legend or labels for the lines. (But you don't need each label positioned next to its line or colored like 538.)\n",
    "- Title in the upper left: _\"Who Got To Be On 'The Daily Show'?\"_ with more visual emphasis than the subtitle. (Bolder and/or larger font.)\n",
    "- Subtitle underneath the title: _\"Occupation of guests, by year\"_\n",
    "\n",
    "Any visual element not specifically mentioned in the expectations is an optional bonus, but it's _not_ required to pass the Sprint Challenge.\n",
    "\n",
    "\n",
    "\n",
    "\n"
   ]
  },
  {
   "cell_type": "code",
   "execution_count": 239,
   "metadata": {
    "colab": {
     "base_uri": "https://localhost:8080/",
     "height": 311
    },
    "colab_type": "code",
    "id": "E8XBAr8rz_Na",
    "outputId": "29d8205a-166b-46a1-c006-f2014c52aefd"
   },
   "outputs": [
    {
     "data": {
      "text/plain": [
       "Text(0.2, 1.0, 'Occupation of guests, by year')"
      ]
     },
     "execution_count": 239,
     "metadata": {},
     "output_type": "execute_result"
    },
    {
     "data": {
      "image/png": "[encoded data removed]",
      "text/plain": [
       "<Figure size 720x720 with 1 Axes>"
      ]
     },
     "metadata": {
      "needs_background": "light"
     },
     "output_type": "display_data"
    }
   ],
   "source": [
    "data1.plot(kind='line', stacked = False, color = ('blue', 'red', 'purple'), figsize = (10, 10), linewidth = 3.5)\n",
    "plt.xlabel('Year')\n",
    "plt.ylabel('Percent')\n",
    "plt.suptitle(\"Who Got To Be On 'The Daily Show'?\", x = 0.38, fontsize = 18, fontweight = 'bold')\n",
    "plt.title(\"Occupation of guests, by year\", x = 0.2, fontsize = 14)"
   ]
  },
  {
   "cell_type": "markdown",
   "metadata": {
    "colab_type": "text",
    "id": "LuacMjSf2ses"
   },
   "source": [
    "# Part 3 — Who were the top 10 guests on _The Daily Show_?\n",
    "\n",
    "**Make a plot** that shows their names and number of appearances.\n",
    "\n",
    "**Hint:** you can use the pandas `value_counts` method.\n",
    "\n",
    "**Expectations:** This can be a simple, quick plot: exploratory, not explanatory. \n",
    "\n",
    "If you want, you can add titles and change aesthetics, but it's _not_ required to pass the Sprint Challenge."
   ]
  },
  {
   "cell_type": "code",
   "execution_count": 240,
   "metadata": {
    "colab": {
     "base_uri": "https://localhost:8080/",
     "height": 1071
    },
    "colab_type": "code",
    "id": "tbwfBN3HsFlh",
    "outputId": "2158f213-91bc-463e-ecf5-3ae99ff19a20"
   },
   "outputs": [
    {
     "name": "stdout",
     "output_type": "stream",
     "text": [
      "Fareed Zakaria    19\n",
      "Denis Leary       17\n",
      "Brian Williams    16\n",
      "Ricky Gervais     13\n",
      "Paul Rudd         13\n",
      "Tom Brokaw        12\n",
      "Richard Lewis     10\n",
      "Reza Aslan        10\n",
      "Will Ferrell      10\n",
      "Bill O'Reilly     10\n",
      "Name: Guest, dtype: int64\n"
     ]
    }
   ],
   "source": [
    "guests = df.Guest.value_counts()\n",
    "top_ten = guests[:10]\n",
    "print(top_ten)"
   ]
  },
  {
   "cell_type": "code",
   "execution_count": 241,
   "metadata": {
    "colab": {
     "base_uri": "https://localhost:8080/",
     "height": 601
    },
    "colab_type": "code",
    "id": "4rzl0M7dyy7_",
    "outputId": "8d2ad7c4-2eb9-468e-a7cf-893d7b4dac93"
   },
   "outputs": [
    {
     "data": {
      "image/png": "[encoded data removed]",
      "text/plain": [
       "<Figure size 432x288 with 1 Axes>"
      ]
     },
     "metadata": {
      "needs_background": "light"
     },
     "output_type": "display_data"
    }
   ],
   "source": [
    "num = 10\n",
    "for num in ['guests']:\n",
    "  top_ten.plot(kind='bar', stacked = True)"
   ]
  },
  {
   "cell_type": "code",
   "execution_count": null,
   "metadata": {},
   "outputs": [],
   "source": []
  }
 ],
 "metadata": {
  "colab": {
   "collapsed_sections": [],
   "include_colab_link": true,
   "name": "DS_Unit_1_Sprint_Challenge_2.ipynb",
   "provenance": [],
   "version": "0.3.2"
  },
  "kernelspec": {
   "display_name": "Python 3",
   "language": "python",
   "name": "python3"
  },
  "language_info": {
   "codemirror_mode": {
    "name": "ipython",
    "version": 3
   },
   "file_extension": ".py",
   "mimetype": "text/x-python",
   "name": "python",
   "nbconvert_exporter": "python",
   "pygments_lexer": "ipython3",
   "version": "3.6.6"
  }
 },
 "nbformat": 4,
 "nbformat_minor": 2
}
