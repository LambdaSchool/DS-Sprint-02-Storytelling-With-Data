{
  "nbformat": 4,
  "nbformat_minor": 0,
  "metadata": {
    "colab": {
      "name": "DS_Unit_1_Sprint_Challenge_2.ipynb",
      "version": "0.3.2",
      "provenance": [],
      "collapsed_sections": [],
      "include_colab_link": true
    },
    "kernelspec": {
      "name": "python3",
      "display_name": "Python 3"
    }
  },
  "cells": [
    {
      "cell_type": "markdown",
      "metadata": {
        "id": "view-in-github",
        "colab_type": "text"
      },
      "source": [
        "<a href=\"https://colab.research.google.com/github/Rawab/DS-Sprint-02-Storytelling-With-Data/blob/master/DS_Unit_1_Sprint_Challenge_2.ipynb\" target=\"_parent\"><img src=\"https://colab.research.google.com/assets/colab-badge.svg\" alt=\"Open In Colab\"/></a>"
      ]
    },
    {
      "metadata": {
        "id": "i-n_5en3ER1o",
        "colab_type": "text"
      },
      "cell_type": "markdown",
      "source": [
        "# Data Science Unit 1 Sprint Challenge 2\n",
        "\n",
        "# Storytelling with Data\n",
        "\n",
        "In this sprint challenge you'll work with a dataset from **FiveThirtyEight's article, [Every Guest Jon Stewart Ever Had On ‘The Daily Show’](https://fivethirtyeight.com/features/every-guest-jon-stewart-ever-had-on-the-daily-show/)**!"
      ]
    },
    {
      "metadata": {
        "id": "Thm2n5FF2Fnp",
        "colab_type": "text"
      },
      "cell_type": "markdown",
      "source": [
        "# Part 0 — Run this starter code\n",
        "\n",
        "You don't need to add or change anything here. Just run this cell and it loads the data for you, into a dataframe named `df`.\n",
        "\n",
        "(You can explore the data if you want, but it's not required to pass the Sprint Challenge.)"
      ]
    },
    {
      "metadata": {
        "id": "0rTHgzJIuRS7",
        "colab_type": "code",
        "colab": {}
      },
      "cell_type": "code",
      "source": [
        "%matplotlib inline\n",
        "import matplotlib.pyplot as plt\n",
        "import numpy as np\n",
        "import pandas as pd\n",
        "\n",
        "df = pd.read_csv('https://raw.githubusercontent.com/fivethirtyeight/data/master/daily-show-guests/daily_show_guests.csv')\n",
        "df.rename(columns={'YEAR': 'Year', 'Raw_Guest_List': 'Guest'}, inplace=True)\n",
        "\n",
        "def get_occupation(group):\n",
        "    if group in ['Acting', 'Comedy', 'Musician']:\n",
        "        return 'Acting, Comedy & Music'\n",
        "    elif group in ['Media', 'media']:\n",
        "        return 'Media'\n",
        "    elif group in ['Government', 'Politician', 'Political Aide']:\n",
        "        return 'Government and Politics'\n",
        "    else:\n",
        "        return 'Other'\n",
        "      \n",
        "df['Occupation'] = df['Group'].apply(get_occupation)"
      ],
      "execution_count": 0,
      "outputs": []
    },
    {
      "metadata": {
        "id": "S74e57UMR33O",
        "colab_type": "code",
        "colab": {
          "base_uri": "https://localhost:8080/",
          "height": 204
        },
        "outputId": "f8163878-34e4-4fba-a633-035d8bd39319"
      },
      "cell_type": "code",
      "source": [
        "df.tail()"
      ],
      "execution_count": 172,
      "outputs": [
        {
          "output_type": "execute_result",
          "data": {
            "text/html": [
              "<div>\n",
              "<style scoped>\n",
              "    .dataframe tbody tr th:only-of-type {\n",
              "        vertical-align: middle;\n",
              "    }\n",
              "\n",
              "    .dataframe tbody tr th {\n",
              "        vertical-align: top;\n",
              "    }\n",
              "\n",
              "    .dataframe thead th {\n",
              "        text-align: right;\n",
              "    }\n",
              "</style>\n",
              "<table border=\"1\" class=\"dataframe\">\n",
              "  <thead>\n",
              "    <tr style=\"text-align: right;\">\n",
              "      <th></th>\n",
              "      <th>Year</th>\n",
              "      <th>GoogleKnowlege_Occupation</th>\n",
              "      <th>Show</th>\n",
              "      <th>Group</th>\n",
              "      <th>Guest</th>\n",
              "      <th>Occupation</th>\n",
              "    </tr>\n",
              "  </thead>\n",
              "  <tbody>\n",
              "    <tr>\n",
              "      <th>2688</th>\n",
              "      <td>2015</td>\n",
              "      <td>biographer</td>\n",
              "      <td>7/29/15</td>\n",
              "      <td>Media</td>\n",
              "      <td>Doris Kearns Goodwin</td>\n",
              "      <td>Media</td>\n",
              "    </tr>\n",
              "    <tr>\n",
              "      <th>2689</th>\n",
              "      <td>2015</td>\n",
              "      <td>director</td>\n",
              "      <td>7/30/15</td>\n",
              "      <td>Media</td>\n",
              "      <td>J. J. Abrams</td>\n",
              "      <td>Media</td>\n",
              "    </tr>\n",
              "    <tr>\n",
              "      <th>2690</th>\n",
              "      <td>2015</td>\n",
              "      <td>stand-up comedian</td>\n",
              "      <td>8/3/15</td>\n",
              "      <td>Comedy</td>\n",
              "      <td>Amy Schumer</td>\n",
              "      <td>Acting, Comedy &amp; Music</td>\n",
              "    </tr>\n",
              "    <tr>\n",
              "      <th>2691</th>\n",
              "      <td>2015</td>\n",
              "      <td>actor</td>\n",
              "      <td>8/4/15</td>\n",
              "      <td>Acting</td>\n",
              "      <td>Denis Leary</td>\n",
              "      <td>Acting, Comedy &amp; Music</td>\n",
              "    </tr>\n",
              "    <tr>\n",
              "      <th>2692</th>\n",
              "      <td>2015</td>\n",
              "      <td>comedian</td>\n",
              "      <td>8/5/15</td>\n",
              "      <td>Comedy</td>\n",
              "      <td>Louis C.K.</td>\n",
              "      <td>Acting, Comedy &amp; Music</td>\n",
              "    </tr>\n",
              "  </tbody>\n",
              "</table>\n",
              "</div>"
            ],
            "text/plain": [
              "      Year GoogleKnowlege_Occupation     Show   Group                 Guest  \\\n",
              "2688  2015                biographer  7/29/15   Media  Doris Kearns Goodwin   \n",
              "2689  2015                  director  7/30/15   Media          J. J. Abrams   \n",
              "2690  2015         stand-up comedian   8/3/15  Comedy           Amy Schumer   \n",
              "2691  2015                     actor   8/4/15  Acting           Denis Leary   \n",
              "2692  2015                  comedian   8/5/15  Comedy            Louis C.K.   \n",
              "\n",
              "                  Occupation  \n",
              "2688                   Media  \n",
              "2689                   Media  \n",
              "2690  Acting, Comedy & Music  \n",
              "2691  Acting, Comedy & Music  \n",
              "2692  Acting, Comedy & Music  "
            ]
          },
          "metadata": {
            "tags": []
          },
          "execution_count": 172
        }
      ]
    },
    {
      "metadata": {
        "id": "OS0nW1vz1itX",
        "colab_type": "text"
      },
      "cell_type": "markdown",
      "source": [
        "# Part 1 — What's the breakdown of guests’ occupations per year?\n",
        "\n",
        "For example, in 1999, what percentage of guests were actors, comedians, or musicians? What percentage were in the media? What percentage were in politics? What percentage were from another occupation?\n",
        "\n",
        "Then, what about in 2000? In 2001? And so on, up through 2015.\n",
        "\n",
        "So, **for each year of _The Daily Show_, calculate the percentage of guests from each occupation:**\n",
        "- Acting, Comedy & Music\n",
        "- Government and Politics\n",
        "- Media\n",
        "- Other\n",
        "\n",
        "#### Hints:\n",
        "1. Use pandas to make a **crosstab** of **`Year`** & **`Occupation`**. ([This documentation](http://pandas.pydata.org/pandas-docs/stable/reshaping.html#cross-tabulations) has examples and explanation.)\n",
        "2. To get percentages instead of counts, use crosstab's **`normalize`** parameter to normalize over each _row._ ([This documentation](http://pandas.pydata.org/pandas-docs/stable/generated/pandas.crosstab.html) describes the parameter and its options.)\n",
        "3. You'll know you've calculated the crosstab correctly when the percentage of \"Acting, Comedy & Music\" guests is 90.36% in 1999, and 45% in 2015."
      ]
    },
    {
      "metadata": {
        "id": "sRMc0H_5z6ff",
        "colab_type": "code",
        "colab": {
          "base_uri": "https://localhost:8080/",
          "height": 204
        },
        "outputId": "86f5a5ab-75ef-44c4-dcb5-9264822f35fa"
      },
      "cell_type": "code",
      "source": [
        "split = pd.crosstab(df['Year'], df['Occupation'], normalize='index') # graphing\n",
        "\n",
        "pd.crosstab(df['Occupation'], df['Year'], normalize='columns')"
      ],
      "execution_count": 64,
      "outputs": [
        {
          "output_type": "execute_result",
          "data": {
            "text/html": [
              "<div>\n",
              "<style scoped>\n",
              "    .dataframe tbody tr th:only-of-type {\n",
              "        vertical-align: middle;\n",
              "    }\n",
              "\n",
              "    .dataframe tbody tr th {\n",
              "        vertical-align: top;\n",
              "    }\n",
              "\n",
              "    .dataframe thead th {\n",
              "        text-align: right;\n",
              "    }\n",
              "</style>\n",
              "<table border=\"1\" class=\"dataframe\">\n",
              "  <thead>\n",
              "    <tr style=\"text-align: right;\">\n",
              "      <th>Year</th>\n",
              "      <th>1999</th>\n",
              "      <th>2000</th>\n",
              "      <th>2001</th>\n",
              "      <th>2002</th>\n",
              "      <th>2003</th>\n",
              "      <th>2004</th>\n",
              "      <th>2005</th>\n",
              "      <th>2006</th>\n",
              "      <th>2007</th>\n",
              "      <th>2008</th>\n",
              "      <th>2009</th>\n",
              "      <th>2010</th>\n",
              "      <th>2011</th>\n",
              "      <th>2012</th>\n",
              "      <th>2013</th>\n",
              "      <th>2014</th>\n",
              "      <th>2015</th>\n",
              "    </tr>\n",
              "    <tr>\n",
              "      <th>Occupation</th>\n",
              "      <th></th>\n",
              "      <th></th>\n",
              "      <th></th>\n",
              "      <th></th>\n",
              "      <th></th>\n",
              "      <th></th>\n",
              "      <th></th>\n",
              "      <th></th>\n",
              "      <th></th>\n",
              "      <th></th>\n",
              "      <th></th>\n",
              "      <th></th>\n",
              "      <th></th>\n",
              "      <th></th>\n",
              "      <th></th>\n",
              "      <th></th>\n",
              "      <th></th>\n",
              "    </tr>\n",
              "  </thead>\n",
              "  <tbody>\n",
              "    <tr>\n",
              "      <th>Acting, Comedy &amp; Music</th>\n",
              "      <td>0.903614</td>\n",
              "      <td>0.739645</td>\n",
              "      <td>0.726115</td>\n",
              "      <td>0.622642</td>\n",
              "      <td>0.560241</td>\n",
              "      <td>0.384146</td>\n",
              "      <td>0.370370</td>\n",
              "      <td>0.360248</td>\n",
              "      <td>0.255319</td>\n",
              "      <td>0.207317</td>\n",
              "      <td>0.208589</td>\n",
              "      <td>0.351515</td>\n",
              "      <td>0.337423</td>\n",
              "      <td>0.268293</td>\n",
              "      <td>0.427711</td>\n",
              "      <td>0.392638</td>\n",
              "      <td>0.45</td>\n",
              "    </tr>\n",
              "    <tr>\n",
              "      <th>Government and Politics</th>\n",
              "      <td>0.012048</td>\n",
              "      <td>0.082840</td>\n",
              "      <td>0.038217</td>\n",
              "      <td>0.069182</td>\n",
              "      <td>0.102410</td>\n",
              "      <td>0.225610</td>\n",
              "      <td>0.160494</td>\n",
              "      <td>0.192547</td>\n",
              "      <td>0.170213</td>\n",
              "      <td>0.201220</td>\n",
              "      <td>0.208589</td>\n",
              "      <td>0.181818</td>\n",
              "      <td>0.165644</td>\n",
              "      <td>0.201220</td>\n",
              "      <td>0.126506</td>\n",
              "      <td>0.128834</td>\n",
              "      <td>0.17</td>\n",
              "    </tr>\n",
              "    <tr>\n",
              "      <th>Media</th>\n",
              "      <td>0.066265</td>\n",
              "      <td>0.124260</td>\n",
              "      <td>0.197452</td>\n",
              "      <td>0.264151</td>\n",
              "      <td>0.246988</td>\n",
              "      <td>0.274390</td>\n",
              "      <td>0.333333</td>\n",
              "      <td>0.291925</td>\n",
              "      <td>0.333333</td>\n",
              "      <td>0.469512</td>\n",
              "      <td>0.361963</td>\n",
              "      <td>0.303030</td>\n",
              "      <td>0.312883</td>\n",
              "      <td>0.317073</td>\n",
              "      <td>0.307229</td>\n",
              "      <td>0.325153</td>\n",
              "      <td>0.24</td>\n",
              "    </tr>\n",
              "    <tr>\n",
              "      <th>Other</th>\n",
              "      <td>0.018072</td>\n",
              "      <td>0.053254</td>\n",
              "      <td>0.038217</td>\n",
              "      <td>0.044025</td>\n",
              "      <td>0.090361</td>\n",
              "      <td>0.115854</td>\n",
              "      <td>0.135802</td>\n",
              "      <td>0.155280</td>\n",
              "      <td>0.241135</td>\n",
              "      <td>0.121951</td>\n",
              "      <td>0.220859</td>\n",
              "      <td>0.163636</td>\n",
              "      <td>0.184049</td>\n",
              "      <td>0.213415</td>\n",
              "      <td>0.138554</td>\n",
              "      <td>0.153374</td>\n",
              "      <td>0.14</td>\n",
              "    </tr>\n",
              "  </tbody>\n",
              "</table>\n",
              "</div>"
            ],
            "text/plain": [
              "Year                         1999      2000      2001      2002      2003  \\\n",
              "Occupation                                                                  \n",
              "Acting, Comedy & Music   0.903614  0.739645  0.726115  0.622642  0.560241   \n",
              "Government and Politics  0.012048  0.082840  0.038217  0.069182  0.102410   \n",
              "Media                    0.066265  0.124260  0.197452  0.264151  0.246988   \n",
              "Other                    0.018072  0.053254  0.038217  0.044025  0.090361   \n",
              "\n",
              "Year                         2004      2005      2006      2007      2008  \\\n",
              "Occupation                                                                  \n",
              "Acting, Comedy & Music   0.384146  0.370370  0.360248  0.255319  0.207317   \n",
              "Government and Politics  0.225610  0.160494  0.192547  0.170213  0.201220   \n",
              "Media                    0.274390  0.333333  0.291925  0.333333  0.469512   \n",
              "Other                    0.115854  0.135802  0.155280  0.241135  0.121951   \n",
              "\n",
              "Year                         2009      2010      2011      2012      2013  \\\n",
              "Occupation                                                                  \n",
              "Acting, Comedy & Music   0.208589  0.351515  0.337423  0.268293  0.427711   \n",
              "Government and Politics  0.208589  0.181818  0.165644  0.201220  0.126506   \n",
              "Media                    0.361963  0.303030  0.312883  0.317073  0.307229   \n",
              "Other                    0.220859  0.163636  0.184049  0.213415  0.138554   \n",
              "\n",
              "Year                         2014  2015  \n",
              "Occupation                               \n",
              "Acting, Comedy & Music   0.392638  0.45  \n",
              "Government and Politics  0.128834  0.17  \n",
              "Media                    0.325153  0.24  \n",
              "Other                    0.153374  0.14  "
            ]
          },
          "metadata": {
            "tags": []
          },
          "execution_count": 64
        }
      ]
    },
    {
      "metadata": {
        "id": "Nqf9oJJDDu-d",
        "colab_type": "text"
      },
      "cell_type": "markdown",
      "source": [
        "# Part 2 — Recreate this explanatory visualization:"
      ]
    },
    {
      "metadata": {
        "id": "scozkHQc0_eD",
        "colab_type": "code",
        "outputId": "67431831-ddf9-4dcc-fed3-5513de30b936",
        "colab": {
          "base_uri": "https://localhost:8080/",
          "height": 406
        }
      },
      "cell_type": "code",
      "source": [
        "from IPython.display import display, Image\n",
        "url = 'https://fivethirtyeight.com/wp-content/uploads/2015/08/hickey-datalab-dailyshow.png'\n",
        "example = Image(url, width=500)\n",
        "display(example)"
      ],
      "execution_count": 55,
      "outputs": [
        {
          "output_type": "display_data",
          "data": {
            "image/png": "[encoded data removed]",
            "text/plain": [
              "<IPython.core.display.Image object>"
            ]
          },
          "metadata": {
            "tags": [],
            "image/png": {
              "width": 500
            }
          }
        }
      ]
    },
    {
      "metadata": {
        "id": "W7lw3JzAE6BJ",
        "colab_type": "text"
      },
      "cell_type": "markdown",
      "source": [
        "**Hint:** use the crosstab you calculated in part 1!\n",
        "\n",
        "**Expectations:** Your plot should include:\n",
        "- 3 lines visualizing \"occupation of guests, by year.\" The shapes of the lines should look roughly identical to 538's example. Each line should be a different color. (But you don't need to use the _same_ colors as 538.)\n",
        "- Legend or labels for the lines. (But you don't need each label positioned next to its line or colored like 538.)\n",
        "- Title in the upper left: _\"Who Got To Be On 'The Daily Show'?\"_ with more visual emphasis than the subtitle. (Bolder and/or larger font.)\n",
        "- Subtitle underneath the title: _\"Occupation of guests, by year\"_\n",
        "\n",
        "Any visual element not specifically mentioned in the expectations is an optional bonus, but it's _not_ required to pass the Sprint Challenge.\n",
        "\n",
        "\n",
        "\n",
        "\n"
      ]
    },
    {
      "metadata": {
        "id": "E8XBAr8rz_Na",
        "colab_type": "code",
        "colab": {}
      },
      "cell_type": "code",
      "source": [
        "act_com_mu = [split['Acting, Comedy & Music'],'Acting, Comedy & Music', 'blue']\n",
        "gov_pol = [split['Government and Politics'], 'Government and Politics', 'red']\n",
        "media = [split['Media'], 'Media', 'purple']\n",
        "\n",
        "occupations = [act_com_mu, gov_pol, media]"
      ],
      "execution_count": 0,
      "outputs": []
    },
    {
      "metadata": {
        "id": "Xl4T48JBX75v",
        "colab_type": "code",
        "colab": {
          "base_uri": "https://localhost:8080/",
          "height": 318
        },
        "outputId": "15eec19a-a488-409a-cf10-86cdcabe2d75"
      },
      "cell_type": "code",
      "source": [
        "for i in occupations:\n",
        "  a = i[0].plot(color = i[2], ylim=(0,1.07))\n",
        "\n",
        "a.patch.set_facecolor('.9')\n",
        "plt.yticks(np.arange(0, 1.07, .25))\n",
        "a.set_xticklabels(['', 2000, '', \"'04\", '', \"'08\", '', \"'12\"])\n",
        "a.set_yticklabels([0, 25, 50, 75, \"100%\"])\n",
        "plt.legend(loc='upper right')\n",
        "plt.title(\"Who Got To Be On 'The Daily Show'?\",\n",
        "          x=.28, y = 1.1, fontsize=15, fontweight='extra bold')\n",
        "plt.suptitle('Occupation of guests, by year',\n",
        "            x=.25, y=.95, fontsize=14)\n",
        "plt.show();"
      ],
      "execution_count": 160,
      "outputs": [
        {
          "output_type": "display_data",
          "data": {
            "image/png": "[encoded data removed]",
            "text/plain": [
              "<matplotlib.figure.Figure at 0x7f9a47b9f160>"
            ]
          },
          "metadata": {
            "tags": []
          }
        }
      ]
    },
    {
      "metadata": {
        "id": "LuacMjSf2ses",
        "colab_type": "text"
      },
      "cell_type": "markdown",
      "source": [
        "# Part 3 — Who were the top 10 guests on _The Daily Show_?\n",
        "\n",
        "**Make a plot** that shows their names and number of appearances.\n",
        "\n",
        "**Hint:** you can use the pandas `value_counts` method.\n",
        "\n",
        "**Expectations:** This can be a simple, quick plot: exploratory, not explanatory. \n",
        "\n",
        "If you want, you can add titles and change aesthetics, but it's _not_ required to pass the Sprint Challenge."
      ]
    },
    {
      "metadata": {
        "id": "tbwfBN3HsFlh",
        "colab_type": "code",
        "colab": {}
      },
      "cell_type": "code",
      "source": [
        "guest_freq = df['Guest'].value_counts()\n",
        "top10  = guest_freq[guest_freq>9]"
      ],
      "execution_count": 0,
      "outputs": []
    },
    {
      "metadata": {
        "id": "Scs3LRo4wxCF",
        "colab_type": "code",
        "colab": {
          "base_uri": "https://localhost:8080/",
          "height": 265
        },
        "outputId": "b9ca7848-084a-4663-85be-3125d14cc8c6"
      },
      "cell_type": "code",
      "source": [
        "plt.barh(range(len(top10.keys())), top10);\n",
        "plt.yticks(range(len(top10.keys())), top10.keys())\n",
        "plt.xticks(np.arange(0, 21, 5));"
      ],
      "execution_count": 270,
      "outputs": [
        {
          "output_type": "display_data",
          "data": {
            "image/png": "[encoded data removed]",
            "text/plain": [
              "<matplotlib.figure.Figure at 0x7f9a4963c390>"
            ]
          },
          "metadata": {
            "tags": []
          }
        }
      ]
    }
  ]
}