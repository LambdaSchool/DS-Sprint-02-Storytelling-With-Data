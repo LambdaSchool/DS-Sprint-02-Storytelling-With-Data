{
  "nbformat": 4,
  "nbformat_minor": 0,
  "metadata": {
    "colab": {
      "name": "DS_Unit_1_Sprint_Challenge_2.ipynb",
      "version": "0.3.2",
      "provenance": [],
      "collapsed_sections": []
    },
    "kernelspec": {
      "name": "python3",
      "display_name": "Python 3"
    }
  },
  "cells": [
    {
      "metadata": {
        "id": "i-n_5en3ER1o",
        "colab_type": "text"
      },
      "cell_type": "markdown",
      "source": [
        "# Data Science Unit 1 Sprint Challenge 2\n",
        "\n",
        "# Storytelling with Data\n",
        "\n",
        "In this sprint challenge you'll work with a dataset from **FiveThirtyEight's article, [Every Guest Jon Stewart Ever Had On ‘The Daily Show’](https://fivethirtyeight.com/features/every-guest-jon-stewart-ever-had-on-the-daily-show/)**!"
      ]
    },
    {
      "metadata": {
        "id": "Thm2n5FF2Fnp",
        "colab_type": "text"
      },
      "cell_type": "markdown",
      "source": [
        "# Part 0 — Run this starter code\n",
        "\n",
        "You don't need to add or change anything here. Just run this cell and it loads the data for you, into a dataframe named `df`.\n",
        "\n",
        "(You can explore the data if you want, but it's not required to pass the Sprint Challenge.)"
      ]
    },
    {
      "metadata": {
        "id": "0rTHgzJIuRS7",
        "colab_type": "code",
        "colab": {}
      },
      "cell_type": "code",
      "source": [
        "%matplotlib inline\n",
        "import matplotlib.pyplot as plt\n",
        "import numpy as np\n",
        "import pandas as pd\n",
        "\n",
        "df = pd.read_csv('https://raw.githubusercontent.com/fivethirtyeight/data/master/daily-show-guests/daily_show_guests.csv')\n",
        "df.rename(columns={'YEAR': 'Year', 'Raw_Guest_List': 'Guest'}, inplace=True)\n",
        "\n",
        "def get_occupation(group):\n",
        "    if group in ['Acting', 'Comedy', 'Musician']:\n",
        "        return 'Acting, Comedy & Music'\n",
        "    elif group in ['Media', 'media']:\n",
        "        return 'Media'\n",
        "    elif group in ['Government', 'Politician', 'Political Aide']:\n",
        "        return 'Government and Politics'\n",
        "    else:\n",
        "        return 'Other'\n",
        "      \n",
        "df['Occupation'] = df['Group'].apply(get_occupation)"
      ],
      "execution_count": 0,
      "outputs": []
    },
    {
      "metadata": {
        "id": "Ehb6SxzgTwbL",
        "colab_type": "code",
        "outputId": "11ae3c4d-4905-4328-9e8f-0f01101e6fe9",
        "colab": {
          "base_uri": "https://localhost:8080/",
          "height": 1548
        }
      },
      "cell_type": "code",
      "source": [
        "df.head(50)"
      ],
      "execution_count": 181,
      "outputs": [
        {
          "output_type": "execute_result",
          "data": {
            "text/html": [
              "<div>\n",
              "<style scoped>\n",
              "    .dataframe tbody tr th:only-of-type {\n",
              "        vertical-align: middle;\n",
              "    }\n",
              "\n",
              "    .dataframe tbody tr th {\n",
              "        vertical-align: top;\n",
              "    }\n",
              "\n",
              "    .dataframe thead th {\n",
              "        text-align: right;\n",
              "    }\n",
              "</style>\n",
              "<table border=\"1\" class=\"dataframe\">\n",
              "  <thead>\n",
              "    <tr style=\"text-align: right;\">\n",
              "      <th></th>\n",
              "      <th>Year</th>\n",
              "      <th>GoogleKnowlege_Occupation</th>\n",
              "      <th>Show</th>\n",
              "      <th>Group</th>\n",
              "      <th>Guest</th>\n",
              "      <th>Occupation</th>\n",
              "    </tr>\n",
              "  </thead>\n",
              "  <tbody>\n",
              "    <tr>\n",
              "      <th>0</th>\n",
              "      <td>1999</td>\n",
              "      <td>actor</td>\n",
              "      <td>1/11/99</td>\n",
              "      <td>Acting</td>\n",
              "      <td>Michael J. Fox</td>\n",
              "      <td>Acting, Comedy &amp; Music</td>\n",
              "    </tr>\n",
              "    <tr>\n",
              "      <th>1</th>\n",
              "      <td>1999</td>\n",
              "      <td>Comedian</td>\n",
              "      <td>1/12/99</td>\n",
              "      <td>Comedy</td>\n",
              "      <td>Sandra Bernhard</td>\n",
              "      <td>Acting, Comedy &amp; Music</td>\n",
              "    </tr>\n",
              "    <tr>\n",
              "      <th>2</th>\n",
              "      <td>1999</td>\n",
              "      <td>television actress</td>\n",
              "      <td>1/13/99</td>\n",
              "      <td>Acting</td>\n",
              "      <td>Tracey Ullman</td>\n",
              "      <td>Acting, Comedy &amp; Music</td>\n",
              "    </tr>\n",
              "    <tr>\n",
              "      <th>3</th>\n",
              "      <td>1999</td>\n",
              "      <td>film actress</td>\n",
              "      <td>1/14/99</td>\n",
              "      <td>Acting</td>\n",
              "      <td>Gillian Anderson</td>\n",
              "      <td>Acting, Comedy &amp; Music</td>\n",
              "    </tr>\n",
              "    <tr>\n",
              "      <th>4</th>\n",
              "      <td>1999</td>\n",
              "      <td>actor</td>\n",
              "      <td>1/18/99</td>\n",
              "      <td>Acting</td>\n",
              "      <td>David Alan Grier</td>\n",
              "      <td>Acting, Comedy &amp; Music</td>\n",
              "    </tr>\n",
              "    <tr>\n",
              "      <th>5</th>\n",
              "      <td>1999</td>\n",
              "      <td>actor</td>\n",
              "      <td>1/19/99</td>\n",
              "      <td>Acting</td>\n",
              "      <td>William Baldwin</td>\n",
              "      <td>Acting, Comedy &amp; Music</td>\n",
              "    </tr>\n",
              "    <tr>\n",
              "      <th>6</th>\n",
              "      <td>1999</td>\n",
              "      <td>Singer-lyricist</td>\n",
              "      <td>1/20/99</td>\n",
              "      <td>Musician</td>\n",
              "      <td>Michael Stipe</td>\n",
              "      <td>Acting, Comedy &amp; Music</td>\n",
              "    </tr>\n",
              "    <tr>\n",
              "      <th>7</th>\n",
              "      <td>1999</td>\n",
              "      <td>model</td>\n",
              "      <td>1/21/99</td>\n",
              "      <td>Media</td>\n",
              "      <td>Carmen Electra</td>\n",
              "      <td>Media</td>\n",
              "    </tr>\n",
              "    <tr>\n",
              "      <th>8</th>\n",
              "      <td>1999</td>\n",
              "      <td>actor</td>\n",
              "      <td>1/25/99</td>\n",
              "      <td>Acting</td>\n",
              "      <td>Matthew Lillard</td>\n",
              "      <td>Acting, Comedy &amp; Music</td>\n",
              "    </tr>\n",
              "    <tr>\n",
              "      <th>9</th>\n",
              "      <td>1999</td>\n",
              "      <td>stand-up comedian</td>\n",
              "      <td>1/26/99</td>\n",
              "      <td>Comedy</td>\n",
              "      <td>David Cross</td>\n",
              "      <td>Acting, Comedy &amp; Music</td>\n",
              "    </tr>\n",
              "    <tr>\n",
              "      <th>10</th>\n",
              "      <td>1999</td>\n",
              "      <td>actress</td>\n",
              "      <td>1/27/99</td>\n",
              "      <td>Acting</td>\n",
              "      <td>Yasmine Bleeth</td>\n",
              "      <td>Acting, Comedy &amp; Music</td>\n",
              "    </tr>\n",
              "    <tr>\n",
              "      <th>11</th>\n",
              "      <td>1999</td>\n",
              "      <td>actor</td>\n",
              "      <td>1/28/99</td>\n",
              "      <td>Acting</td>\n",
              "      <td>D. L. Hughley</td>\n",
              "      <td>Acting, Comedy &amp; Music</td>\n",
              "    </tr>\n",
              "    <tr>\n",
              "      <th>12</th>\n",
              "      <td>1999</td>\n",
              "      <td>television actress</td>\n",
              "      <td>10/18/99</td>\n",
              "      <td>Acting</td>\n",
              "      <td>Rebecca Gayheart</td>\n",
              "      <td>Acting, Comedy &amp; Music</td>\n",
              "    </tr>\n",
              "    <tr>\n",
              "      <th>13</th>\n",
              "      <td>1999</td>\n",
              "      <td>Comedian</td>\n",
              "      <td>10/19/99</td>\n",
              "      <td>Comedy</td>\n",
              "      <td>Steven Wright</td>\n",
              "      <td>Acting, Comedy &amp; Music</td>\n",
              "    </tr>\n",
              "    <tr>\n",
              "      <th>14</th>\n",
              "      <td>1999</td>\n",
              "      <td>actress</td>\n",
              "      <td>10/20/99</td>\n",
              "      <td>Acting</td>\n",
              "      <td>Amy Brenneman</td>\n",
              "      <td>Acting, Comedy &amp; Music</td>\n",
              "    </tr>\n",
              "    <tr>\n",
              "      <th>15</th>\n",
              "      <td>1999</td>\n",
              "      <td>actress</td>\n",
              "      <td>10/21/99</td>\n",
              "      <td>Acting</td>\n",
              "      <td>Melissa Gilbert</td>\n",
              "      <td>Acting, Comedy &amp; Music</td>\n",
              "    </tr>\n",
              "    <tr>\n",
              "      <th>16</th>\n",
              "      <td>1999</td>\n",
              "      <td>actress</td>\n",
              "      <td>10/25/99</td>\n",
              "      <td>Acting</td>\n",
              "      <td>Cathy Moriarty</td>\n",
              "      <td>Acting, Comedy &amp; Music</td>\n",
              "    </tr>\n",
              "    <tr>\n",
              "      <th>17</th>\n",
              "      <td>1999</td>\n",
              "      <td>comedian</td>\n",
              "      <td>10/26/99</td>\n",
              "      <td>Comedy</td>\n",
              "      <td>Louie Anderson</td>\n",
              "      <td>Acting, Comedy &amp; Music</td>\n",
              "    </tr>\n",
              "    <tr>\n",
              "      <th>18</th>\n",
              "      <td>1999</td>\n",
              "      <td>actress</td>\n",
              "      <td>10/27/99</td>\n",
              "      <td>Acting</td>\n",
              "      <td>Sarah Michelle Gellar</td>\n",
              "      <td>Acting, Comedy &amp; Music</td>\n",
              "    </tr>\n",
              "    <tr>\n",
              "      <th>19</th>\n",
              "      <td>1999</td>\n",
              "      <td>Singer-songwriter</td>\n",
              "      <td>10/28/99</td>\n",
              "      <td>Musician</td>\n",
              "      <td>Melanie C</td>\n",
              "      <td>Acting, Comedy &amp; Music</td>\n",
              "    </tr>\n",
              "    <tr>\n",
              "      <th>20</th>\n",
              "      <td>1999</td>\n",
              "      <td>actor</td>\n",
              "      <td>10/4/99</td>\n",
              "      <td>Acting</td>\n",
              "      <td>Greg Proops</td>\n",
              "      <td>Acting, Comedy &amp; Music</td>\n",
              "    </tr>\n",
              "    <tr>\n",
              "      <th>21</th>\n",
              "      <td>1999</td>\n",
              "      <td>television personality</td>\n",
              "      <td>10/5/99</td>\n",
              "      <td>Media</td>\n",
              "      <td>Maury Povich</td>\n",
              "      <td>Media</td>\n",
              "    </tr>\n",
              "    <tr>\n",
              "      <th>22</th>\n",
              "      <td>1999</td>\n",
              "      <td>actress</td>\n",
              "      <td>10/6/99</td>\n",
              "      <td>Acting</td>\n",
              "      <td>Brooke Shields</td>\n",
              "      <td>Acting, Comedy &amp; Music</td>\n",
              "    </tr>\n",
              "    <tr>\n",
              "      <th>23</th>\n",
              "      <td>1999</td>\n",
              "      <td>Comic</td>\n",
              "      <td>10/7/99</td>\n",
              "      <td>Comedy</td>\n",
              "      <td>Molly Shannon</td>\n",
              "      <td>Acting, Comedy &amp; Music</td>\n",
              "    </tr>\n",
              "    <tr>\n",
              "      <th>24</th>\n",
              "      <td>1999</td>\n",
              "      <td>actor</td>\n",
              "      <td>11/1/99</td>\n",
              "      <td>Acting</td>\n",
              "      <td>Chris O'Donnell</td>\n",
              "      <td>Acting, Comedy &amp; Music</td>\n",
              "    </tr>\n",
              "    <tr>\n",
              "      <th>25</th>\n",
              "      <td>1999</td>\n",
              "      <td>actress</td>\n",
              "      <td>11/15/99</td>\n",
              "      <td>Acting</td>\n",
              "      <td>Christina Ricci</td>\n",
              "      <td>Acting, Comedy &amp; Music</td>\n",
              "    </tr>\n",
              "    <tr>\n",
              "      <th>26</th>\n",
              "      <td>1999</td>\n",
              "      <td>Singer-songwriter</td>\n",
              "      <td>11/16/99</td>\n",
              "      <td>Musician</td>\n",
              "      <td>Tori Amos</td>\n",
              "      <td>Acting, Comedy &amp; Music</td>\n",
              "    </tr>\n",
              "    <tr>\n",
              "      <th>27</th>\n",
              "      <td>1999</td>\n",
              "      <td>actress</td>\n",
              "      <td>11/17/99</td>\n",
              "      <td>Acting</td>\n",
              "      <td>Yasmine Bleeth</td>\n",
              "      <td>Acting, Comedy &amp; Music</td>\n",
              "    </tr>\n",
              "    <tr>\n",
              "      <th>28</th>\n",
              "      <td>1999</td>\n",
              "      <td>comedian</td>\n",
              "      <td>11/18/99</td>\n",
              "      <td>Comedy</td>\n",
              "      <td>Bill Maher</td>\n",
              "      <td>Acting, Comedy &amp; Music</td>\n",
              "    </tr>\n",
              "    <tr>\n",
              "      <th>29</th>\n",
              "      <td>1999</td>\n",
              "      <td>actress</td>\n",
              "      <td>11/2/99</td>\n",
              "      <td>Acting</td>\n",
              "      <td>Jennifer Love Hewitt</td>\n",
              "      <td>Acting, Comedy &amp; Music</td>\n",
              "    </tr>\n",
              "    <tr>\n",
              "      <th>30</th>\n",
              "      <td>1999</td>\n",
              "      <td>rock band</td>\n",
              "      <td>11/29/99</td>\n",
              "      <td>Musician</td>\n",
              "      <td>Goo Goo Dolls</td>\n",
              "      <td>Acting, Comedy &amp; Music</td>\n",
              "    </tr>\n",
              "    <tr>\n",
              "      <th>31</th>\n",
              "      <td>1999</td>\n",
              "      <td>musician</td>\n",
              "      <td>11/3/99</td>\n",
              "      <td>Musician</td>\n",
              "      <td>Dave Grohl</td>\n",
              "      <td>Acting, Comedy &amp; Music</td>\n",
              "    </tr>\n",
              "    <tr>\n",
              "      <th>32</th>\n",
              "      <td>1999</td>\n",
              "      <td>Film actor</td>\n",
              "      <td>11/30/99</td>\n",
              "      <td>Acting</td>\n",
              "      <td>Stephen Rea</td>\n",
              "      <td>Acting, Comedy &amp; Music</td>\n",
              "    </tr>\n",
              "    <tr>\n",
              "      <th>33</th>\n",
              "      <td>1999</td>\n",
              "      <td>Model</td>\n",
              "      <td>11/4/99</td>\n",
              "      <td>Media</td>\n",
              "      <td>Roshumba Williams</td>\n",
              "      <td>Media</td>\n",
              "    </tr>\n",
              "    <tr>\n",
              "      <th>34</th>\n",
              "      <td>1999</td>\n",
              "      <td>television actress</td>\n",
              "      <td>11/8/99</td>\n",
              "      <td>Acting</td>\n",
              "      <td>Kellie Martin</td>\n",
              "      <td>Acting, Comedy &amp; Music</td>\n",
              "    </tr>\n",
              "    <tr>\n",
              "      <th>35</th>\n",
              "      <td>1999</td>\n",
              "      <td>actress</td>\n",
              "      <td>11/9/99</td>\n",
              "      <td>Acting</td>\n",
              "      <td>Kathy Griffin</td>\n",
              "      <td>Acting, Comedy &amp; Music</td>\n",
              "    </tr>\n",
              "    <tr>\n",
              "      <th>36</th>\n",
              "      <td>1999</td>\n",
              "      <td>actress</td>\n",
              "      <td>12/1/99</td>\n",
              "      <td>Acting</td>\n",
              "      <td>Laura San Giacomo</td>\n",
              "      <td>Acting, Comedy &amp; Music</td>\n",
              "    </tr>\n",
              "    <tr>\n",
              "      <th>37</th>\n",
              "      <td>1999</td>\n",
              "      <td>journalist</td>\n",
              "      <td>12/13/99</td>\n",
              "      <td>Media</td>\n",
              "      <td>Joan Lunden</td>\n",
              "      <td>Media</td>\n",
              "    </tr>\n",
              "    <tr>\n",
              "      <th>38</th>\n",
              "      <td>1999</td>\n",
              "      <td>actress</td>\n",
              "      <td>12/14/99</td>\n",
              "      <td>Acting</td>\n",
              "      <td>Shannen Doherty</td>\n",
              "      <td>Acting, Comedy &amp; Music</td>\n",
              "    </tr>\n",
              "    <tr>\n",
              "      <th>39</th>\n",
              "      <td>1999</td>\n",
              "      <td>NaN</td>\n",
              "      <td>12/15/99</td>\n",
              "      <td>NaN</td>\n",
              "      <td>Greatest Millennium Special</td>\n",
              "      <td>Other</td>\n",
              "    </tr>\n",
              "    <tr>\n",
              "      <th>40</th>\n",
              "      <td>1999</td>\n",
              "      <td>comedian</td>\n",
              "      <td>12/16/99</td>\n",
              "      <td>Comedy</td>\n",
              "      <td>George Carlin</td>\n",
              "      <td>Acting, Comedy &amp; Music</td>\n",
              "    </tr>\n",
              "    <tr>\n",
              "      <th>41</th>\n",
              "      <td>1999</td>\n",
              "      <td>actor</td>\n",
              "      <td>12/2/99</td>\n",
              "      <td>Acting</td>\n",
              "      <td>Michael Boatman</td>\n",
              "      <td>Acting, Comedy &amp; Music</td>\n",
              "    </tr>\n",
              "    <tr>\n",
              "      <th>42</th>\n",
              "      <td>1999</td>\n",
              "      <td>actor</td>\n",
              "      <td>12/20/99</td>\n",
              "      <td>Acting</td>\n",
              "      <td>David Boreanaz</td>\n",
              "      <td>Acting, Comedy &amp; Music</td>\n",
              "    </tr>\n",
              "    <tr>\n",
              "      <th>43</th>\n",
              "      <td>1999</td>\n",
              "      <td>singer-songwriter</td>\n",
              "      <td>12/21/99</td>\n",
              "      <td>Musician</td>\n",
              "      <td>Jewel</td>\n",
              "      <td>Acting, Comedy &amp; Music</td>\n",
              "    </tr>\n",
              "    <tr>\n",
              "      <th>44</th>\n",
              "      <td>1999</td>\n",
              "      <td>actor</td>\n",
              "      <td>12/6/99</td>\n",
              "      <td>Acting</td>\n",
              "      <td>Paul Rudd</td>\n",
              "      <td>Acting, Comedy &amp; Music</td>\n",
              "    </tr>\n",
              "    <tr>\n",
              "      <th>45</th>\n",
              "      <td>1999</td>\n",
              "      <td>us senator</td>\n",
              "      <td>12/7/99</td>\n",
              "      <td>Politician</td>\n",
              "      <td>Senator Bob Dole, part 1</td>\n",
              "      <td>Government and Politics</td>\n",
              "    </tr>\n",
              "    <tr>\n",
              "      <th>46</th>\n",
              "      <td>1999</td>\n",
              "      <td>us senator</td>\n",
              "      <td>12/8/99</td>\n",
              "      <td>Politician</td>\n",
              "      <td>Senator Bob Dole, part 2</td>\n",
              "      <td>Government and Politics</td>\n",
              "    </tr>\n",
              "    <tr>\n",
              "      <th>47</th>\n",
              "      <td>1999</td>\n",
              "      <td>actor</td>\n",
              "      <td>12/9/99</td>\n",
              "      <td>Acting</td>\n",
              "      <td>Rob Schneider</td>\n",
              "      <td>Acting, Comedy &amp; Music</td>\n",
              "    </tr>\n",
              "    <tr>\n",
              "      <th>48</th>\n",
              "      <td>1999</td>\n",
              "      <td>comedian</td>\n",
              "      <td>2/1/99</td>\n",
              "      <td>Comedy</td>\n",
              "      <td>George Carlin</td>\n",
              "      <td>Acting, Comedy &amp; Music</td>\n",
              "    </tr>\n",
              "    <tr>\n",
              "      <th>49</th>\n",
              "      <td>1999</td>\n",
              "      <td>actress</td>\n",
              "      <td>2/10/99</td>\n",
              "      <td>Acting</td>\n",
              "      <td>Pamela Anderson, Natalie Raitano, Molly Culver</td>\n",
              "      <td>Acting, Comedy &amp; Music</td>\n",
              "    </tr>\n",
              "  </tbody>\n",
              "</table>\n",
              "</div>"
            ],
            "text/plain": [
              "    Year GoogleKnowlege_Occupation      Show       Group  \\\n",
              "0   1999                     actor   1/11/99      Acting   \n",
              "1   1999                  Comedian   1/12/99      Comedy   \n",
              "2   1999        television actress   1/13/99      Acting   \n",
              "3   1999              film actress   1/14/99      Acting   \n",
              "4   1999                     actor   1/18/99      Acting   \n",
              "5   1999                     actor   1/19/99      Acting   \n",
              "6   1999           Singer-lyricist   1/20/99    Musician   \n",
              "7   1999                     model   1/21/99       Media   \n",
              "8   1999                     actor   1/25/99      Acting   \n",
              "9   1999         stand-up comedian   1/26/99      Comedy   \n",
              "10  1999                   actress   1/27/99      Acting   \n",
              "11  1999                     actor   1/28/99      Acting   \n",
              "12  1999        television actress  10/18/99      Acting   \n",
              "13  1999                  Comedian  10/19/99      Comedy   \n",
              "14  1999                   actress  10/20/99      Acting   \n",
              "15  1999                   actress  10/21/99      Acting   \n",
              "16  1999                   actress  10/25/99      Acting   \n",
              "17  1999                  comedian  10/26/99      Comedy   \n",
              "18  1999                   actress  10/27/99      Acting   \n",
              "19  1999         Singer-songwriter  10/28/99    Musician   \n",
              "20  1999                     actor   10/4/99      Acting   \n",
              "21  1999    television personality   10/5/99       Media   \n",
              "22  1999                   actress   10/6/99      Acting   \n",
              "23  1999                     Comic   10/7/99      Comedy   \n",
              "24  1999                     actor   11/1/99      Acting   \n",
              "25  1999                   actress  11/15/99      Acting   \n",
              "26  1999         Singer-songwriter  11/16/99    Musician   \n",
              "27  1999                   actress  11/17/99      Acting   \n",
              "28  1999                  comedian  11/18/99      Comedy   \n",
              "29  1999                   actress   11/2/99      Acting   \n",
              "30  1999                 rock band  11/29/99    Musician   \n",
              "31  1999                  musician   11/3/99    Musician   \n",
              "32  1999                Film actor  11/30/99      Acting   \n",
              "33  1999                     Model   11/4/99       Media   \n",
              "34  1999        television actress   11/8/99      Acting   \n",
              "35  1999                   actress   11/9/99      Acting   \n",
              "36  1999                   actress   12/1/99      Acting   \n",
              "37  1999                journalist  12/13/99       Media   \n",
              "38  1999                   actress  12/14/99      Acting   \n",
              "39  1999                       NaN  12/15/99         NaN   \n",
              "40  1999                  comedian  12/16/99      Comedy   \n",
              "41  1999                     actor   12/2/99      Acting   \n",
              "42  1999                     actor  12/20/99      Acting   \n",
              "43  1999         singer-songwriter  12/21/99    Musician   \n",
              "44  1999                     actor   12/6/99      Acting   \n",
              "45  1999                us senator   12/7/99  Politician   \n",
              "46  1999                us senator   12/8/99  Politician   \n",
              "47  1999                     actor   12/9/99      Acting   \n",
              "48  1999                  comedian    2/1/99      Comedy   \n",
              "49  1999                   actress   2/10/99      Acting   \n",
              "\n",
              "                                             Guest               Occupation  \n",
              "0                                   Michael J. Fox   Acting, Comedy & Music  \n",
              "1                                  Sandra Bernhard   Acting, Comedy & Music  \n",
              "2                                    Tracey Ullman   Acting, Comedy & Music  \n",
              "3                                 Gillian Anderson   Acting, Comedy & Music  \n",
              "4                                 David Alan Grier   Acting, Comedy & Music  \n",
              "5                                  William Baldwin   Acting, Comedy & Music  \n",
              "6                                    Michael Stipe   Acting, Comedy & Music  \n",
              "7                                   Carmen Electra                    Media  \n",
              "8                                  Matthew Lillard   Acting, Comedy & Music  \n",
              "9                                      David Cross   Acting, Comedy & Music  \n",
              "10                                  Yasmine Bleeth   Acting, Comedy & Music  \n",
              "11                                   D. L. Hughley   Acting, Comedy & Music  \n",
              "12                                Rebecca Gayheart   Acting, Comedy & Music  \n",
              "13                                   Steven Wright   Acting, Comedy & Music  \n",
              "14                                   Amy Brenneman   Acting, Comedy & Music  \n",
              "15                                 Melissa Gilbert   Acting, Comedy & Music  \n",
              "16                                  Cathy Moriarty   Acting, Comedy & Music  \n",
              "17                                  Louie Anderson   Acting, Comedy & Music  \n",
              "18                           Sarah Michelle Gellar   Acting, Comedy & Music  \n",
              "19                                       Melanie C   Acting, Comedy & Music  \n",
              "20                                     Greg Proops   Acting, Comedy & Music  \n",
              "21                                    Maury Povich                    Media  \n",
              "22                                  Brooke Shields   Acting, Comedy & Music  \n",
              "23                                   Molly Shannon   Acting, Comedy & Music  \n",
              "24                                 Chris O'Donnell   Acting, Comedy & Music  \n",
              "25                                 Christina Ricci   Acting, Comedy & Music  \n",
              "26                                       Tori Amos   Acting, Comedy & Music  \n",
              "27                                  Yasmine Bleeth   Acting, Comedy & Music  \n",
              "28                                      Bill Maher   Acting, Comedy & Music  \n",
              "29                            Jennifer Love Hewitt   Acting, Comedy & Music  \n",
              "30                                   Goo Goo Dolls   Acting, Comedy & Music  \n",
              "31                                      Dave Grohl   Acting, Comedy & Music  \n",
              "32                                     Stephen Rea   Acting, Comedy & Music  \n",
              "33                               Roshumba Williams                    Media  \n",
              "34                                   Kellie Martin   Acting, Comedy & Music  \n",
              "35                                   Kathy Griffin   Acting, Comedy & Music  \n",
              "36                               Laura San Giacomo   Acting, Comedy & Music  \n",
              "37                                     Joan Lunden                    Media  \n",
              "38                                 Shannen Doherty   Acting, Comedy & Music  \n",
              "39                     Greatest Millennium Special                    Other  \n",
              "40                                   George Carlin   Acting, Comedy & Music  \n",
              "41                                 Michael Boatman   Acting, Comedy & Music  \n",
              "42                                  David Boreanaz   Acting, Comedy & Music  \n",
              "43                                           Jewel   Acting, Comedy & Music  \n",
              "44                                       Paul Rudd   Acting, Comedy & Music  \n",
              "45                        Senator Bob Dole, part 1  Government and Politics  \n",
              "46                        Senator Bob Dole, part 2  Government and Politics  \n",
              "47                                   Rob Schneider   Acting, Comedy & Music  \n",
              "48                                   George Carlin   Acting, Comedy & Music  \n",
              "49  Pamela Anderson, Natalie Raitano, Molly Culver   Acting, Comedy & Music  "
            ]
          },
          "metadata": {
            "tags": []
          },
          "execution_count": 181
        }
      ]
    },
    {
      "metadata": {
        "id": "OS0nW1vz1itX",
        "colab_type": "text"
      },
      "cell_type": "markdown",
      "source": [
        "# Part 1 — What's the breakdown of guests’ occupations per year?\n",
        "\n",
        "For example, in 1999, what percentage of guests were actors, comedians, or musicians? What percentage were in the media? What percentage were in politics? What percentage were from another occupation?\n",
        "\n",
        "Then, what about in 2000? In 2001? And so on, up through 2015.\n",
        "\n",
        "So, **for each year of _The Daily Show_, calculate the percentage of guests from each occupation:**\n",
        "- Acting, Comedy & Music\n",
        "- Government and Politics\n",
        "- Media\n",
        "- Other\n",
        "\n",
        "#### Hints:\n",
        "1. Use pandas to make a **crosstab** of **`Year`** & **`Occupation`**. ([This documentation](http://pandas.pydata.org/pandas-docs/stable/reshaping.html#cross-tabulations) has examples and explanation.)\n",
        "2. To get percentages instead of counts, use crosstab's **`normalize`** parameter to normalize over each _row._ ([This documentation](http://pandas.pydata.org/pandas-docs/stable/generated/pandas.crosstab.html) describes the parameter and its options.)\n",
        "3. You'll know you've calculated the crosstab correctly when the percentage of \"Acting, Comedy & Music\" guests is 90.36% in 1999, and 45% in 2015."
      ]
    },
    {
      "metadata": {
        "id": "sRMc0H_5z6ff",
        "colab_type": "code",
        "outputId": "b584c7db-98b4-4a0e-d2ec-8a93a80b912a",
        "colab": {
          "base_uri": "https://localhost:8080/",
          "height": 198
        }
      },
      "cell_type": "code",
      "source": [
        "ct = pd.crosstab(df['Occupation'], df['Year'], normalize='columns')\n",
        "ct"
      ],
      "execution_count": 182,
      "outputs": [
        {
          "output_type": "execute_result",
          "data": {
            "text/html": [
              "<div>\n",
              "<style scoped>\n",
              "    .dataframe tbody tr th:only-of-type {\n",
              "        vertical-align: middle;\n",
              "    }\n",
              "\n",
              "    .dataframe tbody tr th {\n",
              "        vertical-align: top;\n",
              "    }\n",
              "\n",
              "    .dataframe thead th {\n",
              "        text-align: right;\n",
              "    }\n",
              "</style>\n",
              "<table border=\"1\" class=\"dataframe\">\n",
              "  <thead>\n",
              "    <tr style=\"text-align: right;\">\n",
              "      <th>Year</th>\n",
              "      <th>1999</th>\n",
              "      <th>2000</th>\n",
              "      <th>2001</th>\n",
              "      <th>2002</th>\n",
              "      <th>2003</th>\n",
              "      <th>2004</th>\n",
              "      <th>2005</th>\n",
              "      <th>2006</th>\n",
              "      <th>2007</th>\n",
              "      <th>2008</th>\n",
              "      <th>2009</th>\n",
              "      <th>2010</th>\n",
              "      <th>2011</th>\n",
              "      <th>2012</th>\n",
              "      <th>2013</th>\n",
              "      <th>2014</th>\n",
              "      <th>2015</th>\n",
              "    </tr>\n",
              "    <tr>\n",
              "      <th>Occupation</th>\n",
              "      <th></th>\n",
              "      <th></th>\n",
              "      <th></th>\n",
              "      <th></th>\n",
              "      <th></th>\n",
              "      <th></th>\n",
              "      <th></th>\n",
              "      <th></th>\n",
              "      <th></th>\n",
              "      <th></th>\n",
              "      <th></th>\n",
              "      <th></th>\n",
              "      <th></th>\n",
              "      <th></th>\n",
              "      <th></th>\n",
              "      <th></th>\n",
              "      <th></th>\n",
              "    </tr>\n",
              "  </thead>\n",
              "  <tbody>\n",
              "    <tr>\n",
              "      <th>Acting, Comedy &amp; Music</th>\n",
              "      <td>0.903614</td>\n",
              "      <td>0.739645</td>\n",
              "      <td>0.726115</td>\n",
              "      <td>0.622642</td>\n",
              "      <td>0.560241</td>\n",
              "      <td>0.384146</td>\n",
              "      <td>0.370370</td>\n",
              "      <td>0.360248</td>\n",
              "      <td>0.255319</td>\n",
              "      <td>0.207317</td>\n",
              "      <td>0.208589</td>\n",
              "      <td>0.351515</td>\n",
              "      <td>0.337423</td>\n",
              "      <td>0.268293</td>\n",
              "      <td>0.427711</td>\n",
              "      <td>0.392638</td>\n",
              "      <td>0.45</td>\n",
              "    </tr>\n",
              "    <tr>\n",
              "      <th>Government and Politics</th>\n",
              "      <td>0.012048</td>\n",
              "      <td>0.082840</td>\n",
              "      <td>0.038217</td>\n",
              "      <td>0.069182</td>\n",
              "      <td>0.102410</td>\n",
              "      <td>0.225610</td>\n",
              "      <td>0.160494</td>\n",
              "      <td>0.192547</td>\n",
              "      <td>0.170213</td>\n",
              "      <td>0.201220</td>\n",
              "      <td>0.208589</td>\n",
              "      <td>0.181818</td>\n",
              "      <td>0.165644</td>\n",
              "      <td>0.201220</td>\n",
              "      <td>0.126506</td>\n",
              "      <td>0.128834</td>\n",
              "      <td>0.17</td>\n",
              "    </tr>\n",
              "    <tr>\n",
              "      <th>Media</th>\n",
              "      <td>0.066265</td>\n",
              "      <td>0.124260</td>\n",
              "      <td>0.197452</td>\n",
              "      <td>0.264151</td>\n",
              "      <td>0.246988</td>\n",
              "      <td>0.274390</td>\n",
              "      <td>0.333333</td>\n",
              "      <td>0.291925</td>\n",
              "      <td>0.333333</td>\n",
              "      <td>0.469512</td>\n",
              "      <td>0.361963</td>\n",
              "      <td>0.303030</td>\n",
              "      <td>0.312883</td>\n",
              "      <td>0.317073</td>\n",
              "      <td>0.307229</td>\n",
              "      <td>0.325153</td>\n",
              "      <td>0.24</td>\n",
              "    </tr>\n",
              "    <tr>\n",
              "      <th>Other</th>\n",
              "      <td>0.018072</td>\n",
              "      <td>0.053254</td>\n",
              "      <td>0.038217</td>\n",
              "      <td>0.044025</td>\n",
              "      <td>0.090361</td>\n",
              "      <td>0.115854</td>\n",
              "      <td>0.135802</td>\n",
              "      <td>0.155280</td>\n",
              "      <td>0.241135</td>\n",
              "      <td>0.121951</td>\n",
              "      <td>0.220859</td>\n",
              "      <td>0.163636</td>\n",
              "      <td>0.184049</td>\n",
              "      <td>0.213415</td>\n",
              "      <td>0.138554</td>\n",
              "      <td>0.153374</td>\n",
              "      <td>0.14</td>\n",
              "    </tr>\n",
              "  </tbody>\n",
              "</table>\n",
              "</div>"
            ],
            "text/plain": [
              "Year                         1999      2000      2001      2002      2003  \\\n",
              "Occupation                                                                  \n",
              "Acting, Comedy & Music   0.903614  0.739645  0.726115  0.622642  0.560241   \n",
              "Government and Politics  0.012048  0.082840  0.038217  0.069182  0.102410   \n",
              "Media                    0.066265  0.124260  0.197452  0.264151  0.246988   \n",
              "Other                    0.018072  0.053254  0.038217  0.044025  0.090361   \n",
              "\n",
              "Year                         2004      2005      2006      2007      2008  \\\n",
              "Occupation                                                                  \n",
              "Acting, Comedy & Music   0.384146  0.370370  0.360248  0.255319  0.207317   \n",
              "Government and Politics  0.225610  0.160494  0.192547  0.170213  0.201220   \n",
              "Media                    0.274390  0.333333  0.291925  0.333333  0.469512   \n",
              "Other                    0.115854  0.135802  0.155280  0.241135  0.121951   \n",
              "\n",
              "Year                         2009      2010      2011      2012      2013  \\\n",
              "Occupation                                                                  \n",
              "Acting, Comedy & Music   0.208589  0.351515  0.337423  0.268293  0.427711   \n",
              "Government and Politics  0.208589  0.181818  0.165644  0.201220  0.126506   \n",
              "Media                    0.361963  0.303030  0.312883  0.317073  0.307229   \n",
              "Other                    0.220859  0.163636  0.184049  0.213415  0.138554   \n",
              "\n",
              "Year                         2014  2015  \n",
              "Occupation                               \n",
              "Acting, Comedy & Music   0.392638  0.45  \n",
              "Government and Politics  0.128834  0.17  \n",
              "Media                    0.325153  0.24  \n",
              "Other                    0.153374  0.14  "
            ]
          },
          "metadata": {
            "tags": []
          },
          "execution_count": 182
        }
      ]
    },
    {
      "metadata": {
        "id": "Nqf9oJJDDu-d",
        "colab_type": "text"
      },
      "cell_type": "markdown",
      "source": [
        "# Part 2 — Recreate this explanatory visualization:"
      ]
    },
    {
      "metadata": {
        "id": "scozkHQc0_eD",
        "colab_type": "code",
        "outputId": "2679dff2-907f-417f-8a8c-7a201db19fa7",
        "colab": {
          "base_uri": "https://localhost:8080/",
          "height": 406
        }
      },
      "cell_type": "code",
      "source": [
        "from IPython.display import display, Image\n",
        "url = 'https://fivethirtyeight.com/wp-content/uploads/2015/08/hickey-datalab-dailyshow.png'\n",
        "example = Image(url, width=500)\n",
        "display(example)"
      ],
      "execution_count": 183,
      "outputs": [
        {
          "output_type": "display_data",
          "data": {
            "image/png": "[encoded data removed]",
            "text/plain": [
              "<IPython.core.display.Image object>"
            ]
          },
          "metadata": {
            "tags": [],
            "image/png": {
              "width": 500
            }
          }
        }
      ]
    },
    {
      "metadata": {
        "id": "W7lw3JzAE6BJ",
        "colab_type": "text"
      },
      "cell_type": "markdown",
      "source": [
        "**Hint:** use the crosstab you calculated in part 1!\n",
        "\n",
        "**Expectations:** Your plot should include:\n",
        "- 3 lines visualizing \"occupation of guests, by year.\" The shapes of the lines should look roughly identical to 538's example. Each line should be a different color. (But you don't need to use the _same_ colors as 538.)\n",
        "- Legend or labels for the lines. (But you don't need each label positioned next to its line or colored like 538.)\n",
        "- Title in the upper left: _\"Who Got To Be On 'The Daily Show'?\"_ with more visual emphasis than the subtitle. (Bolder and/or larger font.)\n",
        "- Subtitle underneath the title: _\"Occupation of guests, by year\"_\n",
        "\n",
        "Any visual element not specifically mentioned in the expectations is an optional bonus, but it's _not_ required to pass the Sprint Challenge.\n",
        "\n",
        "\n",
        "\n",
        "\n"
      ]
    },
    {
      "metadata": {
        "id": "MCv4D0TNbZ_E",
        "colab_type": "code",
        "outputId": "5d07651d-bb9e-4fe1-faf8-7fb9907f3431",
        "colab": {
          "base_uri": "https://localhost:8080/",
          "height": 420
        }
      },
      "cell_type": "code",
      "source": [
        "title = \"Who Got To Be On 'The Daily Show'?\"\n",
        "sub = \"Occupation of guests, by year\"\n",
        "dt= pd.crosstab(df['Year'], df['Occupation'], normalize='index')\n",
        "dt = dt.drop(['Other'], axis=1)\n",
        "plt.style.use('fivethirtyeight')\n",
        "dt.plot.line(figsize=(8,5));\n",
        "plt.suptitle(title, y=1.05, x=.4, fontsize=25)\n",
        "plt.title(sub,y=1.05, x=.2, fontsize=18)\n",
        "plt.show()"
      ],
      "execution_count": 184,
      "outputs": [
        {
          "output_type": "display_data",
          "data": {
            "image/png": "[encoded data removed]",
            "text/plain": [
              "<matplotlib.figure.Figure at 0x7fe4c6729438>"
            ]
          },
          "metadata": {
            "tags": []
          }
        }
      ]
    },
    {
      "metadata": {
        "id": "LuacMjSf2ses",
        "colab_type": "text"
      },
      "cell_type": "markdown",
      "source": [
        "# Part 3 — Who were the top 10 guests on _The Daily Show_?\n",
        "\n",
        "**Make a plot** that shows their names and number of appearances.\n",
        "\n",
        "**Hint:** you can use the pandas `value_counts` method.\n",
        "\n",
        "**Expectations:** This can be a simple, quick plot: exploratory, not explanatory. \n",
        "\n",
        "If you want, you can add titles and change aesthetics, but it's _not_ required to pass the Sprint Challenge."
      ]
    },
    {
      "metadata": {
        "id": "tbwfBN3HsFlh",
        "colab_type": "code",
        "outputId": "2ad9cf57-c712-42e7-a65e-fade363bacc6",
        "colab": {
          "base_uri": "https://localhost:8080/",
          "height": 235
        }
      },
      "cell_type": "code",
      "source": [
        "(df.Guest.value_counts())\n",
        "\n",
        "mvp = df.groupby('Guest').Show.count()\n",
        "topten = mvp[mvp>9]\n",
        "topten = topten.sort_values()\n",
        "topten.head(10)"
      ],
      "execution_count": 228,
      "outputs": [
        {
          "output_type": "execute_result",
          "data": {
            "text/plain": [
              "Guest\n",
              "Bill O'Reilly     10\n",
              "Reza Aslan        10\n",
              "Richard Lewis     10\n",
              "Will Ferrell      10\n",
              "Tom Brokaw        12\n",
              "Paul Rudd         13\n",
              "Ricky Gervais     13\n",
              "Brian Williams    16\n",
              "Denis Leary       17\n",
              "Fareed Zakaria    19\n",
              "Name: Show, dtype: int64"
            ]
          },
          "metadata": {
            "tags": []
          },
          "execution_count": 228
        }
      ]
    },
    {
      "metadata": {
        "id": "-WbZtvUqXEGC",
        "colab_type": "code",
        "outputId": "e8a1c8a7-fd9b-4b79-a68c-41628ba89feb",
        "colab": {
          "base_uri": "https://localhost:8080/",
          "height": 348
        }
      },
      "cell_type": "code",
      "source": [
        "stars='Most Appearances on The Daily Show with Jon Stewart'\n",
        "app='Total Appearances'\n",
        "topten.plot.barh()\n",
        "plt.suptitle(app, y=.0, x=.4, fontsize=16);\n",
        "plt.title(stars,y=1.05, x=.4, fontsize=18)\n",
        "\n"
      ],
      "execution_count": 238,
      "outputs": [
        {
          "output_type": "execute_result",
          "data": {
            "text/plain": [
              "Text(0.4,1.05,'Most Appearances on The Daily Show with Jon Stewart')"
            ]
          },
          "metadata": {
            "tags": []
          },
          "execution_count": 238
        },
        {
          "output_type": "display_data",
          "data": {
            "image/png": "[encoded data removed]",
            "text/plain": [
              "<matplotlib.figure.Figure at 0x7fe4c4095320>"
            ]
          },
          "metadata": {
            "tags": []
          }
        }
      ]
    },
    {
      "metadata": {
        "id": "mOH46o3Huo9-",
        "colab_type": "code",
        "colab": {
          "base_uri": "https://localhost:8080/",
          "height": 145
        },
        "outputId": "3fb353c2-349f-46a4-c29f-d8e650eaab85"
      },
      "cell_type": "code",
      "source": [
        ""
      ],
      "execution_count": 211,
      "outputs": [
        {
          "output_type": "execute_result",
          "data": {
            "text/plain": [
              "Guest\n",
              "Bill O'Reilly     10\n",
              "Brian Williams    16\n",
              "Denis Leary       17\n",
              "Fareed Zakaria    19\n",
              "Paul Rudd         13\n",
              "Name: Show, dtype: int64"
            ]
          },
          "metadata": {
            "tags": []
          },
          "execution_count": 211
        }
      ]
    },
    {
      "metadata": {
        "id": "mhRldM8FoFMR",
        "colab_type": "text"
      },
      "cell_type": "markdown",
      "source": [
        "#How accurate is the data?\n",
        "\n",
        "\n",
        "\n"
      ]
    },
    {
      "metadata": {
        "id": "iP-nhBIHuCYd",
        "colab_type": "text"
      },
      "cell_type": "markdown",
      "source": [
        "##Spot Check"
      ]
    },
    {
      "metadata": {
        "id": "YgE9LIyuoKjQ",
        "colab_type": "text"
      },
      "cell_type": "markdown",
      "source": [
        "If you were a research analyst at a company that was using this data set, how could you be sure that this data is accurate?\n",
        "\n",
        "How do you really know if those 10 people appeared the most on The Daily Show?\n",
        "\n",
        "First, I will take a sample of 10 random appearances and confirm that the interviews are on the Daily Show website with the same date and guest. \n",
        "\n"
      ]
    },
    {
      "metadata": {
        "id": "OsualSmdktGR",
        "colab_type": "code",
        "colab": {
          "base_uri": "https://localhost:8080/",
          "height": 198
        },
        "outputId": "d0ed5dd4-20f7-4bb3-cb8f-b8267e7b4c10"
      },
      "cell_type": "code",
      "source": [
        "df.sample(5)"
      ],
      "execution_count": 187,
      "outputs": [
        {
          "output_type": "execute_result",
          "data": {
            "text/html": [
              "<div>\n",
              "<style scoped>\n",
              "    .dataframe tbody tr th:only-of-type {\n",
              "        vertical-align: middle;\n",
              "    }\n",
              "\n",
              "    .dataframe tbody tr th {\n",
              "        vertical-align: top;\n",
              "    }\n",
              "\n",
              "    .dataframe thead th {\n",
              "        text-align: right;\n",
              "    }\n",
              "</style>\n",
              "<table border=\"1\" class=\"dataframe\">\n",
              "  <thead>\n",
              "    <tr style=\"text-align: right;\">\n",
              "      <th></th>\n",
              "      <th>Year</th>\n",
              "      <th>GoogleKnowlege_Occupation</th>\n",
              "      <th>Show</th>\n",
              "      <th>Group</th>\n",
              "      <th>Guest</th>\n",
              "      <th>Occupation</th>\n",
              "    </tr>\n",
              "  </thead>\n",
              "  <tbody>\n",
              "    <tr>\n",
              "      <th>414</th>\n",
              "      <td>2001</td>\n",
              "      <td>actor</td>\n",
              "      <td>3/8/01</td>\n",
              "      <td>Acting</td>\n",
              "      <td>Javier Bardem</td>\n",
              "      <td>Acting, Comedy &amp; Music</td>\n",
              "    </tr>\n",
              "    <tr>\n",
              "      <th>1754</th>\n",
              "      <td>2009</td>\n",
              "      <td>stand-up comedian</td>\n",
              "      <td>8/17/09</td>\n",
              "      <td>Comedy</td>\n",
              "      <td>David Cross</td>\n",
              "      <td>Acting, Comedy &amp; Music</td>\n",
              "    </tr>\n",
              "    <tr>\n",
              "      <th>865</th>\n",
              "      <td>2004</td>\n",
              "      <td>Baseball player</td>\n",
              "      <td>12/7/04</td>\n",
              "      <td>Athletics</td>\n",
              "      <td>Paul O'Neill</td>\n",
              "      <td>Other</td>\n",
              "    </tr>\n",
              "    <tr>\n",
              "      <th>638</th>\n",
              "      <td>2002</td>\n",
              "      <td>actor</td>\n",
              "      <td>8/7/02</td>\n",
              "      <td>Acting</td>\n",
              "      <td>Vin Diesel</td>\n",
              "      <td>Acting, Comedy &amp; Music</td>\n",
              "    </tr>\n",
              "    <tr>\n",
              "      <th>588</th>\n",
              "      <td>2002</td>\n",
              "      <td>actor</td>\n",
              "      <td>5/14/02</td>\n",
              "      <td>Acting</td>\n",
              "      <td>Liev Schreiber</td>\n",
              "      <td>Acting, Comedy &amp; Music</td>\n",
              "    </tr>\n",
              "  </tbody>\n",
              "</table>\n",
              "</div>"
            ],
            "text/plain": [
              "      Year GoogleKnowlege_Occupation     Show      Group           Guest  \\\n",
              "414   2001                     actor   3/8/01     Acting   Javier Bardem   \n",
              "1754  2009         stand-up comedian  8/17/09     Comedy     David Cross   \n",
              "865   2004           Baseball player  12/7/04  Athletics    Paul O'Neill   \n",
              "638   2002                     actor   8/7/02     Acting      Vin Diesel   \n",
              "588   2002                     actor  5/14/02     Acting  Liev Schreiber   \n",
              "\n",
              "                  Occupation  \n",
              "414   Acting, Comedy & Music  \n",
              "1754  Acting, Comedy & Music  \n",
              "865                    Other  \n",
              "638   Acting, Comedy & Music  \n",
              "588   Acting, Comedy & Music  "
            ]
          },
          "metadata": {
            "tags": []
          },
          "execution_count": 187
        }
      ]
    },
    {
      "metadata": {
        "id": "OcZpIsvvsTHb",
        "colab_type": "text"
      },
      "cell_type": "markdown",
      "source": [
        "http://www.cc.com/video-clips/vxjcaf/the-daily-show-with-jon-stewart-javier-bardem\n",
        "\n",
        "http://www.cc.com/video-clips/12zgg5/the-daily-show-with-jon-stewart-david-cross\n",
        "\n",
        "http://www.cc.com/video-clips/clgqri/the-daily-show-with-jon-stewart-paul-o-neill\n",
        "\n",
        "http://www.cc.com/episodes/v4rhoe/the-daily-show-with-jon-stewart-august-7--2002---vin-diesel-season-7-ep-07019\n",
        "\n",
        "http://www.cc.com/episodes/iox2o5/the-daily-show-with-jon-stewart-july-29--2010---liev-schreiber-season-15-ep-15095\n",
        "\n",
        "http://www.cc.com/video-clips/qi4yuk/the-daily-show-with-jon-stewart-liev-schreiber\n",
        "\n",
        "All of the samples checked out! Same guest and dates\n",
        "\n",
        "\n",
        "\n"
      ]
    },
    {
      "metadata": {
        "id": "BIKa2WlauF2r",
        "colab_type": "text"
      },
      "cell_type": "markdown",
      "source": [
        "##What about the rest?"
      ]
    },
    {
      "metadata": {
        "id": "4Om-4q1eqdce",
        "colab_type": "text"
      },
      "cell_type": "markdown",
      "source": [
        " Ok, so we know that those 10 checked out, but what about the rest?\n",
        " \n",
        "You could look for other datasets containing Daily Show guests for comparison.\n",
        "\n",
        "https://github.com/geanders/RProgrammingForResearch/blob/master/data/daily_show_guests.csv\n",
        "\n",
        "Unfortunately this is simply a copy of the dataset we currently have.\n",
        "\n",
        "https://en.wikipedia.org/wiki/List_of_The_Daily_Show_episodes\n",
        "\n",
        "Wikipedia seems to have a list, you could aslo read this data into a CSV.\n",
        " \n",
        "You could write an HTML web parser to crawl the wesbite and confirm that videos are avialble for each entry.\n",
        "  \n"
      ]
    },
    {
      "metadata": {
        "id": "oG78OUmyt_Gv",
        "colab_type": "text"
      },
      "cell_type": "markdown",
      "source": [
        "Hoever, this still doesn't tell us enough, what if the show had guests that were not recorded, how would you catch that?\n",
        "\n",
        "You would have to watch every show in the Daily Show's history. Let's do a bit of math to see how much time that would take, and how much it would cost.\n"
      ]
    },
    {
      "metadata": {
        "id": "Vee2Z-eqqfjh",
        "colab_type": "code",
        "colab": {}
      },
      "cell_type": "code",
      "source": [
        "shows = df.Show.nunique()"
      ],
      "execution_count": 0,
      "outputs": []
    },
    {
      "metadata": {
        "id": "1ztZk-usqp4N",
        "colab_type": "code",
        "colab": {
          "base_uri": "https://localhost:8080/",
          "height": 35
        },
        "outputId": "fd7a63bb-399e-4a69-a50a-8df0821480ae"
      },
      "cell_type": "code",
      "source": [
        "shows * 20"
      ],
      "execution_count": 207,
      "outputs": [
        {
          "output_type": "execute_result",
          "data": {
            "text/plain": [
              "52780"
            ]
          },
          "metadata": {
            "tags": []
          },
          "execution_count": 207
        }
      ]
    },
    {
      "metadata": {
        "id": "0_MY2tDRq4gO",
        "colab_type": "code",
        "colab": {}
      },
      "cell_type": "code",
      "source": [
        "day = 8 * 60"
      ],
      "execution_count": 0,
      "outputs": []
    },
    {
      "metadata": {
        "id": "sQnAQ2eLq_pY",
        "colab_type": "code",
        "colab": {
          "base_uri": "https://localhost:8080/",
          "height": 35
        },
        "outputId": "f6c0049b-f388-4993-f52f-55c1bcc3b64e"
      },
      "cell_type": "code",
      "source": [
        "time = shows/day\n",
        "time"
      ],
      "execution_count": 209,
      "outputs": [
        {
          "output_type": "execute_result",
          "data": {
            "text/plain": [
              "5.497916666666667"
            ]
          },
          "metadata": {
            "tags": []
          },
          "execution_count": 209
        }
      ]
    },
    {
      "metadata": {
        "id": "i3jEh2kVrKfr",
        "colab_type": "text"
      },
      "cell_type": "markdown",
      "source": [
        "Assuming 8 hours a day and 20 minute episodes, you could watch every episode of the show in about 5 and a half days. At 2x speed, which would be fine for simply recording guests, that goes down to less than three(3) days. Even if you paid someone 100 dollars a day for this work, a company could hire 10 people to check the data for 1000 dollars a day and gain a humungous increase of confidence in the accuracy of the data. If this data is beiung used for a major investment, it's a no brainer. Even for a small investment, it mayu very be a good use of your resources. Alternatively you could create a sample that each person would watch, further cutting down on your time. "
      ]
    },
    {
      "metadata": {
        "id": "n0hTef7MuQKX",
        "colab_type": "text"
      },
      "cell_type": "markdown",
      "source": [
        "##Conclusion\n",
        "\n",
        "While this data might seem to be accurate, the low cost of verifying the accuracy through other sources creates an oppurtunity to generate confidence in our data without sacrifing resources. It is strongly reccomended that further stpes be taken to ensure our data reflects the show before it is used to inform business decisions. "
      ]
    }
  ]
}