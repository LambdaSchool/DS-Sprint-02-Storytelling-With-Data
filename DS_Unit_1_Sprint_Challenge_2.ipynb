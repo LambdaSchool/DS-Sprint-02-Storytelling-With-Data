{
 "cells": [
  {
   "cell_type": "markdown",
   "metadata": {
    "colab_type": "text",
    "id": "view-in-github"
   },
   "source": [
    "<a href=\"https://colab.research.google.com/github/Dpgofast/DS-Sprint-02-Storytelling-With-Data/blob/master/DS_Unit_1_Sprint_Challenge_2.ipynb\" target=\"_parent\"><img src=\"https://colab.research.google.com/assets/colab-badge.svg\" alt=\"Open In Colab\"/></a>"
   ]
  },
  "cells": [
    {
      "cell_type": "markdown",
      "metadata": {
        "id": "view-in-github",
        "colab_type": "text"
      },
      "source": [
        "<a href=\"https://colab.research.google.com/github/Dpgofast/DS-Sprint-02-Storytelling-With-Data/blob/master/DS_Unit_1_Sprint_Challenge_2.ipynb\" target=\"_parent\"><img src=\"https://colab.research.google.com/assets/colab-badge.svg\" alt=\"Open In Colab\"/></a>"
      ]
    },
    {
      "metadata": {
        "id": "i-n_5en3ER1o",
        "colab_type": "text"
      },
      "cell_type": "markdown",
      "source": [
        "# Data Science Unit 1 Sprint Challenge 2\n",
        "\n",
        "# Storytelling with Data\n",
        "\n",
        "In this sprint challenge you'll work with a dataset from **FiveThirtyEight's article, [Every Guest Jon Stewart Ever Had On ‘The Daily Show’](https://fivethirtyeight.com/features/every-guest-jon-stewart-ever-had-on-the-daily-show/)**!"
      ]
    },
    {
      "metadata": {
        "id": "Thm2n5FF2Fnp",
        "colab_type": "text"
      },
      "cell_type": "markdown",
      "source": [
        "# Part 0 — Run this starter code\n",
        "\n",
        "You don't need to add or change anything here. Just run this cell and it loads the data for you, into a dataframe named `df`.\n",
        "\n",
        "(You can explore the data if you want, but it's not required to pass the Sprint Challenge.)"
      ]
    },
    {
      "metadata": {
        "id": "0rTHgzJIuRS7",
        "colab_type": "code",
        "colab": {}
      },
      "cell_type": "code",
      "source": [
        "%matplotlib inline\n",
        "import matplotlib.pyplot as plt\n",
        "import numpy as np\n",
        "import pandas as pd\n",
        "\n",
        "df = pd.read_csv('https://raw.githubusercontent.com/fivethirtyeight/data/master/daily-show-guests/daily_show_guests.csv')\n",
        "df.rename(columns={'YEAR': 'Year', 'Raw_Guest_List': 'Guest'}, inplace=True)\n",
        "\n",
        "def get_occupation(group):\n",
        "    if group in ['Acting', 'Comedy', 'Musician']:\n",
        "        return 'Acting, Comedy & Music'\n",
        "    elif group in ['Media', 'media']:\n",
        "        return 'Media'\n",
        "    elif group in ['Government', 'Politician', 'Political Aide']:\n",
        "        return 'Government and Politics'\n",
        "    else:\n",
        "        return 'Other'\n",
        "      \n",
        "df['Occupation'] = df['Group'].apply(get_occupation)"
      ],
      "execution_count": 0,
      "outputs": []
    },
    {
      "metadata": {
        "id": "OS0nW1vz1itX",
        "colab_type": "text"
      },
      "cell_type": "markdown",
      "source": [
        "# Part 1 — What's the breakdown of guests’ occupations per year?\n",
        "\n",
        "For example, in 1999, what percentage of guests were actors, comedians, or musicians? What percentage were in the media? What percentage were in politics? What percentage were from another occupation?\n",
        "\n",
        "Then, what about in 2000? In 2001? And so on, up through 2015.\n",
        "\n",
        "So, **for each year of _The Daily Show_, calculate the percentage of guests from each occupation:**\n",
        "- Acting, Comedy & Music\n",
        "- Government and Politics\n",
        "- Media\n",
        "- Other\n",
        "\n",
        "#### Hints:\n",
        "1. Use pandas to make a **crosstab** of **`Year`** & **`Occupation`**. ([This documentation](http://pandas.pydata.org/pandas-docs/stable/reshaping.html#cross-tabulations) has examples and explanation.)\n",
        "2. To get percentages instead of counts, use crosstab's **`normalize`** parameter to normalize over each _row._ ([This documentation](http://pandas.pydata.org/pandas-docs/stable/generated/pandas.crosstab.html) describes the parameter and its options.)\n",
        "3. You'll know you've calculated the crosstab correctly when the percentage of \"Acting, Comedy & Music\" guests is 90.36% in 1999, and 45% in 2015."
      ]
    },
    {
      "metadata": {
        "id": "ALOcRjvXbK8S",
        "colab_type": "code",
        "outputId": "4bc164b2-26cd-49b2-deb1-3ab3c111f415",
        "colab": {
          "base_uri": "https://localhost:8080/",
          "height": 588
        }
      },
      "cell_type": "code",
      "source": [
        "# After creating a crosstab for each year manually I realized normalizing by index\n",
        "  #would compile the stats for each year in a single crosstab....\n",
        "\n",
        "years=pd.crosstab(df.Year,df.Occupation,normalize='index')\n",
        "years"
      ],
      "execution_count": 0,
      "outputs": [
        {
          "output_type": "execute_result",
          "data": {
            "text/html": [
              "<div>\n",
              "<style scoped>\n",
              "    .dataframe tbody tr th:only-of-type {\n",
              "        vertical-align: middle;\n",
              "    }\n",
              "\n",
              "    .dataframe tbody tr th {\n",
              "        vertical-align: top;\n",
              "    }\n",
              "\n",
              "    .dataframe thead th {\n",
              "        text-align: right;\n",
              "    }\n",
              "</style>\n",
              "<table border=\"1\" class=\"dataframe\">\n",
              "  <thead>\n",
              "    <tr style=\"text-align: right;\">\n",
              "      <th>Occupation</th>\n",
              "      <th>Acting, Comedy &amp; Music</th>\n",
              "      <th>Government and Politics</th>\n",
              "      <th>Media</th>\n",
              "      <th>Other</th>\n",
              "    </tr>\n",
              "    <tr>\n",
              "      <th>Year</th>\n",
              "      <th></th>\n",
              "      <th></th>\n",
              "      <th></th>\n",
              "      <th></th>\n",
              "    </tr>\n",
              "  </thead>\n",
              "  <tbody>\n",
              "    <tr>\n",
              "      <th>1999</th>\n",
              "      <td>0.903614</td>\n",
              "      <td>0.012048</td>\n",
              "      <td>0.066265</td>\n",
              "      <td>0.018072</td>\n",
              "    </tr>\n",
              "    <tr>\n",
              "      <th>2000</th>\n",
              "      <td>0.739645</td>\n",
              "      <td>0.082840</td>\n",
              "      <td>0.124260</td>\n",
              "      <td>0.053254</td>\n",
              "    </tr>\n",
              "    <tr>\n",
              "      <th>2001</th>\n",
              "      <td>0.726115</td>\n",
              "      <td>0.038217</td>\n",
              "      <td>0.197452</td>\n",
              "      <td>0.038217</td>\n",
              "    </tr>\n",
              "    <tr>\n",
              "      <th>2002</th>\n",
              "      <td>0.622642</td>\n",
              "      <td>0.069182</td>\n",
              "      <td>0.264151</td>\n",
              "      <td>0.044025</td>\n",
              "    </tr>\n",
              "    <tr>\n",
              "      <th>2003</th>\n",
              "      <td>0.560241</td>\n",
              "      <td>0.102410</td>\n",
              "      <td>0.246988</td>\n",
              "      <td>0.090361</td>\n",
              "    </tr>\n",
              "    <tr>\n",
              "      <th>2004</th>\n",
              "      <td>0.384146</td>\n",
              "      <td>0.225610</td>\n",
              "      <td>0.274390</td>\n",
              "      <td>0.115854</td>\n",
              "    </tr>\n",
              "    <tr>\n",
              "      <th>2005</th>\n",
              "      <td>0.370370</td>\n",
              "      <td>0.160494</td>\n",
              "      <td>0.333333</td>\n",
              "      <td>0.135802</td>\n",
              "    </tr>\n",
              "    <tr>\n",
              "      <th>2006</th>\n",
              "      <td>0.360248</td>\n",
              "      <td>0.192547</td>\n",
              "      <td>0.291925</td>\n",
              "      <td>0.155280</td>\n",
              "    </tr>\n",
              "    <tr>\n",
              "      <th>2007</th>\n",
              "      <td>0.255319</td>\n",
              "      <td>0.170213</td>\n",
              "      <td>0.333333</td>\n",
              "      <td>0.241135</td>\n",
              "    </tr>\n",
              "    <tr>\n",
              "      <th>2008</th>\n",
              "      <td>0.207317</td>\n",
              "      <td>0.201220</td>\n",
              "      <td>0.469512</td>\n",
              "      <td>0.121951</td>\n",
              "    </tr>\n",
              "    <tr>\n",
              "      <th>2009</th>\n",
              "      <td>0.208589</td>\n",
              "      <td>0.208589</td>\n",
              "      <td>0.361963</td>\n",
              "      <td>0.220859</td>\n",
              "    </tr>\n",
              "    <tr>\n",
              "      <th>2010</th>\n",
              "      <td>0.351515</td>\n",
              "      <td>0.181818</td>\n",
              "      <td>0.303030</td>\n",
              "      <td>0.163636</td>\n",
              "    </tr>\n",
              "    <tr>\n",
              "      <th>2011</th>\n",
              "      <td>0.337423</td>\n",
              "      <td>0.165644</td>\n",
              "      <td>0.312883</td>\n",
              "      <td>0.184049</td>\n",
              "    </tr>\n",
              "    <tr>\n",
              "      <th>2012</th>\n",
              "      <td>0.268293</td>\n",
              "      <td>0.201220</td>\n",
              "      <td>0.317073</td>\n",
              "      <td>0.213415</td>\n",
              "    </tr>\n",
              "    <tr>\n",
              "      <th>2013</th>\n",
              "      <td>0.427711</td>\n",
              "      <td>0.126506</td>\n",
              "      <td>0.307229</td>\n",
              "      <td>0.138554</td>\n",
              "    </tr>\n",
              "    <tr>\n",
              "      <th>2014</th>\n",
              "      <td>0.392638</td>\n",
              "      <td>0.128834</td>\n",
              "      <td>0.325153</td>\n",
              "      <td>0.153374</td>\n",
              "    </tr>\n",
              "    <tr>\n",
              "      <th>2015</th>\n",
              "      <td>0.450000</td>\n",
              "      <td>0.170000</td>\n",
              "      <td>0.240000</td>\n",
              "      <td>0.140000</td>\n",
              "    </tr>\n",
              "  </tbody>\n",
              "</table>\n",
              "</div>"
            ],
            "text/plain": [
              "Occupation  Acting, Comedy & Music  Government and Politics     Media  \\\n",
              "Year                                                                    \n",
              "1999                      0.903614                 0.012048  0.066265   \n",
              "2000                      0.739645                 0.082840  0.124260   \n",
              "2001                      0.726115                 0.038217  0.197452   \n",
              "2002                      0.622642                 0.069182  0.264151   \n",
              "2003                      0.560241                 0.102410  0.246988   \n",
              "2004                      0.384146                 0.225610  0.274390   \n",
              "2005                      0.370370                 0.160494  0.333333   \n",
              "2006                      0.360248                 0.192547  0.291925   \n",
              "2007                      0.255319                 0.170213  0.333333   \n",
              "2008                      0.207317                 0.201220  0.469512   \n",
              "2009                      0.208589                 0.208589  0.361963   \n",
              "2010                      0.351515                 0.181818  0.303030   \n",
              "2011                      0.337423                 0.165644  0.312883   \n",
              "2012                      0.268293                 0.201220  0.317073   \n",
              "2013                      0.427711                 0.126506  0.307229   \n",
              "2014                      0.392638                 0.128834  0.325153   \n",
              "2015                      0.450000                 0.170000  0.240000   \n",
              "\n",
              "Occupation     Other  \n",
              "Year                  \n",
              "1999        0.018072  \n",
              "2000        0.053254  \n",
              "2001        0.038217  \n",
              "2002        0.044025  \n",
              "2003        0.090361  \n",
              "2004        0.115854  \n",
              "2005        0.135802  \n",
              "2006        0.155280  \n",
              "2007        0.241135  \n",
              "2008        0.121951  \n",
              "2009        0.220859  \n",
              "2010        0.163636  \n",
              "2011        0.184049  \n",
              "2012        0.213415  \n",
              "2013        0.138554  \n",
              "2014        0.153374  \n",
              "2015        0.140000  "
            ]
          },
          "metadata": {
            "tags": []
          },
          "execution_count": 3
        }
      ]
    },
    {
      "metadata": {
        "id": "n9Z9buDqVM2r",
        "colab_type": "code",
        "colab": {}
      },
      "cell_type": "code",
      "source": [
        "#def cross(x):\n",
        "  \n",
        "  #return pd.crosstab(year(x).Year,year(x).Occupation,normalize= 'index')# TODO \n",
        " "
      ],
      "execution_count": 0,
      "outputs": []
    },
    "colab_type": "code",
    "id": "ALOcRjvXbK8S",
    "outputId": "226a08a7-c9f9-48c0-aa9c-50f30fe48790"
   },
   "outputs": [
    {
     "data": {
      "text/html": [
       "<div>\n",
       "<style scoped>\n",
       "    .dataframe tbody tr th:only-of-type {\n",
       "        vertical-align: middle;\n",
       "    }\n",
       "\n",
       "    .dataframe tbody tr th {\n",
       "        vertical-align: top;\n",
       "    }\n",
       "\n",
       "    .dataframe thead th {\n",
       "        text-align: right;\n",
       "    }\n",
       "</style>\n",
       "<table border=\"1\" class=\"dataframe\">\n",
       "  <thead>\n",
       "    <tr style=\"text-align: right;\">\n",
       "      <th>Occupation</th>\n",
       "      <th>Acting, Comedy &amp; Music</th>\n",
       "      <th>Government and Politics</th>\n",
       "      <th>Media</th>\n",
       "      <th>Other</th>\n",
       "    </tr>\n",
       "    <tr>\n",
       "      <th>Year</th>\n",
       "      <th></th>\n",
       "      <th></th>\n",
       "      <th></th>\n",
       "      <th></th>\n",
       "    </tr>\n",
       "  </thead>\n",
       "  <tbody>\n",
       "    <tr>\n",
       "      <th>1999</th>\n",
       "      <td>0.903614</td>\n",
       "      <td>0.012048</td>\n",
       "      <td>0.066265</td>\n",
       "      <td>0.018072</td>\n",
       "    </tr>\n",
       "    <tr>\n",
       "      <th>2000</th>\n",
       "      <td>0.739645</td>\n",
       "      <td>0.082840</td>\n",
       "      <td>0.124260</td>\n",
       "      <td>0.053254</td>\n",
       "    </tr>\n",
       "    <tr>\n",
       "      <th>2001</th>\n",
       "      <td>0.726115</td>\n",
       "      <td>0.038217</td>\n",
       "      <td>0.197452</td>\n",
       "      <td>0.038217</td>\n",
       "    </tr>\n",
       "    <tr>\n",
       "      <th>2002</th>\n",
       "      <td>0.622642</td>\n",
       "      <td>0.069182</td>\n",
       "      <td>0.264151</td>\n",
       "      <td>0.044025</td>\n",
       "    </tr>\n",
       "    <tr>\n",
       "      <th>2003</th>\n",
       "      <td>0.560241</td>\n",
       "      <td>0.102410</td>\n",
       "      <td>0.246988</td>\n",
       "      <td>0.090361</td>\n",
       "    </tr>\n",
       "    <tr>\n",
       "      <th>2004</th>\n",
       "      <td>0.384146</td>\n",
       "      <td>0.225610</td>\n",
       "      <td>0.274390</td>\n",
       "      <td>0.115854</td>\n",
       "    </tr>\n",
       "    <tr>\n",
       "      <th>2005</th>\n",
       "      <td>0.370370</td>\n",
       "      <td>0.160494</td>\n",
       "      <td>0.333333</td>\n",
       "      <td>0.135802</td>\n",
       "    </tr>\n",
       "    <tr>\n",
       "      <th>2006</th>\n",
       "      <td>0.360248</td>\n",
       "      <td>0.192547</td>\n",
       "      <td>0.291925</td>\n",
       "      <td>0.155280</td>\n",
       "    </tr>\n",
       "    <tr>\n",
       "      <th>2007</th>\n",
       "      <td>0.255319</td>\n",
       "      <td>0.170213</td>\n",
       "      <td>0.333333</td>\n",
       "      <td>0.241135</td>\n",
       "    </tr>\n",
       "    <tr>\n",
       "      <th>2008</th>\n",
       "      <td>0.207317</td>\n",
       "      <td>0.201220</td>\n",
       "      <td>0.469512</td>\n",
       "      <td>0.121951</td>\n",
       "    </tr>\n",
       "    <tr>\n",
       "      <th>2009</th>\n",
       "      <td>0.208589</td>\n",
       "      <td>0.208589</td>\n",
       "      <td>0.361963</td>\n",
       "      <td>0.220859</td>\n",
       "    </tr>\n",
       "    <tr>\n",
       "      <th>2010</th>\n",
       "      <td>0.351515</td>\n",
       "      <td>0.181818</td>\n",
       "      <td>0.303030</td>\n",
       "      <td>0.163636</td>\n",
       "    </tr>\n",
       "    <tr>\n",
       "      <th>2011</th>\n",
       "      <td>0.337423</td>\n",
       "      <td>0.165644</td>\n",
       "      <td>0.312883</td>\n",
       "      <td>0.184049</td>\n",
       "    </tr>\n",
       "    <tr>\n",
       "      <th>2012</th>\n",
       "      <td>0.268293</td>\n",
       "      <td>0.201220</td>\n",
       "      <td>0.317073</td>\n",
       "      <td>0.213415</td>\n",
       "    </tr>\n",
       "    <tr>\n",
       "      <th>2013</th>\n",
       "      <td>0.427711</td>\n",
       "      <td>0.126506</td>\n",
       "      <td>0.307229</td>\n",
       "      <td>0.138554</td>\n",
       "    </tr>\n",
       "    <tr>\n",
       "      <th>2014</th>\n",
       "      <td>0.392638</td>\n",
       "      <td>0.128834</td>\n",
       "      <td>0.325153</td>\n",
       "      <td>0.153374</td>\n",
       "    </tr>\n",
       "    <tr>\n",
       "      <th>2015</th>\n",
       "      <td>0.450000</td>\n",
       "      <td>0.170000</td>\n",
       "      <td>0.240000</td>\n",
       "      <td>0.140000</td>\n",
       "    </tr>\n",
       "  </tbody>\n",
       "</table>\n",
       "</div>"
      ],
      "text/plain": [
       "Occupation  Acting, Comedy & Music  Government and Politics     Media  \\\n",
       "Year                                                                    \n",
       "1999                      0.903614                 0.012048  0.066265   \n",
       "2000                      0.739645                 0.082840  0.124260   \n",
       "2001                      0.726115                 0.038217  0.197452   \n",
       "2002                      0.622642                 0.069182  0.264151   \n",
       "2003                      0.560241                 0.102410  0.246988   \n",
       "2004                      0.384146                 0.225610  0.274390   \n",
       "2005                      0.370370                 0.160494  0.333333   \n",
       "2006                      0.360248                 0.192547  0.291925   \n",
       "2007                      0.255319                 0.170213  0.333333   \n",
       "2008                      0.207317                 0.201220  0.469512   \n",
       "2009                      0.208589                 0.208589  0.361963   \n",
       "2010                      0.351515                 0.181818  0.303030   \n",
       "2011                      0.337423                 0.165644  0.312883   \n",
       "2012                      0.268293                 0.201220  0.317073   \n",
       "2013                      0.427711                 0.126506  0.307229   \n",
       "2014                      0.392638                 0.128834  0.325153   \n",
       "2015                      0.450000                 0.170000  0.240000   \n",
       "\n",
       "Occupation     Other  \n",
       "Year                  \n",
       "1999        0.018072  \n",
       "2000        0.053254  \n",
       "2001        0.038217  \n",
       "2002        0.044025  \n",
       "2003        0.090361  \n",
       "2004        0.115854  \n",
       "2005        0.135802  \n",
       "2006        0.155280  \n",
       "2007        0.241135  \n",
       "2008        0.121951  \n",
       "2009        0.220859  \n",
       "2010        0.163636  \n",
       "2011        0.184049  \n",
       "2012        0.213415  \n",
       "2013        0.138554  \n",
       "2014        0.153374  \n",
       "2015        0.140000  "
      "metadata": {
        "id": "sRMc0H_5z6ff",
        "colab_type": "code",
        "outputId": "f378cbe0-317b-4b97-d798-3eb0f5d8995c",
        "colab": {
          "base_uri": "https://localhost:8080/",
          "height": 108
        }
      },
      "cell_type": "code",
      "source": [
        "year99= df[df.Year==1999]\n",
        "chart99= pd.crosstab(year99.Year,year99.Occupation,normalize= 'index')\n",
        "chart99\n"
      ],
      "execution_count": 0,
      "outputs": [
        {
          "output_type": "execute_result",
          "data": {
            "text/html": [
              "<div>\n",
              "<style scoped>\n",
              "    .dataframe tbody tr th:only-of-type {\n",
              "        vertical-align: middle;\n",
              "    }\n",
              "\n",
              "    .dataframe tbody tr th {\n",
              "        vertical-align: top;\n",
              "    }\n",
              "\n",
              "    .dataframe thead th {\n",
              "        text-align: right;\n",
              "    }\n",
              "</style>\n",
              "<table border=\"1\" class=\"dataframe\">\n",
              "  <thead>\n",
              "    <tr style=\"text-align: right;\">\n",
              "      <th>Occupation</th>\n",
              "      <th>Acting, Comedy &amp; Music</th>\n",
              "      <th>Government and Politics</th>\n",
              "      <th>Media</th>\n",
              "      <th>Other</th>\n",
              "    </tr>\n",
              "    <tr>\n",
              "      <th>Year</th>\n",
              "      <th></th>\n",
              "      <th></th>\n",
              "      <th></th>\n",
              "      <th></th>\n",
              "    </tr>\n",
              "  </thead>\n",
              "  <tbody>\n",
              "    <tr>\n",
              "      <th>1999</th>\n",
              "      <td>0.903614</td>\n",
              "      <td>0.012048</td>\n",
              "      <td>0.066265</td>\n",
              "      <td>0.018072</td>\n",
              "    </tr>\n",
              "  </tbody>\n",
              "</table>\n",
              "</div>"
            ],
            "text/plain": [
              "Occupation  Acting, Comedy & Music  Government and Politics     Media  \\\n",
              "Year                                                                    \n",
              "1999                      0.903614                 0.012048  0.066265   \n",
              "\n",
              "Occupation     Other  \n",
              "Year                  \n",
              "1999        0.018072  "
            ]
          },
          "metadata": {
            "tags": []
          },
          "execution_count": 4
        }
      ]
     },
     "execution_count": 2,
     "metadata": {
      "tags": []
     },
     "output_type": "execute_result"
    }
   ],
   "source": [
    "# After creating a crosstab for each year manually I realized normalizing by index\n",
    "  #would compile the stats for each year in a single crosstab....\n",
    "\n",
    "years=pd.crosstab(df.Year,df.Occupation,normalize='index')\n",
    "years"
   ]
  },
  {
   "cell_type": "code",
   "execution_count": 0,
   "metadata": {
    "colab": {},
    "colab_type": "code",
    "id": "n9Z9buDqVM2r"
   },
   "outputs": [],
   "source": [
    "#def cross(x):\n",
    "  \n",
    "  #return pd.crosstab(year(x).Year,year(x).Occupation,normalize= 'index')# TODO \n",
    " "
   ]
  },
  {
   "cell_type": "code",
   "execution_count": 3,
   "metadata": {
    "colab": {
     "base_uri": "https://localhost:8080/",
     "height": 108
    },
    "colab_type": "code",
    "id": "sRMc0H_5z6ff",
    "outputId": "58369f8d-b506-47c7-f40f-6af2875c2bd0"
   },
   "outputs": [
    {
     "data": {
      "text/html": [
       "<div>\n",
       "<style scoped>\n",
       "    .dataframe tbody tr th:only-of-type {\n",
       "        vertical-align: middle;\n",
       "    }\n",
       "\n",
       "    .dataframe tbody tr th {\n",
       "        vertical-align: top;\n",
       "    }\n",
       "\n",
       "    .dataframe thead th {\n",
       "        text-align: right;\n",
       "    }\n",
       "</style>\n",
       "<table border=\"1\" class=\"dataframe\">\n",
       "  <thead>\n",
       "    <tr style=\"text-align: right;\">\n",
       "      <th>Occupation</th>\n",
       "      <th>Acting, Comedy &amp; Music</th>\n",
       "      <th>Government and Politics</th>\n",
       "      <th>Media</th>\n",
       "      <th>Other</th>\n",
       "    </tr>\n",
       "    <tr>\n",
       "      <th>Year</th>\n",
       "      <th></th>\n",
       "      <th></th>\n",
       "      <th></th>\n",
       "      <th></th>\n",
       "    </tr>\n",
       "  </thead>\n",
       "  <tbody>\n",
       "    <tr>\n",
       "      <th>1999</th>\n",
       "      <td>0.903614</td>\n",
       "      <td>0.012048</td>\n",
       "      <td>0.066265</td>\n",
       "      <td>0.018072</td>\n",
       "    </tr>\n",
       "  </tbody>\n",
       "</table>\n",
       "</div>"
      ],
      "text/plain": [
       "Occupation  Acting, Comedy & Music  Government and Politics     Media  \\\n",
       "Year                                                                    \n",
       "1999                      0.903614                 0.012048  0.066265   \n",
       "\n",
       "Occupation     Other  \n",
       "Year                  \n",
       "1999        0.018072  "
      "metadata": {
        "id": "s825FrPcTJP2",
        "colab_type": "code",
        "outputId": "1b02647e-e47f-45b4-bf69-4ed1b67eb320",
        "colab": {
          "base_uri": "https://localhost:8080/",
          "height": 108
        }
      },
      "cell_type": "code",
      "source": [
        "year00=df[df.Year==2000]\n",
        "chart00= pd.crosstab(year00.Year,year00.Occupation,normalize= 'index')\n",
        "chart00"
      ],
      "execution_count": 0,
      "outputs": [
        {
          "output_type": "execute_result",
          "data": {
            "text/html": [
              "<div>\n",
              "<style scoped>\n",
              "    .dataframe tbody tr th:only-of-type {\n",
              "        vertical-align: middle;\n",
              "    }\n",
              "\n",
              "    .dataframe tbody tr th {\n",
              "        vertical-align: top;\n",
              "    }\n",
              "\n",
              "    .dataframe thead th {\n",
              "        text-align: right;\n",
              "    }\n",
              "</style>\n",
              "<table border=\"1\" class=\"dataframe\">\n",
              "  <thead>\n",
              "    <tr style=\"text-align: right;\">\n",
              "      <th>Occupation</th>\n",
              "      <th>Acting, Comedy &amp; Music</th>\n",
              "      <th>Government and Politics</th>\n",
              "      <th>Media</th>\n",
              "      <th>Other</th>\n",
              "    </tr>\n",
              "    <tr>\n",
              "      <th>Year</th>\n",
              "      <th></th>\n",
              "      <th></th>\n",
              "      <th></th>\n",
              "      <th></th>\n",
              "    </tr>\n",
              "  </thead>\n",
              "  <tbody>\n",
              "    <tr>\n",
              "      <th>2000</th>\n",
              "      <td>0.739645</td>\n",
              "      <td>0.08284</td>\n",
              "      <td>0.12426</td>\n",
              "      <td>0.053254</td>\n",
              "    </tr>\n",
              "  </tbody>\n",
              "</table>\n",
              "</div>"
            ],
            "text/plain": [
              "Occupation  Acting, Comedy & Music  Government and Politics    Media     Other\n",
              "Year                                                                          \n",
              "2000                      0.739645                  0.08284  0.12426  0.053254"
            ]
          },
          "metadata": {
            "tags": []
          },
          "execution_count": 5
        }
      ]
     },
     "execution_count": 3,
     "metadata": {
      "tags": []
     },
     "output_type": "execute_result"
    }
   ],
   "source": [
    "year99= df[df.Year==1999]\n",
    "chart99= pd.crosstab(year99.Year,year99.Occupation,normalize= 'index')\n",
    "chart99\n"
   ]
  },
  {
   "cell_type": "code",
   "execution_count": 4,
   "metadata": {
    "colab": {
     "base_uri": "https://localhost:8080/",
     "height": 108
    },
    "colab_type": "code",
    "id": "s825FrPcTJP2",
    "outputId": "e613b16d-137c-48f8-f84e-72726689f822"
   },
   "outputs": [
    {
     "data": {
      "text/html": [
       "<div>\n",
       "<style scoped>\n",
       "    .dataframe tbody tr th:only-of-type {\n",
       "        vertical-align: middle;\n",
       "    }\n",
       "\n",
       "    .dataframe tbody tr th {\n",
       "        vertical-align: top;\n",
       "    }\n",
       "\n",
       "    .dataframe thead th {\n",
       "        text-align: right;\n",
       "    }\n",
       "</style>\n",
       "<table border=\"1\" class=\"dataframe\">\n",
       "  <thead>\n",
       "    <tr style=\"text-align: right;\">\n",
       "      <th>Occupation</th>\n",
       "      <th>Acting, Comedy &amp; Music</th>\n",
       "      <th>Government and Politics</th>\n",
       "      <th>Media</th>\n",
       "      <th>Other</th>\n",
       "    </tr>\n",
       "    <tr>\n",
       "      <th>Year</th>\n",
       "      <th></th>\n",
       "      <th></th>\n",
       "      <th></th>\n",
       "      <th></th>\n",
       "    </tr>\n",
       "  </thead>\n",
       "  <tbody>\n",
       "    <tr>\n",
       "      <th>2000</th>\n",
       "      <td>0.739645</td>\n",
       "      <td>0.08284</td>\n",
       "      <td>0.12426</td>\n",
       "      <td>0.053254</td>\n",
       "    </tr>\n",
       "  </tbody>\n",
       "</table>\n",
       "</div>"
      ],
      "text/plain": [
       "Occupation  Acting, Comedy & Music  Government and Politics    Media     Other\n",
       "Year                                                                          \n",
       "2000                      0.739645                  0.08284  0.12426  0.053254"
      "metadata": {
        "id": "z05X0P6HT3Iq",
        "colab_type": "code",
        "outputId": "6c9758ae-059b-4017-e070-d6178fc035ea",
        "colab": {
          "base_uri": "https://localhost:8080/",
          "height": 108
        }
      },
      "cell_type": "code",
      "source": [
        "year01=df[df.Year==2001]\n",
        "chart01=pd.crosstab(year01.Year,year01.Occupation,normalize='index')\n",
        "chart01"
      ],
      "execution_count": 0,
      "outputs": [
        {
          "output_type": "execute_result",
          "data": {
            "text/html": [
              "<div>\n",
              "<style scoped>\n",
              "    .dataframe tbody tr th:only-of-type {\n",
              "        vertical-align: middle;\n",
              "    }\n",
              "\n",
              "    .dataframe tbody tr th {\n",
              "        vertical-align: top;\n",
              "    }\n",
              "\n",
              "    .dataframe thead th {\n",
              "        text-align: right;\n",
              "    }\n",
              "</style>\n",
              "<table border=\"1\" class=\"dataframe\">\n",
              "  <thead>\n",
              "    <tr style=\"text-align: right;\">\n",
              "      <th>Occupation</th>\n",
              "      <th>Acting, Comedy &amp; Music</th>\n",
              "      <th>Government and Politics</th>\n",
              "      <th>Media</th>\n",
              "      <th>Other</th>\n",
              "    </tr>\n",
              "    <tr>\n",
              "      <th>Year</th>\n",
              "      <th></th>\n",
              "      <th></th>\n",
              "      <th></th>\n",
              "      <th></th>\n",
              "    </tr>\n",
              "  </thead>\n",
              "  <tbody>\n",
              "    <tr>\n",
              "      <th>2001</th>\n",
              "      <td>0.726115</td>\n",
              "      <td>0.038217</td>\n",
              "      <td>0.197452</td>\n",
              "      <td>0.038217</td>\n",
              "    </tr>\n",
              "  </tbody>\n",
              "</table>\n",
              "</div>"
            ],
            "text/plain": [
              "Occupation  Acting, Comedy & Music  Government and Politics     Media  \\\n",
              "Year                                                                    \n",
              "2001                      0.726115                 0.038217  0.197452   \n",
              "\n",
              "Occupation     Other  \n",
              "Year                  \n",
              "2001        0.038217  "
            ]
          },
          "metadata": {
            "tags": []
          },
          "execution_count": 6
        }
      ]
     },
     "execution_count": 4,
     "metadata": {
      "tags": []
     },
     "output_type": "execute_result"
    }
   ],
   "source": [
    "year00=df[df.Year==2000]\n",
    "chart00= pd.crosstab(year00.Year,year00.Occupation,normalize= 'index')\n",
    "chart00"
   ]
  },
  {
   "cell_type": "code",
   "execution_count": 5,
   "metadata": {
    "colab": {
     "base_uri": "https://localhost:8080/",
     "height": 108
    },
    "colab_type": "code",
    "id": "z05X0P6HT3Iq",
    "outputId": "645f7c3a-b84a-47dd-890f-0adf858849d7"
   },
   "outputs": [
    {
     "data": {
      "text/html": [
       "<div>\n",
       "<style scoped>\n",
       "    .dataframe tbody tr th:only-of-type {\n",
       "        vertical-align: middle;\n",
       "    }\n",
       "\n",
       "    .dataframe tbody tr th {\n",
       "        vertical-align: top;\n",
       "    }\n",
       "\n",
       "    .dataframe thead th {\n",
       "        text-align: right;\n",
       "    }\n",
       "</style>\n",
       "<table border=\"1\" class=\"dataframe\">\n",
       "  <thead>\n",
       "    <tr style=\"text-align: right;\">\n",
       "      <th>Occupation</th>\n",
       "      <th>Acting, Comedy &amp; Music</th>\n",
       "      <th>Government and Politics</th>\n",
       "      <th>Media</th>\n",
       "      <th>Other</th>\n",
       "    </tr>\n",
       "    <tr>\n",
       "      <th>Year</th>\n",
       "      <th></th>\n",
       "      <th></th>\n",
       "      <th></th>\n",
       "      <th></th>\n",
       "    </tr>\n",
       "  </thead>\n",
       "  <tbody>\n",
       "    <tr>\n",
       "      <th>2001</th>\n",
       "      <td>0.726115</td>\n",
       "      <td>0.038217</td>\n",
       "      <td>0.197452</td>\n",
       "      <td>0.038217</td>\n",
       "    </tr>\n",
       "  </tbody>\n",
       "</table>\n",
       "</div>"
      ],
      "text/plain": [
       "Occupation  Acting, Comedy & Music  Government and Politics     Media  \\\n",
       "Year                                                                    \n",
       "2001                      0.726115                 0.038217  0.197452   \n",
       "\n",
       "Occupation     Other  \n",
       "Year                  \n",
       "2001        0.038217  "
      "metadata": {
        "id": "CegmO2WoUZfN",
        "colab_type": "code",
        "outputId": "1d09672d-45d7-43cf-8d02-64c4837a516a",
        "colab": {
          "base_uri": "https://localhost:8080/",
          "height": 108
        }
      },
      "cell_type": "code",
      "source": [
        "year02=df[df.Year==2002]\n",
        "chart02=pd.crosstab(year02.Year,year02.Occupation,normalize= 'index')\n",
        "chart02"
      ],
      "execution_count": 0,
      "outputs": [
        {
          "output_type": "execute_result",
          "data": {
            "text/html": [
              "<div>\n",
              "<style scoped>\n",
              "    .dataframe tbody tr th:only-of-type {\n",
              "        vertical-align: middle;\n",
              "    }\n",
              "\n",
              "    .dataframe tbody tr th {\n",
              "        vertical-align: top;\n",
              "    }\n",
              "\n",
              "    .dataframe thead th {\n",
              "        text-align: right;\n",
              "    }\n",
              "</style>\n",
              "<table border=\"1\" class=\"dataframe\">\n",
              "  <thead>\n",
              "    <tr style=\"text-align: right;\">\n",
              "      <th>Occupation</th>\n",
              "      <th>Acting, Comedy &amp; Music</th>\n",
              "      <th>Government and Politics</th>\n",
              "      <th>Media</th>\n",
              "      <th>Other</th>\n",
              "    </tr>\n",
              "    <tr>\n",
              "      <th>Year</th>\n",
              "      <th></th>\n",
              "      <th></th>\n",
              "      <th></th>\n",
              "      <th></th>\n",
              "    </tr>\n",
              "  </thead>\n",
              "  <tbody>\n",
              "    <tr>\n",
              "      <th>2002</th>\n",
              "      <td>0.622642</td>\n",
              "      <td>0.069182</td>\n",
              "      <td>0.264151</td>\n",
              "      <td>0.044025</td>\n",
              "    </tr>\n",
              "  </tbody>\n",
              "</table>\n",
              "</div>"
            ],
            "text/plain": [
              "Occupation  Acting, Comedy & Music  Government and Politics     Media  \\\n",
              "Year                                                                    \n",
              "2002                      0.622642                 0.069182  0.264151   \n",
              "\n",
              "Occupation     Other  \n",
              "Year                  \n",
              "2002        0.044025  "
            ]
          },
          "metadata": {
            "tags": []
          },
          "execution_count": 7
        }
      ]
     },
     "execution_count": 5,
     "metadata": {
      "tags": []
     },
     "output_type": "execute_result"
    }
   ],
   "source": [
    "year01=df[df.Year==2001]\n",
    "chart01=pd.crosstab(year01.Year,year01.Occupation,normalize='index')\n",
    "chart01"
   ]
  },
  {
   "cell_type": "code",
   "execution_count": 6,
   "metadata": {
    "colab": {
     "base_uri": "https://localhost:8080/",
     "height": 108
    },
    "colab_type": "code",
    "id": "CegmO2WoUZfN",
    "outputId": "ae664bef-fc8f-403f-d250-d451fee59ec5"
   },
   "outputs": [
    {
     "data": {
      "text/html": [
       "<div>\n",
       "<style scoped>\n",
       "    .dataframe tbody tr th:only-of-type {\n",
       "        vertical-align: middle;\n",
       "    }\n",
       "\n",
       "    .dataframe tbody tr th {\n",
       "        vertical-align: top;\n",
       "    }\n",
       "\n",
       "    .dataframe thead th {\n",
       "        text-align: right;\n",
       "    }\n",
       "</style>\n",
       "<table border=\"1\" class=\"dataframe\">\n",
       "  <thead>\n",
       "    <tr style=\"text-align: right;\">\n",
       "      <th>Occupation</th>\n",
       "      <th>Acting, Comedy &amp; Music</th>\n",
       "      <th>Government and Politics</th>\n",
       "      <th>Media</th>\n",
       "      <th>Other</th>\n",
       "    </tr>\n",
       "    <tr>\n",
       "      <th>Year</th>\n",
       "      <th></th>\n",
       "      <th></th>\n",
       "      <th></th>\n",
       "      <th></th>\n",
       "    </tr>\n",
       "  </thead>\n",
       "  <tbody>\n",
       "    <tr>\n",
       "      <th>2002</th>\n",
       "      <td>0.622642</td>\n",
       "      <td>0.069182</td>\n",
       "      <td>0.264151</td>\n",
       "      <td>0.044025</td>\n",
       "    </tr>\n",
       "  </tbody>\n",
       "</table>\n",
       "</div>"
      ],
      "text/plain": [
       "Occupation  Acting, Comedy & Music  Government and Politics     Media  \\\n",
       "Year                                                                    \n",
       "2002                      0.622642                 0.069182  0.264151   \n",
       "\n",
       "Occupation     Other  \n",
       "Year                  \n",
       "2002        0.044025  "
      "metadata": {
        "id": "r_lOsN5hU5oZ",
        "colab_type": "code",
        "outputId": "722f225e-7eff-4cba-de61-da325b285a5a",
        "colab": {
          "base_uri": "https://localhost:8080/",
          "height": 108
        }
      },
      "cell_type": "code",
      "source": [
        "year03=df[df.Year==2003]\n",
        "chart03=pd.crosstab(year03.Year,year03.Occupation,normalize= 'index')\n",
        "chart03"
      ],
      "execution_count": 0,
      "outputs": [
        {
          "output_type": "execute_result",
          "data": {
            "text/html": [
              "<div>\n",
              "<style scoped>\n",
              "    .dataframe tbody tr th:only-of-type {\n",
              "        vertical-align: middle;\n",
              "    }\n",
              "\n",
              "    .dataframe tbody tr th {\n",
              "        vertical-align: top;\n",
              "    }\n",
              "\n",
              "    .dataframe thead th {\n",
              "        text-align: right;\n",
              "    }\n",
              "</style>\n",
              "<table border=\"1\" class=\"dataframe\">\n",
              "  <thead>\n",
              "    <tr style=\"text-align: right;\">\n",
              "      <th>Occupation</th>\n",
              "      <th>Acting, Comedy &amp; Music</th>\n",
              "      <th>Government and Politics</th>\n",
              "      <th>Media</th>\n",
              "      <th>Other</th>\n",
              "    </tr>\n",
              "    <tr>\n",
              "      <th>Year</th>\n",
              "      <th></th>\n",
              "      <th></th>\n",
              "      <th></th>\n",
              "      <th></th>\n",
              "    </tr>\n",
              "  </thead>\n",
              "  <tbody>\n",
              "    <tr>\n",
              "      <th>2003</th>\n",
              "      <td>0.560241</td>\n",
              "      <td>0.10241</td>\n",
              "      <td>0.246988</td>\n",
              "      <td>0.090361</td>\n",
              "    </tr>\n",
              "  </tbody>\n",
              "</table>\n",
              "</div>"
            ],
            "text/plain": [
              "Occupation  Acting, Comedy & Music  Government and Politics     Media  \\\n",
              "Year                                                                    \n",
              "2003                      0.560241                  0.10241  0.246988   \n",
              "\n",
              "Occupation     Other  \n",
              "Year                  \n",
              "2003        0.090361  "
            ]
          },
          "metadata": {
            "tags": []
          },
          "execution_count": 8
        }
      ]
     },
     "execution_count": 6,
     "metadata": {
      "tags": []
     },
     "output_type": "execute_result"
    }
   ],
   "source": [
    "year02=df[df.Year==2002]\n",
    "chart02=pd.crosstab(year02.Year,year02.Occupation,normalize= 'index')\n",
    "chart02"
   ]
  },
  {
   "cell_type": "code",
   "execution_count": 7,
   "metadata": {
    "colab": {
     "base_uri": "https://localhost:8080/",
     "height": 108
    },
    "colab_type": "code",
    "id": "r_lOsN5hU5oZ",
    "outputId": "851c6722-019a-4a96-cb37-77bf5afad742"
   },
   "outputs": [
    {
     "data": {
      "text/html": [
       "<div>\n",
       "<style scoped>\n",
       "    .dataframe tbody tr th:only-of-type {\n",
       "        vertical-align: middle;\n",
       "    }\n",
       "\n",
       "    .dataframe tbody tr th {\n",
       "        vertical-align: top;\n",
       "    }\n",
       "\n",
       "    .dataframe thead th {\n",
       "        text-align: right;\n",
       "    }\n",
       "</style>\n",
       "<table border=\"1\" class=\"dataframe\">\n",
       "  <thead>\n",
       "    <tr style=\"text-align: right;\">\n",
       "      <th>Occupation</th>\n",
       "      <th>Acting, Comedy &amp; Music</th>\n",
       "      <th>Government and Politics</th>\n",
       "      <th>Media</th>\n",
       "      <th>Other</th>\n",
       "    </tr>\n",
       "    <tr>\n",
       "      <th>Year</th>\n",
       "      <th></th>\n",
       "      <th></th>\n",
       "      <th></th>\n",
       "      <th></th>\n",
       "    </tr>\n",
       "  </thead>\n",
       "  <tbody>\n",
       "    <tr>\n",
       "      <th>2003</th>\n",
       "      <td>0.560241</td>\n",
       "      <td>0.10241</td>\n",
       "      <td>0.246988</td>\n",
       "      <td>0.090361</td>\n",
       "    </tr>\n",
       "  </tbody>\n",
       "</table>\n",
       "</div>"
      ],
      "text/plain": [
       "Occupation  Acting, Comedy & Music  Government and Politics     Media  \\\n",
       "Year                                                                    \n",
       "2003                      0.560241                  0.10241  0.246988   \n",
       "\n",
       "Occupation     Other  \n",
       "Year                  \n",
       "2003        0.090361  "
      "metadata": {
        "id": "99N_xFF7X3th",
        "colab_type": "code",
        "outputId": "03b8f9b4-6b54-487d-e8b8-8ddf401369dd",
        "colab": {
          "base_uri": "https://localhost:8080/",
          "height": 108
        }
      },
      "cell_type": "code",
      "source": [
        "year04=df[df.Year==2004]\n",
        "chart04=pd.crosstab(year04.Year,year04.Occupation,normalize= 'index')\n",
        "chart04"
      ],
      "execution_count": 0,
      "outputs": [
        {
          "output_type": "execute_result",
          "data": {
            "text/html": [
              "<div>\n",
              "<style scoped>\n",
              "    .dataframe tbody tr th:only-of-type {\n",
              "        vertical-align: middle;\n",
              "    }\n",
              "\n",
              "    .dataframe tbody tr th {\n",
              "        vertical-align: top;\n",
              "    }\n",
              "\n",
              "    .dataframe thead th {\n",
              "        text-align: right;\n",
              "    }\n",
              "</style>\n",
              "<table border=\"1\" class=\"dataframe\">\n",
              "  <thead>\n",
              "    <tr style=\"text-align: right;\">\n",
              "      <th>Occupation</th>\n",
              "      <th>Acting, Comedy &amp; Music</th>\n",
              "      <th>Government and Politics</th>\n",
              "      <th>Media</th>\n",
              "      <th>Other</th>\n",
              "    </tr>\n",
              "    <tr>\n",
              "      <th>Year</th>\n",
              "      <th></th>\n",
              "      <th></th>\n",
              "      <th></th>\n",
              "      <th></th>\n",
              "    </tr>\n",
              "  </thead>\n",
              "  <tbody>\n",
              "    <tr>\n",
              "      <th>2004</th>\n",
              "      <td>0.384146</td>\n",
              "      <td>0.22561</td>\n",
              "      <td>0.27439</td>\n",
              "      <td>0.115854</td>\n",
              "    </tr>\n",
              "  </tbody>\n",
              "</table>\n",
              "</div>"
            ],
            "text/plain": [
              "Occupation  Acting, Comedy & Music  Government and Politics    Media     Other\n",
              "Year                                                                          \n",
              "2004                      0.384146                  0.22561  0.27439  0.115854"
            ]
          },
          "metadata": {
            "tags": []
          },
          "execution_count": 9
        }
      ]
     },
     "execution_count": 7,
     "metadata": {
      "tags": []
     },
     "output_type": "execute_result"
    }
   ],
   "source": [
    "year03=df[df.Year==2003]\n",
    "chart03=pd.crosstab(year03.Year,year03.Occupation,normalize= 'index')\n",
    "chart03"
   ]
  },
  {
   "cell_type": "code",
   "execution_count": 8,
   "metadata": {
    "colab": {
     "base_uri": "https://localhost:8080/",
     "height": 108
    },
    "colab_type": "code",
    "id": "99N_xFF7X3th",
    "outputId": "f1571f74-84e1-41dc-8b74-500c5cdd164a"
   },
   "outputs": [
    {
     "data": {
      "text/html": [
       "<div>\n",
       "<style scoped>\n",
       "    .dataframe tbody tr th:only-of-type {\n",
       "        vertical-align: middle;\n",
       "    }\n",
       "\n",
       "    .dataframe tbody tr th {\n",
       "        vertical-align: top;\n",
       "    }\n",
       "\n",
       "    .dataframe thead th {\n",
       "        text-align: right;\n",
       "    }\n",
       "</style>\n",
       "<table border=\"1\" class=\"dataframe\">\n",
       "  <thead>\n",
       "    <tr style=\"text-align: right;\">\n",
       "      <th>Occupation</th>\n",
       "      <th>Acting, Comedy &amp; Music</th>\n",
       "      <th>Government and Politics</th>\n",
       "      <th>Media</th>\n",
       "      <th>Other</th>\n",
       "    </tr>\n",
       "    <tr>\n",
       "      <th>Year</th>\n",
       "      <th></th>\n",
       "      <th></th>\n",
       "      <th></th>\n",
       "      <th></th>\n",
       "    </tr>\n",
       "  </thead>\n",
       "  <tbody>\n",
       "    <tr>\n",
       "      <th>2004</th>\n",
       "      <td>0.384146</td>\n",
       "      <td>0.22561</td>\n",
       "      <td>0.27439</td>\n",
       "      <td>0.115854</td>\n",
       "    </tr>\n",
       "  </tbody>\n",
       "</table>\n",
       "</div>"
      ],
      "text/plain": [
       "Occupation  Acting, Comedy & Music  Government and Politics    Media     Other\n",
       "Year                                                                          \n",
       "2004                      0.384146                  0.22561  0.27439  0.115854"
      "metadata": {
        "id": "Q7BYPRiJYBk1",
        "colab_type": "code",
        "outputId": "a60b3174-5ef4-4e0e-f54a-612dfb877147",
        "colab": {
          "base_uri": "https://localhost:8080/",
          "height": 108
        }
      },
      "cell_type": "code",
      "source": [
        "year05=df[df.Year==2005]\n",
        "chart05=pd.crosstab(year05.Year,year05.Occupation,normalize= 'index')\n",
        "chart05"
      ],
      "execution_count": 0,
      "outputs": [
        {
          "output_type": "execute_result",
          "data": {
            "text/html": [
              "<div>\n",
              "<style scoped>\n",
              "    .dataframe tbody tr th:only-of-type {\n",
              "        vertical-align: middle;\n",
              "    }\n",
              "\n",
              "    .dataframe tbody tr th {\n",
              "        vertical-align: top;\n",
              "    }\n",
              "\n",
              "    .dataframe thead th {\n",
              "        text-align: right;\n",
              "    }\n",
              "</style>\n",
              "<table border=\"1\" class=\"dataframe\">\n",
              "  <thead>\n",
              "    <tr style=\"text-align: right;\">\n",
              "      <th>Occupation</th>\n",
              "      <th>Acting, Comedy &amp; Music</th>\n",
              "      <th>Government and Politics</th>\n",
              "      <th>Media</th>\n",
              "      <th>Other</th>\n",
              "    </tr>\n",
              "    <tr>\n",
              "      <th>Year</th>\n",
              "      <th></th>\n",
              "      <th></th>\n",
              "      <th></th>\n",
              "      <th></th>\n",
              "    </tr>\n",
              "  </thead>\n",
              "  <tbody>\n",
              "    <tr>\n",
              "      <th>2005</th>\n",
              "      <td>0.37037</td>\n",
              "      <td>0.160494</td>\n",
              "      <td>0.333333</td>\n",
              "      <td>0.135802</td>\n",
              "    </tr>\n",
              "  </tbody>\n",
              "</table>\n",
              "</div>"
            ],
            "text/plain": [
              "Occupation  Acting, Comedy & Music  Government and Politics     Media  \\\n",
              "Year                                                                    \n",
              "2005                       0.37037                 0.160494  0.333333   \n",
              "\n",
              "Occupation     Other  \n",
              "Year                  \n",
              "2005        0.135802  "
            ]
          },
          "metadata": {
            "tags": []
          },
          "execution_count": 10
        }
      ]
     },
     "execution_count": 8,
     "metadata": {
      "tags": []
     },
     "output_type": "execute_result"
    }
   ],
   "source": [
    "year04=df[df.Year==2004]\n",
    "chart04=pd.crosstab(year04.Year,year04.Occupation,normalize= 'index')\n",
    "chart04"
   ]
  },
  {
   "cell_type": "code",
   "execution_count": 9,
   "metadata": {
    "colab": {
     "base_uri": "https://localhost:8080/",
     "height": 108
    },
    "colab_type": "code",
    "id": "Q7BYPRiJYBk1",
    "outputId": "1fd43611-9103-4690-d657-6962cef00f16"
   },
   "outputs": [
    {
     "data": {
      "text/html": [
       "<div>\n",
       "<style scoped>\n",
       "    .dataframe tbody tr th:only-of-type {\n",
       "        vertical-align: middle;\n",
       "    }\n",
       "\n",
       "    .dataframe tbody tr th {\n",
       "        vertical-align: top;\n",
       "    }\n",
       "\n",
       "    .dataframe thead th {\n",
       "        text-align: right;\n",
       "    }\n",
       "</style>\n",
       "<table border=\"1\" class=\"dataframe\">\n",
       "  <thead>\n",
       "    <tr style=\"text-align: right;\">\n",
       "      <th>Occupation</th>\n",
       "      <th>Acting, Comedy &amp; Music</th>\n",
       "      <th>Government and Politics</th>\n",
       "      <th>Media</th>\n",
       "      <th>Other</th>\n",
       "    </tr>\n",
       "    <tr>\n",
       "      <th>Year</th>\n",
       "      <th></th>\n",
       "      <th></th>\n",
       "      <th></th>\n",
       "      <th></th>\n",
       "    </tr>\n",
       "  </thead>\n",
       "  <tbody>\n",
       "    <tr>\n",
       "      <th>2005</th>\n",
       "      <td>0.37037</td>\n",
       "      <td>0.160494</td>\n",
       "      <td>0.333333</td>\n",
       "      <td>0.135802</td>\n",
       "    </tr>\n",
       "  </tbody>\n",
       "</table>\n",
       "</div>"
      ],
      "text/plain": [
       "Occupation  Acting, Comedy & Music  Government and Politics     Media  \\\n",
       "Year                                                                    \n",
       "2005                       0.37037                 0.160494  0.333333   \n",
       "\n",
       "Occupation     Other  \n",
       "Year                  \n",
       "2005        0.135802  "
      "metadata": {
        "id": "_BeOLyaiYNNt",
        "colab_type": "code",
        "outputId": "9efebf05-c787-49f8-8b8e-58fe6af5f4e1",
        "colab": {
          "base_uri": "https://localhost:8080/",
          "height": 108
        }
      },
      "cell_type": "code",
      "source": [
        "year06=df[df.Year==2006]\n",
        "chart06=pd.crosstab(year06.Year,year06.Occupation,normalize= 'index')\n",
        "chart06"
      ],
      "execution_count": 0,
      "outputs": [
        {
          "output_type": "execute_result",
          "data": {
            "text/html": [
              "<div>\n",
              "<style scoped>\n",
              "    .dataframe tbody tr th:only-of-type {\n",
              "        vertical-align: middle;\n",
              "    }\n",
              "\n",
              "    .dataframe tbody tr th {\n",
              "        vertical-align: top;\n",
              "    }\n",
              "\n",
              "    .dataframe thead th {\n",
              "        text-align: right;\n",
              "    }\n",
              "</style>\n",
              "<table border=\"1\" class=\"dataframe\">\n",
              "  <thead>\n",
              "    <tr style=\"text-align: right;\">\n",
              "      <th>Occupation</th>\n",
              "      <th>Acting, Comedy &amp; Music</th>\n",
              "      <th>Government and Politics</th>\n",
              "      <th>Media</th>\n",
              "      <th>Other</th>\n",
              "    </tr>\n",
              "    <tr>\n",
              "      <th>Year</th>\n",
              "      <th></th>\n",
              "      <th></th>\n",
              "      <th></th>\n",
              "      <th></th>\n",
              "    </tr>\n",
              "  </thead>\n",
              "  <tbody>\n",
              "    <tr>\n",
              "      <th>2006</th>\n",
              "      <td>0.360248</td>\n",
              "      <td>0.192547</td>\n",
              "      <td>0.291925</td>\n",
              "      <td>0.15528</td>\n",
              "    </tr>\n",
              "  </tbody>\n",
              "</table>\n",
              "</div>"
            ],
            "text/plain": [
              "Occupation  Acting, Comedy & Music  Government and Politics     Media    Other\n",
              "Year                                                                          \n",
              "2006                      0.360248                 0.192547  0.291925  0.15528"
            ]
          },
          "metadata": {
            "tags": []
          },
          "execution_count": 11
        }
      ]
     },
     "execution_count": 9,
     "metadata": {
      "tags": []
     },
     "output_type": "execute_result"
    }
   ],
   "source": [
    "year05=df[df.Year==2005]\n",
    "chart05=pd.crosstab(year05.Year,year05.Occupation,normalize= 'index')\n",
    "chart05"
   ]
  },
  {
   "cell_type": "code",
   "execution_count": 10,
   "metadata": {
    "colab": {
     "base_uri": "https://localhost:8080/",
     "height": 108
    },
    "colab_type": "code",
    "id": "_BeOLyaiYNNt",
    "outputId": "78cc6ea0-7e7f-4753-cdfe-deb86901a992"
   },
   "outputs": [
    {
     "data": {
      "text/html": [
       "<div>\n",
       "<style scoped>\n",
       "    .dataframe tbody tr th:only-of-type {\n",
       "        vertical-align: middle;\n",
       "    }\n",
       "\n",
       "    .dataframe tbody tr th {\n",
       "        vertical-align: top;\n",
       "    }\n",
       "\n",
       "    .dataframe thead th {\n",
       "        text-align: right;\n",
       "    }\n",
       "</style>\n",
       "<table border=\"1\" class=\"dataframe\">\n",
       "  <thead>\n",
       "    <tr style=\"text-align: right;\">\n",
       "      <th>Occupation</th>\n",
       "      <th>Acting, Comedy &amp; Music</th>\n",
       "      <th>Government and Politics</th>\n",
       "      <th>Media</th>\n",
       "      <th>Other</th>\n",
       "    </tr>\n",
       "    <tr>\n",
       "      <th>Year</th>\n",
       "      <th></th>\n",
       "      <th></th>\n",
       "      <th></th>\n",
       "      <th></th>\n",
       "    </tr>\n",
       "  </thead>\n",
       "  <tbody>\n",
       "    <tr>\n",
       "      <th>2006</th>\n",
       "      <td>0.360248</td>\n",
       "      <td>0.192547</td>\n",
       "      <td>0.291925</td>\n",
       "      <td>0.15528</td>\n",
       "    </tr>\n",
       "  </tbody>\n",
       "</table>\n",
       "</div>"
      ],
      "text/plain": [
       "Occupation  Acting, Comedy & Music  Government and Politics     Media    Other\n",
       "Year                                                                          \n",
       "2006                      0.360248                 0.192547  0.291925  0.15528"
      "metadata": {
        "id": "yDqVpSO2YcG8",
        "colab_type": "code",
        "outputId": "fc0efb93-494f-4f94-fc58-ea63aa091405",
        "colab": {
          "base_uri": "https://localhost:8080/",
          "height": 108
        }
      },
      "cell_type": "code",
      "source": [
        "year07=df[df.Year==2007]\n",
        "chart07=pd.crosstab(year07.Year,year07.Occupation,normalize= 'index')\n",
        "chart07"
      ],
      "execution_count": 0,
      "outputs": [
        {
          "output_type": "execute_result",
          "data": {
            "text/html": [
              "<div>\n",
              "<style scoped>\n",
              "    .dataframe tbody tr th:only-of-type {\n",
              "        vertical-align: middle;\n",
              "    }\n",
              "\n",
              "    .dataframe tbody tr th {\n",
              "        vertical-align: top;\n",
              "    }\n",
              "\n",
              "    .dataframe thead th {\n",
              "        text-align: right;\n",
              "    }\n",
              "</style>\n",
              "<table border=\"1\" class=\"dataframe\">\n",
              "  <thead>\n",
              "    <tr style=\"text-align: right;\">\n",
              "      <th>Occupation</th>\n",
              "      <th>Acting, Comedy &amp; Music</th>\n",
              "      <th>Government and Politics</th>\n",
              "      <th>Media</th>\n",
              "      <th>Other</th>\n",
              "    </tr>\n",
              "    <tr>\n",
              "      <th>Year</th>\n",
              "      <th></th>\n",
              "      <th></th>\n",
              "      <th></th>\n",
              "      <th></th>\n",
              "    </tr>\n",
              "  </thead>\n",
              "  <tbody>\n",
              "    <tr>\n",
              "      <th>2007</th>\n",
              "      <td>0.255319</td>\n",
              "      <td>0.170213</td>\n",
              "      <td>0.333333</td>\n",
              "      <td>0.241135</td>\n",
              "    </tr>\n",
              "  </tbody>\n",
              "</table>\n",
              "</div>"
            ],
            "text/plain": [
              "Occupation  Acting, Comedy & Music  Government and Politics     Media  \\\n",
              "Year                                                                    \n",
              "2007                      0.255319                 0.170213  0.333333   \n",
              "\n",
              "Occupation     Other  \n",
              "Year                  \n",
              "2007        0.241135  "
            ]
          },
          "metadata": {
            "tags": []
          },
          "execution_count": 12
        }
      ]
    },
    {
      "metadata": {
        "id": "PlkN4dNHYlhq",
        "colab_type": "code",
        "outputId": "fd8fd333-8f94-41c6-cb64-c9f62856c433",
        "colab": {
          "base_uri": "https://localhost:8080/",
          "height": 108
        }
      },
      "cell_type": "code",
      "source": [
        "year08=df[df.Year==2008]\n",
        "chart08=pd.crosstab(year08.Year,year08.Occupation,normalize= 'index')\n",
        "chart08"
      ],
      "execution_count": 0,
      "outputs": [
        {
          "output_type": "execute_result",
          "data": {
            "text/html": [
              "<div>\n",
              "<style scoped>\n",
              "    .dataframe tbody tr th:only-of-type {\n",
              "        vertical-align: middle;\n",
              "    }\n",
              "\n",
              "    .dataframe tbody tr th {\n",
              "        vertical-align: top;\n",
              "    }\n",
              "\n",
              "    .dataframe thead th {\n",
              "        text-align: right;\n",
              "    }\n",
              "</style>\n",
              "<table border=\"1\" class=\"dataframe\">\n",
              "  <thead>\n",
              "    <tr style=\"text-align: right;\">\n",
              "      <th>Occupation</th>\n",
              "      <th>Acting, Comedy &amp; Music</th>\n",
              "      <th>Government and Politics</th>\n",
              "      <th>Media</th>\n",
              "      <th>Other</th>\n",
              "    </tr>\n",
              "    <tr>\n",
              "      <th>Year</th>\n",
              "      <th></th>\n",
              "      <th></th>\n",
              "      <th></th>\n",
              "      <th></th>\n",
              "    </tr>\n",
              "  </thead>\n",
              "  <tbody>\n",
              "    <tr>\n",
              "      <th>2008</th>\n",
              "      <td>0.207317</td>\n",
              "      <td>0.20122</td>\n",
              "      <td>0.469512</td>\n",
              "      <td>0.121951</td>\n",
              "    </tr>\n",
              "  </tbody>\n",
              "</table>\n",
              "</div>"
            ],
            "text/plain": [
              "Occupation  Acting, Comedy & Music  Government and Politics     Media  \\\n",
              "Year                                                                    \n",
              "2008                      0.207317                  0.20122  0.469512   \n",
              "\n",
              "Occupation     Other  \n",
              "Year                  \n",
              "2008        0.121951  "
            ]
          },
          "metadata": {
            "tags": []
          },
          "execution_count": 13
        }
      ]
     },
     "execution_count": 10,
     "metadata": {
      "tags": []
     },
     "output_type": "execute_result"
    }
   ],
   "source": [
    "year06=df[df.Year==2006]\n",
    "chart06=pd.crosstab(year06.Year,year06.Occupation,normalize= 'index')\n",
    "chart06"
   ]
  },
  {
   "cell_type": "code",
   "execution_count": 11,
   "metadata": {
    "colab": {
     "base_uri": "https://localhost:8080/",
     "height": 108
    },
    "colab_type": "code",
    "id": "yDqVpSO2YcG8",
    "outputId": "d2b322eb-8e43-4849-e792-35865c0277e6"
   },
   "outputs": [
    {
     "data": {
      "text/html": [
       "<div>\n",
       "<style scoped>\n",
       "    .dataframe tbody tr th:only-of-type {\n",
       "        vertical-align: middle;\n",
       "    }\n",
       "\n",
       "    .dataframe tbody tr th {\n",
       "        vertical-align: top;\n",
       "    }\n",
       "\n",
       "    .dataframe thead th {\n",
       "        text-align: right;\n",
       "    }\n",
       "</style>\n",
       "<table border=\"1\" class=\"dataframe\">\n",
       "  <thead>\n",
       "    <tr style=\"text-align: right;\">\n",
       "      <th>Occupation</th>\n",
       "      <th>Acting, Comedy &amp; Music</th>\n",
       "      <th>Government and Politics</th>\n",
       "      <th>Media</th>\n",
       "      <th>Other</th>\n",
       "    </tr>\n",
       "    <tr>\n",
       "      <th>Year</th>\n",
       "      <th></th>\n",
       "      <th></th>\n",
       "      <th></th>\n",
       "      <th></th>\n",
       "    </tr>\n",
       "  </thead>\n",
       "  <tbody>\n",
       "    <tr>\n",
       "      <th>2007</th>\n",
       "      <td>0.255319</td>\n",
       "      <td>0.170213</td>\n",
       "      <td>0.333333</td>\n",
       "      <td>0.241135</td>\n",
       "    </tr>\n",
       "  </tbody>\n",
       "</table>\n",
       "</div>"
      ],
      "text/plain": [
       "Occupation  Acting, Comedy & Music  Government and Politics     Media  \\\n",
       "Year                                                                    \n",
       "2007                      0.255319                 0.170213  0.333333   \n",
       "\n",
       "Occupation     Other  \n",
       "Year                  \n",
       "2007        0.241135  "
      "metadata": {
        "id": "8RSu16QKYxaW",
        "colab_type": "code",
        "outputId": "670c4a4b-962e-4578-fe9e-321f775541be",
        "colab": {
          "base_uri": "https://localhost:8080/",
          "height": 108
        }
      },
      "cell_type": "code",
      "source": [
        "year09=df[df.Year==2009]\n",
        "chart09=pd.crosstab(year09.Year,year09.Occupation,normalize= 'index')\n",
        "chart09"
      ],
      "execution_count": 0,
      "outputs": [
        {
          "output_type": "execute_result",
          "data": {
            "text/html": [
              "<div>\n",
              "<style scoped>\n",
              "    .dataframe tbody tr th:only-of-type {\n",
              "        vertical-align: middle;\n",
              "    }\n",
              "\n",
              "    .dataframe tbody tr th {\n",
              "        vertical-align: top;\n",
              "    }\n",
              "\n",
              "    .dataframe thead th {\n",
              "        text-align: right;\n",
              "    }\n",
              "</style>\n",
              "<table border=\"1\" class=\"dataframe\">\n",
              "  <thead>\n",
              "    <tr style=\"text-align: right;\">\n",
              "      <th>Occupation</th>\n",
              "      <th>Acting, Comedy &amp; Music</th>\n",
              "      <th>Government and Politics</th>\n",
              "      <th>Media</th>\n",
              "      <th>Other</th>\n",
              "    </tr>\n",
              "    <tr>\n",
              "      <th>Year</th>\n",
              "      <th></th>\n",
              "      <th></th>\n",
              "      <th></th>\n",
              "      <th></th>\n",
              "    </tr>\n",
              "  </thead>\n",
              "  <tbody>\n",
              "    <tr>\n",
              "      <th>2009</th>\n",
              "      <td>0.208589</td>\n",
              "      <td>0.208589</td>\n",
              "      <td>0.361963</td>\n",
              "      <td>0.220859</td>\n",
              "    </tr>\n",
              "  </tbody>\n",
              "</table>\n",
              "</div>"
            ],
            "text/plain": [
              "Occupation  Acting, Comedy & Music  Government and Politics     Media  \\\n",
              "Year                                                                    \n",
              "2009                      0.208589                 0.208589  0.361963   \n",
              "\n",
              "Occupation     Other  \n",
              "Year                  \n",
              "2009        0.220859  "
            ]
          },
          "metadata": {
            "tags": []
          },
          "execution_count": 14
        }
      ]
     },
     "execution_count": 11,
     "metadata": {
      "tags": []
     },
     "output_type": "execute_result"
    }
   ],
   "source": [
    "year07=df[df.Year==2007]\n",
    "chart07=pd.crosstab(year07.Year,year07.Occupation,normalize= 'index')\n",
    "chart07"
   ]
  },
  {
   "cell_type": "code",
   "execution_count": 12,
   "metadata": {
    "colab": {
     "base_uri": "https://localhost:8080/",
     "height": 108
    },
    "colab_type": "code",
    "id": "PlkN4dNHYlhq",
    "outputId": "c2c7f963-6d93-4b22-f5fa-d78c2a68f4f0"
   },
   "outputs": [
    {
     "data": {
      "text/html": [
       "<div>\n",
       "<style scoped>\n",
       "    .dataframe tbody tr th:only-of-type {\n",
       "        vertical-align: middle;\n",
       "    }\n",
       "\n",
       "    .dataframe tbody tr th {\n",
       "        vertical-align: top;\n",
       "    }\n",
       "\n",
       "    .dataframe thead th {\n",
       "        text-align: right;\n",
       "    }\n",
       "</style>\n",
       "<table border=\"1\" class=\"dataframe\">\n",
       "  <thead>\n",
       "    <tr style=\"text-align: right;\">\n",
       "      <th>Occupation</th>\n",
       "      <th>Acting, Comedy &amp; Music</th>\n",
       "      <th>Government and Politics</th>\n",
       "      <th>Media</th>\n",
       "      <th>Other</th>\n",
       "    </tr>\n",
       "    <tr>\n",
       "      <th>Year</th>\n",
       "      <th></th>\n",
       "      <th></th>\n",
       "      <th></th>\n",
       "      <th></th>\n",
       "    </tr>\n",
       "  </thead>\n",
       "  <tbody>\n",
       "    <tr>\n",
       "      <th>2008</th>\n",
       "      <td>0.207317</td>\n",
       "      <td>0.20122</td>\n",
       "      <td>0.469512</td>\n",
       "      <td>0.121951</td>\n",
       "    </tr>\n",
       "  </tbody>\n",
       "</table>\n",
       "</div>"
      ],
      "text/plain": [
       "Occupation  Acting, Comedy & Music  Government and Politics     Media  \\\n",
       "Year                                                                    \n",
       "2008                      0.207317                  0.20122  0.469512   \n",
       "\n",
       "Occupation     Other  \n",
       "Year                  \n",
       "2008        0.121951  "
      "metadata": {
        "id": "B5ZuRDK0ZVpl",
        "colab_type": "code",
        "outputId": "958c6f04-94b3-4595-cb36-5736483ca6ef",
        "colab": {
          "base_uri": "https://localhost:8080/",
          "height": 108
        }
      },
      "cell_type": "code",
      "source": [
        "year10=df[df.Year==2010]\n",
        "chart10=pd.crosstab(year10.Year,year10.Occupation,normalize= 'index')\n",
        "chart10"
      ],
      "execution_count": 0,
      "outputs": [
        {
          "output_type": "execute_result",
          "data": {
            "text/html": [
              "<div>\n",
              "<style scoped>\n",
              "    .dataframe tbody tr th:only-of-type {\n",
              "        vertical-align: middle;\n",
              "    }\n",
              "\n",
              "    .dataframe tbody tr th {\n",
              "        vertical-align: top;\n",
              "    }\n",
              "\n",
              "    .dataframe thead th {\n",
              "        text-align: right;\n",
              "    }\n",
              "</style>\n",
              "<table border=\"1\" class=\"dataframe\">\n",
              "  <thead>\n",
              "    <tr style=\"text-align: right;\">\n",
              "      <th>Occupation</th>\n",
              "      <th>Acting, Comedy &amp; Music</th>\n",
              "      <th>Government and Politics</th>\n",
              "      <th>Media</th>\n",
              "      <th>Other</th>\n",
              "    </tr>\n",
              "    <tr>\n",
              "      <th>Year</th>\n",
              "      <th></th>\n",
              "      <th></th>\n",
              "      <th></th>\n",
              "      <th></th>\n",
              "    </tr>\n",
              "  </thead>\n",
              "  <tbody>\n",
              "    <tr>\n",
              "      <th>2010</th>\n",
              "      <td>0.351515</td>\n",
              "      <td>0.181818</td>\n",
              "      <td>0.30303</td>\n",
              "      <td>0.163636</td>\n",
              "    </tr>\n",
              "  </tbody>\n",
              "</table>\n",
              "</div>"
            ],
            "text/plain": [
              "Occupation  Acting, Comedy & Music  Government and Politics    Media     Other\n",
              "Year                                                                          \n",
              "2010                      0.351515                 0.181818  0.30303  0.163636"
            ]
          },
          "metadata": {
            "tags": []
          },
          "execution_count": 15
        }
      ]
     },
     "execution_count": 12,
     "metadata": {
      "tags": []
     },
     "output_type": "execute_result"
    }
   ],
   "source": [
    "year08=df[df.Year==2008]\n",
    "chart08=pd.crosstab(year08.Year,year08.Occupation,normalize= 'index')\n",
    "chart08"
   ]
  },
  {
   "cell_type": "code",
   "execution_count": 13,
   "metadata": {
    "colab": {
     "base_uri": "https://localhost:8080/",
     "height": 108
    },
    "colab_type": "code",
    "id": "8RSu16QKYxaW",
    "outputId": "d1e8671b-88ef-4a56-f20b-ebf6bf82c3c2"
   },
   "outputs": [
    {
     "data": {
      "text/html": [
       "<div>\n",
       "<style scoped>\n",
       "    .dataframe tbody tr th:only-of-type {\n",
       "        vertical-align: middle;\n",
       "    }\n",
       "\n",
       "    .dataframe tbody tr th {\n",
       "        vertical-align: top;\n",
       "    }\n",
       "\n",
       "    .dataframe thead th {\n",
       "        text-align: right;\n",
       "    }\n",
       "</style>\n",
       "<table border=\"1\" class=\"dataframe\">\n",
       "  <thead>\n",
       "    <tr style=\"text-align: right;\">\n",
       "      <th>Occupation</th>\n",
       "      <th>Acting, Comedy &amp; Music</th>\n",
       "      <th>Government and Politics</th>\n",
       "      <th>Media</th>\n",
       "      <th>Other</th>\n",
       "    </tr>\n",
       "    <tr>\n",
       "      <th>Year</th>\n",
       "      <th></th>\n",
       "      <th></th>\n",
       "      <th></th>\n",
       "      <th></th>\n",
       "    </tr>\n",
       "  </thead>\n",
       "  <tbody>\n",
       "    <tr>\n",
       "      <th>2009</th>\n",
       "      <td>0.208589</td>\n",
       "      <td>0.208589</td>\n",
       "      <td>0.361963</td>\n",
       "      <td>0.220859</td>\n",
       "    </tr>\n",
       "  </tbody>\n",
       "</table>\n",
       "</div>"
      ],
      "text/plain": [
       "Occupation  Acting, Comedy & Music  Government and Politics     Media  \\\n",
       "Year                                                                    \n",
       "2009                      0.208589                 0.208589  0.361963   \n",
       "\n",
       "Occupation     Other  \n",
       "Year                  \n",
       "2009        0.220859  "
      "metadata": {
        "id": "ZBCNXs3zZj4o",
        "colab_type": "code",
        "outputId": "c9418402-8827-4329-b5d3-cdfea6d601ae",
        "colab": {
          "base_uri": "https://localhost:8080/",
          "height": 108
        }
      },
      "cell_type": "code",
      "source": [
        "year11=df[df.Year==2011]\n",
        "chart11=pd.crosstab(year11.Year,year11.Occupation,normalize= 'index')\n",
        "chart11"
      ],
      "execution_count": 0,
      "outputs": [
        {
          "output_type": "execute_result",
          "data": {
            "text/html": [
              "<div>\n",
              "<style scoped>\n",
              "    .dataframe tbody tr th:only-of-type {\n",
              "        vertical-align: middle;\n",
              "    }\n",
              "\n",
              "    .dataframe tbody tr th {\n",
              "        vertical-align: top;\n",
              "    }\n",
              "\n",
              "    .dataframe thead th {\n",
              "        text-align: right;\n",
              "    }\n",
              "</style>\n",
              "<table border=\"1\" class=\"dataframe\">\n",
              "  <thead>\n",
              "    <tr style=\"text-align: right;\">\n",
              "      <th>Occupation</th>\n",
              "      <th>Acting, Comedy &amp; Music</th>\n",
              "      <th>Government and Politics</th>\n",
              "      <th>Media</th>\n",
              "      <th>Other</th>\n",
              "    </tr>\n",
              "    <tr>\n",
              "      <th>Year</th>\n",
              "      <th></th>\n",
              "      <th></th>\n",
              "      <th></th>\n",
              "      <th></th>\n",
              "    </tr>\n",
              "  </thead>\n",
              "  <tbody>\n",
              "    <tr>\n",
              "      <th>2011</th>\n",
              "      <td>0.337423</td>\n",
              "      <td>0.165644</td>\n",
              "      <td>0.312883</td>\n",
              "      <td>0.184049</td>\n",
              "    </tr>\n",
              "  </tbody>\n",
              "</table>\n",
              "</div>"
            ],
            "text/plain": [
              "Occupation  Acting, Comedy & Music  Government and Politics     Media  \\\n",
              "Year                                                                    \n",
              "2011                      0.337423                 0.165644  0.312883   \n",
              "\n",
              "Occupation     Other  \n",
              "Year                  \n",
              "2011        0.184049  "
            ]
          },
          "metadata": {
            "tags": []
          },
          "execution_count": 16
        }
      ]
     },
     "execution_count": 13,
     "metadata": {
      "tags": []
     },
     "output_type": "execute_result"
    }
   ],
   "source": [
    "year09=df[df.Year==2009]\n",
    "chart09=pd.crosstab(year09.Year,year09.Occupation,normalize= 'index')\n",
    "chart09"
   ]
  },
  {
   "cell_type": "code",
   "execution_count": 14,
   "metadata": {
    "colab": {
     "base_uri": "https://localhost:8080/",
     "height": 108
    },
    "colab_type": "code",
    "id": "B5ZuRDK0ZVpl",
    "outputId": "29765cd6-87f5-4713-d4a6-ac841bfd7221"
   },
   "outputs": [
    {
     "data": {
      "text/html": [
       "<div>\n",
       "<style scoped>\n",
       "    .dataframe tbody tr th:only-of-type {\n",
       "        vertical-align: middle;\n",
       "    }\n",
       "\n",
       "    .dataframe tbody tr th {\n",
       "        vertical-align: top;\n",
       "    }\n",
       "\n",
       "    .dataframe thead th {\n",
       "        text-align: right;\n",
       "    }\n",
       "</style>\n",
       "<table border=\"1\" class=\"dataframe\">\n",
       "  <thead>\n",
       "    <tr style=\"text-align: right;\">\n",
       "      <th>Occupation</th>\n",
       "      <th>Acting, Comedy &amp; Music</th>\n",
       "      <th>Government and Politics</th>\n",
       "      <th>Media</th>\n",
       "      <th>Other</th>\n",
       "    </tr>\n",
       "    <tr>\n",
       "      <th>Year</th>\n",
       "      <th></th>\n",
       "      <th></th>\n",
       "      <th></th>\n",
       "      <th></th>\n",
       "    </tr>\n",
       "  </thead>\n",
       "  <tbody>\n",
       "    <tr>\n",
       "      <th>2010</th>\n",
       "      <td>0.351515</td>\n",
       "      <td>0.181818</td>\n",
       "      <td>0.30303</td>\n",
       "      <td>0.163636</td>\n",
       "    </tr>\n",
       "  </tbody>\n",
       "</table>\n",
       "</div>"
      ],
      "text/plain": [
       "Occupation  Acting, Comedy & Music  Government and Politics    Media     Other\n",
       "Year                                                                          \n",
       "2010                      0.351515                 0.181818  0.30303  0.163636"
      "metadata": {
        "id": "VXWAshGIaDuO",
        "colab_type": "code",
        "outputId": "0d40f6ca-b202-479e-b8b3-e0c2c8e6e21f",
        "colab": {
          "base_uri": "https://localhost:8080/",
          "height": 108
        }
      },
      "cell_type": "code",
      "source": [
        "year12=df[df.Year==2012]\n",
        "chart12=pd.crosstab(year12.Year,year12.Occupation,normalize= 'index')\n",
        "chart12"
      ],
      "execution_count": 0,
      "outputs": [
        {
          "output_type": "execute_result",
          "data": {
            "text/html": [
              "<div>\n",
              "<style scoped>\n",
              "    .dataframe tbody tr th:only-of-type {\n",
              "        vertical-align: middle;\n",
              "    }\n",
              "\n",
              "    .dataframe tbody tr th {\n",
              "        vertical-align: top;\n",
              "    }\n",
              "\n",
              "    .dataframe thead th {\n",
              "        text-align: right;\n",
              "    }\n",
              "</style>\n",
              "<table border=\"1\" class=\"dataframe\">\n",
              "  <thead>\n",
              "    <tr style=\"text-align: right;\">\n",
              "      <th>Occupation</th>\n",
              "      <th>Acting, Comedy &amp; Music</th>\n",
              "      <th>Government and Politics</th>\n",
              "      <th>Media</th>\n",
              "      <th>Other</th>\n",
              "    </tr>\n",
              "    <tr>\n",
              "      <th>Year</th>\n",
              "      <th></th>\n",
              "      <th></th>\n",
              "      <th></th>\n",
              "      <th></th>\n",
              "    </tr>\n",
              "  </thead>\n",
              "  <tbody>\n",
              "    <tr>\n",
              "      <th>2012</th>\n",
              "      <td>0.268293</td>\n",
              "      <td>0.20122</td>\n",
              "      <td>0.317073</td>\n",
              "      <td>0.213415</td>\n",
              "    </tr>\n",
              "  </tbody>\n",
              "</table>\n",
              "</div>"
            ],
            "text/plain": [
              "Occupation  Acting, Comedy & Music  Government and Politics     Media  \\\n",
              "Year                                                                    \n",
              "2012                      0.268293                  0.20122  0.317073   \n",
              "\n",
              "Occupation     Other  \n",
              "Year                  \n",
              "2012        0.213415  "
            ]
          },
          "metadata": {
            "tags": []
          },
          "execution_count": 17
        }
      ]
     },
     "execution_count": 14,
     "metadata": {
      "tags": []
     },
     "output_type": "execute_result"
    }
   ],
   "source": [
    "year10=df[df.Year==2010]\n",
    "chart10=pd.crosstab(year10.Year,year10.Occupation,normalize= 'index')\n",
    "chart10"
   ]
  },
  {
   "cell_type": "code",
   "execution_count": 15,
   "metadata": {
    "colab": {
     "base_uri": "https://localhost:8080/",
     "height": 108
    },
    "colab_type": "code",
    "id": "ZBCNXs3zZj4o",
    "outputId": "7532b303-881a-4918-e445-27380f3e7faa"
   },
   "outputs": [
    {
     "data": {
      "text/html": [
       "<div>\n",
       "<style scoped>\n",
       "    .dataframe tbody tr th:only-of-type {\n",
       "        vertical-align: middle;\n",
       "    }\n",
       "\n",
       "    .dataframe tbody tr th {\n",
       "        vertical-align: top;\n",
       "    }\n",
       "\n",
       "    .dataframe thead th {\n",
       "        text-align: right;\n",
       "    }\n",
       "</style>\n",
       "<table border=\"1\" class=\"dataframe\">\n",
       "  <thead>\n",
       "    <tr style=\"text-align: right;\">\n",
       "      <th>Occupation</th>\n",
       "      <th>Acting, Comedy &amp; Music</th>\n",
       "      <th>Government and Politics</th>\n",
       "      <th>Media</th>\n",
       "      <th>Other</th>\n",
       "    </tr>\n",
       "    <tr>\n",
       "      <th>Year</th>\n",
       "      <th></th>\n",
       "      <th></th>\n",
       "      <th></th>\n",
       "      <th></th>\n",
       "    </tr>\n",
       "  </thead>\n",
       "  <tbody>\n",
       "    <tr>\n",
       "      <th>2011</th>\n",
       "      <td>0.337423</td>\n",
       "      <td>0.165644</td>\n",
       "      <td>0.312883</td>\n",
       "      <td>0.184049</td>\n",
       "    </tr>\n",
       "  </tbody>\n",
       "</table>\n",
       "</div>"
      ],
      "text/plain": [
       "Occupation  Acting, Comedy & Music  Government and Politics     Media  \\\n",
       "Year                                                                    \n",
       "2011                      0.337423                 0.165644  0.312883   \n",
       "\n",
       "Occupation     Other  \n",
       "Year                  \n",
       "2011        0.184049  "
      "metadata": {
        "id": "MWRFw-AaaKKY",
        "colab_type": "code",
        "outputId": "af47e567-bf20-4daf-95b4-99e40b449271",
        "colab": {
          "base_uri": "https://localhost:8080/",
          "height": 108
        }
      },
      "cell_type": "code",
      "source": [
        "year13=df[df.Year==2013]\n",
        "chart13=pd.crosstab(year13.Year,year13.Occupation,normalize= 'index')\n",
        "chart13"
      ],
      "execution_count": 0,
      "outputs": [
        {
          "output_type": "execute_result",
          "data": {
            "text/html": [
              "<div>\n",
              "<style scoped>\n",
              "    .dataframe tbody tr th:only-of-type {\n",
              "        vertical-align: middle;\n",
              "    }\n",
              "\n",
              "    .dataframe tbody tr th {\n",
              "        vertical-align: top;\n",
              "    }\n",
              "\n",
              "    .dataframe thead th {\n",
              "        text-align: right;\n",
              "    }\n",
              "</style>\n",
              "<table border=\"1\" class=\"dataframe\">\n",
              "  <thead>\n",
              "    <tr style=\"text-align: right;\">\n",
              "      <th>Occupation</th>\n",
              "      <th>Acting, Comedy &amp; Music</th>\n",
              "      <th>Government and Politics</th>\n",
              "      <th>Media</th>\n",
              "      <th>Other</th>\n",
              "    </tr>\n",
              "    <tr>\n",
              "      <th>Year</th>\n",
              "      <th></th>\n",
              "      <th></th>\n",
              "      <th></th>\n",
              "      <th></th>\n",
              "    </tr>\n",
              "  </thead>\n",
              "  <tbody>\n",
              "    <tr>\n",
              "      <th>2013</th>\n",
              "      <td>0.427711</td>\n",
              "      <td>0.126506</td>\n",
              "      <td>0.307229</td>\n",
              "      <td>0.138554</td>\n",
              "    </tr>\n",
              "  </tbody>\n",
              "</table>\n",
              "</div>"
            ],
            "text/plain": [
              "Occupation  Acting, Comedy & Music  Government and Politics     Media  \\\n",
              "Year                                                                    \n",
              "2013                      0.427711                 0.126506  0.307229   \n",
              "\n",
              "Occupation     Other  \n",
              "Year                  \n",
              "2013        0.138554  "
            ]
          },
          "metadata": {
            "tags": []
          },
          "execution_count": 18
        }
      ]
     },
     "execution_count": 15,
     "metadata": {
      "tags": []
     },
     "output_type": "execute_result"
    }
   ],
   "source": [
    "year11=df[df.Year==2011]\n",
    "chart11=pd.crosstab(year11.Year,year11.Occupation,normalize= 'index')\n",
    "chart11"
   ]
  },
  {
   "cell_type": "code",
   "execution_count": 16,
   "metadata": {
    "colab": {
     "base_uri": "https://localhost:8080/",
     "height": 108
    },
    "colab_type": "code",
    "id": "VXWAshGIaDuO",
    "outputId": "e8ccfd5d-85de-442c-c115-0b085890db32"
   },
   "outputs": [
    {
     "data": {
      "text/html": [
       "<div>\n",
       "<style scoped>\n",
       "    .dataframe tbody tr th:only-of-type {\n",
       "        vertical-align: middle;\n",
       "    }\n",
       "\n",
       "    .dataframe tbody tr th {\n",
       "        vertical-align: top;\n",
       "    }\n",
       "\n",
       "    .dataframe thead th {\n",
       "        text-align: right;\n",
       "    }\n",
       "</style>\n",
       "<table border=\"1\" class=\"dataframe\">\n",
       "  <thead>\n",
       "    <tr style=\"text-align: right;\">\n",
       "      <th>Occupation</th>\n",
       "      <th>Acting, Comedy &amp; Music</th>\n",
       "      <th>Government and Politics</th>\n",
       "      <th>Media</th>\n",
       "      <th>Other</th>\n",
       "    </tr>\n",
       "    <tr>\n",
       "      <th>Year</th>\n",
       "      <th></th>\n",
       "      <th></th>\n",
       "      <th></th>\n",
       "      <th></th>\n",
       "    </tr>\n",
       "  </thead>\n",
       "  <tbody>\n",
       "    <tr>\n",
       "      <th>2012</th>\n",
       "      <td>0.268293</td>\n",
       "      <td>0.20122</td>\n",
       "      <td>0.317073</td>\n",
       "      <td>0.213415</td>\n",
       "    </tr>\n",
       "  </tbody>\n",
       "</table>\n",
       "</div>"
      ],
      "text/plain": [
       "Occupation  Acting, Comedy & Music  Government and Politics     Media  \\\n",
       "Year                                                                    \n",
       "2012                      0.268293                  0.20122  0.317073   \n",
       "\n",
       "Occupation     Other  \n",
       "Year                  \n",
       "2012        0.213415  "
      "metadata": {
        "id": "5ZAdqpvTab0k",
        "colab_type": "code",
        "outputId": "788fb0eb-fca7-4473-e6bb-35ab93db21c4",
        "colab": {
          "base_uri": "https://localhost:8080/",
          "height": 108
        }
      },
      "cell_type": "code",
      "source": [
        "year14=df[df.Year==2014]\n",
        "chart14=pd.crosstab(year14.Year,year14.Occupation,normalize= 'index')\n",
        "chart14"
      ],
      "execution_count": 0,
      "outputs": [
        {
          "output_type": "execute_result",
          "data": {
            "text/html": [
              "<div>\n",
              "<style scoped>\n",
              "    .dataframe tbody tr th:only-of-type {\n",
              "        vertical-align: middle;\n",
              "    }\n",
              "\n",
              "    .dataframe tbody tr th {\n",
              "        vertical-align: top;\n",
              "    }\n",
              "\n",
              "    .dataframe thead th {\n",
              "        text-align: right;\n",
              "    }\n",
              "</style>\n",
              "<table border=\"1\" class=\"dataframe\">\n",
              "  <thead>\n",
              "    <tr style=\"text-align: right;\">\n",
              "      <th>Occupation</th>\n",
              "      <th>Acting, Comedy &amp; Music</th>\n",
              "      <th>Government and Politics</th>\n",
              "      <th>Media</th>\n",
              "      <th>Other</th>\n",
              "    </tr>\n",
              "    <tr>\n",
              "      <th>Year</th>\n",
              "      <th></th>\n",
              "      <th></th>\n",
              "      <th></th>\n",
              "      <th></th>\n",
              "    </tr>\n",
              "  </thead>\n",
              "  <tbody>\n",
              "    <tr>\n",
              "      <th>2014</th>\n",
              "      <td>0.392638</td>\n",
              "      <td>0.128834</td>\n",
              "      <td>0.325153</td>\n",
              "      <td>0.153374</td>\n",
              "    </tr>\n",
              "  </tbody>\n",
              "</table>\n",
              "</div>"
            ],
            "text/plain": [
              "Occupation  Acting, Comedy & Music  Government and Politics     Media  \\\n",
              "Year                                                                    \n",
              "2014                      0.392638                 0.128834  0.325153   \n",
              "\n",
              "Occupation     Other  \n",
              "Year                  \n",
              "2014        0.153374  "
            ]
          },
          "metadata": {
            "tags": []
          },
          "execution_count": 19
        }
      ]
     },
     "execution_count": 16,
     "metadata": {
      "tags": []
     },
     "output_type": "execute_result"
    }
   ],
   "source": [
    "year12=df[df.Year==2012]\n",
    "chart12=pd.crosstab(year12.Year,year12.Occupation,normalize= 'index')\n",
    "chart12"
   ]
  },
  {
   "cell_type": "code",
   "execution_count": 17,
   "metadata": {
    "colab": {
     "base_uri": "https://localhost:8080/",
     "height": 108
    },
    "colab_type": "code",
    "id": "MWRFw-AaaKKY",
    "outputId": "290258cf-c236-4377-a64c-f1949feeec04"
   },
   "outputs": [
    {
     "data": {
      "text/html": [
       "<div>\n",
       "<style scoped>\n",
       "    .dataframe tbody tr th:only-of-type {\n",
       "        vertical-align: middle;\n",
       "    }\n",
       "\n",
       "    .dataframe tbody tr th {\n",
       "        vertical-align: top;\n",
       "    }\n",
       "\n",
       "    .dataframe thead th {\n",
       "        text-align: right;\n",
       "    }\n",
       "</style>\n",
       "<table border=\"1\" class=\"dataframe\">\n",
       "  <thead>\n",
       "    <tr style=\"text-align: right;\">\n",
       "      <th>Occupation</th>\n",
       "      <th>Acting, Comedy &amp; Music</th>\n",
       "      <th>Government and Politics</th>\n",
       "      <th>Media</th>\n",
       "      <th>Other</th>\n",
       "    </tr>\n",
       "    <tr>\n",
       "      <th>Year</th>\n",
       "      <th></th>\n",
       "      <th></th>\n",
       "      <th></th>\n",
       "      <th></th>\n",
       "    </tr>\n",
       "  </thead>\n",
       "  <tbody>\n",
       "    <tr>\n",
       "      <th>2013</th>\n",
       "      <td>0.427711</td>\n",
       "      <td>0.126506</td>\n",
       "      <td>0.307229</td>\n",
       "      <td>0.138554</td>\n",
       "    </tr>\n",
       "  </tbody>\n",
       "</table>\n",
       "</div>"
      ],
      "text/plain": [
       "Occupation  Acting, Comedy & Music  Government and Politics     Media  \\\n",
       "Year                                                                    \n",
       "2013                      0.427711                 0.126506  0.307229   \n",
       "\n",
       "Occupation     Other  \n",
       "Year                  \n",
       "2013        0.138554  "
      "metadata": {
        "id": "eb-4MdbFajiL",
        "colab_type": "code",
        "outputId": "51b27cab-0f6d-4d79-d17b-31b79bbbc6a6",
        "colab": {
          "base_uri": "https://localhost:8080/",
          "height": 108
        }
      },
      "cell_type": "code",
      "source": [
        "year15=df[df.Year==2015]\n",
        "chart15=pd.crosstab(year15.Year,year15.Occupation,normalize= 'index')\n",
        "chart15"
      ],
      "execution_count": 0,
      "outputs": [
        {
          "output_type": "execute_result",
          "data": {
            "text/html": [
              "<div>\n",
              "<style scoped>\n",
              "    .dataframe tbody tr th:only-of-type {\n",
              "        vertical-align: middle;\n",
              "    }\n",
              "\n",
              "    .dataframe tbody tr th {\n",
              "        vertical-align: top;\n",
              "    }\n",
              "\n",
              "    .dataframe thead th {\n",
              "        text-align: right;\n",
              "    }\n",
              "</style>\n",
              "<table border=\"1\" class=\"dataframe\">\n",
              "  <thead>\n",
              "    <tr style=\"text-align: right;\">\n",
              "      <th>Occupation</th>\n",
              "      <th>Acting, Comedy &amp; Music</th>\n",
              "      <th>Government and Politics</th>\n",
              "      <th>Media</th>\n",
              "      <th>Other</th>\n",
              "    </tr>\n",
              "    <tr>\n",
              "      <th>Year</th>\n",
              "      <th></th>\n",
              "      <th></th>\n",
              "      <th></th>\n",
              "      <th></th>\n",
              "    </tr>\n",
              "  </thead>\n",
              "  <tbody>\n",
              "    <tr>\n",
              "      <th>2015</th>\n",
              "      <td>0.45</td>\n",
              "      <td>0.17</td>\n",
              "      <td>0.24</td>\n",
              "      <td>0.14</td>\n",
              "    </tr>\n",
              "  </tbody>\n",
              "</table>\n",
              "</div>"
            ],
            "text/plain": [
              "Occupation  Acting, Comedy & Music  Government and Politics  Media  Other\n",
              "Year                                                                     \n",
              "2015                          0.45                     0.17   0.24   0.14"
            ]
          },
          "metadata": {
            "tags": []
          },
          "execution_count": 20
        }
      ]
    },
    {
      "metadata": {
        "id": "Nqf9oJJDDu-d",
        "colab_type": "text"
      },
      "cell_type": "markdown",
      "source": [
        "# Part 2 — Recreate this explanatory visualization:"
      ]
     },
     "execution_count": 17,
     "metadata": {
      "tags": []
     },
     "output_type": "execute_result"
    }
   ],
   "source": [
    "year13=df[df.Year==2013]\n",
    "chart13=pd.crosstab(year13.Year,year13.Occupation,normalize= 'index')\n",
    "chart13"
   ]
  },
  {
   "cell_type": "code",
   "execution_count": 18,
   "metadata": {
    "colab": {
     "base_uri": "https://localhost:8080/",
     "height": 108
    },
    "colab_type": "code",
    "id": "5ZAdqpvTab0k",
    "outputId": "80eee366-433c-47bd-8afa-c77d0d5c2c94"
   },
   "outputs": [
    {
     "data": {
      "text/html": [
       "<div>\n",
       "<style scoped>\n",
       "    .dataframe tbody tr th:only-of-type {\n",
       "        vertical-align: middle;\n",
       "    }\n",
       "\n",
       "    .dataframe tbody tr th {\n",
       "        vertical-align: top;\n",
       "    }\n",
       "\n",
       "    .dataframe thead th {\n",
       "        text-align: right;\n",
       "    }\n",
       "</style>\n",
       "<table border=\"1\" class=\"dataframe\">\n",
       "  <thead>\n",
       "    <tr style=\"text-align: right;\">\n",
       "      <th>Occupation</th>\n",
       "      <th>Acting, Comedy &amp; Music</th>\n",
       "      <th>Government and Politics</th>\n",
       "      <th>Media</th>\n",
       "      <th>Other</th>\n",
       "    </tr>\n",
       "    <tr>\n",
       "      <th>Year</th>\n",
       "      <th></th>\n",
       "      <th></th>\n",
       "      <th></th>\n",
       "      <th></th>\n",
       "    </tr>\n",
       "  </thead>\n",
       "  <tbody>\n",
       "    <tr>\n",
       "      <th>2014</th>\n",
       "      <td>0.392638</td>\n",
       "      <td>0.128834</td>\n",
       "      <td>0.325153</td>\n",
       "      <td>0.153374</td>\n",
       "    </tr>\n",
       "  </tbody>\n",
       "</table>\n",
       "</div>"
      ],
      "text/plain": [
       "Occupation  Acting, Comedy & Music  Government and Politics     Media  \\\n",
       "Year                                                                    \n",
       "2014                      0.392638                 0.128834  0.325153   \n",
       "\n",
       "Occupation     Other  \n",
       "Year                  \n",
       "2014        0.153374  "
      "metadata": {
        "id": "scozkHQc0_eD",
        "colab_type": "code",
        "outputId": "ca76c30d-251a-4c56-f1aa-b1550406ea95",
        "colab": {
          "base_uri": "https://localhost:8080/",
          "height": 406
        }
      },
      "cell_type": "code",
      "source": [
        "from IPython.display import display, Image\n",
        "url = 'https://fivethirtyeight.com/wp-content/uploads/2015/08/hickey-datalab-dailyshow.png'\n",
        "example = Image(url, width=500)\n",
        "display(example)"
      ],
      "execution_count": 0,
      "outputs": [
        {
          "output_type": "display_data",
          "data": {
            "image/png": "iVBORw0KGgoAAAANSUhEUgAABMQAAAO2CAMAAAAwo7uMAAAAGXRFWHRTb2Z0d2FyZQBBZG9iZSBJ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\n4JhflzBydcIRb30AAAAASUVORK5CYII=\n",
            "text/plain": [
              "<IPython.core.display.Image object>"
            ]
          },
          "metadata": {
            "tags": [],
            "image/png": {
              "width": 500
            }
          }
        }
      ]
     },
     "execution_count": 18,
     "metadata": {
      "tags": []
     },
     "output_type": "execute_result"
    }
   ],
   "source": [
    "year14=df[df.Year==2014]\n",
    "chart14=pd.crosstab(year14.Year,year14.Occupation,normalize= 'index')\n",
    "chart14"
   ]
  },
  {
   "cell_type": "code",
   "execution_count": 19,
   "metadata": {
    "colab": {
     "base_uri": "https://localhost:8080/",
     "height": 108
    },
    "colab_type": "code",
    "id": "eb-4MdbFajiL",
    "outputId": "8e7222dd-4115-4270-be14-3ff8ad1c42c5"
   },
   "outputs": [
    {
     "data": {
      "text/html": [
       "<div>\n",
       "<style scoped>\n",
       "    .dataframe tbody tr th:only-of-type {\n",
       "        vertical-align: middle;\n",
       "    }\n",
       "\n",
       "    .dataframe tbody tr th {\n",
       "        vertical-align: top;\n",
       "    }\n",
       "\n",
       "    .dataframe thead th {\n",
       "        text-align: right;\n",
       "    }\n",
       "</style>\n",
       "<table border=\"1\" class=\"dataframe\">\n",
       "  <thead>\n",
       "    <tr style=\"text-align: right;\">\n",
       "      <th>Occupation</th>\n",
       "      <th>Acting, Comedy &amp; Music</th>\n",
       "      <th>Government and Politics</th>\n",
       "      <th>Media</th>\n",
       "      <th>Other</th>\n",
       "    </tr>\n",
       "    <tr>\n",
       "      <th>Year</th>\n",
       "      <th></th>\n",
       "      <th></th>\n",
       "      <th></th>\n",
       "      <th></th>\n",
       "    </tr>\n",
       "  </thead>\n",
       "  <tbody>\n",
       "    <tr>\n",
       "      <th>2015</th>\n",
       "      <td>0.45</td>\n",
       "      <td>0.17</td>\n",
       "      <td>0.24</td>\n",
       "      <td>0.14</td>\n",
       "    </tr>\n",
       "  </tbody>\n",
       "</table>\n",
       "</div>"
      ],
      "text/plain": [
       "Occupation  Acting, Comedy & Music  Government and Politics  Media  Other\n",
       "Year                                                                     \n",
       "2015                          0.45                     0.17   0.24   0.14"
      "metadata": {
        "id": "oc9nuusWoeRF",
        "colab_type": "code",
        "colab": {}
      },
      "cell_type": "code",
      "source": [
        "daily=years.drop(columns=['Other'])"
      ],
      "execution_count": 0,
      "outputs": []
    },
    {
      "metadata": {
        "id": "et3af6mjcMQZ",
        "colab_type": "code",
        "outputId": "3c0520ed-d550-4e23-f0b2-2c20fd87048b",
        "colab": {
          "base_uri": "https://localhost:8080/",
          "height": 288
        }
      },
      "cell_type": "code",
      "source": [
        "ax=daily.plot();\n",
        "plt.style.use('fivethirtyeight')\n",
        "ax.grid(b=True)\n",
        "ax.text(x=1997,y=1,s=\"Who Got To Be On'The Daily Show'?\",fontweight='bold')\n",
        "ax.text(x=1997,y=.95,s='Occupation of guests, by year',fontsize=11)\n",
        "#ax.text(x=1998,y=.8,s='%')\n",
        "vals = ax.get_yticks()\n",
        "ax.set_yticklabels(['{:,.0%}'.format(x) for x in vals])\n",
        "ax.set(xlabel=\"\",xticks=range(2000,2016,4),xticklabels=('2000','\\'04','\\'08','\\'12'))#TODO figure out issue with Y Axis lables  \n",
        "plt.show()"
      ],
      "execution_count": 0,
      "outputs": [
        {
          "output_type": "display_data",
          "data": {
            "image/png": "iVBORw0KGgoAAAANSUhEUgAAAXgAAAEPCAYAAABIut/fAAAABHNCSVQICAgIfAhkiAAAAAlwSFlz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\nJtEAAAAASUVORK5CYII=\n",
            "text/plain": [
              "<matplotlib.figure.Figure at 0x7fad30960550>"
            ]
          },
          "metadata": {
            "tags": []
          }
        }
      ]
     },
     "execution_count": 19,
     "metadata": {
      "tags": []
     },
     "output_type": "execute_result"
    }
   ],
   "source": [
    "year15=df[df.Year==2015]\n",
    "chart15=pd.crosstab(year15.Year,year15.Occupation,normalize= 'index')\n",
    "chart15"
   ]
  },
  {
   "cell_type": "markdown",
   "metadata": {
    "colab_type": "text",
    "id": "Nqf9oJJDDu-d"
   },
   "source": [
    "# Part 2 — Recreate this explanatory visualization:"
   ]
  },
  {
   "cell_type": "code",
   "execution_count": 20,
   "metadata": {
    "colab": {
     "base_uri": "https://localhost:8080/",
     "height": 406
    },
    "colab_type": "code",
    "id": "scozkHQc0_eD",
    "outputId": "9fed5654-ca6b-4419-b0f9-e19ab5d734f2"
   },
   "outputs": [
    {
     "data": {
      "image/png": "iVBORw0KGgoAAAANSUhEUgAABMQAAAO2CAMAAAAwo7uMAAAAGXRFWHRTb2Z0d2FyZQBBZG9iZSBJ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\n4JhflzBydcIRb30AAAAASUVORK5CYII=\n",
      "text/plain": [
       "<IPython.core.display.Image object>"
      ]
     },
     "metadata": {
      "image/png": {
       "width": 500
      },
      "tags": []
     },
     "output_type": "display_data"
    }
   ],
   "source": [
    "from IPython.display import display, Image\n",
    "url = 'https://fivethirtyeight.com/wp-content/uploads/2015/08/hickey-datalab-dailyshow.png'\n",
    "example = Image(url, width=500)\n",
    "display(example)"
   ]
  },
  {
   "cell_type": "code",
   "execution_count": 0,
   "metadata": {
    "colab": {},
    "colab_type": "code",
    "id": "oc9nuusWoeRF"
   },
   "outputs": [],
   "source": [
    "daily=years.drop(columns=['Other'])"
   ]
  },
  {
   "cell_type": "code",
   "execution_count": 50,
   "metadata": {
    "colab": {
     "base_uri": "https://localhost:8080/",
     "height": 305
    },
    "colab_type": "code",
    "id": "et3af6mjcMQZ",
    "outputId": "4ff594b0-e26e-4060-b52e-f4d65aea953c"
   },
   "outputs": [
    {
     "data": {
      "image/png": "iVBORw0KGgoAAAANSUhEUgAAAagAAAEgCAYAAADhUed1AAAABHNCSVQICAgIfAhkiAAAAAlwSFlz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\nQmCC\n",
      "text/plain": [
       "<matplotlib.figure.Figure at 0x7f0a3b075f98>"
      ]
     },
     "metadata": {
      "tags": []
     },
     "output_type": "display_data"
    }
   ],
   "source": [
    "ax=daily.plot();\n",
    "plt.style.use('fivethirtyeight')\n",
    "ax.grid(b=True)\n",
    "ax.text(x=1997,y=1,s=\"Who Got To Be On'The Daily Show'?\",fontweight='bold')\n",
    "ax.text(x=1997,y=.95,s='Occupation of guests, by year',fontsize=11)\n",
    "#ax.text(x=1998,y=.8,s='%')\n",
    "vals = ax.get_yticks()\n",
    "ax.set_yticklabels(['{:,.0%}'.format(x) for x in vals])\n",
    "ax.set(xlabel=\"\",xticks=range(2000,2016,4),xticklabels=('2000','\\'04','\\'08','\\'12'))#TODO figure out issue with Y Axis lables  \n",
    "plt.show()"
   ]
  },
  {
   "cell_type": "markdown",
   "metadata": {
    "colab_type": "text",
    "id": "W7lw3JzAE6BJ"
   },
   "source": [
    "**Hint:** use the crosstab you calculated in part 1!\n",
    "\n",
    "**Expectations:** Your plot should include:\n",
    "- 3 lines visualizing \"occupation of guests, by year.\" The shapes of the lines should look roughly identical to 538's example. Each line should be a different color. (But you don't need to use the _same_ colors as 538.)\n",
    "- Legend or labels for the lines. (But you don't need each label positioned next to its line or colored like 538.)\n",
    "- Title in the upper left: _\"Who Got To Be On 'The Daily Show'?\"_ with more visual emphasis than the subtitle. (Bolder and/or larger font.)\n",
    "- Subtitle underneath the title: _\"Occupation of guests, by year\"_\n",
    "\n",
    "Any visual element not specifically mentioned in the expectations is an optional bonus, but it's _not_ required to pass the Sprint Challenge.\n",
    "\n",
    "\n",
    "\n",
    "\n"
   ]
  },
  {
   "cell_type": "code",
   "execution_count": 0,
   "metadata": {
    "colab": {},
    "colab_type": "code",
    "id": "E8XBAr8rz_Na"
   },
   "outputs": [],
   "source": []
  },
  {
   "cell_type": "markdown",
   "metadata": {
    "colab_type": "text",
    "id": "LuacMjSf2ses"
   },
   "source": [
    "# Part 3 — Who were the top 10 guests on _The Daily Show_?\n",
    "\n",
    "**Make a plot** that shows their names and number of appearances.\n",
    "\n",
    "**Hint:** you can use the pandas `value_counts` method.\n",
    "\n",
    "**Expectations:** This can be a simple, quick plot: exploratory, not explanatory. \n",
    "\n",
    "If you want, you can add titles and change aesthetics, but it's _not_ required to pass the Sprint Challenge."
   ]
  },
  {
   "cell_type": "code",
   "execution_count": 60,
   "metadata": {
    "colab": {
     "base_uri": "https://localhost:8080/",
     "height": 217
    },
    "colab_type": "code",
    "id": "tbwfBN3HsFlh",
    "outputId": "bda890b6-dcf3-4db2-d1ae-d42d8bbae4e5"
   },
   "outputs": [
    {
     "data": {
      "text/plain": [
       "Fareed Zakaria    19\n",
       "Denis Leary       17\n",
       "Brian Williams    16\n",
       "Paul Rudd         13\n",
       "Ricky Gervais     13\n",
       "Tom Brokaw        12\n",
       "Richard Lewis     10\n",
       "Bill O'Reilly     10\n",
       "Reza Aslan        10\n",
       "Will Ferrell      10\n",
       "Name: Guest, dtype: int64"
      "metadata": {
        "id": "tbwfBN3HsFlh",
        "colab_type": "code",
        "outputId": "cff580cb-ca23-44c2-cdca-af6ad9a05c9a",
        "colab": {
          "base_uri": "https://localhost:8080/",
          "height": 339
        }
      },
      "cell_type": "code",
      "source": [
        "top= df.Guest.value_counts()\n",
        "top.head(10).plot.bar();"
      ],
      "execution_count": 0,
      "outputs": [
        {
          "output_type": "display_data",
          "data": {
            "image/png": "iVBORw0KGgoAAAANSUhEUgAAAaAAAAFCCAYAAAC3ugnQAAAABHNCSVQICAgIfAhkiAAAAAlwSFlz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\n",
            "text/plain": [
              "<matplotlib.figure.Figure at 0x7fad30994b00>"
            ]
          },
          "metadata": {
            "tags": []
          }
        }
      ]
     },
     "execution_count": 60,
     "metadata": {
      "tags": []
     },
     "output_type": "execute_result"
    }
   ],
   "source": [
    "top= df.Guest.value_counts()\n",
    "top.head(10)"
   ]
  },
  {
   "cell_type": "code",
   "execution_count": 0,
   "metadata": {
    "colab": {},
    "colab_type": "code",
    "id": "1FW7iPyb-YTC"
   },
   "outputs": [],
   "source": []
  }
 ],
 "metadata": {
  "colab": {
   "collapsed_sections": [],
   "include_colab_link": true,
   "name": "DS_Unit_1_Sprint_Challenge_2.ipynb",
   "provenance": [],
   "version": "0.3.2"
  },
  "kernelspec": {
   "display_name": "Python 3",
   "language": "python",
   "name": "python3"
  },
  "language_info": {
   "codemirror_mode": {
    "name": "ipython",
    "version": 3
   },
   "file_extension": ".py",
   "mimetype": "text/x-python",
   "name": "python",
   "nbconvert_exporter": "python",
   "pygments_lexer": "ipython3",
   "version": "3.7.0"
  }
 },
 "nbformat": 4,
 "nbformat_minor": 1
}
