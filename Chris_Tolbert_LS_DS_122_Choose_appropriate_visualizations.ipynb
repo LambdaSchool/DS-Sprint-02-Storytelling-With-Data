{
  "nbformat": 4,
  "nbformat_minor": 0,
  "metadata": {
    "colab": {
      "name": "Chris Tolbert LS_DS_122_Choose_appropriate_visualizations.ipynb",
      "version": "0.3.2",
      "provenance": [],
      "include_colab_link": true
    },
    "kernelspec": {
      "display_name": "Python 3",
      "language": "python",
      "name": "python3"
    }
  },
  "cells": [
    {
      "cell_type": "markdown",
      "metadata": {
        "id": "view-in-github",
        "colab_type": "text"
      },
      "source": [
        "<a href=\"https://colab.research.google.com/github/hughjafro/DS-Sprint-02-Storytelling-With-Data/blob/master/Chris_Tolbert_LS_DS_122_Choose_appropriate_visualizations.ipynb\" target=\"_parent\"><img src=\"https://colab.research.google.com/assets/colab-badge.svg\" alt=\"Open In Colab\"/></a>"
      ]
    },
    {
      "metadata": {
        "id": "JmNjWOsKDkFv",
        "colab_type": "text"
      },
      "cell_type": "markdown",
      "source": [
        "_Lambda School Data Science_\n",
        "# Choose appropriate visualizations"
      ]
    },
    {
      "metadata": {
        "id": "XvydtM2wDkFx",
        "colab_type": "text"
      },
      "cell_type": "markdown",
      "source": [
        "# Upgrade Seaborn\n",
        "\n",
        "Make sure you have at least version 0.9.0"
      ]
    },
    {
      "metadata": {
        "id": "g_V8r2N4DkFz",
        "colab_type": "code",
        "outputId": "4f868f23-336c-4536-c24b-eae4037dc7ff",
        "colab": {
          "base_uri": "https://localhost:8080/",
          "height": 207
        }
      },
      "cell_type": "code",
      "source": [
        "!pip install --upgrade seaborn"
      ],
      "execution_count": 0,
      "outputs": [
        {
          "output_type": "stream",
          "text": [
            "Requirement already up-to-date: seaborn in /usr/local/lib/python3.6/dist-packages (0.9.0)\n",
            "Requirement already satisfied, skipping upgrade: scipy>=0.14.0 in /usr/local/lib/python3.6/dist-packages (from seaborn) (1.1.0)\n",
            "Requirement already satisfied, skipping upgrade: pandas>=0.15.2 in /usr/local/lib/python3.6/dist-packages (from seaborn) (0.22.0)\n",
            "Requirement already satisfied, skipping upgrade: matplotlib>=1.4.3 in /usr/local/lib/python3.6/dist-packages (from seaborn) (2.1.2)\n",
            "Requirement already satisfied, skipping upgrade: numpy>=1.9.3 in /usr/local/lib/python3.6/dist-packages (from seaborn) (1.14.6)\n",
            "Requirement already satisfied, skipping upgrade: python-dateutil>=2 in /usr/local/lib/python3.6/dist-packages (from pandas>=0.15.2->seaborn) (2.5.3)\n",
            "Requirement already satisfied, skipping upgrade: pytz>=2011k in /usr/local/lib/python3.6/dist-packages (from pandas>=0.15.2->seaborn) (2018.7)\n",
            "Requirement already satisfied, skipping upgrade: six>=1.10 in /usr/local/lib/python3.6/dist-packages (from matplotlib>=1.4.3->seaborn) (1.11.0)\n",
            "Requirement already satisfied, skipping upgrade: cycler>=0.10 in /usr/local/lib/python3.6/dist-packages (from matplotlib>=1.4.3->seaborn) (0.10.0)\n",
            "Requirement already satisfied, skipping upgrade: pyparsing!=2.0.4,!=2.1.2,!=2.1.6,>=2.0.1 in /usr/local/lib/python3.6/dist-packages (from matplotlib>=1.4.3->seaborn) (2.3.0)\n"
          ],
          "name": "stdout"
        }
      ]
    },
    {
      "metadata": {
        "id": "CJ7YRvy2DkF3",
        "colab_type": "code",
        "outputId": "54324037-f7f5-43ef-e230-58ad76d07b9d",
        "colab": {
          "base_uri": "https://localhost:8080/",
          "height": 34
        }
      },
      "cell_type": "code",
      "source": [
        "import seaborn as sns\n",
        "sns.__version__"
      ],
      "execution_count": 0,
      "outputs": [
        {
          "output_type": "execute_result",
          "data": {
            "text/plain": [
              "'0.9.0'"
            ]
          },
          "metadata": {
            "tags": []
          },
          "execution_count": 2
        }
      ]
    },
    {
      "metadata": {
        "id": "455QVxhQDkF6",
        "colab_type": "text"
      },
      "cell_type": "markdown",
      "source": [
        "# Fix misleading visualizations"
      ]
    },
    {
      "metadata": {
        "id": "3jwkTkvyDkF8",
        "colab_type": "code",
        "colab": {}
      },
      "cell_type": "code",
      "source": [
        "%matplotlib inline\n",
        "import matplotlib.pyplot as plt\n",
        "import numpy as np\n",
        "import pandas as pd"
      ],
      "execution_count": 0,
      "outputs": []
    },
    {
      "metadata": {
        "id": "EYdTSqZEDkF-",
        "colab_type": "code",
        "outputId": "88e65e5a-754e-4650-e72b-fe289731e60c",
        "colab": {
          "base_uri": "https://localhost:8080/",
          "height": 224
        }
      },
      "cell_type": "code",
      "source": [
        "!wget https://raw.githubusercontent.com/LambdaSchool/DS-Sprint-02-Storytelling-With-Data/master/module2-choose-appropriate-visualizations/misleading.py\n",
        "    \n",
        "import misleading"
      ],
      "execution_count": 0,
      "outputs": [
        {
          "output_type": "stream",
          "text": [
            "--2018-11-13 18:43:47--  https://raw.githubusercontent.com/LambdaSchool/DS-Sprint-02-Storytelling-With-Data/master/module2-choose-appropriate-visualizations/misleading.py\n",
            "Resolving raw.githubusercontent.com (raw.githubusercontent.com)... 151.101.0.133, 151.101.64.133, 151.101.128.133, ...\n",
            "Connecting to raw.githubusercontent.com (raw.githubusercontent.com)|151.101.0.133|:443... connected.\n",
            "HTTP request sent, awaiting response... 200 OK\n",
            "Length: 1641 (1.6K) [text/plain]\n",
            "Saving to: ‘misleading.py’\n",
            "\n",
            "\rmisleading.py         0%[                    ]       0  --.-KB/s               \rmisleading.py       100%[===================>]   1.60K  --.-KB/s    in 0s      \n",
            "\n",
            "2018-11-13 18:43:47 (160 MB/s) - ‘misleading.py’ saved [1641/1641]\n",
            "\n"
          ],
          "name": "stdout"
        }
      ]
    },
    {
      "metadata": {
        "id": "kUPGkp96DkGF",
        "colab_type": "text"
      },
      "cell_type": "markdown",
      "source": [
        "#### Fix misleading plot #1"
      ]
    },
    {
      "metadata": {
        "id": "jTIFii28DkGF",
        "colab_type": "code",
        "outputId": "bb1d519b-d95a-47ad-977b-22f06019898b",
        "colab": {
          "base_uri": "https://localhost:8080/",
          "height": 331
        }
      },
      "cell_type": "code",
      "source": [
        "misleading.plot1()"
      ],
      "execution_count": 0,
      "outputs": [
        {
          "output_type": "execute_result",
          "data": {
            "text/plain": [
              "<matplotlib.axes._subplots.AxesSubplot at 0x7f26cd355550>"
            ]
          },
          "metadata": {
            "tags": []
          },
          "execution_count": 5
        },
        {
          "output_type": "display_data",
          "data": {
            "image/png": "[encoded data removed]",
            "text/plain": [
              "<matplotlib.figure.Figure at 0x7f26e90a70f0>"
            ]
          },
          "metadata": {
            "tags": []
          }
        }
      ]
    },
    {
      "metadata": {
        "id": "6XlQg1FODkGJ",
        "colab_type": "code",
        "colab": {}
      },
      "cell_type": "code",
      "source": [
        ""
      ],
      "execution_count": 0,
      "outputs": []
    },
    {
      "metadata": {
        "id": "s9g96V0aDkGL",
        "colab_type": "text"
      },
      "cell_type": "markdown",
      "source": [
        "#### Fix misleading plot #2"
      ]
    },
    {
      "metadata": {
        "id": "KkcBL7VPDkGN",
        "colab_type": "code",
        "outputId": "3c43c57b-ad5c-4d4f-9873-0e40f0a47a96",
        "colab": {
          "base_uri": "https://localhost:8080/",
          "height": 327
        }
      },
      "cell_type": "code",
      "source": [
        "misleading.plot2()"
      ],
      "execution_count": 0,
      "outputs": [
        {
          "output_type": "execute_result",
          "data": {
            "text/plain": [
              "<matplotlib.axes._subplots.AxesSubplot at 0x7f26cd9e5710>"
            ]
          },
          "metadata": {
            "tags": []
          },
          "execution_count": 6
        },
        {
          "output_type": "display_data",
          "data": {
            "image/png": "[encoded data removed]",
            "text/plain": [
              "<matplotlib.figure.Figure at 0x7f26cd313048>"
            ]
          },
          "metadata": {
            "tags": []
          }
        }
      ]
    },
    {
      "metadata": {
        "id": "3Kd3ToRZDkGQ",
        "colab_type": "code",
        "colab": {}
      },
      "cell_type": "code",
      "source": [
        ""
      ],
      "execution_count": 0,
      "outputs": []
    },
    {
      "metadata": {
        "id": "XQ2AMB34DkGS",
        "colab_type": "text"
      },
      "cell_type": "markdown",
      "source": [
        "#### Fix misleading plot #3"
      ]
    },
    {
      "metadata": {
        "id": "TrlGuWU1DkGT",
        "colab_type": "code",
        "outputId": "434dc18f-49ae-44ca-dc98-ff98ea2f9709",
        "colab": {
          "base_uri": "https://localhost:8080/",
          "height": 336
        }
      },
      "cell_type": "code",
      "source": [
        "misleading.plot3()"
      ],
      "execution_count": 0,
      "outputs": [
        {
          "output_type": "display_data",
          "data": {
            "image/png": "[encoded data removed]",
            "text/plain": [
              "<matplotlib.figure.Figure at 0x7f26caa41a20>"
            ]
          },
          "metadata": {
            "tags": []
          }
        }
      ]
    },
    {
      "metadata": {
        "id": "7OrYn5_tDkGV",
        "colab_type": "code",
        "colab": {}
      },
      "cell_type": "code",
      "source": [
        ""
      ],
      "execution_count": 0,
      "outputs": []
    },
    {
      "metadata": {
        "id": "o2iFLci2DkGY",
        "colab_type": "text"
      },
      "cell_type": "markdown",
      "source": [
        "#### Fix misleading plot #4"
      ]
    },
    {
      "metadata": {
        "id": "tvd8V1SvDkGY",
        "colab_type": "text"
      },
      "cell_type": "markdown",
      "source": [
        "_If you're on Jupyter (not Colab) then uncomment and run this cell below:_"
      ]
    },
    {
      "metadata": {
        "id": "DRcJOvdTDkGZ",
        "colab_type": "code",
        "colab": {}
      },
      "cell_type": "code",
      "source": [
        "# import altair as alt\n",
        "# alt.renderers.enable('notebook')"
      ],
      "execution_count": 0,
      "outputs": []
    },
    {
      "metadata": {
        "id": "V1WDglGsDkGd",
        "colab_type": "code",
        "outputId": "112643ab-0ee4-4f0f-abbe-8299edb4a0ed",
        "colab": {
          "base_uri": "https://localhost:8080/",
          "height": 504
        }
      },
      "cell_type": "code",
      "source": [
        "misleading.plot4()"
      ],
      "execution_count": 0,
      "outputs": [
        {
          "output_type": "execute_result",
          "data": {
            "text/plain": [
              "Chart({\n",
              "  data: UrlData({\n",
              "    format: TopoDataFormat({\n",
              "      feature: 'states',\n",
              "      type: 'topojson'\n",
              "    }),\n",
              "    url: 'https://vega.github.io/vega-datasets/data/us-10m.json'\n",
              "  }),\n",
              "  encoding: EncodingWithFacet({\n",
              "    color: Color({\n",
              "      shorthand: 'State Farm policy premiums',\n",
              "      type: 'quantitative'\n",
              "    })\n",
              "  }),\n",
              "  height: 300,\n",
              "  mark: 'geoshape',\n",
              "  projection: Projection({\n",
              "    type: 'albersUsa'\n",
              "  }),\n",
              "  transform: [LookupTransform({\n",
              "    from: LookupData({\n",
              "      data:                    state  id  State Farm policy premiums  \\\n",
              "      0                Alabama   1                      768213   \n",
              "      1                 Alaska   2                      128613   \n",
              "      2                Arizona   4                      760003   \n",
              "      3               Arkansas   5                      454931   \n",
              "      4             California   6                     3655463   \n",
              "      5               Colorado   8                      827143   \n",
              "      6            Connecticut   9                      169773   \n",
              "      7               Delaware  10                      191319   \n",
              "      8   District of Columbia  11                       67231   \n",
              "      9                Florida  12                     2806322   \n",
              "      10               Georgia  13                     1761224   \n",
              "      11                Hawaii  15                      133498   \n",
              "      12                 Idaho  16                      130613   \n",
              "      13              Illinois  17                     2256543   \n",
              "      14               Indiana  18                      861382   \n",
              "      15                  Iowa  19                      368898   \n",
              "      16                Kansas  20                      351343   \n",
              "      17              Kentucky  21                      680433   \n",
              "      18             Louisiana  22                     1415980   \n",
              "      19                 Maine  23                      101111   \n",
              "      20              Maryland  24                      883401   \n",
              "      21         Massachusetts  25                           0   \n",
              "      22              Michigan  26                     1580398   \n",
              "      23             Minnesota  27                      851940   \n",
              "      24           Mississippi  28                      467887   \n",
              "      25              Missouri  29                      883774   \n",
              "      26               Montana  30                      156816   \n",
              "      27              Nebraska  31                      273727   \n",
              "      28                Nevada  32                      404688   \n",
              "      29         New Hampshire  33                      103340   \n",
              "      30            New Jersey  34                      619623   \n",
              "      31            New Mexico  35                      261922   \n",
              "      32              New York  36                     1666653   \n",
              "      33        North Carolina  37                      842368   \n",
              "      34          North Dakota  38                       67282   \n",
              "      35                  Ohio  39                     1240075   \n",
              "      36              Oklahoma  40                      636063   \n",
              "      37                Oregon  41                      564416   \n",
              "      38          Pennsylvania  42                     1654528   \n",
              "      39          Rhode Island  44                           0   \n",
              "      40        South Carolina  45                      874436   \n",
              "      41          South Dakota  46                      101912   \n",
              "      42             Tennessee  47                      889329   \n",
              "      43                 Texas  48                     3395165   \n",
              "      44                  Utah  49                      300403   \n",
              "      45               Vermont  50                       30003   \n",
              "      46              Virginia  51                      878312   \n",
              "      47            Washington  53                      794882   \n",
              "      48         West Virginia  54                      323608   \n",
              "      49             Wisconsin  55                      443680   \n",
              "      50               Wyoming  56                       90412   \n",
              "      51           Puerto Rico  72                           0   \n",
              "      \n",
              "          BERKSHIRE HATHAWAY GRP  STATE TOTAL  \n",
              "      0                   282947      3025561  \n",
              "      1                    81366       454623  \n",
              "      2                   604049      4373055  \n",
              "      3                    96908      1777917  \n",
              "      4                  2091720     25255501  \n",
              "      5                   365797      4057463  \n",
              "      6                   486498      2795415  \n",
              "      7                   129033       802005  \n",
              "      8                   115149       325239  \n",
              "      9                  3952147     17333354  \n",
              "      10                  821326      7571988  \n",
              "      11                  184743       722550  \n",
              "      12                   87222       863636  \n",
              "      13                  412978      7028885  \n",
              "      14                  201200      3506499  \n",
              "      15                   58105      1650388  \n",
              "      16                   76533      1725608  \n",
              "      17                  186915      2805864  \n",
              "      18                  369492      4136224  \n",
              "      19                   68109       699558  \n",
              "      20                 1059508      4554586  \n",
              "      21                  473913      4924736  \n",
              "      22                       0      8462142  \n",
              "      23                  108942      3412460  \n",
              "      24                  100827      1760180  \n",
              "      25                  214191      3606590  \n",
              "      26                   33538       668513  \n",
              "      27                   61046      1167135  \n",
              "      28                  262815      2129828  \n",
              "      29                  103403       806545  \n",
              "      30                 1441019      7375823  \n",
              "      31                  174865      1284430  \n",
              "      32                 3926684     12633982  \n",
              "      33                  560700      5543700  \n",
              "      34                   15516       454376  \n",
              "      35                  405652      6303148  \n",
              "      36                  151388      2515842  \n",
              "      37                  223187      2647434  \n",
              "      38                  602848      8270326  \n",
              "      39                   97597       867558  \n",
              "      40                  426033      3583918  \n",
              "      41                   15682       508569  \n",
              "      42                  292357      3769652  \n",
              "      43                 2127633     19180816  \n",
              "      44                  139315      1723931  \n",
              "      45                   52939       359996  \n",
              "      46                  884489      5105360  \n",
              "      47                  478922      4780616  \n",
              "      48                  110806      1209872  \n",
              "      49                  131845      2950711  \n",
              "      50                   30187       374169  \n",
              "      51                       0       444480  ,\n",
              "      fields: ['State Farm policy premiums'],\n",
              "      key: 'id'\n",
              "    }),\n",
              "    lookup: 'id'\n",
              "  })],\n",
              "  width: 500\n",
              "})"
            ],
            "text/html": [
              "\n",
              "<!DOCTYPE html>\n",
              "<html>\n",
              "<head>\n",
              "  <style>\n",
              "    .vega-actions a {\n",
              "        margin-right: 12px;\n",
              "        color: #757575;\n",
              "        font-weight: normal;\n",
              "        font-size: 13px;\n",
              "    }\n",
              "    .error {\n",
              "        color: red;\n",
              "    }\n",
              "  </style>\n",
              "\n",
              "<script src=\"https://cdn.jsdelivr.net/npm//vega@3.3.1\"></script>\n",
              "<script src=\"https://cdn.jsdelivr.net/npm//vega-lite@2.6.0\"></script>\n",
              "<script src=\"https://cdn.jsdelivr.net/npm//vega-embed@3.14\"></script>\n",
              "\n",
              "</head>\n",
              "<body>\n",
              "  <div id=\"vis\"></div>\n",
              "  <script type=\"text/javascript\">\n",
              "    var spec = {\"config\": {\"view\": {\"width\": 400, \"height\": 300}}, \"data\": {\"url\": \"https://vega.github.io/vega-datasets/data/us-10m.json\", \"format\": {\"feature\": \"states\", \"type\": \"topojson\"}}, \"mark\": \"geoshape\", \"encoding\": {\"color\": {\"type\": \"quantitative\", \"field\": \"State Farm policy premiums\"}}, \"height\": 300, \"projection\": {\"type\": \"albersUsa\"}, \"transform\": [{\"lookup\": \"id\", \"from\": {\"data\": {\"name\": \"data-b615a17f98b0ca7d11f99dcf36616c5d\"}, \"key\": \"id\", \"fields\": [\"State Farm policy premiums\"]}}], \"width\": 500, \"$schema\": \"https://vega.github.io/schema/vega-lite/v2.6.0.json\", \"datasets\": {\"data-b615a17f98b0ca7d11f99dcf36616c5d\": [{\"state\": \"Alabama\", \"id\": 1, \"State Farm policy premiums\": 768213, \"BERKSHIRE HATHAWAY GRP\": 282947, \"STATE TOTAL\": 3025561}, {\"state\": \"Alaska\", \"id\": 2, \"State Farm policy premiums\": 128613, \"BERKSHIRE HATHAWAY GRP\": 81366, \"STATE TOTAL\": 454623}, {\"state\": \"Arizona\", \"id\": 4, \"State Farm policy premiums\": 760003, \"BERKSHIRE HATHAWAY GRP\": 604049, \"STATE TOTAL\": 4373055}, {\"state\": \"Arkansas\", \"id\": 5, \"State Farm policy premiums\": 454931, \"BERKSHIRE HATHAWAY GRP\": 96908, \"STATE TOTAL\": 1777917}, {\"state\": \"California\", \"id\": 6, \"State Farm policy premiums\": 3655463, \"BERKSHIRE HATHAWAY GRP\": 2091720, \"STATE TOTAL\": 25255501}, {\"state\": \"Colorado\", \"id\": 8, \"State Farm policy premiums\": 827143, \"BERKSHIRE HATHAWAY GRP\": 365797, \"STATE TOTAL\": 4057463}, {\"state\": \"Connecticut\", \"id\": 9, \"State Farm policy premiums\": 169773, \"BERKSHIRE HATHAWAY GRP\": 486498, \"STATE TOTAL\": 2795415}, {\"state\": \"Delaware\", \"id\": 10, \"State Farm policy premiums\": 191319, \"BERKSHIRE HATHAWAY GRP\": 129033, \"STATE TOTAL\": 802005}, {\"state\": \"District of Columbia\", \"id\": 11, \"State Farm policy premiums\": 67231, \"BERKSHIRE HATHAWAY GRP\": 115149, \"STATE TOTAL\": 325239}, {\"state\": \"Florida\", \"id\": 12, \"State Farm policy premiums\": 2806322, \"BERKSHIRE HATHAWAY GRP\": 3952147, \"STATE TOTAL\": 17333354}, {\"state\": \"Georgia\", \"id\": 13, \"State Farm policy premiums\": 1761224, \"BERKSHIRE HATHAWAY GRP\": 821326, \"STATE TOTAL\": 7571988}, {\"state\": \"Hawaii\", \"id\": 15, \"State Farm policy premiums\": 133498, \"BERKSHIRE HATHAWAY GRP\": 184743, \"STATE TOTAL\": 722550}, {\"state\": \"Idaho\", \"id\": 16, \"State Farm policy premiums\": 130613, \"BERKSHIRE HATHAWAY GRP\": 87222, \"STATE TOTAL\": 863636}, {\"state\": \"Illinois\", \"id\": 17, \"State Farm policy premiums\": 2256543, \"BERKSHIRE HATHAWAY GRP\": 412978, \"STATE TOTAL\": 7028885}, {\"state\": \"Indiana\", \"id\": 18, \"State Farm policy premiums\": 861382, \"BERKSHIRE HATHAWAY GRP\": 201200, \"STATE TOTAL\": 3506499}, {\"state\": \"Iowa\", \"id\": 19, \"State Farm policy premiums\": 368898, \"BERKSHIRE HATHAWAY GRP\": 58105, \"STATE TOTAL\": 1650388}, {\"state\": \"Kansas\", \"id\": 20, \"State Farm policy premiums\": 351343, \"BERKSHIRE HATHAWAY GRP\": 76533, \"STATE TOTAL\": 1725608}, {\"state\": \"Kentucky\", \"id\": 21, \"State Farm policy premiums\": 680433, \"BERKSHIRE HATHAWAY GRP\": 186915, \"STATE TOTAL\": 2805864}, {\"state\": \"Louisiana\", \"id\": 22, \"State Farm policy premiums\": 1415980, \"BERKSHIRE HATHAWAY GRP\": 369492, \"STATE TOTAL\": 4136224}, {\"state\": \"Maine\", \"id\": 23, \"State Farm policy premiums\": 101111, \"BERKSHIRE HATHAWAY GRP\": 68109, \"STATE TOTAL\": 699558}, {\"state\": \"Maryland\", \"id\": 24, \"State Farm policy premiums\": 883401, \"BERKSHIRE HATHAWAY GRP\": 1059508, \"STATE TOTAL\": 4554586}, {\"state\": \"Massachusetts\", \"id\": 25, \"State Farm policy premiums\": 0, \"BERKSHIRE HATHAWAY GRP\": 473913, \"STATE TOTAL\": 4924736}, {\"state\": \"Michigan\", \"id\": 26, \"State Farm policy premiums\": 1580398, \"BERKSHIRE HATHAWAY GRP\": 0, \"STATE TOTAL\": 8462142}, {\"state\": \"Minnesota\", \"id\": 27, \"State Farm policy premiums\": 851940, \"BERKSHIRE HATHAWAY GRP\": 108942, \"STATE TOTAL\": 3412460}, {\"state\": \"Mississippi\", \"id\": 28, \"State Farm policy premiums\": 467887, \"BERKSHIRE HATHAWAY GRP\": 100827, \"STATE TOTAL\": 1760180}, {\"state\": \"Missouri\", \"id\": 29, \"State Farm policy premiums\": 883774, \"BERKSHIRE HATHAWAY GRP\": 214191, \"STATE TOTAL\": 3606590}, {\"state\": \"Montana\", \"id\": 30, \"State Farm policy premiums\": 156816, \"BERKSHIRE HATHAWAY GRP\": 33538, \"STATE TOTAL\": 668513}, {\"state\": \"Nebraska\", \"id\": 31, \"State Farm policy premiums\": 273727, \"BERKSHIRE HATHAWAY GRP\": 61046, \"STATE TOTAL\": 1167135}, {\"state\": \"Nevada\", \"id\": 32, \"State Farm policy premiums\": 404688, \"BERKSHIRE HATHAWAY GRP\": 262815, \"STATE TOTAL\": 2129828}, {\"state\": \"New Hampshire\", \"id\": 33, \"State Farm policy premiums\": 103340, \"BERKSHIRE HATHAWAY GRP\": 103403, \"STATE TOTAL\": 806545}, {\"state\": \"New Jersey\", \"id\": 34, \"State Farm policy premiums\": 619623, \"BERKSHIRE HATHAWAY GRP\": 1441019, \"STATE TOTAL\": 7375823}, {\"state\": \"New Mexico\", \"id\": 35, \"State Farm policy premiums\": 261922, \"BERKSHIRE HATHAWAY GRP\": 174865, \"STATE TOTAL\": 1284430}, {\"state\": \"New York\", \"id\": 36, \"State Farm policy premiums\": 1666653, \"BERKSHIRE HATHAWAY GRP\": 3926684, \"STATE TOTAL\": 12633982}, {\"state\": \"North Carolina\", \"id\": 37, \"State Farm policy premiums\": 842368, \"BERKSHIRE HATHAWAY GRP\": 560700, \"STATE TOTAL\": 5543700}, {\"state\": \"North Dakota\", \"id\": 38, \"State Farm policy premiums\": 67282, \"BERKSHIRE HATHAWAY GRP\": 15516, \"STATE TOTAL\": 454376}, {\"state\": \"Ohio\", \"id\": 39, \"State Farm policy premiums\": 1240075, \"BERKSHIRE HATHAWAY GRP\": 405652, \"STATE TOTAL\": 6303148}, {\"state\": \"Oklahoma\", \"id\": 40, \"State Farm policy premiums\": 636063, \"BERKSHIRE HATHAWAY GRP\": 151388, \"STATE TOTAL\": 2515842}, {\"state\": \"Oregon\", \"id\": 41, \"State Farm policy premiums\": 564416, \"BERKSHIRE HATHAWAY GRP\": 223187, \"STATE TOTAL\": 2647434}, {\"state\": \"Pennsylvania\", \"id\": 42, \"State Farm policy premiums\": 1654528, \"BERKSHIRE HATHAWAY GRP\": 602848, \"STATE TOTAL\": 8270326}, {\"state\": \"Rhode Island\", \"id\": 44, \"State Farm policy premiums\": 0, \"BERKSHIRE HATHAWAY GRP\": 97597, \"STATE TOTAL\": 867558}, {\"state\": \"South Carolina\", \"id\": 45, \"State Farm policy premiums\": 874436, \"BERKSHIRE HATHAWAY GRP\": 426033, \"STATE TOTAL\": 3583918}, {\"state\": \"South Dakota\", \"id\": 46, \"State Farm policy premiums\": 101912, \"BERKSHIRE HATHAWAY GRP\": 15682, \"STATE TOTAL\": 508569}, {\"state\": \"Tennessee\", \"id\": 47, \"State Farm policy premiums\": 889329, \"BERKSHIRE HATHAWAY GRP\": 292357, \"STATE TOTAL\": 3769652}, {\"state\": \"Texas\", \"id\": 48, \"State Farm policy premiums\": 3395165, \"BERKSHIRE HATHAWAY GRP\": 2127633, \"STATE TOTAL\": 19180816}, {\"state\": \"Utah\", \"id\": 49, \"State Farm policy premiums\": 300403, \"BERKSHIRE HATHAWAY GRP\": 139315, \"STATE TOTAL\": 1723931}, {\"state\": \"Vermont\", \"id\": 50, \"State Farm policy premiums\": 30003, \"BERKSHIRE HATHAWAY GRP\": 52939, \"STATE TOTAL\": 359996}, {\"state\": \"Virginia\", \"id\": 51, \"State Farm policy premiums\": 878312, \"BERKSHIRE HATHAWAY GRP\": 884489, \"STATE TOTAL\": 5105360}, {\"state\": \"Washington\", \"id\": 53, \"State Farm policy premiums\": 794882, \"BERKSHIRE HATHAWAY GRP\": 478922, \"STATE TOTAL\": 4780616}, {\"state\": \"West Virginia\", \"id\": 54, \"State Farm policy premiums\": 323608, \"BERKSHIRE HATHAWAY GRP\": 110806, \"STATE TOTAL\": 1209872}, {\"state\": \"Wisconsin\", \"id\": 55, \"State Farm policy premiums\": 443680, \"BERKSHIRE HATHAWAY GRP\": 131845, \"STATE TOTAL\": 2950711}, {\"state\": \"Wyoming\", \"id\": 56, \"State Farm policy premiums\": 90412, \"BERKSHIRE HATHAWAY GRP\": 30187, \"STATE TOTAL\": 374169}, {\"state\": \"Puerto Rico\", \"id\": 72, \"State Farm policy premiums\": 0, \"BERKSHIRE HATHAWAY GRP\": 0, \"STATE TOTAL\": 444480}]}};\n",
              "    var embed_opt = {\"mode\": \"vega-lite\"};\n",
              "\n",
              "    function showError(el, error){\n",
              "        el.innerHTML = ('<div class=\"error\">'\n",
              "                        + '<p>JavaScript Error: ' + error.message + '</p>'\n",
              "                        + \"<p>This usually means there's a typo in your chart specification. \"\n",
              "                        + \"See the javascript console for the full traceback.</p>\"\n",
              "                        + '</div>');\n",
              "        throw error;\n",
              "    }\n",
              "    const el = document.getElementById('vis');\n",
              "    vegaEmbed(\"#vis\", spec, embed_opt)\n",
              "      .catch(error => showError(el, error));\n",
              "  </script>\n",
              "</body>\n",
              "</html>\n"
            ]
          },
          "metadata": {
            "tags": []
          },
          "execution_count": 9
        }
      ]
    },
    {
      "metadata": {
        "id": "4EaudnijDkGf",
        "colab_type": "code",
        "colab": {}
      },
      "cell_type": "code",
      "source": [
        ""
      ],
      "execution_count": 0,
      "outputs": []
    },
    {
      "metadata": {
        "id": "7Jbe3zbGDkGi",
        "colab_type": "text"
      },
      "cell_type": "markdown",
      "source": [
        "#### Links\n",
        "- [How to Spot Visualization Lies](https://flowingdata.com/2017/02/09/how-to-spot-visualization-lies/)\n",
        "- [Where to Start and End Your Y-Axis Scale](http://stephanieevergreen.com/y-axis/)\n",
        "- [xkcd heatmap](https://xkcd.com/1138/)\n",
        "- [Surprise Maps: Showing the Unexpected](https://medium.com/@uwdata/surprise-maps-showing-the-unexpected-e92b67398865)"
      ]
    },
    {
      "metadata": {
        "id": "hDZcCX6bDkGj",
        "colab_type": "text"
      },
      "cell_type": "markdown",
      "source": [
        "# Use Seaborn to visualize distributions and relationships with continuous and discrete variables\n",
        "\n",
        "#### Links\n",
        "- [Seaborn tutorial](https://seaborn.pydata.org/tutorial.html)\n",
        "- [Seaborn example gallery](https://seaborn.pydata.org/examples/index.html)\n",
        "- [Chart Chooser](https://extremepresentation.typepad.com/files/choosing-a-good-chart-09.pdf)"
      ]
    },
    {
      "metadata": {
        "id": "LHrbLHgwDkGl",
        "colab_type": "text"
      },
      "cell_type": "markdown",
      "source": [
        "## 1. Anscombe dataset"
      ]
    },
    {
      "metadata": {
        "id": "48GFHKE4DkGl",
        "colab_type": "text"
      },
      "cell_type": "markdown",
      "source": [
        "### Load dataset"
      ]
    },
    {
      "metadata": {
        "id": "LIyqu9z4DkGn",
        "colab_type": "code",
        "colab": {}
      },
      "cell_type": "code",
      "source": [
        "df = sns.load_dataset('anscombe')"
      ],
      "execution_count": 0,
      "outputs": []
    },
    {
      "metadata": {
        "id": "P-IdLlliDkGt",
        "colab_type": "text"
      },
      "cell_type": "markdown",
      "source": [
        "### See the data's shape"
      ]
    },
    {
      "metadata": {
        "id": "RDLBYRV9DkG0",
        "colab_type": "code",
        "outputId": "b1b94a29-0383-4a11-f6e2-2df78d7e9ec0",
        "colab": {
          "base_uri": "https://localhost:8080/",
          "height": 34
        }
      },
      "cell_type": "code",
      "source": [
        "df.shape"
      ],
      "execution_count": 0,
      "outputs": [
        {
          "output_type": "execute_result",
          "data": {
            "text/plain": [
              "(44, 3)"
            ]
          },
          "metadata": {
            "tags": []
          },
          "execution_count": 11
        }
      ]
    },
    {
      "metadata": {
        "id": "mZTO1SasDkHC",
        "colab_type": "text"
      },
      "cell_type": "markdown",
      "source": [
        "### See the data"
      ]
    },
    {
      "metadata": {
        "id": "Zp41v4GmDkHC",
        "colab_type": "code",
        "outputId": "f2635cec-471d-47fc-9c20-0f7d4045503e",
        "colab": {
          "base_uri": "https://localhost:8080/",
          "height": 1413
        }
      },
      "cell_type": "code",
      "source": [
        "df"
      ],
      "execution_count": 0,
      "outputs": [
        {
          "output_type": "execute_result",
          "data": {
            "text/html": [
              "<div>\n",
              "<style scoped>\n",
              "    .dataframe tbody tr th:only-of-type {\n",
              "        vertical-align: middle;\n",
              "    }\n",
              "\n",
              "    .dataframe tbody tr th {\n",
              "        vertical-align: top;\n",
              "    }\n",
              "\n",
              "    .dataframe thead th {\n",
              "        text-align: right;\n",
              "    }\n",
              "</style>\n",
              "<table border=\"1\" class=\"dataframe\">\n",
              "  <thead>\n",
              "    <tr style=\"text-align: right;\">\n",
              "      <th></th>\n",
              "      <th>dataset</th>\n",
              "      <th>x</th>\n",
              "      <th>y</th>\n",
              "    </tr>\n",
              "  </thead>\n",
              "  <tbody>\n",
              "    <tr>\n",
              "      <th>0</th>\n",
              "      <td>I</td>\n",
              "      <td>10.0</td>\n",
              "      <td>8.04</td>\n",
              "    </tr>\n",
              "    <tr>\n",
              "      <th>1</th>\n",
              "      <td>I</td>\n",
              "      <td>8.0</td>\n",
              "      <td>6.95</td>\n",
              "    </tr>\n",
              "    <tr>\n",
              "      <th>2</th>\n",
              "      <td>I</td>\n",
              "      <td>13.0</td>\n",
              "      <td>7.58</td>\n",
              "    </tr>\n",
              "    <tr>\n",
              "      <th>3</th>\n",
              "      <td>I</td>\n",
              "      <td>9.0</td>\n",
              "      <td>8.81</td>\n",
              "    </tr>\n",
              "    <tr>\n",
              "      <th>4</th>\n",
              "      <td>I</td>\n",
              "      <td>11.0</td>\n",
              "      <td>8.33</td>\n",
              "    </tr>\n",
              "    <tr>\n",
              "      <th>5</th>\n",
              "      <td>I</td>\n",
              "      <td>14.0</td>\n",
              "      <td>9.96</td>\n",
              "    </tr>\n",
              "    <tr>\n",
              "      <th>6</th>\n",
              "      <td>I</td>\n",
              "      <td>6.0</td>\n",
              "      <td>7.24</td>\n",
              "    </tr>\n",
              "    <tr>\n",
              "      <th>7</th>\n",
              "      <td>I</td>\n",
              "      <td>4.0</td>\n",
              "      <td>4.26</td>\n",
              "    </tr>\n",
              "    <tr>\n",
              "      <th>8</th>\n",
              "      <td>I</td>\n",
              "      <td>12.0</td>\n",
              "      <td>10.84</td>\n",
              "    </tr>\n",
              "    <tr>\n",
              "      <th>9</th>\n",
              "      <td>I</td>\n",
              "      <td>7.0</td>\n",
              "      <td>4.82</td>\n",
              "    </tr>\n",
              "    <tr>\n",
              "      <th>10</th>\n",
              "      <td>I</td>\n",
              "      <td>5.0</td>\n",
              "      <td>5.68</td>\n",
              "    </tr>\n",
              "    <tr>\n",
              "      <th>11</th>\n",
              "      <td>II</td>\n",
              "      <td>10.0</td>\n",
              "      <td>9.14</td>\n",
              "    </tr>\n",
              "    <tr>\n",
              "      <th>12</th>\n",
              "      <td>II</td>\n",
              "      <td>8.0</td>\n",
              "      <td>8.14</td>\n",
              "    </tr>\n",
              "    <tr>\n",
              "      <th>13</th>\n",
              "      <td>II</td>\n",
              "      <td>13.0</td>\n",
              "      <td>8.74</td>\n",
              "    </tr>\n",
              "    <tr>\n",
              "      <th>14</th>\n",
              "      <td>II</td>\n",
              "      <td>9.0</td>\n",
              "      <td>8.77</td>\n",
              "    </tr>\n",
              "    <tr>\n",
              "      <th>15</th>\n",
              "      <td>II</td>\n",
              "      <td>11.0</td>\n",
              "      <td>9.26</td>\n",
              "    </tr>\n",
              "    <tr>\n",
              "      <th>16</th>\n",
              "      <td>II</td>\n",
              "      <td>14.0</td>\n",
              "      <td>8.10</td>\n",
              "    </tr>\n",
              "    <tr>\n",
              "      <th>17</th>\n",
              "      <td>II</td>\n",
              "      <td>6.0</td>\n",
              "      <td>6.13</td>\n",
              "    </tr>\n",
              "    <tr>\n",
              "      <th>18</th>\n",
              "      <td>II</td>\n",
              "      <td>4.0</td>\n",
              "      <td>3.10</td>\n",
              "    </tr>\n",
              "    <tr>\n",
              "      <th>19</th>\n",
              "      <td>II</td>\n",
              "      <td>12.0</td>\n",
              "      <td>9.13</td>\n",
              "    </tr>\n",
              "    <tr>\n",
              "      <th>20</th>\n",
              "      <td>II</td>\n",
              "      <td>7.0</td>\n",
              "      <td>7.26</td>\n",
              "    </tr>\n",
              "    <tr>\n",
              "      <th>21</th>\n",
              "      <td>II</td>\n",
              "      <td>5.0</td>\n",
              "      <td>4.74</td>\n",
              "    </tr>\n",
              "    <tr>\n",
              "      <th>22</th>\n",
              "      <td>III</td>\n",
              "      <td>10.0</td>\n",
              "      <td>7.46</td>\n",
              "    </tr>\n",
              "    <tr>\n",
              "      <th>23</th>\n",
              "      <td>III</td>\n",
              "      <td>8.0</td>\n",
              "      <td>6.77</td>\n",
              "    </tr>\n",
              "    <tr>\n",
              "      <th>24</th>\n",
              "      <td>III</td>\n",
              "      <td>13.0</td>\n",
              "      <td>12.74</td>\n",
              "    </tr>\n",
              "    <tr>\n",
              "      <th>25</th>\n",
              "      <td>III</td>\n",
              "      <td>9.0</td>\n",
              "      <td>7.11</td>\n",
              "    </tr>\n",
              "    <tr>\n",
              "      <th>26</th>\n",
              "      <td>III</td>\n",
              "      <td>11.0</td>\n",
              "      <td>7.81</td>\n",
              "    </tr>\n",
              "    <tr>\n",
              "      <th>27</th>\n",
              "      <td>III</td>\n",
              "      <td>14.0</td>\n",
              "      <td>8.84</td>\n",
              "    </tr>\n",
              "    <tr>\n",
              "      <th>28</th>\n",
              "      <td>III</td>\n",
              "      <td>6.0</td>\n",
              "      <td>6.08</td>\n",
              "    </tr>\n",
              "    <tr>\n",
              "      <th>29</th>\n",
              "      <td>III</td>\n",
              "      <td>4.0</td>\n",
              "      <td>5.39</td>\n",
              "    </tr>\n",
              "    <tr>\n",
              "      <th>30</th>\n",
              "      <td>III</td>\n",
              "      <td>12.0</td>\n",
              "      <td>8.15</td>\n",
              "    </tr>\n",
              "    <tr>\n",
              "      <th>31</th>\n",
              "      <td>III</td>\n",
              "      <td>7.0</td>\n",
              "      <td>6.42</td>\n",
              "    </tr>\n",
              "    <tr>\n",
              "      <th>32</th>\n",
              "      <td>III</td>\n",
              "      <td>5.0</td>\n",
              "      <td>5.73</td>\n",
              "    </tr>\n",
              "    <tr>\n",
              "      <th>33</th>\n",
              "      <td>IV</td>\n",
              "      <td>8.0</td>\n",
              "      <td>6.58</td>\n",
              "    </tr>\n",
              "    <tr>\n",
              "      <th>34</th>\n",
              "      <td>IV</td>\n",
              "      <td>8.0</td>\n",
              "      <td>5.76</td>\n",
              "    </tr>\n",
              "    <tr>\n",
              "      <th>35</th>\n",
              "      <td>IV</td>\n",
              "      <td>8.0</td>\n",
              "      <td>7.71</td>\n",
              "    </tr>\n",
              "    <tr>\n",
              "      <th>36</th>\n",
              "      <td>IV</td>\n",
              "      <td>8.0</td>\n",
              "      <td>8.84</td>\n",
              "    </tr>\n",
              "    <tr>\n",
              "      <th>37</th>\n",
              "      <td>IV</td>\n",
              "      <td>8.0</td>\n",
              "      <td>8.47</td>\n",
              "    </tr>\n",
              "    <tr>\n",
              "      <th>38</th>\n",
              "      <td>IV</td>\n",
              "      <td>8.0</td>\n",
              "      <td>7.04</td>\n",
              "    </tr>\n",
              "    <tr>\n",
              "      <th>39</th>\n",
              "      <td>IV</td>\n",
              "      <td>8.0</td>\n",
              "      <td>5.25</td>\n",
              "    </tr>\n",
              "    <tr>\n",
              "      <th>40</th>\n",
              "      <td>IV</td>\n",
              "      <td>19.0</td>\n",
              "      <td>12.50</td>\n",
              "    </tr>\n",
              "    <tr>\n",
              "      <th>41</th>\n",
              "      <td>IV</td>\n",
              "      <td>8.0</td>\n",
              "      <td>5.56</td>\n",
              "    </tr>\n",
              "    <tr>\n",
              "      <th>42</th>\n",
              "      <td>IV</td>\n",
              "      <td>8.0</td>\n",
              "      <td>7.91</td>\n",
              "    </tr>\n",
              "    <tr>\n",
              "      <th>43</th>\n",
              "      <td>IV</td>\n",
              "      <td>8.0</td>\n",
              "      <td>6.89</td>\n",
              "    </tr>\n",
              "  </tbody>\n",
              "</table>\n",
              "</div>"
            ],
            "text/plain": [
              "   dataset     x      y\n",
              "0        I  10.0   8.04\n",
              "1        I   8.0   6.95\n",
              "2        I  13.0   7.58\n",
              "3        I   9.0   8.81\n",
              "4        I  11.0   8.33\n",
              "5        I  14.0   9.96\n",
              "6        I   6.0   7.24\n",
              "7        I   4.0   4.26\n",
              "8        I  12.0  10.84\n",
              "9        I   7.0   4.82\n",
              "10       I   5.0   5.68\n",
              "11      II  10.0   9.14\n",
              "12      II   8.0   8.14\n",
              "13      II  13.0   8.74\n",
              "14      II   9.0   8.77\n",
              "15      II  11.0   9.26\n",
              "16      II  14.0   8.10\n",
              "17      II   6.0   6.13\n",
              "18      II   4.0   3.10\n",
              "19      II  12.0   9.13\n",
              "20      II   7.0   7.26\n",
              "21      II   5.0   4.74\n",
              "22     III  10.0   7.46\n",
              "23     III   8.0   6.77\n",
              "24     III  13.0  12.74\n",
              "25     III   9.0   7.11\n",
              "26     III  11.0   7.81\n",
              "27     III  14.0   8.84\n",
              "28     III   6.0   6.08\n",
              "29     III   4.0   5.39\n",
              "30     III  12.0   8.15\n",
              "31     III   7.0   6.42\n",
              "32     III   5.0   5.73\n",
              "33      IV   8.0   6.58\n",
              "34      IV   8.0   5.76\n",
              "35      IV   8.0   7.71\n",
              "36      IV   8.0   8.84\n",
              "37      IV   8.0   8.47\n",
              "38      IV   8.0   7.04\n",
              "39      IV   8.0   5.25\n",
              "40      IV  19.0  12.50\n",
              "41      IV   8.0   5.56\n",
              "42      IV   8.0   7.91\n",
              "43      IV   8.0   6.89"
            ]
          },
          "metadata": {
            "tags": []
          },
          "execution_count": 12
        }
      ]
    },
    {
      "metadata": {
        "id": "-HufezWVDkHD",
        "colab_type": "text"
      },
      "cell_type": "markdown",
      "source": [
        "### [Group by](https://pandas.pydata.org/pandas-docs/stable/generated/pandas.DataFrame.groupby.html) `'dataset'`"
      ]
    },
    {
      "metadata": {
        "id": "UAmCfYzRDkHE",
        "colab_type": "code",
        "colab": {}
      },
      "cell_type": "code",
      "source": [
        "groups = df.groupby('dataset')"
      ],
      "execution_count": 0,
      "outputs": []
    },
    {
      "metadata": {
        "id": "r-MhmReeDkHI",
        "colab_type": "text"
      },
      "cell_type": "markdown",
      "source": [
        "### [Describe](https://pandas.pydata.org/pandas-docs/stable/generated/pandas.DataFrame.describe.html) the groups"
      ]
    },
    {
      "metadata": {
        "id": "3jBS9QwkDkHI",
        "colab_type": "code",
        "outputId": "c2864c19-83df-47ac-feb7-f0a77a27338c",
        "colab": {
          "base_uri": "https://localhost:8080/",
          "height": 235
        }
      },
      "cell_type": "code",
      "source": [
        "groups.describe()"
      ],
      "execution_count": 0,
      "outputs": [
        {
          "output_type": "execute_result",
          "data": {
            "text/html": [
              "<div>\n",
              "<style scoped>\n",
              "    .dataframe tbody tr th:only-of-type {\n",
              "        vertical-align: middle;\n",
              "    }\n",
              "\n",
              "    .dataframe tbody tr th {\n",
              "        vertical-align: top;\n",
              "    }\n",
              "\n",
              "    .dataframe thead tr th {\n",
              "        text-align: left;\n",
              "    }\n",
              "\n",
              "    .dataframe thead tr:last-of-type th {\n",
              "        text-align: right;\n",
              "    }\n",
              "</style>\n",
              "<table border=\"1\" class=\"dataframe\">\n",
              "  <thead>\n",
              "    <tr>\n",
              "      <th></th>\n",
              "      <th colspan=\"8\" halign=\"left\">x</th>\n",
              "      <th colspan=\"8\" halign=\"left\">y</th>\n",
              "    </tr>\n",
              "    <tr>\n",
              "      <th></th>\n",
              "      <th>count</th>\n",
              "      <th>mean</th>\n",
              "      <th>std</th>\n",
              "      <th>min</th>\n",
              "      <th>25%</th>\n",
              "      <th>50%</th>\n",
              "      <th>75%</th>\n",
              "      <th>max</th>\n",
              "      <th>count</th>\n",
              "      <th>mean</th>\n",
              "      <th>std</th>\n",
              "      <th>min</th>\n",
              "      <th>25%</th>\n",
              "      <th>50%</th>\n",
              "      <th>75%</th>\n",
              "      <th>max</th>\n",
              "    </tr>\n",
              "    <tr>\n",
              "      <th>dataset</th>\n",
              "      <th></th>\n",
              "      <th></th>\n",
              "      <th></th>\n",
              "      <th></th>\n",
              "      <th></th>\n",
              "      <th></th>\n",
              "      <th></th>\n",
              "      <th></th>\n",
              "      <th></th>\n",
              "      <th></th>\n",
              "      <th></th>\n",
              "      <th></th>\n",
              "      <th></th>\n",
              "      <th></th>\n",
              "      <th></th>\n",
              "      <th></th>\n",
              "    </tr>\n",
              "  </thead>\n",
              "  <tbody>\n",
              "    <tr>\n",
              "      <th>I</th>\n",
              "      <td>11.0</td>\n",
              "      <td>9.0</td>\n",
              "      <td>3.316625</td>\n",
              "      <td>4.0</td>\n",
              "      <td>6.5</td>\n",
              "      <td>9.0</td>\n",
              "      <td>11.5</td>\n",
              "      <td>14.0</td>\n",
              "      <td>11.0</td>\n",
              "      <td>7.500909</td>\n",
              "      <td>2.031568</td>\n",
              "      <td>4.26</td>\n",
              "      <td>6.315</td>\n",
              "      <td>7.58</td>\n",
              "      <td>8.57</td>\n",
              "      <td>10.84</td>\n",
              "    </tr>\n",
              "    <tr>\n",
              "      <th>II</th>\n",
              "      <td>11.0</td>\n",
              "      <td>9.0</td>\n",
              "      <td>3.316625</td>\n",
              "      <td>4.0</td>\n",
              "      <td>6.5</td>\n",
              "      <td>9.0</td>\n",
              "      <td>11.5</td>\n",
              "      <td>14.0</td>\n",
              "      <td>11.0</td>\n",
              "      <td>7.500909</td>\n",
              "      <td>2.031657</td>\n",
              "      <td>3.10</td>\n",
              "      <td>6.695</td>\n",
              "      <td>8.14</td>\n",
              "      <td>8.95</td>\n",
              "      <td>9.26</td>\n",
              "    </tr>\n",
              "    <tr>\n",
              "      <th>III</th>\n",
              "      <td>11.0</td>\n",
              "      <td>9.0</td>\n",
              "      <td>3.316625</td>\n",
              "      <td>4.0</td>\n",
              "      <td>6.5</td>\n",
              "      <td>9.0</td>\n",
              "      <td>11.5</td>\n",
              "      <td>14.0</td>\n",
              "      <td>11.0</td>\n",
              "      <td>7.500000</td>\n",
              "      <td>2.030424</td>\n",
              "      <td>5.39</td>\n",
              "      <td>6.250</td>\n",
              "      <td>7.11</td>\n",
              "      <td>7.98</td>\n",
              "      <td>12.74</td>\n",
              "    </tr>\n",
              "    <tr>\n",
              "      <th>IV</th>\n",
              "      <td>11.0</td>\n",
              "      <td>9.0</td>\n",
              "      <td>3.316625</td>\n",
              "      <td>8.0</td>\n",
              "      <td>8.0</td>\n",
              "      <td>8.0</td>\n",
              "      <td>8.0</td>\n",
              "      <td>19.0</td>\n",
              "      <td>11.0</td>\n",
              "      <td>7.500909</td>\n",
              "      <td>2.030579</td>\n",
              "      <td>5.25</td>\n",
              "      <td>6.170</td>\n",
              "      <td>7.04</td>\n",
              "      <td>8.19</td>\n",
              "      <td>12.50</td>\n",
              "    </tr>\n",
              "  </tbody>\n",
              "</table>\n",
              "</div>"
            ],
            "text/plain": [
              "            x                                               y            \\\n",
              "        count mean       std  min  25%  50%   75%   max count      mean   \n",
              "dataset                                                                   \n",
              "I        11.0  9.0  3.316625  4.0  6.5  9.0  11.5  14.0  11.0  7.500909   \n",
              "II       11.0  9.0  3.316625  4.0  6.5  9.0  11.5  14.0  11.0  7.500909   \n",
              "III      11.0  9.0  3.316625  4.0  6.5  9.0  11.5  14.0  11.0  7.500000   \n",
              "IV       11.0  9.0  3.316625  8.0  8.0  8.0   8.0  19.0  11.0  7.500909   \n",
              "\n",
              "                                                   \n",
              "              std   min    25%   50%   75%    max  \n",
              "dataset                                            \n",
              "I        2.031568  4.26  6.315  7.58  8.57  10.84  \n",
              "II       2.031657  3.10  6.695  8.14  8.95   9.26  \n",
              "III      2.030424  5.39  6.250  7.11  7.98  12.74  \n",
              "IV       2.030579  5.25  6.170  7.04  8.19  12.50  "
            ]
          },
          "metadata": {
            "tags": []
          },
          "execution_count": 14
        }
      ]
    },
    {
      "metadata": {
        "id": "eTxURVQEDkHK",
        "colab_type": "text"
      },
      "cell_type": "markdown",
      "source": [
        "### Get the [count](https://pandas.pydata.org/pandas-docs/stable/generated/pandas.DataFrame.count.html), for each column in each group"
      ]
    },
    {
      "metadata": {
        "id": "ERINZGvSDkHL",
        "colab_type": "code",
        "outputId": "24eae3c9-7031-40c2-e6c9-4a33639fbef7",
        "colab": {
          "base_uri": "https://localhost:8080/",
          "height": 204
        }
      },
      "cell_type": "code",
      "source": [
        "groups.count()"
      ],
      "execution_count": 0,
      "outputs": [
        {
          "output_type": "execute_result",
          "data": {
            "text/html": [
              "<div>\n",
              "<style scoped>\n",
              "    .dataframe tbody tr th:only-of-type {\n",
              "        vertical-align: middle;\n",
              "    }\n",
              "\n",
              "    .dataframe tbody tr th {\n",
              "        vertical-align: top;\n",
              "    }\n",
              "\n",
              "    .dataframe thead th {\n",
              "        text-align: right;\n",
              "    }\n",
              "</style>\n",
              "<table border=\"1\" class=\"dataframe\">\n",
              "  <thead>\n",
              "    <tr style=\"text-align: right;\">\n",
              "      <th></th>\n",
              "      <th>x</th>\n",
              "      <th>y</th>\n",
              "    </tr>\n",
              "    <tr>\n",
              "      <th>dataset</th>\n",
              "      <th></th>\n",
              "      <th></th>\n",
              "    </tr>\n",
              "  </thead>\n",
              "  <tbody>\n",
              "    <tr>\n",
              "      <th>I</th>\n",
              "      <td>11</td>\n",
              "      <td>11</td>\n",
              "    </tr>\n",
              "    <tr>\n",
              "      <th>II</th>\n",
              "      <td>11</td>\n",
              "      <td>11</td>\n",
              "    </tr>\n",
              "    <tr>\n",
              "      <th>III</th>\n",
              "      <td>11</td>\n",
              "      <td>11</td>\n",
              "    </tr>\n",
              "    <tr>\n",
              "      <th>IV</th>\n",
              "      <td>11</td>\n",
              "      <td>11</td>\n",
              "    </tr>\n",
              "  </tbody>\n",
              "</table>\n",
              "</div>"
            ],
            "text/plain": [
              "          x   y\n",
              "dataset        \n",
              "I        11  11\n",
              "II       11  11\n",
              "III      11  11\n",
              "IV       11  11"
            ]
          },
          "metadata": {
            "tags": []
          },
          "execution_count": 15
        }
      ]
    },
    {
      "metadata": {
        "id": "7PIHzum4DkHN",
        "colab_type": "text"
      },
      "cell_type": "markdown",
      "source": [
        "### Get the [mean](https://pandas.pydata.org/pandas-docs/stable/generated/pandas.DataFrame.mean.html) ..."
      ]
    },
    {
      "metadata": {
        "id": "du8XMCIgDkHN",
        "colab_type": "code",
        "outputId": "7ed4a359-95c6-474d-b219-89c157835660",
        "colab": {
          "base_uri": "https://localhost:8080/",
          "height": 204
        }
      },
      "cell_type": "code",
      "source": [
        "groups.mean()"
      ],
      "execution_count": 0,
      "outputs": [
        {
          "output_type": "execute_result",
          "data": {
            "text/html": [
              "<div>\n",
              "<style scoped>\n",
              "    .dataframe tbody tr th:only-of-type {\n",
              "        vertical-align: middle;\n",
              "    }\n",
              "\n",
              "    .dataframe tbody tr th {\n",
              "        vertical-align: top;\n",
              "    }\n",
              "\n",
              "    .dataframe thead th {\n",
              "        text-align: right;\n",
              "    }\n",
              "</style>\n",
              "<table border=\"1\" class=\"dataframe\">\n",
              "  <thead>\n",
              "    <tr style=\"text-align: right;\">\n",
              "      <th></th>\n",
              "      <th>x</th>\n",
              "      <th>y</th>\n",
              "    </tr>\n",
              "    <tr>\n",
              "      <th>dataset</th>\n",
              "      <th></th>\n",
              "      <th></th>\n",
              "    </tr>\n",
              "  </thead>\n",
              "  <tbody>\n",
              "    <tr>\n",
              "      <th>I</th>\n",
              "      <td>9.0</td>\n",
              "      <td>7.500909</td>\n",
              "    </tr>\n",
              "    <tr>\n",
              "      <th>II</th>\n",
              "      <td>9.0</td>\n",
              "      <td>7.500909</td>\n",
              "    </tr>\n",
              "    <tr>\n",
              "      <th>III</th>\n",
              "      <td>9.0</td>\n",
              "      <td>7.500000</td>\n",
              "    </tr>\n",
              "    <tr>\n",
              "      <th>IV</th>\n",
              "      <td>9.0</td>\n",
              "      <td>7.500909</td>\n",
              "    </tr>\n",
              "  </tbody>\n",
              "</table>\n",
              "</div>"
            ],
            "text/plain": [
              "           x         y\n",
              "dataset               \n",
              "I        9.0  7.500909\n",
              "II       9.0  7.500909\n",
              "III      9.0  7.500000\n",
              "IV       9.0  7.500909"
            ]
          },
          "metadata": {
            "tags": []
          },
          "execution_count": 16
        }
      ]
    },
    {
      "metadata": {
        "id": "FtqaZzouDkHO",
        "colab_type": "text"
      },
      "cell_type": "markdown",
      "source": [
        "### Get the [standard deviation](https://pandas.pydata.org/pandas-docs/stable/generated/pandas.DataFrame.std.html) ..."
      ]
    },
    {
      "metadata": {
        "id": "3DVjU-wnDkHQ",
        "colab_type": "code",
        "outputId": "9495262c-d1f7-441e-8d04-7f67ba7f03ad",
        "colab": {
          "base_uri": "https://localhost:8080/",
          "height": 204
        }
      },
      "cell_type": "code",
      "source": [
        "groups.std()"
      ],
      "execution_count": 0,
      "outputs": [
        {
          "output_type": "execute_result",
          "data": {
            "text/html": [
              "<div>\n",
              "<style scoped>\n",
              "    .dataframe tbody tr th:only-of-type {\n",
              "        vertical-align: middle;\n",
              "    }\n",
              "\n",
              "    .dataframe tbody tr th {\n",
              "        vertical-align: top;\n",
              "    }\n",
              "\n",
              "    .dataframe thead th {\n",
              "        text-align: right;\n",
              "    }\n",
              "</style>\n",
              "<table border=\"1\" class=\"dataframe\">\n",
              "  <thead>\n",
              "    <tr style=\"text-align: right;\">\n",
              "      <th></th>\n",
              "      <th>x</th>\n",
              "      <th>y</th>\n",
              "    </tr>\n",
              "    <tr>\n",
              "      <th>dataset</th>\n",
              "      <th></th>\n",
              "      <th></th>\n",
              "    </tr>\n",
              "  </thead>\n",
              "  <tbody>\n",
              "    <tr>\n",
              "      <th>I</th>\n",
              "      <td>3.316625</td>\n",
              "      <td>2.031568</td>\n",
              "    </tr>\n",
              "    <tr>\n",
              "      <th>II</th>\n",
              "      <td>3.316625</td>\n",
              "      <td>2.031657</td>\n",
              "    </tr>\n",
              "    <tr>\n",
              "      <th>III</th>\n",
              "      <td>3.316625</td>\n",
              "      <td>2.030424</td>\n",
              "    </tr>\n",
              "    <tr>\n",
              "      <th>IV</th>\n",
              "      <td>3.316625</td>\n",
              "      <td>2.030579</td>\n",
              "    </tr>\n",
              "  </tbody>\n",
              "</table>\n",
              "</div>"
            ],
            "text/plain": [
              "                x         y\n",
              "dataset                    \n",
              "I        3.316625  2.031568\n",
              "II       3.316625  2.031657\n",
              "III      3.316625  2.030424\n",
              "IV       3.316625  2.030579"
            ]
          },
          "metadata": {
            "tags": []
          },
          "execution_count": 17
        }
      ]
    },
    {
      "metadata": {
        "id": "97OOR4_-DkHS",
        "colab_type": "text"
      },
      "cell_type": "markdown",
      "source": [
        "### Get the [correlation](https://pandas.pydata.org/pandas-docs/stable/generated/pandas.DataFrame.corr.html) ..."
      ]
    },
    {
      "metadata": {
        "id": "Bevb3H5IDkHT",
        "colab_type": "code",
        "outputId": "2006a304-70ad-4299-94eb-21d676de9542",
        "colab": {
          "base_uri": "https://localhost:8080/",
          "height": 328
        }
      },
      "cell_type": "code",
      "source": [
        "groups.corr()"
      ],
      "execution_count": 0,
      "outputs": [
        {
          "output_type": "execute_result",
          "data": {
            "text/html": [
              "<div>\n",
              "<style scoped>\n",
              "    .dataframe tbody tr th:only-of-type {\n",
              "        vertical-align: middle;\n",
              "    }\n",
              "\n",
              "    .dataframe tbody tr th {\n",
              "        vertical-align: top;\n",
              "    }\n",
              "\n",
              "    .dataframe thead th {\n",
              "        text-align: right;\n",
              "    }\n",
              "</style>\n",
              "<table border=\"1\" class=\"dataframe\">\n",
              "  <thead>\n",
              "    <tr style=\"text-align: right;\">\n",
              "      <th></th>\n",
              "      <th></th>\n",
              "      <th>x</th>\n",
              "      <th>y</th>\n",
              "    </tr>\n",
              "    <tr>\n",
              "      <th>dataset</th>\n",
              "      <th></th>\n",
              "      <th></th>\n",
              "      <th></th>\n",
              "    </tr>\n",
              "  </thead>\n",
              "  <tbody>\n",
              "    <tr>\n",
              "      <th rowspan=\"2\" valign=\"top\">I</th>\n",
              "      <th>x</th>\n",
              "      <td>1.000000</td>\n",
              "      <td>0.816421</td>\n",
              "    </tr>\n",
              "    <tr>\n",
              "      <th>y</th>\n",
              "      <td>0.816421</td>\n",
              "      <td>1.000000</td>\n",
              "    </tr>\n",
              "    <tr>\n",
              "      <th rowspan=\"2\" valign=\"top\">II</th>\n",
              "      <th>x</th>\n",
              "      <td>1.000000</td>\n",
              "      <td>0.816237</td>\n",
              "    </tr>\n",
              "    <tr>\n",
              "      <th>y</th>\n",
              "      <td>0.816237</td>\n",
              "      <td>1.000000</td>\n",
              "    </tr>\n",
              "    <tr>\n",
              "      <th rowspan=\"2\" valign=\"top\">III</th>\n",
              "      <th>x</th>\n",
              "      <td>1.000000</td>\n",
              "      <td>0.816287</td>\n",
              "    </tr>\n",
              "    <tr>\n",
              "      <th>y</th>\n",
              "      <td>0.816287</td>\n",
              "      <td>1.000000</td>\n",
              "    </tr>\n",
              "    <tr>\n",
              "      <th rowspan=\"2\" valign=\"top\">IV</th>\n",
              "      <th>x</th>\n",
              "      <td>1.000000</td>\n",
              "      <td>0.816521</td>\n",
              "    </tr>\n",
              "    <tr>\n",
              "      <th>y</th>\n",
              "      <td>0.816521</td>\n",
              "      <td>1.000000</td>\n",
              "    </tr>\n",
              "  </tbody>\n",
              "</table>\n",
              "</div>"
            ],
            "text/plain": [
              "                  x         y\n",
              "dataset                      \n",
              "I       x  1.000000  0.816421\n",
              "        y  0.816421  1.000000\n",
              "II      x  1.000000  0.816237\n",
              "        y  0.816237  1.000000\n",
              "III     x  1.000000  0.816287\n",
              "        y  0.816287  1.000000\n",
              "IV      x  1.000000  0.816521\n",
              "        y  0.816521  1.000000"
            ]
          },
          "metadata": {
            "tags": []
          },
          "execution_count": 18
        }
      ]
    },
    {
      "metadata": {
        "id": "zEIHrrbrDkHT",
        "colab_type": "text"
      },
      "cell_type": "markdown",
      "source": [
        "### Use pandas to [plot](https://pandas.pydata.org/pandas-docs/stable/generated/pandas.DataFrame.plot.html) the groups, as scatter plots"
      ]
    },
    {
      "metadata": {
        "id": "rWLuMFbzDkHU",
        "colab_type": "code",
        "outputId": "379c7a43-dcf0-48da-b804-e3d01e1dcbdb",
        "colab": {
          "base_uri": "https://localhost:8080/",
          "height": 1183
        }
      },
      "cell_type": "code",
      "source": [
        "groups.plot('x', 'y', kind = 'scatter')"
      ],
      "execution_count": 0,
      "outputs": [
        {
          "output_type": "execute_result",
          "data": {
            "text/plain": [
              "dataset\n",
              "I      AxesSubplot(0.125,0.125;0.775x0.755)\n",
              "II     AxesSubplot(0.125,0.125;0.775x0.755)\n",
              "III    AxesSubplot(0.125,0.125;0.775x0.755)\n",
              "IV     AxesSubplot(0.125,0.125;0.775x0.755)\n",
              "dtype: object"
            ]
          },
          "metadata": {
            "tags": []
          },
          "execution_count": 19
        },
        {
          "output_type": "display_data",
          "data": {
            "image/png": "[encoded data removed]",
            "text/plain": [
              "<matplotlib.figure.Figure at 0x7f26ca1c6e10>"
            ]
          },
          "metadata": {
            "tags": []
          }
        },
        {
          "output_type": "display_data",
          "data": {
            "image/png": "[encoded data removed]",
            "text/plain": [
              "<matplotlib.figure.Figure at 0x7f26ca1b1898>"
            ]
          },
          "metadata": {
            "tags": []
          }
        },
        {
          "output_type": "display_data",
          "data": {
            "image/png": "[encoded data removed]",
            "text/plain": [
              "<matplotlib.figure.Figure at 0x7f26ca21cdd8>"
            ]
          },
          "metadata": {
            "tags": []
          }
        },
        {
          "output_type": "display_data",
          "data": {
            "image/png": "[encoded data removed]",
            "text/plain": [
              "<matplotlib.figure.Figure at 0x7f26ca13a5c0>"
            ]
          },
          "metadata": {
            "tags": []
          }
        }
      ]
    },
    {
      "metadata": {
        "id": "P76NgXzsYRVX",
        "colab_type": "code",
        "outputId": "4a1ef227-bb26-4f76-daa7-84256badd620",
        "colab": {
          "base_uri": "https://localhost:8080/",
          "height": 207
        }
      },
      "cell_type": "code",
      "source": [
        "!pip install seaborn==0.9.0"
      ],
      "execution_count": 0,
      "outputs": [
        {
          "output_type": "stream",
          "text": [
            "Requirement already satisfied: seaborn==0.9.0 in /usr/local/lib/python3.6/dist-packages (0.9.0)\n",
            "Requirement already satisfied: scipy>=0.14.0 in /usr/local/lib/python3.6/dist-packages (from seaborn==0.9.0) (1.1.0)\n",
            "Requirement already satisfied: matplotlib>=1.4.3 in /usr/local/lib/python3.6/dist-packages (from seaborn==0.9.0) (2.1.2)\n",
            "Requirement already satisfied: numpy>=1.9.3 in /usr/local/lib/python3.6/dist-packages (from seaborn==0.9.0) (1.14.6)\n",
            "Requirement already satisfied: pandas>=0.15.2 in /usr/local/lib/python3.6/dist-packages (from seaborn==0.9.0) (0.22.0)\n",
            "Requirement already satisfied: python-dateutil>=2.1 in /usr/local/lib/python3.6/dist-packages (from matplotlib>=1.4.3->seaborn==0.9.0) (2.5.3)\n",
            "Requirement already satisfied: cycler>=0.10 in /usr/local/lib/python3.6/dist-packages (from matplotlib>=1.4.3->seaborn==0.9.0) (0.10.0)\n",
            "Requirement already satisfied: pytz in /usr/local/lib/python3.6/dist-packages (from matplotlib>=1.4.3->seaborn==0.9.0) (2018.7)\n",
            "Requirement already satisfied: six>=1.10 in /usr/local/lib/python3.6/dist-packages (from matplotlib>=1.4.3->seaborn==0.9.0) (1.11.0)\n",
            "Requirement already satisfied: pyparsing!=2.0.4,!=2.1.2,!=2.1.6,>=2.0.1 in /usr/local/lib/python3.6/dist-packages (from matplotlib>=1.4.3->seaborn==0.9.0) (2.3.0)\n"
          ],
          "name": "stdout"
        }
      ]
    },
    {
      "metadata": {
        "id": "pZBR8En2DkHW",
        "colab_type": "text"
      },
      "cell_type": "markdown",
      "source": [
        "### Use Seaborn to make [relational plots](http://seaborn.pydata.org/generated/seaborn.relplot.html)"
      ]
    },
    {
      "metadata": {
        "id": "GH_RVL2WDkHW",
        "colab_type": "code",
        "outputId": "6407a6e3-a650-4c02-e275-006f80f5a801",
        "colab": {
          "base_uri": "https://localhost:8080/",
          "height": 389
        }
      },
      "cell_type": "code",
      "source": [
        "%matplotlib inline\n",
        "import seaborn as sns\n",
        "#assert sns.__version__ == '0.9.0'\n",
        "\n",
        "import numpy as np\n",
        "import pandas as pd\n",
        "import matplotlib.pyplot as plt\n",
        "\n",
        "df = sns.load_dataset('anscombe')\n",
        "sns.relplot('x', 'y', col='dataset', data=df);"
      ],
      "execution_count": 0,
      "outputs": [
        {
          "output_type": "display_data",
          "data": {
            "image/png": "[encoded data removed]",
            "text/plain": [
              "<matplotlib.figure.Figure at 0x7f26ca1c1be0>"
            ]
          },
          "metadata": {
            "tags": []
          }
        }
      ]
    },
    {
      "metadata": {
        "id": "jZ9cI1GwWD82",
        "colab_type": "code",
        "outputId": "e2b5fe1c-e42c-49af-f2f1-6009f3f5cfbd",
        "colab": {
          "base_uri": "https://localhost:8080/",
          "height": 34
        }
      },
      "cell_type": "code",
      "source": [
        "sns.__version__"
      ],
      "execution_count": 0,
      "outputs": [
        {
          "output_type": "execute_result",
          "data": {
            "text/plain": [
              "'0.9.0'"
            ]
          },
          "metadata": {
            "tags": []
          },
          "execution_count": 22
        }
      ]
    },
    {
      "metadata": {
        "id": "mzQbIgf1DkHX",
        "colab_type": "text"
      },
      "cell_type": "markdown",
      "source": [
        "### Use Seaborn to make [linear model plots](http://seaborn.pydata.org/generated/seaborn.lmplot.html)"
      ]
    },
    {
      "metadata": {
        "id": "NPCvmPULDkHZ",
        "colab_type": "code",
        "colab": {}
      },
      "cell_type": "code",
      "source": [
        ""
      ],
      "execution_count": 0,
      "outputs": []
    },
    {
      "metadata": {
        "id": "CGt83UjIDkHa",
        "colab_type": "text"
      },
      "cell_type": "markdown",
      "source": [
        "#### Links\n",
        "- [Seaborn examples: Anscombe's quartet](http://seaborn.pydata.org/examples/anscombes_quartet.html)\n",
        "- [Wikipedia: Anscombe's quartet](https://en.wikipedia.org/wiki/Anscombe%27s_quartet)\n",
        "- [The Datasaurus Dozen](https://www.autodeskresearch.com/publications/samestats)"
      ]
    },
    {
      "metadata": {
        "id": "w-E-V7TKDkHa",
        "colab_type": "text"
      },
      "cell_type": "markdown",
      "source": [
        "## 2. Tips dataset"
      ]
    },
    {
      "metadata": {
        "id": "6NE56pkUDkHb",
        "colab_type": "text"
      },
      "cell_type": "markdown",
      "source": [
        "### Load dataset"
      ]
    },
    {
      "metadata": {
        "id": "Tm972I4ZDkHb",
        "colab_type": "code",
        "colab": {}
      },
      "cell_type": "code",
      "source": [
        "tips = sns.load_dataset('tips')"
      ],
      "execution_count": 0,
      "outputs": []
    },
    {
      "metadata": {
        "id": "nCABnCRFDkHd",
        "colab_type": "text"
      },
      "cell_type": "markdown",
      "source": [
        "### See the data's shape"
      ]
    },
    {
      "metadata": {
        "id": "8m6ddly_DkHe",
        "colab_type": "code",
        "outputId": "6adb4e0f-8323-40cf-bb44-cff8ca2d2034",
        "colab": {
          "base_uri": "https://localhost:8080/",
          "height": 34
        }
      },
      "cell_type": "code",
      "source": [
        "tips.shape"
      ],
      "execution_count": 0,
      "outputs": [
        {
          "output_type": "execute_result",
          "data": {
            "text/plain": [
              "(244, 7)"
            ]
          },
          "metadata": {
            "tags": []
          },
          "execution_count": 26
        }
      ]
    },
    {
      "metadata": {
        "id": "VLl7KMQMDkHg",
        "colab_type": "text"
      },
      "cell_type": "markdown",
      "source": [
        "### See the first 5 rows"
      ]
    },
    {
      "metadata": {
        "id": "FqT09FPRDkHh",
        "colab_type": "code",
        "outputId": "15bdff38-f6ee-4939-8e77-47afb9c67e56",
        "colab": {
          "base_uri": "https://localhost:8080/",
          "height": 204
        }
      },
      "cell_type": "code",
      "source": [
        "tips.head(5)"
      ],
      "execution_count": 0,
      "outputs": [
        {
          "output_type": "execute_result",
          "data": {
            "text/html": [
              "<div>\n",
              "<style scoped>\n",
              "    .dataframe tbody tr th:only-of-type {\n",
              "        vertical-align: middle;\n",
              "    }\n",
              "\n",
              "    .dataframe tbody tr th {\n",
              "        vertical-align: top;\n",
              "    }\n",
              "\n",
              "    .dataframe thead th {\n",
              "        text-align: right;\n",
              "    }\n",
              "</style>\n",
              "<table border=\"1\" class=\"dataframe\">\n",
              "  <thead>\n",
              "    <tr style=\"text-align: right;\">\n",
              "      <th></th>\n",
              "      <th>total_bill</th>\n",
              "      <th>tip</th>\n",
              "      <th>sex</th>\n",
              "      <th>smoker</th>\n",
              "      <th>day</th>\n",
              "      <th>time</th>\n",
              "      <th>size</th>\n",
              "    </tr>\n",
              "  </thead>\n",
              "  <tbody>\n",
              "    <tr>\n",
              "      <th>0</th>\n",
              "      <td>16.99</td>\n",
              "      <td>1.01</td>\n",
              "      <td>Female</td>\n",
              "      <td>No</td>\n",
              "      <td>Sun</td>\n",
              "      <td>Dinner</td>\n",
              "      <td>2</td>\n",
              "    </tr>\n",
              "    <tr>\n",
              "      <th>1</th>\n",
              "      <td>10.34</td>\n",
              "      <td>1.66</td>\n",
              "      <td>Male</td>\n",
              "      <td>No</td>\n",
              "      <td>Sun</td>\n",
              "      <td>Dinner</td>\n",
              "      <td>3</td>\n",
              "    </tr>\n",
              "    <tr>\n",
              "      <th>2</th>\n",
              "      <td>21.01</td>\n",
              "      <td>3.50</td>\n",
              "      <td>Male</td>\n",
              "      <td>No</td>\n",
              "      <td>Sun</td>\n",
              "      <td>Dinner</td>\n",
              "      <td>3</td>\n",
              "    </tr>\n",
              "    <tr>\n",
              "      <th>3</th>\n",
              "      <td>23.68</td>\n",
              "      <td>3.31</td>\n",
              "      <td>Male</td>\n",
              "      <td>No</td>\n",
              "      <td>Sun</td>\n",
              "      <td>Dinner</td>\n",
              "      <td>2</td>\n",
              "    </tr>\n",
              "    <tr>\n",
              "      <th>4</th>\n",
              "      <td>24.59</td>\n",
              "      <td>3.61</td>\n",
              "      <td>Female</td>\n",
              "      <td>No</td>\n",
              "      <td>Sun</td>\n",
              "      <td>Dinner</td>\n",
              "      <td>4</td>\n",
              "    </tr>\n",
              "  </tbody>\n",
              "</table>\n",
              "</div>"
            ],
            "text/plain": [
              "   total_bill   tip     sex smoker  day    time  size\n",
              "0       16.99  1.01  Female     No  Sun  Dinner     2\n",
              "1       10.34  1.66    Male     No  Sun  Dinner     3\n",
              "2       21.01  3.50    Male     No  Sun  Dinner     3\n",
              "3       23.68  3.31    Male     No  Sun  Dinner     2\n",
              "4       24.59  3.61  Female     No  Sun  Dinner     4"
            ]
          },
          "metadata": {
            "tags": []
          },
          "execution_count": 27
        }
      ]
    },
    {
      "metadata": {
        "id": "W86pBI45DkHj",
        "colab_type": "text"
      },
      "cell_type": "markdown",
      "source": [
        "### Describe the data"
      ]
    },
    {
      "metadata": {
        "id": "wX3xEYesDkHk",
        "colab_type": "code",
        "outputId": "e34149b2-704a-4e0e-f996-362e339e5b62",
        "colab": {
          "base_uri": "https://localhost:8080/",
          "height": 297
        }
      },
      "cell_type": "code",
      "source": [
        "tips.describe()"
      ],
      "execution_count": 0,
      "outputs": [
        {
          "output_type": "execute_result",
          "data": {
            "text/html": [
              "<div>\n",
              "<style scoped>\n",
              "    .dataframe tbody tr th:only-of-type {\n",
              "        vertical-align: middle;\n",
              "    }\n",
              "\n",
              "    .dataframe tbody tr th {\n",
              "        vertical-align: top;\n",
              "    }\n",
              "\n",
              "    .dataframe thead th {\n",
              "        text-align: right;\n",
              "    }\n",
              "</style>\n",
              "<table border=\"1\" class=\"dataframe\">\n",
              "  <thead>\n",
              "    <tr style=\"text-align: right;\">\n",
              "      <th></th>\n",
              "      <th>total_bill</th>\n",
              "      <th>tip</th>\n",
              "      <th>size</th>\n",
              "    </tr>\n",
              "  </thead>\n",
              "  <tbody>\n",
              "    <tr>\n",
              "      <th>count</th>\n",
              "      <td>244.000000</td>\n",
              "      <td>244.000000</td>\n",
              "      <td>244.000000</td>\n",
              "    </tr>\n",
              "    <tr>\n",
              "      <th>mean</th>\n",
              "      <td>19.785943</td>\n",
              "      <td>2.998279</td>\n",
              "      <td>2.569672</td>\n",
              "    </tr>\n",
              "    <tr>\n",
              "      <th>std</th>\n",
              "      <td>8.902412</td>\n",
              "      <td>1.383638</td>\n",
              "      <td>0.951100</td>\n",
              "    </tr>\n",
              "    <tr>\n",
              "      <th>min</th>\n",
              "      <td>3.070000</td>\n",
              "      <td>1.000000</td>\n",
              "      <td>1.000000</td>\n",
              "    </tr>\n",
              "    <tr>\n",
              "      <th>25%</th>\n",
              "      <td>13.347500</td>\n",
              "      <td>2.000000</td>\n",
              "      <td>2.000000</td>\n",
              "    </tr>\n",
              "    <tr>\n",
              "      <th>50%</th>\n",
              "      <td>17.795000</td>\n",
              "      <td>2.900000</td>\n",
              "      <td>2.000000</td>\n",
              "    </tr>\n",
              "    <tr>\n",
              "      <th>75%</th>\n",
              "      <td>24.127500</td>\n",
              "      <td>3.562500</td>\n",
              "      <td>3.000000</td>\n",
              "    </tr>\n",
              "    <tr>\n",
              "      <th>max</th>\n",
              "      <td>50.810000</td>\n",
              "      <td>10.000000</td>\n",
              "      <td>6.000000</td>\n",
              "    </tr>\n",
              "  </tbody>\n",
              "</table>\n",
              "</div>"
            ],
            "text/plain": [
              "       total_bill         tip        size\n",
              "count  244.000000  244.000000  244.000000\n",
              "mean    19.785943    2.998279    2.569672\n",
              "std      8.902412    1.383638    0.951100\n",
              "min      3.070000    1.000000    1.000000\n",
              "25%     13.347500    2.000000    2.000000\n",
              "50%     17.795000    2.900000    2.000000\n",
              "75%     24.127500    3.562500    3.000000\n",
              "max     50.810000   10.000000    6.000000"
            ]
          },
          "metadata": {
            "tags": []
          },
          "execution_count": 28
        }
      ]
    },
    {
      "metadata": {
        "id": "L00f0gg4a6Wi",
        "colab_type": "code",
        "outputId": "bd807ea3-a20d-42ba-9d60-2a57f805a792",
        "colab": {
          "base_uri": "https://localhost:8080/",
          "height": 204
        }
      },
      "cell_type": "code",
      "source": [
        "tips.sample(5)"
      ],
      "execution_count": 0,
      "outputs": [
        {
          "output_type": "execute_result",
          "data": {
            "text/html": [
              "<div>\n",
              "<style scoped>\n",
              "    .dataframe tbody tr th:only-of-type {\n",
              "        vertical-align: middle;\n",
              "    }\n",
              "\n",
              "    .dataframe tbody tr th {\n",
              "        vertical-align: top;\n",
              "    }\n",
              "\n",
              "    .dataframe thead th {\n",
              "        text-align: right;\n",
              "    }\n",
              "</style>\n",
              "<table border=\"1\" class=\"dataframe\">\n",
              "  <thead>\n",
              "    <tr style=\"text-align: right;\">\n",
              "      <th></th>\n",
              "      <th>total_bill</th>\n",
              "      <th>tip</th>\n",
              "      <th>sex</th>\n",
              "      <th>smoker</th>\n",
              "      <th>day</th>\n",
              "      <th>time</th>\n",
              "      <th>size</th>\n",
              "    </tr>\n",
              "  </thead>\n",
              "  <tbody>\n",
              "    <tr>\n",
              "      <th>108</th>\n",
              "      <td>18.24</td>\n",
              "      <td>3.76</td>\n",
              "      <td>Male</td>\n",
              "      <td>No</td>\n",
              "      <td>Sat</td>\n",
              "      <td>Dinner</td>\n",
              "      <td>2</td>\n",
              "    </tr>\n",
              "    <tr>\n",
              "      <th>150</th>\n",
              "      <td>14.07</td>\n",
              "      <td>2.50</td>\n",
              "      <td>Male</td>\n",
              "      <td>No</td>\n",
              "      <td>Sun</td>\n",
              "      <td>Dinner</td>\n",
              "      <td>2</td>\n",
              "    </tr>\n",
              "    <tr>\n",
              "      <th>122</th>\n",
              "      <td>14.26</td>\n",
              "      <td>2.50</td>\n",
              "      <td>Male</td>\n",
              "      <td>No</td>\n",
              "      <td>Thur</td>\n",
              "      <td>Lunch</td>\n",
              "      <td>2</td>\n",
              "    </tr>\n",
              "    <tr>\n",
              "      <th>173</th>\n",
              "      <td>31.85</td>\n",
              "      <td>3.18</td>\n",
              "      <td>Male</td>\n",
              "      <td>Yes</td>\n",
              "      <td>Sun</td>\n",
              "      <td>Dinner</td>\n",
              "      <td>2</td>\n",
              "    </tr>\n",
              "    <tr>\n",
              "      <th>88</th>\n",
              "      <td>24.71</td>\n",
              "      <td>5.85</td>\n",
              "      <td>Male</td>\n",
              "      <td>No</td>\n",
              "      <td>Thur</td>\n",
              "      <td>Lunch</td>\n",
              "      <td>2</td>\n",
              "    </tr>\n",
              "  </tbody>\n",
              "</table>\n",
              "</div>"
            ],
            "text/plain": [
              "     total_bill   tip   sex smoker   day    time  size\n",
              "108       18.24  3.76  Male     No   Sat  Dinner     2\n",
              "150       14.07  2.50  Male     No   Sun  Dinner     2\n",
              "122       14.26  2.50  Male     No  Thur   Lunch     2\n",
              "173       31.85  3.18  Male    Yes   Sun  Dinner     2\n",
              "88        24.71  5.85  Male     No  Thur   Lunch     2"
            ]
          },
          "metadata": {
            "tags": []
          },
          "execution_count": 29
        }
      ]
    },
    {
      "metadata": {
        "id": "ft2mEijba93W",
        "colab_type": "code",
        "outputId": "a10c038b-0b6a-4d54-9683-a90a843fb39f",
        "colab": {
          "base_uri": "https://localhost:8080/",
          "height": 173
        }
      },
      "cell_type": "code",
      "source": [
        "#tips.describe(include='all')\n",
        "tips.describe(exclude=[np.number]) #excludes anything that looks like a number\n",
        "# Does not compeltely map perfectly to discrete vs not discrete"
      ],
      "execution_count": 0,
      "outputs": [
        {
          "output_type": "execute_result",
          "data": {
            "text/html": [
              "<div>\n",
              "<style scoped>\n",
              "    .dataframe tbody tr th:only-of-type {\n",
              "        vertical-align: middle;\n",
              "    }\n",
              "\n",
              "    .dataframe tbody tr th {\n",
              "        vertical-align: top;\n",
              "    }\n",
              "\n",
              "    .dataframe thead th {\n",
              "        text-align: right;\n",
              "    }\n",
              "</style>\n",
              "<table border=\"1\" class=\"dataframe\">\n",
              "  <thead>\n",
              "    <tr style=\"text-align: right;\">\n",
              "      <th></th>\n",
              "      <th>sex</th>\n",
              "      <th>smoker</th>\n",
              "      <th>day</th>\n",
              "      <th>time</th>\n",
              "    </tr>\n",
              "  </thead>\n",
              "  <tbody>\n",
              "    <tr>\n",
              "      <th>count</th>\n",
              "      <td>244</td>\n",
              "      <td>244</td>\n",
              "      <td>244</td>\n",
              "      <td>244</td>\n",
              "    </tr>\n",
              "    <tr>\n",
              "      <th>unique</th>\n",
              "      <td>2</td>\n",
              "      <td>2</td>\n",
              "      <td>4</td>\n",
              "      <td>2</td>\n",
              "    </tr>\n",
              "    <tr>\n",
              "      <th>top</th>\n",
              "      <td>Male</td>\n",
              "      <td>No</td>\n",
              "      <td>Sat</td>\n",
              "      <td>Dinner</td>\n",
              "    </tr>\n",
              "    <tr>\n",
              "      <th>freq</th>\n",
              "      <td>157</td>\n",
              "      <td>151</td>\n",
              "      <td>87</td>\n",
              "      <td>176</td>\n",
              "    </tr>\n",
              "  </tbody>\n",
              "</table>\n",
              "</div>"
            ],
            "text/plain": [
              "         sex smoker  day    time\n",
              "count    244    244  244     244\n",
              "unique     2      2    4       2\n",
              "top     Male     No  Sat  Dinner\n",
              "freq     157    151   87     176"
            ]
          },
          "metadata": {
            "tags": []
          },
          "execution_count": 30
        }
      ]
    },
    {
      "metadata": {
        "id": "EnJMc3eicOzK",
        "colab_type": "code",
        "colab": {}
      },
      "cell_type": "code",
      "source": [
        "# To create a column with unsupported values like a space\n",
        "tips['percent'] = tips.tip / tips.total_bill\n",
        "# or tips['percent'] = tips['tip'] / tips['total_bill']"
      ],
      "execution_count": 0,
      "outputs": []
    },
    {
      "metadata": {
        "id": "gc2zuHWxDkHl",
        "colab_type": "text"
      },
      "cell_type": "markdown",
      "source": [
        "### Make univariate [distribution plots](https://seaborn.pydata.org/generated/seaborn.distplot.html)"
      ]
    },
    {
      "metadata": {
        "id": "E7tB8hLtDkHm",
        "colab_type": "code",
        "outputId": "08786c28-357b-44b7-84c5-3fde9cf64de9",
        "colab": {
          "base_uri": "https://localhost:8080/",
          "height": 300
        }
      },
      "cell_type": "code",
      "source": [
        "sns.distplot(tips['total_bill'])\n",
        "sns.distplot(tips['tip'])"
      ],
      "execution_count": 0,
      "outputs": [
        {
          "output_type": "execute_result",
          "data": {
            "text/plain": [
              "<matplotlib.axes._subplots.AxesSubplot at 0x7f26caa0c080>"
            ]
          },
          "metadata": {
            "tags": []
          },
          "execution_count": 53
        },
        {
          "output_type": "display_data",
          "data": {
            "image/png": "[encoded data removed]",
            "text/plain": [
              "<matplotlib.figure.Figure at 0x7f26c9fec7f0>"
            ]
          },
          "metadata": {
            "tags": []
          }
        }
      ]
    },
    {
      "metadata": {
        "id": "cGyDLdHbDkHo",
        "colab_type": "text"
      },
      "cell_type": "markdown",
      "source": [
        "### Make bivariate [relational plots](https://seaborn.pydata.org/generated/seaborn.relplot.html)"
      ]
    },
    {
      "metadata": {
        "id": "hvgXsuHLDkHp",
        "colab_type": "code",
        "outputId": "4102900e-2ab0-4eec-d599-43008ddcbf63",
        "colab": {
          "base_uri": "https://localhost:8080/",
          "height": 369
        }
      },
      "cell_type": "code",
      "source": [
        "sns.relplot('tip', 'total_bill', data=tips, hue='size', alpha=0.5);"
      ],
      "execution_count": 0,
      "outputs": [
        {
          "output_type": "display_data",
          "data": {
            "image/png": "[encoded data removed]",
            "text/plain": [
              "<matplotlib.figure.Figure at 0x7f26c992e588>"
            ]
          },
          "metadata": {
            "tags": []
          }
        }
      ]
    },
    {
      "metadata": {
        "id": "MWuDRI8MDkHr",
        "colab_type": "text"
      },
      "cell_type": "markdown",
      "source": [
        "### Make univariate [categorical plots](https://seaborn.pydata.org/generated/seaborn.catplot.html)"
      ]
    },
    {
      "metadata": {
        "id": "IRLGl4u-DkHs",
        "colab_type": "code",
        "outputId": "7dc4ae7c-1805-4018-bfc9-1dab15d58a09",
        "colab": {
          "base_uri": "https://localhost:8080/",
          "height": 68
        }
      },
      "cell_type": "code",
      "source": [
        "tips.sex.value_counts()"
      ],
      "execution_count": 0,
      "outputs": [
        {
          "output_type": "execute_result",
          "data": {
            "text/plain": [
              "Male      157\n",
              "Female     87\n",
              "Name: sex, dtype: int64"
            ]
          },
          "metadata": {
            "tags": []
          },
          "execution_count": 44
        }
      ]
    },
    {
      "metadata": {
        "id": "Uct98Efud_qx",
        "colab_type": "code",
        "outputId": "0a5eeb61-27fe-46ce-fcbc-4a746c09f6aa",
        "colab": {
          "base_uri": "https://localhost:8080/",
          "height": 312
        }
      },
      "cell_type": "code",
      "source": [
        "tips.sex.value_counts().plot(kind='bar')"
      ],
      "execution_count": 0,
      "outputs": [
        {
          "output_type": "execute_result",
          "data": {
            "text/plain": [
              "<matplotlib.axes._subplots.AxesSubplot at 0x7f26c9946d68>"
            ]
          },
          "metadata": {
            "tags": []
          },
          "execution_count": 46
        },
        {
          "output_type": "display_data",
          "data": {
            "image/png": "[encoded data removed]",
            "text/plain": [
              "<matplotlib.figure.Figure at 0x7f26c98e0a20>"
            ]
          },
          "metadata": {
            "tags": []
          }
        }
      ]
    },
    {
      "metadata": {
        "id": "akgzP60LeJyV",
        "colab_type": "code",
        "outputId": "23448f80-c343-4e04-8048-c249295dd596",
        "colab": {
          "base_uri": "https://localhost:8080/",
          "height": 386
        }
      },
      "cell_type": "code",
      "source": [
        "sns.catplot('sex', data=tips, kind='count')"
      ],
      "execution_count": 0,
      "outputs": [
        {
          "output_type": "execute_result",
          "data": {
            "text/plain": [
              "<seaborn.axisgrid.FacetGrid at 0x7f26c9986198>"
            ]
          },
          "metadata": {
            "tags": []
          },
          "execution_count": 48
        },
        {
          "output_type": "display_data",
          "data": {
            "image/png": "[encoded data removed]",
            "text/plain": [
              "<matplotlib.figure.Figure at 0x7f26c9986ba8>"
            ]
          },
          "metadata": {
            "tags": []
          }
        }
      ]
    },
    {
      "metadata": {
        "id": "44J-8IvADkHt",
        "colab_type": "text"
      },
      "cell_type": "markdown",
      "source": [
        "### Make bivariate [categorical plots](https://seaborn.pydata.org/generated/seaborn.catplot.html)"
      ]
    },
    {
      "metadata": {
        "id": "7NvaCaW1e0XR",
        "colab_type": "code",
        "colab": {}
      },
      "cell_type": "code",
      "source": [
        "sns.catplot('sex', 'tip', data=tips, kind='box')"
      ],
      "execution_count": 0,
      "outputs": []
    },
    {
      "metadata": {
        "id": "DQ0KKjFZDkHu",
        "colab_type": "code",
        "outputId": "7f1adfdb-5cae-4efd-f69e-573b46ff055a",
        "colab": {
          "base_uri": "https://localhost:8080/",
          "height": 386
        }
      },
      "cell_type": "code",
      "source": [
        "sns.catplot('sex', 'tip', data=tips, kind='strip')"
      ],
      "execution_count": 0,
      "outputs": [
        {
          "output_type": "execute_result",
          "data": {
            "text/plain": [
              "<seaborn.axisgrid.FacetGrid at 0x7f26c9e71ef0>"
            ]
          },
          "metadata": {
            "tags": []
          },
          "execution_count": 51
        },
        {
          "output_type": "display_data",
          "data": {
            "image/png": "[encoded data removed]",
            "text/plain": [
              "<matplotlib.figure.Figure at 0x7f26c9e5a470>"
            ]
          },
          "metadata": {
            "tags": []
          }
        }
      ]
    },
    {
      "metadata": {
        "id": "NOM6DVQ9ehGW",
        "colab_type": "code",
        "outputId": "086f39e3-6347-4f66-aa62-c796f8275a8d",
        "colab": {
          "base_uri": "https://localhost:8080/",
          "height": 386
        }
      },
      "cell_type": "code",
      "source": [
        "sns.catplot('sex', 'tip', data=tips, kind='swarm')"
      ],
      "execution_count": 0,
      "outputs": [
        {
          "output_type": "execute_result",
          "data": {
            "text/plain": [
              "<seaborn.axisgrid.FacetGrid at 0x7f26cd293f98>"
            ]
          },
          "metadata": {
            "tags": []
          },
          "execution_count": 52
        },
        {
          "output_type": "display_data",
          "data": {
            "image/png": "[encoded data removed]",
            "text/plain": [
              "<matplotlib.figure.Figure at 0x7f26ca173dd8>"
            ]
          },
          "metadata": {
            "tags": []
          }
        }
      ]
    },
    {
      "metadata": {
        "id": "Fnzh45aLe5Ie",
        "colab_type": "code",
        "outputId": "8fbbe48c-b703-4c05-e143-eca024224b25",
        "colab": {
          "base_uri": "https://localhost:8080/",
          "height": 369
        }
      },
      "cell_type": "code",
      "source": [
        "sns.catplot('sex', 'tip', data=tips, kind='bar');\n",
        "#shows error bars "
      ],
      "execution_count": 0,
      "outputs": [
        {
          "output_type": "display_data",
          "data": {
            "image/png": "[encoded data removed]",
            "text/plain": [
              "<matplotlib.figure.Figure at 0x7f26c9802278>"
            ]
          },
          "metadata": {
            "tags": []
          }
        }
      ]
    },
    {
      "metadata": {
        "id": "QzWPtWb4ffZp",
        "colab_type": "code",
        "outputId": "2738dd0a-407e-4753-b078-28374adc6f00",
        "colab": {
          "base_uri": "https://localhost:8080/",
          "height": 369
        }
      },
      "cell_type": "code",
      "source": [
        "sns.catplot('sex', 'percent', data=tips, kind='bar');"
      ],
      "execution_count": 0,
      "outputs": [
        {
          "output_type": "display_data",
          "data": {
            "image/png": "[encoded data removed]",
            "text/plain": [
              "<matplotlib.figure.Figure at 0x7f26c9655438>"
            ]
          },
          "metadata": {
            "tags": []
          }
        }
      ]
    },
    {
      "metadata": {
        "id": "wBEcT2XSfNia",
        "colab_type": "code",
        "outputId": "6e99b4ba-74d1-4ea5-d300-9dd793446b9f",
        "colab": {
          "base_uri": "https://localhost:8080/",
          "height": 386
        }
      },
      "cell_type": "code",
      "source": [
        "sns.catplot('sex', 'tip', data=tips, kind='violin')"
      ],
      "execution_count": 0,
      "outputs": [
        {
          "output_type": "execute_result",
          "data": {
            "text/plain": [
              "<seaborn.axisgrid.FacetGrid at 0x7f26c9a1de48>"
            ]
          },
          "metadata": {
            "tags": []
          },
          "execution_count": 57
        },
        {
          "output_type": "display_data",
          "data": {
            "image/png": "[encoded data removed]",
            "text/plain": [
              "<matplotlib.figure.Figure at 0x7f26c9755978>"
            ]
          },
          "metadata": {
            "tags": []
          }
        }
      ]
    },
    {
      "metadata": {
        "id": "x3MSp-EXfVxM",
        "colab_type": "code",
        "outputId": "3f27e420-4f86-4dac-80c4-5e23285908c4",
        "colab": {
          "base_uri": "https://localhost:8080/",
          "height": 386
        }
      },
      "cell_type": "code",
      "source": [
        "sns.catplot('sex', 'tip', data=tips, kind='boxen')"
      ],
      "execution_count": 0,
      "outputs": [
        {
          "output_type": "execute_result",
          "data": {
            "text/plain": [
              "<seaborn.axisgrid.FacetGrid at 0x7f26c974c7b8>"
            ]
          },
          "metadata": {
            "tags": []
          },
          "execution_count": 59
        },
        {
          "output_type": "display_data",
          "data": {
            "image/png": "[encoded data removed]",
            "text/plain": [
              "<matplotlib.figure.Figure at 0x7f26c9776278>"
            ]
          },
          "metadata": {
            "tags": []
          }
        }
      ]
    },
    {
      "metadata": {
        "id": "IRK48NkaDkHx",
        "colab_type": "text"
      },
      "cell_type": "markdown",
      "source": [
        "## 3. Flights"
      ]
    },
    {
      "metadata": {
        "id": "jvfDifI0DkHx",
        "colab_type": "text"
      },
      "cell_type": "markdown",
      "source": [
        "### Load dataset"
      ]
    },
    {
      "metadata": {
        "id": "gdYB6EuWDkHy",
        "colab_type": "code",
        "colab": {}
      },
      "cell_type": "code",
      "source": [
        "flights = sns.load_dataset('flights')"
      ],
      "execution_count": 0,
      "outputs": []
    },
    {
      "metadata": {
        "id": "K7V9KoArDkH1",
        "colab_type": "text"
      },
      "cell_type": "markdown",
      "source": [
        "### See the data's shape"
      ]
    },
    {
      "metadata": {
        "id": "jGTBfWsNDkH2",
        "colab_type": "code",
        "colab": {}
      },
      "cell_type": "code",
      "source": [
        ""
      ],
      "execution_count": 0,
      "outputs": []
    },
    {
      "metadata": {
        "id": "OxavaQb8DkH3",
        "colab_type": "text"
      },
      "cell_type": "markdown",
      "source": [
        "### See the first 5 rows"
      ]
    },
    {
      "metadata": {
        "id": "eI3Xcj7-DkH5",
        "colab_type": "code",
        "colab": {}
      },
      "cell_type": "code",
      "source": [
        ""
      ],
      "execution_count": 0,
      "outputs": []
    },
    {
      "metadata": {
        "id": "4umwwfz7DkH6",
        "colab_type": "text"
      },
      "cell_type": "markdown",
      "source": [
        "### Describe the data"
      ]
    },
    {
      "metadata": {
        "id": "T4cHMXwMDkH6",
        "colab_type": "code",
        "colab": {}
      },
      "cell_type": "code",
      "source": [
        ""
      ],
      "execution_count": 0,
      "outputs": []
    },
    {
      "metadata": {
        "id": "0cjKJPfVDkH9",
        "colab_type": "text"
      },
      "cell_type": "markdown",
      "source": [
        "### Plot year & passengers"
      ]
    },
    {
      "metadata": {
        "id": "KLVi08Z_DkH9",
        "colab_type": "code",
        "colab": {}
      },
      "cell_type": "code",
      "source": [
        ""
      ],
      "execution_count": 0,
      "outputs": []
    },
    {
      "metadata": {
        "id": "iu34e8MgDkIB",
        "colab_type": "text"
      },
      "cell_type": "markdown",
      "source": [
        "### Plot month & passengers"
      ]
    },
    {
      "metadata": {
        "id": "FZA6e34uDkIC",
        "colab_type": "code",
        "colab": {}
      },
      "cell_type": "code",
      "source": [
        ""
      ],
      "execution_count": 0,
      "outputs": []
    },
    {
      "metadata": {
        "id": "paWXKrudDkID",
        "colab_type": "text"
      },
      "cell_type": "markdown",
      "source": [
        "### Create a [pivot table](https://pandas.pydata.org/pandas-docs/stable/generated/pandas.DataFrame.pivot_table.html) of passengers by month and year"
      ]
    },
    {
      "metadata": {
        "id": "gEc-MUT3DkIE",
        "colab_type": "code",
        "colab": {}
      },
      "cell_type": "code",
      "source": [
        ""
      ],
      "execution_count": 0,
      "outputs": []
    },
    {
      "metadata": {
        "id": "WFLLGDNkDkIF",
        "colab_type": "text"
      },
      "cell_type": "markdown",
      "source": [
        "### Plot the pivot table as a [heat map](https://seaborn.pydata.org/generated/seaborn.heatmap.html)"
      ]
    },
    {
      "metadata": {
        "id": "C9f1ltsUDkIF",
        "colab_type": "code",
        "colab": {}
      },
      "cell_type": "code",
      "source": [
        ""
      ],
      "execution_count": 0,
      "outputs": []
    }
  ]
}