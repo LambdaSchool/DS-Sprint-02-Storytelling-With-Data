{
  "nbformat": 4,
  "nbformat_minor": 0,
  "metadata": {
    "colab": {
      "name": "LS_DS_122_Choose_appropriate_visualizations.ipynb",
      "version": "0.3.2",
      "provenance": [],
      "include_colab_link": true
    },
    "kernelspec": {
      "display_name": "Python 3",
      "language": "python",
      "name": "python3"
    }
  },
  "cells": [
    {
      "cell_type": "markdown",
      "metadata": {
        "id": "view-in-github",
        "colab_type": "text"
      },
      "source": [
        "<a href=\"https://colab.research.google.com/github/quinn-dougherty/DS-Sprint-02-Storytelling-With-Data/blob/master/module2-choose-appropriate-visualizations/LS_DS_122_Choose_appropriate_visualizations.ipynb\" target=\"_parent\"><img src=\"https://colab.research.google.com/assets/colab-badge.svg\" alt=\"Open In Colab\"/></a>"
      ]
    },
    {
      "metadata": {
        "id": "mrei4yVrCf7w",
        "colab_type": "text"
      },
      "cell_type": "markdown",
      "source": [
        "_Lambda School Data Science_\n",
        "# Choose appropriate visualizations"
      ]
    },
    {
      "metadata": {
        "id": "csn7y86eCf78",
        "colab_type": "text"
      },
      "cell_type": "markdown",
      "source": [
        "# Upgrade Seaborn\n",
        "\n",
        "Make sure you have at least version 0.9.0"
      ]
    },
    {
      "metadata": {
        "id": "BBVK3kzVCf8A",
        "colab_type": "code",
        "colab": {
          "base_uri": "https://localhost:8080/",
          "height": 332
        },
        "outputId": "4657ee66-1a3d-4926-c4d8-6144f6a412ff"
      },
      "cell_type": "code",
      "source": [
        "!pip install --upgrade seaborn"
      ],
      "execution_count": 1,
      "outputs": [
        {
          "output_type": "stream",
          "text": [
            "Collecting seaborn\n",
            "\u001b[?25l  Downloading https://files.pythonhosted.org/packages/a8/76/220ba4420459d9c4c9c9587c6ce607bf56c25b3d3d2de62056efe482dadc/seaborn-0.9.0-py3-none-any.whl (208kB)\n",
            "\u001b[K    100% |████████████████████████████████| 215kB 25.5MB/s \n",
            "\u001b[?25hRequirement already satisfied, skipping upgrade: numpy>=1.9.3 in /usr/local/lib/python3.6/dist-packages (from seaborn) (1.14.6)\n",
            "Requirement already satisfied, skipping upgrade: scipy>=0.14.0 in /usr/local/lib/python3.6/dist-packages (from seaborn) (1.1.0)\n",
            "Requirement already satisfied, skipping upgrade: matplotlib>=1.4.3 in /usr/local/lib/python3.6/dist-packages (from seaborn) (2.1.2)\n",
            "Requirement already satisfied, skipping upgrade: pandas>=0.15.2 in /usr/local/lib/python3.6/dist-packages (from seaborn) (0.22.0)\n",
            "Requirement already satisfied, skipping upgrade: pytz in /usr/local/lib/python3.6/dist-packages (from matplotlib>=1.4.3->seaborn) (2018.7)\n",
            "Requirement already satisfied, skipping upgrade: pyparsing!=2.0.4,!=2.1.2,!=2.1.6,>=2.0.1 in /usr/local/lib/python3.6/dist-packages (from matplotlib>=1.4.3->seaborn) (2.3.0)\n",
            "Requirement already satisfied, skipping upgrade: six>=1.10 in /usr/local/lib/python3.6/dist-packages (from matplotlib>=1.4.3->seaborn) (1.11.0)\n",
            "Requirement already satisfied, skipping upgrade: python-dateutil>=2.1 in /usr/local/lib/python3.6/dist-packages (from matplotlib>=1.4.3->seaborn) (2.5.3)\n",
            "Requirement already satisfied, skipping upgrade: cycler>=0.10 in /usr/local/lib/python3.6/dist-packages (from matplotlib>=1.4.3->seaborn) (0.10.0)\n",
            "Installing collected packages: seaborn\n",
            "  Found existing installation: seaborn 0.7.1\n",
            "    Uninstalling seaborn-0.7.1:\n",
            "      Successfully uninstalled seaborn-0.7.1\n",
            "Successfully installed seaborn-0.9.0\n"
          ],
          "name": "stdout"
        }
      ]
    },
    {
      "metadata": {
        "id": "G9ox9EPDDNR-",
        "colab_type": "code",
        "colab": {}
      },
      "cell_type": "code",
      "source": [
        ""
      ],
      "execution_count": 0,
      "outputs": []
    },
    {
      "metadata": {
        "id": "qFGcVmP3Cf8T",
        "colab_type": "code",
        "colab": {
          "base_uri": "https://localhost:8080/",
          "height": 34
        },
        "outputId": "b8290aa7-f2e7-4638-bc97-91405f079a08"
      },
      "cell_type": "code",
      "source": [
        "import seaborn as sns\n",
        "sns.__version__"
      ],
      "execution_count": 2,
      "outputs": [
        {
          "output_type": "execute_result",
          "data": {
            "text/plain": [
              "'0.9.0'"
            ]
          },
          "metadata": {
            "tags": []
          },
          "execution_count": 2
        }
      ]
    },
    {
      "metadata": {
        "id": "irgayGfACf8l",
        "colab_type": "text"
      },
      "cell_type": "markdown",
      "source": [
        "# Fix misleading visualizations"
      ]
    },
    {
      "metadata": {
        "id": "rsPKvJ-SCf8w",
        "colab_type": "code",
        "colab": {}
      },
      "cell_type": "code",
      "source": [
        "%matplotlib inline\n",
        "import matplotlib.pyplot as plt\n",
        "import numpy as np\n",
        "import pandas as pd"
      ],
      "execution_count": 0,
      "outputs": []
    },
    {
      "metadata": {
        "id": "sUjDyg1zCf8_",
        "colab_type": "code",
        "colab": {
          "base_uri": "https://localhost:8080/",
          "height": 228
        },
        "outputId": "b3c7cf1c-1805-4776-834b-9770511df4f3"
      },
      "cell_type": "code",
      "source": [
        "!wget https://raw.githubusercontent.com/LambdaSchool/DS-Sprint-02-Storytelling-With-Data/master/module2-choose-appropriate-visualizations/misleading.py\n",
        "    \n",
        "import misleading"
      ],
      "execution_count": 4,
      "outputs": [
        {
          "output_type": "stream",
          "text": [
            "--2018-11-13 18:33:45--  https://raw.githubusercontent.com/LambdaSchool/DS-Sprint-02-Storytelling-With-Data/master/module2-choose-appropriate-visualizations/misleading.py\n",
            "Resolving raw.githubusercontent.com (raw.githubusercontent.com)... 151.101.0.133, 151.101.64.133, 151.101.128.133, ...\n",
            "Connecting to raw.githubusercontent.com (raw.githubusercontent.com)|151.101.0.133|:443... connected.\n",
            "HTTP request sent, awaiting response... 200 OK\n",
            "Length: 1641 (1.6K) [text/plain]\n",
            "Saving to: ‘misleading.py.1’\n",
            "\n",
            "\rmisleading.py.1       0%[                    ]       0  --.-KB/s               \rmisleading.py.1     100%[===================>]   1.60K  --.-KB/s    in 0s      \n",
            "\n",
            "2018-11-13 18:33:45 (165 MB/s) - ‘misleading.py.1’ saved [1641/1641]\n",
            "\n"
          ],
          "name": "stdout"
        }
      ]
    },
    {
      "metadata": {
        "id": "67mkgBemCf9I",
        "colab_type": "text"
      },
      "cell_type": "markdown",
      "source": [
        "#### Fix misleading plot #1"
      ]
    },
    {
      "metadata": {
        "id": "OqkWZYLxCf9N",
        "colab_type": "code",
        "colab": {
          "base_uri": "https://localhost:8080/",
          "height": 611
        },
        "outputId": "d194ec6a-f796-4d4e-df59-2f8ee4f4148b"
      },
      "cell_type": "code",
      "source": [
        "misleading.plot1();\n",
        "\n",
        "insurance = pd.DataFrame(\n",
        "    index=['State Farm', 'GEICO'], \n",
        "    data={'Market Share %': [18.07, 12.79]})\n",
        "\n",
        "insurance.plot.bar(); \n"
      ],
      "execution_count": 5,
      "outputs": [
        {
          "output_type": "display_data",
          "data": {
            "image/png": "[encoded data removed]",
            "text/plain": [
              "<matplotlib.figure.Figure at 0x7f7557c92da0>"
            ]
          },
          "metadata": {
            "tags": []
          }
        },
        {
          "output_type": "display_data",
          "data": {
            "image/png": "[encoded data removed]",
            "text/plain": [
              "<matplotlib.figure.Figure at 0x7f7540a98a20>"
            ]
          },
          "metadata": {
            "tags": []
          }
        }
      ]
    },
    {
      "metadata": {
        "id": "LfHk6e6sCf9g",
        "colab_type": "code",
        "colab": {}
      },
      "cell_type": "code",
      "source": [
        "misleading??"
      ],
      "execution_count": 0,
      "outputs": []
    },
    {
      "metadata": {
        "id": "V_QVFSkHCf9x",
        "colab_type": "text"
      },
      "cell_type": "markdown",
      "source": [
        "#### Fix misleading plot #2"
      ]
    },
    {
      "metadata": {
        "id": "k2Pw0QE2Cf92",
        "colab_type": "code",
        "colab": {
          "base_uri": "https://localhost:8080/",
          "height": 603
        },
        "outputId": "99c1ad09-5182-4c0b-a1ed-1817ac0460b9"
      },
      "cell_type": "code",
      "source": [
        "misleading.plot2()\n",
        "\n",
        "other = pd.DataFrame(\n",
        "    index=['other'],\n",
        "    data={'Market Share %': [100-18.07-12.79]}\n",
        ")\n",
        "\n",
        "# insurance.plot.pie('Market Share %'); \n",
        "    \n",
        "insurance.append(other).plot.pie('Market Share %', figsize=(5,5));\n"
      ],
      "execution_count": 7,
      "outputs": [
        {
          "output_type": "display_data",
          "data": {
            "image/png": "[encoded data removed]",
            "text/plain": [
              "<matplotlib.figure.Figure at 0x7f7540b17ac8>"
            ]
          },
          "metadata": {
            "tags": []
          }
        },
        {
          "output_type": "display_data",
          "data": {
            "image/png": "[encoded data removed]",
            "text/plain": [
              "<matplotlib.figure.Figure at 0x7f753e1b31d0>"
            ]
          },
          "metadata": {
            "tags": []
          }
        }
      ]
    },
    {
      "metadata": {
        "id": "pfAgwuiXCf-H",
        "colab_type": "code",
        "colab": {}
      },
      "cell_type": "code",
      "source": [
        ""
      ],
      "execution_count": 0,
      "outputs": []
    },
    {
      "metadata": {
        "id": "2gMxvyl_Cf-j",
        "colab_type": "text"
      },
      "cell_type": "markdown",
      "source": [
        "#### Fix misleading plot #3"
      ]
    },
    {
      "metadata": {
        "id": "D2Rw4-grCf-o",
        "colab_type": "code",
        "colab": {
          "base_uri": "https://localhost:8080/",
          "height": 950
        },
        "outputId": "66f75e5d-a772-4e61-ff3b-0bfdfb4d4613"
      },
      "cell_type": "code",
      "source": [
        "misleading.plot3();\n",
        "\n",
        "\n",
        "def plot3fixed():\n",
        "    import matplotlib.pyplot as plt\n",
        "    \n",
        "    fig, ax = plt.subplots(figsize=(10, 5))\n",
        "    ax.set_xlim((0, 80))\n",
        "    ax.set_ylim((0, 40))\n",
        "    plt.axis('off')\n",
        "    sf_r = 18.07\n",
        "    g_r = 12.79\n",
        "    circle = plt.Circle(xy=(20, 20), radius=sqrt(sf_r)**2)\n",
        "    ax.add_artist(circle)\n",
        "\n",
        "    circle = plt.Circle(xy=(60, 20), radius=sqrt(g_r)**2)\n",
        "    ax.add_artist(circle)\n",
        "\n",
        "    plt.title('State Farm vs GEICO')\n",
        "    plt.show()\n",
        " \n",
        "plot3fixed();"
      ],
      "execution_count": 8,
      "outputs": [
        {
          "output_type": "display_data",
          "data": {
            "image/png": "[encoded data removed]",
            "text/plain": [
              "<matplotlib.figure.Figure at 0x7f753e1e0160>"
            ]
          },
          "metadata": {
            "tags": []
          }
        },
        {
          "output_type": "error",
          "ename": "NameError",
          "evalue": "ignored",
          "traceback": [
            "\u001b[0;31m---------------------------------------------------------------------------\u001b[0m",
            "\u001b[0;31mNameError\u001b[0m                                 Traceback (most recent call last)",
            "\u001b[0;32m<ipython-input-8-be400b097aee>\u001b[0m in \u001b[0;36m<module>\u001b[0;34m()\u001b[0m\n\u001b[1;32m     20\u001b[0m     \u001b[0mplt\u001b[0m\u001b[0;34m.\u001b[0m\u001b[0mshow\u001b[0m\u001b[0;34m(\u001b[0m\u001b[0;34m)\u001b[0m\u001b[0;34m\u001b[0m\u001b[0m\n\u001b[1;32m     21\u001b[0m \u001b[0;34m\u001b[0m\u001b[0m\n\u001b[0;32m---> 22\u001b[0;31m \u001b[0mplot3fixed\u001b[0m\u001b[0;34m(\u001b[0m\u001b[0;34m)\u001b[0m\u001b[0;34m;\u001b[0m\u001b[0;34m\u001b[0m\u001b[0m\n\u001b[0m",
            "\u001b[0;32m<ipython-input-8-be400b097aee>\u001b[0m in \u001b[0;36mplot3fixed\u001b[0;34m()\u001b[0m\n\u001b[1;32m     11\u001b[0m     \u001b[0msf_r\u001b[0m \u001b[0;34m=\u001b[0m \u001b[0;36m18.07\u001b[0m\u001b[0;34m\u001b[0m\u001b[0m\n\u001b[1;32m     12\u001b[0m     \u001b[0mg_r\u001b[0m \u001b[0;34m=\u001b[0m \u001b[0;36m12.79\u001b[0m\u001b[0;34m\u001b[0m\u001b[0m\n\u001b[0;32m---> 13\u001b[0;31m     \u001b[0mcircle\u001b[0m \u001b[0;34m=\u001b[0m \u001b[0mplt\u001b[0m\u001b[0;34m.\u001b[0m\u001b[0mCircle\u001b[0m\u001b[0;34m(\u001b[0m\u001b[0mxy\u001b[0m\u001b[0;34m=\u001b[0m\u001b[0;34m(\u001b[0m\u001b[0;36m20\u001b[0m\u001b[0;34m,\u001b[0m \u001b[0;36m20\u001b[0m\u001b[0;34m)\u001b[0m\u001b[0;34m,\u001b[0m \u001b[0mradius\u001b[0m\u001b[0;34m=\u001b[0m\u001b[0msqrt\u001b[0m\u001b[0;34m(\u001b[0m\u001b[0msf_r\u001b[0m\u001b[0;34m)\u001b[0m\u001b[0;34m**\u001b[0m\u001b[0;36m2\u001b[0m\u001b[0;34m)\u001b[0m\u001b[0;34m\u001b[0m\u001b[0m\n\u001b[0m\u001b[1;32m     14\u001b[0m     \u001b[0max\u001b[0m\u001b[0;34m.\u001b[0m\u001b[0madd_artist\u001b[0m\u001b[0;34m(\u001b[0m\u001b[0mcircle\u001b[0m\u001b[0;34m)\u001b[0m\u001b[0;34m\u001b[0m\u001b[0m\n\u001b[1;32m     15\u001b[0m \u001b[0;34m\u001b[0m\u001b[0m\n",
            "\u001b[0;31mNameError\u001b[0m: name 'sqrt' is not defined"
          ]
        },
        {
          "output_type": "display_data",
          "data": {
            "image/png": "[encoded data removed]",
            "text/plain": [
              "<matplotlib.figure.Figure at 0x7f753e183f28>"
            ]
          },
          "metadata": {
            "tags": []
          }
        }
      ]
    },
    {
      "metadata": {
        "id": "whD7UwyiJOpk",
        "colab_type": "code",
        "colab": {
          "base_uri": "https://localhost:8080/",
          "height": 34
        },
        "outputId": "3362b8b7-77cc-4df9-f9a4-820fb0b0a26f"
      },
      "cell_type": "code",
      "source": [
        "sf_r = 18.07\n",
        "g_r = 12.79\n",
        "\n",
        "print(sf_r / g_r)"
      ],
      "execution_count": 32,
      "outputs": [
        {
          "output_type": "stream",
          "text": [
            "1.4128225175918687\n"
          ],
          "name": "stdout"
        }
      ]
    },
    {
      "metadata": {
        "id": "AI9Ce8nqCf-3",
        "colab_type": "code",
        "colab": {
          "base_uri": "https://localhost:8080/",
          "height": 34
        },
        "outputId": "84a846da-37aa-407a-8c9e-0db875f3d8f0"
      },
      "cell_type": "code",
      "source": [
        "# print()\n",
        "from math import sqrt\n",
        "\n",
        "sqrt(sf_r)**2 / sqrt(g_r)**2"
      ],
      "execution_count": 38,
      "outputs": [
        {
          "output_type": "execute_result",
          "data": {
            "text/plain": [
              "1.4128225175918685"
            ]
          },
          "metadata": {
            "tags": []
          },
          "execution_count": 38
        }
      ]
    },
    {
      "metadata": {
        "id": "ft1SdUY3Cf_H",
        "colab_type": "text"
      },
      "cell_type": "markdown",
      "source": [
        "#### Fix misleading plot #4"
      ]
    },
    {
      "metadata": {
        "id": "LkZJAJaJCf_M",
        "colab_type": "text"
      },
      "cell_type": "markdown",
      "source": [
        "_If you're on Jupyter (not Colab) then uncomment and run this cell below:_"
      ]
    },
    {
      "metadata": {
        "id": "apaVcr_kCf_Q",
        "colab_type": "code",
        "colab": {}
      },
      "cell_type": "code",
      "source": [
        "# import altair as alt\n",
        "# alt.renderers.enable('notebook')"
      ],
      "execution_count": 0,
      "outputs": []
    },
    {
      "metadata": {
        "id": "itXIxAKrCf_a",
        "colab_type": "code",
        "colab": {
          "base_uri": "https://localhost:8080/",
          "height": 349
        },
        "outputId": "527e0411-f763-4176-866e-3aec9aa4cf23"
      },
      "cell_type": "code",
      "source": [
        "misleading.plot4()"
      ],
      "execution_count": 10,
      "outputs": [
        {
          "output_type": "execute_result",
          "data": {
            "text/plain": [
              "Chart({\n",
              "  data: UrlData({\n",
              "    format: TopoDataFormat({\n",
              "      feature: 'states',\n",
              "      type: 'topojson'\n",
              "    }),\n",
              "    url: 'https://vega.github.io/vega-datasets/data/us-10m.json'\n",
              "  }),\n",
              "  encoding: EncodingWithFacet({\n",
              "    color: Color({\n",
              "      shorthand: 'State Farm policy premiums',\n",
              "      type: 'quantitative'\n",
              "    })\n",
              "  }),\n",
              "  height: 300,\n",
              "  mark: 'geoshape',\n",
              "  projection: Projection({\n",
              "    type: 'albersUsa'\n",
              "  }),\n",
              "  transform: [LookupTransform({\n",
              "    from: LookupData({\n",
              "      data:                    state  id  State Farm policy premiums  \\\n",
              "      0                Alabama   1                      768213   \n",
              "      1                 Alaska   2                      128613   \n",
              "      2                Arizona   4                      760003   \n",
              "      3               Arkansas   5                      454931   \n",
              "      4             California   6                     3655463   \n",
              "      5               Colorado   8                      827143   \n",
              "      6            Connecticut   9                      169773   \n",
              "      7               Delaware  10                      191319   \n",
              "      8   District of Columbia  11                       67231   \n",
              "      9                Florida  12                     2806322   \n",
              "      10               Georgia  13                     1761224   \n",
              "      11                Hawaii  15                      133498   \n",
              "      12                 Idaho  16                      130613   \n",
              "      13              Illinois  17                     2256543   \n",
              "      14               Indiana  18                      861382   \n",
              "      15                  Iowa  19                      368898   \n",
              "      16                Kansas  20                      351343   \n",
              "      17              Kentucky  21                      680433   \n",
              "      18             Louisiana  22                     1415980   \n",
              "      19                 Maine  23                      101111   \n",
              "      20              Maryland  24                      883401   \n",
              "      21         Massachusetts  25                           0   \n",
              "      22              Michigan  26                     1580398   \n",
              "      23             Minnesota  27                      851940   \n",
              "      24           Mississippi  28                      467887   \n",
              "      25              Missouri  29                      883774   \n",
              "      26               Montana  30                      156816   \n",
              "      27              Nebraska  31                      273727   \n",
              "      28                Nevada  32                      404688   \n",
              "      29         New Hampshire  33                      103340   \n",
              "      30            New Jersey  34                      619623   \n",
              "      31            New Mexico  35                      261922   \n",
              "      32              New York  36                     1666653   \n",
              "      33        North Carolina  37                      842368   \n",
              "      34          North Dakota  38                       67282   \n",
              "      35                  Ohio  39                     1240075   \n",
              "      36              Oklahoma  40                      636063   \n",
              "      37                Oregon  41                      564416   \n",
              "      38          Pennsylvania  42                     1654528   \n",
              "      39          Rhode Island  44                           0   \n",
              "      40        South Carolina  45                      874436   \n",
              "      41          South Dakota  46                      101912   \n",
              "      42             Tennessee  47                      889329   \n",
              "      43                 Texas  48                     3395165   \n",
              "      44                  Utah  49                      300403   \n",
              "      45               Vermont  50                       30003   \n",
              "      46              Virginia  51                      878312   \n",
              "      47            Washington  53                      794882   \n",
              "      48         West Virginia  54                      323608   \n",
              "      49             Wisconsin  55                      443680   \n",
              "      50               Wyoming  56                       90412   \n",
              "      51           Puerto Rico  72                           0   \n",
              "      \n",
              "          BERKSHIRE HATHAWAY GRP  STATE TOTAL  \n",
              "      0                   282947      3025561  \n",
              "      1                    81366       454623  \n",
              "      2                   604049      4373055  \n",
              "      3                    96908      1777917  \n",
              "      4                  2091720     25255501  \n",
              "      5                   365797      4057463  \n",
              "      6                   486498      2795415  \n",
              "      7                   129033       802005  \n",
              "      8                   115149       325239  \n",
              "      9                  3952147     17333354  \n",
              "      10                  821326      7571988  \n",
              "      11                  184743       722550  \n",
              "      12                   87222       863636  \n",
              "      13                  412978      7028885  \n",
              "      14                  201200      3506499  \n",
              "      15                   58105      1650388  \n",
              "      16                   76533      1725608  \n",
              "      17                  186915      2805864  \n",
              "      18                  369492      4136224  \n",
              "      19                   68109       699558  \n",
              "      20                 1059508      4554586  \n",
              "      21                  473913      4924736  \n",
              "      22                       0      8462142  \n",
              "      23                  108942      3412460  \n",
              "      24                  100827      1760180  \n",
              "      25                  214191      3606590  \n",
              "      26                   33538       668513  \n",
              "      27                   61046      1167135  \n",
              "      28                  262815      2129828  \n",
              "      29                  103403       806545  \n",
              "      30                 1441019      7375823  \n",
              "      31                  174865      1284430  \n",
              "      32                 3926684     12633982  \n",
              "      33                  560700      5543700  \n",
              "      34                   15516       454376  \n",
              "      35                  405652      6303148  \n",
              "      36                  151388      2515842  \n",
              "      37                  223187      2647434  \n",
              "      38                  602848      8270326  \n",
              "      39                   97597       867558  \n",
              "      40                  426033      3583918  \n",
              "      41                   15682       508569  \n",
              "      42                  292357      3769652  \n",
              "      43                 2127633     19180816  \n",
              "      44                  139315      1723931  \n",
              "      45                   52939       359996  \n",
              "      46                  884489      5105360  \n",
              "      47                  478922      4780616  \n",
              "      48                  110806      1209872  \n",
              "      49                  131845      2950711  \n",
              "      50                   30187       374169  \n",
              "      51                       0       444480  ,\n",
              "      fields: ['State Farm policy premiums'],\n",
              "      key: 'id'\n",
              "    }),\n",
              "    lookup: 'id'\n",
              "  })],\n",
              "  width: 500\n",
              "})"
            ],
            "text/html": [
              "\n",
              "<!DOCTYPE html>\n",
              "<html>\n",
              "<head>\n",
              "  <style>\n",
              "    .vega-actions a {\n",
              "        margin-right: 12px;\n",
              "        color: #757575;\n",
              "        font-weight: normal;\n",
              "        font-size: 13px;\n",
              "    }\n",
              "    .error {\n",
              "        color: red;\n",
              "    }\n",
              "  </style>\n",
              "\n",
              "<script src=\"https://cdn.jsdelivr.net/npm//vega@3.3.1\"></script>\n",
              "<script src=\"https://cdn.jsdelivr.net/npm//vega-lite@2.6.0\"></script>\n",
              "<script src=\"https://cdn.jsdelivr.net/npm//vega-embed@3.14\"></script>\n",
              "\n",
              "</head>\n",
              "<body>\n",
              "  <div id=\"vis\"></div>\n",
              "  <script type=\"text/javascript\">\n",
              "    var spec = {\"config\": {\"view\": {\"width\": 400, \"height\": 300}}, \"data\": {\"url\": \"https://vega.github.io/vega-datasets/data/us-10m.json\", \"format\": {\"feature\": \"states\", \"type\": \"topojson\"}}, \"mark\": \"geoshape\", \"encoding\": {\"color\": {\"type\": \"quantitative\", \"field\": \"State Farm policy premiums\"}}, \"height\": 300, \"projection\": {\"type\": \"albersUsa\"}, \"transform\": [{\"lookup\": \"id\", \"from\": {\"data\": {\"name\": \"data-b615a17f98b0ca7d11f99dcf36616c5d\"}, \"key\": \"id\", \"fields\": [\"State Farm policy premiums\"]}}], \"width\": 500, \"$schema\": \"https://vega.github.io/schema/vega-lite/v2.6.0.json\", \"datasets\": {\"data-b615a17f98b0ca7d11f99dcf36616c5d\": [{\"state\": \"Alabama\", \"id\": 1, \"State Farm policy premiums\": 768213, \"BERKSHIRE HATHAWAY GRP\": 282947, \"STATE TOTAL\": 3025561}, {\"state\": \"Alaska\", \"id\": 2, \"State Farm policy premiums\": 128613, \"BERKSHIRE HATHAWAY GRP\": 81366, \"STATE TOTAL\": 454623}, {\"state\": \"Arizona\", \"id\": 4, \"State Farm policy premiums\": 760003, \"BERKSHIRE HATHAWAY GRP\": 604049, \"STATE TOTAL\": 4373055}, {\"state\": \"Arkansas\", \"id\": 5, \"State Farm policy premiums\": 454931, \"BERKSHIRE HATHAWAY GRP\": 96908, \"STATE TOTAL\": 1777917}, {\"state\": \"California\", \"id\": 6, \"State Farm policy premiums\": 3655463, \"BERKSHIRE HATHAWAY GRP\": 2091720, \"STATE TOTAL\": 25255501}, {\"state\": \"Colorado\", \"id\": 8, \"State Farm policy premiums\": 827143, \"BERKSHIRE HATHAWAY GRP\": 365797, \"STATE TOTAL\": 4057463}, {\"state\": \"Connecticut\", \"id\": 9, \"State Farm policy premiums\": 169773, \"BERKSHIRE HATHAWAY GRP\": 486498, \"STATE TOTAL\": 2795415}, {\"state\": \"Delaware\", \"id\": 10, \"State Farm policy premiums\": 191319, \"BERKSHIRE HATHAWAY GRP\": 129033, \"STATE TOTAL\": 802005}, {\"state\": \"District of Columbia\", \"id\": 11, \"State Farm policy premiums\": 67231, \"BERKSHIRE HATHAWAY GRP\": 115149, \"STATE TOTAL\": 325239}, {\"state\": \"Florida\", \"id\": 12, \"State Farm policy premiums\": 2806322, \"BERKSHIRE HATHAWAY GRP\": 3952147, \"STATE TOTAL\": 17333354}, {\"state\": \"Georgia\", \"id\": 13, \"State Farm policy premiums\": 1761224, \"BERKSHIRE HATHAWAY GRP\": 821326, \"STATE TOTAL\": 7571988}, {\"state\": \"Hawaii\", \"id\": 15, \"State Farm policy premiums\": 133498, \"BERKSHIRE HATHAWAY GRP\": 184743, \"STATE TOTAL\": 722550}, {\"state\": \"Idaho\", \"id\": 16, \"State Farm policy premiums\": 130613, \"BERKSHIRE HATHAWAY GRP\": 87222, \"STATE TOTAL\": 863636}, {\"state\": \"Illinois\", \"id\": 17, \"State Farm policy premiums\": 2256543, \"BERKSHIRE HATHAWAY GRP\": 412978, \"STATE TOTAL\": 7028885}, {\"state\": \"Indiana\", \"id\": 18, \"State Farm policy premiums\": 861382, \"BERKSHIRE HATHAWAY GRP\": 201200, \"STATE TOTAL\": 3506499}, {\"state\": \"Iowa\", \"id\": 19, \"State Farm policy premiums\": 368898, \"BERKSHIRE HATHAWAY GRP\": 58105, \"STATE TOTAL\": 1650388}, {\"state\": \"Kansas\", \"id\": 20, \"State Farm policy premiums\": 351343, \"BERKSHIRE HATHAWAY GRP\": 76533, \"STATE TOTAL\": 1725608}, {\"state\": \"Kentucky\", \"id\": 21, \"State Farm policy premiums\": 680433, \"BERKSHIRE HATHAWAY GRP\": 186915, \"STATE TOTAL\": 2805864}, {\"state\": \"Louisiana\", \"id\": 22, \"State Farm policy premiums\": 1415980, \"BERKSHIRE HATHAWAY GRP\": 369492, \"STATE TOTAL\": 4136224}, {\"state\": \"Maine\", \"id\": 23, \"State Farm policy premiums\": 101111, \"BERKSHIRE HATHAWAY GRP\": 68109, \"STATE TOTAL\": 699558}, {\"state\": \"Maryland\", \"id\": 24, \"State Farm policy premiums\": 883401, \"BERKSHIRE HATHAWAY GRP\": 1059508, \"STATE TOTAL\": 4554586}, {\"state\": \"Massachusetts\", \"id\": 25, \"State Farm policy premiums\": 0, \"BERKSHIRE HATHAWAY GRP\": 473913, \"STATE TOTAL\": 4924736}, {\"state\": \"Michigan\", \"id\": 26, \"State Farm policy premiums\": 1580398, \"BERKSHIRE HATHAWAY GRP\": 0, \"STATE TOTAL\": 8462142}, {\"state\": \"Minnesota\", \"id\": 27, \"State Farm policy premiums\": 851940, \"BERKSHIRE HATHAWAY GRP\": 108942, \"STATE TOTAL\": 3412460}, {\"state\": \"Mississippi\", \"id\": 28, \"State Farm policy premiums\": 467887, \"BERKSHIRE HATHAWAY GRP\": 100827, \"STATE TOTAL\": 1760180}, {\"state\": \"Missouri\", \"id\": 29, \"State Farm policy premiums\": 883774, \"BERKSHIRE HATHAWAY GRP\": 214191, \"STATE TOTAL\": 3606590}, {\"state\": \"Montana\", \"id\": 30, \"State Farm policy premiums\": 156816, \"BERKSHIRE HATHAWAY GRP\": 33538, \"STATE TOTAL\": 668513}, {\"state\": \"Nebraska\", \"id\": 31, \"State Farm policy premiums\": 273727, \"BERKSHIRE HATHAWAY GRP\": 61046, \"STATE TOTAL\": 1167135}, {\"state\": \"Nevada\", \"id\": 32, \"State Farm policy premiums\": 404688, \"BERKSHIRE HATHAWAY GRP\": 262815, \"STATE TOTAL\": 2129828}, {\"state\": \"New Hampshire\", \"id\": 33, \"State Farm policy premiums\": 103340, \"BERKSHIRE HATHAWAY GRP\": 103403, \"STATE TOTAL\": 806545}, {\"state\": \"New Jersey\", \"id\": 34, \"State Farm policy premiums\": 619623, \"BERKSHIRE HATHAWAY GRP\": 1441019, \"STATE TOTAL\": 7375823}, {\"state\": \"New Mexico\", \"id\": 35, \"State Farm policy premiums\": 261922, \"BERKSHIRE HATHAWAY GRP\": 174865, \"STATE TOTAL\": 1284430}, {\"state\": \"New York\", \"id\": 36, \"State Farm policy premiums\": 1666653, \"BERKSHIRE HATHAWAY GRP\": 3926684, \"STATE TOTAL\": 12633982}, {\"state\": \"North Carolina\", \"id\": 37, \"State Farm policy premiums\": 842368, \"BERKSHIRE HATHAWAY GRP\": 560700, \"STATE TOTAL\": 5543700}, {\"state\": \"North Dakota\", \"id\": 38, \"State Farm policy premiums\": 67282, \"BERKSHIRE HATHAWAY GRP\": 15516, \"STATE TOTAL\": 454376}, {\"state\": \"Ohio\", \"id\": 39, \"State Farm policy premiums\": 1240075, \"BERKSHIRE HATHAWAY GRP\": 405652, \"STATE TOTAL\": 6303148}, {\"state\": \"Oklahoma\", \"id\": 40, \"State Farm policy premiums\": 636063, \"BERKSHIRE HATHAWAY GRP\": 151388, \"STATE TOTAL\": 2515842}, {\"state\": \"Oregon\", \"id\": 41, \"State Farm policy premiums\": 564416, \"BERKSHIRE HATHAWAY GRP\": 223187, \"STATE TOTAL\": 2647434}, {\"state\": \"Pennsylvania\", \"id\": 42, \"State Farm policy premiums\": 1654528, \"BERKSHIRE HATHAWAY GRP\": 602848, \"STATE TOTAL\": 8270326}, {\"state\": \"Rhode Island\", \"id\": 44, \"State Farm policy premiums\": 0, \"BERKSHIRE HATHAWAY GRP\": 97597, \"STATE TOTAL\": 867558}, {\"state\": \"South Carolina\", \"id\": 45, \"State Farm policy premiums\": 874436, \"BERKSHIRE HATHAWAY GRP\": 426033, \"STATE TOTAL\": 3583918}, {\"state\": \"South Dakota\", \"id\": 46, \"State Farm policy premiums\": 101912, \"BERKSHIRE HATHAWAY GRP\": 15682, \"STATE TOTAL\": 508569}, {\"state\": \"Tennessee\", \"id\": 47, \"State Farm policy premiums\": 889329, \"BERKSHIRE HATHAWAY GRP\": 292357, \"STATE TOTAL\": 3769652}, {\"state\": \"Texas\", \"id\": 48, \"State Farm policy premiums\": 3395165, \"BERKSHIRE HATHAWAY GRP\": 2127633, \"STATE TOTAL\": 19180816}, {\"state\": \"Utah\", \"id\": 49, \"State Farm policy premiums\": 300403, \"BERKSHIRE HATHAWAY GRP\": 139315, \"STATE TOTAL\": 1723931}, {\"state\": \"Vermont\", \"id\": 50, \"State Farm policy premiums\": 30003, \"BERKSHIRE HATHAWAY GRP\": 52939, \"STATE TOTAL\": 359996}, {\"state\": \"Virginia\", \"id\": 51, \"State Farm policy premiums\": 878312, \"BERKSHIRE HATHAWAY GRP\": 884489, \"STATE TOTAL\": 5105360}, {\"state\": \"Washington\", \"id\": 53, \"State Farm policy premiums\": 794882, \"BERKSHIRE HATHAWAY GRP\": 478922, \"STATE TOTAL\": 4780616}, {\"state\": \"West Virginia\", \"id\": 54, \"State Farm policy premiums\": 323608, \"BERKSHIRE HATHAWAY GRP\": 110806, \"STATE TOTAL\": 1209872}, {\"state\": \"Wisconsin\", \"id\": 55, \"State Farm policy premiums\": 443680, \"BERKSHIRE HATHAWAY GRP\": 131845, \"STATE TOTAL\": 2950711}, {\"state\": \"Wyoming\", \"id\": 56, \"State Farm policy premiums\": 90412, \"BERKSHIRE HATHAWAY GRP\": 30187, \"STATE TOTAL\": 374169}, {\"state\": \"Puerto Rico\", \"id\": 72, \"State Farm policy premiums\": 0, \"BERKSHIRE HATHAWAY GRP\": 0, \"STATE TOTAL\": 444480}]}};\n",
              "    var embed_opt = {\"mode\": \"vega-lite\"};\n",
              "\n",
              "    function showError(el, error){\n",
              "        el.innerHTML = ('<div class=\"error\">'\n",
              "                        + '<p>JavaScript Error: ' + error.message + '</p>'\n",
              "                        + \"<p>This usually means there's a typo in your chart specification. \"\n",
              "                        + \"See the javascript console for the full traceback.</p>\"\n",
              "                        + '</div>');\n",
              "        throw error;\n",
              "    }\n",
              "    const el = document.getElementById('vis');\n",
              "    vegaEmbed(\"#vis\", spec, embed_opt)\n",
              "      .catch(error => showError(el, error));\n",
              "  </script>\n",
              "</body>\n",
              "</html>\n"
            ]
          },
          "metadata": {
            "tags": []
          },
          "execution_count": 10
        }
      ]
    },
    {
      "metadata": {
        "id": "xgKxyfWVCf_l",
        "colab_type": "code",
        "colab": {}
      },
      "cell_type": "code",
      "source": [
        ""
      ],
      "execution_count": 0,
      "outputs": []
    },
    {
      "metadata": {
        "id": "AmWjYRWwCf_r",
        "colab_type": "text"
      },
      "cell_type": "markdown",
      "source": [
        "#### Links\n",
        "- [How to Spot Visualization Lies](https://flowingdata.com/2017/02/09/how-to-spot-visualization-lies/)\n",
        "- [Where to Start and End Your Y-Axis Scale](http://stephanieevergreen.com/y-axis/)\n",
        "- [xkcd heatmap](https://xkcd.com/1138/)\n",
        "- [Surprise Maps: Showing the Unexpected](https://medium.com/@uwdata/surprise-maps-showing-the-unexpected-e92b67398865)"
      ]
    },
    {
      "metadata": {
        "id": "VSp7ZhHOCf_t",
        "colab_type": "text"
      },
      "cell_type": "markdown",
      "source": [
        "# Use Seaborn to visualize distributions and relationships with continuous and discrete variables\n",
        "\n",
        "#### Links\n",
        "- [Seaborn tutorial](https://seaborn.pydata.org/tutorial.html)\n",
        "- [Seaborn example gallery](https://seaborn.pydata.org/examples/index.html)\n",
        "- [Chart Chooser](https://extremepresentation.typepad.com/files/choosing-a-good-chart-09.pdf)"
      ]
    },
    {
      "metadata": {
        "id": "1xV7DqnJCf_v",
        "colab_type": "text"
      },
      "cell_type": "markdown",
      "source": [
        "## 1. Anscombe dataset"
      ]
    },
    {
      "metadata": {
        "id": "UluzCRG7Cf_4",
        "colab_type": "text"
      },
      "cell_type": "markdown",
      "source": [
        "### Load dataset"
      ]
    },
    {
      "metadata": {
        "id": "LpI5ME4WCf__",
        "colab_type": "code",
        "colab": {}
      },
      "cell_type": "code",
      "source": [
        "df = sns.load_dataset('anscombe')"
      ],
      "execution_count": 0,
      "outputs": []
    },
    {
      "metadata": {
        "id": "sfLAP-dLCgAN",
        "colab_type": "text"
      },
      "cell_type": "markdown",
      "source": [
        "### See the data's shape"
      ]
    },
    {
      "metadata": {
        "id": "RgJXKM5NCgAV",
        "colab_type": "code",
        "colab": {
          "base_uri": "https://localhost:8080/",
          "height": 34
        },
        "outputId": "ecccff6d-ea56-4201-c1df-59d841f4c957"
      },
      "cell_type": "code",
      "source": [
        "df.describe()\n",
        "\n",
        "df.shape"
      ],
      "execution_count": 12,
      "outputs": [
        {
          "output_type": "execute_result",
          "data": {
            "text/plain": [
              "(44, 3)"
            ]
          },
          "metadata": {
            "tags": []
          },
          "execution_count": 12
        }
      ]
    },
    {
      "metadata": {
        "id": "9x8az2bHCgAh",
        "colab_type": "text"
      },
      "cell_type": "markdown",
      "source": [
        "### See the data"
      ]
    },
    {
      "metadata": {
        "id": "XfQBRgw3CgAk",
        "colab_type": "code",
        "colab": {
          "base_uri": "https://localhost:8080/",
          "height": 1430
        },
        "outputId": "c3ea1812-5437-4be6-9945-a3a9cad54da0"
      },
      "cell_type": "code",
      "source": [
        "df"
      ],
      "execution_count": 13,
      "outputs": [
        {
          "output_type": "execute_result",
          "data": {
            "text/html": [
              "<div>\n",
              "<style scoped>\n",
              "    .dataframe tbody tr th:only-of-type {\n",
              "        vertical-align: middle;\n",
              "    }\n",
              "\n",
              "    .dataframe tbody tr th {\n",
              "        vertical-align: top;\n",
              "    }\n",
              "\n",
              "    .dataframe thead th {\n",
              "        text-align: right;\n",
              "    }\n",
              "</style>\n",
              "<table border=\"1\" class=\"dataframe\">\n",
              "  <thead>\n",
              "    <tr style=\"text-align: right;\">\n",
              "      <th></th>\n",
              "      <th>dataset</th>\n",
              "      <th>x</th>\n",
              "      <th>y</th>\n",
              "    </tr>\n",
              "  </thead>\n",
              "  <tbody>\n",
              "    <tr>\n",
              "      <th>0</th>\n",
              "      <td>I</td>\n",
              "      <td>10.0</td>\n",
              "      <td>8.04</td>\n",
              "    </tr>\n",
              "    <tr>\n",
              "      <th>1</th>\n",
              "      <td>I</td>\n",
              "      <td>8.0</td>\n",
              "      <td>6.95</td>\n",
              "    </tr>\n",
              "    <tr>\n",
              "      <th>2</th>\n",
              "      <td>I</td>\n",
              "      <td>13.0</td>\n",
              "      <td>7.58</td>\n",
              "    </tr>\n",
              "    <tr>\n",
              "      <th>3</th>\n",
              "      <td>I</td>\n",
              "      <td>9.0</td>\n",
              "      <td>8.81</td>\n",
              "    </tr>\n",
              "    <tr>\n",
              "      <th>4</th>\n",
              "      <td>I</td>\n",
              "      <td>11.0</td>\n",
              "      <td>8.33</td>\n",
              "    </tr>\n",
              "    <tr>\n",
              "      <th>5</th>\n",
              "      <td>I</td>\n",
              "      <td>14.0</td>\n",
              "      <td>9.96</td>\n",
              "    </tr>\n",
              "    <tr>\n",
              "      <th>6</th>\n",
              "      <td>I</td>\n",
              "      <td>6.0</td>\n",
              "      <td>7.24</td>\n",
              "    </tr>\n",
              "    <tr>\n",
              "      <th>7</th>\n",
              "      <td>I</td>\n",
              "      <td>4.0</td>\n",
              "      <td>4.26</td>\n",
              "    </tr>\n",
              "    <tr>\n",
              "      <th>8</th>\n",
              "      <td>I</td>\n",
              "      <td>12.0</td>\n",
              "      <td>10.84</td>\n",
              "    </tr>\n",
              "    <tr>\n",
              "      <th>9</th>\n",
              "      <td>I</td>\n",
              "      <td>7.0</td>\n",
              "      <td>4.82</td>\n",
              "    </tr>\n",
              "    <tr>\n",
              "      <th>10</th>\n",
              "      <td>I</td>\n",
              "      <td>5.0</td>\n",
              "      <td>5.68</td>\n",
              "    </tr>\n",
              "    <tr>\n",
              "      <th>11</th>\n",
              "      <td>II</td>\n",
              "      <td>10.0</td>\n",
              "      <td>9.14</td>\n",
              "    </tr>\n",
              "    <tr>\n",
              "      <th>12</th>\n",
              "      <td>II</td>\n",
              "      <td>8.0</td>\n",
              "      <td>8.14</td>\n",
              "    </tr>\n",
              "    <tr>\n",
              "      <th>13</th>\n",
              "      <td>II</td>\n",
              "      <td>13.0</td>\n",
              "      <td>8.74</td>\n",
              "    </tr>\n",
              "    <tr>\n",
              "      <th>14</th>\n",
              "      <td>II</td>\n",
              "      <td>9.0</td>\n",
              "      <td>8.77</td>\n",
              "    </tr>\n",
              "    <tr>\n",
              "      <th>15</th>\n",
              "      <td>II</td>\n",
              "      <td>11.0</td>\n",
              "      <td>9.26</td>\n",
              "    </tr>\n",
              "    <tr>\n",
              "      <th>16</th>\n",
              "      <td>II</td>\n",
              "      <td>14.0</td>\n",
              "      <td>8.10</td>\n",
              "    </tr>\n",
              "    <tr>\n",
              "      <th>17</th>\n",
              "      <td>II</td>\n",
              "      <td>6.0</td>\n",
              "      <td>6.13</td>\n",
              "    </tr>\n",
              "    <tr>\n",
              "      <th>18</th>\n",
              "      <td>II</td>\n",
              "      <td>4.0</td>\n",
              "      <td>3.10</td>\n",
              "    </tr>\n",
              "    <tr>\n",
              "      <th>19</th>\n",
              "      <td>II</td>\n",
              "      <td>12.0</td>\n",
              "      <td>9.13</td>\n",
              "    </tr>\n",
              "    <tr>\n",
              "      <th>20</th>\n",
              "      <td>II</td>\n",
              "      <td>7.0</td>\n",
              "      <td>7.26</td>\n",
              "    </tr>\n",
              "    <tr>\n",
              "      <th>21</th>\n",
              "      <td>II</td>\n",
              "      <td>5.0</td>\n",
              "      <td>4.74</td>\n",
              "    </tr>\n",
              "    <tr>\n",
              "      <th>22</th>\n",
              "      <td>III</td>\n",
              "      <td>10.0</td>\n",
              "      <td>7.46</td>\n",
              "    </tr>\n",
              "    <tr>\n",
              "      <th>23</th>\n",
              "      <td>III</td>\n",
              "      <td>8.0</td>\n",
              "      <td>6.77</td>\n",
              "    </tr>\n",
              "    <tr>\n",
              "      <th>24</th>\n",
              "      <td>III</td>\n",
              "      <td>13.0</td>\n",
              "      <td>12.74</td>\n",
              "    </tr>\n",
              "    <tr>\n",
              "      <th>25</th>\n",
              "      <td>III</td>\n",
              "      <td>9.0</td>\n",
              "      <td>7.11</td>\n",
              "    </tr>\n",
              "    <tr>\n",
              "      <th>26</th>\n",
              "      <td>III</td>\n",
              "      <td>11.0</td>\n",
              "      <td>7.81</td>\n",
              "    </tr>\n",
              "    <tr>\n",
              "      <th>27</th>\n",
              "      <td>III</td>\n",
              "      <td>14.0</td>\n",
              "      <td>8.84</td>\n",
              "    </tr>\n",
              "    <tr>\n",
              "      <th>28</th>\n",
              "      <td>III</td>\n",
              "      <td>6.0</td>\n",
              "      <td>6.08</td>\n",
              "    </tr>\n",
              "    <tr>\n",
              "      <th>29</th>\n",
              "      <td>III</td>\n",
              "      <td>4.0</td>\n",
              "      <td>5.39</td>\n",
              "    </tr>\n",
              "    <tr>\n",
              "      <th>30</th>\n",
              "      <td>III</td>\n",
              "      <td>12.0</td>\n",
              "      <td>8.15</td>\n",
              "    </tr>\n",
              "    <tr>\n",
              "      <th>31</th>\n",
              "      <td>III</td>\n",
              "      <td>7.0</td>\n",
              "      <td>6.42</td>\n",
              "    </tr>\n",
              "    <tr>\n",
              "      <th>32</th>\n",
              "      <td>III</td>\n",
              "      <td>5.0</td>\n",
              "      <td>5.73</td>\n",
              "    </tr>\n",
              "    <tr>\n",
              "      <th>33</th>\n",
              "      <td>IV</td>\n",
              "      <td>8.0</td>\n",
              "      <td>6.58</td>\n",
              "    </tr>\n",
              "    <tr>\n",
              "      <th>34</th>\n",
              "      <td>IV</td>\n",
              "      <td>8.0</td>\n",
              "      <td>5.76</td>\n",
              "    </tr>\n",
              "    <tr>\n",
              "      <th>35</th>\n",
              "      <td>IV</td>\n",
              "      <td>8.0</td>\n",
              "      <td>7.71</td>\n",
              "    </tr>\n",
              "    <tr>\n",
              "      <th>36</th>\n",
              "      <td>IV</td>\n",
              "      <td>8.0</td>\n",
              "      <td>8.84</td>\n",
              "    </tr>\n",
              "    <tr>\n",
              "      <th>37</th>\n",
              "      <td>IV</td>\n",
              "      <td>8.0</td>\n",
              "      <td>8.47</td>\n",
              "    </tr>\n",
              "    <tr>\n",
              "      <th>38</th>\n",
              "      <td>IV</td>\n",
              "      <td>8.0</td>\n",
              "      <td>7.04</td>\n",
              "    </tr>\n",
              "    <tr>\n",
              "      <th>39</th>\n",
              "      <td>IV</td>\n",
              "      <td>8.0</td>\n",
              "      <td>5.25</td>\n",
              "    </tr>\n",
              "    <tr>\n",
              "      <th>40</th>\n",
              "      <td>IV</td>\n",
              "      <td>19.0</td>\n",
              "      <td>12.50</td>\n",
              "    </tr>\n",
              "    <tr>\n",
              "      <th>41</th>\n",
              "      <td>IV</td>\n",
              "      <td>8.0</td>\n",
              "      <td>5.56</td>\n",
              "    </tr>\n",
              "    <tr>\n",
              "      <th>42</th>\n",
              "      <td>IV</td>\n",
              "      <td>8.0</td>\n",
              "      <td>7.91</td>\n",
              "    </tr>\n",
              "    <tr>\n",
              "      <th>43</th>\n",
              "      <td>IV</td>\n",
              "      <td>8.0</td>\n",
              "      <td>6.89</td>\n",
              "    </tr>\n",
              "  </tbody>\n",
              "</table>\n",
              "</div>"
            ],
            "text/plain": [
              "   dataset     x      y\n",
              "0        I  10.0   8.04\n",
              "1        I   8.0   6.95\n",
              "2        I  13.0   7.58\n",
              "3        I   9.0   8.81\n",
              "4        I  11.0   8.33\n",
              "5        I  14.0   9.96\n",
              "6        I   6.0   7.24\n",
              "7        I   4.0   4.26\n",
              "8        I  12.0  10.84\n",
              "9        I   7.0   4.82\n",
              "10       I   5.0   5.68\n",
              "11      II  10.0   9.14\n",
              "12      II   8.0   8.14\n",
              "13      II  13.0   8.74\n",
              "14      II   9.0   8.77\n",
              "15      II  11.0   9.26\n",
              "16      II  14.0   8.10\n",
              "17      II   6.0   6.13\n",
              "18      II   4.0   3.10\n",
              "19      II  12.0   9.13\n",
              "20      II   7.0   7.26\n",
              "21      II   5.0   4.74\n",
              "22     III  10.0   7.46\n",
              "23     III   8.0   6.77\n",
              "24     III  13.0  12.74\n",
              "25     III   9.0   7.11\n",
              "26     III  11.0   7.81\n",
              "27     III  14.0   8.84\n",
              "28     III   6.0   6.08\n",
              "29     III   4.0   5.39\n",
              "30     III  12.0   8.15\n",
              "31     III   7.0   6.42\n",
              "32     III   5.0   5.73\n",
              "33      IV   8.0   6.58\n",
              "34      IV   8.0   5.76\n",
              "35      IV   8.0   7.71\n",
              "36      IV   8.0   8.84\n",
              "37      IV   8.0   8.47\n",
              "38      IV   8.0   7.04\n",
              "39      IV   8.0   5.25\n",
              "40      IV  19.0  12.50\n",
              "41      IV   8.0   5.56\n",
              "42      IV   8.0   7.91\n",
              "43      IV   8.0   6.89"
            ]
          },
          "metadata": {
            "tags": []
          },
          "execution_count": 13
        }
      ]
    },
    {
      "metadata": {
        "id": "SpBi7A_iCgAw",
        "colab_type": "text"
      },
      "cell_type": "markdown",
      "source": [
        "### [Group by](https://pandas.pydata.org/pandas-docs/stable/generated/pandas.DataFrame.groupby.html) `'dataset'`"
      ]
    },
    {
      "metadata": {
        "id": "_CrZmlY6CgA0",
        "colab_type": "code",
        "colab": {}
      },
      "cell_type": "code",
      "source": [
        "groups = df.groupby(df['dataset'])\n"
      ],
      "execution_count": 0,
      "outputs": []
    },
    {
      "metadata": {
        "id": "0EOq2LHqCgBG",
        "colab_type": "text"
      },
      "cell_type": "markdown",
      "source": [
        "### [Describe](https://pandas.pydata.org/pandas-docs/stable/generated/pandas.DataFrame.describe.html) the groups"
      ]
    },
    {
      "metadata": {
        "id": "Ycw12FhDCgBM",
        "colab_type": "code",
        "colab": {
          "base_uri": "https://localhost:8080/",
          "height": 642
        },
        "outputId": "dc3f2581-a461-435b-9695-eae3dca8f47b"
      },
      "cell_type": "code",
      "source": [
        "for (i,x) in groups:\n",
        "  print(i, x.describe())"
      ],
      "execution_count": 15,
      "outputs": [
        {
          "output_type": "stream",
          "text": [
            "I                x          y\n",
            "count  11.000000  11.000000\n",
            "mean    9.000000   7.500909\n",
            "std     3.316625   2.031568\n",
            "min     4.000000   4.260000\n",
            "25%     6.500000   6.315000\n",
            "50%     9.000000   7.580000\n",
            "75%    11.500000   8.570000\n",
            "max    14.000000  10.840000\n",
            "II                x          y\n",
            "count  11.000000  11.000000\n",
            "mean    9.000000   7.500909\n",
            "std     3.316625   2.031657\n",
            "min     4.000000   3.100000\n",
            "25%     6.500000   6.695000\n",
            "50%     9.000000   8.140000\n",
            "75%    11.500000   8.950000\n",
            "max    14.000000   9.260000\n",
            "III                x          y\n",
            "count  11.000000  11.000000\n",
            "mean    9.000000   7.500000\n",
            "std     3.316625   2.030424\n",
            "min     4.000000   5.390000\n",
            "25%     6.500000   6.250000\n",
            "50%     9.000000   7.110000\n",
            "75%    11.500000   7.980000\n",
            "max    14.000000  12.740000\n",
            "IV                x          y\n",
            "count  11.000000  11.000000\n",
            "mean    9.000000   7.500909\n",
            "std     3.316625   2.030579\n",
            "min     8.000000   5.250000\n",
            "25%     8.000000   6.170000\n",
            "50%     8.000000   7.040000\n",
            "75%     8.000000   8.190000\n",
            "max    19.000000  12.500000\n"
          ],
          "name": "stdout"
        }
      ]
    },
    {
      "metadata": {
        "id": "YSudTY6xCgBQ",
        "colab_type": "text"
      },
      "cell_type": "markdown",
      "source": [
        "### Get the [count](https://pandas.pydata.org/pandas-docs/stable/generated/pandas.DataFrame.count.html), for each column in each group"
      ]
    },
    {
      "metadata": {
        "id": "zC0n2gzQCgBR",
        "colab_type": "code",
        "colab": {
          "base_uri": "https://localhost:8080/",
          "height": 206
        },
        "outputId": "f8111b23-0e59-4308-92fe-fdeb095e9c2b"
      },
      "cell_type": "code",
      "source": [
        "groups.count()"
      ],
      "execution_count": 16,
      "outputs": [
        {
          "output_type": "execute_result",
          "data": {
            "text/html": [
              "<div>\n",
              "<style scoped>\n",
              "    .dataframe tbody tr th:only-of-type {\n",
              "        vertical-align: middle;\n",
              "    }\n",
              "\n",
              "    .dataframe tbody tr th {\n",
              "        vertical-align: top;\n",
              "    }\n",
              "\n",
              "    .dataframe thead th {\n",
              "        text-align: right;\n",
              "    }\n",
              "</style>\n",
              "<table border=\"1\" class=\"dataframe\">\n",
              "  <thead>\n",
              "    <tr style=\"text-align: right;\">\n",
              "      <th></th>\n",
              "      <th>x</th>\n",
              "      <th>y</th>\n",
              "    </tr>\n",
              "    <tr>\n",
              "      <th>dataset</th>\n",
              "      <th></th>\n",
              "      <th></th>\n",
              "    </tr>\n",
              "  </thead>\n",
              "  <tbody>\n",
              "    <tr>\n",
              "      <th>I</th>\n",
              "      <td>11</td>\n",
              "      <td>11</td>\n",
              "    </tr>\n",
              "    <tr>\n",
              "      <th>II</th>\n",
              "      <td>11</td>\n",
              "      <td>11</td>\n",
              "    </tr>\n",
              "    <tr>\n",
              "      <th>III</th>\n",
              "      <td>11</td>\n",
              "      <td>11</td>\n",
              "    </tr>\n",
              "    <tr>\n",
              "      <th>IV</th>\n",
              "      <td>11</td>\n",
              "      <td>11</td>\n",
              "    </tr>\n",
              "  </tbody>\n",
              "</table>\n",
              "</div>"
            ],
            "text/plain": [
              "          x   y\n",
              "dataset        \n",
              "I        11  11\n",
              "II       11  11\n",
              "III      11  11\n",
              "IV       11  11"
            ]
          },
          "metadata": {
            "tags": []
          },
          "execution_count": 16
        }
      ]
    },
    {
      "metadata": {
        "id": "pkWcO7FfCgBe",
        "colab_type": "text"
      },
      "cell_type": "markdown",
      "source": [
        "### Get the [mean](https://pandas.pydata.org/pandas-docs/stable/generated/pandas.DataFrame.mean.html) ..."
      ]
    },
    {
      "metadata": {
        "id": "Zvq_r_G_CgBg",
        "colab_type": "code",
        "colab": {
          "base_uri": "https://localhost:8080/",
          "height": 206
        },
        "outputId": "fc9ae4b7-2fe1-4b70-a592-012625019071"
      },
      "cell_type": "code",
      "source": [
        "groups.mean()"
      ],
      "execution_count": 17,
      "outputs": [
        {
          "output_type": "execute_result",
          "data": {
            "text/html": [
              "<div>\n",
              "<style scoped>\n",
              "    .dataframe tbody tr th:only-of-type {\n",
              "        vertical-align: middle;\n",
              "    }\n",
              "\n",
              "    .dataframe tbody tr th {\n",
              "        vertical-align: top;\n",
              "    }\n",
              "\n",
              "    .dataframe thead th {\n",
              "        text-align: right;\n",
              "    }\n",
              "</style>\n",
              "<table border=\"1\" class=\"dataframe\">\n",
              "  <thead>\n",
              "    <tr style=\"text-align: right;\">\n",
              "      <th></th>\n",
              "      <th>x</th>\n",
              "      <th>y</th>\n",
              "    </tr>\n",
              "    <tr>\n",
              "      <th>dataset</th>\n",
              "      <th></th>\n",
              "      <th></th>\n",
              "    </tr>\n",
              "  </thead>\n",
              "  <tbody>\n",
              "    <tr>\n",
              "      <th>I</th>\n",
              "      <td>9.0</td>\n",
              "      <td>7.500909</td>\n",
              "    </tr>\n",
              "    <tr>\n",
              "      <th>II</th>\n",
              "      <td>9.0</td>\n",
              "      <td>7.500909</td>\n",
              "    </tr>\n",
              "    <tr>\n",
              "      <th>III</th>\n",
              "      <td>9.0</td>\n",
              "      <td>7.500000</td>\n",
              "    </tr>\n",
              "    <tr>\n",
              "      <th>IV</th>\n",
              "      <td>9.0</td>\n",
              "      <td>7.500909</td>\n",
              "    </tr>\n",
              "  </tbody>\n",
              "</table>\n",
              "</div>"
            ],
            "text/plain": [
              "           x         y\n",
              "dataset               \n",
              "I        9.0  7.500909\n",
              "II       9.0  7.500909\n",
              "III      9.0  7.500000\n",
              "IV       9.0  7.500909"
            ]
          },
          "metadata": {
            "tags": []
          },
          "execution_count": 17
        }
      ]
    },
    {
      "metadata": {
        "id": "DtfMzXQkCgBs",
        "colab_type": "text"
      },
      "cell_type": "markdown",
      "source": [
        "### Get the [standard deviation](https://pandas.pydata.org/pandas-docs/stable/generated/pandas.DataFrame.std.html) ..."
      ]
    },
    {
      "metadata": {
        "id": "fBwjhMBvCgBy",
        "colab_type": "code",
        "colab": {
          "base_uri": "https://localhost:8080/",
          "height": 206
        },
        "outputId": "4648604e-b5f4-45f8-ea4f-662f06ac2163"
      },
      "cell_type": "code",
      "source": [
        "groups.std()"
      ],
      "execution_count": 18,
      "outputs": [
        {
          "output_type": "execute_result",
          "data": {
            "text/html": [
              "<div>\n",
              "<style scoped>\n",
              "    .dataframe tbody tr th:only-of-type {\n",
              "        vertical-align: middle;\n",
              "    }\n",
              "\n",
              "    .dataframe tbody tr th {\n",
              "        vertical-align: top;\n",
              "    }\n",
              "\n",
              "    .dataframe thead th {\n",
              "        text-align: right;\n",
              "    }\n",
              "</style>\n",
              "<table border=\"1\" class=\"dataframe\">\n",
              "  <thead>\n",
              "    <tr style=\"text-align: right;\">\n",
              "      <th></th>\n",
              "      <th>x</th>\n",
              "      <th>y</th>\n",
              "    </tr>\n",
              "    <tr>\n",
              "      <th>dataset</th>\n",
              "      <th></th>\n",
              "      <th></th>\n",
              "    </tr>\n",
              "  </thead>\n",
              "  <tbody>\n",
              "    <tr>\n",
              "      <th>I</th>\n",
              "      <td>3.316625</td>\n",
              "      <td>2.031568</td>\n",
              "    </tr>\n",
              "    <tr>\n",
              "      <th>II</th>\n",
              "      <td>3.316625</td>\n",
              "      <td>2.031657</td>\n",
              "    </tr>\n",
              "    <tr>\n",
              "      <th>III</th>\n",
              "      <td>3.316625</td>\n",
              "      <td>2.030424</td>\n",
              "    </tr>\n",
              "    <tr>\n",
              "      <th>IV</th>\n",
              "      <td>3.316625</td>\n",
              "      <td>2.030579</td>\n",
              "    </tr>\n",
              "  </tbody>\n",
              "</table>\n",
              "</div>"
            ],
            "text/plain": [
              "                x         y\n",
              "dataset                    \n",
              "I        3.316625  2.031568\n",
              "II       3.316625  2.031657\n",
              "III      3.316625  2.030424\n",
              "IV       3.316625  2.030579"
            ]
          },
          "metadata": {
            "tags": []
          },
          "execution_count": 18
        }
      ]
    },
    {
      "metadata": {
        "id": "nvQw1VoPCgCG",
        "colab_type": "text"
      },
      "cell_type": "markdown",
      "source": [
        "### Get the [correlation](https://pandas.pydata.org/pandas-docs/stable/generated/pandas.DataFrame.corr.html) ..."
      ]
    },
    {
      "metadata": {
        "id": "DisnD3SCCgCK",
        "colab_type": "code",
        "colab": {
          "base_uri": "https://localhost:8080/",
          "height": 332
        },
        "outputId": "b9cf0615-dce5-44e7-8716-1700ddf25bf3"
      },
      "cell_type": "code",
      "source": [
        "# Pearson Correlation coefficient\n",
        "groups.corr()\n"
      ],
      "execution_count": 19,
      "outputs": [
        {
          "output_type": "execute_result",
          "data": {
            "text/html": [
              "<div>\n",
              "<style scoped>\n",
              "    .dataframe tbody tr th:only-of-type {\n",
              "        vertical-align: middle;\n",
              "    }\n",
              "\n",
              "    .dataframe tbody tr th {\n",
              "        vertical-align: top;\n",
              "    }\n",
              "\n",
              "    .dataframe thead th {\n",
              "        text-align: right;\n",
              "    }\n",
              "</style>\n",
              "<table border=\"1\" class=\"dataframe\">\n",
              "  <thead>\n",
              "    <tr style=\"text-align: right;\">\n",
              "      <th></th>\n",
              "      <th></th>\n",
              "      <th>x</th>\n",
              "      <th>y</th>\n",
              "    </tr>\n",
              "    <tr>\n",
              "      <th>dataset</th>\n",
              "      <th></th>\n",
              "      <th></th>\n",
              "      <th></th>\n",
              "    </tr>\n",
              "  </thead>\n",
              "  <tbody>\n",
              "    <tr>\n",
              "      <th rowspan=\"2\" valign=\"top\">I</th>\n",
              "      <th>x</th>\n",
              "      <td>1.000000</td>\n",
              "      <td>0.816421</td>\n",
              "    </tr>\n",
              "    <tr>\n",
              "      <th>y</th>\n",
              "      <td>0.816421</td>\n",
              "      <td>1.000000</td>\n",
              "    </tr>\n",
              "    <tr>\n",
              "      <th rowspan=\"2\" valign=\"top\">II</th>\n",
              "      <th>x</th>\n",
              "      <td>1.000000</td>\n",
              "      <td>0.816237</td>\n",
              "    </tr>\n",
              "    <tr>\n",
              "      <th>y</th>\n",
              "      <td>0.816237</td>\n",
              "      <td>1.000000</td>\n",
              "    </tr>\n",
              "    <tr>\n",
              "      <th rowspan=\"2\" valign=\"top\">III</th>\n",
              "      <th>x</th>\n",
              "      <td>1.000000</td>\n",
              "      <td>0.816287</td>\n",
              "    </tr>\n",
              "    <tr>\n",
              "      <th>y</th>\n",
              "      <td>0.816287</td>\n",
              "      <td>1.000000</td>\n",
              "    </tr>\n",
              "    <tr>\n",
              "      <th rowspan=\"2\" valign=\"top\">IV</th>\n",
              "      <th>x</th>\n",
              "      <td>1.000000</td>\n",
              "      <td>0.816521</td>\n",
              "    </tr>\n",
              "    <tr>\n",
              "      <th>y</th>\n",
              "      <td>0.816521</td>\n",
              "      <td>1.000000</td>\n",
              "    </tr>\n",
              "  </tbody>\n",
              "</table>\n",
              "</div>"
            ],
            "text/plain": [
              "                  x         y\n",
              "dataset                      \n",
              "I       x  1.000000  0.816421\n",
              "        y  0.816421  1.000000\n",
              "II      x  1.000000  0.816237\n",
              "        y  0.816237  1.000000\n",
              "III     x  1.000000  0.816287\n",
              "        y  0.816287  1.000000\n",
              "IV      x  1.000000  0.816521\n",
              "        y  0.816521  1.000000"
            ]
          },
          "metadata": {
            "tags": []
          },
          "execution_count": 19
        }
      ]
    },
    {
      "metadata": {
        "id": "4N7agWDKCgCT",
        "colab_type": "text"
      },
      "cell_type": "markdown",
      "source": [
        "### Use pandas to [plot](https://pandas.pydata.org/pandas-docs/stable/generated/pandas.DataFrame.plot.html) the groups, as scatter plots"
      ]
    },
    {
      "metadata": {
        "id": "4-0uFKatCgCV",
        "colab_type": "code",
        "colab": {
          "base_uri": "https://localhost:8080/",
          "height": 1185
        },
        "outputId": "6ec74aef-e562-4d29-a795-f23b9590a7fd"
      },
      "cell_type": "code",
      "source": [
        "# import matplotlib.pyplot as plt\n",
        "\n",
        "#for i,x in groups: \n",
        "#  plt.scatter(i,x); \n",
        "\n",
        "groups.plot(x='x', y='y', kind='scatter')\n",
        "\n",
        "# groups?"
      ],
      "execution_count": 20,
      "outputs": [
        {
          "output_type": "execute_result",
          "data": {
            "text/plain": [
              "dataset\n",
              "I      AxesSubplot(0.125,0.125;0.775x0.755)\n",
              "II     AxesSubplot(0.125,0.125;0.775x0.755)\n",
              "III    AxesSubplot(0.125,0.125;0.775x0.755)\n",
              "IV     AxesSubplot(0.125,0.125;0.775x0.755)\n",
              "dtype: object"
            ]
          },
          "metadata": {
            "tags": []
          },
          "execution_count": 20
        },
        {
          "output_type": "display_data",
          "data": {
            "image/png": "[encoded data removed]",
            "text/plain": [
              "<matplotlib.figure.Figure at 0x7f7540a13400>"
            ]
          },
          "metadata": {
            "tags": []
          }
        },
        {
          "output_type": "display_data",
          "data": {
            "image/png": "[encoded data removed]",
            "text/plain": [
              "<matplotlib.figure.Figure at 0x7f753da487f0>"
            ]
          },
          "metadata": {
            "tags": []
          }
        },
        {
          "output_type": "display_data",
          "data": {
            "image/png": "[encoded data removed]",
            "text/plain": [
              "<matplotlib.figure.Figure at 0x7f753da04b38>"
            ]
          },
          "metadata": {
            "tags": []
          }
        },
        {
          "output_type": "display_data",
          "data": {
            "image/png": "[encoded data removed]",
            "text/plain": [
              "<matplotlib.figure.Figure at 0x7f753d9e27b8>"
            ]
          },
          "metadata": {
            "tags": []
          }
        }
      ]
    },
    {
      "metadata": {
        "id": "SI_98qh9CgCa",
        "colab_type": "text"
      },
      "cell_type": "markdown",
      "source": [
        "### Use Seaborn to make [relational plots](http://seaborn.pydata.org/generated/seaborn.relplot.html)"
      ]
    },
    {
      "metadata": {
        "id": "ljXtu_DHCgCe",
        "colab_type": "code",
        "colab": {
          "base_uri": "https://localhost:8080/",
          "height": 369
        },
        "outputId": "029a1473-69bf-4a94-e4a7-8037c555638a"
      },
      "cell_type": "code",
      "source": [
        "import seaborn as sns\n",
        "\n",
        "assert sns.__version__ == '0.9.0'\n",
        "sns.relplot(x='x', y='y', hue='dataset', data=df); \n",
        "\n",
        "# sns.__version__"
      ],
      "execution_count": 29,
      "outputs": [
        {
          "output_type": "display_data",
          "data": {
            "image/png": "[encoded data removed]",
            "text/plain": [
              "<matplotlib.figure.Figure at 0x7f753e0c8d68>"
            ]
          },
          "metadata": {
            "tags": []
          }
        }
      ]
    },
    {
      "metadata": {
        "id": "ceOdjsq5W0Wi",
        "colab_type": "code",
        "colab": {
          "base_uri": "https://localhost:8080/",
          "height": 369
        },
        "outputId": "38bcf058-a5ad-4125-f8d8-93fdac395e30"
      },
      "cell_type": "code",
      "source": [
        "sns.pairplot(df, hue='dataset');"
      ],
      "execution_count": 24,
      "outputs": [
        {
          "output_type": "display_data",
          "data": {
            "image/png": "[encoded data removed]",
            "text/plain": [
              "<matplotlib.figure.Figure at 0x7f753d921a90>"
            ]
          },
          "metadata": {
            "tags": []
          }
        }
      ]
    },
    {
      "metadata": {
        "id": "3DTNaLhxYQFE",
        "colab_type": "code",
        "colab": {
          "base_uri": "https://localhost:8080/",
          "height": 369
        },
        "outputId": "5b4021b3-34e1-4534-efe5-808e44cd577a"
      },
      "cell_type": "code",
      "source": [
        ""
      ],
      "execution_count": 31,
      "outputs": [
        {
          "output_type": "display_data",
          "data": {
            "image/png": "[encoded data removed]",
            "text/plain": [
              "<matplotlib.figure.Figure at 0x7f753d733240>"
            ]
          },
          "metadata": {
            "tags": []
          }
        }
      ]
    },
    {
      "metadata": {
        "id": "eLruL2RQCgCj",
        "colab_type": "text"
      },
      "cell_type": "markdown",
      "source": [
        "### Use Seaborn to make [linear model plots](http://seaborn.pydata.org/generated/seaborn.lmplot.html)"
      ]
    },
    {
      "metadata": {
        "id": "zeiPY2DzCgCl",
        "colab_type": "code",
        "colab": {
          "base_uri": "https://localhost:8080/",
          "height": 369
        },
        "outputId": "be4150f0-b703-4341-fa26-df0357ee9981"
      },
      "cell_type": "code",
      "source": [
        "sns.lmplot(x='x', y='y', hue='dataset', data=df); "
      ],
      "execution_count": 32,
      "outputs": [
        {
          "output_type": "display_data",
          "data": {
            "image/png": "[encoded data removed]",
            "text/plain": [
              "<matplotlib.figure.Figure at 0x7f753d733978>"
            ]
          },
          "metadata": {
            "tags": []
          }
        }
      ]
    },
    {
      "metadata": {
        "id": "WUFW0IkQCgCo",
        "colab_type": "text"
      },
      "cell_type": "markdown",
      "source": [
        "#### Links\n",
        "- [Seaborn examples: Anscombe's quartet](http://seaborn.pydata.org/examples/anscombes_quartet.html)\n",
        "- [Wikipedia: Anscombe's quartet](https://en.wikipedia.org/wiki/Anscombe%27s_quartet)\n",
        "- [The Datasaurus Dozen](https://www.autodeskresearch.com/publications/samestats)"
      ]
    },
    {
      "metadata": {
        "id": "gPo_RwMoCgCq",
        "colab_type": "text"
      },
      "cell_type": "markdown",
      "source": [
        "## 2. Tips dataset"
      ]
    },
    {
      "metadata": {
        "id": "QExYBv83CgCr",
        "colab_type": "text"
      },
      "cell_type": "markdown",
      "source": [
        "### Load dataset"
      ]
    },
    {
      "metadata": {
        "id": "c3ZyMHfZCgCt",
        "colab_type": "code",
        "colab": {}
      },
      "cell_type": "code",
      "source": [
        "tips = sns.load_dataset('tips')"
      ],
      "execution_count": 0,
      "outputs": []
    },
    {
      "metadata": {
        "id": "Gav-B7rQCgCw",
        "colab_type": "text"
      },
      "cell_type": "markdown",
      "source": [
        "### See the data's shape"
      ]
    },
    {
      "metadata": {
        "id": "EbdCd117CgCy",
        "colab_type": "code",
        "colab": {
          "base_uri": "https://localhost:8080/",
          "height": 34
        },
        "outputId": "3e7d4157-1179-4523-a167-99ae5c5ffe9b"
      },
      "cell_type": "code",
      "source": [
        "tips.shape"
      ],
      "execution_count": 34,
      "outputs": [
        {
          "output_type": "execute_result",
          "data": {
            "text/plain": [
              "(244, 7)"
            ]
          },
          "metadata": {
            "tags": []
          },
          "execution_count": 34
        }
      ]
    },
    {
      "metadata": {
        "id": "5RE5_xJaCgC9",
        "colab_type": "text"
      },
      "cell_type": "markdown",
      "source": [
        "### See the first 5 rows"
      ]
    },
    {
      "metadata": {
        "id": "MsIVDZd2CgC_",
        "colab_type": "code",
        "colab": {
          "base_uri": "https://localhost:8080/",
          "height": 206
        },
        "outputId": "0abcbfb5-c294-492b-abb7-ed614c95ff7c"
      },
      "cell_type": "code",
      "source": [
        "tips.head()"
      ],
      "execution_count": 38,
      "outputs": [
        {
          "output_type": "execute_result",
          "data": {
            "text/html": [
              "<div>\n",
              "<style scoped>\n",
              "    .dataframe tbody tr th:only-of-type {\n",
              "        vertical-align: middle;\n",
              "    }\n",
              "\n",
              "    .dataframe tbody tr th {\n",
              "        vertical-align: top;\n",
              "    }\n",
              "\n",
              "    .dataframe thead th {\n",
              "        text-align: right;\n",
              "    }\n",
              "</style>\n",
              "<table border=\"1\" class=\"dataframe\">\n",
              "  <thead>\n",
              "    <tr style=\"text-align: right;\">\n",
              "      <th></th>\n",
              "      <th>total_bill</th>\n",
              "      <th>tip</th>\n",
              "      <th>sex</th>\n",
              "      <th>smoker</th>\n",
              "      <th>day</th>\n",
              "      <th>time</th>\n",
              "      <th>size</th>\n",
              "    </tr>\n",
              "  </thead>\n",
              "  <tbody>\n",
              "    <tr>\n",
              "      <th>0</th>\n",
              "      <td>16.99</td>\n",
              "      <td>1.01</td>\n",
              "      <td>Female</td>\n",
              "      <td>No</td>\n",
              "      <td>Sun</td>\n",
              "      <td>Dinner</td>\n",
              "      <td>2</td>\n",
              "    </tr>\n",
              "    <tr>\n",
              "      <th>1</th>\n",
              "      <td>10.34</td>\n",
              "      <td>1.66</td>\n",
              "      <td>Male</td>\n",
              "      <td>No</td>\n",
              "      <td>Sun</td>\n",
              "      <td>Dinner</td>\n",
              "      <td>3</td>\n",
              "    </tr>\n",
              "    <tr>\n",
              "      <th>2</th>\n",
              "      <td>21.01</td>\n",
              "      <td>3.50</td>\n",
              "      <td>Male</td>\n",
              "      <td>No</td>\n",
              "      <td>Sun</td>\n",
              "      <td>Dinner</td>\n",
              "      <td>3</td>\n",
              "    </tr>\n",
              "    <tr>\n",
              "      <th>3</th>\n",
              "      <td>23.68</td>\n",
              "      <td>3.31</td>\n",
              "      <td>Male</td>\n",
              "      <td>No</td>\n",
              "      <td>Sun</td>\n",
              "      <td>Dinner</td>\n",
              "      <td>2</td>\n",
              "    </tr>\n",
              "    <tr>\n",
              "      <th>4</th>\n",
              "      <td>24.59</td>\n",
              "      <td>3.61</td>\n",
              "      <td>Female</td>\n",
              "      <td>No</td>\n",
              "      <td>Sun</td>\n",
              "      <td>Dinner</td>\n",
              "      <td>4</td>\n",
              "    </tr>\n",
              "  </tbody>\n",
              "</table>\n",
              "</div>"
            ],
            "text/plain": [
              "   total_bill   tip     sex smoker  day    time  size\n",
              "0       16.99  1.01  Female     No  Sun  Dinner     2\n",
              "1       10.34  1.66    Male     No  Sun  Dinner     3\n",
              "2       21.01  3.50    Male     No  Sun  Dinner     3\n",
              "3       23.68  3.31    Male     No  Sun  Dinner     2\n",
              "4       24.59  3.61  Female     No  Sun  Dinner     4"
            ]
          },
          "metadata": {
            "tags": []
          },
          "execution_count": 38
        }
      ]
    },
    {
      "metadata": {
        "id": "CZaoEOg4CgDE",
        "colab_type": "text"
      },
      "cell_type": "markdown",
      "source": [
        "### Describe the data"
      ]
    },
    {
      "metadata": {
        "id": "sBHwX6k6CgDH",
        "colab_type": "code",
        "colab": {
          "base_uri": "https://localhost:8080/",
          "height": 300
        },
        "outputId": "350b2bdc-ea3e-41e1-c32a-56fa6c1597f5"
      },
      "cell_type": "code",
      "source": [
        "tips.describe(exclude=np.number)\n",
        "\n",
        "tips.describe()"
      ],
      "execution_count": 44,
      "outputs": [
        {
          "output_type": "execute_result",
          "data": {
            "text/html": [
              "<div>\n",
              "<style scoped>\n",
              "    .dataframe tbody tr th:only-of-type {\n",
              "        vertical-align: middle;\n",
              "    }\n",
              "\n",
              "    .dataframe tbody tr th {\n",
              "        vertical-align: top;\n",
              "    }\n",
              "\n",
              "    .dataframe thead th {\n",
              "        text-align: right;\n",
              "    }\n",
              "</style>\n",
              "<table border=\"1\" class=\"dataframe\">\n",
              "  <thead>\n",
              "    <tr style=\"text-align: right;\">\n",
              "      <th></th>\n",
              "      <th>total_bill</th>\n",
              "      <th>tip</th>\n",
              "      <th>size</th>\n",
              "    </tr>\n",
              "  </thead>\n",
              "  <tbody>\n",
              "    <tr>\n",
              "      <th>count</th>\n",
              "      <td>244.000000</td>\n",
              "      <td>244.000000</td>\n",
              "      <td>244.000000</td>\n",
              "    </tr>\n",
              "    <tr>\n",
              "      <th>mean</th>\n",
              "      <td>19.785943</td>\n",
              "      <td>2.998279</td>\n",
              "      <td>2.569672</td>\n",
              "    </tr>\n",
              "    <tr>\n",
              "      <th>std</th>\n",
              "      <td>8.902412</td>\n",
              "      <td>1.383638</td>\n",
              "      <td>0.951100</td>\n",
              "    </tr>\n",
              "    <tr>\n",
              "      <th>min</th>\n",
              "      <td>3.070000</td>\n",
              "      <td>1.000000</td>\n",
              "      <td>1.000000</td>\n",
              "    </tr>\n",
              "    <tr>\n",
              "      <th>25%</th>\n",
              "      <td>13.347500</td>\n",
              "      <td>2.000000</td>\n",
              "      <td>2.000000</td>\n",
              "    </tr>\n",
              "    <tr>\n",
              "      <th>50%</th>\n",
              "      <td>17.795000</td>\n",
              "      <td>2.900000</td>\n",
              "      <td>2.000000</td>\n",
              "    </tr>\n",
              "    <tr>\n",
              "      <th>75%</th>\n",
              "      <td>24.127500</td>\n",
              "      <td>3.562500</td>\n",
              "      <td>3.000000</td>\n",
              "    </tr>\n",
              "    <tr>\n",
              "      <th>max</th>\n",
              "      <td>50.810000</td>\n",
              "      <td>10.000000</td>\n",
              "      <td>6.000000</td>\n",
              "    </tr>\n",
              "  </tbody>\n",
              "</table>\n",
              "</div>"
            ],
            "text/plain": [
              "       total_bill         tip        size\n",
              "count  244.000000  244.000000  244.000000\n",
              "mean    19.785943    2.998279    2.569672\n",
              "std      8.902412    1.383638    0.951100\n",
              "min      3.070000    1.000000    1.000000\n",
              "25%     13.347500    2.000000    2.000000\n",
              "50%     17.795000    2.900000    2.000000\n",
              "75%     24.127500    3.562500    3.000000\n",
              "max     50.810000   10.000000    6.000000"
            ]
          },
          "metadata": {
            "tags": []
          },
          "execution_count": 44
        }
      ]
    },
    {
      "metadata": {
        "id": "a-f1SX6MCgDY",
        "colab_type": "text"
      },
      "cell_type": "markdown",
      "source": [
        "### Make univariate [distribution plots](https://seaborn.pydata.org/generated/seaborn.distplot.html)"
      ]
    },
    {
      "metadata": {
        "id": "T-e3_fFUCgDZ",
        "colab_type": "code",
        "colab": {
          "base_uri": "https://localhost:8080/",
          "height": 284
        },
        "outputId": "561daebb-b394-4e48-f555-4eaf758b2712"
      },
      "cell_type": "code",
      "source": [
        "sns.distplot(tips.tip); \n",
        "# distribution plot of total bill column \n",
        "sns.distplot(tips.total_bill);"
      ],
      "execution_count": 59,
      "outputs": [
        {
          "output_type": "display_data",
          "data": {
            "image/png": "[encoded data removed]",
            "text/plain": [
              "<matplotlib.figure.Figure at 0x7f753d5430b8>"
            ]
          },
          "metadata": {
            "tags": []
          }
        }
      ]
    },
    {
      "metadata": {
        "id": "IqKgN2lzb7JH",
        "colab_type": "code",
        "colab": {}
      },
      "cell_type": "code",
      "source": [
        "# distribution plot of total bill column \n",
        "# sns.distplot(tips.total_bill);"
      ],
      "execution_count": 0,
      "outputs": []
    },
    {
      "metadata": {
        "id": "W6XZAzbicTuW",
        "colab_type": "code",
        "colab": {
          "base_uri": "https://localhost:8080/",
          "height": 283
        },
        "outputId": "8932b8b2-c633-4ba6-e31d-5801cdfe6fe8"
      },
      "cell_type": "code",
      "source": [
        "# sns.distplot(tips.tip); \n",
        "# # distribution plot of total bill column \n",
        "# sns.distplot(tips.total_bill);\n",
        "\n",
        "tips['percent'] = tips['tip'] / tips['total_bill']\n",
        "\n",
        "sns.distplot(tips.percent); "
      ],
      "execution_count": 58,
      "outputs": [
        {
          "output_type": "display_data",
          "data": {
            "image/png": "[encoded data removed]",
            "text/plain": [
              "<matplotlib.figure.Figure at 0x7f753d750eb8>"
            ]
          },
          "metadata": {
            "tags": []
          }
        }
      ]
    },
    {
      "metadata": {
        "id": "SIKaJiSFCgDf",
        "colab_type": "text"
      },
      "cell_type": "markdown",
      "source": [
        "### Make bivariate [relational plots](https://seaborn.pydata.org/generated/seaborn.relplot.html)"
      ]
    },
    {
      "metadata": {
        "id": "Ph9Svw4KdZJd",
        "colab_type": "code",
        "colab": {}
      },
      "cell_type": "code",
      "source": [
        ""
      ],
      "execution_count": 0,
      "outputs": []
    },
    {
      "metadata": {
        "id": "K49-zrGwCgDg",
        "colab_type": "code",
        "colab": {
          "base_uri": "https://localhost:8080/",
          "height": 369
        },
        "outputId": "3028af73-4ed5-4ae1-9e0a-76173cddf35f"
      },
      "cell_type": "code",
      "source": [
        "sns.relplot('total_bill', 'tip', data=tips, hue='size', alpha=0.5);"
      ],
      "execution_count": 54,
      "outputs": [
        {
          "output_type": "display_data",
          "data": {
            "image/png": "[encoded data removed]",
            "text/plain": [
              "<matplotlib.figure.Figure at 0x7f753d81f470>"
            ]
          },
          "metadata": {
            "tags": []
          }
        }
      ]
    },
    {
      "metadata": {
        "id": "2GhBJE9vCgDj",
        "colab_type": "text"
      },
      "cell_type": "markdown",
      "source": [
        "### Make univariate [categorical plots](https://seaborn.pydata.org/generated/seaborn.catplot.html)"
      ]
    },
    {
      "metadata": {
        "id": "zRkervJWCgDl",
        "colab_type": "code",
        "colab": {
          "base_uri": "https://localhost:8080/",
          "height": 369
        },
        "outputId": "9733c0a3-95c5-4cd6-b8b8-f188fefc6325"
      },
      "cell_type": "code",
      "source": [
        "sns.catplot('sex', data=tips, kind='count');"
      ],
      "execution_count": 144,
      "outputs": [
        {
          "output_type": "display_data",
          "data": {
            "image/png": "[encoded data removed]",
            "text/plain": [
              "<matplotlib.figure.Figure at 0x7f753c4754a8>"
            ]
          },
          "metadata": {
            "tags": []
          }
        }
      ]
    },
    {
      "metadata": {
        "id": "I3MrH5wlaq_S",
        "colab_type": "code",
        "colab": {
          "base_uri": "https://localhost:8080/",
          "height": 369
        },
        "outputId": "e1d86ae5-cb85-460e-b6b2-db24f9cca604"
      },
      "cell_type": "code",
      "source": [
        "sns.catplot('day', data=tips, kind='count');"
      ],
      "execution_count": 145,
      "outputs": [
        {
          "output_type": "display_data",
          "data": {
            "image/png": "[encoded data removed]",
            "text/plain": [
              "<matplotlib.figure.Figure at 0x7f7540af24a8>"
            ]
          },
          "metadata": {
            "tags": []
          }
        }
      ]
    },
    {
      "metadata": {
        "id": "PFOa6bUgCgDw",
        "colab_type": "text"
      },
      "cell_type": "markdown",
      "source": [
        "### Make bivariate [categorical plots](https://seaborn.pydata.org/generated/seaborn.catplot.html)"
      ]
    },
    {
      "metadata": {
        "id": "Ju8aBAC2awMi",
        "colab_type": "code",
        "colab": {
          "base_uri": "https://localhost:8080/",
          "height": 369
        },
        "outputId": "1a113bed-0706-473b-e296-d9a93885f808"
      },
      "cell_type": "code",
      "source": [
        "sns.catplot('smoker', data=tips, kind='count');"
      ],
      "execution_count": 146,
      "outputs": [
        {
          "output_type": "display_data",
          "data": {
            "image/png": "[encoded data removed]",
            "text/plain": [
              "<matplotlib.figure.Figure at 0x7f753c9b2f98>"
            ]
          },
          "metadata": {
            "tags": []
          }
        }
      ]
    },
    {
      "metadata": {
        "id": "Xv0S9au3CgD0",
        "colab_type": "code",
        "colab": {
          "base_uri": "https://localhost:8080/",
          "height": 369
        },
        "outputId": "ce576475-d184-404b-acff-2b518dba2ed0"
      },
      "cell_type": "code",
      "source": [
        "sns.catplot('size', 'tip', data=tips, kind='swarm', alpha=0.58); "
      ],
      "execution_count": 63,
      "outputs": [
        {
          "output_type": "display_data",
          "data": {
            "image/png": "[encoded data removed]",
            "text/plain": [
              "<matplotlib.figure.Figure at 0x7f753d6f7828>"
            ]
          },
          "metadata": {
            "tags": []
          }
        }
      ]
    },
    {
      "metadata": {
        "id": "tVb6Awg-fAyS",
        "colab_type": "code",
        "colab": {
          "base_uri": "https://localhost:8080/",
          "height": 369
        },
        "outputId": "a508c904-8950-4493-c8bf-43f2e64c6d9d"
      },
      "cell_type": "code",
      "source": [
        "sns.catplot('size', 'tip', data=tips, kind='bar'); ## automatically averages\n"
      ],
      "execution_count": 64,
      "outputs": [
        {
          "output_type": "display_data",
          "data": {
            "image/png": "[encoded data removed]",
            "text/plain": [
              "<matplotlib.figure.Figure at 0x7f753d6eb5c0>"
            ]
          },
          "metadata": {
            "tags": []
          }
        }
      ]
    },
    {
      "metadata": {
        "id": "fNjtG-e1CgD-",
        "colab_type": "text"
      },
      "cell_type": "markdown",
      "source": [
        "## 3. Flights"
      ]
    },
    {
      "metadata": {
        "id": "fEOrdNn-CgEA",
        "colab_type": "text"
      },
      "cell_type": "markdown",
      "source": [
        "### Load dataset"
      ]
    },
    {
      "metadata": {
        "id": "026koBxsCgEB",
        "colab_type": "code",
        "colab": {}
      },
      "cell_type": "code",
      "source": [
        "flights = sns.load_dataset('flights')"
      ],
      "execution_count": 0,
      "outputs": []
    },
    {
      "metadata": {
        "id": "ZI7iK4H2CgEE",
        "colab_type": "text"
      },
      "cell_type": "markdown",
      "source": [
        "### See the data's shape"
      ]
    },
    {
      "metadata": {
        "id": "Autl0m5jCgEH",
        "colab_type": "code",
        "colab": {
          "base_uri": "https://localhost:8080/",
          "height": 34
        },
        "outputId": "5fd5274d-0264-4392-a8f0-ca01de077a6f"
      },
      "cell_type": "code",
      "source": [
        "flights.shape"
      ],
      "execution_count": 127,
      "outputs": [
        {
          "output_type": "execute_result",
          "data": {
            "text/plain": [
              "(144, 3)"
            ]
          },
          "metadata": {
            "tags": []
          },
          "execution_count": 127
        }
      ]
    },
    {
      "metadata": {
        "id": "eECPgG_3CgEO",
        "colab_type": "text"
      },
      "cell_type": "markdown",
      "source": [
        "### See the first 5 rows"
      ]
    },
    {
      "metadata": {
        "id": "XdI1GPaFCgEP",
        "colab_type": "code",
        "colab": {
          "base_uri": "https://localhost:8080/",
          "height": 224
        },
        "outputId": "ad5ebac0-3a40-4388-96a0-0e2cf14ab09b"
      },
      "cell_type": "code",
      "source": [
        "flights.head()\n",
        "\n",
        "# flights.dtypes\n",
        "\n",
        "month_dict = {\n",
        "    'January': 1,\n",
        "    'February': 2,\n",
        "    'March': 3,\n",
        "    'April': 4,\n",
        "    'May': 5,\n",
        "    'June': 6,\n",
        "    'July': 7,\n",
        "    'August': 8,\n",
        "    'September': 9,\n",
        "    'October': 10,\n",
        "    'November': 11,\n",
        "    'December': 12\n",
        "}\n",
        "\n",
        "flights.head()\n",
        "\n"
      ],
      "execution_count": 141,
      "outputs": [
        {
          "output_type": "stream",
          "text": [
            "['year' 'month' 'passengers']\n"
          ],
          "name": "stdout"
        },
        {
          "output_type": "execute_result",
          "data": {
            "text/html": [
              "<div>\n",
              "<style scoped>\n",
              "    .dataframe tbody tr th:only-of-type {\n",
              "        vertical-align: middle;\n",
              "    }\n",
              "\n",
              "    .dataframe tbody tr th {\n",
              "        vertical-align: top;\n",
              "    }\n",
              "\n",
              "    .dataframe thead th {\n",
              "        text-align: right;\n",
              "    }\n",
              "</style>\n",
              "<table border=\"1\" class=\"dataframe\">\n",
              "  <thead>\n",
              "    <tr style=\"text-align: right;\">\n",
              "      <th></th>\n",
              "      <th>year</th>\n",
              "      <th>month</th>\n",
              "      <th>passengers</th>\n",
              "    </tr>\n",
              "  </thead>\n",
              "  <tbody>\n",
              "    <tr>\n",
              "      <th>0</th>\n",
              "      <td>1949</td>\n",
              "      <td>January</td>\n",
              "      <td>112</td>\n",
              "    </tr>\n",
              "    <tr>\n",
              "      <th>1</th>\n",
              "      <td>1949</td>\n",
              "      <td>February</td>\n",
              "      <td>118</td>\n",
              "    </tr>\n",
              "    <tr>\n",
              "      <th>2</th>\n",
              "      <td>1949</td>\n",
              "      <td>March</td>\n",
              "      <td>132</td>\n",
              "    </tr>\n",
              "    <tr>\n",
              "      <th>3</th>\n",
              "      <td>1949</td>\n",
              "      <td>April</td>\n",
              "      <td>129</td>\n",
              "    </tr>\n",
              "    <tr>\n",
              "      <th>4</th>\n",
              "      <td>1949</td>\n",
              "      <td>May</td>\n",
              "      <td>121</td>\n",
              "    </tr>\n",
              "  </tbody>\n",
              "</table>\n",
              "</div>"
            ],
            "text/plain": [
              "   year     month  passengers\n",
              "0  1949   January         112\n",
              "1  1949  February         118\n",
              "2  1949     March         132\n",
              "3  1949     April         129\n",
              "4  1949       May         121"
            ]
          },
          "metadata": {
            "tags": []
          },
          "execution_count": 141
        }
      ]
    },
    {
      "metadata": {
        "id": "9gDdeA5CCgES",
        "colab_type": "text"
      },
      "cell_type": "markdown",
      "source": [
        "### Describe the data"
      ]
    },
    {
      "metadata": {
        "id": "F2nL63KzCgEU",
        "colab_type": "code",
        "colab": {
          "base_uri": "https://localhost:8080/",
          "height": 300
        },
        "outputId": "28021597-4046-4faa-a84e-604cb357ea1e"
      },
      "cell_type": "code",
      "source": [
        "flights.describe()"
      ],
      "execution_count": 69,
      "outputs": [
        {
          "output_type": "execute_result",
          "data": {
            "text/html": [
              "<div>\n",
              "<style scoped>\n",
              "    .dataframe tbody tr th:only-of-type {\n",
              "        vertical-align: middle;\n",
              "    }\n",
              "\n",
              "    .dataframe tbody tr th {\n",
              "        vertical-align: top;\n",
              "    }\n",
              "\n",
              "    .dataframe thead th {\n",
              "        text-align: right;\n",
              "    }\n",
              "</style>\n",
              "<table border=\"1\" class=\"dataframe\">\n",
              "  <thead>\n",
              "    <tr style=\"text-align: right;\">\n",
              "      <th></th>\n",
              "      <th>year</th>\n",
              "      <th>passengers</th>\n",
              "    </tr>\n",
              "  </thead>\n",
              "  <tbody>\n",
              "    <tr>\n",
              "      <th>count</th>\n",
              "      <td>144.000000</td>\n",
              "      <td>144.000000</td>\n",
              "    </tr>\n",
              "    <tr>\n",
              "      <th>mean</th>\n",
              "      <td>1954.500000</td>\n",
              "      <td>280.298611</td>\n",
              "    </tr>\n",
              "    <tr>\n",
              "      <th>std</th>\n",
              "      <td>3.464102</td>\n",
              "      <td>119.966317</td>\n",
              "    </tr>\n",
              "    <tr>\n",
              "      <th>min</th>\n",
              "      <td>1949.000000</td>\n",
              "      <td>104.000000</td>\n",
              "    </tr>\n",
              "    <tr>\n",
              "      <th>25%</th>\n",
              "      <td>1951.750000</td>\n",
              "      <td>180.000000</td>\n",
              "    </tr>\n",
              "    <tr>\n",
              "      <th>50%</th>\n",
              "      <td>1954.500000</td>\n",
              "      <td>265.500000</td>\n",
              "    </tr>\n",
              "    <tr>\n",
              "      <th>75%</th>\n",
              "      <td>1957.250000</td>\n",
              "      <td>360.500000</td>\n",
              "    </tr>\n",
              "    <tr>\n",
              "      <th>max</th>\n",
              "      <td>1960.000000</td>\n",
              "      <td>622.000000</td>\n",
              "    </tr>\n",
              "  </tbody>\n",
              "</table>\n",
              "</div>"
            ],
            "text/plain": [
              "              year  passengers\n",
              "count   144.000000  144.000000\n",
              "mean   1954.500000  280.298611\n",
              "std       3.464102  119.966317\n",
              "min    1949.000000  104.000000\n",
              "25%    1951.750000  180.000000\n",
              "50%    1954.500000  265.500000\n",
              "75%    1957.250000  360.500000\n",
              "max    1960.000000  622.000000"
            ]
          },
          "metadata": {
            "tags": []
          },
          "execution_count": 69
        }
      ]
    },
    {
      "metadata": {
        "id": "Fv2pPl1QCgEW",
        "colab_type": "text"
      },
      "cell_type": "markdown",
      "source": [
        "### Plot year & passengers"
      ]
    },
    {
      "metadata": {
        "id": "yRNiPgKcCgEX",
        "colab_type": "code",
        "colab": {
          "base_uri": "https://localhost:8080/",
          "height": 283
        },
        "outputId": "a70b1531-5aa6-45aa-95b7-3d7ca1d88b09"
      },
      "cell_type": "code",
      "source": [
        "flights.plot('year','passengers');"
      ],
      "execution_count": 108,
      "outputs": [
        {
          "output_type": "display_data",
          "data": {
            "image/png": "[encoded data removed]",
            "text/plain": [
              "<matplotlib.figure.Figure at 0x7f753ca586a0>"
            ]
          },
          "metadata": {
            "tags": []
          }
        }
      ]
    },
    {
      "metadata": {
        "id": "SFRsPaciEVEL",
        "colab_type": "code",
        "colab": {
          "base_uri": "https://localhost:8080/",
          "height": 369
        },
        "outputId": "a6f16042-cbea-4e79-98a6-49bd8b62d64a"
      },
      "cell_type": "code",
      "source": [
        "sns.pairplot(flights[['year','passengers']]); # hue='month' won't work for some reason"
      ],
      "execution_count": 137,
      "outputs": [
        {
          "output_type": "display_data",
          "data": {
            "image/png": "[encoded data removed]",
            "text/plain": [
              "<matplotlib.figure.Figure at 0x7f753cb11710>"
            ]
          },
          "metadata": {
            "tags": []
          }
        }
      ]
    },
    {
      "metadata": {
        "id": "PKMhVjfICgEZ",
        "colab_type": "text"
      },
      "cell_type": "markdown",
      "source": [
        "### Plot month & passengers"
      ]
    },
    {
      "metadata": {
        "id": "RtnkB0OPCgEc",
        "colab_type": "code",
        "colab": {
          "base_uri": "https://localhost:8080/",
          "height": 369
        },
        "outputId": "3ee7a50b-5bba-4f45-feb1-0160b15eb58a"
      },
      "cell_type": "code",
      "source": [
        "sns.catplot('month','passengers', data=flights, kind='swarm', hue='year'); "
      ],
      "execution_count": 136,
      "outputs": [
        {
          "output_type": "display_data",
          "data": {
            "image/png": "[encoded data removed]",
            "text/plain": [
              "<matplotlib.figure.Figure at 0x7f753c12f9b0>"
            ]
          },
          "metadata": {
            "tags": []
          }
        }
      ]
    },
    {
      "metadata": {
        "id": "nKLNN3ZMETT1",
        "colab_type": "code",
        "colab": {}
      },
      "cell_type": "code",
      "source": [
        ""
      ],
      "execution_count": 0,
      "outputs": []
    },
    {
      "metadata": {
        "id": "PH8Ka7htCgEn",
        "colab_type": "text"
      },
      "cell_type": "markdown",
      "source": [
        "### Create a [pivot table](https://pandas.pydata.org/pandas-docs/stable/generated/pandas.DataFrame.pivot_table.html) of passengers by month and year"
      ]
    },
    {
      "metadata": {
        "id": "PF4WCntBCgEo",
        "colab_type": "code",
        "colab": {}
      },
      "cell_type": "code",
      "source": [
        "flights_piv = flights.pivot_table('passengers', 'month', 'year');"
      ],
      "execution_count": 0,
      "outputs": []
    },
    {
      "metadata": {
        "id": "T3B8l0YaCgEu",
        "colab_type": "text"
      },
      "cell_type": "markdown",
      "source": [
        "### Plot the pivot table as a [heat map](https://seaborn.pydata.org/generated/seaborn.heatmap.html)"
      ]
    },
    {
      "metadata": {
        "id": "nQZKtr0VCgEv",
        "colab_type": "code",
        "colab": {
          "base_uri": "https://localhost:8080/",
          "height": 555
        },
        "outputId": "2ce4d240-80bb-4ab8-dc4d-5b6541a19381"
      },
      "cell_type": "code",
      "source": [
        "plt.figure(figsize=(16, 9))\n",
        "sns.heatmap(flights_piv, annot=True, fmt='d');"
      ],
      "execution_count": 143,
      "outputs": [
        {
          "output_type": "display_data",
          "data": {
            "image/png": "[encoded data removed]",
            "text/plain": [
              "<matplotlib.figure.Figure at 0x7f753c4755f8>"
            ]
          },
          "metadata": {
            "tags": []
          }
        }
      ]
    },
    {
      "metadata": {
        "id": "oEUvuuSgVTeW",
        "colab_type": "code",
        "colab": {}
      },
      "cell_type": "code",
      "source": [
        ""
      ],
      "execution_count": 0,
      "outputs": []
    }
  ]
}