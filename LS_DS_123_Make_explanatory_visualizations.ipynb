{
  "nbformat": 4,
  "nbformat_minor": 0,
  "metadata": {
    "colab": {
      "name": "LS_DS_123_Make_explanatory_visualizations.ipynb",
      "version": "0.3.2",
      "provenance": [],
      "collapsed_sections": [],
      "include_colab_link": true
    },
    "kernelspec": {
      "display_name": "Python 3",
      "language": "python",
      "name": "python3"
    }
  },
  "cells": [
    {
      "cell_type": "markdown",
      "metadata": {
        "id": "view-in-github",
        "colab_type": "text"
      },
      "source": [
        "<a href=\"https://colab.research.google.com/github/aapte11/DS-Sprint-02-Storytelling-With-Data/blob/master/LS_DS_123_Make_explanatory_visualizations.ipynb\" target=\"_parent\"><img src=\"https://colab.research.google.com/assets/colab-badge.svg\" alt=\"Open In Colab\"/></a>"
      ]
    },
    {
      "metadata": {
        "id": "FrApBPWKIxPs",
        "colab_type": "text"
      },
      "cell_type": "markdown",
      "source": [
        "_Lambda School Data Science_\n",
        "\n",
        "# Choose appropriate visualizations\n",
        "\n",
        "\n",
        "Recreate this [example by FiveThirtyEight:](https://fivethirtyeight.com/features/al-gores-new-movie-exposes-the-big-flaw-in-online-movie-ratings/)\n",
        "\n",
        "![](https://fivethirtyeight.com/wp-content/uploads/2017/09/mehtahickey-inconvenient-0830-1.png?w=575)\n",
        "\n",
        "Using this data:\n",
        "\n",
        "https://github.com/fivethirtyeight/data/tree/master/inconvenient-sequel\n",
        "\n",
        "### Stretch goals\n",
        "\n",
        "Recreate more examples from [FiveThityEight's shared data repository](https://data.fivethirtyeight.com/).\n",
        "\n",
        "For example:\n",
        "- [thanksgiving-2015](https://fivethirtyeight.com/features/heres-what-your-part-of-america-eats-on-thanksgiving/) ([`altair`](https://altair-viz.github.io/gallery/index.html#maps))\n",
        "- [candy-power-ranking](https://fivethirtyeight.com/features/the-ultimate-halloween-candy-power-ranking/) ([`statsmodels`](https://www.statsmodels.org/stable/index.html))"
      ]
    },
    {
      "metadata": {
        "id": "aDdcOUJ-q4OU",
        "colab_type": "text"
      },
      "cell_type": "markdown",
      "source": [
        "## Data Wrangling and Exploration"
      ]
    },
    {
      "metadata": {
        "id": "zt1eGRhBIxPw",
        "colab_type": "code",
        "colab": {
          "base_uri": "https://localhost:8080/",
          "height": 131
        },
        "outputId": "69bfa62d-4c3c-44a2-a7b5-72e526bf4690"
      },
      "cell_type": "code",
      "source": [
        "import pandas as pd\n",
        "import matplotlib.pyplot as plt\n",
        "\n",
        "url = 'https://raw.githubusercontent.com/fivethirtyeight/data/master/inconvenient-sequel/ratings.csv'\n",
        "\n",
        "df = pd.read_csv(url)\n",
        "\n",
        "# df.head()\n",
        "\n",
        "df.timestamp = pd.to_datetime(df.timestamp)\n",
        "\n",
        "df.timestamp.describe()\n"
      ],
      "execution_count": 107,
      "outputs": [
        {
          "output_type": "execute_result",
          "data": {
            "text/plain": [
              "count                          80053\n",
              "unique                         80053\n",
              "top       2017-07-24 23:00:02.760781\n",
              "freq                               1\n",
              "first     2017-07-17 12:28:32.785639\n",
              "last      2017-08-29 23:10:06.218251\n",
              "Name: timestamp, dtype: object"
            ]
          },
          "metadata": {
            "tags": []
          },
          "execution_count": 107
        }
      ]
    },
    {
      "metadata": {
        "id": "XHolxXRfdjNj",
        "colab_type": "code",
        "colab": {
          "base_uri": "https://localhost:8080/",
          "height": 348
        },
        "outputId": "d62a0faa-d2c5-42e9-c772-b7b795d3d44d"
      },
      "cell_type": "code",
      "source": [
        "df.set_index('timestamp', inplace = True)\n",
        "\n",
        "df.head()"
      ],
      "execution_count": 108,
      "outputs": [
        {
          "output_type": "execute_result",
          "data": {
            "text/html": [
              "<div>\n",
              "<style scoped>\n",
              "    .dataframe tbody tr th:only-of-type {\n",
              "        vertical-align: middle;\n",
              "    }\n",
              "\n",
              "    .dataframe tbody tr th {\n",
              "        vertical-align: top;\n",
              "    }\n",
              "\n",
              "    .dataframe thead th {\n",
              "        text-align: right;\n",
              "    }\n",
              "</style>\n",
              "<table border=\"1\" class=\"dataframe\">\n",
              "  <thead>\n",
              "    <tr style=\"text-align: right;\">\n",
              "      <th></th>\n",
              "      <th>respondents</th>\n",
              "      <th>category</th>\n",
              "      <th>link</th>\n",
              "      <th>average</th>\n",
              "      <th>mean</th>\n",
              "      <th>median</th>\n",
              "      <th>1_votes</th>\n",
              "      <th>2_votes</th>\n",
              "      <th>3_votes</th>\n",
              "      <th>4_votes</th>\n",
              "      <th>...</th>\n",
              "      <th>1_pct</th>\n",
              "      <th>2_pct</th>\n",
              "      <th>3_pct</th>\n",
              "      <th>4_pct</th>\n",
              "      <th>5_pct</th>\n",
              "      <th>6_pct</th>\n",
              "      <th>7_pct</th>\n",
              "      <th>8_pct</th>\n",
              "      <th>9_pct</th>\n",
              "      <th>10_pct</th>\n",
              "    </tr>\n",
              "    <tr>\n",
              "      <th>timestamp</th>\n",
              "      <th></th>\n",
              "      <th></th>\n",
              "      <th></th>\n",
              "      <th></th>\n",
              "      <th></th>\n",
              "      <th></th>\n",
              "      <th></th>\n",
              "      <th></th>\n",
              "      <th></th>\n",
              "      <th></th>\n",
              "      <th></th>\n",
              "      <th></th>\n",
              "      <th></th>\n",
              "      <th></th>\n",
              "      <th></th>\n",
              "      <th></th>\n",
              "      <th></th>\n",
              "      <th></th>\n",
              "      <th></th>\n",
              "      <th></th>\n",
              "      <th></th>\n",
              "    </tr>\n",
              "  </thead>\n",
              "  <tbody>\n",
              "    <tr>\n",
              "      <th>2017-07-17 12:28:32.785639</th>\n",
              "      <td>402</td>\n",
              "      <td>Males</td>\n",
              "      <td>http://www.imdb.com/title/tt6322922/ratings-male</td>\n",
              "      <td>4.6</td>\n",
              "      <td>5.0</td>\n",
              "      <td>2</td>\n",
              "      <td>197</td>\n",
              "      <td>7</td>\n",
              "      <td>7</td>\n",
              "      <td>3</td>\n",
              "      <td>...</td>\n",
              "      <td>49.0</td>\n",
              "      <td>1.7</td>\n",
              "      <td>1.7</td>\n",
              "      <td>0.7</td>\n",
              "      <td>1.7</td>\n",
              "      <td>1.7</td>\n",
              "      <td>2.7</td>\n",
              "      <td>2.0</td>\n",
              "      <td>5.0</td>\n",
              "      <td>33.6</td>\n",
              "    </tr>\n",
              "    <tr>\n",
              "      <th>2017-07-17 12:28:33.025600</th>\n",
              "      <td>78</td>\n",
              "      <td>Females</td>\n",
              "      <td>http://www.imdb.com/title/tt6322922/ratings-fe...</td>\n",
              "      <td>6.9</td>\n",
              "      <td>7.7</td>\n",
              "      <td>10</td>\n",
              "      <td>16</td>\n",
              "      <td>1</td>\n",
              "      <td>0</td>\n",
              "      <td>1</td>\n",
              "      <td>...</td>\n",
              "      <td>20.5</td>\n",
              "      <td>1.3</td>\n",
              "      <td>0.0</td>\n",
              "      <td>1.3</td>\n",
              "      <td>1.3</td>\n",
              "      <td>0.0</td>\n",
              "      <td>3.8</td>\n",
              "      <td>5.1</td>\n",
              "      <td>3.8</td>\n",
              "      <td>62.8</td>\n",
              "    </tr>\n",
              "    <tr>\n",
              "      <th>2017-07-17 12:28:33.273919</th>\n",
              "      <td>4</td>\n",
              "      <td>Aged under 18</td>\n",
              "      <td>http://www.imdb.com/title/tt6322922/ratings-age_1</td>\n",
              "      <td>4.2</td>\n",
              "      <td>4.2</td>\n",
              "      <td>3</td>\n",
              "      <td>2</td>\n",
              "      <td>0</td>\n",
              "      <td>0</td>\n",
              "      <td>0</td>\n",
              "      <td>...</td>\n",
              "      <td>50.0</td>\n",
              "      <td>0.0</td>\n",
              "      <td>0.0</td>\n",
              "      <td>0.0</td>\n",
              "      <td>25.0</td>\n",
              "      <td>0.0</td>\n",
              "      <td>0.0</td>\n",
              "      <td>0.0</td>\n",
              "      <td>0.0</td>\n",
              "      <td>25.0</td>\n",
              "    </tr>\n",
              "    <tr>\n",
              "      <th>2017-07-17 12:28:33.495325</th>\n",
              "      <td>4</td>\n",
              "      <td>Males under 18</td>\n",
              "      <td>http://www.imdb.com/title/tt6322922/ratings-ma...</td>\n",
              "      <td>4.2</td>\n",
              "      <td>4.2</td>\n",
              "      <td>3</td>\n",
              "      <td>2</td>\n",
              "      <td>0</td>\n",
              "      <td>0</td>\n",
              "      <td>0</td>\n",
              "      <td>...</td>\n",
              "      <td>50.0</td>\n",
              "      <td>0.0</td>\n",
              "      <td>0.0</td>\n",
              "      <td>0.0</td>\n",
              "      <td>25.0</td>\n",
              "      <td>0.0</td>\n",
              "      <td>0.0</td>\n",
              "      <td>0.0</td>\n",
              "      <td>0.0</td>\n",
              "      <td>25.0</td>\n",
              "    </tr>\n",
              "    <tr>\n",
              "      <th>2017-07-17 12:28:33.722849</th>\n",
              "      <td>130</td>\n",
              "      <td>Aged 18-29</td>\n",
              "      <td>http://www.imdb.com/title/tt6322922/ratings-age_2</td>\n",
              "      <td>6.3</td>\n",
              "      <td>6.5</td>\n",
              "      <td>9</td>\n",
              "      <td>41</td>\n",
              "      <td>0</td>\n",
              "      <td>3</td>\n",
              "      <td>1</td>\n",
              "      <td>...</td>\n",
              "      <td>31.5</td>\n",
              "      <td>0.0</td>\n",
              "      <td>2.3</td>\n",
              "      <td>0.8</td>\n",
              "      <td>1.5</td>\n",
              "      <td>2.3</td>\n",
              "      <td>4.6</td>\n",
              "      <td>3.1</td>\n",
              "      <td>4.6</td>\n",
              "      <td>49.2</td>\n",
              "    </tr>\n",
              "  </tbody>\n",
              "</table>\n",
              "<p>5 rows × 26 columns</p>\n",
              "</div>"
            ],
            "text/plain": [
              "                            respondents        category  \\\n",
              "timestamp                                                 \n",
              "2017-07-17 12:28:32.785639          402           Males   \n",
              "2017-07-17 12:28:33.025600           78         Females   \n",
              "2017-07-17 12:28:33.273919            4   Aged under 18   \n",
              "2017-07-17 12:28:33.495325            4  Males under 18   \n",
              "2017-07-17 12:28:33.722849          130      Aged 18-29   \n",
              "\n",
              "                                                                         link  \\\n",
              "timestamp                                                                       \n",
              "2017-07-17 12:28:32.785639   http://www.imdb.com/title/tt6322922/ratings-male   \n",
              "2017-07-17 12:28:33.025600  http://www.imdb.com/title/tt6322922/ratings-fe...   \n",
              "2017-07-17 12:28:33.273919  http://www.imdb.com/title/tt6322922/ratings-age_1   \n",
              "2017-07-17 12:28:33.495325  http://www.imdb.com/title/tt6322922/ratings-ma...   \n",
              "2017-07-17 12:28:33.722849  http://www.imdb.com/title/tt6322922/ratings-age_2   \n",
              "\n",
              "                            average  mean  median  1_votes  2_votes  3_votes  \\\n",
              "timestamp                                                                      \n",
              "2017-07-17 12:28:32.785639      4.6   5.0       2      197        7        7   \n",
              "2017-07-17 12:28:33.025600      6.9   7.7      10       16        1        0   \n",
              "2017-07-17 12:28:33.273919      4.2   4.2       3        2        0        0   \n",
              "2017-07-17 12:28:33.495325      4.2   4.2       3        2        0        0   \n",
              "2017-07-17 12:28:33.722849      6.3   6.5       9       41        0        3   \n",
              "\n",
              "                            4_votes   ...    1_pct  2_pct  3_pct  4_pct  \\\n",
              "timestamp                             ...                                 \n",
              "2017-07-17 12:28:32.785639        3   ...     49.0    1.7    1.7    0.7   \n",
              "2017-07-17 12:28:33.025600        1   ...     20.5    1.3    0.0    1.3   \n",
              "2017-07-17 12:28:33.273919        0   ...     50.0    0.0    0.0    0.0   \n",
              "2017-07-17 12:28:33.495325        0   ...     50.0    0.0    0.0    0.0   \n",
              "2017-07-17 12:28:33.722849        1   ...     31.5    0.0    2.3    0.8   \n",
              "\n",
              "                            5_pct  6_pct  7_pct  8_pct  9_pct  10_pct  \n",
              "timestamp                                                              \n",
              "2017-07-17 12:28:32.785639    1.7    1.7    2.7    2.0    5.0    33.6  \n",
              "2017-07-17 12:28:33.025600    1.3    0.0    3.8    5.1    3.8    62.8  \n",
              "2017-07-17 12:28:33.273919   25.0    0.0    0.0    0.0    0.0    25.0  \n",
              "2017-07-17 12:28:33.495325   25.0    0.0    0.0    0.0    0.0    25.0  \n",
              "2017-07-17 12:28:33.722849    1.5    2.3    4.6    3.1    4.6    49.2  \n",
              "\n",
              "[5 rows x 26 columns]"
            ]
          },
          "metadata": {
            "tags": []
          },
          "execution_count": 108
        }
      ]
    },
    {
      "metadata": {
        "id": "0d3EWIvkMVpI",
        "colab_type": "code",
        "colab": {
          "base_uri": "https://localhost:8080/",
          "height": 50
        },
        "outputId": "273d1b2e-e855-4282-b1e1-0b39f51e1cf1"
      },
      "cell_type": "code",
      "source": [
        "length, width = df.shape\n",
        "\n",
        "print(df.shape)\n",
        "print(length*width)"
      ],
      "execution_count": 109,
      "outputs": [
        {
          "output_type": "stream",
          "text": [
            "(80053, 26)\n",
            "2081378\n"
          ],
          "name": "stdout"
        }
      ]
    },
    {
      "metadata": {
        "id": "IIj3Fb_BeBYR",
        "colab_type": "code",
        "colab": {
          "base_uri": "https://localhost:8080/",
          "height": 342
        },
        "outputId": "a446383c-4224-4b80-a86c-4e5ef0d4eca8"
      },
      "cell_type": "code",
      "source": [
        "# Use Value Counts rather than Unique\n",
        "\n",
        "df.category.value_counts()"
      ],
      "execution_count": 110,
      "outputs": [
        {
          "output_type": "execute_result",
          "data": {
            "text/plain": [
              "Males Aged 18-29      4216\n",
              "US users              4216\n",
              "Males                 4216\n",
              "Aged 45+              4216\n",
              "Top 1000 voters       4216\n",
              "Non-US users          4216\n",
              "Females Aged 18-29    4216\n",
              "Aged 18-29            4216\n",
              "Aged 30-44            4216\n",
              "Females               4216\n",
              "Aged under 18         4216\n",
              "Males under 18        4216\n",
              "Females Aged 45+      4216\n",
              "Females Aged 30-44    4216\n",
              "Males Aged 45+        4216\n",
              "IMDb users            4216\n",
              "IMDb staff            4216\n",
              "Males Aged 30-44      4216\n",
              "Females under 18      4165\n",
              "Name: category, dtype: int64"
            ]
          },
          "metadata": {
            "tags": []
          },
          "execution_count": 110
        }
      ]
    },
    {
      "metadata": {
        "id": "tGDtYvgBMa-r",
        "colab_type": "code",
        "colab": {
          "base_uri": "https://localhost:8080/",
          "height": 98
        },
        "outputId": "351c44bc-82d8-4444-eba0-af40c9f8136d"
      },
      "cell_type": "code",
      "source": [
        "df.columns"
      ],
      "execution_count": 111,
      "outputs": [
        {
          "output_type": "execute_result",
          "data": {
            "text/plain": [
              "Index(['respondents', 'category', 'link', 'average', 'mean', 'median',\n",
              "       '1_votes', '2_votes', '3_votes', '4_votes', '5_votes', '6_votes',\n",
              "       '7_votes', '8_votes', '9_votes', '10_votes', '1_pct', '2_pct', '3_pct',\n",
              "       '4_pct', '5_pct', '6_pct', '7_pct', '8_pct', '9_pct', '10_pct'],\n",
              "      dtype='object')"
            ]
          },
          "metadata": {
            "tags": []
          },
          "execution_count": 111
        }
      ]
    },
    {
      "metadata": {
        "id": "a5ns9B5oqpMm",
        "colab_type": "text"
      },
      "cell_type": "markdown",
      "source": [
        "## Suggested Correct Version of this problem"
      ]
    },
    {
      "metadata": {
        "id": "HGECCk9SgtFl",
        "colab_type": "code",
        "colab": {
          "base_uri": "https://localhost:8080/",
          "height": 105
        },
        "outputId": "88711115-6872-4d1a-8f14-0d49a67c159c"
      },
      "cell_type": "code",
      "source": [
        "cols2 = ['1_pct','2_pct', '3_pct', '4_pct', '5_pct', \n",
        "         '6_pct', '7_pct', '8_pct', '9_pct', '10_pct']\n",
        "\n",
        "pct_votes = df[cols2].tail(1)\n",
        "\n",
        "pct_votes\n",
        "\n"
      ],
      "execution_count": 114,
      "outputs": [
        {
          "output_type": "execute_result",
          "data": {
            "text/html": [
              "<div>\n",
              "<style scoped>\n",
              "    .dataframe tbody tr th:only-of-type {\n",
              "        vertical-align: middle;\n",
              "    }\n",
              "\n",
              "    .dataframe tbody tr th {\n",
              "        vertical-align: top;\n",
              "    }\n",
              "\n",
              "    .dataframe thead th {\n",
              "        text-align: right;\n",
              "    }\n",
              "</style>\n",
              "<table border=\"1\" class=\"dataframe\">\n",
              "  <thead>\n",
              "    <tr style=\"text-align: right;\">\n",
              "      <th></th>\n",
              "      <th>1_pct</th>\n",
              "      <th>2_pct</th>\n",
              "      <th>3_pct</th>\n",
              "      <th>4_pct</th>\n",
              "      <th>5_pct</th>\n",
              "      <th>6_pct</th>\n",
              "      <th>7_pct</th>\n",
              "      <th>8_pct</th>\n",
              "      <th>9_pct</th>\n",
              "      <th>10_pct</th>\n",
              "    </tr>\n",
              "    <tr>\n",
              "      <th>timestamp</th>\n",
              "      <th></th>\n",
              "      <th></th>\n",
              "      <th></th>\n",
              "      <th></th>\n",
              "      <th></th>\n",
              "      <th></th>\n",
              "      <th></th>\n",
              "      <th></th>\n",
              "      <th></th>\n",
              "      <th></th>\n",
              "    </tr>\n",
              "  </thead>\n",
              "  <tbody>\n",
              "    <tr>\n",
              "      <th>2017-08-29 23:10:06.218251</th>\n",
              "      <td>38.4</td>\n",
              "      <td>2.6</td>\n",
              "      <td>1.4</td>\n",
              "      <td>0.9</td>\n",
              "      <td>2.1</td>\n",
              "      <td>4.1</td>\n",
              "      <td>5.8</td>\n",
              "      <td>5.5</td>\n",
              "      <td>5.5</td>\n",
              "      <td>33.7</td>\n",
              "    </tr>\n",
              "  </tbody>\n",
              "</table>\n",
              "</div>"
            ],
            "text/plain": [
              "                            1_pct  2_pct  3_pct  4_pct  5_pct  6_pct  7_pct  \\\n",
              "timestamp                                                                     \n",
              "2017-08-29 23:10:06.218251   38.4    2.6    1.4    0.9    2.1    4.1    5.8   \n",
              "\n",
              "                            8_pct  9_pct  10_pct  \n",
              "timestamp                                         \n",
              "2017-08-29 23:10:06.218251    5.5    5.5    33.7  "
            ]
          },
          "metadata": {
            "tags": []
          },
          "execution_count": 114
        }
      ]
    },
    {
      "metadata": {
        "id": "Rbn25pR0lLnZ",
        "colab_type": "code",
        "colab": {
          "base_uri": "https://localhost:8080/",
          "height": 76
        },
        "outputId": "c1dc8cf3-8767-4c7c-80b6-252693a74de8"
      },
      "cell_type": "code",
      "source": [
        "# Why inplace = True fails is beyond me, better to make a copy\n",
        "\n",
        "pct_votes_new = pct_votes.reset_index(drop=True)\n",
        "\n",
        "pct_votes_new"
      ],
      "execution_count": 116,
      "outputs": [
        {
          "output_type": "execute_result",
          "data": {
            "text/html": [
              "<div>\n",
              "<style scoped>\n",
              "    .dataframe tbody tr th:only-of-type {\n",
              "        vertical-align: middle;\n",
              "    }\n",
              "\n",
              "    .dataframe tbody tr th {\n",
              "        vertical-align: top;\n",
              "    }\n",
              "\n",
              "    .dataframe thead th {\n",
              "        text-align: right;\n",
              "    }\n",
              "</style>\n",
              "<table border=\"1\" class=\"dataframe\">\n",
              "  <thead>\n",
              "    <tr style=\"text-align: right;\">\n",
              "      <th></th>\n",
              "      <th>1_pct</th>\n",
              "      <th>2_pct</th>\n",
              "      <th>3_pct</th>\n",
              "      <th>4_pct</th>\n",
              "      <th>5_pct</th>\n",
              "      <th>6_pct</th>\n",
              "      <th>7_pct</th>\n",
              "      <th>8_pct</th>\n",
              "      <th>9_pct</th>\n",
              "      <th>10_pct</th>\n",
              "    </tr>\n",
              "  </thead>\n",
              "  <tbody>\n",
              "    <tr>\n",
              "      <th>0</th>\n",
              "      <td>38.4</td>\n",
              "      <td>2.6</td>\n",
              "      <td>1.4</td>\n",
              "      <td>0.9</td>\n",
              "      <td>2.1</td>\n",
              "      <td>4.1</td>\n",
              "      <td>5.8</td>\n",
              "      <td>5.5</td>\n",
              "      <td>5.5</td>\n",
              "      <td>33.7</td>\n",
              "    </tr>\n",
              "  </tbody>\n",
              "</table>\n",
              "</div>"
            ],
            "text/plain": [
              "   1_pct  2_pct  3_pct  4_pct  5_pct  6_pct  7_pct  8_pct  9_pct  10_pct\n",
              "0   38.4    2.6    1.4    0.9    2.1    4.1    5.8    5.5    5.5    33.7"
            ]
          },
          "metadata": {
            "tags": []
          },
          "execution_count": 116
        }
      ]
    },
    {
      "metadata": {
        "id": "kGUkvzOchSgv",
        "colab_type": "code",
        "colab": {
          "base_uri": "https://localhost:8080/",
          "height": 335
        },
        "outputId": "0f54e280-0d0d-4cdd-9583-41a77461d45b"
      },
      "cell_type": "code",
      "source": [
        "pct_votes_new.rename(columns={\"1_pct\": \"1\",\n",
        "                        \"2_pct\": \"2\",\n",
        "                        \"3_pct\": \"3\",\n",
        "                        \"4_pct\": \"4\",\n",
        "                        \"5_pct\": \"5\",\n",
        "                        \"6_pct\": \"6\",\n",
        "                        \"7_pct\": \"7\",\n",
        "                        \"8_pct\": \"8\",\n",
        "                        \"9_pct\": \"9\",\n",
        "                        \"10_pct\": \"10\",},\n",
        "                        \n",
        "                            inplace = True)\n",
        "\n",
        "pct_votes_new = pct_votes_new.T\n",
        "\n",
        "pct_votes_new"
      ],
      "execution_count": 117,
      "outputs": [
        {
          "output_type": "execute_result",
          "data": {
            "text/html": [
              "<div>\n",
              "<style scoped>\n",
              "    .dataframe tbody tr th:only-of-type {\n",
              "        vertical-align: middle;\n",
              "    }\n",
              "\n",
              "    .dataframe tbody tr th {\n",
              "        vertical-align: top;\n",
              "    }\n",
              "\n",
              "    .dataframe thead th {\n",
              "        text-align: right;\n",
              "    }\n",
              "</style>\n",
              "<table border=\"1\" class=\"dataframe\">\n",
              "  <thead>\n",
              "    <tr style=\"text-align: right;\">\n",
              "      <th></th>\n",
              "      <th>0</th>\n",
              "    </tr>\n",
              "  </thead>\n",
              "  <tbody>\n",
              "    <tr>\n",
              "      <th>1</th>\n",
              "      <td>38.4</td>\n",
              "    </tr>\n",
              "    <tr>\n",
              "      <th>2</th>\n",
              "      <td>2.6</td>\n",
              "    </tr>\n",
              "    <tr>\n",
              "      <th>3</th>\n",
              "      <td>1.4</td>\n",
              "    </tr>\n",
              "    <tr>\n",
              "      <th>4</th>\n",
              "      <td>0.9</td>\n",
              "    </tr>\n",
              "    <tr>\n",
              "      <th>5</th>\n",
              "      <td>2.1</td>\n",
              "    </tr>\n",
              "    <tr>\n",
              "      <th>6</th>\n",
              "      <td>4.1</td>\n",
              "    </tr>\n",
              "    <tr>\n",
              "      <th>7</th>\n",
              "      <td>5.8</td>\n",
              "    </tr>\n",
              "    <tr>\n",
              "      <th>8</th>\n",
              "      <td>5.5</td>\n",
              "    </tr>\n",
              "    <tr>\n",
              "      <th>9</th>\n",
              "      <td>5.5</td>\n",
              "    </tr>\n",
              "    <tr>\n",
              "      <th>10</th>\n",
              "      <td>33.7</td>\n",
              "    </tr>\n",
              "  </tbody>\n",
              "</table>\n",
              "</div>"
            ],
            "text/plain": [
              "       0\n",
              "1   38.4\n",
              "2    2.6\n",
              "3    1.4\n",
              "4    0.9\n",
              "5    2.1\n",
              "6    4.1\n",
              "7    5.8\n",
              "8    5.5\n",
              "9    5.5\n",
              "10  33.7"
            ]
          },
          "metadata": {
            "tags": []
          },
          "execution_count": 117
        }
      ]
    },
    {
      "metadata": {
        "id": "Je9Va7B-hgor",
        "colab_type": "code",
        "colab": {
          "base_uri": "https://localhost:8080/",
          "height": 455
        },
        "outputId": "4b83bbf0-77d9-4607-d575-b31063d59b57"
      },
      "cell_type": "code",
      "source": [
        "# fig, ax = plt.subplots()\n",
        "\n",
        "\n",
        "plt.style.use(\"fivethirtyeight\")\n",
        "\n",
        "# fig = plt.figure();\n",
        "# fig.patch.set_alpha(0.0)\n",
        "\n",
        "ax = pct_votes_new.plot.bar(color = '#EC713B', width = 0.9) # All bars are the same color and width\n",
        "\n",
        "ax.tick_params(labelrotation = 0, colors = 'gray')\n",
        "y_ticks = [0,10,20,30,40]\n",
        "ax.set_yticks(y_ticks)\n",
        "ax.legend().set_visible(False)\n",
        "ax.set_facecolor(\"white\")\n",
        "\n",
        "ax.set_ylabel(\"Percent of total votes\", fontweight='bold')\n",
        "ax.set_xlabel(\"Rating\", fontweight='bold')\n",
        "\n",
        "ax.text(-1.5,45,s=\"'An Inconvenient Sequel: Truth to Power' is divisive\", fontsize=18, weight='bold')\n",
        "ax.text(-1.5,42,s=\"IMDb Ratings for the film as of Aug. 29\", fontsize=16)\n",
        "\n",
        "# ax.set_title(\"'An Inconvenient Sequel: Truth to Power' is divisive \\n IMDb Ratings for the film as of Aug. 29\", loc = 'left')\n",
        "# ax.spines['bottom'].set_color('white')\n",
        "# ax.spines['top'].set_color('white') \n",
        "# ax.spines['right'].set_color('white')\n",
        "# ax.spines['left'].set_color('white')\n",
        "# ax.tick_params(axis = 'x', color = 'lightgray')\n",
        "# ax.tick_params(axis = 'y', color = 'blue')\n",
        "# ax.yaxis.label.set_color('black')\n",
        "# ax.xaxis.label.set_color('black')\n",
        "# ax.patch.set_facecolor('white')\n",
        "\n",
        "\n",
        "plt.show()\n",
        "\n",
        "# plt.savefig('538.png', transparent=True)"
      ],
      "execution_count": 200,
      "outputs": [
        {
          "output_type": "display_data",
          "data": {
            "text/plain": [
              "<matplotlib.figure.Figure at 0x7f8108a5b470>"
            ]
          },
          "metadata": {
            "tags": []
          }
        },
        {
          "output_type": "display_data",
          "data": {
            "image/png": "[encoded data removed]",
            "text/plain": [
              "<matplotlib.figure.Figure at 0x7f81091e54a8>"
            ]
          },
          "metadata": {
            "tags": []
          }
        }
      ]
    },
    {
      "metadata": {
        "id": "h3PqUL3sqhi5",
        "colab_type": "text"
      },
      "cell_type": "markdown",
      "source": [
        "## Alternate Attempt at this problem"
      ]
    },
    {
      "metadata": {
        "id": "6leA3oRbNd6Q",
        "colab_type": "code",
        "colab": {}
      },
      "cell_type": "code",
      "source": [
        "# Slicing out relevant columns\n",
        "\n",
        "cols = ['1_votes', '2_votes', '3_votes', '4_votes', '5_votes',\n",
        "       '6_votes', '7_votes', '8_votes', '9_votes', '10_votes']\n",
        "\n",
        "df_new = df[cols]\n",
        "\n",
        "sum_votes = pd.Series(df_new.sum())"
      ],
      "execution_count": 0,
      "outputs": []
    },
    {
      "metadata": {
        "id": "t57Zx90pVdCl",
        "colab_type": "code",
        "colab": {
          "base_uri": "https://localhost:8080/",
          "height": 196
        },
        "outputId": "8941d38e-3276-4baf-c85d-787feabf0103"
      },
      "cell_type": "code",
      "source": [
        "sum_votes = 100 * sum_votes / sum_votes.sum()\n",
        "\n",
        "sum_votes.rename(index={\"1_votes\": \"1\",\n",
        "                        \"2_votes\": \"2\",\n",
        "                        \"3_votes\": \"3\",\n",
        "                        \"4_votes\": \"4\",\n",
        "                        \"5_votes\": \"5\",\n",
        "                        \"6_votes\": \"6\",\n",
        "                        \"7_votes\": \"7\",\n",
        "                        \"8_votes\": \"8\",\n",
        "                        \"9_votes\": \"9\",\n",
        "                        \"10_votes\": \"10\",}, \n",
        "                            inplace = True)\n",
        "\n",
        "sum_votes"
      ],
      "execution_count": 170,
      "outputs": [
        {
          "output_type": "execute_result",
          "data": {
            "text/plain": [
              "1     39.528683\n",
              "2      2.866229\n",
              "3      1.734445\n",
              "4      0.796181\n",
              "5      1.933035\n",
              "6      3.332158\n",
              "7      4.668537\n",
              "8      4.450586\n",
              "9      5.594008\n",
              "10    35.096138\n",
              "dtype: float64"
            ]
          },
          "metadata": {
            "tags": []
          },
          "execution_count": 170
        }
      ]
    },
    {
      "metadata": {
        "id": "SP3pvP1bV5uY",
        "colab_type": "code",
        "colab": {
          "base_uri": "https://localhost:8080/",
          "height": 428
        },
        "outputId": "5f8ea8aa-b8d6-4c7e-8b4c-dadadae11a8c"
      },
      "cell_type": "code",
      "source": [
        "plt.style.use(\"fivethirtyeight\")\n",
        "\n",
        "ax = sum_votes.plot.bar(color = '#EC713B', width = 0.9)\n",
        "\n",
        "ax.tick_params(labelrotation = 0, colors = 'gray')\n",
        "y_ticks = [0,10,20,30,40]\n",
        "ax.set_yticks(y_ticks)\n",
        "ax.legend().set_visible(False)\n",
        "ax.set_facecolor(\"white\")\n",
        "\n",
        "ax.set_ylabel(\"Percent of total votes\", fontweight='bold')\n",
        "ax.set_xlabel(\"Rating\", fontweight='bold')\n",
        "\n",
        "ax.text(-1.5,45,s=\"'An Inconvenient Sequel: Truth to Power' is divisive\", fontsize=18, weight='bold')\n",
        "ax.text(-1.5,42,s=\"IMDb Ratings for the film as of Aug. 29\", fontsize=18)\n",
        "\n",
        "# ax.set_title(\"'An Inconvenient Sequel: Truth to Power' is divisive \\n IMDb Ratings for the film as of Aug. 29\", loc = 'left')\n",
        "# ax.spines['bottom'].set_color('white')\n",
        "# ax.spines['top'].set_color('white') \n",
        "# ax.spines['right'].set_color('white')\n",
        "# ax.spines['left'].set_color('white')\n",
        "# ax.tick_params(axis = 'x', color = 'lightgray')\n",
        "# ax.tick_params(axis = 'y', color = 'blue')\n",
        "# ax.yaxis.label.set_color('black')\n",
        "# ax.xaxis.label.set_color('black')\n",
        "\n",
        "\n",
        "plt.show()\n"
      ],
      "execution_count": 191,
      "outputs": [
        {
          "output_type": "display_data",
          "data": {
            "image/png": "[encoded data removed]",
            "text/plain": [
              "<matplotlib.figure.Figure at 0x7f81088c84a8>"
            ]
          },
          "metadata": {
            "tags": []
          }
        }
      ]
    },
    {
      "metadata": {
        "id": "XM0dJJodOIf3",
        "colab_type": "text"
      },
      "cell_type": "markdown",
      "source": [
        "## STRETCH GOAL"
      ]
    },
    {
      "metadata": {
        "id": "TjterHVvOLb4",
        "colab_type": "code",
        "colab": {
          "base_uri": "https://localhost:8080/",
          "height": 240
        },
        "outputId": "67e3bb6f-5a68-4a2c-9691-473e6219439f"
      },
      "cell_type": "code",
      "source": [
        "# Bad Drivers - https://github.com/fivethirtyeight/data/tree/master/bad-drivers\n",
        "\n",
        "url2 = 'https://raw.githubusercontent.com/fivethirtyeight/data/master/bad-drivers/bad-drivers.csv'\n",
        "\n",
        "driver_df = pd.read_csv(url2)\n",
        "\n",
        "driver_df.head()"
      ],
      "execution_count": 201,
      "outputs": [
        {
          "output_type": "execute_result",
          "data": {
            "text/html": [
              "<div>\n",
              "<style scoped>\n",
              "    .dataframe tbody tr th:only-of-type {\n",
              "        vertical-align: middle;\n",
              "    }\n",
              "\n",
              "    .dataframe tbody tr th {\n",
              "        vertical-align: top;\n",
              "    }\n",
              "\n",
              "    .dataframe thead th {\n",
              "        text-align: right;\n",
              "    }\n",
              "</style>\n",
              "<table border=\"1\" class=\"dataframe\">\n",
              "  <thead>\n",
              "    <tr style=\"text-align: right;\">\n",
              "      <th></th>\n",
              "      <th>State</th>\n",
              "      <th>Number of drivers involved in fatal collisions per billion miles</th>\n",
              "      <th>Percentage Of Drivers Involved In Fatal Collisions Who Were Speeding</th>\n",
              "      <th>Percentage Of Drivers Involved In Fatal Collisions Who Were Alcohol-Impaired</th>\n",
              "      <th>Percentage Of Drivers Involved In Fatal Collisions Who Were Not Distracted</th>\n",
              "      <th>Percentage Of Drivers Involved In Fatal Collisions Who Had Not Been Involved In Any Previous Accidents</th>\n",
              "      <th>Car Insurance Premiums ($)</th>\n",
              "      <th>Losses incurred by insurance companies for collisions per insured driver ($)</th>\n",
              "    </tr>\n",
              "  </thead>\n",
              "  <tbody>\n",
              "    <tr>\n",
              "      <th>0</th>\n",
              "      <td>Alabama</td>\n",
              "      <td>18.8</td>\n",
              "      <td>39</td>\n",
              "      <td>30</td>\n",
              "      <td>96</td>\n",
              "      <td>80</td>\n",
              "      <td>784.55</td>\n",
              "      <td>145.08</td>\n",
              "    </tr>\n",
              "    <tr>\n",
              "      <th>1</th>\n",
              "      <td>Alaska</td>\n",
              "      <td>18.1</td>\n",
              "      <td>41</td>\n",
              "      <td>25</td>\n",
              "      <td>90</td>\n",
              "      <td>94</td>\n",
              "      <td>1053.48</td>\n",
              "      <td>133.93</td>\n",
              "    </tr>\n",
              "    <tr>\n",
              "      <th>2</th>\n",
              "      <td>Arizona</td>\n",
              "      <td>18.6</td>\n",
              "      <td>35</td>\n",
              "      <td>28</td>\n",
              "      <td>84</td>\n",
              "      <td>96</td>\n",
              "      <td>899.47</td>\n",
              "      <td>110.35</td>\n",
              "    </tr>\n",
              "    <tr>\n",
              "      <th>3</th>\n",
              "      <td>Arkansas</td>\n",
              "      <td>22.4</td>\n",
              "      <td>18</td>\n",
              "      <td>26</td>\n",
              "      <td>94</td>\n",
              "      <td>95</td>\n",
              "      <td>827.34</td>\n",
              "      <td>142.39</td>\n",
              "    </tr>\n",
              "    <tr>\n",
              "      <th>4</th>\n",
              "      <td>California</td>\n",
              "      <td>12.0</td>\n",
              "      <td>35</td>\n",
              "      <td>28</td>\n",
              "      <td>91</td>\n",
              "      <td>89</td>\n",
              "      <td>878.41</td>\n",
              "      <td>165.63</td>\n",
              "    </tr>\n",
              "  </tbody>\n",
              "</table>\n",
              "</div>"
            ],
            "text/plain": [
              "        State  \\\n",
              "0     Alabama   \n",
              "1      Alaska   \n",
              "2     Arizona   \n",
              "3    Arkansas   \n",
              "4  California   \n",
              "\n",
              "   Number of drivers involved in fatal collisions per billion miles  \\\n",
              "0                                               18.8                  \n",
              "1                                               18.1                  \n",
              "2                                               18.6                  \n",
              "3                                               22.4                  \n",
              "4                                               12.0                  \n",
              "\n",
              "   Percentage Of Drivers Involved In Fatal Collisions Who Were Speeding  \\\n",
              "0                                                 39                      \n",
              "1                                                 41                      \n",
              "2                                                 35                      \n",
              "3                                                 18                      \n",
              "4                                                 35                      \n",
              "\n",
              "   Percentage Of Drivers Involved In Fatal Collisions Who Were Alcohol-Impaired  \\\n",
              "0                                                 30                              \n",
              "1                                                 25                              \n",
              "2                                                 28                              \n",
              "3                                                 26                              \n",
              "4                                                 28                              \n",
              "\n",
              "   Percentage Of Drivers Involved In Fatal Collisions Who Were Not Distracted  \\\n",
              "0                                                 96                            \n",
              "1                                                 90                            \n",
              "2                                                 84                            \n",
              "3                                                 94                            \n",
              "4                                                 91                            \n",
              "\n",
              "   Percentage Of Drivers Involved In Fatal Collisions Who Had Not Been Involved In Any Previous Accidents  \\\n",
              "0                                                 80                                                        \n",
              "1                                                 94                                                        \n",
              "2                                                 96                                                        \n",
              "3                                                 95                                                        \n",
              "4                                                 89                                                        \n",
              "\n",
              "   Car Insurance Premiums ($)  \\\n",
              "0                      784.55   \n",
              "1                     1053.48   \n",
              "2                      899.47   \n",
              "3                      827.34   \n",
              "4                      878.41   \n",
              "\n",
              "   Losses incurred by insurance companies for collisions per insured driver ($)  \n",
              "0                                             145.08                             \n",
              "1                                             133.93                             \n",
              "2                                             110.35                             \n",
              "3                                             142.39                             \n",
              "4                                             165.63                             "
            ]
          },
          "metadata": {
            "tags": []
          },
          "execution_count": 201
        }
      ]
    },
    {
      "metadata": {
        "id": "RsxYPYSlOmjD",
        "colab_type": "code",
        "colab": {
          "base_uri": "https://localhost:8080/",
          "height": 326
        },
        "outputId": "ef72c2a9-639f-4312-d797-546b7b59e688"
      },
      "cell_type": "code",
      "source": [
        "driver_df.describe()"
      ],
      "execution_count": 202,
      "outputs": [
        {
          "output_type": "execute_result",
          "data": {
            "text/html": [
              "<div>\n",
              "<style scoped>\n",
              "    .dataframe tbody tr th:only-of-type {\n",
              "        vertical-align: middle;\n",
              "    }\n",
              "\n",
              "    .dataframe tbody tr th {\n",
              "        vertical-align: top;\n",
              "    }\n",
              "\n",
              "    .dataframe thead th {\n",
              "        text-align: right;\n",
              "    }\n",
              "</style>\n",
              "<table border=\"1\" class=\"dataframe\">\n",
              "  <thead>\n",
              "    <tr style=\"text-align: right;\">\n",
              "      <th></th>\n",
              "      <th>Number of drivers involved in fatal collisions per billion miles</th>\n",
              "      <th>Percentage Of Drivers Involved In Fatal Collisions Who Were Speeding</th>\n",
              "      <th>Percentage Of Drivers Involved In Fatal Collisions Who Were Alcohol-Impaired</th>\n",
              "      <th>Percentage Of Drivers Involved In Fatal Collisions Who Were Not Distracted</th>\n",
              "      <th>Percentage Of Drivers Involved In Fatal Collisions Who Had Not Been Involved In Any Previous Accidents</th>\n",
              "      <th>Car Insurance Premiums ($)</th>\n",
              "      <th>Losses incurred by insurance companies for collisions per insured driver ($)</th>\n",
              "    </tr>\n",
              "  </thead>\n",
              "  <tbody>\n",
              "    <tr>\n",
              "      <th>count</th>\n",
              "      <td>51.000000</td>\n",
              "      <td>51.000000</td>\n",
              "      <td>51.000000</td>\n",
              "      <td>51.000000</td>\n",
              "      <td>51.00000</td>\n",
              "      <td>51.000000</td>\n",
              "      <td>51.000000</td>\n",
              "    </tr>\n",
              "    <tr>\n",
              "      <th>mean</th>\n",
              "      <td>15.790196</td>\n",
              "      <td>31.725490</td>\n",
              "      <td>30.686275</td>\n",
              "      <td>85.921569</td>\n",
              "      <td>88.72549</td>\n",
              "      <td>886.957647</td>\n",
              "      <td>134.493137</td>\n",
              "    </tr>\n",
              "    <tr>\n",
              "      <th>std</th>\n",
              "      <td>4.122002</td>\n",
              "      <td>9.633438</td>\n",
              "      <td>5.132213</td>\n",
              "      <td>15.158949</td>\n",
              "      <td>6.96011</td>\n",
              "      <td>178.296285</td>\n",
              "      <td>24.835922</td>\n",
              "    </tr>\n",
              "    <tr>\n",
              "      <th>min</th>\n",
              "      <td>5.900000</td>\n",
              "      <td>13.000000</td>\n",
              "      <td>16.000000</td>\n",
              "      <td>10.000000</td>\n",
              "      <td>76.00000</td>\n",
              "      <td>641.960000</td>\n",
              "      <td>82.750000</td>\n",
              "    </tr>\n",
              "    <tr>\n",
              "      <th>25%</th>\n",
              "      <td>12.750000</td>\n",
              "      <td>23.000000</td>\n",
              "      <td>28.000000</td>\n",
              "      <td>83.000000</td>\n",
              "      <td>83.50000</td>\n",
              "      <td>768.430000</td>\n",
              "      <td>114.645000</td>\n",
              "    </tr>\n",
              "    <tr>\n",
              "      <th>50%</th>\n",
              "      <td>15.600000</td>\n",
              "      <td>34.000000</td>\n",
              "      <td>30.000000</td>\n",
              "      <td>88.000000</td>\n",
              "      <td>88.00000</td>\n",
              "      <td>858.970000</td>\n",
              "      <td>136.050000</td>\n",
              "    </tr>\n",
              "    <tr>\n",
              "      <th>75%</th>\n",
              "      <td>18.500000</td>\n",
              "      <td>38.000000</td>\n",
              "      <td>33.000000</td>\n",
              "      <td>95.000000</td>\n",
              "      <td>95.00000</td>\n",
              "      <td>1007.945000</td>\n",
              "      <td>151.870000</td>\n",
              "    </tr>\n",
              "    <tr>\n",
              "      <th>max</th>\n",
              "      <td>23.900000</td>\n",
              "      <td>54.000000</td>\n",
              "      <td>44.000000</td>\n",
              "      <td>100.000000</td>\n",
              "      <td>100.00000</td>\n",
              "      <td>1301.520000</td>\n",
              "      <td>194.780000</td>\n",
              "    </tr>\n",
              "  </tbody>\n",
              "</table>\n",
              "</div>"
            ],
            "text/plain": [
              "       Number of drivers involved in fatal collisions per billion miles  \\\n",
              "count                                          51.000000                  \n",
              "mean                                           15.790196                  \n",
              "std                                             4.122002                  \n",
              "min                                             5.900000                  \n",
              "25%                                            12.750000                  \n",
              "50%                                            15.600000                  \n",
              "75%                                            18.500000                  \n",
              "max                                            23.900000                  \n",
              "\n",
              "       Percentage Of Drivers Involved In Fatal Collisions Who Were Speeding  \\\n",
              "count                                          51.000000                      \n",
              "mean                                           31.725490                      \n",
              "std                                             9.633438                      \n",
              "min                                            13.000000                      \n",
              "25%                                            23.000000                      \n",
              "50%                                            34.000000                      \n",
              "75%                                            38.000000                      \n",
              "max                                            54.000000                      \n",
              "\n",
              "       Percentage Of Drivers Involved In Fatal Collisions Who Were Alcohol-Impaired  \\\n",
              "count                                          51.000000                              \n",
              "mean                                           30.686275                              \n",
              "std                                             5.132213                              \n",
              "min                                            16.000000                              \n",
              "25%                                            28.000000                              \n",
              "50%                                            30.000000                              \n",
              "75%                                            33.000000                              \n",
              "max                                            44.000000                              \n",
              "\n",
              "       Percentage Of Drivers Involved In Fatal Collisions Who Were Not Distracted  \\\n",
              "count                                          51.000000                            \n",
              "mean                                           85.921569                            \n",
              "std                                            15.158949                            \n",
              "min                                            10.000000                            \n",
              "25%                                            83.000000                            \n",
              "50%                                            88.000000                            \n",
              "75%                                            95.000000                            \n",
              "max                                           100.000000                            \n",
              "\n",
              "       Percentage Of Drivers Involved In Fatal Collisions Who Had Not Been Involved In Any Previous Accidents  \\\n",
              "count                                           51.00000                                                        \n",
              "mean                                            88.72549                                                        \n",
              "std                                              6.96011                                                        \n",
              "min                                             76.00000                                                        \n",
              "25%                                             83.50000                                                        \n",
              "50%                                             88.00000                                                        \n",
              "75%                                             95.00000                                                        \n",
              "max                                            100.00000                                                        \n",
              "\n",
              "       Car Insurance Premiums ($)  \\\n",
              "count                   51.000000   \n",
              "mean                   886.957647   \n",
              "std                    178.296285   \n",
              "min                    641.960000   \n",
              "25%                    768.430000   \n",
              "50%                    858.970000   \n",
              "75%                   1007.945000   \n",
              "max                   1301.520000   \n",
              "\n",
              "       Losses incurred by insurance companies for collisions per insured driver ($)  \n",
              "count                                          51.000000                             \n",
              "mean                                          134.493137                             \n",
              "std                                            24.835922                             \n",
              "min                                            82.750000                             \n",
              "25%                                           114.645000                             \n",
              "50%                                           136.050000                             \n",
              "75%                                           151.870000                             \n",
              "max                                           194.780000                             "
            ]
          },
          "metadata": {
            "tags": []
          },
          "execution_count": 202
        }
      ]
    },
    {
      "metadata": {
        "id": "7CLts_U7Qpix",
        "colab_type": "code",
        "colab": {
          "base_uri": "https://localhost:8080/",
          "height": 163
        },
        "outputId": "d70df1bd-fb59-4a58-876a-82bdfedb4b94"
      },
      "cell_type": "code",
      "source": [
        "driver_df.columns"
      ],
      "execution_count": 203,
      "outputs": [
        {
          "output_type": "execute_result",
          "data": {
            "text/plain": [
              "Index(['State',\n",
              "       'Number of drivers involved in fatal collisions per billion miles',\n",
              "       'Percentage Of Drivers Involved In Fatal Collisions Who Were Speeding',\n",
              "       'Percentage Of Drivers Involved In Fatal Collisions Who Were Alcohol-Impaired',\n",
              "       'Percentage Of Drivers Involved In Fatal Collisions Who Were Not Distracted',\n",
              "       'Percentage Of Drivers Involved In Fatal Collisions Who Had Not Been Involved In Any Previous Accidents',\n",
              "       'Car Insurance Premiums ($)',\n",
              "       'Losses incurred by insurance companies for collisions per insured driver ($)'],\n",
              "      dtype='object')"
            ]
          },
          "metadata": {
            "tags": []
          },
          "execution_count": 203
        }
      ]
    },
    {
      "metadata": {
        "id": "YrCdNdN7PaSs",
        "colab_type": "code",
        "colab": {
          "base_uri": "https://localhost:8080/",
          "height": 220
        },
        "outputId": "a4b103b5-4fd1-4ec3-de6a-8605044309fb"
      },
      "cell_type": "code",
      "source": [
        "driver_df.rename(columns = {'Number of drivers involved in fatal collisions per billion miles' : 'no_fatal',\n",
        "                           'Percentage Of Drivers Involved In Fatal Collisions Who Were Speeding' : 'pct_fatal',\n",
        "                           'Percentage Of Drivers Involved In Fatal Collisions Who Were Alcohol-Impaired': 'pct_fatal_alcohol',\n",
        "                           'Percentage Of Drivers Involved In Fatal Collisions Who Were Not Distracted': 'pct_fatal_nodistraction',\n",
        "                           'Percentage Of Drivers Involved In Fatal Collisions Who Had Not Been Involved In Any Previous Accidents' : 'pct_fatal_noprev',\n",
        "                           'Car Insurance Premiums ($)' : 'ins_premiums',\n",
        "                           'Losses incurred by insurance companies for collisions per insured driver ($)' : 'ins_losses'}, inplace = True)\n",
        "\n",
        "driver_df.head()"
      ],
      "execution_count": 218,
      "outputs": [
        {
          "output_type": "execute_result",
          "data": {
            "text/html": [
              "<div>\n",
              "<style scoped>\n",
              "    .dataframe tbody tr th:only-of-type {\n",
              "        vertical-align: middle;\n",
              "    }\n",
              "\n",
              "    .dataframe tbody tr th {\n",
              "        vertical-align: top;\n",
              "    }\n",
              "\n",
              "    .dataframe thead th {\n",
              "        text-align: right;\n",
              "    }\n",
              "</style>\n",
              "<table border=\"1\" class=\"dataframe\">\n",
              "  <thead>\n",
              "    <tr style=\"text-align: right;\">\n",
              "      <th></th>\n",
              "      <th>no_fatal</th>\n",
              "      <th>pct_fatal</th>\n",
              "      <th>pct_fatal_alcohol</th>\n",
              "      <th>pct_fatal_nodistraction</th>\n",
              "      <th>pct_fatal_noprev</th>\n",
              "      <th>ins_premiums</th>\n",
              "      <th>ins_losses</th>\n",
              "    </tr>\n",
              "    <tr>\n",
              "      <th>State</th>\n",
              "      <th></th>\n",
              "      <th></th>\n",
              "      <th></th>\n",
              "      <th></th>\n",
              "      <th></th>\n",
              "      <th></th>\n",
              "      <th></th>\n",
              "    </tr>\n",
              "  </thead>\n",
              "  <tbody>\n",
              "    <tr>\n",
              "      <th>Alabama</th>\n",
              "      <td>18.8</td>\n",
              "      <td>39</td>\n",
              "      <td>30</td>\n",
              "      <td>96</td>\n",
              "      <td>80</td>\n",
              "      <td>784.55</td>\n",
              "      <td>145.08</td>\n",
              "    </tr>\n",
              "    <tr>\n",
              "      <th>Alaska</th>\n",
              "      <td>18.1</td>\n",
              "      <td>41</td>\n",
              "      <td>25</td>\n",
              "      <td>90</td>\n",
              "      <td>94</td>\n",
              "      <td>1053.48</td>\n",
              "      <td>133.93</td>\n",
              "    </tr>\n",
              "    <tr>\n",
              "      <th>Arizona</th>\n",
              "      <td>18.6</td>\n",
              "      <td>35</td>\n",
              "      <td>28</td>\n",
              "      <td>84</td>\n",
              "      <td>96</td>\n",
              "      <td>899.47</td>\n",
              "      <td>110.35</td>\n",
              "    </tr>\n",
              "    <tr>\n",
              "      <th>Arkansas</th>\n",
              "      <td>22.4</td>\n",
              "      <td>18</td>\n",
              "      <td>26</td>\n",
              "      <td>94</td>\n",
              "      <td>95</td>\n",
              "      <td>827.34</td>\n",
              "      <td>142.39</td>\n",
              "    </tr>\n",
              "    <tr>\n",
              "      <th>California</th>\n",
              "      <td>12.0</td>\n",
              "      <td>35</td>\n",
              "      <td>28</td>\n",
              "      <td>91</td>\n",
              "      <td>89</td>\n",
              "      <td>878.41</td>\n",
              "      <td>165.63</td>\n",
              "    </tr>\n",
              "  </tbody>\n",
              "</table>\n",
              "</div>"
            ],
            "text/plain": [
              "            no_fatal  pct_fatal  pct_fatal_alcohol  pct_fatal_nodistraction  \\\n",
              "State                                                                         \n",
              "Alabama         18.8         39                 30                       96   \n",
              "Alaska          18.1         41                 25                       90   \n",
              "Arizona         18.6         35                 28                       84   \n",
              "Arkansas        22.4         18                 26                       94   \n",
              "California      12.0         35                 28                       91   \n",
              "\n",
              "            pct_fatal_noprev  ins_premiums  ins_losses  \n",
              "State                                                   \n",
              "Alabama                   80        784.55      145.08  \n",
              "Alaska                    94       1053.48      133.93  \n",
              "Arizona                   96        899.47      110.35  \n",
              "Arkansas                  95        827.34      142.39  \n",
              "California                89        878.41      165.63  "
            ]
          },
          "metadata": {
            "tags": []
          },
          "execution_count": 218
        }
      ]
    },
    {
      "metadata": {
        "id": "TrXX3f8ZPaVf",
        "colab_type": "code",
        "colab": {}
      },
      "cell_type": "code",
      "source": [
        "# import altair as alt\n",
        "# from vega_datasets import data"
      ],
      "execution_count": 0,
      "outputs": []
    },
    {
      "metadata": {
        "id": "Mz7tWwnjUSkR",
        "colab_type": "code",
        "colab": {
          "base_uri": "https://localhost:8080/",
          "height": 878
        },
        "outputId": "c6f87e8d-171c-4195-920f-a023402d5082"
      },
      "cell_type": "code",
      "source": [
        "no_fatal = driver_df.no_fatal.sort_values()\n",
        "\n",
        "no_fatal"
      ],
      "execution_count": 221,
      "outputs": [
        {
          "output_type": "execute_result",
          "data": {
            "text/plain": [
              "State\n",
              "District of Columbia     5.9\n",
              "Massachusetts            8.2\n",
              "Minnesota                9.6\n",
              "Washington              10.6\n",
              "Connecticut             10.8\n",
              "Rhode Island            11.1\n",
              "New Jersey              11.2\n",
              "Utah                    11.3\n",
              "New Hampshire           11.6\n",
              "California              12.0\n",
              "New York                12.3\n",
              "Maryland                12.5\n",
              "Virginia                12.7\n",
              "Illinois                12.8\n",
              "Oregon                  12.8\n",
              "Vermont                 13.6\n",
              "Colorado                13.6\n",
              "Wisconsin               13.8\n",
              "Michigan                14.1\n",
              "Ohio                    14.1\n",
              "Indiana                 14.5\n",
              "Nevada                  14.7\n",
              "Nebraska                14.9\n",
              "Maine                   15.1\n",
              "Idaho                   15.3\n",
              "Georgia                 15.6\n",
              "Iowa                    15.7\n",
              "Missouri                16.1\n",
              "Delaware                16.2\n",
              "North Carolina          16.8\n",
              "Wyoming                 17.4\n",
              "Hawaii                  17.5\n",
              "Mississippi             17.6\n",
              "Kansas                  17.8\n",
              "Florida                 17.9\n",
              "Alaska                  18.1\n",
              "Pennsylvania            18.2\n",
              "New Mexico              18.4\n",
              "Arizona                 18.6\n",
              "Alabama                 18.8\n",
              "South Dakota            19.4\n",
              "Texas                   19.4\n",
              "Tennessee               19.5\n",
              "Oklahoma                19.9\n",
              "Louisiana               20.5\n",
              "Montana                 21.4\n",
              "Kentucky                21.4\n",
              "Arkansas                22.4\n",
              "West Virginia           23.8\n",
              "North Dakota            23.9\n",
              "South Carolina          23.9\n",
              "Name: no_fatal, dtype: float64"
            ]
          },
          "metadata": {
            "tags": []
          },
          "execution_count": 221
        }
      ]
    },
    {
      "metadata": {
        "id": "_zWHdxbbTqUm",
        "colab_type": "code",
        "colab": {
          "base_uri": "https://localhost:8080/",
          "height": 515
        },
        "outputId": "d64cfaab-fa3a-4265-9911-40c9f99e424a"
      },
      "cell_type": "code",
      "source": [
        "plt.style.use(\"fivethirtyeight\")\n",
        "\n",
        "# fig = plt.figure();\n",
        "# fig.patch.set_alpha(0.0)\n",
        "\n",
        "ax = no_fatal.plot.bar(width = 0.9) # All bars are the same color and width (color = '#EC713B')\n",
        "\n",
        "ax.tick_params(labelrotation = 90, colors = 'gray')\n",
        "y_ticks = [0,5,10,15,20,25]\n",
        "ax.set_yticks(y_ticks)\n",
        "ax.legend().set_visible(False)\n",
        "ax.set_facecolor(\"white\")\n",
        "\n",
        "ax.set_ylabel(\"Drivers involved in fatal collisions\", fontweight='bold')\n",
        "ax.set_xlabel(\"State\", fontweight='bold')\n",
        "\n",
        "ax.text(-1.5,28,s=\"'Drivers involved in fatal collisions per billion miles by State\", fontsize=18, weight='bold')\n",
        "\n",
        "\n",
        "# ax.text(-1.5,42,s=\"IMDb Ratings for the film as of Aug. 29\", fontsize=16)\n",
        "\n",
        "# ax.set_title(\"'An Inconvenient Sequel: Truth to Power' is divisive \\n IMDb Ratings for the film as of Aug. 29\", loc = 'left')\n",
        "# ax.spines['bottom'].set_color('white')\n",
        "# ax.spines['top'].set_color('white') \n",
        "# ax.spines['right'].set_color('white')\n",
        "# ax.spines['left'].set_color('white')\n",
        "# ax.tick_params(axis = 'x', color = 'lightgray')\n",
        "# ax.tick_params(axis = 'y', color = 'blue')\n",
        "# ax.yaxis.label.set_color('black')\n",
        "# ax.xaxis.label.set_color('black')\n",
        "# ax.patch.set_facecolor('white')\n",
        "\n",
        "\n",
        "plt.show()"
      ],
      "execution_count": 231,
      "outputs": [
        {
          "output_type": "display_data",
          "data": {
            "image/png": "[encoded data removed]",
            "text/plain": [
              "<matplotlib.figure.Figure at 0x7f8108740198>"
            ]
          },
          "metadata": {
            "tags": []
          }
        }
      ]
    },
    {
      "metadata": {
        "id": "60E9DGoZVVcf",
        "colab_type": "code",
        "colab": {}
      },
      "cell_type": "code",
      "source": [
        ""
      ],
      "execution_count": 0,
      "outputs": []
    }
  ]
}