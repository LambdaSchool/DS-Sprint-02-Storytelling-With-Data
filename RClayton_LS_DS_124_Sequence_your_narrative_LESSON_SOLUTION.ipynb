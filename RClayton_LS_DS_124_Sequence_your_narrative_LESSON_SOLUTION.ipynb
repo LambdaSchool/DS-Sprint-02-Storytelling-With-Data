{
  "nbformat": 4,
  "nbformat_minor": 0,
  "metadata": {
    "colab": {
      "name": "Copy of LS_DS_124_Sequence_your_narrative_LESSON_SOLUTION.ipynb",
      "version": "0.3.2",
      "provenance": [],
      "collapsed_sections": [],
      "include_colab_link": true
    },
    "kernelspec": {
      "display_name": "Python 3",
      "language": "python",
      "name": "python3"
    }
  },
  "cells": [
    {
      "cell_type": "markdown",
      "metadata": {
        "id": "view-in-github",
        "colab_type": "text"
      },
      "source": [
        "<a href=\"https://colab.research.google.com/github/rick1270/DS-Sprint-02-Storytelling-With-Data/blob/master/RClayton_LS_DS_124_Sequence_your_narrative_LESSON_SOLUTION.ipynb\" target=\"_parent\"><img src=\"https://colab.research.google.com/assets/colab-badge.svg\" alt=\"Open In Colab\"/></a>"
      ]
    },
    {
      "metadata": {
        "id": "JbDHnhet8CWy",
        "colab_type": "text"
      },
      "cell_type": "markdown",
      "source": [
        "_Lambda School Data Science_\n",
        "\n",
        "# Sequence your narrative\n",
        "\n",
        "Create a sequence of visualizations inspired by [Hans Rosling's 200 Countries, 200 Years, 4 Minutes](https://www.youtube.com/watch?v=jbkSRLYSojo).\n",
        "\n",
        "Using this [data from Gapminder](https://github.com/open-numbers/ddf--gapminder--systema_globalis/):\n",
        "- https://raw.githubusercontent.com/open-numbers/ddf--gapminder--systema_globalis/master/ddf--datapoints--income_per_person_gdppercapita_ppp_inflation_adjusted--by--geo--time.csv\n",
        "- https://raw.githubusercontent.com/open-numbers/ddf--gapminder--systema_globalis/master/ddf--datapoints--life_expectancy_years--by--geo--time.csv\n",
        "- https://raw.githubusercontent.com/open-numbers/ddf--gapminder--systema_globalis/master/ddf--datapoints--population_total--by--geo--time.csv\n",
        "- https://raw.githubusercontent.com/open-numbers/ddf--gapminder--systema_globalis/master/ddf--entities--geo--country.csv\n",
        "- https://raw.githubusercontent.com/open-numbers/ddf--gapminder--systema_globalis/master/ddf--concepts.csv"
      ]
    },
    {
      "metadata": {
        "id": "SxTJBgRAW3jD",
        "colab_type": "text"
      },
      "cell_type": "markdown",
      "source": [
        "Variables\n",
        "- Income\n",
        "- Lifespan\n",
        "- Population\n",
        "- Year\n",
        "- Country"
      ]
    },
    {
      "metadata": {
        "id": "3ebEjShbWsIy",
        "colab_type": "text"
      },
      "cell_type": "markdown",
      "source": [
        "## Upgrade Seaborn\n",
        "\n",
        "Make sure you have at least version 0.9.0.\n",
        "\n",
        "In Colab, go to **Restart runtime** after you run the `pip` command."
      ]
    },
    {
      "metadata": {
        "id": "4RSxbu7rWr1p",
        "colab_type": "code",
        "colab": {}
      },
      "cell_type": "code",
      "source": [
        "!pip install --upgrade seaborn"
      ],
      "execution_count": 0,
      "outputs": []
    },
    {
      "metadata": {
        "id": "5sQ0-7JUWyN4",
        "colab_type": "code",
        "colab": {}
      },
      "cell_type": "code",
      "source": [
        "import seaborn as sns\n",
        "sns.__version_"
      ],
      "execution_count": 0,
      "outputs": []
    },
    {
      "metadata": {
        "id": "S2dXWRTFTsgd",
        "colab_type": "text"
      },
      "cell_type": "markdown",
      "source": [
        "## More imports"
      ]
    },
    {
      "metadata": {
        "id": "y-TgL_mA8OkF",
        "colab_type": "code",
        "colab": {}
      },
      "cell_type": "code",
      "source": [
        ""
      ],
      "execution_count": 0,
      "outputs": []
    },
    {
      "metadata": {
        "id": "CZGG5prcTxrQ",
        "colab_type": "text"
      },
      "cell_type": "markdown",
      "source": [
        "## Load & look at data"
      ]
    },
    {
      "metadata": {
        "id": "-uE25LHD8CW0",
        "colab_type": "code",
        "colab": {}
      },
      "cell_type": "code",
      "source": [
        ""
      ],
      "execution_count": 0,
      "outputs": []
    },
    {
      "metadata": {
        "id": "6HYUytvLT8Kf",
        "colab_type": "text"
      },
      "cell_type": "markdown",
      "source": [
        "## Merge data"
      ]
    },
    {
      "metadata": {
        "id": "dhALZDsh9n9L",
        "colab_type": "text"
      },
      "cell_type": "markdown",
      "source": [
        "https://github.com/pandas-dev/pandas/blob/master/doc/cheatsheet/Pandas_Cheat_Sheet.pdf"
      ]
    },
    {
      "metadata": {
        "id": "z6KBarvARP4B",
        "colab_type": "code",
        "colab": {}
      },
      "cell_type": "code",
      "source": [
        ""
      ],
      "execution_count": 0,
      "outputs": []
    },
    {
      "metadata": {
        "id": "4OdEr5IFVdF5",
        "colab_type": "text"
      },
      "cell_type": "markdown",
      "source": [
        "## Explore data"
      ]
    },
    {
      "metadata": {
        "id": "QXrJmqdaVTAz",
        "colab_type": "code",
        "colab": {}
      },
      "cell_type": "code",
      "source": [
        ""
      ],
      "execution_count": 0,
      "outputs": []
    },
    {
      "metadata": {
        "id": "hecscpimY6Oz",
        "colab_type": "text"
      },
      "cell_type": "markdown",
      "source": [
        "## Plot visualization"
      ]
    },
    {
      "metadata": {
        "id": "gtxPFc_rWnKn",
        "colab_type": "code",
        "colab": {}
      },
      "cell_type": "code",
      "source": [
        ""
      ],
      "execution_count": 0,
      "outputs": []
    }
  ]
}